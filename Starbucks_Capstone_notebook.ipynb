{
 "cells": [
  {
   "cell_type": "markdown",
   "metadata": {
    "Collapsed": "false"
   },
   "source": [
    "# Starbucks Capstone Challenge"
   ]
  },
  {
   "cell_type": "markdown",
   "metadata": {
    "Collapsed": "false"
   },
   "source": [
    "- <a id='TOC'>Table of Contents</a>\n",
    "    - <a href='#Intro'>Introduction </a>\n",
    "        - <a href='#Dataset'>Datasets definition </a>\n",
    "        - <a href='#authornote'>Author Notes</a> \n",
    "    - <a href='#sec_0_0'>Section 0: Import Librarys and Data </a>\n",
    "    - <a href='#sec_1_0'>Section 1: Clean and Organizae Data </a>\n",
    "        - <a href='#sec_1_1'>Section 1.1: Match Transcript </a>\n",
    "    - <a href='#sec_2_0'>Section 2: Explore Data </a>\n",
    "        - <a href='#sec_2_1'>Section 2.1: Genreal Exploration </a>\n",
    "        - <a href='#sec_2_2'>Section 2.2: Demographic Histographical Analysis </a>\n",
    "        - <a href='#sec_2_3'>Section 2.3: Exploration of Offer Factors Variables </a>\n",
    "        - <a href='#sec_2_4'>Section 2.3: Exploration of Response Variables </a>\n",
    "    - <a href='#sec_3_0'>Section 4: Analysis </a>\n",
    "        - <a href='#sec_3_1'>Section 3.1: PCA</a>\n",
    "        - <a href='#sec_3_2'>Section 3.2: K-Means</a>\n",
    "        - <a href='#sec_3_3'>Section 3.3: Compare population segments</a>\n",
    "        - <a href='#sec_3_4'>Section 3.4: </a>\n",
    "\n",
    "\n",
    "\n",
    "- Graphs\n",
    "    - Section 2.2: \n",
    "        - <a href='#fig2_2a'>Fig 2.2a: Distribution of Income</br></a>\n",
    "        - <a href='#fig2_2b'>Fig 2.2b: Distribution of Income by Gender</a>\n",
    "        - <a href='#fig2_2c'>Fig 2.2c: Age Distribution by Gender</a>\n",
    "        - <a href='#fig2_2d'>Fig 2.2d: Membership Length by Gender</a>\n",
    "        - <a href='#fig2_2e'>Fig 2.2e: Jointplot: age by income</a>\n",
    "        - <a href='#fig2_2f'>Fig 2.2f: Jointplot: Membership Length by Income</a>\n",
    "        - <a href='#fig2_2g'>Fig 2.2g: Jointplot: age by Membership Length</a>\n",
    "    - Section 2.3: \n",
    "        - <a href='#fig2_3a'>Fig 2.3a: Proportion of offers rcvd by individuals</a>\n",
    "        - <a href='#fig2_3b'>Fig 2.3b: Offer Difficulty Distribution</a>\n",
    "    - Section 2.4\n",
    "        - <a href='#fig2_4a'>Fig 2.4a: Coorelation Heatmap</a>\n",
    "        - <a href='#fig2_4b'>Fig 2.4b: Distibution of Actions Completed by Age</a>\n",
    "        - <a href='#fig2_4c'>Fig 2.4c: Distibution of Actions Completed by Income</a>\n",
    "        - <a href='#fig2_4d'>Fig 2.4d: Actions Completed by Gender </a>\n",
    "        - <a href='#fig2_4e'>Fig 2.4e: Distribution of number of offers per person</a>\n",
    "        - <a href='#fig2_4f'>Fig 2.4f: Distribution of Time of Response to Offers </a>\n",
    "        - <a href='#fig2_4g'>Fig 2.4g: Distribution of Time of Response to Offers (by gender)</a>\n",
    "    - Section 4.3\n",
    "        - <a href='#fig4_3a'>Fig 4.3a</a>\n",
    "        - <a href='#fig4_3b'>Fig 4.3b</a>\n",
    "        - <a href='#fig4_3c'>Fig 4.3c</a>\n",
    "    \n",
    "    "
   ]
  },
  {
   "cell_type": "markdown",
   "metadata": {
    "Collapsed": "false"
   },
   "source": [
    "<a id='Intro'></a>\n",
    "## Introduction  \n",
    "<a href='#TOC'>Jump to top </a>\n",
    "\n",
    "This data set contains simulated data that mimics customer behavior on the Starbucks rewards mobile app. Once every few days, Starbucks sends out an offer to users of the mobile app. An offer can be merely an advertisement for a drink or an actual offer such as a discount or BOGO (buy one get one free). Some users might not receive any offer during certain weeks. \n",
    "\n",
    "Not all users receive the same offer, and that is the challenge to solve with this data set.\n",
    "\n",
    "**Your task is to combine transaction, demographic and offer data to determine which demographic groups respond best to which offer type** This data set is a simplified version of the real Starbucks app because the underlying simulator only has one product whereas Starbucks actually sells dozens of products.\n",
    "\n",
    "Every offer has a validity period before the offer expires. As an example, a BOGO offer might be valid for only 5 days. You'll see in the data set that informational offers have a validity period even though these ads are merely providing information about a product; for example, if an informational offer has 7 days of validity, you can assume the customer is feeling the influence of the offer for 7 days after receiving the advertisement.\n",
    "\n",
    "You'll be given transactional data showing user purchases made on the app including the timestamp of purchase and the amount of money spent on a purchase. This transactional data also has a record for each offer that a user receives as well as a record for when a user actually views the offer. There are also records for when a user completes an offer. \n",
    "\n",
    "Keep in mind as well that someone using the app might make a purchase through the app without having received an offer or seen an offer.\n",
    "\n",
    "### Example\n",
    "\n",
    "To give an example, a user could receive a discount offer buy 10 dollars get 2 off on Monday. The offer is valid for 10 days from receipt. If the customer accumulates at least 10 dollars in purchases during the validity period, the customer completes the offer.\n",
    "\n",
    "However, there are a few things to watch out for in this data set. Customers do not opt into the offers that they receive; in other words, a user can receive an offer, never actually view the offer, and still complete the offer. For example, a user might receive the \"buy 10 dollars get 2 dollars off offer\", but the user never opens the offer during the 10 day validity period. The customer spends 15 dollars during those ten days. There will be an offer completion record in the data set; however, the customer was not influenced by the offer because the customer never viewed the offer.\n",
    "\n",
    "### Cleaning\n",
    "\n",
    "This makes data cleaning especially important and tricky.\n",
    "\n",
    "You'll also want to take into account that some demographic groups will make purchases even if they don't receive an offer. From a business perspective, if a customer is going to make a 10 dollar purchase without an offer anyway, you wouldn't want to send a buy 10 dollars get 2 dollars off offer. You'll want to try to assess what a certain demographic group will buy when not receiving any offers.\n",
    "\n",
    "### Final Advice\n",
    "\n",
    "Because this is a capstone project, you are free to analyze the data any way you see fit. For example, you could build a machine learning model that predicts how much someone will spend based on demographics and offer type. Or you could build a model that predicts whether or not someone will respond to an offer. Or, you don't need to build a machine learning model at all. You could develop a set of heuristics that determine what offer you should send to each customer (i.e., 75 percent of women customers who were 35 years old responded to offer A vs 40 percent from the same demographic to offer B, so send offer A)."
   ]
  },
  {
   "cell_type": "markdown",
   "metadata": {
    "Collapsed": "false"
   },
   "source": [
    "<a id='Dataset'></a>\n",
    "\n",
    "### Data Sets\n",
    "<a href='#TOC'>Jump to top </a>\n",
    "\n",
    "The data is contained in three files:\n",
    "\n",
    "* portfolio.json - containing offer ids and meta data about each offer (duration, type, etc.)\n",
    "* profile.json - demographic data for each customer\n",
    "* transcript.json - records for transactions, offers received, offers viewed, and offers completed\n",
    "\n",
    "Here is the schema and explanation of each variable in the files:\n",
    "\n",
    "**portfolio.json**\n",
    "* id (string) - offer id\n",
    "* offer_type (string) - type of offer ie BOGO, discount, informational\n",
    "* difficulty (int) - minimum required spend to complete an offer\n",
    "* reward (int) - reward given for completing an offer\n",
    "* duration (int) - time for offer to be open, in days\n",
    "* channels (list of strings)\n",
    "\n",
    "**profile.json**\n",
    "* age (int) - age of the customer \n",
    "* became_member_on (int) - date when customer created an app account\n",
    "* gender (str) - gender of the customer (note some entries contain 'O' for other rather than M or F)\n",
    "* id (str) - customer id\n",
    "* income (float) - customer's income\n",
    "\n",
    "**transcript.json**\n",
    "* event (str) - record description (ie transaction, offer received, offer viewed, etc.)\n",
    "* person (str) - customer id\n",
    "* time (int) - time in hours since start of test. The data begins at time t=0\n",
    "* value - (dict of strings) - either an offer id or transaction amount depending on the record\n"
   ]
  },
  {
   "cell_type": "markdown",
   "metadata": {
    "Collapsed": "false"
   },
   "source": [
    "<a id='authornote'></a>\n",
    "### Author Notes"
   ]
  },
  {
   "cell_type": "markdown",
   "metadata": {
    "Collapsed": "false"
   },
   "source": [
    "Expanded notes on thought process are contained in <a href='Notes.ipynb'>Notes.ipynb Jupyter notebook</a> which is stored in the same directory"
   ]
  },
  {
   "cell_type": "markdown",
   "metadata": {
    "Collapsed": "false"
   },
   "source": [
    "<a id='sec_0_0'></a>\n",
    "## 0. Import Librarys and Data\n",
    "<a href='#TOC'>Jump to top </a>"
   ]
  },
  {
   "cell_type": "code",
   "execution_count": null,
   "metadata": {},
   "outputs": [],
   "source": [
    "import pandas as pd\n",
    "import numpy as np\n",
    "import math\n",
    "from tqdm import tqdm\n",
    "tqdm.pandas()\n",
    "import json\n",
    "import graphviz\n",
    "import importlib\n",
    "from sklearn.preprocessing import MultiLabelBinarizer\n",
    "from sklearn.preprocessing import MinMaxScaler\n",
    "from sklearn.preprocessing import StandardScaler\n",
    "from sklearn.cluster import KMeans\n",
    "from sklearn.metrics import silhouette_score\n",
    "\n",
    "from sklearn.decomposition import PCA\n",
    "import sklearn.metrics as met\n",
    "from scipy import stats\n",
    "import matplotlib.pyplot as plt\n",
    "import seaborn as sns\n",
    "from statsmodels.stats.proportion import proportions_ztest\n",
    "import time\n",
    "import pickle\n",
    "from joblib import dump, load\n",
    "from sklearn.tree import export_graphviz\n",
    "from subprocess import call\n",
    "from graphviz import render\n",
    "from sklearn import tree\n",
    "import os\n",
    "import graphviz\n",
    "import visuals_new as vs  # Not written by author: Provied as part of CharityML project\n",
    "from sklearn.decomposition import PCA\n",
    "%matplotlib inline\n"
   ]
  },
  {
   "cell_type": "code",
   "execution_count": 182,
   "metadata": {},
   "outputs": [],
   "source": [
    "import SB_CAP_fcns as sbFcn"
   ]
  },
  {
   "cell_type": "code",
   "execution_count": 185,
   "metadata": {},
   "outputs": [
    {
     "data": {
      "text/plain": [
       "<module 'SB_CAP_fcns' from 'C:\\\\Users\\\\thoma\\\\Documents\\\\Udacity\\\\StarbucksCapstone\\\\SB_CAP_fcns.py'>"
      ]
     },
     "execution_count": 185,
     "metadata": {},
     "output_type": "execute_result"
    }
   ],
   "source": [
    "importlib.reload(sbFcn)"
   ]
  },
  {
   "cell_type": "markdown",
   "metadata": {},
   "source": []
  },
  {
   "cell_type": "code",
   "execution_count": 186,
   "metadata": {
    "Collapsed": "false"
   },
   "outputs": [],
   "source": [
    "# read in the json files\n",
    "portfolio = pd.read_json('data/portfolio.json', orient='records', lines=True)\n",
    "profile = pd.read_json('data/profile.json', orient='records', lines=True)\n",
    "transcript = pd.read_json('data/transcript.json', orient='records', lines=True)"
   ]
  },
  {
   "cell_type": "markdown",
   "metadata": {
    "Collapsed": "false"
   },
   "source": [
    "<a id='sec_1_0'></a>\n",
    "## 1. Clean and Organize Data\n",
    "\n",
    "<a href='#TOC'>Jump to top </a>"
   ]
  },
  {
   "cell_type": "code",
   "execution_count": null,
   "metadata": {
    "Collapsed": "false"
   },
   "outputs": [],
   "source": [
    "## Are all the missing gender and income on matching rows?\n",
    "(17000-14825)==profile[(profile.gender.isna())&(profile.income.isna())].shape[0]"
   ]
  },
  {
   "cell_type": "code",
   "execution_count": null,
   "metadata": {
    "Collapsed": "false"
   },
   "outputs": [],
   "source": [
    "def organize_raw_data(portfolio=portfolio,profile=profile,transcript=transcript):\n",
    "    ''' This function organizes the raw data via setting datatype, setting indexes, and onehotencoding\n",
    "    input: Startbuck challenge raw dataframes: portfolio,profile, and transcrips\n",
    "    \n",
    "    output: (7 dataframes, 3 revised originals and 4 which are filtered versions of transcript)\n",
    "    portfolio_new: portfolio (one hot encoded channels, some column renames)\n",
    "    profile_new: cleaned profile (member start date to datetime, one hot encoded gender)\n",
    "    transcript_new: cleaned transcript \n",
    "        (value dict-> one hot encoded event type, \n",
    "        amount(spend), reward(completion), offer_id(offers,view/complte))\n",
    "    t_offer: transcript_new filtered:offers only\n",
    "    t_viewed: transcript_new filtered:viewed only\n",
    "    t_trans: transcript_new filtered:transactions only\n",
    "    t_compl: transcript_new filtered:complteted offers only\n",
    "    \n",
    "    '''\n",
    "    \n",
    "    \n",
    "    ############### Portfolio\n",
    "    portfolio.rename(columns={'id':'offer_id'},inplace=True) # match other table\n",
    "    \n",
    "    # one hot encode channels\n",
    "    mlb = MultiLabelBinarizer() \n",
    "    portfolio = portfolio.join(pd.DataFrame(mlb.fit_transform(portfolio.pop('channels')),\n",
    "                          columns=mlb.classes_,\n",
    "                          index=portfolio.index))\n",
    "    portfolio = portfolio.merge(pd.get_dummies(portfolio['offer_type'],prefix='offer',prefix_sep='_'),left_index=True,right_index=True)\n",
    "    #portfolio.drop(columns='offer_type',inplace=True)\n",
    "    # Since offer_id is unique, we can use that as an index\n",
    "    portfolio.set_index('offer_id')\n",
    "    \n",
    "    ############### Profile\n",
    "    #Split/Drop N/A  - approx 13% of profile data was missing gender and income, the rows missing gender also are missing income.\n",
    "    #  Will look to see if there are any differences later on\n",
    "    profile_na = profile[profile.gender.isna()]\n",
    "    #profile = profile.dropna(axis = 0)  - Will be doing this later so the profile N/A lines will be processed\n",
    "    \n",
    "    #Convert to datetime\n",
    "    profile.loc[:,'became_member_on']=pd.to_datetime(profile['became_member_on'],format='%Y%m%d')\n",
    "    \n",
    "    #one hot encode gender\n",
    "    profile = profile.merge(pd.get_dummies(profile['gender'],prefix='gender',prefix_sep='_'),left_index=True,right_index=True)\n",
    "    \n",
    "    #provides a relative length of membership based on the latest membership join.\n",
    "    profile['memb_leng'] = (profile.became_member_on.max()-profile.became_member_on).dt.days.astype(float)/(365.25/12)\n",
    "    \n",
    "    # Since id is unique, we can use that as an index\n",
    "    profile.set_index('id',inplace=True)\n",
    "    \n",
    "    ################# Transcript\n",
    "    \n",
    "    # expand dict in 'value' to its own columns per dict key\n",
    "    transcript = transcript.merge(transcript.value.apply(pd.Series),left_index=True,right_index=True)\n",
    "    \n",
    "    # cleaning up 'offer_id' and 'offer id', so as there is a single column\n",
    "    transcript.loc[transcript['offer_id'].isna(),'offer_id'] = transcript[transcript['offer_id'].isna()]['offer id']\n",
    "    \n",
    "    #one hot encode event (transaction type)\n",
    "    transcript = transcript.merge(pd.get_dummies(transcript['event'],prefix='event',prefix_sep='_'),left_index=True, right_index=True)\n",
    "    transcript.drop(columns = ['offer id','value'],inplace=True)\n",
    "    \n",
    "    transcript = transcript[transcript['person'].isin(profile.index)].reset_index()\n",
    "    \n",
    "    #break apart into sub-df based on transaction tyle\n",
    "    t_offer = transcript[transcript['event']=='offer received']\n",
    "    t_viewed = transcript[transcript['event']=='offer viewed']\n",
    "    t_trans = transcript[transcript['event']=='transaction']\n",
    "    t_compl = transcript[transcript['event']=='offer completed']\n",
    "    \n",
    "    return portfolio,profile,profile_na,transcript,t_offer,t_viewed,t_trans,t_compl"
   ]
  },
  {
   "cell_type": "code",
   "execution_count": null,
   "metadata": {
    "Collapsed": "false"
   },
   "outputs": [],
   "source": [
    "portfolio_new,profile_new,profile_na,transcript_new,t_offer,t_viewed,t_trans,t_compl = organize_raw_data()"
   ]
  },
  {
   "cell_type": "markdown",
   "metadata": {
    "Collapsed": "false"
   },
   "source": [
    "<a href='#pick_load'>Jump to the latest pickle load checkpoint</a>"
   ]
  },
  {
   "cell_type": "code",
   "execution_count": null,
   "metadata": {
    "Collapsed": "false"
   },
   "outputs": [],
   "source": [
    "transcript_new[transcript_new['event']=='transaction'].head()"
   ]
  },
  {
   "cell_type": "code",
   "execution_count": null,
   "metadata": {
    "Collapsed": "false"
   },
   "outputs": [],
   "source": [
    "print('portfolio:', portfolio.shape)\n",
    "print('portfolio_new',portfolio_new.shape)\n",
    "print('profile',profile.shape)\n",
    "print('profile_new', profile_new.shape)\n",
    "print('transcript',transcript.shape)\n",
    "print('transcript_new',transcript_new.shape)\n",
    "print('t_offer',t_offer.shape)\n",
    "print('t_viewed',t_viewed.shape)\n",
    "print('t_compl',t_compl.shape)\n",
    "print('t_trans',t_trans.shape)\n"
   ]
  },
  {
   "cell_type": "code",
   "execution_count": null,
   "metadata": {},
   "outputs": [],
   "source": [
    "print(profile.income.mean(),\n",
    "profile[profile.gender=='M'].income.mean(),\n",
    "profile[profile.gender=='F'].income.mean(),\n",
    "profile[profile.gender=='O'].income.mean())"
   ]
  },
  {
   "cell_type": "markdown",
   "metadata": {
    "Collapsed": "false"
   },
   "source": [
    "<a id='sec_1_1'></a>\n",
    "### 1.1 Matching Events\n",
    "<a href='#TOC'>Jump to top </a>\n",
    "\n",
    "The purpose of this section is to match pertinent events to thier respective offer.  So you have one row representing a series of events.\n",
    "- All counted views are performed within the time window: time (of offer) + duration of offer\n",
    "- All counted transactions are performed within the time window and after they view the offer.\n",
    "- All rewards occur within time wintow"
   ]
  },
  {
   "cell_type": "code",
   "execution_count": null,
   "metadata": {
    "Collapsed": "false"
   },
   "outputs": [],
   "source": [
    "###Lookup the duration of each offer and convert to hours to match offer time data.\n",
    "###and create a time end\n",
    "\n",
    "t_matched = pd.merge(t_offer,portfolio[['offer_id','duration']],on=['offer_id'],how='left')\n",
    "t_matched['duration'] =t_matched['duration'].progress_apply(lambda x: x*24)\n",
    "t_matched['time_end'] = t_matched['time'] + t_matched['duration']\n",
    "\n",
    "\n",
    "###\n",
    "### Merge view transcripts!\n",
    "###\n",
    "\n",
    "def id_viewed(row):\n",
    "    ''' matches up offers and views by same person and offer within time limit.   \n",
    "    Marks offer/person/time as viewed and notes the time of the view.\n",
    "    \n",
    "    input: df row per pd.apply()\n",
    "    output: updated df row \n",
    "    '''\n",
    "    for idx,trn in t_viewed[(t_viewed.person == row.person)&(t_viewed.offer_id == row.offer_id)].sort_values(by='time').iterrows():\n",
    "        if (trn.time >= row.time) & (trn.time < row.time_end ):\n",
    "            row['event_offer viewed'] = 1\n",
    "            row['time_viewed'] = trn['time']\n",
    "            return row\n",
    "    return row\n",
    "\n",
    "t_matched = t_matched.progress_apply(id_viewed,axis=1)\n",
    "\n",
    "###\n",
    "### merge transaction transcript!\n",
    "###\n",
    "\n",
    "t_matched['trans_time'] = np.nan\n",
    "#t_matched['trans_index'] = np.nan  # Vestigal\n",
    "t_matched['trans_spend'] = np.nan\n",
    "\n",
    "\n",
    "def scrub_trans(row):\n",
    "    '''\n",
    "    Matches transactions to offer based on the following conditions\n",
    "    - person matches\n",
    "    - transaction was made after offer was made\n",
    "    - transaction was viewed\n",
    "    - transaction was made after the offer was viewed\n",
    "    - transaction was made before offer expired.\n",
    "    '''\n",
    "    #print(row['person'])\n",
    "    for idx,trn in t_trans[t_trans.person == row.person].sort_values(by='time').iterrows():\n",
    "        if (trn.time >= row.time) & (row['event_offer viewed']==1) &(trn.time < row.time_end ) & (trn.time >= row.time_viewed):\n",
    "            row['event_transaction'] = 1\n",
    "            row['trans_time'] = trn['time']\n",
    "            row['trans_spend'] = trn['amount']\n",
    "            return row\n",
    "    return row\n",
    " \n",
    "\n",
    "t_matched = t_matched.progress_apply(scrub_trans,axis=1)\n",
    "\n",
    "\n",
    "\n",
    "###\n",
    "### Merge completed transactions\n",
    "###\n",
    "\n",
    "t_matched['reward'] = np.nan\n",
    "\n",
    "def scrub_compl(row):\n",
    "    '''   \n",
    "    Runs through the t_offer dataframe and marks offer as complete under the following contionds\n",
    "    \n",
    "\n",
    "    marks the offer complete if\n",
    "    - person and offer match\n",
    "    - \n",
    "    \n",
    "    input: df row per pd.apply() function\n",
    "    '''\n",
    "    for idx,trn in t_compl[(t_compl.person == row.person)&(t_compl.offer_id == row.offer_id)].sort_values(by='time').iterrows():\n",
    "        if (trn.time >= row.time) & (trn.time < row.time_end ):\n",
    "            row['event_offer completed'] = 1\n",
    "            row['reward'] = trn.reward\n",
    "            \n",
    "            return row\n",
    "    return row\n",
    " \n",
    "\n",
    "t_matched = t_matched.progress_apply(scrub_compl,axis=1)"
   ]
  },
  {
   "cell_type": "code",
   "execution_count": null,
   "metadata": {
    "Collapsed": "false"
   },
   "outputs": [],
   "source": [
    "\n",
    "\n",
    "###\n",
    "### Save df to pickle\n",
    "###\n",
    "\n",
    "t_matched.to_pickle('combined_trans.pkl')"
   ]
  },
  {
   "cell_type": "code",
   "execution_count": null,
   "metadata": {
    "Collapsed": "false"
   },
   "outputs": [],
   "source": [
    "events = pd.read_pickle('combined_trans.pkl')"
   ]
  },
  {
   "cell_type": "markdown",
   "metadata": {
    "Collapsed": "false"
   },
   "source": [
    "**Combine profile and portfolio information to each line**"
   ]
  },
  {
   "cell_type": "code",
   "execution_count": null,
   "metadata": {
    "Collapsed": "false"
   },
   "outputs": [],
   "source": [
    "# Merge pertinant fields from profile\n",
    "prof_merge_col = ['age','income','gender','gender_F',\n",
    "       'gender_M', 'gender_O', 'memb_leng']\n",
    "\n",
    "events = events.merge(profile_new[prof_merge_col],how='left',left_on='person',right_on=profile_new.index)\n",
    "\n",
    "# Merge pertinant fields from portfolio\n",
    "\n",
    "port_merge_col = ['difficulty', 'offer_id', 'email', 'mobile',\n",
    "       'social', 'web', 'offer_bogo', 'offer_discount',\n",
    "       'offer_informational','reward']\n",
    "\n",
    "events = events.merge(portfolio_new[port_merge_col],on='offer_id')\n",
    "events.rename(columns={'reward_x':'reward_rcvd','reward_y':'reward_offd'},inplace=True)\n",
    "\n",
    "#Other\n",
    "events.drop(columns='amount',inplace=True)\n",
    "events.rename(columns={'event_offer completed':'event_offer_completed','event_offer received':'event_offer_received','event_offer viewed':'event_offer_viewed'},inplace=True)"
   ]
  },
  {
   "cell_type": "code",
   "execution_count": null,
   "metadata": {},
   "outputs": [],
   "source": [
    "events.info()"
   ]
  },
  {
   "cell_type": "markdown",
   "metadata": {
    "Collapsed": "false"
   },
   "source": [
    "**N/A Strategy**\n",
    "\n",
    "There are five columns with N/A in the data\n",
    "    - time_viewed\n",
    "    - trans_time\n",
    "    - trans_spend\n",
    "    - reward\n",
    "    - income\n",
    "    - gender\n",
    "    \n",
    "    1) time_viewed and trans_time are response variables (y) for those who completed those tasks.  I will remove these from the dataset for any predictive modeling\n",
    "    2) Income and gender are omitted on appox 13% of records.  Important  to note that the income and gender are all missing from the same lines. Will remove these later when pertinant\n",
    "    3) trans_spend and reward should be zero,because if there was no transaction there was no spend nor reward"
   ]
  },
  {
   "cell_type": "code",
   "execution_count": null,
   "metadata": {
    "Collapsed": "false"
   },
   "outputs": [],
   "source": [
    "##mod\n",
    "events.trans_spend.fillna(value=0,inplace=True)\n",
    "events.reward_rcvd.fillna(value=0,inplace=True)"
   ]
  },
  {
   "cell_type": "code",
   "execution_count": null,
   "metadata": {},
   "outputs": [],
   "source": []
  },
  {
   "cell_type": "code",
   "execution_count": null,
   "metadata": {
    "Collapsed": "false"
   },
   "outputs": [],
   "source": [
    "events.to_pickle('events_merged.pkl')"
   ]
  },
  {
   "cell_type": "markdown",
   "metadata": {
    "Collapsed": "false"
   },
   "source": [
    "<a id='pick_load'> Pickle Load</a>\n"
   ]
  },
  {
   "cell_type": "code",
   "execution_count": null,
   "metadata": {
    "Collapsed": "false"
   },
   "outputs": [],
   "source": [
    "events_merged = pd.read_pickle('events_merged.pkl')"
   ]
  },
  {
   "cell_type": "code",
   "execution_count": null,
   "metadata": {},
   "outputs": [],
   "source": [
    "def norm_and_std(df):\n",
    "    from sklearn.preprocessing import MinMaxScaler\n",
    "    from sklearn.preprocessing import StandardScaler\n",
    "    '''This will create a copy of the df with standardized and normalzied columns'''\n",
    "   \n",
    "    ## non-boolean columns\n",
    "    ''''', 'event', 'index', 'offer_id',\n",
    "       'person', 'reward', 'time', 'time_end', 'time_viewed', 'trans_time',\n",
    "       'trans_spend', 'age', 'income', 'gender', 'gender_F', 'gender_M',\n",
    "       'gender_O', 'memb_leng', 'difficulty', 'email', 'mobile', 'social',\n",
    "       'web', 'offer_bogo', 'offer_discount', 'offer_informational', 't_std',\n",
    "       'time_viewed', 'trans_time'\n",
    "    '''\n",
    "    '''\n",
    "    '''\n",
    "    ## Normalize ##########################\n",
    "    '''duration,reward,'time', 'time_end', 'time_viewed', 'trans_time',\n",
    "       'trans_spend',difficulty\n",
    "    '''\n",
    "    \n",
    "    ## Standardize\n",
    "    ''''age', 'income','memb_leng'\n",
    "    '''\n",
    "    ## Drop\n",
    "    '''event,index,offer_id,person,'gender' '''\n",
    "    ## Bool\n",
    "    '''\n",
    "    'gender_F', 'gender_M',\n",
    "       'gender_O,'email', 'mobile', 'social',\n",
    "       'web', 'offer_bogo', 'offer_discount', 'offer_informational', 't_std'\n",
    "       '''\n",
    "    \n",
    "    df2 = df.copy()\n",
    "    \n",
    "    ## Drop\n",
    "    drop_na_cols = ['age','income','gender']\n",
    "    df2.dropna(subset=drop_na_cols,inplace=True)\n",
    "    \n",
    "    drop_cols = ['event','index','offer_id','person','gender']\n",
    "    df2.drop(drop_cols,inplace=True,axis=1)\n",
    "    \n",
    "    #Normalize time series data\n",
    "    #I am normalizing this to the timescale of the individual offer.\n",
    "    \n",
    "    df2.loc[:,'time_viewed'] = (df2.time_viewed - df2.time) / (df2.time_end - df2.time )\n",
    "    df2.loc[:,'trans_time'] = (df2.trans_time - df2.time) / (df2.time_end - df2.time )\n",
    "    df2.loc[:,'time'] = (df2.time)/df2.time.max()\n",
    "    \n",
    "    #Normalizing since relative magnitude is important for these.\n",
    "    mm_scaler = MinMaxScaler()\n",
    "    df2[['difficulty','reward_rcvd','reward_offd','duration']] = mm_scaler.fit_transform(df2[['difficulty','reward_rcvd','reward_offd','duration']])\n",
    "    \n",
    "    ## Standardize\n",
    "    s_scaler = StandardScaler()\n",
    "    std_cols = ['age', 'income','memb_leng']\n",
    "    df2[std_cols] = s_scaler.fit_transform(df2[std_cols])\n",
    "    \n",
    "  \n",
    "    \n",
    "    ## Standardize\n",
    "    # Columns: \n",
    "    # New Colun\n",
    "    return df2"
   ]
  },
  {
   "cell_type": "code",
   "execution_count": null,
   "metadata": {},
   "outputs": [],
   "source": [
    "events_merged_std = norm_and_std(events_merged)"
   ]
  },
  {
   "cell_type": "code",
   "execution_count": null,
   "metadata": {},
   "outputs": [],
   "source": [
    "events_merged_nona = events_merged.dropna(subset=['age','gender','income'])"
   ]
  },
  {
   "cell_type": "code",
   "execution_count": null,
   "metadata": {},
   "outputs": [],
   "source": [
    "events_merged_nona.to_pickle('events_merged_nona.pkl')"
   ]
  },
  {
   "cell_type": "code",
   "execution_count": null,
   "metadata": {},
   "outputs": [],
   "source": [
    "events_merged_nona = pd.read_pickle('events_merged_nona.pkl')"
   ]
  },
  {
   "cell_type": "markdown",
   "metadata": {
    "Collapsed": "false"
   },
   "source": [
    "<a id='pickleload'></a>"
   ]
  },
  {
   "cell_type": "markdown",
   "metadata": {
    "Collapsed": "false"
   },
   "source": [
    "<a id='sec_2_0'></a>\n",
    "## Section 2.0: Explore Data\n",
    "<a href='#TOC'>Jump to top</a>"
   ]
  },
  {
   "cell_type": "markdown",
   "metadata": {
    "Collapsed": "false"
   },
   "source": [
    "<a id='sec_2_1'></a>\n",
    "### Section 2.1: General Exploration\n",
    "<a href='#TOC'>Jump to top</a>"
   ]
  },
  {
   "cell_type": "code",
   "execution_count": null,
   "metadata": {
    "Collapsed": "false"
   },
   "outputs": [],
   "source": [
    "print(events_merged[['event_offer_received','event_offer_viewed','event_transaction','event_offer_completed']].sum())\n",
    "\n",
    "tot_offers = events_merged.event_offer_received.sum()\n",
    "tot_off_viewed = events_merged.event_offer_viewed.sum()\n",
    "tot_off_purchased = events_merged.event_transaction.sum()\n",
    "tot_off_rewarded = events_merged.event_offer_completed.sum()\n",
    "\n",
    "\n",
    "\n",
    "tot_sum_purch = events_merged.trans_spend.sum()\n",
    "#tot_sum_reward = events_merged.reward.sum()\n",
    "\n",
    "\n",
    "print('Percentage viewed : {0:.2f}%'.format(100* tot_off_viewed/tot_offers))\n",
    "print('Percentage offers purchased : {0:.2f}%'.format(100*tot_off_purchased/tot_offers))\n",
    "print('Percentage offers completed : {0:.2f}%'.format(100*tot_off_rewarded/tot_offers))\n",
    "print('Percentage offers viewed puchased : {0:.2f}%'.format(100*tot_off_purchased/tot_off_viewed))\n",
    "print('Percentage offers viewed rewarded : {0:.2f}%'.format(100*tot_off_rewarded/tot_off_viewed))\n",
    "print('Percentage of offers that were rewarded  : {0:.2f}%'.format(100*tot_off_rewarded/tot_off_purchased))\n",
    "print('Percentage of purchases that were rewarded  : {0:.2f}%'.format(100*tot_off_rewarded/tot_off_purchased))"
   ]
  },
  {
   "cell_type": "code",
   "execution_count": null,
   "metadata": {
    "Collapsed": "false"
   },
   "outputs": [],
   "source": []
  },
  {
   "cell_type": "code",
   "execution_count": null,
   "metadata": {
    "Collapsed": "false"
   },
   "outputs": [],
   "source": []
  },
  {
   "cell_type": "markdown",
   "metadata": {
    "Collapsed": "false"
   },
   "source": [
    "<a id='sec_2_2'></a>\n",
    "### Section 2.2: Demographic Histographical Analysis\n",
    "<a href='#TOC'>Jump to top</a>"
   ]
  },
  {
   "cell_type": "code",
   "execution_count": null,
   "metadata": {
    "Collapsed": "false"
   },
   "outputs": [],
   "source": [
    "# removing the N/A for demographic analysis"
   ]
  },
  {
   "cell_type": "code",
   "execution_count": null,
   "metadata": {},
   "outputs": [],
   "source": []
  },
  {
   "cell_type": "markdown",
   "metadata": {},
   "source": [
    "<a id='fig2_2a'>Fig2.2a</a>"
   ]
  },
  {
   "cell_type": "code",
   "execution_count": null,
   "metadata": {},
   "outputs": [],
   "source": [
    "ax2_2a1 = sns.distplot(events_merged.dropna(subset=['income']).income,bins=25)\n",
    "ax2_2a1.set_title('Fig 2.2a1: Distribution of Income')"
   ]
  },
  {
   "cell_type": "code",
   "execution_count": null,
   "metadata": {
    "Collapsed": "false"
   },
   "outputs": [],
   "source": [
    "ax2_2a1 = sns.distplot(events_merged_std.income,bins=25)\n",
    "ax2_2a1.set_title('Fig 2.2a2: Distribution of Income')"
   ]
  },
  {
   "cell_type": "code",
   "execution_count": null,
   "metadata": {
    "Collapsed": "false"
   },
   "outputs": [],
   "source": [
    "#it appears that there are some groupings in this distribution"
   ]
  },
  {
   "cell_type": "markdown",
   "metadata": {},
   "source": [
    "<a id='fig2_2b'>Fig2.2b</a>"
   ]
  },
  {
   "cell_type": "code",
   "execution_count": null,
   "metadata": {
    "Collapsed": "false"
   },
   "outputs": [],
   "source": [
    "fig_2_2b, (ax22b_0, ax22b_1, ax22b_2, ax22b_3) = plt.subplots(nrows=4, sharex=True,sharey=True, figsize=(8,12));\n",
    "plt.ylim([0,0.000035])\n",
    "fig_2_2b.subplots_adjust(hspace = 0)\n",
    "sns.distplot(events_merged_nona.income,bins=25,ax=ax22b_0)\n",
    "sns.distplot(events_merged_nona[events_merged_nona.gender_M == 1].income,bins=25,ax=ax22b_1)\n",
    "sns.distplot(events_merged_nona[events_merged_nona.gender_F == 1].income,bins=25,ax=ax22b_2)\n",
    "sns.distplot(events_merged_nona[events_merged_nona.gender_O == 1].income,bins=25,ax=ax22b_3)\n",
    "ax22b_0.set_title(\"Fig 2.2b_0: Income Distribution (All)\",y=.8)\n",
    "ax22b_1.set_title(\"Fig 2.2b_1: Income Distribution (Male)\",y=.8)\n",
    "ax22b_2.set_title(\"Fig 2.2b_2: Income Distribution (Female)\",y=.8)\n",
    "ax22b_3.set_title(\"Fig 2.2b_3: Income Distribution (Other)\",y=.8);\n"
   ]
  },
  {
   "cell_type": "markdown",
   "metadata": {
    "Collapsed": "false"
   },
   "source": [
    "There appears to be groupings within the income, that are not related to gender.  It apppears to be 3-5 subgroups.  There are possibly something implit here."
   ]
  },
  {
   "cell_type": "code",
   "execution_count": null,
   "metadata": {},
   "outputs": [],
   "source": [
    "df_income = pd.DataFrame(events_merged_nona.income.describe()).rename(columns={'income':'all'}).transpose()\n",
    "df_income = df_income.append(events_merged_nona[events_merged_nona.gender_M==1].income.describe().transpose())\n",
    "df_income.rename(index={'income':'Male'},inplace=True)\n",
    "df_income = df_income.append(events_merged_nona[events_merged_nona.gender_F==1].income.describe().transpose())\n",
    "df_income.rename(index={'income':'Female'},inplace=True)\n",
    "df_income = df_income.append(events_merged_nona[events_merged_nona.gender_O==1].income.describe().transpose())\n",
    "df_income.rename(index={'income':'Other'},inplace=True)\n",
    "\n",
    "df_income"
   ]
  },
  {
   "cell_type": "markdown",
   "metadata": {},
   "source": [
    "<a id='fig2_2c'>Age Distribution by Gender</a>"
   ]
  },
  {
   "cell_type": "code",
   "execution_count": null,
   "metadata": {
    "Collapsed": "false"
   },
   "outputs": [],
   "source": [
    "fig_2_2c, (ax22c_0, ax22c_1, ax22c_2, ax22c_3) = plt.subplots(nrows=4, sharey= True, sharex=True,figsize=(8,12))\n",
    "plt.ylim([0,0.045])\n",
    "fig_2_2c.subplots_adjust(hspace = 0)\n",
    "#sns.distplot(events_merged.age.dropna(),bins=25,ax=ax2_0)\n",
    "sns.distplot(events_merged_nona.age,bins=25,ax=ax22c_0)\n",
    "sns.distplot(events_merged_nona[events_merged_nona.gender_M == 1].age,bins=25,ax=ax22c_1)\n",
    "sns.distplot(events_merged_nona[events_merged_nona.gender_F == 1].age,bins=25,ax=ax22c_2)\n",
    "sns.distplot(events_merged_nona[events_merged_nona.gender_O == 1].age,bins=25,ax=ax22c_3)\n",
    "ax22c_0.set_title(\"Fig 2.2c_0: Age Distribution (All)\",y=.8)\n",
    "ax22c_1.set_title(\"Fig 2.2c_1: Age Distribution (Male)\",y=.8)\n",
    "ax22c_2.set_title(\"Fig 2.2c_2: Age Distribution (Female)\",y=.8)\n",
    "ax22c_3.set_title(\"Fig 2.2c_3: Age Distribution (Other)\",y=.8);"
   ]
  },
  {
   "cell_type": "code",
   "execution_count": null,
   "metadata": {},
   "outputs": [],
   "source": [
    "df_age = pd.DataFrame(events_merged_nona.age.describe()).rename(columns={'age':'all'}).transpose()\n",
    "df_age = df_age.append(events_merged_nona[events_merged_nona.gender_M==1].age.describe().transpose())\n",
    "df_age.rename(index={'age':'Male'},inplace=True)\n",
    "df_age = df_age.append(events_merged_nona[events_merged_nona.gender_F==1].age.describe().transpose())\n",
    "df_age.rename(index={'age':'Female'},inplace=True)\n",
    "df_age = df_age.append(events_merged_nona[events_merged_nona.gender_O==1].age.describe().transpose())\n",
    "df_age.rename(index={'age':'Other'},inplace=True)\n",
    "\n",
    "df_age"
   ]
  },
  {
   "cell_type": "markdown",
   "metadata": {
    "Collapsed": "false"
   },
   "source": [
    "There does appear to be two groupings here within the data"
   ]
  },
  {
   "cell_type": "markdown",
   "metadata": {},
   "source": [
    "<a id='fig2_2d'>Membership Length by Gender</a>"
   ]
  },
  {
   "cell_type": "code",
   "execution_count": null,
   "metadata": {
    "Collapsed": "false"
   },
   "outputs": [],
   "source": [
    "fig_2_2d, (ax22d_0,ax22d_1, ax22d_2, ax22d_3) = plt.subplots(nrows=4, sharex=True,sharey=True, figsize=(8,12))\n",
    "fig_2_2d.subplots_adjust(hspace = 0)\n",
    "sns.distplot(events_merged_nona.memb_leng,bins=25,ax=ax22d_0)\n",
    "sns.distplot(events_merged_nona[events_merged_nona.gender_M == 1].memb_leng,bins=25,ax=ax22d_1)\n",
    "sns.distplot(events_merged_nona[events_merged_nona.gender_F == 1].memb_leng,bins=25,ax=ax22d_2)\n",
    "sns.distplot(events_merged_nona[events_merged_nona.gender_O == 1].memb_leng,bins=25,ax=ax22d_3)\n",
    "ax22d_0.set_title(\"Fig 2.2 d_0: Membership Length Distribution (All)\",y=.8)\n",
    "ax22d_1.set_title(\"Fig 2.2 d_1: Membership Length Distribution (Male)\",y=.8)\n",
    "ax22d_2.set_title(\"Fig 2.2 d_2: Membership Length Distribution (Female)\",y=.8)\n",
    "ax22d_3.set_title(\"Fig 2.2 d_3: Membership Length Distribution (Other)\",y=.8)"
   ]
  },
  {
   "cell_type": "code",
   "execution_count": null,
   "metadata": {},
   "outputs": [],
   "source": [
    "fig_2_2d2, (ax22d2_0,ax22d2_1, ax22d2_2, ax22d2_3) = plt.subplots(nrows=4, sharex=True,sharey=True, figsize=(8,12))\n",
    "fig_2_2d2.subplots_adjust(hspace = 0)\n",
    "sns.distplot(events_merged_nona.memb_leng,hist_kws=dict(density=True,cumulative=True),bins=25,ax=ax22d2_0)\n",
    "sns.distplot(events_merged_nona[events_merged_nona.gender_M == 1].memb_leng,hist_kws=dict(density=True,cumulative=True),bins=25,ax=ax22d2_1)\n",
    "sns.distplot(events_merged_nona[events_merged_nona.gender_F == 1].memb_leng,hist_kws=dict(density=True,cumulative=True),bins=25,ax=ax22d2_2)\n",
    "sns.distplot(events_merged_nona[events_merged_nona.gender_O == 1].memb_leng,hist_kws=dict(density=True,cumulative=True),bins=25,ax=ax22d2_3)\n",
    "ax22d2_0.set_title(\"Fig 2.2 d_0: Membership Length Distribution (All)\",y=.8)\n",
    "ax22d2_1.set_title(\"Fig 2.2 d_1: Membership Length Distribution (Male)\",y=.8)\n",
    "ax22d2_2.set_title(\"Fig 2.2 d_2: Membership Length Distribution (Female)\",y=.8)\n",
    "ax22d2_3.set_title(\"Fig 2.2 d_3: Membership Length Distribution (Other)\",y=.8)"
   ]
  },
  {
   "cell_type": "markdown",
   "metadata": {
    "Collapsed": "false"
   },
   "source": [
    "There appears to be 3 distinct groups of members based on membership length\n",
    "* members joining between ~38-58months\n",
    "* members joining between ~12-38 months\n",
    "* members joining in last 12 months \n",
    "\n"
   ]
  },
  {
   "cell_type": "markdown",
   "metadata": {},
   "source": [
    "<a id='fig2_2e'>Fig 2.2e: Jointplot: age by income</a>"
   ]
  },
  {
   "cell_type": "code",
   "execution_count": null,
   "metadata": {
    "Collapsed": "false"
   },
   "outputs": [],
   "source": [
    "fig_2_2e = sns.jointplot(x='income',y='age',data=profile_new.dropna(subset=['income','age']),kind=\"kde\")"
   ]
  },
  {
   "cell_type": "code",
   "execution_count": null,
   "metadata": {},
   "outputs": [],
   "source": []
  },
  {
   "cell_type": "markdown",
   "metadata": {
    "Collapsed": "false"
   },
   "source": [
    "Interesting here, the income distributions of younger folks is is limited to the lower end of the range and expandands as age increases.  Also age skews lower."
   ]
  },
  {
   "cell_type": "markdown",
   "metadata": {},
   "source": [
    "<a id='fig2_2f'>Fig 2.2f: Jointplot: Membership Length by Income</a>"
   ]
  },
  {
   "cell_type": "code",
   "execution_count": null,
   "metadata": {
    "Collapsed": "false"
   },
   "outputs": [],
   "source": [
    "fig_2_2f = sns.jointplot(x=profile_new.dropna(subset=['income','age']).income,y=profile_new.dropna(subset=['income','age']).memb_leng,kind=\"kde\")"
   ]
  },
  {
   "cell_type": "markdown",
   "metadata": {
    "Collapsed": "false"
   },
   "source": [
    "It appears that the early and mid adopters tend to be distributed roughly the same as the general population.  "
   ]
  },
  {
   "cell_type": "markdown",
   "metadata": {},
   "source": [
    "<a id='fig2_2g'>Fig 2.2g: Jointplot: age by Membership Length</a>"
   ]
  },
  {
   "cell_type": "code",
   "execution_count": null,
   "metadata": {
    "Collapsed": "false"
   },
   "outputs": [],
   "source": [
    "fig_2_2g = sns.jointplot(x='memb_leng',y='age',data=profile_new.dropna(subset=['income','age']),kind=\"kde\")"
   ]
  },
  {
   "cell_type": "markdown",
   "metadata": {
    "Collapsed": "false"
   },
   "source": [
    "<a id='sec_2_3'></a>\n",
    "## Section 2.3: Explore Offer Factors\n",
    "<a href='#TOC'>Jump to top</a>"
   ]
  },
  {
   "cell_type": "markdown",
   "metadata": {},
   "source": [
    "What do we want to know about the study factors?\n",
    "- Person\n",
    "    - [X] What is the distribution of offers\n",
    "- Offer_Id (there are 10 offer ids)\n",
    "    - [X] How many offers were made of each ID?\n",
    "    - [X] How many offers were made to each person, on average?\n",
    "- Difficulty\n",
    "    - [X] What was the representative range of difficulty?  avg offer vs avg person?\n",
    "- Distribution Method\n",
    "    - [X]  \n",
    "- Offer Type\n",
    "    - [ ] \n",
    "- Reward\n",
    "    "
   ]
  },
  {
   "cell_type": "code",
   "execution_count": null,
   "metadata": {},
   "outputs": [],
   "source": [
    "events_merged.pivot_table(values = 'event_offer_received', index='person',columns='offer_id',aggfunc='count',fill_value=0).sum(axis=0)"
   ]
  },
  {
   "cell_type": "code",
   "execution_count": null,
   "metadata": {},
   "outputs": [],
   "source": [
    "profile.shape[0]"
   ]
  },
  {
   "cell_type": "code",
   "execution_count": null,
   "metadata": {},
   "outputs": [],
   "source": [
    "events_merged.pivot_table(values = 'event_offer_received', index='person',columns='offer_id',aggfunc='count',fill_value=0).sum(axis=1).mean()"
   ]
  },
  {
   "cell_type": "markdown",
   "metadata": {},
   "source": [
    "<a id='fig2_3a'>Fig2.3a: Proportion of offers rcvd by individuals</a>"
   ]
  },
  {
   "cell_type": "code",
   "execution_count": null,
   "metadata": {},
   "outputs": [],
   "source": [
    "fig_2_3a = sns.distplot(events_merged.pivot_table(values = 'event_offer_received', index='person',columns='offer_id',aggfunc='count',fill_value=0).mean(axis=1))\n",
    "fig_2_3a.set_title(\"Fig 2.3a: Distribution of the proportion of offers an individual recieved\")"
   ]
  },
  {
   "cell_type": "code",
   "execution_count": null,
   "metadata": {},
   "outputs": [],
   "source": [
    "events_merged.pivot_table(values = 'event_offer_received', index='person',columns='offer_id',aggfunc='count',fill_value=0).mean(axis=1).mode()"
   ]
  },
  {
   "cell_type": "markdown",
   "metadata": {},
   "source": [
    "<a id='fig2_3b'>Fig2.3b: Offer Difficulty Distribution</a>"
   ]
  },
  {
   "cell_type": "code",
   "execution_count": null,
   "metadata": {},
   "outputs": [],
   "source": [
    "print(\"Average Offer Difficulty: \",portfolio_new.difficulty.mean())\n",
    "\n",
    "fig_2_3b = sns.distplot(events_merged.pivot_table(values = 'difficulty', index='person',columns='offer_id',aggfunc='mean').mean(axis=1))\n",
    "fig_2_3b.set_title(\"Fig 2.3b: Distribution of average (by person) offer difficulty\")"
   ]
  },
  {
   "cell_type": "code",
   "execution_count": null,
   "metadata": {},
   "outputs": [],
   "source": [
    "portfolio_new"
   ]
  },
  {
   "cell_type": "markdown",
   "metadata": {
    "Collapsed": "false"
   },
   "source": [
    "<a id='sec_2_4'></a>\n",
    "## Section 2.4: Explore Response Variable\n",
    "<a href='#TOC'>Jump to top</a>"
   ]
  },
  {
   "cell_type": "code",
   "execution_count": null,
   "metadata": {
    "Collapsed": "false"
   },
   "outputs": [],
   "source": [
    "print(events_merged[['event_offer_received','event_offer_viewed','event_transaction','event_offer_completed']].sum())\n",
    "\n",
    "tot_offers = events_merged.event_offer_received.sum()\n",
    "tot_off_viewed = events_merged.event_offer_viewed.sum()\n",
    "tot_off_purchased = events_merged.event_transaction.sum()\n",
    "tot_off_rewarded = events_merged.event_offer_completed.sum()\n",
    "\n",
    "\n",
    "\n",
    "tot_sum_purch = events_merged.trans_spend.sum()\n",
    "#tot_sum_reward = events_merged.reward.sum()\n",
    "\n",
    "\n",
    "print('Percentage viewed : {0:.2f}%'.format(100* tot_off_viewed/tot_offers))\n",
    "print('Percentage offers purchased : {0:.2f}%'.format(100*tot_off_purchased/tot_offers))\n",
    "print('Percentage offers viewed puchased : {0:.2f}%'.format(100*tot_off_purchased/tot_off_viewed))\n",
    "print('Percentage of offers that were rewarded  : {0:.2f}%'.format(100*tot_off_rewarded/tot_off_purchased))\n",
    "print('Percentage of purchases that were rewarded  : {0:.2f}%'.format(100*tot_off_rewarded/tot_off_purchased))"
   ]
  },
  {
   "cell_type": "markdown",
   "metadata": {
    "Collapsed": "false"
   },
   "source": []
  },
  {
   "cell_type": "markdown",
   "metadata": {
    "Collapsed": "false"
   },
   "source": [
    "First lets explore the main question in the simplist way possible?  Is there an overarching coorelation in purchasing to any demographic?"
   ]
  },
  {
   "cell_type": "code",
   "execution_count": null,
   "metadata": {
    "Collapsed": "false"
   },
   "outputs": [],
   "source": []
  },
  {
   "cell_type": "markdown",
   "metadata": {
    "Collapsed": "false"
   },
   "source": [
    "<a id='fig2_4a'>Fig2.4a: Feature Coorelation Heatmap</a>"
   ]
  },
  {
   "cell_type": "code",
   "execution_count": null,
   "metadata": {
    "Collapsed": "false"
   },
   "outputs": [],
   "source": [
    "fig_2_4a, ax_2_4a = plt.subplots(figsize=(12,12))\n",
    "sns.heatmap(events_merged_std[['age', 'income', 'gender_F', 'gender_M', 'gender_O','memb_leng', 'difficulty','reward_offd', 'mobile', 'social', 'web',\n",
    "       'offer_bogo', 'offer_discount', 'offer_informational',\n",
    "       'event_offer_viewed', 'event_transaction', 'event_offer_completed','time_viewed',\n",
    "       'trans_time']].corr(),annot=True,ax=ax_2_4a,cmap='Spectral',vmin=-0.4, vmax=0.4,fmt='.2f')\n",
    "ax_2_4a.set_title('Fig 2.4a: Coorelation Heatmap')"
   ]
  },
  {
   "cell_type": "markdown",
   "metadata": {
    "Collapsed": "false"
   },
   "source": [
    "There is a lot of information in this cooreation matrix.  I am focusing on which factors coorelate the most with event offer viewed, trans, and completion.\n",
    "\n",
    "    - Viewed\n",
    "        - Top Positive Coorelation\n",
    "            - Offer on social media (0.5)\n",
    "            - Offered on mobile platform (0.3)\n",
    "        - Top Negative Coorelations\n",
    "            - informational offer\n",
    "            - difficulty\n",
    "    - Transaction\n",
    "        - Top Positive Coorelation\n",
    "            - Offer on social media (0.37)\n",
    "            - Offered on mobile platform (0.2)\n",
    "        - Top Negative Coorelation\n",
    "            - Informational Offer (-0.20)\n",
    "    - Completion\n",
    "        - Top Positive Coorelations\n",
    "            - Difficulty (0.28)\n",
    "            - Offer discount (0.26)\n",
    "            - income (0.18)\n",
    "        - Top Negative Coorelations\n",
    "            - Offer_informational (-0.48) - This makes sense since informational offers didnt include rewards\n",
    "            - gender_M (-0.13)\n",
    "\n",
    "    "
   ]
  },
  {
   "cell_type": "markdown",
   "metadata": {
    "Collapsed": "false"
   },
   "source": [
    "<a id='fig2_4b'>Fig 2.4b: Actions Completed by Age </a>"
   ]
  },
  {
   "cell_type": "code",
   "execution_count": null,
   "metadata": {
    "Collapsed": "false"
   },
   "outputs": [],
   "source": [
    "\n",
    "fig_2_4b, ax_2_4b = plt.subplots(nrows=1, ncols=2,figsize=(8,4))\n",
    "sns.distplot(events_merged_nona[events_merged_nona.event_transaction==1].age,bins=25,ax=ax_2_4b[0])\n",
    "sns.distplot(events_merged_nona[events_merged_nona.event_transaction==0].age,bins=25,ax=ax_2_4b[0])\n",
    "sns.distplot(events_merged_nona[events_merged_nona.event_offer_completed==1].age,bins=25,ax=ax_2_4b[1])\n",
    "sns.distplot(events_merged_nona[events_merged_nona.event_offer_completed==0].age,bins=25,ax=ax_2_4b[1])\n",
    "ax_2_4b[0].set_title('Event Transaction')\n",
    "ax_2_4b[1].set_title('Event Completed')\n",
    "fig_2_4b.legend(labels=['Complete','Incomplete'])\n",
    "fig_2_4b.suptitle('Fig 2.4b: Actions Completed by age ')"
   ]
  },
  {
   "cell_type": "markdown",
   "metadata": {
    "Collapsed": "false"
   },
   "source": [
    "The curves are almost identical, there does not seem to be an effect on age in making a transaciton"
   ]
  },
  {
   "cell_type": "markdown",
   "metadata": {},
   "source": [
    "<a id='fig2_4c'>Fig 2.4c: Actions Completed by Income </a>"
   ]
  },
  {
   "cell_type": "code",
   "execution_count": null,
   "metadata": {
    "Collapsed": "false"
   },
   "outputs": [],
   "source": [
    "fig_2_4c , ax_2_24c = plt.subplots(nrows=1, ncols=2,figsize=(8,4))\n",
    "fig_2_4c.subplots_adjust(hspace = .2,wspace = .5)\n",
    "sns.distplot(events_merged[events_merged.event_transaction==1].income.dropna(),bins=25,ax=ax_2_24c[0])\n",
    "sns.distplot(events_merged[events_merged.event_transaction==0].income.dropna(),bins=25,ax=ax_2_24c[0])\n",
    "sns.distplot(events_merged[events_merged.event_offer_completed==1].income.dropna(),bins=25,ax=ax_2_24c[1])\n",
    "sns.distplot(events_merged[events_merged.event_offer_completed==0].income.dropna(),bins=25,ax=ax_2_24c[1])\n",
    "ax_2_24c[0].set_title('Event Transaction')\n",
    "ax_2_24c[1].set_title('Event Completed')\n",
    "fig_2_4c.legend(labels=['Complete','Incomplete'])\n",
    "fig_2_4c.suptitle('Fig 2.4c: Actions Completed by Income')"
   ]
  },
  {
   "cell_type": "markdown",
   "metadata": {
    "Collapsed": "false"
   },
   "source": [
    "**Note** The two populatons are virtually overlapped in the event transaction.  But in the event completed (read: complete = received reward incomplete=info only) there is a little offset in the income of those who completed, the difference is likley not significant, it might suggest that people with higher incomes are more likley to responsd to promotions with rewards in compared to this with lower incomes.   \n",
    "\n",
    "* I think I need some stats help on this one, I belive I would use a  Kolmogorov-Smirnov test, but I am not sure."
   ]
  },
  {
   "cell_type": "markdown",
   "metadata": {},
   "source": [
    "<a id='fig2_4d'>Fig 2.4d: Actions Completed by Gender </a>"
   ]
  },
  {
   "cell_type": "code",
   "execution_count": null,
   "metadata": {},
   "outputs": [],
   "source": [
    "fig_2_4d, ax_2_4d = plt.subplots(nrows=1,ncols=2,figsize=(8,4),sharey=True)\n",
    "sns.barplot(x=events_merged.gender,y=events_merged.event_transaction,ax=ax_2_4d[0])\n",
    "sns.barplot(x=events_merged.gender,y=events_merged.event_offer_completed,ax=ax_2_4d[1])\n",
    "ax_2_4d[0].set_title('Event Transaction')\n",
    "ax_2_4d[1].set_title('Event Completed')\n",
    "fig_2_4d.suptitle('Fig 2.4d: Actions Completed by Gender')"
   ]
  },
  {
   "cell_type": "markdown",
   "metadata": {
    "Collapsed": "false"
   },
   "source": [
    "Men and Women appear to transact after viewing and offer at the same rate, but men disproportionally do not respond to the reward offers.  What is the baseline purchase frequency?"
   ]
  },
  {
   "cell_type": "markdown",
   "metadata": {},
   "source": [
    "<a id='fig2_4e'>Fig 2.4e: Distribution of number of offers per person</a>"
   ]
  },
  {
   "cell_type": "code",
   "execution_count": null,
   "metadata": {
    "Collapsed": "false"
   },
   "outputs": [],
   "source": [
    "fig2_4e = sns.distplot(events_merged.groupby(by='person').count()['index'],bins=10)\n",
    "fig2_4e.set_title(\"Fig 2.4e: Frequency of the number of offers individuals recieve \")"
   ]
  },
  {
   "cell_type": "code",
   "execution_count": null,
   "metadata": {
    "Collapsed": "false"
   },
   "outputs": [],
   "source": []
  },
  {
   "cell_type": "markdown",
   "metadata": {
    "Collapsed": "false"
   },
   "source": [
    "What do we want to know about the study factors?\n",
    "- Person\n",
    "   - What is the distribution of offers\n",
    "- Offer_Id (there are 10 offer ids)\n",
    "  - How many offers were made of each ID?\n",
    "  - How many offers were made to each person, on average?\n",
    "- Difficulty\n",
    "  - What was the representative range of difficulty?\n",
    "- Distribution Method\n",
    "  - \n",
    "- Offer Type\n",
    "- Reward"
   ]
  },
  {
   "cell_type": "code",
   "execution_count": null,
   "metadata": {
    "Collapsed": "false"
   },
   "outputs": [],
   "source": [
    "events_merged.groupby(by='offer_id').count()['index']"
   ]
  },
  {
   "cell_type": "code",
   "execution_count": null,
   "metadata": {
    "Collapsed": "false"
   },
   "outputs": [],
   "source": [
    "events_merged.pivot_table(values='index',aggfunc='count',index='offer_id',columns=['person']).mean(axis=1)"
   ]
  },
  {
   "cell_type": "markdown",
   "metadata": {},
   "source": []
  },
  {
   "cell_type": "code",
   "execution_count": null,
   "metadata": {
    "Collapsed": "false"
   },
   "outputs": [],
   "source": [
    "fig2_4f, ax_2_4f = plt.subplots(nrows=2, ncols=2, sharex=False, sharey=False, figsize=(16,8))\n",
    "fig2_4f.subplots_adjust(hspace = .2,wspace = .2)\n",
    "\n",
    "sns.distplot(events_merged_std.time_viewed.dropna(),bins=25,ax=ax_2_4f[0,0],norm_hist=True)\n",
    "sns.distplot(events_merged_std.time_viewed.dropna(),hist_kws=dict(density=True,cumulative=True), kde_kws=dict(cumulative=True),bins=25,ax=ax_2_4f[1,0])\n",
    "sns.distplot(events_merged_std.trans_time.dropna(),bins=25,ax=ax_2_4f[0,1],norm_hist=True)\n",
    "sns.distplot(events_merged_std.trans_time.dropna(), hist_kws=dict(density=True,cumulative=True), kde_kws=dict(cumulative=True),ax=ax_2_4f[1,1],bins=25)\n",
    "\n",
    "for i,j in np.ndenumerate(ax_2_4f):\n",
    "    ax_2_4f[i].grid(b=True)\n",
    "    ax_2_4f[i].set(xlabel='time elapsed (normalized)')\n",
    "\n",
    "ax_2_4f[0,0].annotate(s='TIME VIEWED (std)',xy = (0.6,7.0) )\n",
    "ax_2_4f[1,0].annotate(s='TIME VIEWED (std) cumulative',xy = (0,.975) )\n",
    "ax_2_4f[0,1].annotate(s='TIME PURCHASED (std)',xy = (0.6, 1.75) )\n",
    "ax_2_4f[1,1].annotate(s='TIME PURCHASED (std) cumulative',xy = (0,.955) )\n",
    "fig2_4f.suptitle(\"Fig 2.4: Frequency of the Time of Offer Response\")\n"
   ]
  },
  {
   "cell_type": "markdown",
   "metadata": {
    "Collapsed": "false"
   },
   "source": [
    "Analysis:  The average view time is seemly early.  With 80% of people who will view it will view it witin the forst 30% of the time period.\n",
    "The purchasing cumlative curve is flatter than the viewed cumulative curve and doesnt reach its inflection pount until about 70% of total respondeants reposnded at the 50% time point."
   ]
  },
  {
   "cell_type": "code",
   "execution_count": null,
   "metadata": {},
   "outputs": [],
   "source": []
  },
  {
   "cell_type": "code",
   "execution_count": null,
   "metadata": {
    "Collapsed": "false"
   },
   "outputs": [],
   "source": [
    "fig2_4g, ax_2_4g = plt.subplots(nrows=2, ncols=2, sharex=False, sharey=False, figsize=(16,8))\n",
    "fig2_4g.subplots_adjust(hspace = .2,wspace = .2)\n",
    "\n",
    "sns.distplot(events_merged_std[events_merged_std.gender_M==1].time_viewed.dropna(),bins=25,ax=ax_2_4g[0,0],norm_hist=True)\n",
    "sns.distplot(events_merged_std[events_merged_std.gender_M==1].time_viewed.dropna(),hist_kws=dict(density=True,cumulative=True), kde_kws=dict(cumulative=True),bins=25,ax=ax_2_4g[1,0])\n",
    "sns.distplot(events_merged_std[events_merged_std.gender_M==1].trans_time.dropna(),bins=25,ax=ax_2_4g[0,1],norm_hist=True)\n",
    "sns.distplot(events_merged_std[events_merged_std.gender_M==1].trans_time.dropna(), hist_kws=dict(density=True,cumulative=True), kde_kws=dict(cumulative=True),ax=ax_2_4g[1,1],bins=25)\n",
    "sns.distplot(events_merged_std[events_merged_std.gender_F==1].time_viewed.dropna(),bins=25,ax=ax_2_4g[0,0],norm_hist=True)\n",
    "sns.distplot(events_merged_std[events_merged_std.gender_F==1].time_viewed.dropna(),hist_kws=dict(density=True,cumulative=True), kde_kws=dict(cumulative=True),bins=25,ax=ax_2_4g[1,0])\n",
    "sns.distplot(events_merged_std[events_merged_std.gender_F==1].trans_time.dropna(),bins=25,ax=ax_2_4g[0,1],norm_hist=True)\n",
    "sns.distplot(events_merged_std[events_merged_std.gender_F==1].trans_time.dropna(), hist_kws=dict(density=True,cumulative=True), kde_kws=dict(cumulative=True),ax=ax_2_4g[1,1],bins=25)\n",
    "sns.distplot(events_merged_std[events_merged_std.gender_O==1].time_viewed.dropna(),bins=25,ax=ax_2_4g[0,0],norm_hist=True)\n",
    "sns.distplot(events_merged_std[events_merged_std.gender_O==1].time_viewed.dropna(),hist_kws=dict(density=True,cumulative=True), kde_kws=dict(cumulative=True),bins=25,ax=ax_2_4g[1,0])\n",
    "sns.distplot(events_merged_std[events_merged_std.gender_O==1].trans_time.dropna(),bins=25,ax=ax_2_4g[0,1],norm_hist=True)\n",
    "sns.distplot(events_merged_std[events_merged_std.gender_O==1].trans_time.dropna(), hist_kws=dict(density=True,cumulative=True), kde_kws=dict(cumulative=True),ax=ax_2_4g[1,1],bins=25)\n",
    "\n",
    "for i,j in np.ndenumerate(ax_2_4g):\n",
    "    ax_2_4g[i].grid(b=True)\n",
    "    ax_2_4g[i].set(xlabel='time elapsed (normalized)')\n",
    "\n",
    "ax_2_4g[0,0].annotate(s='TIME VIEWED (std)',xy = (0.6,7.5) )\n",
    "ax_2_4g[1,0].annotate(s='TIME VIEWED (std) cumulative',xy = (0,.975) )\n",
    "ax_2_4g[0,1].annotate(s='TIME PURCHASED (std)',xy = (0.6, 1.7) )\n",
    "ax_2_4g[1,1].annotate(s='TIME PURCHASED (std) cumulative',xy = (0,.955) )\n",
    "fig2_4g.legend(labels=['Male','Female','Other'])\n",
    "fig2_4g.suptitle(\"Fig 2.4g: Frequency of the Time of Offer Response (by gender)\")\n"
   ]
  },
  {
   "cell_type": "markdown",
   "metadata": {
    "Collapsed": "false"
   },
   "source": [
    "<a id='fig2_4g'> Figure 2.4g </a>\n",
    "**Note** Virtually all three groups overalapped, no apparent difference between genders"
   ]
  },
  {
   "cell_type": "code",
   "execution_count": null,
   "metadata": {
    "Collapsed": "false"
   },
   "outputs": [],
   "source": [
    "events_merged_std.trans_time.mean()"
   ]
  },
  {
   "cell_type": "code",
   "execution_count": null,
   "metadata": {
    "Collapsed": "false"
   },
   "outputs": [],
   "source": []
  },
  {
   "cell_type": "code",
   "execution_count": null,
   "metadata": {},
   "outputs": [],
   "source": []
  },
  {
   "cell_type": "markdown",
   "metadata": {},
   "source": [
    "### Section 3.0: Analysis\n",
    "<a id='sec_3_0'></a>\n",
    "<a href='#TOC'>Jump to top</a>\n",
    "\n",
    "#### Section 3.1: Principle Component Analysis\n",
    "<a id='sec_3_1'></a>\n",
    "<a href='#TOC'>Jump to top</a>"
   ]
  },
  {
   "cell_type": "markdown",
   "metadata": {},
   "source": [
    "Strategy\n",
    "1) Using the full population of the dataset, with 17 (Xcol) features, run PCA to find # of pca features that explains atleast 85% of variance\n",
    "2) segment population"
   ]
  },
  {
   "cell_type": "code",
   "execution_count": null,
   "metadata": {
    "Collapsed": "false"
   },
   "outputs": [],
   "source": [
    "## These are sets of columns that were used in the modeling excersizes.  \n",
    "## Not all of them were used in the final cut, but I am keeping them around incase\n",
    "## I want to use them for the future\n",
    "\n",
    "\n",
    "X_col = ['duration','time','age', 'income',\n",
    "       'gender_F', 'gender_M', 'gender_O', 'memb_leng', 'difficulty', 'email',\n",
    "       'mobile', 'social', 'web', 'offer_bogo', 'offer_discount',\n",
    "       'offer_informational', 'reward_offd']\n",
    "\n",
    "KM_col = ['age', 'income',\n",
    "       'gender_F', 'gender_M', 'gender_O', 'memb_leng']\n",
    "\n",
    "X_sup = ['time_viewed']\n",
    "\n",
    "X_sup2 =['reward_rcvd', 'trans_time', 'trans_spend']\n",
    "\n",
    "Y_col = ['event_offer_completed', 'event_offer_received',\n",
    "       'event_offer_viewed', 'event_transaction']\n",
    "\n",
    "\n",
    "PL_col = ['time_end']\n"
   ]
  },
  {
   "cell_type": "code",
   "execution_count": null,
   "metadata": {},
   "outputs": [],
   "source": [
    "#reused helper_functions.py in MiniPCA with annotations\n",
    "def scree_plot(pca, fig_name=''):\n",
    "    '''\n",
    "    Generates a scree plot associated with the principal components \n",
    "    \n",
    "    INPUT: \n",
    "    pca:  - the pca eigenvector result of modeling of PCA with scikit learn\n",
    "    fig_name (str): Fig name for insertion into figure title.\n",
    "    \n",
    "    Display: Scree plot \n",
    "    \n",
    "    OUTPUT:\n",
    "            None\n",
    "    '''\n",
    "    num_components=len(pca.explained_variance_ratio_)   # number of components to graph\n",
    "    ind = np.arange(num_components)           \n",
    "    vals = pca.explained_variance_ratio_\n",
    " \n",
    "    plt.figure(figsize=(10, 6))\n",
    "    ax = plt.subplot(111)\n",
    "    cumvals = np.cumsum(vals)\n",
    "    ax.bar(ind, vals)\n",
    "    ax.plot(ind, cumvals)\n",
    "    for i in range(num_components):\n",
    "        ax.annotate(r\"%s%%\" % ((str(vals[i]*100)[:4])), (ind[i]+0.2, vals[i]), va=\"bottom\", ha=\"center\", fontsize=12)\n",
    " \n",
    "    ax.xaxis.set_tick_params(width=0)\n",
    "    ax.yaxis.set_tick_params(width=2, length=12)\n",
    " \n",
    "    ax.set_xlabel(\"Principal Component\")\n",
    "    ax.set_ylabel(\"Variance Explained (%)\")\n",
    "    plt.title(fig_name + 'Explained Variance Per Principal Component')"
   ]
  },
  {
   "cell_type": "code",
   "execution_count": null,
   "metadata": {},
   "outputs": [],
   "source": [
    "#from helper_functions.py in MiniPCA \n",
    "def pca_results(full_dataset, pca):\n",
    "    '''\n",
    "    Create a DataFrame of the PCA results\n",
    "    Includes dimension feature weights and explained variance\n",
    "    Visualizes the PCA results'''\n",
    "\n",
    "    # Dimension indexing\n",
    "    dimensions = ['Dimension {}'.format(i) for i in range(1, len(pca.components_)+1)]\n",
    "    \n",
    "\n",
    "    # PCA components\n",
    "    components = pd.DataFrame(np.round(pca.components_, 4), columns = full_dataset.keys())\n",
    "    components.index = dimensions\n",
    "\n",
    "    # PCA explained variance\n",
    "    ratios = pca.explained_variance_ratio_.reshape(len(pca.components_), 1)\n",
    "    variance_ratios = pd.DataFrame(np.round(ratios, 4), columns = ['Explained Variance'])\n",
    "    variance_ratios.index = dimensions\n",
    "\n",
    "    # Create a bar plot visualization\n",
    "    fig, ax = plt.subplots(figsize = (14,8))\n",
    "\n",
    "    # Plot the feature weights as a function of the components\n",
    "    components.plot(ax = ax, kind = 'bar');\n",
    "    ax.set_ylabel(\"Feature Weights\")\n",
    "    ax.set_xticklabels(dimensions, rotation=0)\n",
    "\n",
    "\n",
    "    # Display the explained variance ratios\n",
    "    for i, ev in enumerate(pca.explained_variance_ratio_):\n",
    "        ax.text(i-0.40, ax.get_ylim()[1] + 0.05, \"Explained Variance\\n          %.4f\"%(ev))\n",
    "\n",
    "    # Return a concatenated DataFrame\n",
    "    return pd.concat([variance_ratios, components], axis = 1)"
   ]
  },
  {
   "cell_type": "code",
   "execution_count": 191,
   "metadata": {},
   "outputs": [
    {
     "name": "stdout",
     "output_type": "stream",
     "text": [
      "1 0.26705281156334765\n",
      "2 0.4654151143848129\n",
      "3 0.6042701834853881\n",
      "4 0.7168655615012947\n",
      "5 0.8031426674986909\n",
      "6 0.883938733857764\n",
      "7 0.9311225654632866\n",
      "8 0.9568819699005637\n",
      "9 0.9799736306582749\n",
      "10 0.9896778961231544\n",
      "11 0.9937185192041474\n",
      "12 0.9975125234626414\n",
      "13 0.9997142913981385\n",
      "14 1.0\n",
      "15 1.0\n",
      "16 1.0\n"
     ]
    }
   ],
   "source": [
    "# RUN PCA for all dimentionality, find atleast >=90%   \n",
    "\n",
    "pca_summary = []\n",
    "for x in range(1,events_merged_std[X_col].shape[1]):\n",
    "    if x%1 == 0:\n",
    "        pca=PCA(x)\n",
    "        X_pca = pca.fit_transform(events_merged_std[X_col])\n",
    "        pca_summary.append(pca.explained_variance_ratio_.sum())\n",
    "        print(x, pca.explained_variance_ratio_.sum())\n"
   ]
  },
  {
   "cell_type": "markdown",
   "metadata": {},
   "source": [
    "Based on critera, 7 PCA dimentions were selected"
   ]
  },
  {
   "cell_type": "markdown",
   "metadata": {},
   "source": [
    "pca7=PCA(7)\n",
    "X_pca7 = pca7.fit_transform(events_merged_std[X_col])\n",
    "fig_4_1b = scree_plot(pca7,'Fig 4.1b: ')\n",
    "pca7.explained_variance_ratio_.sum()"
   ]
  },
  {
   "cell_type": "markdown",
   "metadata": {},
   "source": [
    "dump(pca7,'pca7.model')\n",
    "\n",
    "dump(X_pca7,'X_pca7.numpy')"
   ]
  },
  {
   "cell_type": "markdown",
   "metadata": {},
   "source": [
    "pca7 = load('pca7.model')\n",
    "X_pca7 = load('X_pca7.numpy')"
   ]
  },
  {
   "cell_type": "code",
   "execution_count": null,
   "metadata": {},
   "outputs": [],
   "source": []
  },
  {
   "cell_type": "code",
   "execution_count": null,
   "metadata": {},
   "outputs": [],
   "source": [
    "#Modifeid version of function from helper_functions.py in MiniPCA \n",
    "def pca_results_rng(full_dataset, pca,dim_rng,pltpca=False):\n",
    "    '''\n",
    "    Create a DataFrame of the PCA results\n",
    "    Includes dimension feature weights and explained variance\n",
    "    Visualizes the PCA results\n",
    "    \n",
    "    input: \n",
    "    full_dataset = is the full dataset that was transformed\n",
    "    pca = is the fit_transformed pca\n",
    "    dim_rng: list of size to of the first and last dimention to be displayed\n",
    "    \n",
    "    '''\n",
    "    dim_rng[0] = dim_rng[0] - 1  #because first dimention is at index 0\n",
    "    \n",
    "    # Dimension indexing\n",
    "    dimensions = ['Dimension {}'.format(i) for i in range(1, len(pca.components_)+1)]\n",
    "    dim = dimensions[dim_rng[0]:dim_rng[1]]\n",
    "    \n",
    "    # PCA components\n",
    "    components = pd.DataFrame(np.round(pca.components_, 4), columns = full_dataset.keys())\n",
    "    components.index = dimensions\n",
    "    comp = components.iloc[dim_rng[0]:dim_rng[1]]\n",
    "\n",
    "    # PCA explained variance\n",
    "    ratios = pca.explained_variance_ratio_.reshape(len(pca.components_), 1)\n",
    "    variance_ratios = pd.DataFrame(np.round(ratios, 4), columns = ['Explained Variance'])\n",
    "    variance_ratios.index = dimensions\n",
    "    vr = variance_ratios.iloc[dim_rng[0]:dim_rng[1]]\n",
    "\n",
    "    if pltpca == True:\n",
    "        fig, ax = plt.subplots(figsize = (20,8))\n",
    "\n",
    "        # Plot the feature weights as a function of the components\n",
    "        comp.plot(ax = ax, kind = 'bar');\n",
    "        ax.set_ylabel(\"Feature Weights\")\n",
    "        ax.set_xticklabels(dim, rotation=0)\n",
    "\n",
    "        # Display the explained variance ratios\n",
    "        for i, ev in enumerate(pca.explained_variance_ratio_):\n",
    "            if int(i) >= dim_rng[0] and int(i) < dim_rng[1]:\n",
    "                ax.text(i-dim_rng[0], ax.get_ylim()[1], \"Explained Variance\\n%.4f\"%(ev))\n",
    "\n",
    "    # Return a concatenated DataFrame\n",
    "    return pd.concat([vr, comp], axis = 1)"
   ]
  },
  {
   "cell_type": "code",
   "execution_count": null,
   "metadata": {},
   "outputs": [],
   "source": [
    "res = pca_results_rng(events_merged_std[X_col],pca7,[1,8])\n",
    "\n",
    "res.drop(columns=['Explained Variance'],inplace=True)\n",
    "res2 = res.reset_index()\n",
    "res2.rename(columns={'index':'Dim'},inplace=True)\n",
    "\n",
    "res_melt = res2.melt(id_vars=['Dim'])"
   ]
  },
  {
   "cell_type": "code",
   "execution_count": null,
   "metadata": {},
   "outputs": [],
   "source": [
    "res.columns"
   ]
  },
  {
   "cell_type": "code",
   "execution_count": null,
   "metadata": {},
   "outputs": [],
   "source": [
    "res"
   ]
  },
  {
   "cell_type": "code",
   "execution_count": null,
   "metadata": {},
   "outputs": [],
   "source": [
    "demo_feat = ['age', 'income', 'gender_F', 'gender_M','gender_O', 'memb_leng']\n",
    "offer_feat = ['duration','difficulty','offer_bogo', 'offer_discount', 'offer_informational','reward_offd']\n",
    "communication_feat = ['email', 'mobile', 'social','web']"
   ]
  },
  {
   "cell_type": "code",
   "execution_count": 153,
   "metadata": {},
   "outputs": [],
   "source": [
    "res_norm = res/res.max().max()"
   ]
  },
  {
   "cell_type": "code",
   "execution_count": null,
   "metadata": {},
   "outputs": [],
   "source": []
  },
  {
   "cell_type": "code",
   "execution_count": null,
   "metadata": {},
   "outputs": [],
   "source": []
  },
  {
   "cell_type": "code",
   "execution_count": 134,
   "metadata": {},
   "outputs": [
    {
     "data": {
      "image/png": "[encoded data removed]",
      "text/plain": [
       "<Figure size 864x1152 with 3 Axes>"
      ]
     },
     "metadata": {},
     "output_type": "display_data"
    }
   ],
   "source": [
    "fig_4_1c, ax_4_1c = plt.subplots(nrows = 3, ncols=1, sharex=True,sharey=True ,figsize=(12, 16));\n",
    "sns.barplot(data=res_melt[res_melt['variable'].isin(demo_feat)],x='Dim',y='value',hue='variable',ax=ax_4_1c[0]);\n",
    "sns.barplot(data=res_melt[res_melt['variable'].isin(offer_feat)],x='Dim',y='value',hue='variable',ax=ax_4_1c[1]);\n",
    "sns.barplot(data=res_melt[res_melt['variable'].isin(communication_feat)],x='Dim',y='value',hue='variable',ax=ax_4_1c[2]);\n",
    "fig_4_1c.subplots_adjust(hspace = .2)\n",
    "\n",
    "ax_4_1c[0].set_title('Fig 4.1c1: Demographic feature contributions to PCA dimentions');\n",
    "ax_4_1c[1].set_title('Fig 4.1c2: Offer feature contributions to PCA dimentions');\n",
    "ax_4_1c[2].set_title('Fig 4.1c3: Communication feature contributions to PCA dimentions');\n"
   ]
  },
  {
   "cell_type": "markdown",
   "metadata": {},
   "source": [
    "Observations:\n",
    "pca dimentions 1,2,3,5 seems to represent the demographic dimentions\n",
    "               4,6,7 seems to represent study features and communication methods\n",
    "               "
   ]
  },
  {
   "cell_type": "code",
   "execution_count": null,
   "metadata": {},
   "outputs": [],
   "source": [
    "sns.barplot(data=res_melt[res_melt['variable'].isin(['offer_bogo','offer_discount','offer_informational'])],x='Dim',y='value',hue='variable');"
   ]
  },
  {
   "cell_type": "code",
   "execution_count": null,
   "metadata": {},
   "outputs": [],
   "source": [
    "sns.barplot(data=res_melt[res_melt['variable'].isin(['offer_bogo','offer_discount','offer_informational'])],x='Dim',y='value',hue='variable');"
   ]
  },
  {
   "cell_type": "code",
   "execution_count": null,
   "metadata": {},
   "outputs": [],
   "source": []
  },
  {
   "cell_type": "code",
   "execution_count": null,
   "metadata": {},
   "outputs": [],
   "source": [
    "dim1_feat = res.loc['Dimension 1',:].sort_values(ascending=False)[:4].append(res.loc['Dimension 1',:].sort_values(ascending=False)[-4:])"
   ]
  },
  {
   "cell_type": "code",
   "execution_count": null,
   "metadata": {},
   "outputs": [],
   "source": []
  },
  {
   "cell_type": "code",
   "execution_count": null,
   "metadata": {},
   "outputs": [],
   "source": []
  },
  {
   "cell_type": "markdown",
   "metadata": {},
   "source": [
    "#### 4.2 Model K-Means\n",
    "<a id='sec_4_2'></a>\n",
    "<a href='#TOC'>Jump to top</a>"
   ]
  },
  {
   "cell_type": "code",
   "execution_count": null,
   "metadata": {},
   "outputs": [],
   "source": [
    "df_Xpca7 = pd.DataFrame(X_pca7)\n",
    "toy_dataset = df_Xpca7.sample(n=int(df_Xpca7.shape[0]*0.3))"
   ]
  },
  {
   "cell_type": "code",
   "execution_count": null,
   "metadata": {},
   "outputs": [],
   "source": [
    "centers_t = []\n",
    "scores_t = []\n",
    "\n",
    "for ii in range(1,31):\n",
    "    \n",
    "    if ii>1:\n",
    "        k_pick_t = open('kdict_t.pickle',\"rb\")\n",
    "        k_dict_t = pickle.load(k_pick_t)\n",
    "        scores_t = k_dict_t['scores']\n",
    "        centers_t = k_dict_t['centers']\n",
    "    \n",
    "    #if ii>=centers_t[len(centers_t)-1]:\n",
    "    time1 = time.time()\n",
    "    print('Fitting ',ii,' kmean centers ')\n",
    "    kmeans_t = KMeans(ii)\n",
    "    model_t = kmeans_t.fit(toy_dataset.values)\n",
    "    labels_t = model_t.predict(toy_dataset.values)\n",
    "    centers_t.append(ii)\n",
    "    scores_t.append(abs(model_t.score(toy_dataset)))\n",
    "    time2 = (time.time() - time1)/60\n",
    "    print('Loop ',ii,' took ', time2, ' minutes to complete')\n",
    "\n",
    "    k_dict_t = {'scores': scores_t,\n",
    "             'centers': centers_t}\n",
    "\n",
    "    k_pick_t = open('kdict_t.pickle',\"wb\")\n",
    "    pickle.dump(k_dict_t,k_pick_t)"
   ]
  },
  {
   "cell_type": "code",
   "execution_count": null,
   "metadata": {},
   "outputs": [],
   "source": []
  },
  {
   "cell_type": "code",
   "execution_count": null,
   "metadata": {},
   "outputs": [],
   "source": [
    "\n",
    "\n",
    "kmeans_scores = pd.DataFrame({'centers': k_dict_t['centers'],'scores': k_dict_t['scores']})\n",
    "kmeans_scores = kmeans_scores.drop_duplicates('centers')"
   ]
  },
  {
   "cell_type": "raw",
   "metadata": {},
   "source": [
    "#5% sample\n",
    "plt.plot(kmeans_scores['centers'],kmeans_scores['scores'], linestyle='--', marker='o', color='b');\n",
    "plt.xlabel('K-(K_-1)');\n",
    "plt.ylabel('Delta_SSE');\n",
    "plt.xticks(np.arange(1,30,step=2));\n",
    "plt.grid()\n",
    "plt.title('Fig 4.2a: Delta_SSE vs. K-(K_-1)');"
   ]
  },
  {
   "cell_type": "code",
   "execution_count": null,
   "metadata": {},
   "outputs": [],
   "source": [
    "#5% sample\n",
    "plt.plot(kmeans_scores['centers'],kmeans_scores['scores'].diff(), linestyle='--', marker='o', color='b');\n",
    "plt.xlabel('K-(K_-1)');\n",
    "plt.ylabel('Delta_SSE');\n",
    "plt.xticks(np.arange(1,30,step=2));\n",
    "plt.grid()\n",
    "plt.title('Fig 4.2b: Delta_SSE vs. K-(K_-1)');"
   ]
  },
  {
   "cell_type": "code",
   "execution_count": null,
   "metadata": {},
   "outputs": [],
   "source": [
    "K5 = KMeans(5)"
   ]
  },
  {
   "cell_type": "code",
   "execution_count": null,
   "metadata": {},
   "outputs": [],
   "source": [
    "K5.fit(X_pca7)"
   ]
  },
  {
   "cell_type": "code",
   "execution_count": null,
   "metadata": {},
   "outputs": [],
   "source": [
    "dump(K5,'K5.model')"
   ]
  },
  {
   "cell_type": "code",
   "execution_count": null,
   "metadata": {},
   "outputs": [],
   "source": [
    "K5_model = load('K5.model')"
   ]
  },
  {
   "cell_type": "code",
   "execution_count": null,
   "metadata": {},
   "outputs": [],
   "source": []
  },
  {
   "cell_type": "markdown",
   "metadata": {},
   "source": [
    "### 4.3 - Segment and Apply Models to Population Segments"
   ]
  },
  {
   "cell_type": "code",
   "execution_count": null,
   "metadata": {},
   "outputs": [],
   "source": [
    "pca_model = load('pca7.model')\n",
    "kmeans_model = load('K5.model')"
   ]
  },
  {
   "cell_type": "code",
   "execution_count": null,
   "metadata": {},
   "outputs": [],
   "source": [
    "ems_viewed_false = events_merged_std[events_merged_std['event_offer_viewed']==0]\n",
    "ems_viewed_true = events_merged_std[events_merged_std['event_offer_viewed']==1]\n",
    "ems_purch_false = ems_viewed_true[ems_viewed_true['event_offer_completed']==0]\n",
    "ems_purch_true = ems_viewed_true[ems_viewed_true['event_offer_completed']==1]"
   ]
  },
  {
   "cell_type": "code",
   "execution_count": null,
   "metadata": {},
   "outputs": [],
   "source": [
    "Xpca_ems_all = pca_model.transform(events_merged_std[X_col])\n",
    "Xpca_emsv_false = pca_model.transform(ems_viewed_false[X_col])\n",
    "Xpca_emsv_true = pca_model.transform(ems_viewed_true[X_col])\n",
    "Xpca_emsp_false = pca_model.transform(ems_purch_false[X_col])\n",
    "Xpca_emsp_true = pca_model.transform(ems_purch_true[X_col])"
   ]
  },
  {
   "cell_type": "code",
   "execution_count": null,
   "metadata": {},
   "outputs": [],
   "source": [
    "k_ems_all = kmeans_model.predict(Xpca_ems_all)\n",
    "k_emsv_false = kmeans_model.predict(Xpca_emsv_false)\n",
    "k_emsv_true = kmeans_model.predict(Xpca_emsv_true)\n",
    "k_emsp_false = kmeans_model.predict(Xpca_emsp_false)\n",
    "k_emsp_true = kmeans_model.predict(Xpca_emsp_true)"
   ]
  },
  {
   "cell_type": "code",
   "execution_count": null,
   "metadata": {},
   "outputs": [],
   "source": []
  },
  {
   "cell_type": "code",
   "execution_count": null,
   "metadata": {},
   "outputs": [],
   "source": [
    "label_all= np.unique(k_ems_all,return_counts=True)\n",
    "label_v_false = np.unique(k_emsv_false,return_counts=True)\n",
    "label_v_true = np.unique(k_emsv_true,return_counts=True)\n",
    "label_p_false = np.unique(k_emsp_false,return_counts=True)\n",
    "label_p_true = np.unique(k_emsp_true,return_counts=True)"
   ]
  },
  {
   "cell_type": "code",
   "execution_count": null,
   "metadata": {},
   "outputs": [],
   "source": []
  },
  {
   "cell_type": "code",
   "execution_count": null,
   "metadata": {},
   "outputs": [],
   "source": [
    "df_Xpca_ems_all = pd.DataFrame(Xpca_ems_all)\n",
    "df_Xpca_emsv_true = pd.DataFrame(Xpca_emsv_true)\n",
    "df_Xpca_emsv_false = pd.DataFrame(Xpca_emsv_false)\n",
    "df_Xpca_emsp_true = pd.DataFrame(Xpca_emsp_true)\n",
    "df_Xpca_emsp_false = pd.DataFrame(Xpca_emsp_false)\n",
    "df_Xpca_ems_all['cluster'] = k_ems_all\n",
    "df_Xpca_emsv_true['cluster'] = k_emsv_true\n",
    "df_Xpca_emsv_false['cluster'] = k_emsv_false\n",
    "df_Xpca_emsp_true['cluster'] = k_emsp_true\n",
    "df_Xpca_emsp_false['cluster'] = k_emsp_false\n",
    "\n",
    "\n",
    "\n",
    "df_Xpca_emsv_true['purchase'] = True\n",
    "df_Xpca_emsv_false['purchase'] = False\n",
    "df_Xpca_emsp_true['purchase'] = True\n",
    "df_Xpca_emsp_false['purchase'] = False\n",
    "\n",
    "\n",
    "df_Xpca_emsv = df_Xpca_emsv_true.append(df_Xpca_emsv_false)\n",
    "df_Xpca_emsp = df_Xpca_emsp_true.append(df_Xpca_emsp_false)\n",
    "\n",
    "\n",
    "\n",
    "df_Xpca_ems_all_melt = df_Xpca_ems_all.melt(id_vars=['cluster'],value_vars=[0, 1, 2, 3, 4, 5, 6],var_name='pca_dim')\n",
    "df_Xpca_emsv_melt = df_Xpca_emsv.melt(id_vars=['cluster','purchase'],value_vars=[0, 1, 2, 3, 4, 5, 6],var_name='pca_dim')\n",
    "df_Xpca_emsp_melt = df_Xpca_emsp.melt(id_vars=['cluster','purchase'],value_vars=[0, 1, 2, 3, 4, 5, 6],var_name='pca_dim')"
   ]
  },
  {
   "cell_type": "code",
   "execution_count": null,
   "metadata": {},
   "outputs": [],
   "source": []
  },
  {
   "cell_type": "code",
   "execution_count": null,
   "metadata": {},
   "outputs": [],
   "source": [
    "def props(label): return label[1]/label[1].sum()"
   ]
  },
  {
   "cell_type": "code",
   "execution_count": null,
   "metadata": {},
   "outputs": [],
   "source": [
    "lprops_all = props(label_all)\n",
    "lprops_v_false = props(label_v_false)\n",
    "lprops_v_true = props(label_v_true)\n",
    "lprops_p_false = props(label_p_false)\n",
    "lprops_p_true = props(label_p_true)"
   ]
  },
  {
   "cell_type": "code",
   "execution_count": null,
   "metadata": {},
   "outputs": [],
   "source": [
    "props = pd.DataFrame(lprops_all,columns=['all'])\n",
    "props['uviewed'] = lprops_v_false\n",
    "props['viewed'] = lprops_v_true\n",
    "props['viewed_and_nopurch'] = lprops_p_false\n",
    "props['viewed_and_purch'] = lprops_p_true"
   ]
  },
  {
   "cell_type": "code",
   "execution_count": null,
   "metadata": {},
   "outputs": [],
   "source": [
    "props['id'] = props.index"
   ]
  },
  {
   "cell_type": "code",
   "execution_count": null,
   "metadata": {},
   "outputs": [],
   "source": [
    "props"
   ]
  },
  {
   "cell_type": "code",
   "execution_count": null,
   "metadata": {},
   "outputs": [],
   "source": [
    "props_view = props[['uviewed','viewed','id']].melt(id_vars=['id'],value_vars=['uviewed','viewed'])\n",
    "props_purch = props[['viewed_and_nopurch','viewed_and_purch','id']].melt(id_vars=['id'],value_vars=['viewed_and_nopurch','viewed_and_purch'])"
   ]
  },
  {
   "cell_type": "markdown",
   "metadata": {},
   "source": [
    "#### 4.4 Compare Proportion of populations in K-mean clusters"
   ]
  },
  {
   "cell_type": "code",
   "execution_count": 129,
   "metadata": {},
   "outputs": [
    {
     "data": {
      "image/png": "[encoded data removed]",
      "text/plain": [
       "<Figure size 432x288 with 1 Axes>"
      ]
     },
     "metadata": {},
     "output_type": "display_data"
    }
   ],
   "source": [
    "fig4_4b = sns.barplot(x=label_all[0],y=label_all[1]);\n",
    "fig4_4b.set_title('Fig 4.4b: K-Mean Group Counts');"
   ]
  },
  {
   "cell_type": "code",
   "execution_count": null,
   "metadata": {},
   "outputs": [],
   "source": [
    "###  Proportion Z-Test \n",
    "\n",
    "#H_0: p_0 = p_1\n",
    "#H_1: p_0 < or > p_1\n",
    "\n",
    "\n",
    "n_obs_view = np.array([k_emsv_true.shape[0],k_emsv_false.shape[0]])\n",
    "\n",
    "stat_v = []\n",
    "p_val_v = []\n",
    "\n",
    "for obs in zip(label_v_true[1],label_v_false[1]):\n",
    "    stat,pval = proportions_ztest(np.array([obs[0],obs[1]]),n_obs_view,alternative='two-sided')\n",
    "    stat_v.append(stat)\n",
    "    p_val_v.append(pval)\n",
    "\n",
    "n_obs_purch = np.array([k_emsp_true.shape[0],k_emsp_false.shape[0]])\n",
    "\n",
    "stat_p = []\n",
    "p_val_p = []\n",
    "\n",
    "for obs in zip(label_p_true[1],label_p_false[1]):\n",
    "    stat,pval = proportions_ztest(np.array([obs[0],obs[1]]),n_obs_purch,alternative='two-sided')\n",
    "    stat_p.append(stat)\n",
    "    p_val_p.append(pval)\n",
    "    "
   ]
  },
  {
   "cell_type": "code",
   "execution_count": 127,
   "metadata": {},
   "outputs": [
    {
     "data": {
      "image/png": "[encoded data removed]",
      "text/plain": [
       "<Figure size 864x288 with 2 Axes>"
      ]
     },
     "metadata": {},
     "output_type": "display_data"
    }
   ],
   "source": [
    "fig_4_4a, ax_4_4a = plt.subplots(nrows=1, ncols=2,sharey=True,figsize=(12,4))\n",
    "fig_4_4a.suptitle('Fig 4.4a: A paired comparison of population proportion by k-mean cluster')\n",
    "fig_4_4a.subplots_adjust(wspace = 0)\n",
    "sns.barplot(data=props_view,x='id',y='value',hue='variable',ax=ax_4_4a[0])\n",
    "\n",
    "col1 = 'red'\n",
    "col2 = 'blue'\n",
    "\n",
    "t1_yoffsets = []\n",
    "for x in ax_4_4a[0].get_xticks():\n",
    "    t1_yoffsets.append(props_view[props_view['id']==x]['value'].max())\n",
    "    if p_val_v[x] < 0.01:\n",
    "        ax_4_4a[0].text(x, t1_yoffsets[x]+0.005 , \"**\", fontsize=16,ha='center', va='bottom', color=col1)\n",
    "        continue\n",
    "    elif p_val_v[x] < 0.05:\n",
    "        ax_4_4a[0].text(x, t1_yoffsets[x]+0.005 , \"*\", fontsize=16,ha='center', va='bottom', color=col2)\n",
    "        continue\n",
    "\n",
    "ax_4_4a[0].set_ybound(0,props_view['value'].max()+0.1)\n",
    "\n",
    "\n",
    "sns.barplot(data=props_purch,x='id',y='value',hue='variable',ax=ax_4_4a[1])\n",
    "\n",
    "t2_yoffsets = []\n",
    "for x in ax_4_4a[1].get_xticks():\n",
    "    t2_yoffsets.append(props_purch[props_purch['id']==x]['value'].max())\n",
    "    if p_val_p[x] < 0.01:\n",
    "        ax_4_4a[1].text(x, t2_yoffsets[x] , \"**\", fontsize=16,ha='center', va='bottom', color=col1)\n",
    "        continue\n",
    "    elif p_val_p[x] < 0.05:\n",
    "        ax_4_4a[1].text(x, t2_yoffsets[x] , \"*\", fontsize=16,ha='center', va='bottom', color=col2)\n",
    "        continue\n",
    "\n",
    "ax_4_4a[1].set_xlabel('K_mean cluster')\n",
    "ax_4_4a[0].set_xlabel('K_mean cluster')\n",
    "ax_4_4a[0].set_ylabel('proportion of population')\n",
    "ax_4_4a[1].set_ylabel('')\n",
    "ax_4_4a[1].set_ybound(0,props_purch['value'].max()+0.15)\n",
    "ax_4_4a[0].annotate(s='* :  p < 0.05',xy=(0,0.4), fontsize=11)\n",
    "ax_4_4a[0].annotate(s='** : p < 0.01',xy=(0,0.36), fontsize=11)\n",
    "fig_4_4a.show()"
   ]
  },
  {
   "cell_type": "markdown",
   "metadata": {},
   "source": [
    "What is interesting here is that there is two k-mean clusters in each the viewing and purchase slices that show significant preference to view or purchase.   The only overlapping group is k-mean 2.  The other k-mean group that shows a significant difference as well a impactcful magnitude difference is k-mean 0.\n",
    "\n",
    "Groups 1 and 3 and more adverse to purchasing, as ewell as group 3 is adverse to even view o"
   ]
  },
  {
   "cell_type": "code",
   "execution_count": 122,
   "metadata": {},
   "outputs": [
    {
     "data": {
      "text/plain": [
       "[0.0,\n",
       " 2.4997911824878614e-187,\n",
       " 1.0997839485858592e-19,\n",
       " 2.683415562050894e-128,\n",
       " 0.5794909109924893]"
      ]
     },
     "execution_count": 122,
     "metadata": {},
     "output_type": "execute_result"
    }
   ],
   "source": [
    "p_val_p"
   ]
  },
  {
   "cell_type": "code",
   "execution_count": 109,
   "metadata": {},
   "outputs": [
    {
     "data": {
      "text/plain": [
       "0   -0.682821\n",
       "1    0.432004\n",
       "2    1.461125\n",
       "3   -3.400123\n",
       "4    2.189815\n",
       "dtype: float64"
      ]
     },
     "execution_count": 109,
     "metadata": {},
     "output_type": "execute_result"
    }
   ],
   "source": [
    "(props['viewed']-props['uviewed'])*100"
   ]
  },
  {
   "cell_type": "code",
   "execution_count": 110,
   "metadata": {},
   "outputs": [
    {
     "data": {
      "text/plain": [
       "0    16.955038\n",
       "1   -10.922178\n",
       "2     3.083799\n",
       "3    -9.322946\n",
       "4     0.206286\n",
       "dtype: float64"
      ]
     },
     "execution_count": 110,
     "metadata": {},
     "output_type": "execute_result"
    }
   ],
   "source": [
    "(props['viewed_and_purch']-props['viewed_and_nopurch'])*100"
   ]
  },
  {
   "cell_type": "markdown",
   "metadata": {},
   "source": [
    "Although there were some significant difference between groups that viewed the offers the effect size is not practially differet.\n",
    "\n",
    "In regards to the differences purchases in those who viewed the offers, the effects sizes are practically different.\n",
    "In K-mean cluster 0, there is a 17percentage point difference \n",
    "In Kmean 1 and 3, there is about a 10% point difference\n",
    "\n"
   ]
  },
  {
   "cell_type": "markdown",
   "metadata": {},
   "source": [
    "#### 4.5 Analysis of differences "
   ]
  },
  {
   "cell_type": "code",
   "execution_count": 111,
   "metadata": {},
   "outputs": [],
   "source": [
    "v_clust_sig = [0,2,3,4]\n",
    "p_clust_sig = [0,1,2,3]\n",
    "all_clust_sig = [0,1,2,3,4]"
   ]
  },
  {
   "cell_type": "markdown",
   "metadata": {},
   "source": [
    "#### Viewed v Unviewed\n",
    "High Significant difference (p < 0.01) in clusters 1,2 </br>\n",
    "Significant difference (P < 0.05) in cluster 3,4\n"
   ]
  },
  {
   "cell_type": "code",
   "execution_count": null,
   "metadata": {},
   "outputs": [],
   "source": []
  },
  {
   "cell_type": "code",
   "execution_count": 156,
   "metadata": {},
   "outputs": [
    {
     "data": {
      "text/html": [
       "<div>\n",
       "<style scoped>\n",
       "    .dataframe tbody tr th:only-of-type {\n",
       "        vertical-align: middle;\n",
       "    }\n",
       "\n",
       "    .dataframe tbody tr th {\n",
       "        vertical-align: top;\n",
       "    }\n",
       "\n",
       "    .dataframe thead th {\n",
       "        text-align: right;\n",
       "    }\n",
       "</style>\n",
       "<table border=\"1\" class=\"dataframe\">\n",
       "  <thead>\n",
       "    <tr style=\"text-align: right;\">\n",
       "      <th></th>\n",
       "      <th>1</th>\n",
       "      <th>2</th>\n",
       "      <th>3</th>\n",
       "      <th>4</th>\n",
       "      <th>5</th>\n",
       "      <th>6</th>\n",
       "      <th>7</th>\n",
       "    </tr>\n",
       "    <tr>\n",
       "      <th>cluster</th>\n",
       "      <th></th>\n",
       "      <th></th>\n",
       "      <th></th>\n",
       "      <th></th>\n",
       "      <th></th>\n",
       "      <th></th>\n",
       "      <th></th>\n",
       "    </tr>\n",
       "  </thead>\n",
       "  <tbody>\n",
       "    <tr>\n",
       "      <th>0</th>\n",
       "      <td>1.01</td>\n",
       "      <td>-0.14</td>\n",
       "      <td>-0.29</td>\n",
       "      <td>0.87</td>\n",
       "      <td>0.01</td>\n",
       "      <td>-0.13</td>\n",
       "      <td>-0.18</td>\n",
       "    </tr>\n",
       "    <tr>\n",
       "      <th>1</th>\n",
       "      <td>-0.09</td>\n",
       "      <td>-0.56</td>\n",
       "      <td>0.96</td>\n",
       "      <td>-0.09</td>\n",
       "      <td>-0.04</td>\n",
       "      <td>0.03</td>\n",
       "      <td>0.01</td>\n",
       "    </tr>\n",
       "    <tr>\n",
       "      <th>2</th>\n",
       "      <td>-0.38</td>\n",
       "      <td>1.70</td>\n",
       "      <td>0.17</td>\n",
       "      <td>-0.03</td>\n",
       "      <td>-0.03</td>\n",
       "      <td>0.01</td>\n",
       "      <td>0.01</td>\n",
       "    </tr>\n",
       "    <tr>\n",
       "      <th>3</th>\n",
       "      <td>-1.30</td>\n",
       "      <td>-0.43</td>\n",
       "      <td>-0.41</td>\n",
       "      <td>-0.00</td>\n",
       "      <td>0.04</td>\n",
       "      <td>0.01</td>\n",
       "      <td>-0.00</td>\n",
       "    </tr>\n",
       "    <tr>\n",
       "      <th>4</th>\n",
       "      <td>1.14</td>\n",
       "      <td>-0.14</td>\n",
       "      <td>-0.41</td>\n",
       "      <td>-0.57</td>\n",
       "      <td>0.02</td>\n",
       "      <td>0.06</td>\n",
       "      <td>0.12</td>\n",
       "    </tr>\n",
       "  </tbody>\n",
       "</table>\n",
       "</div>"
      ],
      "text/plain": [
       "            1     2     3     4     5     6     7\n",
       "cluster                                          \n",
       "0        1.01 -0.14 -0.29  0.87  0.01 -0.13 -0.18\n",
       "1       -0.09 -0.56  0.96 -0.09 -0.04  0.03  0.01\n",
       "2       -0.38  1.70  0.17 -0.03 -0.03  0.01  0.01\n",
       "3       -1.30 -0.43 -0.41 -0.00  0.04  0.01 -0.00\n",
       "4        1.14 -0.14 -0.41 -0.57  0.02  0.06  0.12"
      ]
     },
     "execution_count": 156,
     "metadata": {},
     "output_type": "execute_result"
    }
   ],
   "source": [
    "Xpca_mean_by_kcluster = df_Xpca_ems_all[[0,1,2,3,4,5,6,'cluster']].groupby(by='cluster').mean().round(2).rename(columns={0:1,1:2,2:3,3:4,4:5,5:6,6:7})\n",
    "Xpca_mean_by_kcluster"
   ]
  },
  {
   "cell_type": "code",
   "execution_count": null,
   "metadata": {},
   "outputs": [],
   "source": [
    "\n"
   ]
  },
  {
   "cell_type": "markdown",
   "metadata": {},
   "source": [
    "**Purchasing Clusters - Cluster 2 and Cluster 0** </br>\n",
    "Viewing Dimentions (>0.10)\n",
    "\n",
    "K-Mean Cluster 0: </br>\n",
    "    Significantly less viewers (magnitude:  0.6%)\n",
    "    Of those that viewed signficantly more purchasers (magnitude: 17%)</br>\n",
    "- Dim1:  1.01 \n",
    "    - demographics: age(+++), income(+++),gender_M(+),gender_F(-)\n",
    "- Dim2: -0.14\n",
    "    - demographics: member length (+++)\n",
    "- Dim3: -0.29 \n",
    "    - Demographics: age(+++),income(---),fem(-),male(+)\n",
    "- Dim4:  0.87 \n",
    "    - Study Feat: discount(++), duration(+), difficulty(+), BOGO(--), infor.(-), reward(-)\n",
    "    - Comm. Feat: web(+), social(-), mobile(-)\n",
    "-Dim6: -0.13\n",
    "    - Study Feat: informational(++),duration(-),difficulty(-), bogo(--), reward offered(++), discount(+)\n",
    "    - Comm. Feat: mobile(+), social(-),web(-)\n",
    "-Dim7: -0.18 \n",
    "    - Study Feat.: BOGO(+), Discount(-)\n",
    "    - Comm Feat: Mobile(-), Socal(---), Web(++)\n",
    "    \n",
    "K-Mean Cluster 2: \n",
    "    Significantly more Viewers(magnitude: 1.46%)\n",
    "    Of those that viewed significantly more Purchasers(magnitude: 3.08%) \n",
    "- Dim1: -0.28 \n",
    "    - demographics: age(+++), income(+++),gender_M(+),gender_F(-)\n",
    "- Dim2:  1.70 \n",
    "    - demographics: member length (+++)\n",
    "- Dim3: 0.17\n",
    "    - Demographics: age(+++),income(---),fem(-),male(+)\n",
    "\n",
    "    \n"
   ]
  },
  {
   "cell_type": "markdown",
   "metadata": {},
   "source": [
    "**Non-Purchasing Clusters - Cluster 1 and Cluster 3**\n",
    "\n",
    "K-Mean Cluster 1:</br>\n",
    "    NS in viewers </br>\n",
    "    Of those that viewed, Significantly less purchasers(-10.9%)\n",
    "- Dim 1: (-0.09)\n",
    "    - demographics: age(+++), income(+++),gender_M(+),gender_F(-)\n",
    "- Dim 2: (-0.56)\n",
    "    - demographics: member length (+++)\n",
    "- Dim 3: ( 0.09)\n",
    "    - Demographics: age(+++),income(---),fem(-),male(+)\n",
    "    \n",
    "K-Mean Cluster 3:</br>\n",
    "   Signifcantly less viewers (magnitude: -3.4%)\n",
    "   of those that viewed, Significantly less purchasers (magnitude (-9.3%))\n",
    "- Dim 1: (1.30)\n",
    "    - demographics: age(+++), income(+++),gender_M(+),gender_F(-)\n",
    "- Dim 2: (-0.43)\n",
    "    - demographics: member length (+++)\n",
    "- Dim 3: (-0.41)\n",
    "    - Demographics: age(+++),income(---),fem(-),male(+)"
   ]
  },
  {
   "cell_type": "markdown",
   "metadata": {},
   "source": [
    "K-Mean Cluster 4:</br>\n",
    "    Sig more viewers (2.2%) </br>\n",
    "    NS in purchasers\n",
    "- Dim 1: (1.14)\n",
    "    - demographics: age(+++), income(+++),gender_M(+),gender_F(-)\n",
    "- Dim 2: (-0.14)\n",
    "    - demographics: member length (+++)\n",
    "- Dim 3: ( 0.41)\n",
    "    - Demographics: age(+++),income(---),fem(-),male(+)\n",
    "- Dim 4: (-0.57)\n",
    "    - Study Feat: discount(++), duration(+), difficulty(+), BOGO(--), infor.(-), reward(-)\n",
    "    - Comm. Feat: web(+), social(-), mobile(-)\n",
    "- Dim 7: ( 0.12)\n",
    "    - Study Feat.: BOGO(+), Discount(-)\n",
    "    - Comm Feat: Mobile(-), Socal(---), Web(++)"
   ]
  },
  {
   "cell_type": "code",
   "execution_count": 131,
   "metadata": {},
   "outputs": [
    {
     "data": {
      "image/png": "[encoded data removed]",
      "text/plain": [
       "<Figure size 864x1152 with 3 Axes>"
      ]
     },
     "execution_count": 131,
     "metadata": {},
     "output_type": "execute_result"
    }
   ],
   "source": [
    "fig_4_1c"
   ]
  },
  {
   "cell_type": "code",
   "execution_count": 151,
   "metadata": {},
   "outputs": [],
   "source": [
    "Xpca_means_by_cluster = df_Xpca_ems_all[[0,1,2,3,4,5,6,'cluster']].groupby(by='cluster').mean().round(2).rename(columns={0:1,1:2,2:3,3:4,4:5,5:6,6:7})\n",
    "Xpca_means_by_cluster.to_csv('xpca_by_cluster.csv')"
   ]
  },
  {
   "cell_type": "code",
   "execution_count": 148,
   "metadata": {},
   "outputs": [
    {
     "data": {
      "text/html": [
       "<div>\n",
       "<style scoped>\n",
       "    .dataframe tbody tr th:only-of-type {\n",
       "        vertical-align: middle;\n",
       "    }\n",
       "\n",
       "    .dataframe tbody tr th {\n",
       "        vertical-align: top;\n",
       "    }\n",
       "\n",
       "    .dataframe thead th {\n",
       "        text-align: right;\n",
       "    }\n",
       "</style>\n",
       "<table border=\"1\" class=\"dataframe\">\n",
       "  <thead>\n",
       "    <tr style=\"text-align: right;\">\n",
       "      <th></th>\n",
       "      <th>duration</th>\n",
       "      <th>time</th>\n",
       "      <th>age</th>\n",
       "      <th>income</th>\n",
       "      <th>gender_F</th>\n",
       "      <th>gender_M</th>\n",
       "      <th>gender_O</th>\n",
       "      <th>memb_leng</th>\n",
       "      <th>difficulty</th>\n",
       "      <th>email</th>\n",
       "      <th>mobile</th>\n",
       "      <th>social</th>\n",
       "      <th>web</th>\n",
       "      <th>offer_bogo</th>\n",
       "      <th>offer_discount</th>\n",
       "      <th>offer_informational</th>\n",
       "      <th>reward_offd</th>\n",
       "    </tr>\n",
       "  </thead>\n",
       "  <tbody>\n",
       "    <tr>\n",
       "      <th>Dimension 1</th>\n",
       "      <td>-0.0017</td>\n",
       "      <td>0.0001</td>\n",
       "      <td>0.6813</td>\n",
       "      <td>0.6995</td>\n",
       "      <td>0.1476</td>\n",
       "      <td>-0.1472</td>\n",
       "      <td>-0.0004</td>\n",
       "      <td>0.0558</td>\n",
       "      <td>-0.0012</td>\n",
       "      <td>0.0</td>\n",
       "      <td>0.0007</td>\n",
       "      <td>0.0015</td>\n",
       "      <td>-0.0018</td>\n",
       "      <td>0.0006</td>\n",
       "      <td>-0.0025</td>\n",
       "      <td>0.0019</td>\n",
       "      <td>-0.0003</td>\n",
       "    </tr>\n",
       "    <tr>\n",
       "      <th>Dimension 2</th>\n",
       "      <td>0.0005</td>\n",
       "      <td>-0.0001</td>\n",
       "      <td>-0.0537</td>\n",
       "      <td>-0.0150</td>\n",
       "      <td>-0.0283</td>\n",
       "      <td>0.0299</td>\n",
       "      <td>-0.0017</td>\n",
       "      <td>0.9976</td>\n",
       "      <td>0.0006</td>\n",
       "      <td>-0.0</td>\n",
       "      <td>-0.0004</td>\n",
       "      <td>-0.0019</td>\n",
       "      <td>-0.0009</td>\n",
       "      <td>0.0031</td>\n",
       "      <td>-0.0026</td>\n",
       "      <td>-0.0004</td>\n",
       "      <td>0.0020</td>\n",
       "    </tr>\n",
       "    <tr>\n",
       "      <th>Dimension 3</th>\n",
       "      <td>0.0011</td>\n",
       "      <td>0.0008</td>\n",
       "      <td>0.7285</td>\n",
       "      <td>-0.6708</td>\n",
       "      <td>-0.0971</td>\n",
       "      <td>0.0958</td>\n",
       "      <td>0.0013</td>\n",
       "      <td>0.0235</td>\n",
       "      <td>-0.0005</td>\n",
       "      <td>-0.0</td>\n",
       "      <td>-0.0026</td>\n",
       "      <td>-0.0068</td>\n",
       "      <td>0.0041</td>\n",
       "      <td>-0.0079</td>\n",
       "      <td>0.0042</td>\n",
       "      <td>0.0037</td>\n",
       "      <td>-0.0058</td>\n",
       "    </tr>\n",
       "    <tr>\n",
       "      <th>Dimension 4</th>\n",
       "      <td>0.2930</td>\n",
       "      <td>-0.0008</td>\n",
       "      <td>-0.0053</td>\n",
       "      <td>0.0111</td>\n",
       "      <td>-0.0015</td>\n",
       "      <td>0.0012</td>\n",
       "      <td>0.0002</td>\n",
       "      <td>0.0024</td>\n",
       "      <td>0.2075</td>\n",
       "      <td>0.0</td>\n",
       "      <td>-0.2299</td>\n",
       "      <td>-0.3305</td>\n",
       "      <td>0.2884</td>\n",
       "      <td>-0.4698</td>\n",
       "      <td>0.5953</td>\n",
       "      <td>-0.1255</td>\n",
       "      <td>-0.1865</td>\n",
       "    </tr>\n",
       "    <tr>\n",
       "      <th>Dimension 5</th>\n",
       "      <td>-0.0104</td>\n",
       "      <td>-0.0000</td>\n",
       "      <td>-0.0466</td>\n",
       "      <td>-0.2454</td>\n",
       "      <td>0.6815</td>\n",
       "      <td>-0.6858</td>\n",
       "      <td>0.0044</td>\n",
       "      <td>0.0338</td>\n",
       "      <td>-0.0100</td>\n",
       "      <td>-0.0</td>\n",
       "      <td>-0.0006</td>\n",
       "      <td>-0.0135</td>\n",
       "      <td>-0.0044</td>\n",
       "      <td>-0.0186</td>\n",
       "      <td>-0.0050</td>\n",
       "      <td>0.0237</td>\n",
       "      <td>-0.0172</td>\n",
       "    </tr>\n",
       "    <tr>\n",
       "      <th>Dimension 6</th>\n",
       "      <td>-0.2798</td>\n",
       "      <td>0.0009</td>\n",
       "      <td>-0.0056</td>\n",
       "      <td>0.0134</td>\n",
       "      <td>-0.0269</td>\n",
       "      <td>0.0263</td>\n",
       "      <td>0.0007</td>\n",
       "      <td>0.0006</td>\n",
       "      <td>-0.2993</td>\n",
       "      <td>0.0</td>\n",
       "      <td>0.0965</td>\n",
       "      <td>-0.1427</td>\n",
       "      <td>-0.1535</td>\n",
       "      <td>-0.4728</td>\n",
       "      <td>-0.1142</td>\n",
       "      <td>0.5870</td>\n",
       "      <td>-0.4428</td>\n",
       "    </tr>\n",
       "    <tr>\n",
       "      <th>Dimension 7</th>\n",
       "      <td>-0.0798</td>\n",
       "      <td>0.0015</td>\n",
       "      <td>-0.0015</td>\n",
       "      <td>0.0045</td>\n",
       "      <td>-0.0049</td>\n",
       "      <td>0.0044</td>\n",
       "      <td>0.0005</td>\n",
       "      <td>-0.0034</td>\n",
       "      <td>-0.0280</td>\n",
       "      <td>-0.0</td>\n",
       "      <td>-0.1112</td>\n",
       "      <td>-0.8123</td>\n",
       "      <td>0.3290</td>\n",
       "      <td>0.2942</td>\n",
       "      <td>-0.3481</td>\n",
       "      <td>0.0539</td>\n",
       "      <td>0.0406</td>\n",
       "    </tr>\n",
       "  </tbody>\n",
       "</table>\n",
       "</div>"
      ],
      "text/plain": [
       "             duration    time     age  income  gender_F  gender_M  gender_O  \\\n",
       "Dimension 1   -0.0017  0.0001  0.6813  0.6995    0.1476   -0.1472   -0.0004   \n",
       "Dimension 2    0.0005 -0.0001 -0.0537 -0.0150   -0.0283    0.0299   -0.0017   \n",
       "Dimension 3    0.0011  0.0008  0.7285 -0.6708   -0.0971    0.0958    0.0013   \n",
       "Dimension 4    0.2930 -0.0008 -0.0053  0.0111   -0.0015    0.0012    0.0002   \n",
       "Dimension 5   -0.0104 -0.0000 -0.0466 -0.2454    0.6815   -0.6858    0.0044   \n",
       "Dimension 6   -0.2798  0.0009 -0.0056  0.0134   -0.0269    0.0263    0.0007   \n",
       "Dimension 7   -0.0798  0.0015 -0.0015  0.0045   -0.0049    0.0044    0.0005   \n",
       "\n",
       "             memb_leng  difficulty  email  mobile  social     web  offer_bogo  \\\n",
       "Dimension 1     0.0558     -0.0012    0.0  0.0007  0.0015 -0.0018      0.0006   \n",
       "Dimension 2     0.9976      0.0006   -0.0 -0.0004 -0.0019 -0.0009      0.0031   \n",
       "Dimension 3     0.0235     -0.0005   -0.0 -0.0026 -0.0068  0.0041     -0.0079   \n",
       "Dimension 4     0.0024      0.2075    0.0 -0.2299 -0.3305  0.2884     -0.4698   \n",
       "Dimension 5     0.0338     -0.0100   -0.0 -0.0006 -0.0135 -0.0044     -0.0186   \n",
       "Dimension 6     0.0006     -0.2993    0.0  0.0965 -0.1427 -0.1535     -0.4728   \n",
       "Dimension 7    -0.0034     -0.0280   -0.0 -0.1112 -0.8123  0.3290      0.2942   \n",
       "\n",
       "             offer_discount  offer_informational  reward_offd  \n",
       "Dimension 1         -0.0025               0.0019      -0.0003  \n",
       "Dimension 2         -0.0026              -0.0004       0.0020  \n",
       "Dimension 3          0.0042               0.0037      -0.0058  \n",
       "Dimension 4          0.5953              -0.1255      -0.1865  \n",
       "Dimension 5         -0.0050               0.0237      -0.0172  \n",
       "Dimension 6         -0.1142               0.5870      -0.4428  \n",
       "Dimension 7         -0.3481               0.0539       0.0406  "
      ]
     },
     "execution_count": 148,
     "metadata": {},
     "output_type": "execute_result"
    }
   ],
   "source": [
    "res"
   ]
  },
  {
   "cell_type": "code",
   "execution_count": 115,
   "metadata": {},
   "outputs": [
    {
     "data": {
      "image/png": "[encoded data removed]",
      "text/plain": [
       "<Figure size 1080x576 with 4 Axes>"
      ]
     },
     "metadata": {},
     "output_type": "display_data"
    }
   ],
   "source": [
    "## Graph pca dimentions to K-Mean\n",
    "sns.set_style(\"darkgrid\")\n",
    "fig_4_3a, ax_4_3a = plt.subplots(nrows = 2, ncols= 2, sharex= True,sharey=True, figsize=(15,8))\n",
    "sns.boxplot(data=df_Xpca_emsv_melt[df_Xpca_emsv_melt.cluster==v_clust_sig[0]],x='pca_dim',y='value',ax=ax_4_3a[0,0]).annotate(s='k-mean :'+ str(v_clust_sig[0]),xy=(5,-2),fontsize=12)\n",
    "sns.boxplot(data=df_Xpca_emsv_melt[df_Xpca_emsv_melt.cluster==v_clust_sig[1]],x='pca_dim',y='value',ax=ax_4_3a[0,1]).annotate(s='k-mean :'+ str(v_clust_sig[1]),xy=(5,-2),fontsize=12)\n",
    "sns.boxplot(data=df_Xpca_emsv_melt[df_Xpca_emsv_melt.cluster==v_clust_sig[2]],x='pca_dim',y='value',ax=ax_4_3a[1,0]).annotate(s='k-mean :'+ str(v_clust_sig[2]),xy=(5,-2),fontsize=12)\n",
    "sns.boxplot(data=df_Xpca_emsv_melt[df_Xpca_emsv_melt.cluster==v_clust_sig[3]],x='pca_dim',y='value',ax=ax_4_3a[1,1]).annotate(s='k-mean :'+ str(v_clust_sig[3]),xy=(5,-2),fontsize=12)\n",
    "\n",
    "fig_4_3a.subplots_adjust(hspace = 0.25)\n",
    "fig_4_3a.subplots_adjust(wspace = 0.1)\n",
    "\n",
    "ax_4_3a[0,0].set_ybound(df_Xpca_emsv_melt.value.min()-0.5,df_Xpca_emsv_melt.value.max()+1)\n",
    "\n",
    "ax_4_3a[1,0].set(xticklabels=(df_Xpca_emsv_melt.pca_dim.unique()+1));\n",
    "ax_4_3a[1,1].set(xticklabels=(df_Xpca_emsv_melt.pca_dim.unique()+1));\n",
    "\n"
   ]
  },
  {
   "cell_type": "code",
   "execution_count": 130,
   "metadata": {},
   "outputs": [
    {
     "data": {
      "image/png": "[encoded data removed]",
      "text/plain": [
       "<Figure size 864x1152 with 3 Axes>"
      ]
     },
     "execution_count": 130,
     "metadata": {},
     "output_type": "execute_result"
    }
   ],
   "source": [
    "fig_4_1c"
   ]
  },
  {
   "cell_type": "markdown",
   "metadata": {},
   "source": [
    "#### Viewed and Purchased v Not-Purchased\n",
    "High Significant difference (p < 0.01) in clusters 0,1,2,3"
   ]
  },
  {
   "cell_type": "code",
   "execution_count": null,
   "metadata": {},
   "outputs": [],
   "source": [
    "Xpca_view_mean = df_Xpca_emsv.drop(columns=['purchase']).groupby(by='cluster').mean()\n",
    "K_mean_feat_v = pd.DataFrame(np.dot(Xpca_view_mean,res).T,index=res.columns)\n",
    "K_mean_feat_v.drop(columns=1,inplace=True)\n",
    "K_mean_feat_v_melt = K_mean_feat_v.reset_index().rename(columns={'index':'features'}).melt(id_vars='features')\n",
    "K_mean_feat_v_melt = K_mean_feat_v_melt[abs(K_mean_feat_v_melt.value)>0.1]\n",
    "\n",
    "blahv,blahaxv = plt.subplots(figsize=(12,8))\n",
    "sns.barplot(data=K_mean_feat_v_melt,x='variable',y='value',hue='features',ax=blahaxv)\n",
    "blahaxv.legend(loc=1)"
   ]
  },
  {
   "cell_type": "code",
   "execution_count": null,
   "metadata": {},
   "outputs": [],
   "source": [
    "Xpca_purch_mean = df_Xpca_emsp.drop(columns=['purchase']).groupby(by='cluster').mean()\n",
    "K_mean_feat_p = pd.DataFrame(np.dot(Xpca_purch_mean,res).T,index=res.columns)\n",
    "K_mean_feat_p.drop(columns=4,inplace=True)\n",
    "K_mean_feat_p_melt = K_mean_feat_p.reset_index().rename(columns={'index':'features'}).melt(id_vars='features')\n",
    "K_mean_feat_p_melt = K_mean_feat_p_melt[abs(K_mean_feat_p_melt.value)>0.1]\n",
    "\n",
    "blah,blahax = plt.subplots(figsize=(12,8))\n",
    "sns.barplot(data=K_mean_feat_p_melt,x='variable',y='value',hue='features',ax=blahax)\n",
    "blahax.legend(loc=1)"
   ]
  },
  {
   "cell_type": "markdown",
   "metadata": {},
   "source": [
    "Viewed\n",
    "\n"
   ]
  },
  {
   "cell_type": "markdown",
   "metadata": {},
   "source": [
    "### 4.3 - Analyze clusters for comprehension of differences\n",
    "<a id='sec_4_3'></a>\n",
    "<a href='#TOC'>Jump to Top</a>"
   ]
  },
  {
   "cell_type": "code",
   "execution_count": null,
   "metadata": {},
   "outputs": [],
   "source": []
  },
  {
   "cell_type": "code",
   "execution_count": null,
   "metadata": {},
   "outputs": [],
   "source": [
    "df_Xpca_ems_all.head()"
   ]
  },
  {
   "cell_type": "code",
   "execution_count": null,
   "metadata": {},
   "outputs": [],
   "source": []
  },
  {
   "cell_type": "code",
   "execution_count": null,
   "metadata": {},
   "outputs": [],
   "source": []
  },
  {
   "cell_type": "code",
   "execution_count": null,
   "metadata": {},
   "outputs": [],
   "source": []
  },
  {
   "cell_type": "code",
   "execution_count": null,
   "metadata": {},
   "outputs": [],
   "source": [
    "p_table_view = pd.DataFrame(columns=['k_mean','pca_dim','p_value'])\n",
    "p_table_purch = pd.DataFrame(columns=['k_mean','pca_dim','p_value'])\n",
    "\n",
    "for k_m in df_Xpca_emsv_melt.cluster.unique():\n",
    "    for p_d in df_Xpca_emsv_melt.pca_dim.unique():\n",
    "        stat,p_val = stats.ttest_ind(df_Xpca_emsv_melt[(df_Xpca_emsv_melt.cluster == k_m) & (df_Xpca_emsv_melt.purchase == False) & (df_Xpca_emsv_melt.pca_dim == p_d)].value,\n",
    "                    df_Xpca_emsv_melt[(df_Xpca_emsv_melt.cluster == k_m) & (df_Xpca_emsv_melt.purchase == True) &  (df_Xpca_emsv_melt.pca_dim == p_d)].value,\n",
    "                    equal_var=False)\n",
    "        p_table_view = p_table_view.append({'k_mean': k_m, 'pca_dim': p_d, 'p_value': p_val},ignore_index=True)\n",
    "            \n",
    "for k_m in df_Xpca_emsp_melt.cluster.unique():\n",
    "    for p_d in df_Xpca_emsp_melt.pca_dim.unique():\n",
    "        stat,p_val = stats.ttest_ind(df_Xpca_emsp_melt[(df_Xpca_emsp_melt.cluster == k_m) & (df_Xpca_emsp_melt.purchase == False) & (df_Xpca_emsp_melt.pca_dim == p_d)].value,\n",
    "                    df_Xpca_emsp_melt[(df_Xpca_emsp_melt.cluster == k_m) & (df_Xpca_emsp_melt.purchase == True) &  (df_Xpca_emsp_melt.pca_dim == p_d)].value,\n",
    "                    equal_var=False)\n",
    "        p_table_purch = p_table_purch.append({'k_mean': k_m, 'pca_dim': p_d, 'p_value': p_val},ignore_index=True)"
   ]
  },
  {
   "cell_type": "code",
   "execution_count": null,
   "metadata": {},
   "outputs": [],
   "source": [
    "##TODO: Just plot the PCA boxplots for the dimentions that are helpful, using the 'all' data"
   ]
  },
  {
   "cell_type": "code",
   "execution_count": null,
   "metadata": {},
   "outputs": [],
   "source": [
    "df_Xpca_emsv_melt.pca_dim.unique()+1"
   ]
  },
  {
   "cell_type": "code",
   "execution_count": null,
   "metadata": {},
   "outputs": [],
   "source": [
    "df_Xpca_emsv.boxplot(by='cluster',column=[0,1,2,3,4,5],figsize=(9,9))"
   ]
  },
  {
   "cell_type": "code",
   "execution_count": null,
   "metadata": {},
   "outputs": [],
   "source": [
    "##\n",
    "sns.set_style(\"darkgrid\")\n",
    "fig_4_3a, ax_4_3a = plt.subplots(nrows = 4, ncols= 1, sharey=True, figsize=(9,15))\n",
    "for cl in range(len(v_clust_sig)):\n",
    "    sns.boxplot(data=df_Xpca_emsv_melt[df_Xpca_emsv_melt.cluster==v_clust_sig[cl]],x='pca_dim',y='value',ax=ax_4_3a[cl])\n",
    "    ax_4_3a[cl].annotate(s='k-mean :'+ str(v_clust_sig[cl]),xy=(5,-2),fontsize=12)\n",
    "fig_4_3a.subplots_adjust(hspace = 0)\n",
    "\n",
    "ax_4_3a[0].set_ybound(df_Xpca_emsv_melt.value.min()-0.5,df_Xpca_emsv_melt.value.max()+1)\n",
    "\n",
    "ax_4_3a[3].set(xticklabels=df_Xpca_emsv_melt.pca_dim.unique()+1);\n",
    "\n"
   ]
  },
  {
   "cell_type": "code",
   "execution_count": null,
   "metadata": {},
   "outputs": [],
   "source": []
  },
  {
   "cell_type": "code",
   "execution_count": null,
   "metadata": {},
   "outputs": [],
   "source": [
    "sns.set_style(\"darkgrid\")\n",
    "fig_4_3b, ax_4_3b = plt.subplots(nrows = 4, ncols= 1, sharey=True, figsize=(9,15))\n",
    "for cl in range(len(p_clust_sig)):\n",
    "    sns.boxplot(data=df_Xpca_emsp_melt[df_Xpca_emsp_melt.cluster==p_clust_sig[cl]],x='pca_dim',y='value',ax=ax_4_3b[cl])\n",
    "    ax_4_3b[cl].annotate(s='k-mean :'+ str(p_clust_sig[cl]),xy=(5,-2),fontsize=12)\n",
    "fig_4_3b.subplots_adjust(hspace = 0)\n",
    "\n",
    "ax_4_3b[0].set_ybound(df_Xpca_emsp_melt.value.min()-0.5,df_Xpca_emsp_melt.value.max()+1)\n",
    "\n",
    "ax_4_3b[3].set(xticklabels=df_Xpca_emsp_melt.pca_dim.unique()+1);"
   ]
  },
  {
   "cell_type": "markdown",
   "metadata": {},
   "source": [
    "## Purch Graph\n",
    "\n",
    "fig_4_3c, ax_4_3c = plt.subplots(nrows = 4, ncols= 1,sharey=True, figsize=(9,15))\n",
    "for cl in range(len(p_clust_sig)):\n",
    "    sns.boxplot(data=df_Xpca_emsp_melt[df_Xpca_emsp_melt['cluster']==cl],x='pca_dim',y='value',hue='purchase',ax=ax_4_3c[cl])\n",
    "fig_4_3c.subplots_adjust(hspace = 0)\n",
    "\n",
    "col1 = 'red'\n",
    "col2 = 'blue'\n",
    "\n",
    "for ax in range(len(ax_4_3c)): # loop for every subplot\n",
    "    yoffsets = []  # list to store yoffsets for annotations\n",
    "    for x in ax_4_3c[ax].get_xticks(): # loop through every boxplot in subplot\n",
    "        yoffsets.append(df_Xpca_emsp_melt[(df_Xpca_emsp_melt.cluster==p_clust_sig[ax]) &\n",
    "                                         (df_Xpca_emsp_melt.pca_dim==x)].value.max()) # position above max value\n",
    "        if float(p_table_purch[(p_table_purch.k_mean == p_clust_sig[ax]) & (p_table_view.pca_dim == x)].p_value) < 0.01:\n",
    "            ax_4_3c[ax].text(x, yoffsets[x] , \"**\", fontsize=16,ha='center', va='bottom', color=col1)\n",
    "            continue\n",
    "        elif float(p_table_purch[(p_table_purch.k_mean == p_clust_sig[ax]) & (p_table_purch.pca_dim == x)].p_value) < 0.05:\n",
    "            ax_4_3c[ax].text(x, yoffsets[x] , \"*\", fontsize=16,ha='center', va='bottom', color=col2)\n",
    "            continue\n",
    "\n",
    "ax_4_3c[0].set_ybound(df_Xpca_emsp_melt.value.min()-0.5,df_Xpca_emsp_melt.value.max()+1)\n",
    "for blah in range(len(ax_4_3c)):\n",
    "    ax_4_3c[blah].annotate(s='k-mean :'+ str(p_clust_sig[blah]),xy=(5,-2),fontsize=12)\n",
    "ax_4_3c[3].set(xticklabels=df_Xpca_emsp_melt.pca_dim.unique()+1);"
   ]
  },
  {
   "cell_type": "code",
   "execution_count": null,
   "metadata": {},
   "outputs": [],
   "source": [
    "results_4_3_c = df_Xpca_emsp.groupby(by=['cluster','purchase']).mean()\n",
    "results_4_3_c.to_csv('results_4_3_c.csv')"
   ]
  },
  {
   "cell_type": "code",
   "execution_count": null,
   "metadata": {},
   "outputs": [],
   "source": []
  },
  {
   "cell_type": "markdown",
   "metadata": {},
   "source": [
    "## View Graph\n",
    "fig_4_3c, ax_4_3c = plt.subplots(nrows = 4, ncols= 1,sharey=True, figsize=(9,15))\n",
    "for cl in range(len(v_clust_sig)):\n",
    "    sns.boxplot(data=df_Xpca_emsv_melt[df_Xpca_emsv_melt['cluster']==cl],x='pca_dim',y='value',hue='purchase',ax=ax_4_3c[cl])\n",
    "fig_4_3c.subplots_adjust(hspace = 0)\n",
    "\n",
    "col1 = 'red'\n",
    "col2 = 'blue'\n",
    "\n",
    "for ax in range(len(ax_4_3c)): # loop for every subplot\n",
    "    yoffsets = []  # list to store yoffsets for annotations\n",
    "    for x in ax_4_3c[ax].get_xticks(): # loop through every boxplot in subplot\n",
    "        yoffsets.append(df_Xpca_emsv_melt[(df_Xpca_emsv_melt.cluster==v_clust_sig[ax]) &\n",
    "                                         (df_Xpca_emsv_melt.pca_dim==x)].value.max()) # position above max value\n",
    "        if float(p_table_view[(p_table_view.k_mean == v_clust_sig[ax]) & (p_table_view.pca_dim == x)].p_value) < 0.01:\n",
    "            ax_4_3c[ax].text(x, yoffsets[x] , \"**\", fontsize=16,ha='center', va='bottom', color=col1)\n",
    "            continue\n",
    "        elif float(p_table_view[(p_table_view.k_mean == p_clust_sig[ax]) & (p_table_view.pca_dim == x)].p_value) < 0.05:\n",
    "            ax_4_3b[ax].text(x, yoffsets[x] , \"*\", fontsize=16,ha='center', va='bottom', color=col2)\n",
    "            continue\n",
    "\n",
    "ax_4_3b[0].set_ybound(df_Xpca_emsp_melt.value.min()-0.5,df_Xpca_emsp_melt.value.max()+1)\n",
    "for blah in range(len(ax_4_3b)):\n",
    "    ax_4_3b[blah].annotate(s='k-mean :'+ str(p_clust_sig[blah]),xy=(5,-2),fontsize=12)"
   ]
  },
  {
   "cell_type": "markdown",
   "metadata": {},
   "source": [
    "#### 4.3.1: Purchase Cluster Analysis"
   ]
  },
  {
   "cell_type": "markdown",
   "metadata": {},
   "source": [
    "Below I am going to multiply the average Xpca value of the cluster and multiply it against the eigenvector"
   ]
  },
  {
   "cell_type": "code",
   "execution_count": null,
   "metadata": {},
   "outputs": [],
   "source": [
    "cl_1_p= df_Xpca_emsp[df_Xpca_emsp.cluster==1].drop(columns=['cluster','purchase']).mean().values.reshape((7,1))\n",
    "cl_2_p= df_Xpca_emsp[df_Xpca_emsp.cluster==2].drop(columns=['cluster','purchase']).mean().values.reshape((7,1))\n",
    "cl_3_p= df_Xpca_emsp[df_Xpca_emsp.cluster==3].drop(columns=['cluster','purchase']).mean().values.reshape((7,1))\n",
    "cl_4_p= df_Xpca_emsp[df_Xpca_emsp.cluster==4].drop(columns=['cluster','purchase']).mean().values.reshape((7,1))\n",
    "df_pca_cl_p = pd.DataFrame(np.dot(res.transpose().values,cl_2_p),index=res.columns).sort_values(by=0, ascending=False)\n",
    "\n",
    "df_pca_cl_2_p = pd.DataFrame(np.dot(res.transpose().values,cl_2_p),index=res.columns).sort_values(by=0, ascending=False)"
   ]
  },
  {
   "cell_type": "code",
   "execution_count": null,
   "metadata": {},
   "outputs": [],
   "source": [
    "df_pca_cl_2_p.iloc[:4,:],df_pca_cl_2_p.iloc[-4:,:]"
   ]
  },
  {
   "cell_type": "code",
   "execution_count": null,
   "metadata": {},
   "outputs": [],
   "source": []
  },
  {
   "cell_type": "code",
   "execution_count": null,
   "metadata": {},
   "outputs": [],
   "source": [
    "def mean_xpca_per_cluster(xpca,cluster=0):\n",
    "    return xpca[xpca.cluster==cluster].drop(columns=['cluster','purchase']).mean().values.reshape((7,1))"
   ]
  },
  {
   "cell_type": "code",
   "execution_count": null,
   "metadata": {},
   "outputs": [],
   "source": [
    "pca_mag_p1 = np.dot(res.transpose().values,mean_xpca_per_cluster(df_Xpca_emsp,cluster=1))\n",
    "pca_mag_p2 = np.dot(res.transpose().values,mean_xpca_per_cluster(df_Xpca_emsp,cluster=2))\n",
    "pca_mag_p3 = np.dot(res.transpose().values,mean_xpca_per_cluster(df_Xpca_emsp,cluster=3))\n",
    "pca_mag_p4 = np.dot(res.transpose().values,mean_xpca_per_cluster(df_Xpca_emsp,cluster=4))\n",
    "pca_mag_p0 = np.dot(res.transpose().values,mean_xpca_per_cluster(df_Xpca_emsv,cluster=0))\n",
    "pca_mag_p1 = np.dot(res.transpose().values,mean_xpca_per_cluster(df_Xpca_emsv,cluster=1))\n",
    "pca_mag_p2 = np.dot(res.transpose().values,mean_xpca_per_cluster(df_Xpca_emsv,cluster=2))\n",
    "pca_mag_p3 = np.dot(res.transpose().values,mean_xpca_per_cluster(df_Xpca_emsv,cluster=3))"
   ]
  },
  {
   "cell_type": "code",
   "execution_count": null,
   "metadata": {},
   "outputs": [],
   "source": [
    "pd.DataFrame(pca_mag_p1).head()"
   ]
  },
  {
   "cell_type": "code",
   "execution_count": null,
   "metadata": {},
   "outputs": [],
   "source": [
    "cl_2_all= df_Xpca_ems_all[df_Xpca_ems_all.cluster==2].drop(columns=['cluster']).mean().values.reshape((7,1))\n",
    "cl_2_v= df_Xpca_emsv[df_Xpca_emsv.cluster==2].drop(columns=['cluster','purchase']).mean().values.reshape((7,1))\n",
    "cl_2_p= df_Xpca_emsp[df_Xpca_emsp.cluster==2].drop(columns=['cluster','purchase']).mean().values.reshape((7,1))\n"
   ]
  },
  {
   "cell_type": "code",
   "execution_count": null,
   "metadata": {},
   "outputs": [],
   "source": [
    "cl_2_all= df_Xpca_ems_all[df_Xpca_ems_all.cluster==2].drop(columns=['cluster']).mean().values.reshape((7,1))\n",
    "cl_2_v= df_Xpca_emsv[df_Xpca_emsv.cluster==2].drop(columns=['cluster','purchase']).mean().values.reshape((7,1))\n",
    "cl_2_p= df_Xpca_emsp[df_Xpca_emsp.cluster==2].drop(columns=['cluster','purchase']).mean().values.reshape((7,1))\n"
   ]
  },
  {
   "cell_type": "code",
   "execution_count": null,
   "metadata": {},
   "outputs": [],
   "source": [
    "cl_2_all= df_Xpca_ems_all[df_Xpca_ems_all.cluster==2].drop(columns=['cluster']).mean().values.reshape((7,1))\n",
    "cl_2_v= df_Xpca_emsv[df_Xpca_emsv.cluster==2].drop(columns=['cluster','purchase']).mean().values.reshape((7,1))\n",
    "cl_2_p= df_Xpca_emsp[df_Xpca_emsp.cluster==2].drop(columns=['cluster','purchase']).mean().values.reshape((7,1))\n"
   ]
  },
  {
   "cell_type": "code",
   "execution_count": null,
   "metadata": {},
   "outputs": [],
   "source": []
  },
  {
   "cell_type": "code",
   "execution_count": null,
   "metadata": {},
   "outputs": [],
   "source": []
  },
  {
   "cell_type": "code",
   "execution_count": null,
   "metadata": {},
   "outputs": [],
   "source": [
    "cl_2_all= df_Xpca_ems_all[df_Xpca_ems_all.cluster==2].drop(columns=['cluster']).mean().values.reshape((7,1))\n",
    "cl_2_v= df_Xpca_emsv[df_Xpca_emsv.cluster==2].drop(columns=['cluster','purchase']).mean().values.reshape((7,1))\n",
    "cl_2_p= df_Xpca_emsp[df_Xpca_emsp.cluster==2].drop(columns=['cluster','purchase']).mean().values.reshape((7,1))\n"
   ]
  },
  {
   "cell_type": "code",
   "execution_count": null,
   "metadata": {},
   "outputs": [],
   "source": []
  },
  {
   "cell_type": "markdown",
   "metadata": {},
   "source": [
    "#### **Viewed**</br>\n",
    "**Cluster 2 has the highest magnitude of differences, followed by 0 and 3.** </br>\n",
    "unviewed is represented more by cluster 2</br>\n",
    "viewed is represented more by cluster 0 and 3</br>\n",
    "\n",
    "#### **Purch** </br>\n",
    "**Cluster 1 has the highest magnitude of differences, followed by 4,2,then 3**</br>\n",
    "purchase is more represented in cluster 1 and 3\n",
    "no_purchase is more represented in 4 and 2\n",
    "\n",
    "\n",
    "\n"
   ]
  },
  {
   "cell_type": "code",
   "execution_count": null,
   "metadata": {},
   "outputs": [],
   "source": [
    "Viewed\n",
    "* "
   ]
  },
  {
   "cell_type": "code",
   "execution_count": null,
   "metadata": {},
   "outputs": [],
   "source": []
  }
 ],
 "metadata": {
  "kernelspec": {
   "display_name": "Python 3",
   "language": "python",
   "name": "python3"
  },
  "language_info": {
   "codemirror_mode": {
    "name": "ipython",
    "version": 3
   },
   "file_extension": ".py",
   "mimetype": "text/x-python",
   "name": "python",
   "nbconvert_exporter": "python",
   "pygments_lexer": "ipython3",
   "version": "3.6.8"
  }
 },
 "nbformat": 4,
 "nbformat_minor": 4
}
