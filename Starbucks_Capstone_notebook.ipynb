{
 "cells": [
  {
   "cell_type": "markdown",
   "metadata": {
    "Collapsed": "false"
   },
   "source": [
    "# Starbucks Capstone Challenge"
   ]
  },
  {
   "cell_type": "markdown",
   "metadata": {
    "Collapsed": "false"
   },
   "source": [
    "- <a id='TOC'>Table of Contents</a>\n",
    "    - <a href='#Intro'>Introduction </a>\n",
    "        - <a href='#Dataset'>Datasets definition </a>\n",
    "        - <a href='#authornote'>Author Notes</a> \n",
    "    - <a href='#sec_0_0'>Section 0: Import Librarys and Data </a>\n",
    "    - <a href='#sec_1_0'>Section 1: Clean and Organizae Data </a>\n",
    "        - <a href='#sec_1_1'>Section 1.1: Match Transcript </a>\n",
    "    - <a href='#sec_2_0'>Section 2: Explore Data </a>\n",
    "        - <a href='#sec_2_1'>Section 2.1: Genreal Exploration </a>\n",
    "        - <a href='#sec_2_2'>Section 2.2: Demographic Histographical Analysis </a>\n",
    "        - <a href='#sec_2_3'>Section 2.3: Exploration of Offer Factors Variables </a>\n",
    "        - <a href='#sec_2_4'>Section 2.3: Exploration of Response Variables </a>\n",
    "    - <a href='#sec_3_0'>Section 3: Model Data </a>\n",
    "\n",
    "\n",
    "\n",
    "- Graphs\n",
    "    -<a href='#fig2_4d'>\n",
    "    -<a href='#fig2_4e'>Fig 2.4f</a>\n",
    "    -<a href='#fig2_4g'>Fig 2.4g: Frequency of the Time of Offer Response (by gender)</a>"
   ]
  },
  {
   "cell_type": "markdown",
   "metadata": {
    "Collapsed": "false"
   },
   "source": [
    "<a id='Intro'></a>\n",
    "## Introduction  \n",
    "<a href='#TOC'>Jump to top </a>\n",
    "\n",
    "This data set contains simulated data that mimics customer behavior on the Starbucks rewards mobile app. Once every few days, Starbucks sends out an offer to users of the mobile app. An offer can be merely an advertisement for a drink or an actual offer such as a discount or BOGO (buy one get one free). Some users might not receive any offer during certain weeks. \n",
    "\n",
    "Not all users receive the same offer, and that is the challenge to solve with this data set.\n",
    "\n",
    "Your task is to combine transaction, demographic and offer data to determine which demographic groups respond best to which offer type. This data set is a simplified version of the real Starbucks app because the underlying simulator only has one product whereas Starbucks actually sells dozens of products.\n",
    "\n",
    "Every offer has a validity period before the offer expires. As an example, a BOGO offer might be valid for only 5 days. You'll see in the data set that informational offers have a validity period even though these ads are merely providing information about a product; for example, if an informational offer has 7 days of validity, you can assume the customer is feeling the influence of the offer for 7 days after receiving the advertisement.\n",
    "\n",
    "You'll be given transactional data showing user purchases made on the app including the timestamp of purchase and the amount of money spent on a purchase. This transactional data also has a record for each offer that a user receives as well as a record for when a user actually views the offer. There are also records for when a user completes an offer. \n",
    "\n",
    "Keep in mind as well that someone using the app might make a purchase through the app without having received an offer or seen an offer.\n",
    "\n",
    "### Example\n",
    "\n",
    "To give an example, a user could receive a discount offer buy 10 dollars get 2 off on Monday. The offer is valid for 10 days from receipt. If the customer accumulates at least 10 dollars in purchases during the validity period, the customer completes the offer.\n",
    "\n",
    "However, there are a few things to watch out for in this data set. Customers do not opt into the offers that they receive; in other words, a user can receive an offer, never actually view the offer, and still complete the offer. For example, a user might receive the \"buy 10 dollars get 2 dollars off offer\", but the user never opens the offer during the 10 day validity period. The customer spends 15 dollars during those ten days. There will be an offer completion record in the data set; however, the customer was not influenced by the offer because the customer never viewed the offer.\n",
    "\n",
    "### Cleaning\n",
    "\n",
    "This makes data cleaning especially important and tricky.\n",
    "\n",
    "You'll also want to take into account that some demographic groups will make purchases even if they don't receive an offer. From a business perspective, if a customer is going to make a 10 dollar purchase without an offer anyway, you wouldn't want to send a buy 10 dollars get 2 dollars off offer. You'll want to try to assess what a certain demographic group will buy when not receiving any offers.\n",
    "\n",
    "### Final Advice\n",
    "\n",
    "Because this is a capstone project, you are free to analyze the data any way you see fit. For example, you could build a machine learning model that predicts how much someone will spend based on demographics and offer type. Or you could build a model that predicts whether or not someone will respond to an offer. Or, you don't need to build a machine learning model at all. You could develop a set of heuristics that determine what offer you should send to each customer (i.e., 75 percent of women customers who were 35 years old responded to offer A vs 40 percent from the same demographic to offer B, so send offer A)."
   ]
  },
  {
   "cell_type": "markdown",
   "metadata": {
    "Collapsed": "false"
   },
   "source": [
    "<a id='Dataset'></a>\n",
    "\n",
    "### Data Sets\n",
    "<a href='#TOC'>Jump to top </a>\n",
    "\n",
    "The data is contained in three files:\n",
    "\n",
    "* portfolio.json - containing offer ids and meta data about each offer (duration, type, etc.)\n",
    "* profile.json - demographic data for each customer\n",
    "* transcript.json - records for transactions, offers received, offers viewed, and offers completed\n",
    "\n",
    "Here is the schema and explanation of each variable in the files:\n",
    "\n",
    "**portfolio.json**\n",
    "* id (string) - offer id\n",
    "* offer_type (string) - type of offer ie BOGO, discount, informational\n",
    "* difficulty (int) - minimum required spend to complete an offer\n",
    "* reward (int) - reward given for completing an offer\n",
    "* duration (int) - time for offer to be open, in days\n",
    "* channels (list of strings)\n",
    "\n",
    "**profile.json**\n",
    "* age (int) - age of the customer \n",
    "* became_member_on (int) - date when customer created an app account\n",
    "* gender (str) - gender of the customer (note some entries contain 'O' for other rather than M or F)\n",
    "* id (str) - customer id\n",
    "* income (float) - customer's income\n",
    "\n",
    "**transcript.json**\n",
    "* event (str) - record description (ie transaction, offer received, offer viewed, etc.)\n",
    "* person (str) - customer id\n",
    "* time (int) - time in hours since start of test. The data begins at time t=0\n",
    "* value - (dict of strings) - either an offer id or transaction amount depending on the record\n"
   ]
  },
  {
   "cell_type": "markdown",
   "metadata": {
    "Collapsed": "false"
   },
   "source": [
    "<a id='authornote'></a>\n",
    "### Author Notes"
   ]
  },
  {
   "cell_type": "markdown",
   "metadata": {
    "Collapsed": "false"
   },
   "source": [
    "Expanded notes on thought process are contained in <a href='Notes.ipynb'>Notes.ipynb Jupyter notebook</a> which is stored in the same directory"
   ]
  },
  {
   "cell_type": "markdown",
   "metadata": {
    "Collapsed": "false"
   },
   "source": [
    "<a id='sec_0_0'></a>\n",
    "## 0. Import Librarys and Data\n",
    "<a href='#TOC'>Jump to top </a>"
   ]
  },
  {
   "cell_type": "code",
   "execution_count": 1,
   "metadata": {
    "Collapsed": "false"
   },
   "outputs": [],
   "source": [
    "import pandas as pd\n",
    "import numpy as np\n",
    "import math\n",
    "from tqdm import tqdm\n",
    "tqdm.pandas()\n",
    "import json\n",
    "\n",
    "\n",
    "from sklearn.preprocessing import MultiLabelBinarizer\n",
    "from sklearn.preprocessing import StandardScaler\n",
    "from sklearn.decomposition import PCA\n",
    "from sklearn.preprocessing import Imputer \n",
    "from sklearn.cluster import KMeans\n",
    "from sklearn.naive_bayes import GaussianNB\n",
    "from sklearn.metrics.classification import confusion_matrix\n",
    "import sklearn.metrics as met\n",
    "from sklearn.model_selection import train_test_split\n",
    "from scipy import stats\n",
    "\n",
    "import matplotlib.pyplot as plt\n",
    "import seaborn as sns\n",
    "%matplotlib inline"
   ]
  },
  {
   "cell_type": "markdown",
   "metadata": {},
   "source": []
  },
  {
   "cell_type": "code",
   "execution_count": 2,
   "metadata": {
    "Collapsed": "false"
   },
   "outputs": [],
   "source": [
    "# read in the json files\n",
    "portfolio = pd.read_json('data/portfolio.json', orient='records', lines=True)\n",
    "profile = pd.read_json('data/profile.json', orient='records', lines=True)\n",
    "transcript = pd.read_json('data/transcript.json', orient='records', lines=True)"
   ]
  },
  {
   "cell_type": "markdown",
   "metadata": {
    "Collapsed": "false"
   },
   "source": [
    "<a href='#pick_load'>Jump to the latest pickle load checkpoint</a>"
   ]
  },
  {
   "cell_type": "markdown",
   "metadata": {
    "Collapsed": "false"
   },
   "source": [
    "<a id='sec_1_0'></a>\n",
    "## 1. Clean and Organize Data\n",
    "\n",
    "<a href='#TOC'>Jump to top </a>"
   ]
  },
  {
   "cell_type": "code",
   "execution_count": 3,
   "metadata": {
    "Collapsed": "false"
   },
   "outputs": [
    {
     "data": {
      "text/plain": [
       "True"
      ]
     },
     "execution_count": 3,
     "metadata": {},
     "output_type": "execute_result"
    }
   ],
   "source": [
    "## Are all the missing gender and income on matching rows?\n",
    "(17000-14825)==profile[(profile.gender.isna())&(profile.income.isna())].shape[0]"
   ]
  },
  {
   "cell_type": "code",
   "execution_count": 4,
   "metadata": {
    "Collapsed": "false"
   },
   "outputs": [],
   "source": [
    "def organize_raw_data(portfolio=portfolio,profile=profile,transcript=transcript):\n",
    "    ''' This function organizes the raw data via setting datatype, setting indexes, and onehotencoding\n",
    "    input: Startbuck challenge raw dataframes: portfolio,profile, and transcrips\n",
    "    \n",
    "    output: (7 dataframes, 3 revised originals and 4 which are filtered versions of transcript)\n",
    "    portfolio_new: portfolio (one hot encoded channels, some column renames)\n",
    "    profile_new: cleaned profile (member start date to datetime, one hot encoded gender)\n",
    "    transcript_new: cleaned transcript \n",
    "        (value dict-> one hot encoded event type, \n",
    "        amount(spend), reward(completion), offer_id(offers,view/complte))\n",
    "    t_offer: transcript_new filtered:offers only\n",
    "    t_viewed: transcript_new filtered:viewed only\n",
    "    t_trans: transcript_new filtered:transactions only\n",
    "    t_compl: transcript_new filtered:complteted offers only\n",
    "    \n",
    "    '''\n",
    "    \n",
    "    \n",
    "    ############### Portfolio\n",
    "    portfolio.rename(columns={'id':'offer_id'},inplace=True) # match other table\n",
    "    \n",
    "    # one hot encode channels\n",
    "    mlb = MultiLabelBinarizer() \n",
    "    portfolio = portfolio.join(pd.DataFrame(mlb.fit_transform(portfolio.pop('channels')),\n",
    "                          columns=mlb.classes_,\n",
    "                          index=portfolio.index))\n",
    "    portfolio = portfolio.merge(pd.get_dummies(portfolio['offer_type'],prefix='offer',prefix_sep='_'),left_index=True,right_index=True)\n",
    "    #portfolio.drop(columns='offer_type',inplace=True)\n",
    "    # Since offer_id is unique, we can use that as an index\n",
    "    portfolio.set_index('offer_id')\n",
    "    \n",
    "    ############### Profile\n",
    "    #Split/Drop N/A  - approx 13% of profile data was missing gender and income, the rows missing gender also are missing income.\n",
    "    #  Will look to see if there are any differences later on\n",
    "    profile_na = profile[profile.gender.isna()]\n",
    "    #profile = profile.dropna(axis = 0)  - Will be doing this later so the profile N/A lines will be processed\n",
    "    \n",
    "    #Convert to datetime\n",
    "    profile.loc[:,'became_member_on']=pd.to_datetime(profile['became_member_on'],format='%Y%m%d')\n",
    "    \n",
    "    #one hot encode gender\n",
    "    profile = profile.merge(pd.get_dummies(profile['gender'],prefix='gender',prefix_sep='_'),left_index=True,right_index=True)\n",
    "    \n",
    "    # Since id is unique, we can use that as an index\n",
    "    profile.set_index('id',inplace=True)\n",
    "    \n",
    "    \n",
    "    ################# Transcript\n",
    "    \n",
    "    # expand dict in 'value' to its own columns per dict key\n",
    "    transcript = transcript.merge(transcript.value.apply(pd.Series),left_index=True,right_index=True)\n",
    "    \n",
    "    # cleaning up 'offer_id' and 'offer id', so as there is a single column\n",
    "    transcript.loc[transcript['offer_id'].isna(),'offer_id'] = transcript[transcript['offer_id'].isna()]['offer id']\n",
    "    \n",
    "    #one hot encode event (transaction type)\n",
    "    transcript = transcript.merge(pd.get_dummies(transcript['event'],prefix='event',prefix_sep='_'),left_index=True, right_index=True)\n",
    "    transcript.drop(columns = ['offer id','value'],inplace=True)\n",
    "    \n",
    "    transcript = transcript[transcript['person'].isin(profile.index)].reset_index()\n",
    "    \n",
    "    #break apart into sub-df based on transaction tyle\n",
    "    t_offer = transcript[transcript['event']=='offer received']\n",
    "    t_viewed = transcript[transcript['event']=='offer viewed']\n",
    "    t_trans = transcript[transcript['event']=='transaction']\n",
    "    t_compl = transcript[transcript['event']=='offer completed']\n",
    "    \n",
    "    return portfolio,profile,profile_na,transcript,t_offer,t_viewed,t_trans,t_compl"
   ]
  },
  {
   "cell_type": "code",
   "execution_count": 5,
   "metadata": {
    "Collapsed": "false"
   },
   "outputs": [],
   "source": [
    "portfolio_new,profile_new,profile_na,transcript_new,t_offer,t_viewed,t_trans,t_compl = organize_raw_data()"
   ]
  },
  {
   "cell_type": "code",
   "execution_count": null,
   "metadata": {
    "Collapsed": "false"
   },
   "outputs": [],
   "source": []
  },
  {
   "cell_type": "code",
   "execution_count": 6,
   "metadata": {
    "Collapsed": "false"
   },
   "outputs": [
    {
     "name": "stdout",
     "output_type": "stream",
     "text": [
      "portfolio: (10, 5)\n",
      "portfolio_new (10, 12)\n",
      "profile (17000, 5)\n",
      "profile_new (17000, 7)\n",
      "transcript (306534, 4)\n",
      "transcript_new (306534, 11)\n",
      "t_offer (76277, 11)\n",
      "t_viewed (57725, 11)\n",
      "t_compl (33579, 11)\n",
      "t_trans (138953, 11)\n"
     ]
    }
   ],
   "source": [
    "print('portfolio:', portfolio.shape)\n",
    "print('portfolio_new',portfolio_new.shape)\n",
    "print('profile',profile.shape)\n",
    "print('profile_new', profile_new.shape)\n",
    "print('transcript',transcript.shape)\n",
    "print('transcript_new',transcript_new.shape)\n",
    "print('t_offer',t_offer.shape)\n",
    "print('t_viewed',t_viewed.shape)\n",
    "print('t_compl',t_compl.shape)\n",
    "print('t_trans',t_trans.shape)\n"
   ]
  },
  {
   "cell_type": "markdown",
   "metadata": {
    "Collapsed": "false"
   },
   "source": [
    "<a id='sec_1_1'></a>\n",
    "### 1.1 Matching Events\n",
    "<a href='#TOC'>Jump to top </a>\n",
    "\n",
    "The purpose of this section is to match pertinent events to thier respective offer.  So you have one row representing a series of events.\n",
    "- All counted views are performed within the time window: time (of offer) + duration of offer\n",
    "- All counted transactions are performed within the time window and after they view the offer.\n",
    "- All rewards occur within time wintow"
   ]
  },
  {
   "cell_type": "code",
   "execution_count": 7,
   "metadata": {
    "Collapsed": "false"
   },
   "outputs": [
    {
     "name": "stderr",
     "output_type": "stream",
     "text": [
      "100%|██████████| 76277/76277 [00:00<00:00, 305184.55it/s]\n",
      "100%|██████████| 76277/76277 [31:19<00:00, 40.59it/s]  \n",
      "100%|██████████| 76277/76277 [31:47<00:00, 31.97it/s]\n",
      "100%|██████████| 76277/76277 [22:46<00:00, 55.84it/s] \n"
     ]
    }
   ],
   "source": [
    "###Lookup the duration of each offer and convert to hours to match offer time data.\n",
    "###and create a time end\n",
    "\n",
    "t_matched = pd.merge(t_offer,portfolio[['offer_id','duration']],on=['offer_id'],how='left')\n",
    "t_matched['duration'] =t_matched['duration'].progress_apply(lambda x: x*24)\n",
    "t_matched['time_end'] = t_matched['time'] + t_matched['duration']\n",
    "\n",
    "\n",
    "###\n",
    "### Merge view transcripts!\n",
    "###\n",
    "\n",
    "def id_viewed(row):\n",
    "    ''' matches up offers and views by same person and offer within time limit.   \n",
    "    Marks offer/person/time as viewed and notes the time of the view.\n",
    "    \n",
    "    input: df row per pd.apply()\n",
    "    output: updated df row \n",
    "    '''\n",
    "    for idx,trn in t_viewed[(t_viewed.person == row.person)&(t_viewed.offer_id == row.offer_id)].sort_values(by='time').iterrows():\n",
    "        if (trn.time >= row.time) & (trn.time < row.time_end ):\n",
    "            row['event_offer viewed'] = 1\n",
    "            row['time_viewed'] = trn['time']\n",
    "            return row\n",
    "    return row\n",
    "\n",
    "t_matched = t_matched.progress_apply(id_viewed,axis=1)\n",
    "\n",
    "###\n",
    "### merge transaction transcript!\n",
    "###\n",
    "\n",
    "t_matched['trans_time'] = np.nan\n",
    "#t_matched['trans_index'] = np.nan  # Vestigal\n",
    "t_matched['trans_spend'] = np.nan\n",
    "t_matched['reward'] = np.nan\n",
    "\n",
    "def scrub_trans(row):\n",
    "    '''\n",
    "    Matches transactions to offer based on the following conditions\n",
    "    - person matches\n",
    "    - transaction was made after offer was made\n",
    "    - transaction was viewed\n",
    "    - transaction was made after the offer was viewed\n",
    "    - transaction was made before offer expired.\n",
    "    '''\n",
    "    #print(row['person'])\n",
    "    for idx,trn in t_trans[t_trans.person == row.person].sort_values(by='time').iterrows():\n",
    "        if (trn.time >= row.time) & (row['event_offer viewed']==1) &(trn.time < row.time_end ) & (trn.time >= row.time_viewed):\n",
    "            row['event_transaction'] = 1\n",
    "            row['trans_time'] = trn['time']\n",
    "            row['trans_spend'] = trn['amount']\n",
    "            return row\n",
    "    return row\n",
    " \n",
    "\n",
    "t_matched = t_matched.progress_apply(scrub_trans,axis=1)\n",
    "\n",
    "\n",
    "\n",
    "###\n",
    "### Merge completed transactions\n",
    "###\n",
    "\n",
    "t_matched['reward'] = np.nan\n",
    "\n",
    "def scrub_compl(row):\n",
    "    '''   \n",
    "    Runs through the t_offer dataframe and marks offer as complete under the following contionds\n",
    "    \n",
    "\n",
    "    marks the offer complete if\n",
    "    - person and offer match\n",
    "    - \n",
    "    \n",
    "    input: df row per pd.apply() function\n",
    "    '''\n",
    "    for idx,trn in t_compl[(t_compl.person == row.person)&(t_compl.offer_id == row.offer_id)].sort_values(by='time').iterrows():\n",
    "        if (trn.time >= row.time) & (trn.time < row.time_end ):\n",
    "            row['event_offer completed'] = 1\n",
    "            row['reward'] = trn.reward\n",
    "            \n",
    "            return row\n",
    "    return row\n",
    " \n",
    "\n",
    "t_matched = t_matched.progress_apply(scrub_compl,axis=1)"
   ]
  },
  {
   "cell_type": "code",
   "execution_count": 242,
   "metadata": {
    "Collapsed": "false"
   },
   "outputs": [
    {
     "ename": "NameError",
     "evalue": "name 't_matched' is not defined",
     "output_type": "error",
     "traceback": [
      "\u001b[1;31m---------------------------------------------------------------------------\u001b[0m",
      "\u001b[1;31mNameError\u001b[0m                                 Traceback (most recent call last)",
      "\u001b[1;32m<ipython-input-242-5d1d1716529b>\u001b[0m in \u001b[0;36m<module>\u001b[1;34m\u001b[0m\n\u001b[0;32m      5\u001b[0m \u001b[1;31m###\u001b[0m\u001b[1;33m\u001b[0m\u001b[1;33m\u001b[0m\u001b[1;33m\u001b[0m\u001b[0m\n\u001b[0;32m      6\u001b[0m \u001b[1;33m\u001b[0m\u001b[0m\n\u001b[1;32m----> 7\u001b[1;33m \u001b[0mt_matched\u001b[0m\u001b[1;33m.\u001b[0m\u001b[0mto_pickle\u001b[0m\u001b[1;33m(\u001b[0m\u001b[1;34m'combined_trans.pkl'\u001b[0m\u001b[1;33m)\u001b[0m\u001b[1;33m\u001b[0m\u001b[1;33m\u001b[0m\u001b[0m\n\u001b[0m",
      "\u001b[1;31mNameError\u001b[0m: name 't_matched' is not defined"
     ]
    }
   ],
   "source": [
    "\n",
    "\n",
    "###\n",
    "### Save df to pickle\n",
    "###\n",
    "\n",
    "t_matched.to_pickle('combined_trans.pkl')"
   ]
  },
  {
   "cell_type": "code",
   "execution_count": 333,
   "metadata": {
    "Collapsed": "false"
   },
   "outputs": [],
   "source": [
    "events = pd.read_pickle('combined_trans.pkl')"
   ]
  },
  {
   "cell_type": "markdown",
   "metadata": {
    "Collapsed": "false"
   },
   "source": [
    "**Combine profile and portfolio information to each line**"
   ]
  },
  {
   "cell_type": "code",
   "execution_count": 334,
   "metadata": {
    "Collapsed": "false"
   },
   "outputs": [],
   "source": [
    "# Merge pertinant fields from profile\n",
    "prof_merge_col = ['age','income','gender','gender_F',\n",
    "       'gender_M', 'gender_O', 'memb_leng']\n",
    "\n",
    "events = events.merge(profile_new[prof_merge_col],how='left',left_on='person',right_on=profile_new.index)\n",
    "\n",
    "# Merge pertinant fields from portfolio\n",
    "\n",
    "port_merge_col = ['difficulty', 'offer_id', 'email', 'mobile',\n",
    "       'social', 'web', 'offer_bogo', 'offer_discount',\n",
    "       'offer_informational']\n",
    "\n",
    "events = events.merge(portfolio_new[port_merge_col],on='offer_id')\n",
    "#events.rename(columns={'reward_x':'reward_rcvd','reward_y':'reward_offd'},inplace=True)\n",
    "\n",
    "#Other\n",
    "events.drop(columns='amount',inplace=True)\n",
    "events.rename(columns={'event_offer completed':'event_offer_completed','event_offer received':'event_offer_received','event_offer viewed':'event_offer_viewed'},inplace=True)"
   ]
  },
  {
   "cell_type": "code",
   "execution_count": 336,
   "metadata": {},
   "outputs": [
    {
     "name": "stdout",
     "output_type": "stream",
     "text": [
      "<class 'pandas.core.frame.DataFrame'>\n",
      "Int64Index: 76277 entries, 0 to 76276\n",
      "Data columns (total 30 columns):\n",
      "duration                 76277 non-null int64\n",
      "event                    76277 non-null object\n",
      "event_offer_completed    76277 non-null int64\n",
      "event_offer_received     76277 non-null int64\n",
      "event_offer_viewed       76277 non-null int64\n",
      "event_transaction        76277 non-null int64\n",
      "index                    76277 non-null int64\n",
      "offer_id                 76277 non-null object\n",
      "person                   76277 non-null object\n",
      "reward                   33195 non-null float64\n",
      "time                     76277 non-null int64\n",
      "time_end                 76277 non-null int64\n",
      "time_viewed              56651 non-null float64\n",
      "trans_time               43067 non-null float64\n",
      "trans_spend              43067 non-null float64\n",
      "age                      76277 non-null int64\n",
      "income                   66501 non-null float64\n",
      "gender                   66501 non-null object\n",
      "gender_F                 76277 non-null uint8\n",
      "gender_M                 76277 non-null uint8\n",
      "gender_O                 76277 non-null uint8\n",
      "memb_leng                76277 non-null float64\n",
      "difficulty               76277 non-null int64\n",
      "email                    76277 non-null int32\n",
      "mobile                   76277 non-null int32\n",
      "social                   76277 non-null int32\n",
      "web                      76277 non-null int32\n",
      "offer_bogo               76277 non-null uint8\n",
      "offer_discount           76277 non-null uint8\n",
      "offer_informational      76277 non-null uint8\n",
      "dtypes: float64(6), int32(4), int64(10), object(4), uint8(6)\n",
      "memory usage: 13.8+ MB\n"
     ]
    }
   ],
   "source": [
    "events.info()"
   ]
  },
  {
   "cell_type": "code",
   "execution_count": null,
   "metadata": {},
   "outputs": [],
   "source": []
  },
  {
   "cell_type": "code",
   "execution_count": null,
   "metadata": {},
   "outputs": [],
   "source": []
  },
  {
   "cell_type": "code",
   "execution_count": 337,
   "metadata": {
    "Collapsed": "false"
   },
   "outputs": [],
   "source": [
    "#identify how long member \n",
    "##mod\n",
    "\n",
    "profile_new['memb_leng'] = (profile_new.became_member_on.max()-profile_new.became_member_on).dt.days.astype(float)/(365.25/12)"
   ]
  },
  {
   "cell_type": "markdown",
   "metadata": {
    "Collapsed": "false"
   },
   "source": [
    "**N/A Strategy**\n",
    "\n",
    "There are five columns with N/A in the data\n",
    "    - time_viewed\n",
    "    - trans_time\n",
    "    - trans_spend\n",
    "    - reward\n",
    "    - income\n",
    "    - gender\n",
    "    \n",
    "    1) time_viewed and trans_time are response variables (y) for those who completed those tasks.  I will remove these from the dataset for any predictive modeling\n",
    "    2) Income and gender are omitted on appox 13% of records.  Important  to note that the income and gender are all missing from the same lines. Will remove these later when pertinant\n",
    "    3) trans_spend and reward should be zero,because if there was no transaction there was no spend nor reward"
   ]
  },
  {
   "cell_type": "code",
   "execution_count": 338,
   "metadata": {
    "Collapsed": "false"
   },
   "outputs": [],
   "source": [
    "##mod\n",
    "events.trans_spend.fillna(value=0,inplace=True)\n",
    "events.reward.fillna(value=0,inplace=True)"
   ]
  },
  {
   "cell_type": "code",
   "execution_count": 339,
   "metadata": {},
   "outputs": [
    {
     "name": "stdout",
     "output_type": "stream",
     "text": [
      "<class 'pandas.core.frame.DataFrame'>\n",
      "Int64Index: 76277 entries, 0 to 76276\n",
      "Data columns (total 30 columns):\n",
      "duration                 76277 non-null int64\n",
      "event                    76277 non-null object\n",
      "event_offer_completed    76277 non-null int64\n",
      "event_offer_received     76277 non-null int64\n",
      "event_offer_viewed       76277 non-null int64\n",
      "event_transaction        76277 non-null int64\n",
      "index                    76277 non-null int64\n",
      "offer_id                 76277 non-null object\n",
      "person                   76277 non-null object\n",
      "reward                   76277 non-null float64\n",
      "time                     76277 non-null int64\n",
      "time_end                 76277 non-null int64\n",
      "time_viewed              56651 non-null float64\n",
      "trans_time               43067 non-null float64\n",
      "trans_spend              76277 non-null float64\n",
      "age                      76277 non-null int64\n",
      "income                   66501 non-null float64\n",
      "gender                   66501 non-null object\n",
      "gender_F                 76277 non-null uint8\n",
      "gender_M                 76277 non-null uint8\n",
      "gender_O                 76277 non-null uint8\n",
      "memb_leng                76277 non-null float64\n",
      "difficulty               76277 non-null int64\n",
      "email                    76277 non-null int32\n",
      "mobile                   76277 non-null int32\n",
      "social                   76277 non-null int32\n",
      "web                      76277 non-null int32\n",
      "offer_bogo               76277 non-null uint8\n",
      "offer_discount           76277 non-null uint8\n",
      "offer_informational      76277 non-null uint8\n",
      "dtypes: float64(6), int32(4), int64(10), object(4), uint8(6)\n",
      "memory usage: 13.8+ MB\n"
     ]
    }
   ],
   "source": [
    "events.info()"
   ]
  },
  {
   "cell_type": "code",
   "execution_count": 340,
   "metadata": {
    "Collapsed": "false"
   },
   "outputs": [],
   "source": [
    "events.to_pickle('events_merged.pkl')"
   ]
  },
  {
   "cell_type": "markdown",
   "metadata": {
    "Collapsed": "false"
   },
   "source": [
    "<a id='pick_load'> Pickle Load</a>\n"
   ]
  },
  {
   "cell_type": "code",
   "execution_count": 6,
   "metadata": {
    "Collapsed": "false"
   },
   "outputs": [],
   "source": [
    "events_merged = pd.read_pickle('events_merged.pkl')"
   ]
  },
  {
   "cell_type": "code",
   "execution_count": 11,
   "metadata": {},
   "outputs": [],
   "source": []
  },
  {
   "cell_type": "code",
   "execution_count": 12,
   "metadata": {},
   "outputs": [],
   "source": [
    "scaler = MinMaxScaler()"
   ]
  },
  {
   "cell_type": "code",
   "execution_count": 17,
   "metadata": {},
   "outputs": [
    {
     "data": {
      "text/plain": [
       "array([[5., 0., 5., ..., 0., 0., 0.]])"
      ]
     },
     "execution_count": 17,
     "metadata": {},
     "output_type": "execute_result"
    }
   ],
   "source": [
    "events_merged.reward.values.reshape(1,-1)"
   ]
  },
  {
   "cell_type": "code",
   "execution_count": 22,
   "metadata": {},
   "outputs": [],
   "source": [
    "blah = scaler.fit_transform(events_merged.reward.values.reshape(-1,1))"
   ]
  },
  {
   "cell_type": "code",
   "execution_count": 26,
   "metadata": {},
   "outputs": [
    {
     "data": {
      "text/plain": [
       "<matplotlib.axes._subplots.AxesSubplot at 0x1ea70f939b0>"
      ]
     },
     "execution_count": 26,
     "metadata": {},
     "output_type": "execute_result"
    },
    {
     "data": {
      "image/png": "[encoded data removed]",
      "text/plain": [
       "<Figure size 432x288 with 1 Axes>"
      ]
     },
     "metadata": {
      "needs_background": "light"
     },
     "output_type": "display_data"
    }
   ],
   "source": [
    "sns.distplot(blah)"
   ]
  },
  {
   "cell_type": "markdown",
   "metadata": {},
   "source": [
    "Preparing the Data per CharityML\n",
    "\n",
    "Transform Skewed features\n",
    "Normalizing Numerical Features\n",
    "shuffle and split data\n",
    "\n",
    "import 3 supervised learning models\n",
    "\n"
   ]
  },
  {
   "cell_type": "code",
   "execution_count": 343,
   "metadata": {},
   "outputs": [],
   "source": [
    "def norm_and_std(df):\n",
    "    '''This will create a copy of the df with standardized and normalzied columns'''\n",
    "   \n",
    "    ## non-boolean columns\n",
    "    ''''', 'event', 'index', 'offer_id',\n",
    "       'person', 'reward', 'time', 'time_end', 'time_viewed', 'trans_time',\n",
    "       'trans_spend', 'age', 'income', 'gender', 'gender_F', 'gender_M',\n",
    "       'gender_O', 'memb_leng', 'difficulty', 'email', 'mobile', 'social',\n",
    "       'web', 'offer_bogo', 'offer_discount', 'offer_informational', 't_std',\n",
    "       't_viewed_std', 't_purc_std'\n",
    "    '''\n",
    "    '''\n",
    "    '''\n",
    "    ## Normalize ##########################\n",
    "    '''duration,reward,'time', 'time_end', 'time_viewed', 'trans_time',\n",
    "       'trans_spend',difficulty\n",
    "    '''\n",
    "    \n",
    "    ## Standardize\n",
    "    ''''age', 'income','memb_leng'\n",
    "    '''\n",
    "    ## Drop\n",
    "    '''event,index,offer_id,person,'gender' '''\n",
    "    ## Bool\n",
    "    ''''gender_F', 'gender_M',\n",
    "       'gender_O,'email', 'mobile', 'social',\n",
    "       'web', 'offer_bogo', 'offer_discount', 'offer_informational', 't_std''''\n",
    "    \n",
    "    df2 = df.copy()\n",
    "    \n",
    "    #Normalize time series data\n",
    "    #I am normalizing this to the timescale of the individual offer.\n",
    "        \n",
    "    df['t_norm'] = 0\n",
    "    df['t_viewed_norm'] = 0\n",
    "    df['t_purc_norm'] = 0 \n",
    "    df.loc[:,'t_norm'] = (df.time)/df.time.max()\n",
    "    df.loc[:,'t_viewed_norm'] = (df.time_viewed - df.time) / (df.time_end - df.time )\n",
    "    df.loc[:,'t_purc_norm'] = (df.trans_time - df.time) / (df.time_end - df.time )\n",
    "    \n",
    "    #Normalizing since relative magnitude is important for these.\n",
    "    df['duration_norm'] = (df['duration'] - df['duration'].min())/(df['duration'])\n",
    "    df['reward_norm'] = (df['reward'] - df['reward'].min())/(df['reward'])\n",
    "    df['difficulty_norm'] = (df['difficulty'] - df['difficulty'].min())/(df['difficulty'])\n",
    "    \n",
    "    ## Standardize\n",
    "    \n",
    "    \n",
    "    ## Standardize\n",
    "    # Columns: \n",
    "    # New Colun\n",
    "    return"
   ]
  },
  {
   "cell_type": "code",
   "execution_count": 344,
   "metadata": {},
   "outputs": [],
   "source": [
    "norm_and_std(events_merged)"
   ]
  },
  {
   "cell_type": "code",
   "execution_count": 403,
   "metadata": {},
   "outputs": [],
   "source": [
    "from sklearn.preprocessing import StandardScaler"
   ]
  },
  {
   "cell_type": "code",
   "execution_count": 404,
   "metadata": {},
   "outputs": [],
   "source": [
    "scaler = StandardScaler()"
   ]
  },
  {
   "cell_type": "code",
   "execution_count": null,
   "metadata": {},
   "outputs": [],
   "source": [
    "scaler.fit_transform()"
   ]
  },
  {
   "cell_type": "code",
   "execution_count": 400,
   "metadata": {},
   "outputs": [],
   "source": []
  },
  {
   "cell_type": "code",
   "execution_count": null,
   "metadata": {},
   "outputs": [],
   "source": [
    "norm(events_merged_nona.duration)"
   ]
  },
  {
   "cell_type": "code",
   "execution_count": 396,
   "metadata": {},
   "outputs": [
    {
     "ename": "ValueError",
     "evalue": "Expected 2D array, got 1D array instead:\narray=[5. 0. 5. ... 0. 0. 0.].\nReshape your data either using array.reshape(-1, 1) if your data has a single feature or array.reshape(1, -1) if it contains a single sample.",
     "output_type": "error",
     "traceback": [
      "\u001b[1;31m---------------------------------------------------------------------------\u001b[0m",
      "\u001b[1;31mValueError\u001b[0m                                Traceback (most recent call last)",
      "\u001b[1;32m<ipython-input-396-2c81e418bc14>\u001b[0m in \u001b[0;36m<module>\u001b[1;34m\u001b[0m\n\u001b[1;32m----> 1\u001b[1;33m \u001b[0mnmr\u001b[0m\u001b[1;33m.\u001b[0m\u001b[0mfit_transform\u001b[0m\u001b[1;33m(\u001b[0m\u001b[0mevents_merged_nona\u001b[0m\u001b[1;33m.\u001b[0m\u001b[0mreward\u001b[0m\u001b[1;33m)\u001b[0m\u001b[1;33m\u001b[0m\u001b[1;33m\u001b[0m\u001b[0m\n\u001b[0m",
      "\u001b[1;32m~\\Anaconda3\\lib\\site-packages\\sklearn\\base.py\u001b[0m in \u001b[0;36mfit_transform\u001b[1;34m(self, X, y, **fit_params)\u001b[0m\n\u001b[0;32m    515\u001b[0m         \u001b[1;32mif\u001b[0m \u001b[0my\u001b[0m \u001b[1;32mis\u001b[0m \u001b[1;32mNone\u001b[0m\u001b[1;33m:\u001b[0m\u001b[1;33m\u001b[0m\u001b[1;33m\u001b[0m\u001b[0m\n\u001b[0;32m    516\u001b[0m             \u001b[1;31m# fit method of arity 1 (unsupervised transformation)\u001b[0m\u001b[1;33m\u001b[0m\u001b[1;33m\u001b[0m\u001b[1;33m\u001b[0m\u001b[0m\n\u001b[1;32m--> 517\u001b[1;33m             \u001b[1;32mreturn\u001b[0m \u001b[0mself\u001b[0m\u001b[1;33m.\u001b[0m\u001b[0mfit\u001b[0m\u001b[1;33m(\u001b[0m\u001b[0mX\u001b[0m\u001b[1;33m,\u001b[0m \u001b[1;33m**\u001b[0m\u001b[0mfit_params\u001b[0m\u001b[1;33m)\u001b[0m\u001b[1;33m.\u001b[0m\u001b[0mtransform\u001b[0m\u001b[1;33m(\u001b[0m\u001b[0mX\u001b[0m\u001b[1;33m)\u001b[0m\u001b[1;33m\u001b[0m\u001b[1;33m\u001b[0m\u001b[0m\n\u001b[0m\u001b[0;32m    518\u001b[0m         \u001b[1;32melse\u001b[0m\u001b[1;33m:\u001b[0m\u001b[1;33m\u001b[0m\u001b[1;33m\u001b[0m\u001b[0m\n\u001b[0;32m    519\u001b[0m             \u001b[1;31m# fit method of arity 2 (supervised transformation)\u001b[0m\u001b[1;33m\u001b[0m\u001b[1;33m\u001b[0m\u001b[1;33m\u001b[0m\u001b[0m\n",
      "\u001b[1;32m~\\Anaconda3\\lib\\site-packages\\sklearn\\preprocessing\\data.py\u001b[0m in \u001b[0;36mfit\u001b[1;34m(self, X, y)\u001b[0m\n\u001b[0;32m   1505\u001b[0m         \u001b[0mX\u001b[0m \u001b[1;33m:\u001b[0m \u001b[0marray\u001b[0m\u001b[1;33m-\u001b[0m\u001b[0mlike\u001b[0m\u001b[1;33m\u001b[0m\u001b[1;33m\u001b[0m\u001b[0m\n\u001b[0;32m   1506\u001b[0m         \"\"\"\n\u001b[1;32m-> 1507\u001b[1;33m         \u001b[0mX\u001b[0m \u001b[1;33m=\u001b[0m \u001b[0mcheck_array\u001b[0m\u001b[1;33m(\u001b[0m\u001b[0mX\u001b[0m\u001b[1;33m,\u001b[0m \u001b[0maccept_sparse\u001b[0m\u001b[1;33m=\u001b[0m\u001b[1;34m'csr'\u001b[0m\u001b[1;33m)\u001b[0m\u001b[1;33m\u001b[0m\u001b[1;33m\u001b[0m\u001b[0m\n\u001b[0m\u001b[0;32m   1508\u001b[0m         \u001b[1;32mreturn\u001b[0m \u001b[0mself\u001b[0m\u001b[1;33m\u001b[0m\u001b[1;33m\u001b[0m\u001b[0m\n\u001b[0;32m   1509\u001b[0m \u001b[1;33m\u001b[0m\u001b[0m\n",
      "\u001b[1;32m~\\Anaconda3\\lib\\site-packages\\sklearn\\utils\\validation.py\u001b[0m in \u001b[0;36mcheck_array\u001b[1;34m(array, accept_sparse, dtype, order, copy, force_all_finite, ensure_2d, allow_nd, ensure_min_samples, ensure_min_features, warn_on_dtype, estimator)\u001b[0m\n\u001b[0;32m    439\u001b[0m                     \u001b[1;34m\"Reshape your data either using array.reshape(-1, 1) if \"\u001b[0m\u001b[1;33m\u001b[0m\u001b[1;33m\u001b[0m\u001b[0m\n\u001b[0;32m    440\u001b[0m                     \u001b[1;34m\"your data has a single feature or array.reshape(1, -1) \"\u001b[0m\u001b[1;33m\u001b[0m\u001b[1;33m\u001b[0m\u001b[0m\n\u001b[1;32m--> 441\u001b[1;33m                     \"if it contains a single sample.\".format(array))\n\u001b[0m\u001b[0;32m    442\u001b[0m             \u001b[0marray\u001b[0m \u001b[1;33m=\u001b[0m \u001b[0mnp\u001b[0m\u001b[1;33m.\u001b[0m\u001b[0matleast_2d\u001b[0m\u001b[1;33m(\u001b[0m\u001b[0marray\u001b[0m\u001b[1;33m)\u001b[0m\u001b[1;33m\u001b[0m\u001b[1;33m\u001b[0m\u001b[0m\n\u001b[0;32m    443\u001b[0m             \u001b[1;31m# To ensure that array flags are maintained\u001b[0m\u001b[1;33m\u001b[0m\u001b[1;33m\u001b[0m\u001b[1;33m\u001b[0m\u001b[0m\n",
      "\u001b[1;31mValueError\u001b[0m: Expected 2D array, got 1D array instead:\narray=[5. 0. 5. ... 0. 0. 0.].\nReshape your data either using array.reshape(-1, 1) if your data has a single feature or array.reshape(1, -1) if it contains a single sample."
     ]
    }
   ],
   "source": [
    "nmr.fit_transform(events_merged_nona.reward)"
   ]
  },
  {
   "cell_type": "code",
   "execution_count": null,
   "metadata": {},
   "outputs": [],
   "source": []
  },
  {
   "cell_type": "code",
   "execution_count": null,
   "metadata": {},
   "outputs": [],
   "source": []
  },
  {
   "cell_type": "code",
   "execution_count": 393,
   "metadata": {},
   "outputs": [
    {
     "data": {
      "text/plain": [
       "Index(['duration', 'event', 'event_offer_completed', 'event_offer_received',\n",
       "       'event_offer_viewed', 'event_transaction', 'index', 'offer_id',\n",
       "       'person', 'reward', 'time', 'time_end', 'time_viewed', 'trans_time',\n",
       "       'trans_spend', 'age', 'income', 'gender', 'gender_F', 'gender_M',\n",
       "       'gender_O', 'memb_leng', 'difficulty', 'email', 'mobile', 'social',\n",
       "       'web', 'offer_bogo', 'offer_discount', 'offer_informational', 't_std',\n",
       "       't_viewed_std', 't_purc_std'],\n",
       "      dtype='object')"
      ]
     },
     "execution_count": 393,
     "metadata": {},
     "output_type": "execute_result"
    }
   ],
   "source": [
    "events_merged_nona.columns"
   ]
  },
  {
   "cell_type": "code",
   "execution_count": null,
   "metadata": {},
   "outputs": [],
   "source": []
  },
  {
   "cell_type": "code",
   "execution_count": null,
   "metadata": {},
   "outputs": [],
   "source": []
  },
  {
   "cell_type": "code",
   "execution_count": 345,
   "metadata": {},
   "outputs": [],
   "source": [
    "events_merged_nona = events_merged.dropna(subset=['age','income','gender'])"
   ]
  },
  {
   "cell_type": "markdown",
   "metadata": {
    "Collapsed": "false"
   },
   "source": [
    "<a id='pickleload'></a>"
   ]
  },
  {
   "cell_type": "markdown",
   "metadata": {
    "Collapsed": "false"
   },
   "source": [
    "<a id='sec_2_0'></a>\n",
    "## Section 2.0: Explore Data\n",
    "<a href='#TOC'>Jump to top</a>"
   ]
  },
  {
   "cell_type": "markdown",
   "metadata": {
    "Collapsed": "false"
   },
   "source": [
    "<a id='sec_2_1'></a>\n",
    "### Section 2.1: General Exploration\n",
    "<a href='#TOC'>Jump to top</a>"
   ]
  },
  {
   "cell_type": "code",
   "execution_count": 23,
   "metadata": {
    "Collapsed": "false"
   },
   "outputs": [
    {
     "data": {
      "text/plain": [
       "Index(['amount', 'duration', 'event', 'event_offer_completed',\n",
       "       'event_offer_received', 'event_offer_viewed', 'event_transaction',\n",
       "       'index', 'offer_id', 'person', 'reward', 'time', 'time_end',\n",
       "       'time_viewed', 'trans_time', 'trans_spend', 'age', 'income', 'gender',\n",
       "       'gender_F', 'gender_M', 'gender_O', 'memb_leng', 'difficulty', 'email',\n",
       "       'mobile', 'social', 'web', 'offer_bogo', 'offer_discount',\n",
       "       'offer_informational', 't_std', 't_viewed_std', 't_purc_std'],\n",
       "      dtype='object')"
      ]
     },
     "execution_count": 23,
     "metadata": {},
     "output_type": "execute_result"
    }
   ],
   "source": [
    "events_merged.columns"
   ]
  },
  {
   "cell_type": "code",
   "execution_count": 6,
   "metadata": {
    "Collapsed": "false"
   },
   "outputs": [],
   "source": []
  },
  {
   "cell_type": "code",
   "execution_count": 7,
   "metadata": {
    "Collapsed": "false"
   },
   "outputs": [
    {
     "name": "stdout",
     "output_type": "stream",
     "text": [
      "event_offer_received     76277\n",
      "event_offer_viewed       56651\n",
      "event_transaction        43067\n",
      "event_offer_completed    33195\n",
      "dtype: int64\n",
      "Percentage viewed : 74.27%\n",
      "Percentage offers purchased : 56.46%\n",
      "Percentage offers viewed puchased : 76.02%\n",
      "Percentage of offers that were rewarded  : 77.08%\n",
      "Percentage of purchases that were rewarded  : 77.08%\n"
     ]
    }
   ],
   "source": [
    "print(events_merged[['event_offer_received','event_offer_viewed','event_transaction','event_offer_completed']].sum())\n",
    "\n",
    "tot_offers = events_merged.event_offer_received.sum()\n",
    "tot_off_viewed = events_merged.event_offer_viewed.sum()\n",
    "tot_off_purchased = events_merged.event_transaction.sum()\n",
    "tot_off_rewarded = events_merged.event_offer_completed.sum()\n",
    "\n",
    "\n",
    "\n",
    "tot_sum_purch = events_merged.trans_spend.sum()\n",
    "#tot_sum_reward = events_merged.reward.sum()\n",
    "\n",
    "\n",
    "print('Percentage viewed : {0:.2f}%'.format(100* tot_off_viewed/tot_offers))\n",
    "print('Percentage offers purchased : {0:.2f}%'.format(100*tot_off_purchased/tot_offers))\n",
    "print('Percentage offers viewed puchased : {0:.2f}%'.format(100*tot_off_purchased/tot_off_viewed))\n",
    "print('Percentage of offers that were rewarded  : {0:.2f}%'.format(100*tot_off_rewarded/tot_off_purchased))\n",
    "print('Percentage of purchases that were rewarded  : {0:.2f}%'.format(100*tot_off_rewarded/tot_off_purchased))"
   ]
  },
  {
   "cell_type": "code",
   "execution_count": null,
   "metadata": {
    "Collapsed": "false"
   },
   "outputs": [],
   "source": []
  },
  {
   "cell_type": "code",
   "execution_count": null,
   "metadata": {
    "Collapsed": "false"
   },
   "outputs": [],
   "source": []
  },
  {
   "cell_type": "markdown",
   "metadata": {
    "Collapsed": "false"
   },
   "source": [
    "<a id='sec_2_2'></a>\n",
    "### Section 2.2: Demographic Histographical Analysis\n",
    "<a href='#TOC'>Jump to top</a>"
   ]
  },
  {
   "cell_type": "code",
   "execution_count": 276,
   "metadata": {
    "Collapsed": "false"
   },
   "outputs": [],
   "source": [
    "# removing the N/A for demographic analysis\n",
    "ax2_2a = 0"
   ]
  },
  {
   "cell_type": "code",
   "execution_count": 277,
   "metadata": {
    "Collapsed": "false"
   },
   "outputs": [
    {
     "data": {
      "text/plain": [
       "Text(0.5,1,'Fig 2.2a: Distribution of Income')"
      ]
     },
     "execution_count": 277,
     "metadata": {},
     "output_type": "execute_result"
    },
    {
     "data": {
      "image/png": "[encoded data removed]",
      "text/plain": [
       "<Figure size 432x288 with 1 Axes>"
      ]
     },
     "metadata": {
      "needs_background": "light"
     },
     "output_type": "display_data"
    }
   ],
   "source": [
    "ax2_2a = sns.distplot(event_nona.income,bins=25)\n",
    "ax2_2a.set_title('Fig 2.2a: Distribution of Income')\n"
   ]
  },
  {
   "cell_type": "code",
   "execution_count": 10,
   "metadata": {
    "Collapsed": "false"
   },
   "outputs": [],
   "source": [
    "#it appears that there are some groupings in this distribution"
   ]
  },
  {
   "cell_type": "code",
   "execution_count": null,
   "metadata": {},
   "outputs": [],
   "source": []
  },
  {
   "cell_type": "code",
   "execution_count": 278,
   "metadata": {
    "Collapsed": "false"
   },
   "outputs": [
    {
     "data": {
      "text/plain": [
       "gender_M    38129\n",
       "gender_F    27456\n",
       "gender_O      916\n",
       "dtype: int64"
      ]
     },
     "execution_count": 278,
     "metadata": {},
     "output_type": "execute_result"
    }
   ],
   "source": [
    "event_nona[['gender_M','gender_F','gender_O']].sum()"
   ]
  },
  {
   "cell_type": "code",
   "execution_count": 294,
   "metadata": {
    "Collapsed": "false"
   },
   "outputs": [
    {
     "data": {
      "text/plain": [
       "Text(0.5,0.8,'Fig 2.2b_3: Income Distribution (Other)')"
      ]
     },
     "execution_count": 294,
     "metadata": {},
     "output_type": "execute_result"
    },
    {
     "data": {
      "image/png": "[encoded data removed]",
      "text/plain": [
       "<Figure size 648x576 with 4 Axes>"
      ]
     },
     "metadata": {
      "needs_background": "light"
     },
     "output_type": "display_data"
    }
   ],
   "source": [
    "fig_2_2b, (ax22b_0, ax22b_1, ax22b_2, ax22b_3) = plt.subplots(nrows=4, sharex=True,sharey=True, figsize=(9,8))\n",
    "plt.ylim([0,0.000035])\n",
    "fig_2_2b.subplots_adjust(hspace = 0)\n",
    "sns.distplot(event_nona.income,bins=25,ax=ax22b_0)\n",
    "sns.distplot(event_nona[event_nona.gender_M == 1].income,bins=25,ax=ax22b_1)\n",
    "sns.distplot(event_nona[event_nona.gender_F == 1].income,bins=25,ax=ax22b_2)\n",
    "sns.distplot(event_nona[event_nona.gender_O == 1].income,bins=25,ax=ax22b_3)\n",
    "ax22b_0.set_title(\"Fig 2.2b_0: Income Distribution (All)\",y=.8)\n",
    "ax22b_1.set_title(\"Fig 2.2b_1: Income Distribution (Male)\",y=.8)\n",
    "ax22b_2.set_title(\"Fig 2.2b_2: Income Distribution (Female)\",y=.8)\n",
    "ax22b_3.set_title(\"Fig 2.2b_3: Income Distribution (Other)\",y=.8)\n"
   ]
  },
  {
   "cell_type": "markdown",
   "metadata": {
    "Collapsed": "false"
   },
   "source": [
    "There appears to be groupings within the income, that are not related to gender.  It apppears to be 3-5 subgroups.  There are possibly something implit here."
   ]
  },
  {
   "cell_type": "code",
   "execution_count": 301,
   "metadata": {
    "Collapsed": "false"
   },
   "outputs": [
    {
     "data": {
      "text/plain": [
       "Text(0.5,0.8,'Fig 2.2c_3: Age Distribution (Other)')"
      ]
     },
     "execution_count": 301,
     "metadata": {},
     "output_type": "execute_result"
    },
    {
     "data": {
      "image/png": "[encoded data removed]",
      "text/plain": [
       "<Figure size 648x576 with 4 Axes>"
      ]
     },
     "metadata": {
      "needs_background": "light"
     },
     "output_type": "display_data"
    }
   ],
   "source": [
    "fig_2_2c, (ax22c_0, ax22c_1, ax22c_2, ax22c_3) = plt.subplots(nrows=4, sharey= True, sharex=True,figsize=(9,8))\n",
    "plt.ylim([0,0.045])\n",
    "fig_2_2c.subplots_adjust(hspace = 0)\n",
    "#sns.distplot(events_merged.age.dropna(),bins=25,ax=ax2_0)\n",
    "sns.distplot(event_nona.age,bins=25,ax=ax22c_0)\n",
    "sns.distplot(event_nona[event_nona.gender_M == 1].age,bins=25,ax=ax22c_1)\n",
    "sns.distplot(event_nona[event_nona.gender_F == 1].age,bins=25,ax=ax22c_2)\n",
    "sns.distplot(event_nona[event_nona.gender_O == 1].age,bins=25,ax=ax22c_3)\n",
    "ax22c_0.set_title(\"Fig 2.2c_0: Age Distribution (All)\",y=.8)\n",
    "ax22c_1.set_title(\"Fig 2.2c_1: Age Distribution (Male)\",y=.8)\n",
    "ax22c_2.set_title(\"Fig 2.2c_2: Age Distribution (Female)\",y=.8)\n",
    "ax22c_3.set_title(\"Fig 2.2c_3: Age Distribution (Other)\",y=.8)"
   ]
  },
  {
   "cell_type": "markdown",
   "metadata": {
    "Collapsed": "false"
   },
   "source": [
    "There does appear to be two groupings here within the data"
   ]
  },
  {
   "cell_type": "code",
   "execution_count": 316,
   "metadata": {
    "Collapsed": "false"
   },
   "outputs": [
    {
     "data": {
      "text/plain": [
       "Text(0.5,0.8,'Fig 2.2d_3: Membership Length Distribution (Other)')"
      ]
     },
     "execution_count": 316,
     "metadata": {},
     "output_type": "execute_result"
    },
    {
     "data": {
      "image/png": "[encoded data removed]",
      "text/plain": [
       "<Figure size 864x576 with 4 Axes>"
      ]
     },
     "metadata": {
      "needs_background": "light"
     },
     "output_type": "display_data"
    }
   ],
   "source": [
    "fig_2_2d, (ax22d_0,ax22d_1, ax22d_2, ax22d_3) = plt.subplots(nrows=4, sharex=True,sharey=True, figsize=(12,8))\n",
    "fig_2_2d.subplots_adjust(hspace = 0)\n",
    "sns.distplot(event_nona.memb_leng,bins=25,ax=ax22d_0)\n",
    "sns.distplot(event_nona[event_nona.gender_M == 1].memb_leng,bins=25,ax=ax22d_1)\n",
    "sns.distplot(event_nona[event_nona.gender_F == 1].memb_leng,bins=25,ax=ax22d_2)\n",
    "sns.distplot(event_nona[event_nona.gender_O == 1].memb_leng,bins=25,ax=ax22d_3)\n",
    "ax22d_0.set_title(\"Fig 2.2d_0: Membership Length Distribution (All)\",y=.8)\n",
    "ax22d_1.set_title(\"Fig 2.2d_1: Membership Length Distribution (Male)\",y=.8)\n",
    "ax22d_2.set_title(\"Fig 2.2d_2: Membership Length Distribution (Female)\",y=.8)\n",
    "ax22d_3.set_title(\"Fig 2.2d_3: Membership Length Distribution (Other)\",y=.8)"
   ]
  },
  {
   "cell_type": "markdown",
   "metadata": {
    "Collapsed": "false"
   },
   "source": [
    "There appears to be 3 distinct groups of members based on membership length\n",
    "* members joining between ~38-58months\n",
    "* members joining between ~12-38 months\n",
    "* members joining in last 12 months \n",
    "\n"
   ]
  },
  {
   "cell_type": "code",
   "execution_count": null,
   "metadata": {
    "Collapsed": "false"
   },
   "outputs": [],
   "source": []
  },
  {
   "cell_type": "code",
   "execution_count": null,
   "metadata": {
    "Collapsed": "false"
   },
   "outputs": [],
   "source": []
  },
  {
   "cell_type": "code",
   "execution_count": 349,
   "metadata": {
    "Collapsed": "false"
   },
   "outputs": [
    {
     "data": {
      "image/png": "[encoded data removed]",
      "text/plain": [
       "<Figure size 432x432 with 3 Axes>"
      ]
     },
     "metadata": {
      "needs_background": "light"
     },
     "output_type": "display_data"
    }
   ],
   "source": [
    "fig_2_2e = sns.jointplot(x='income',y='age',data=profile_new.dropna(subset=['income','age']),kind=\"kde\")"
   ]
  },
  {
   "cell_type": "code",
   "execution_count": null,
   "metadata": {},
   "outputs": [],
   "source": []
  },
  {
   "cell_type": "markdown",
   "metadata": {
    "Collapsed": "false"
   },
   "source": [
    "Interesting here, the income distributions of younger folks is is limited to the lower end of the range and expandands as age increases.  Also age skews lower."
   ]
  },
  {
   "cell_type": "code",
   "execution_count": 350,
   "metadata": {
    "Collapsed": "false"
   },
   "outputs": [
    {
     "data": {
      "image/png": "[encoded data removed]",
      "text/plain": [
       "<Figure size 432x432 with 3 Axes>"
      ]
     },
     "metadata": {
      "needs_background": "light"
     },
     "output_type": "display_data"
    }
   ],
   "source": [
    "fig_2_2f = sns.jointplot(x=profile_new.dropna(subset=['income','age']).income,y=profile_new.dropna(subset=['income','age']).memb_leng,kind=\"kde\")"
   ]
  },
  {
   "cell_type": "markdown",
   "metadata": {
    "Collapsed": "false"
   },
   "source": [
    "It appears that the early and mid adopters tend to be distributed roughly the same as the general population.  "
   ]
  },
  {
   "cell_type": "code",
   "execution_count": 351,
   "metadata": {
    "Collapsed": "false"
   },
   "outputs": [
    {
     "data": {
      "image/png": "[encoded data removed]",
      "text/plain": [
       "<Figure size 432x432 with 3 Axes>"
      ]
     },
     "metadata": {
      "needs_background": "light"
     },
     "output_type": "display_data"
    }
   ],
   "source": [
    "fig_2_2g = sns.jointplot(x='memb_leng',y='age',data=profile_new.dropna(subset=['income','age']),kind=\"kde\")"
   ]
  },
  {
   "cell_type": "markdown",
   "metadata": {
    "Collapsed": "false"
   },
   "source": [
    "<a id='sec_2_3'></a>\n",
    "## Section 2.3: Explore Offer Factors\n",
    "<a href='#TOC'>Jump to top</a>"
   ]
  },
  {
   "cell_type": "markdown",
   "metadata": {},
   "source": [
    "What do we want to know about the study factors?\n",
    "- Person\n",
    "    - [X] What is the distribution of offers\n",
    "- Offer_Id (there are 10 offer ids)\n",
    "    - [X] How many offers were made of each ID?\n",
    "    - [X] How many offers were made to each person, on average?\n",
    "- Difficulty\n",
    "    - [X] What was the representative range of difficulty?  avg offer vs avg person?\n",
    "- Distribution Method\n",
    "    - [X]  \n",
    "- Offer Type\n",
    "    - [ ] \n",
    "- Reward\n",
    "    "
   ]
  },
  {
   "cell_type": "code",
   "execution_count": 326,
   "metadata": {
    "Collapsed": "false"
   },
   "outputs": [
    {
     "data": {
      "text/plain": [
       "Index(['duration', 'event', 'event_offer completed', 'event_offer received',\n",
       "       'event_offer viewed', 'event_transaction', 'index', 'offer_id',\n",
       "       'person', 'reward', 'time', 'time_end', 'time_viewed', 'trans_time',\n",
       "       'trans_spend', 'age', 'income', 'gender', 'gender_F', 'gender_M',\n",
       "       'gender_O', 'memb_leng', 'difficulty', 'email', 'mobile', 'social',\n",
       "       'web', 'offer_bogo', 'offer_discount', 'offer_informational', 't_std',\n",
       "       't_viewed_std', 't_purc_std'],\n",
       "      dtype='object')"
      ]
     },
     "execution_count": 326,
     "metadata": {},
     "output_type": "execute_result"
    }
   ],
   "source": [
    "events_merged.columns"
   ]
  },
  {
   "cell_type": "code",
   "execution_count": 346,
   "metadata": {},
   "outputs": [
    {
     "data": {
      "text/plain": [
       "offer_id\n",
       "0b1e1539f2cc45b7b9fa7c272da2e1d7    7668\n",
       "2298d6c36e964ae4a3e7e9706d1fb8c2    7646\n",
       "2906b810c7d4411798c6938adc9daaa5    7632\n",
       "3f207df678b143eea3cee63160fa8bed    7617\n",
       "4d5c57ea9a6940dd891ad53e9dbe8da0    7593\n",
       "5a8bc65990b245e5a138643cd4eb9837    7618\n",
       "9b98b8c7a33c4b65b9aebfe6a799e6d9    7677\n",
       "ae264e3637204a6fb9bb56bc8210ddfd    7658\n",
       "f19421c1d4aa40978ebb69ca19b0e20d    7571\n",
       "fafdcd668e3743c1bb461111dcafc2a4    7597\n",
       "dtype: int64"
      ]
     },
     "execution_count": 346,
     "metadata": {},
     "output_type": "execute_result"
    }
   ],
   "source": [
    "events_merged.pivot_table(values = 'event_offer_received', index='person',columns='offer_id',aggfunc='count',fill_value=0).sum(axis=0)"
   ]
  },
  {
   "cell_type": "code",
   "execution_count": 347,
   "metadata": {},
   "outputs": [
    {
     "data": {
      "text/plain": [
       "4.488466517594445"
      ]
     },
     "execution_count": 347,
     "metadata": {},
     "output_type": "execute_result"
    }
   ],
   "source": [
    "events_merged.pivot_table(values = 'event_offer_received', index='person',columns='offer_id',aggfunc='count',fill_value=0).sum(axis=1).mean()"
   ]
  },
  {
   "cell_type": "code",
   "execution_count": 352,
   "metadata": {},
   "outputs": [
    {
     "data": {
      "text/plain": [
       "Text(0.5,1,'Fig 2.3a: Distribution of the proportion of offers an individual recieved')"
      ]
     },
     "execution_count": 352,
     "metadata": {},
     "output_type": "execute_result"
    },
    {
     "data": {
      "image/png": "[encoded data removed]",
      "text/plain": [
       "<Figure size 432x288 with 1 Axes>"
      ]
     },
     "metadata": {
      "needs_background": "light"
     },
     "output_type": "display_data"
    }
   ],
   "source": [
    "fig_2_3a = sns.distplot(events_merged.pivot_table(values = 'event_offer_received', index='person',columns='offer_id',aggfunc='count',fill_value=0).mean(axis=1))\n",
    "fig_2_3a.set_title(\"Fig 2.3a: Distribution of the proportion of offers an individual recieved\")"
   ]
  },
  {
   "cell_type": "code",
   "execution_count": 35,
   "metadata": {},
   "outputs": [
    {
     "data": {
      "text/plain": [
       "0    0.5\n",
       "dtype: float64"
      ]
     },
     "execution_count": 35,
     "metadata": {},
     "output_type": "execute_result"
    }
   ],
   "source": [
    "events_merged.pivot_table(values = 'event_offer_received', index='person',columns='offer_id',aggfunc='count',fill_value=0).mean(axis=1).mode()"
   ]
  },
  {
   "cell_type": "code",
   "execution_count": 355,
   "metadata": {},
   "outputs": [
    {
     "name": "stdout",
     "output_type": "stream",
     "text": [
      "Average Offer Difficulty:  7.7\n"
     ]
    },
    {
     "data": {
      "text/plain": [
       "Text(0.5,1,'Fig 2.3b: Distribution of average (by person) offer difficulty')"
      ]
     },
     "execution_count": 355,
     "metadata": {},
     "output_type": "execute_result"
    },
    {
     "data": {
      "image/png": "[encoded data removed]",
      "text/plain": [
       "<Figure size 432x288 with 1 Axes>"
      ]
     },
     "metadata": {
      "needs_background": "light"
     },
     "output_type": "display_data"
    }
   ],
   "source": [
    "print(\"Average Offer Difficulty: \",portfolio_new.difficulty.mean())\n",
    "\n",
    "fig_2_3b = sns.distplot(events_merged.pivot_table(values = 'difficulty', index='person',columns='offer_id',aggfunc='mean').mean(axis=1))\n",
    "fig_2_3b.set_title(\"Fig 2.3b: Distribution of average (by person) offer difficulty\")"
   ]
  },
  {
   "cell_type": "code",
   "execution_count": 38,
   "metadata": {},
   "outputs": [
    {
     "data": {
      "text/plain": [
       "email         76277\n",
       "mobile        68609\n",
       "social        45683\n",
       "web           61001\n",
       "offer_bogo    30499\n",
       "dtype: int64"
      ]
     },
     "execution_count": 38,
     "metadata": {},
     "output_type": "execute_result"
    }
   ],
   "source": [
    "events_merged[['email','mobile', 'social', 'web', 'offer_bogo']].sum()"
   ]
  },
  {
   "cell_type": "code",
   "execution_count": 39,
   "metadata": {},
   "outputs": [
    {
     "data": {
      "text/html": [
       "<div>\n",
       "<style scoped>\n",
       "    .dataframe tbody tr th:only-of-type {\n",
       "        vertical-align: middle;\n",
       "    }\n",
       "\n",
       "    .dataframe tbody tr th {\n",
       "        vertical-align: top;\n",
       "    }\n",
       "\n",
       "    .dataframe thead th {\n",
       "        text-align: right;\n",
       "    }\n",
       "</style>\n",
       "<table border=\"1\" class=\"dataframe\">\n",
       "  <thead>\n",
       "    <tr style=\"text-align: right;\">\n",
       "      <th></th>\n",
       "      <th>difficulty</th>\n",
       "      <th>duration</th>\n",
       "      <th>offer_id</th>\n",
       "      <th>offer_type</th>\n",
       "      <th>reward</th>\n",
       "      <th>email</th>\n",
       "      <th>mobile</th>\n",
       "      <th>social</th>\n",
       "      <th>web</th>\n",
       "      <th>offer_bogo</th>\n",
       "      <th>offer_discount</th>\n",
       "      <th>offer_informational</th>\n",
       "    </tr>\n",
       "  </thead>\n",
       "  <tbody>\n",
       "    <tr>\n",
       "      <th>0</th>\n",
       "      <td>10</td>\n",
       "      <td>7</td>\n",
       "      <td>ae264e3637204a6fb9bb56bc8210ddfd</td>\n",
       "      <td>bogo</td>\n",
       "      <td>10</td>\n",
       "      <td>1</td>\n",
       "      <td>1</td>\n",
       "      <td>1</td>\n",
       "      <td>0</td>\n",
       "      <td>1</td>\n",
       "      <td>0</td>\n",
       "      <td>0</td>\n",
       "    </tr>\n",
       "    <tr>\n",
       "      <th>1</th>\n",
       "      <td>10</td>\n",
       "      <td>5</td>\n",
       "      <td>4d5c57ea9a6940dd891ad53e9dbe8da0</td>\n",
       "      <td>bogo</td>\n",
       "      <td>10</td>\n",
       "      <td>1</td>\n",
       "      <td>1</td>\n",
       "      <td>1</td>\n",
       "      <td>1</td>\n",
       "      <td>1</td>\n",
       "      <td>0</td>\n",
       "      <td>0</td>\n",
       "    </tr>\n",
       "    <tr>\n",
       "      <th>2</th>\n",
       "      <td>0</td>\n",
       "      <td>4</td>\n",
       "      <td>3f207df678b143eea3cee63160fa8bed</td>\n",
       "      <td>informational</td>\n",
       "      <td>0</td>\n",
       "      <td>1</td>\n",
       "      <td>1</td>\n",
       "      <td>0</td>\n",
       "      <td>1</td>\n",
       "      <td>0</td>\n",
       "      <td>0</td>\n",
       "      <td>1</td>\n",
       "    </tr>\n",
       "    <tr>\n",
       "      <th>3</th>\n",
       "      <td>5</td>\n",
       "      <td>7</td>\n",
       "      <td>9b98b8c7a33c4b65b9aebfe6a799e6d9</td>\n",
       "      <td>bogo</td>\n",
       "      <td>5</td>\n",
       "      <td>1</td>\n",
       "      <td>1</td>\n",
       "      <td>0</td>\n",
       "      <td>1</td>\n",
       "      <td>1</td>\n",
       "      <td>0</td>\n",
       "      <td>0</td>\n",
       "    </tr>\n",
       "    <tr>\n",
       "      <th>4</th>\n",
       "      <td>20</td>\n",
       "      <td>10</td>\n",
       "      <td>0b1e1539f2cc45b7b9fa7c272da2e1d7</td>\n",
       "      <td>discount</td>\n",
       "      <td>5</td>\n",
       "      <td>1</td>\n",
       "      <td>0</td>\n",
       "      <td>0</td>\n",
       "      <td>1</td>\n",
       "      <td>0</td>\n",
       "      <td>1</td>\n",
       "      <td>0</td>\n",
       "    </tr>\n",
       "    <tr>\n",
       "      <th>5</th>\n",
       "      <td>7</td>\n",
       "      <td>7</td>\n",
       "      <td>2298d6c36e964ae4a3e7e9706d1fb8c2</td>\n",
       "      <td>discount</td>\n",
       "      <td>3</td>\n",
       "      <td>1</td>\n",
       "      <td>1</td>\n",
       "      <td>1</td>\n",
       "      <td>1</td>\n",
       "      <td>0</td>\n",
       "      <td>1</td>\n",
       "      <td>0</td>\n",
       "    </tr>\n",
       "    <tr>\n",
       "      <th>6</th>\n",
       "      <td>10</td>\n",
       "      <td>10</td>\n",
       "      <td>fafdcd668e3743c1bb461111dcafc2a4</td>\n",
       "      <td>discount</td>\n",
       "      <td>2</td>\n",
       "      <td>1</td>\n",
       "      <td>1</td>\n",
       "      <td>1</td>\n",
       "      <td>1</td>\n",
       "      <td>0</td>\n",
       "      <td>1</td>\n",
       "      <td>0</td>\n",
       "    </tr>\n",
       "    <tr>\n",
       "      <th>7</th>\n",
       "      <td>0</td>\n",
       "      <td>3</td>\n",
       "      <td>5a8bc65990b245e5a138643cd4eb9837</td>\n",
       "      <td>informational</td>\n",
       "      <td>0</td>\n",
       "      <td>1</td>\n",
       "      <td>1</td>\n",
       "      <td>1</td>\n",
       "      <td>0</td>\n",
       "      <td>0</td>\n",
       "      <td>0</td>\n",
       "      <td>1</td>\n",
       "    </tr>\n",
       "    <tr>\n",
       "      <th>8</th>\n",
       "      <td>5</td>\n",
       "      <td>5</td>\n",
       "      <td>f19421c1d4aa40978ebb69ca19b0e20d</td>\n",
       "      <td>bogo</td>\n",
       "      <td>5</td>\n",
       "      <td>1</td>\n",
       "      <td>1</td>\n",
       "      <td>1</td>\n",
       "      <td>1</td>\n",
       "      <td>1</td>\n",
       "      <td>0</td>\n",
       "      <td>0</td>\n",
       "    </tr>\n",
       "    <tr>\n",
       "      <th>9</th>\n",
       "      <td>10</td>\n",
       "      <td>7</td>\n",
       "      <td>2906b810c7d4411798c6938adc9daaa5</td>\n",
       "      <td>discount</td>\n",
       "      <td>2</td>\n",
       "      <td>1</td>\n",
       "      <td>1</td>\n",
       "      <td>0</td>\n",
       "      <td>1</td>\n",
       "      <td>0</td>\n",
       "      <td>1</td>\n",
       "      <td>0</td>\n",
       "    </tr>\n",
       "  </tbody>\n",
       "</table>\n",
       "</div>"
      ],
      "text/plain": [
       "   difficulty  duration                          offer_id     offer_type  \\\n",
       "0          10         7  ae264e3637204a6fb9bb56bc8210ddfd           bogo   \n",
       "1          10         5  4d5c57ea9a6940dd891ad53e9dbe8da0           bogo   \n",
       "2           0         4  3f207df678b143eea3cee63160fa8bed  informational   \n",
       "3           5         7  9b98b8c7a33c4b65b9aebfe6a799e6d9           bogo   \n",
       "4          20        10  0b1e1539f2cc45b7b9fa7c272da2e1d7       discount   \n",
       "5           7         7  2298d6c36e964ae4a3e7e9706d1fb8c2       discount   \n",
       "6          10        10  fafdcd668e3743c1bb461111dcafc2a4       discount   \n",
       "7           0         3  5a8bc65990b245e5a138643cd4eb9837  informational   \n",
       "8           5         5  f19421c1d4aa40978ebb69ca19b0e20d           bogo   \n",
       "9          10         7  2906b810c7d4411798c6938adc9daaa5       discount   \n",
       "\n",
       "   reward  email  mobile  social  web  offer_bogo  offer_discount  \\\n",
       "0      10      1       1       1    0           1               0   \n",
       "1      10      1       1       1    1           1               0   \n",
       "2       0      1       1       0    1           0               0   \n",
       "3       5      1       1       0    1           1               0   \n",
       "4       5      1       0       0    1           0               1   \n",
       "5       3      1       1       1    1           0               1   \n",
       "6       2      1       1       1    1           0               1   \n",
       "7       0      1       1       1    0           0               0   \n",
       "8       5      1       1       1    1           1               0   \n",
       "9       2      1       1       0    1           0               1   \n",
       "\n",
       "   offer_informational  \n",
       "0                    0  \n",
       "1                    0  \n",
       "2                    1  \n",
       "3                    0  \n",
       "4                    0  \n",
       "5                    0  \n",
       "6                    0  \n",
       "7                    1  \n",
       "8                    0  \n",
       "9                    0  "
      ]
     },
     "execution_count": 39,
     "metadata": {},
     "output_type": "execute_result"
    }
   ],
   "source": [
    "portfolio_new"
   ]
  },
  {
   "cell_type": "markdown",
   "metadata": {
    "Collapsed": "false"
   },
   "source": [
    "<a id='sec_2_4'></a>\n",
    "## Section 2.4: Explore Response Variable\n",
    "<a href='#TOC'>Jump to top</a>"
   ]
  },
  {
   "cell_type": "code",
   "execution_count": 40,
   "metadata": {
    "Collapsed": "false"
   },
   "outputs": [
    {
     "name": "stdout",
     "output_type": "stream",
     "text": [
      "event_offer_received     76277\n",
      "event_offer_viewed       56651\n",
      "event_transaction        43067\n",
      "event_offer_completed    33195\n",
      "dtype: int64\n",
      "Percentage viewed : 74.27%\n",
      "Percentage offers purchased : 56.46%\n",
      "Percentage offers viewed puchased : 76.02%\n",
      "Percentage of offers that were rewarded  : 77.08%\n",
      "Percentage of purchases that were rewarded  : 77.08%\n"
     ]
    }
   ],
   "source": [
    "print(events_merged[['event_offer_received','event_offer_viewed','event_transaction','event_offer_completed']].sum())\n",
    "\n",
    "tot_offers = events_merged.event_offer_received.sum()\n",
    "tot_off_viewed = events_merged.event_offer_viewed.sum()\n",
    "tot_off_purchased = events_merged.event_transaction.sum()\n",
    "tot_off_rewarded = events_merged.event_offer_completed.sum()\n",
    "\n",
    "\n",
    "\n",
    "tot_sum_purch = events_merged.trans_spend.sum()\n",
    "#tot_sum_reward = events_merged.reward.sum()\n",
    "\n",
    "\n",
    "print('Percentage viewed : {0:.2f}%'.format(100* tot_off_viewed/tot_offers))\n",
    "print('Percentage offers purchased : {0:.2f}%'.format(100*tot_off_purchased/tot_offers))\n",
    "print('Percentage offers viewed puchased : {0:.2f}%'.format(100*tot_off_purchased/tot_off_viewed))\n",
    "print('Percentage of offers that were rewarded  : {0:.2f}%'.format(100*tot_off_rewarded/tot_off_purchased))\n",
    "print('Percentage of purchases that were rewarded  : {0:.2f}%'.format(100*tot_off_rewarded/tot_off_purchased))"
   ]
  },
  {
   "cell_type": "markdown",
   "metadata": {
    "Collapsed": "false"
   },
   "source": []
  },
  {
   "cell_type": "markdown",
   "metadata": {
    "Collapsed": "false"
   },
   "source": [
    "First lets explore the main question in the simplist way possible?  Is there an overarching coorelation in purchasing to any demographic?"
   ]
  },
  {
   "cell_type": "code",
   "execution_count": null,
   "metadata": {
    "Collapsed": "false"
   },
   "outputs": [],
   "source": []
  },
  {
   "cell_type": "code",
   "execution_count": null,
   "metadata": {
    "Collapsed": "false"
   },
   "outputs": [],
   "source": []
  },
  {
   "cell_type": "code",
   "execution_count": 363,
   "metadata": {
    "Collapsed": "false"
   },
   "outputs": [
    {
     "data": {
      "text/plain": [
       "Text(0.5,1,'Fig 2.4a: Coorelation Heatmap')"
      ]
     },
     "execution_count": 363,
     "metadata": {},
     "output_type": "execute_result"
    },
    {
     "data": {
      "image/png": "[encoded data removed]",
      "text/plain": [
       "<Figure size 864x864 with 2 Axes>"
      ]
     },
     "metadata": {
      "needs_background": "light"
     },
     "output_type": "display_data"
    }
   ],
   "source": [
    "fig_2_4a, ax_2_4a = plt.subplots(figsize=(12,12))\n",
    "sns.heatmap(events_merged_nona[['age', 'income', 'gender_F', 'gender_M', 'gender_O','memb_leng', 'difficulty', 'mobile', 'social', 'web',\n",
    "       'offer_bogo', 'offer_discount', 'offer_informational',\n",
    "       'event_offer_viewed', 'event_transaction', 'event_offer_completed','t_viewed_std',\n",
    "       't_purc_std']].corr(),annot=True,ax=ax_2_4a,cmap='Spectral',vmin=-0.4, vmax=0.4,fmt='.2f')\n",
    "ax_2_4a.set_title('Fig 2.4a: Coorelation Heatmap')"
   ]
  },
  {
   "cell_type": "markdown",
   "metadata": {
    "Collapsed": "false"
   },
   "source": [
    "There is a lot of information in this cooreation matrix.  I am focusing on which factors coorelate the most with event offer viewed, trans, and completion.\n",
    "    - Viewed\n",
    "        - Top Positive Coorelation\n",
    "            - Offer on social media (0.5)\n",
    "            - Offered on mobile platform (0.3)\n",
    "        - Top Negative Coorelations\n",
    "            - informational offer\n",
    "            - difficulty\n",
    "    - Transaction\n",
    "        - Top Positive Coorelation\n",
    "            - Offer on social media (0.37)\n",
    "            - Offered on mobile platform (0.2)\n",
    "        - Top Negative Coorelation\n",
    "            - \n",
    "    "
   ]
  },
  {
   "cell_type": "code",
   "execution_count": null,
   "metadata": {
    "Collapsed": "false"
   },
   "outputs": [],
   "source": []
  },
  {
   "cell_type": "code",
   "execution_count": 371,
   "metadata": {
    "Collapsed": "false"
   },
   "outputs": [
    {
     "data": {
      "text/plain": [
       "Text(0.5,0.98,'Fig 2.4: Actions Completed by age ')"
      ]
     },
     "execution_count": 371,
     "metadata": {},
     "output_type": "execute_result"
    },
    {
     "data": {
      "image/png": "[encoded data removed]",
      "text/plain": [
       "<Figure size 576x288 with 2 Axes>"
      ]
     },
     "metadata": {
      "needs_background": "light"
     },
     "output_type": "display_data"
    }
   ],
   "source": [
    "\n",
    "fig_2_4b, ax_2_4b = plt.subplots(nrows=1, ncols=2,figsize=(8,4))\n",
    "sns.distplot(events_merged_nona[events_merged_nona.event_transaction==1].age,bins=25,ax=ax_2_4b[0])\n",
    "sns.distplot(events_merged_nona[events_merged_nona.event_transaction==0].age,bins=25,ax=ax_2_4b[0])\n",
    "sns.distplot(events_merged_nona[events_merged_nona.event_offer_completed==1].age,bins=25,ax=ax_2_4b[1])\n",
    "sns.distplot(events_merged_nona[events_merged_nona.event_offer_completed==0].age,bins=25,ax=ax_2_4b[1])\n",
    "ax_2_4b[0].set_title('Event Transaction')\n",
    "ax_2_4b[1].set_title('Event Completed')\n",
    "fig_2_4b.legend(labels=['Complete','Incomplete'])\n",
    "fig_2_4b.suptitle('Fig 2.4: Actions Completed by age ')"
   ]
  },
  {
   "cell_type": "markdown",
   "metadata": {
    "Collapsed": "false"
   },
   "source": [
    "The curves are almost identical, there does not seem to be an effect on age in making a transaciton"
   ]
  },
  {
   "cell_type": "code",
   "execution_count": 372,
   "metadata": {
    "Collapsed": "false"
   },
   "outputs": [
    {
     "data": {
      "text/plain": [
       "Text(0.5,0.98,'Fig 2.4c: Actions Completed by Income')"
      ]
     },
     "execution_count": 372,
     "metadata": {},
     "output_type": "execute_result"
    },
    {
     "data": {
      "image/png": "[encoded data removed]",
      "text/plain": [
       "<Figure size 576x288 with 2 Axes>"
      ]
     },
     "metadata": {
      "needs_background": "light"
     },
     "output_type": "display_data"
    }
   ],
   "source": [
    "fig_2_4c , ax_2_24c = plt.subplots(nrows=1, ncols=2,figsize=(8,4))\n",
    "fig_2_4c.subplots_adjust(hspace = .2,wspace = .5)\n",
    "sns.distplot(events_merged[events_merged.event_transaction==1].income.dropna(),bins=25,ax=ax_2_24c[0])\n",
    "sns.distplot(events_merged[events_merged.event_transaction==0].income.dropna(),bins=25,ax=ax_2_24c[0])\n",
    "sns.distplot(events_merged[events_merged.event_offer_completed==1].income.dropna(),bins=25,ax=ax_2_24c[1])\n",
    "sns.distplot(events_merged[events_merged.event_offer_completed==0].income.dropna(),bins=25,ax=ax_2_24c[1])\n",
    "ax_2_24c[0].set_title('Event Transaction')\n",
    "ax_2_24c[1].set_title('Event Completed')\n",
    "fig_2_4c.legend(labels=['Complete','Incomplete'])\n",
    "fig_2_4c.suptitle('Fig 2.4c: Actions Completed by Income')"
   ]
  },
  {
   "cell_type": "markdown",
   "metadata": {
    "Collapsed": "false"
   },
   "source": [
    "**Note** The two populatons are virtually overlapped in the event transaction.  But in the event completed (read: complete = received reward incomplete=info only) there is a little offset in the income of those who completed, the difference is likley not significant, it might suggest that people with higher incomes are more likley to responsd to promotions with rewards in compared to this with lower incomes.   \n",
    "\n",
    "* I think I need some stats help on this one, I belive I would use a  Kolmogorov-Smirnov test, but I am not sure."
   ]
  },
  {
   "cell_type": "code",
   "execution_count": 373,
   "metadata": {
    "Collapsed": "false"
   },
   "outputs": [
    {
     "data": {
      "text/plain": [
       "Text(0.5,0.98,'Fig 2.4d: Actions Completed by Gender')"
      ]
     },
     "execution_count": 373,
     "metadata": {},
     "output_type": "execute_result"
    },
    {
     "data": {
      "image/png": "[encoded data removed]",
      "text/plain": [
       "<Figure size 576x288 with 2 Axes>"
      ]
     },
     "metadata": {
      "needs_background": "light"
     },
     "output_type": "display_data"
    }
   ],
   "source": [
    "fig_2_4d, ax_2_4d = plt.subplots(nrows=1,ncols=2,figsize=(8,4),sharey=True)\n",
    "sns.barplot(x=events_merged.gender,y=events_merged.event_transaction,ax=ax_2_4d[0])\n",
    "sns.barplot(x=events_merged.gender,y=events_merged.event_offer_completed,ax=ax_2_4d[1])\n",
    "ax_2_4d[0].set_title('Event Transaction')\n",
    "ax_2_4d[1].set_title('Event Completed')\n",
    "fig_2_4d.suptitle('Fig 2.4d: Actions Completed by Gender')"
   ]
  },
  {
   "cell_type": "markdown",
   "metadata": {
    "Collapsed": "false"
   },
   "source": [
    "Men and Women appear to transact after viewing and offer at the same rate, but men disproportionally do not respond to the reward offers.  What is the baseline purchase frequency?"
   ]
  },
  {
   "cell_type": "code",
   "execution_count": 375,
   "metadata": {
    "Collapsed": "false"
   },
   "outputs": [
    {
     "data": {
      "text/plain": [
       "Text(0.5,1,'Fig 2.4e: Frequency of the number of offers individuals recieve ')"
      ]
     },
     "execution_count": 375,
     "metadata": {},
     "output_type": "execute_result"
    },
    {
     "data": {
      "image/png": "[encoded data removed]",
      "text/plain": [
       "<Figure size 432x288 with 1 Axes>"
      ]
     },
     "metadata": {
      "needs_background": "light"
     },
     "output_type": "display_data"
    }
   ],
   "source": [
    "fig2_4e = sns.distplot(events_merged.groupby(by='person').count()['index'],bins=10)\n",
    "fig2_4e.set_title(\"Fig 2.4e: Frequency of the number of offers individuals recieve \")"
   ]
  },
  {
   "cell_type": "code",
   "execution_count": null,
   "metadata": {
    "Collapsed": "false"
   },
   "outputs": [],
   "source": []
  },
  {
   "cell_type": "markdown",
   "metadata": {
    "Collapsed": "false"
   },
   "source": [
    "What do we want to know about the study factors?\n",
    "- Person\n",
    "   - What is the distribution of offers\n",
    "- Offer_Id (there are 10 offer ids)\n",
    "  - How many offers were made of each ID?\n",
    "  - How many offers were made to each person, on average?\n",
    "- Difficulty\n",
    "  - What was the representative range of difficulty?\n",
    "- Distribution Method\n",
    "  - \n",
    "- Offer Type\n",
    "- Reward"
   ]
  },
  {
   "cell_type": "code",
   "execution_count": 53,
   "metadata": {
    "Collapsed": "false"
   },
   "outputs": [
    {
     "data": {
      "text/plain": [
       "offer_id\n",
       "0b1e1539f2cc45b7b9fa7c272da2e1d7    7668\n",
       "2298d6c36e964ae4a3e7e9706d1fb8c2    7646\n",
       "2906b810c7d4411798c6938adc9daaa5    7632\n",
       "3f207df678b143eea3cee63160fa8bed    7617\n",
       "4d5c57ea9a6940dd891ad53e9dbe8da0    7593\n",
       "5a8bc65990b245e5a138643cd4eb9837    7618\n",
       "9b98b8c7a33c4b65b9aebfe6a799e6d9    7677\n",
       "ae264e3637204a6fb9bb56bc8210ddfd    7658\n",
       "f19421c1d4aa40978ebb69ca19b0e20d    7571\n",
       "fafdcd668e3743c1bb461111dcafc2a4    7597\n",
       "Name: index, dtype: int64"
      ]
     },
     "execution_count": 53,
     "metadata": {},
     "output_type": "execute_result"
    }
   ],
   "source": [
    "events_merged.groupby(by='offer_id').count()['index']"
   ]
  },
  {
   "cell_type": "code",
   "execution_count": 54,
   "metadata": {
    "Collapsed": "false"
   },
   "outputs": [
    {
     "data": {
      "text/plain": [
       "offer_id\n",
       "0b1e1539f2cc45b7b9fa7c272da2e1d7    1.203012\n",
       "2298d6c36e964ae4a3e7e9706d1fb8c2    1.208854\n",
       "2906b810c7d4411798c6938adc9daaa5    1.214320\n",
       "3f207df678b143eea3cee63160fa8bed    1.203127\n",
       "4d5c57ea9a6940dd891ad53e9dbe8da0    1.199526\n",
       "5a8bc65990b245e5a138643cd4eb9837    1.205380\n",
       "9b98b8c7a33c4b65b9aebfe6a799e6d9    1.208025\n",
       "ae264e3637204a6fb9bb56bc8210ddfd    1.201443\n",
       "f19421c1d4aa40978ebb69ca19b0e20d    1.209039\n",
       "fafdcd668e3743c1bb461111dcafc2a4    1.199779\n",
       "dtype: float64"
      ]
     },
     "execution_count": 54,
     "metadata": {},
     "output_type": "execute_result"
    }
   ],
   "source": [
    "events_merged.pivot_table(values='index',aggfunc='count',index='offer_id',columns=['person']).mean(axis=1)"
   ]
  },
  {
   "cell_type": "code",
   "execution_count": 377,
   "metadata": {
    "Collapsed": "false"
   },
   "outputs": [
    {
     "data": {
      "text/plain": [
       "Text(0.5,0.98,'Fig 2.4: Frequency of the Time of Offer Response')"
      ]
     },
     "execution_count": 377,
     "metadata": {},
     "output_type": "execute_result"
    },
    {
     "data": {
      "image/png": "[encoded data removed]",
      "text/plain": [
       "<Figure size 1152x576 with 4 Axes>"
      ]
     },
     "metadata": {
      "needs_background": "light"
     },
     "output_type": "display_data"
    }
   ],
   "source": [
    "fig2_4f, ax_2_4f = plt.subplots(nrows=2, ncols=2, sharex=False, sharey=False, figsize=(16,8))\n",
    "fig2_4f.subplots_adjust(hspace = .2,wspace = .2)\n",
    "\n",
    "sns.distplot(events_merged.t_viewed_std.dropna(),bins=25,ax=ax_2_4f[0,0],norm_hist=True)\n",
    "sns.distplot(events_merged.t_viewed_std.dropna(),hist_kws=dict(density=True,cumulative=True), kde_kws=dict(cumulative=True),bins=25,ax=ax_2_4f[1,0])\n",
    "sns.distplot(events_merged.t_purc_std.dropna(),bins=25,ax=ax_2_4f[0,1],norm_hist=True)\n",
    "sns.distplot(events_merged.t_purc_std.dropna(), hist_kws=dict(density=True,cumulative=True), kde_kws=dict(cumulative=True),ax=ax_2_4f[1,1],bins=25)\n",
    "\n",
    "for i,j in np.ndenumerate(ax_2_4f):\n",
    "    ax_2_4f[i].grid(b=True)\n",
    "    ax_2_4f[i].set(xlabel='time elapsed (normalized)')\n",
    "\n",
    "ax_2_4f[0,0].annotate(s='TIME VIEWED (std)',xy = (0.6,7.5) )\n",
    "ax_2_4f[1,0].annotate(s='TIME VIEWED (std) cumulative',xy = (0,.975) )\n",
    "ax_2_4f[0,1].annotate(s='TIME PURCHASED (std)',xy = (0.6, 1.7) )\n",
    "ax_2_4f[1,1].annotate(s='TIME PURCHASED (std) cumulative',xy = (0,.955) )\n",
    "fig2_4f.suptitle(\"Fig 2.4: Frequency of the Time of Offer Response\")\n"
   ]
  },
  {
   "cell_type": "markdown",
   "metadata": {
    "Collapsed": "false"
   },
   "source": [
    "Analysis:  The average view time is seemly early.  With 80% of people who will view it will view it witin the forst 30% of the time period.\n",
    "The purchasing cumlative curve is flatter than the viewed cumulative curve and doesnt reach its inflection pount until about 70% of total respondeants reposnded at the 50% time point."
   ]
  },
  {
   "cell_type": "code",
   "execution_count": null,
   "metadata": {},
   "outputs": [],
   "source": []
  },
  {
   "cell_type": "code",
   "execution_count": 388,
   "metadata": {
    "Collapsed": "false"
   },
   "outputs": [
    {
     "data": {
      "text/plain": [
       "Text(0.5,0.98,'Fig 2.4g: Frequency of the Time of Offer Response (by gender)')"
      ]
     },
     "execution_count": 388,
     "metadata": {},
     "output_type": "execute_result"
    },
    {
     "data": {
      "image/png": "[encoded data removed]",
      "text/plain": [
       "<Figure size 1152x576 with 4 Axes>"
      ]
     },
     "metadata": {
      "needs_background": "light"
     },
     "output_type": "display_data"
    }
   ],
   "source": [
    "fig2_4g, ax_2_4g = plt.subplots(nrows=2, ncols=2, sharex=False, sharey=False, figsize=(16,8))\n",
    "fig2_4g.subplots_adjust(hspace = .2,wspace = .2)\n",
    "\n",
    "sns.distplot(events_merged_nona[events_merged_nona.gender_M==1].t_viewed_std.dropna(),bins=25,ax=ax_2_4g[0,0],norm_hist=True)\n",
    "sns.distplot(events_merged_nona[events_merged_nona.gender_M==1].t_viewed_std.dropna(),hist_kws=dict(density=True,cumulative=True), kde_kws=dict(cumulative=True),bins=25,ax=ax_2_4g[1,0])\n",
    "sns.distplot(events_merged_nona[events_merged_nona.gender_M==1].t_purc_std.dropna(),bins=25,ax=ax_2_4g[0,1],norm_hist=True)\n",
    "sns.distplot(events_merged_nona[events_merged_nona.gender_M==1].t_purc_std.dropna(), hist_kws=dict(density=True,cumulative=True), kde_kws=dict(cumulative=True),ax=ax_2_4g[1,1],bins=25)\n",
    "sns.distplot(events_merged_nona[events_merged_nona.gender_F==1].t_viewed_std.dropna(),bins=25,ax=ax_2_4g[0,0],norm_hist=True)\n",
    "sns.distplot(events_merged_nona[events_merged_nona.gender_F==1].t_viewed_std.dropna(),hist_kws=dict(density=True,cumulative=True), kde_kws=dict(cumulative=True),bins=25,ax=ax_2_4g[1,0])\n",
    "sns.distplot(events_merged_nona[events_merged_nona.gender_F==1].t_purc_std.dropna(),bins=25,ax=ax_2_4g[0,1],norm_hist=True)\n",
    "sns.distplot(events_merged_nona[events_merged_nona.gender_F==1].t_purc_std.dropna(), hist_kws=dict(density=True,cumulative=True), kde_kws=dict(cumulative=True),ax=ax_2_4g[1,1],bins=25)\n",
    "sns.distplot(events_merged_nona[events_merged_nona.gender_O==1].t_viewed_std.dropna(),bins=25,ax=ax_2_4g[0,0],norm_hist=True)\n",
    "sns.distplot(events_merged_nona[events_merged_nona.gender_O==1].t_viewed_std.dropna(),hist_kws=dict(density=True,cumulative=True), kde_kws=dict(cumulative=True),bins=25,ax=ax_2_4g[1,0])\n",
    "sns.distplot(events_merged_nona[events_merged_nona.gender_O==1].t_purc_std.dropna(),bins=25,ax=ax_2_4g[0,1],norm_hist=True)\n",
    "sns.distplot(events_merged_nona[events_merged_nona.gender_O==1].t_purc_std.dropna(), hist_kws=dict(density=True,cumulative=True), kde_kws=dict(cumulative=True),ax=ax_2_4g[1,1],bins=25)\n",
    "\n",
    "for i,j in np.ndenumerate(ax_2_4g):\n",
    "    ax_2_4g[i].grid(b=True)\n",
    "    ax_2_4g[i].set(xlabel='time elapsed (normalized)')\n",
    "\n",
    "ax_2_4g[0,0].annotate(s='TIME VIEWED (std)',xy = (0.6,7.5) )\n",
    "ax_2_4g[1,0].annotate(s='TIME VIEWED (std) cumulative',xy = (0,.975) )\n",
    "ax_2_4g[0,1].annotate(s='TIME PURCHASED (std)',xy = (0.6, 1.7) )\n",
    "ax_2_4g[1,1].annotate(s='TIME PURCHASED (std) cumulative',xy = (0,.955) )\n",
    "fig2_4g.legend(labels=['Male','Female','Other'])\n",
    "fig2_4g.suptitle(\"Fig 2.4g: Frequency of the Time of Offer Response (by gender)\")\n"
   ]
  },
  {
   "cell_type": "markdown",
   "metadata": {
    "Collapsed": "false"
   },
   "source": [
    "<a id='fig2_4g'> Figure 2.4g </a>\n",
    "**Note** Virtually all three groups overalapped, no apparent difference between genders"
   ]
  },
  {
   "cell_type": "code",
   "execution_count": null,
   "metadata": {
    "Collapsed": "false"
   },
   "outputs": [],
   "source": []
  },
  {
   "cell_type": "code",
   "execution_count": null,
   "metadata": {
    "Collapsed": "false"
   },
   "outputs": [],
   "source": []
  },
  {
   "cell_type": "code",
   "execution_count": null,
   "metadata": {
    "Collapsed": "false"
   },
   "outputs": [],
   "source": []
  },
  {
   "cell_type": "code",
   "execution_count": null,
   "metadata": {
    "Collapsed": "false"
   },
   "outputs": [],
   "source": []
  },
  {
   "cell_type": "code",
   "execution_count": null,
   "metadata": {
    "Collapsed": "false"
   },
   "outputs": [],
   "source": []
  },
  {
   "cell_type": "markdown",
   "metadata": {
    "Collapsed": "false"
   },
   "source": [
    "## Section 3.0:  Modeling\n",
    "<a id='sec_3_0'></a>\n",
    "<a href='#TOC'>Jump to top </a>"
   ]
  },
  {
   "cell_type": "markdown",
   "metadata": {
    "Collapsed": "false"
   },
   "source": [
    "Ultimatly we would like to know, who is going to take the bait of "
   ]
  },
  {
   "cell_type": "code",
   "execution_count": 162,
   "metadata": {},
   "outputs": [],
   "source": [
    "def results_bool(y,y_hat,beta = 1.0, print_results=True,ret_results=True):\n",
    "    ''' This function compares the results of a predicted to an actual 1d array\n",
    "    \n",
    "    This function will provide Accuracy, Precision, Recall and F_beta score \n",
    "    of a 1d bo0lean prediction array vs actual.\n",
    "    \n",
    "    Can print results and/or return a list [Accuracy, Precision, Recall, Fscore, beta]\n",
    "    \n",
    "    Input:\n",
    "    y: (int) actual results\n",
    "    y_hat: (int) predicted results\n",
    "    beta: (float) beta of F-score values between 0 to 2 (default 1)\n",
    "    print_results (default True)\n",
    "    return_results (default True)\n",
    "    \n",
    "    Return (optional): (list) [Accuracy, Precision, Recall, Fscore, beta]\n",
    "    '''\n",
    "    # check if input arrays are binary \n",
    "    if ((y==1) | (y==0)).all()==False:\n",
    "        raise Exception(\"Error: y is not binary\")\n",
    "    if ((y_hat==1) | (y_hat==0)).all()==False:\n",
    "        raise Exception(\"Error: y_hat is not binary\")\n",
    "    \n",
    "    # check beta\n",
    "    if beta > 2 or beta < 0:\n",
    "        print('beta {} exceeded 0 to 2 limit, setting beta = 1'.format(beta))\n",
    "        beta = 1.0\n",
    "        \n",
    "    \n",
    "    accuracy = np.sum(y==y_hat)/len(y)\n",
    "    tp = len(np.intersect1d(np.where(y_hat==1),np.where(y==1)))\n",
    "    precision = tp/((y_hat==1).sum())\n",
    "    recall = tp/(y.sum())\n",
    "    f_score = (1+beta**2)*(precision * recall )/(beta**2 * (precision + recall))\n",
    "    \n",
    "    if print_results==True:\n",
    "        print('Results:\\n--------------------------------------')\n",
    "        print('{0:<12s} {1:0.2%}'.format('Accuracy: ',accuracy))\n",
    "        print('{0:<12s} {1:0.2%}'.format('Precision: ',precision))\n",
    "        print('{0:<12s} {1:0.2%}'.format('Recall: ',recall))\n",
    "        print('{0:<12s} {1:0.4f}'.format('F_'+str(beta)+': ',f_score))\n",
    "    \n",
    "    if ret_results == True:\n",
    "        return [accuracy, precision, recall, f_score, beta]\n",
    "    else:\n",
    "        return\n",
    "\n",
    "    "
   ]
  },
  {
   "cell_type": "code",
   "execution_count": null,
   "metadata": {},
   "outputs": [],
   "source": []
  },
  {
   "cell_type": "code",
   "execution_count": 57,
   "metadata": {},
   "outputs": [],
   "source": [
    "events_merged.reward.fillna(value=0,inplace=True)"
   ]
  },
  {
   "cell_type": "code",
   "execution_count": 58,
   "metadata": {},
   "outputs": [],
   "source": [
    "events_merged_nona = events_merged.dropna(subset=['gender','age','income'])"
   ]
  },
  {
   "cell_type": "code",
   "execution_count": 59,
   "metadata": {
    "Collapsed": "false"
   },
   "outputs": [
    {
     "data": {
      "text/plain": [
       "Index(['amount', 'duration', 'event', 'event_offer_completed',\n",
       "       'event_offer_received', 'event_offer_viewed', 'event_transaction',\n",
       "       'index', 'offer_id', 'person', 'reward', 'time', 'time_end',\n",
       "       'time_viewed', 'trans_time', 'trans_spend', 'age', 'income', 'gender',\n",
       "       'gender_F', 'gender_M', 'gender_O', 'memb_leng', 'difficulty', 'email',\n",
       "       'mobile', 'social', 'web', 'offer_bogo', 'offer_discount',\n",
       "       'offer_informational', 't_std', 't_viewed_std', 't_purc_std'],\n",
       "      dtype='object')"
      ]
     },
     "execution_count": 59,
     "metadata": {},
     "output_type": "execute_result"
    }
   ],
   "source": [
    "events_merged_nona.columns"
   ]
  },
  {
   "cell_type": "code",
   "execution_count": 199,
   "metadata": {
    "Collapsed": "false"
   },
   "outputs": [],
   "source": [
    "Xcol = ['t_std','duration','age', 'income', 'gender_F', 'gender_M', 'gender_O',\n",
    "       'memb_leng', 'difficulty', 'email', 'mobile', 'social', 'web',\n",
    "       'offer_bogo', 'offer_discount', 'offer_informational']\n",
    "\n",
    "Ycols = ['t_viewed_std',\n",
    "       't_purc_std','event_offer_viewed', 'event_transaction', 'event_offer_completed']\n",
    "\n",
    "PLcol = ['time','index','person','offer_id','time_viewed','time_end','event_offer_received','trans_time', 'trans_spend']"
   ]
  },
  {
   "cell_type": "markdown",
   "metadata": {
    "Collapsed": "false"
   },
   "source": [
    "### Section 3.1: Predicting Views\n",
    "<a id='sec_3_1'></a>\n",
    "<a href='#TOC'>Jump to top</a>"
   ]
  },
  {
   "cell_type": "code",
   "execution_count": 201,
   "metadata": {},
   "outputs": [
    {
     "name": "stdout",
     "output_type": "stream",
     "text": [
      "<class 'pandas.core.frame.DataFrame'>\n",
      "Int64Index: 66501 entries, 0 to 76276\n",
      "Data columns (total 5 columns):\n",
      "t_viewed_std             48914 non-null float64\n",
      "t_purc_std               37805 non-null float64\n",
      "event_offer_viewed       66501 non-null int64\n",
      "event_transaction        66501 non-null int64\n",
      "event_offer_completed    66501 non-null int64\n",
      "dtypes: float64(2), int64(3)\n",
      "memory usage: 3.0 MB\n"
     ]
    }
   ],
   "source": [
    "events_merged_nona[Ycols].info()"
   ]
  },
  {
   "cell_type": "code",
   "execution_count": 391,
   "metadata": {},
   "outputs": [
    {
     "data": {
      "text/plain": [
       "0     100000.0\n",
       "1      41000.0\n",
       "2      33000.0\n",
       "3      33000.0\n",
       "4      80000.0\n",
       "5      48000.0\n",
       "6      38000.0\n",
       "7      44000.0\n",
       "8      95000.0\n",
       "9          NaN\n",
       "10     33000.0\n",
       "11     49000.0\n",
       "12     51000.0\n",
       "13     72000.0\n",
       "14     64000.0\n",
       "Name: income, dtype: float64"
      ]
     },
     "execution_count": 391,
     "metadata": {},
     "output_type": "execute_result"
    }
   ],
   "source": [
    "events_merged.income.head(15)"
   ]
  },
  {
   "cell_type": "code",
   "execution_count": 91,
   "metadata": {
    "Collapsed": "false"
   },
   "outputs": [],
   "source": [
    "X_view_train, X_view_test, y_view_train, y_view_test = train_test_split(events_merged_nona[Xcol],events_merged_nona['event_offer_viewed'],events_merged_viewed['event_offer_pur'],train_size=0.3)"
   ]
  },
  {
   "cell_type": "code",
   "execution_count": 90,
   "metadata": {},
   "outputs": [],
   "source": [
    "NB_views = GaussianNB()"
   ]
  },
  {
   "cell_type": "code",
   "execution_count": 92,
   "metadata": {},
   "outputs": [
    {
     "data": {
      "text/plain": [
       "GaussianNB(priors=None)"
      ]
     },
     "execution_count": 92,
     "metadata": {},
     "output_type": "execute_result"
    }
   ],
   "source": [
    "NB_views.fit(X_view_train,y_view_train)"
   ]
  },
  {
   "cell_type": "code",
   "execution_count": 93,
   "metadata": {},
   "outputs": [],
   "source": [
    "y_view_pred = NB_views.predict(X_view_test)"
   ]
  },
  {
   "cell_type": "code",
   "execution_count": 165,
   "metadata": {},
   "outputs": [
    {
     "name": "stdout",
     "output_type": "stream",
     "text": [
      "Results:\n",
      "--------------------------------------\n",
      "Accuracy:    76.77%\n",
      "Precision:   77.97%\n",
      "Recall:      95.31%\n",
      "F_0.5:       2.1444\n"
     ]
    }
   ],
   "source": [
    "NB_view_results = results_bool(y_,y_hat,beta=0.5)"
   ]
  },
  {
   "cell_type": "code",
   "execution_count": 185,
   "metadata": {},
   "outputs": [
    {
     "name": "stdout",
     "output_type": "stream",
     "text": [
      "             precision    recall  f1-score   support\n",
      "\n",
      "          0     0.6617    0.2542    0.3673     12347\n",
      "          1     0.7797    0.9531    0.8577     34204\n",
      "\n",
      "avg / total     0.7484    0.7677    0.7277     46551\n",
      "\n"
     ]
    }
   ],
   "source": [
    "print(met.classification_report(y,y_hat,digits=4))"
   ]
  },
  {
   "cell_type": "markdown",
   "metadata": {},
   "source": [
    "### Section 3.2: Predicting Purchases\n",
    "<a id='sec_3_2'></a>\n",
    "<a href='#TOC'>Jump to top</a>"
   ]
  },
  {
   "cell_type": "code",
   "execution_count": null,
   "metadata": {},
   "outputs": [],
   "source": [
    "y_hat = y_mmmmmmmmmmmmmm m jjjmj"
   ]
  },
  {
   "cell_type": "code",
   "execution_count": 189,
   "metadata": {},
   "outputs": [
    {
     "data": {
      "text/html": [
       "<div>\n",
       "<style scoped>\n",
       "    .dataframe tbody tr th:only-of-type {\n",
       "        vertical-align: middle;\n",
       "    }\n",
       "\n",
       "    .dataframe tbody tr th {\n",
       "        vertical-align: top;\n",
       "    }\n",
       "\n",
       "    .dataframe thead th {\n",
       "        text-align: right;\n",
       "    }\n",
       "</style>\n",
       "<table border=\"1\" class=\"dataframe\">\n",
       "  <thead>\n",
       "    <tr style=\"text-align: right;\">\n",
       "      <th></th>\n",
       "      <th>t_std</th>\n",
       "      <th>amount</th>\n",
       "      <th>duration</th>\n",
       "      <th>event</th>\n",
       "      <th>event_offer_received</th>\n",
       "      <th>event_offer_viewed</th>\n",
       "      <th>index</th>\n",
       "      <th>offer_id</th>\n",
       "      <th>person</th>\n",
       "      <th>reward</th>\n",
       "      <th>...</th>\n",
       "      <th>gender_O</th>\n",
       "      <th>memb_leng</th>\n",
       "      <th>difficulty</th>\n",
       "      <th>email</th>\n",
       "      <th>mobile</th>\n",
       "      <th>social</th>\n",
       "      <th>web</th>\n",
       "      <th>offer_bogo</th>\n",
       "      <th>offer_discount</th>\n",
       "      <th>offer_informational</th>\n",
       "    </tr>\n",
       "  </thead>\n",
       "  <tbody>\n",
       "    <tr>\n",
       "      <th>0</th>\n",
       "      <td>0.0</td>\n",
       "      <td>NaN</td>\n",
       "      <td>168</td>\n",
       "      <td>offer received</td>\n",
       "      <td>1</td>\n",
       "      <td>1</td>\n",
       "      <td>0</td>\n",
       "      <td>9b98b8c7a33c4b65b9aebfe6a799e6d9</td>\n",
       "      <td>78afa995795e4d85b5d9ceeca43f5fef</td>\n",
       "      <td>5.0</td>\n",
       "      <td>...</td>\n",
       "      <td>0</td>\n",
       "      <td>14.564703</td>\n",
       "      <td>5</td>\n",
       "      <td>1</td>\n",
       "      <td>1</td>\n",
       "      <td>0</td>\n",
       "      <td>1</td>\n",
       "      <td>1</td>\n",
       "      <td>0</td>\n",
       "      <td>0</td>\n",
       "    </tr>\n",
       "    <tr>\n",
       "      <th>1</th>\n",
       "      <td>0.0</td>\n",
       "      <td>NaN</td>\n",
       "      <td>168</td>\n",
       "      <td>offer received</td>\n",
       "      <td>1</td>\n",
       "      <td>0</td>\n",
       "      <td>18</td>\n",
       "      <td>9b98b8c7a33c4b65b9aebfe6a799e6d9</td>\n",
       "      <td>ebe7ef46ea6f4963a7dd49f501b26779</td>\n",
       "      <td>0.0</td>\n",
       "      <td>...</td>\n",
       "      <td>0</td>\n",
       "      <td>42.148869</td>\n",
       "      <td>5</td>\n",
       "      <td>1</td>\n",
       "      <td>1</td>\n",
       "      <td>0</td>\n",
       "      <td>1</td>\n",
       "      <td>1</td>\n",
       "      <td>0</td>\n",
       "      <td>0</td>\n",
       "    </tr>\n",
       "    <tr>\n",
       "      <th>2</th>\n",
       "      <td>0.0</td>\n",
       "      <td>NaN</td>\n",
       "      <td>168</td>\n",
       "      <td>offer received</td>\n",
       "      <td>1</td>\n",
       "      <td>1</td>\n",
       "      <td>21</td>\n",
       "      <td>9b98b8c7a33c4b65b9aebfe6a799e6d9</td>\n",
       "      <td>f082d80f0aac47a99173ba8ef8fc1909</td>\n",
       "      <td>5.0</td>\n",
       "      <td>...</td>\n",
       "      <td>0</td>\n",
       "      <td>24.559442</td>\n",
       "      <td>5</td>\n",
       "      <td>1</td>\n",
       "      <td>1</td>\n",
       "      <td>0</td>\n",
       "      <td>1</td>\n",
       "      <td>1</td>\n",
       "      <td>0</td>\n",
       "      <td>0</td>\n",
       "    </tr>\n",
       "    <tr>\n",
       "      <th>3</th>\n",
       "      <td>0.0</td>\n",
       "      <td>NaN</td>\n",
       "      <td>168</td>\n",
       "      <td>offer received</td>\n",
       "      <td>1</td>\n",
       "      <td>1</td>\n",
       "      <td>28</td>\n",
       "      <td>9b98b8c7a33c4b65b9aebfe6a799e6d9</td>\n",
       "      <td>c0d210398dee4a0895b24444a5fcd1d2</td>\n",
       "      <td>5.0</td>\n",
       "      <td>...</td>\n",
       "      <td>0</td>\n",
       "      <td>0.624671</td>\n",
       "      <td>5</td>\n",
       "      <td>1</td>\n",
       "      <td>1</td>\n",
       "      <td>0</td>\n",
       "      <td>1</td>\n",
       "      <td>1</td>\n",
       "      <td>0</td>\n",
       "      <td>0</td>\n",
       "    </tr>\n",
       "    <tr>\n",
       "      <th>4</th>\n",
       "      <td>0.0</td>\n",
       "      <td>NaN</td>\n",
       "      <td>168</td>\n",
       "      <td>offer received</td>\n",
       "      <td>1</td>\n",
       "      <td>0</td>\n",
       "      <td>30</td>\n",
       "      <td>9b98b8c7a33c4b65b9aebfe6a799e6d9</td>\n",
       "      <td>57dd18ec5ddc46828afb81ec5977bef2</td>\n",
       "      <td>0.0</td>\n",
       "      <td>...</td>\n",
       "      <td>0</td>\n",
       "      <td>17.556549</td>\n",
       "      <td>5</td>\n",
       "      <td>1</td>\n",
       "      <td>1</td>\n",
       "      <td>0</td>\n",
       "      <td>1</td>\n",
       "      <td>1</td>\n",
       "      <td>0</td>\n",
       "      <td>0</td>\n",
       "    </tr>\n",
       "    <tr>\n",
       "      <th>5</th>\n",
       "      <td>0.0</td>\n",
       "      <td>NaN</td>\n",
       "      <td>168</td>\n",
       "      <td>offer received</td>\n",
       "      <td>1</td>\n",
       "      <td>1</td>\n",
       "      <td>32</td>\n",
       "      <td>9b98b8c7a33c4b65b9aebfe6a799e6d9</td>\n",
       "      <td>a3b9b4bf115e4564933ea2e4bc936843</td>\n",
       "      <td>0.0</td>\n",
       "      <td>...</td>\n",
       "      <td>0</td>\n",
       "      <td>39.387165</td>\n",
       "      <td>5</td>\n",
       "      <td>1</td>\n",
       "      <td>1</td>\n",
       "      <td>0</td>\n",
       "      <td>1</td>\n",
       "      <td>1</td>\n",
       "      <td>0</td>\n",
       "      <td>0</td>\n",
       "    </tr>\n",
       "    <tr>\n",
       "      <th>6</th>\n",
       "      <td>0.0</td>\n",
       "      <td>NaN</td>\n",
       "      <td>168</td>\n",
       "      <td>offer received</td>\n",
       "      <td>1</td>\n",
       "      <td>1</td>\n",
       "      <td>38</td>\n",
       "      <td>9b98b8c7a33c4b65b9aebfe6a799e6d9</td>\n",
       "      <td>32fbf97e89274e8a935903f2ad095e1f</td>\n",
       "      <td>5.0</td>\n",
       "      <td>...</td>\n",
       "      <td>0</td>\n",
       "      <td>7.430300</td>\n",
       "      <td>5</td>\n",
       "      <td>1</td>\n",
       "      <td>1</td>\n",
       "      <td>0</td>\n",
       "      <td>1</td>\n",
       "      <td>1</td>\n",
       "      <td>0</td>\n",
       "      <td>0</td>\n",
       "    </tr>\n",
       "    <tr>\n",
       "      <th>7</th>\n",
       "      <td>0.0</td>\n",
       "      <td>NaN</td>\n",
       "      <td>168</td>\n",
       "      <td>offer received</td>\n",
       "      <td>1</td>\n",
       "      <td>0</td>\n",
       "      <td>81</td>\n",
       "      <td>9b98b8c7a33c4b65b9aebfe6a799e6d9</td>\n",
       "      <td>52f0bd64403f4958ab8fe9a6947c13c3</td>\n",
       "      <td>0.0</td>\n",
       "      <td>...</td>\n",
       "      <td>0</td>\n",
       "      <td>29.984219</td>\n",
       "      <td>5</td>\n",
       "      <td>1</td>\n",
       "      <td>1</td>\n",
       "      <td>0</td>\n",
       "      <td>1</td>\n",
       "      <td>1</td>\n",
       "      <td>0</td>\n",
       "      <td>0</td>\n",
       "    </tr>\n",
       "    <tr>\n",
       "      <th>8</th>\n",
       "      <td>0.0</td>\n",
       "      <td>NaN</td>\n",
       "      <td>168</td>\n",
       "      <td>offer received</td>\n",
       "      <td>1</td>\n",
       "      <td>0</td>\n",
       "      <td>85</td>\n",
       "      <td>9b98b8c7a33c4b65b9aebfe6a799e6d9</td>\n",
       "      <td>d41fa9b8c2e24a1d94caa890c53bbcf6</td>\n",
       "      <td>0.0</td>\n",
       "      <td>...</td>\n",
       "      <td>0</td>\n",
       "      <td>1.545239</td>\n",
       "      <td>5</td>\n",
       "      <td>1</td>\n",
       "      <td>1</td>\n",
       "      <td>0</td>\n",
       "      <td>1</td>\n",
       "      <td>1</td>\n",
       "      <td>0</td>\n",
       "      <td>0</td>\n",
       "    </tr>\n",
       "    <tr>\n",
       "      <th>10</th>\n",
       "      <td>0.0</td>\n",
       "      <td>NaN</td>\n",
       "      <td>168</td>\n",
       "      <td>offer received</td>\n",
       "      <td>1</td>\n",
       "      <td>0</td>\n",
       "      <td>110</td>\n",
       "      <td>9b98b8c7a33c4b65b9aebfe6a799e6d9</td>\n",
       "      <td>1827da57bb924833a6f73c79b5f2bbc5</td>\n",
       "      <td>0.0</td>\n",
       "      <td>...</td>\n",
       "      <td>0</td>\n",
       "      <td>1.808259</td>\n",
       "      <td>5</td>\n",
       "      <td>1</td>\n",
       "      <td>1</td>\n",
       "      <td>0</td>\n",
       "      <td>1</td>\n",
       "      <td>1</td>\n",
       "      <td>0</td>\n",
       "      <td>0</td>\n",
       "    </tr>\n",
       "    <tr>\n",
       "      <th>11</th>\n",
       "      <td>0.0</td>\n",
       "      <td>NaN</td>\n",
       "      <td>168</td>\n",
       "      <td>offer received</td>\n",
       "      <td>1</td>\n",
       "      <td>1</td>\n",
       "      <td>111</td>\n",
       "      <td>9b98b8c7a33c4b65b9aebfe6a799e6d9</td>\n",
       "      <td>721eb06ac285463aa6e1184e0ea9b7f0</td>\n",
       "      <td>0.0</td>\n",
       "      <td>...</td>\n",
       "      <td>0</td>\n",
       "      <td>14.071541</td>\n",
       "      <td>5</td>\n",
       "      <td>1</td>\n",
       "      <td>1</td>\n",
       "      <td>0</td>\n",
       "      <td>1</td>\n",
       "      <td>1</td>\n",
       "      <td>0</td>\n",
       "      <td>0</td>\n",
       "    </tr>\n",
       "    <tr>\n",
       "      <th>12</th>\n",
       "      <td>0.0</td>\n",
       "      <td>NaN</td>\n",
       "      <td>168</td>\n",
       "      <td>offer received</td>\n",
       "      <td>1</td>\n",
       "      <td>1</td>\n",
       "      <td>117</td>\n",
       "      <td>9b98b8c7a33c4b65b9aebfe6a799e6d9</td>\n",
       "      <td>4293153650e04742b310ac06cd3810e9</td>\n",
       "      <td>5.0</td>\n",
       "      <td>...</td>\n",
       "      <td>0</td>\n",
       "      <td>0.591794</td>\n",
       "      <td>5</td>\n",
       "      <td>1</td>\n",
       "      <td>1</td>\n",
       "      <td>0</td>\n",
       "      <td>1</td>\n",
       "      <td>1</td>\n",
       "      <td>0</td>\n",
       "      <td>0</td>\n",
       "    </tr>\n",
       "    <tr>\n",
       "      <th>13</th>\n",
       "      <td>0.0</td>\n",
       "      <td>NaN</td>\n",
       "      <td>168</td>\n",
       "      <td>offer received</td>\n",
       "      <td>1</td>\n",
       "      <td>1</td>\n",
       "      <td>125</td>\n",
       "      <td>9b98b8c7a33c4b65b9aebfe6a799e6d9</td>\n",
       "      <td>629fc02d56414d91bca360decdfa9288</td>\n",
       "      <td>5.0</td>\n",
       "      <td>...</td>\n",
       "      <td>0</td>\n",
       "      <td>1.676749</td>\n",
       "      <td>5</td>\n",
       "      <td>1</td>\n",
       "      <td>1</td>\n",
       "      <td>0</td>\n",
       "      <td>1</td>\n",
       "      <td>1</td>\n",
       "      <td>0</td>\n",
       "      <td>0</td>\n",
       "    </tr>\n",
       "    <tr>\n",
       "      <th>14</th>\n",
       "      <td>0.0</td>\n",
       "      <td>NaN</td>\n",
       "      <td>168</td>\n",
       "      <td>offer received</td>\n",
       "      <td>1</td>\n",
       "      <td>1</td>\n",
       "      <td>140</td>\n",
       "      <td>9b98b8c7a33c4b65b9aebfe6a799e6d9</td>\n",
       "      <td>4e4c47b460b1414c8ddd459b61f84b9e</td>\n",
       "      <td>5.0</td>\n",
       "      <td>...</td>\n",
       "      <td>0</td>\n",
       "      <td>7.430300</td>\n",
       "      <td>5</td>\n",
       "      <td>1</td>\n",
       "      <td>1</td>\n",
       "      <td>0</td>\n",
       "      <td>1</td>\n",
       "      <td>1</td>\n",
       "      <td>0</td>\n",
       "      <td>0</td>\n",
       "    </tr>\n",
       "    <tr>\n",
       "      <th>15</th>\n",
       "      <td>0.0</td>\n",
       "      <td>NaN</td>\n",
       "      <td>168</td>\n",
       "      <td>offer received</td>\n",
       "      <td>1</td>\n",
       "      <td>1</td>\n",
       "      <td>142</td>\n",
       "      <td>9b98b8c7a33c4b65b9aebfe6a799e6d9</td>\n",
       "      <td>d1a6fe4c241e4dbf8a4da6fd6c714ac5</td>\n",
       "      <td>5.0</td>\n",
       "      <td>...</td>\n",
       "      <td>0</td>\n",
       "      <td>27.682799</td>\n",
       "      <td>5</td>\n",
       "      <td>1</td>\n",
       "      <td>1</td>\n",
       "      <td>0</td>\n",
       "      <td>1</td>\n",
       "      <td>1</td>\n",
       "      <td>0</td>\n",
       "      <td>0</td>\n",
       "    </tr>\n",
       "    <tr>\n",
       "      <th>16</th>\n",
       "      <td>0.0</td>\n",
       "      <td>NaN</td>\n",
       "      <td>168</td>\n",
       "      <td>offer received</td>\n",
       "      <td>1</td>\n",
       "      <td>0</td>\n",
       "      <td>152</td>\n",
       "      <td>9b98b8c7a33c4b65b9aebfe6a799e6d9</td>\n",
       "      <td>bf2c086d4c4049289df1e0c8ea08f55c</td>\n",
       "      <td>5.0</td>\n",
       "      <td>...</td>\n",
       "      <td>0</td>\n",
       "      <td>2.564440</td>\n",
       "      <td>5</td>\n",
       "      <td>1</td>\n",
       "      <td>1</td>\n",
       "      <td>0</td>\n",
       "      <td>1</td>\n",
       "      <td>1</td>\n",
       "      <td>0</td>\n",
       "      <td>0</td>\n",
       "    </tr>\n",
       "    <tr>\n",
       "      <th>17</th>\n",
       "      <td>0.0</td>\n",
       "      <td>NaN</td>\n",
       "      <td>168</td>\n",
       "      <td>offer received</td>\n",
       "      <td>1</td>\n",
       "      <td>0</td>\n",
       "      <td>153</td>\n",
       "      <td>9b98b8c7a33c4b65b9aebfe6a799e6d9</td>\n",
       "      <td>5b9c1a35c0144b6ab584e666dec7c531</td>\n",
       "      <td>0.0</td>\n",
       "      <td>...</td>\n",
       "      <td>0</td>\n",
       "      <td>3.287743</td>\n",
       "      <td>5</td>\n",
       "      <td>1</td>\n",
       "      <td>1</td>\n",
       "      <td>0</td>\n",
       "      <td>1</td>\n",
       "      <td>1</td>\n",
       "      <td>0</td>\n",
       "      <td>0</td>\n",
       "    </tr>\n",
       "    <tr>\n",
       "      <th>18</th>\n",
       "      <td>0.0</td>\n",
       "      <td>NaN</td>\n",
       "      <td>168</td>\n",
       "      <td>offer received</td>\n",
       "      <td>1</td>\n",
       "      <td>1</td>\n",
       "      <td>175</td>\n",
       "      <td>9b98b8c7a33c4b65b9aebfe6a799e6d9</td>\n",
       "      <td>ad4fd34e9f7e4fd9ae627edd73ca2081</td>\n",
       "      <td>5.0</td>\n",
       "      <td>...</td>\n",
       "      <td>0</td>\n",
       "      <td>30.904787</td>\n",
       "      <td>5</td>\n",
       "      <td>1</td>\n",
       "      <td>1</td>\n",
       "      <td>0</td>\n",
       "      <td>1</td>\n",
       "      <td>1</td>\n",
       "      <td>0</td>\n",
       "      <td>0</td>\n",
       "    </tr>\n",
       "    <tr>\n",
       "      <th>20</th>\n",
       "      <td>0.0</td>\n",
       "      <td>NaN</td>\n",
       "      <td>168</td>\n",
       "      <td>offer received</td>\n",
       "      <td>1</td>\n",
       "      <td>1</td>\n",
       "      <td>192</td>\n",
       "      <td>9b98b8c7a33c4b65b9aebfe6a799e6d9</td>\n",
       "      <td>da6c95e567f94dfdb54c16073807fcfe</td>\n",
       "      <td>5.0</td>\n",
       "      <td>...</td>\n",
       "      <td>0</td>\n",
       "      <td>10.520779</td>\n",
       "      <td>5</td>\n",
       "      <td>1</td>\n",
       "      <td>1</td>\n",
       "      <td>0</td>\n",
       "      <td>1</td>\n",
       "      <td>1</td>\n",
       "      <td>0</td>\n",
       "      <td>0</td>\n",
       "    </tr>\n",
       "    <tr>\n",
       "      <th>21</th>\n",
       "      <td>0.0</td>\n",
       "      <td>NaN</td>\n",
       "      <td>168</td>\n",
       "      <td>offer received</td>\n",
       "      <td>1</td>\n",
       "      <td>1</td>\n",
       "      <td>195</td>\n",
       "      <td>9b98b8c7a33c4b65b9aebfe6a799e6d9</td>\n",
       "      <td>d0be9ff460964c3398a33ad9b2829f3a</td>\n",
       "      <td>5.0</td>\n",
       "      <td>...</td>\n",
       "      <td>1</td>\n",
       "      <td>5.260389</td>\n",
       "      <td>5</td>\n",
       "      <td>1</td>\n",
       "      <td>1</td>\n",
       "      <td>0</td>\n",
       "      <td>1</td>\n",
       "      <td>1</td>\n",
       "      <td>0</td>\n",
       "      <td>0</td>\n",
       "    </tr>\n",
       "    <tr>\n",
       "      <th>22</th>\n",
       "      <td>0.0</td>\n",
       "      <td>NaN</td>\n",
       "      <td>168</td>\n",
       "      <td>offer received</td>\n",
       "      <td>1</td>\n",
       "      <td>1</td>\n",
       "      <td>197</td>\n",
       "      <td>9b98b8c7a33c4b65b9aebfe6a799e6d9</td>\n",
       "      <td>c05652fa9d2c4fac9a010ea5a9310c86</td>\n",
       "      <td>5.0</td>\n",
       "      <td>...</td>\n",
       "      <td>0</td>\n",
       "      <td>5.917938</td>\n",
       "      <td>5</td>\n",
       "      <td>1</td>\n",
       "      <td>1</td>\n",
       "      <td>0</td>\n",
       "      <td>1</td>\n",
       "      <td>1</td>\n",
       "      <td>0</td>\n",
       "      <td>0</td>\n",
       "    </tr>\n",
       "    <tr>\n",
       "      <th>23</th>\n",
       "      <td>0.0</td>\n",
       "      <td>NaN</td>\n",
       "      <td>168</td>\n",
       "      <td>offer received</td>\n",
       "      <td>1</td>\n",
       "      <td>0</td>\n",
       "      <td>200</td>\n",
       "      <td>9b98b8c7a33c4b65b9aebfe6a799e6d9</td>\n",
       "      <td>b6905df3630b4137b077b6e1b4b21d75</td>\n",
       "      <td>0.0</td>\n",
       "      <td>...</td>\n",
       "      <td>0</td>\n",
       "      <td>16.899001</td>\n",
       "      <td>5</td>\n",
       "      <td>1</td>\n",
       "      <td>1</td>\n",
       "      <td>0</td>\n",
       "      <td>1</td>\n",
       "      <td>1</td>\n",
       "      <td>0</td>\n",
       "      <td>0</td>\n",
       "    </tr>\n",
       "    <tr>\n",
       "      <th>24</th>\n",
       "      <td>0.0</td>\n",
       "      <td>NaN</td>\n",
       "      <td>168</td>\n",
       "      <td>offer received</td>\n",
       "      <td>1</td>\n",
       "      <td>0</td>\n",
       "      <td>206</td>\n",
       "      <td>9b98b8c7a33c4b65b9aebfe6a799e6d9</td>\n",
       "      <td>393e6938e7eb46cb86bcb04f231efc0f</td>\n",
       "      <td>0.0</td>\n",
       "      <td>...</td>\n",
       "      <td>0</td>\n",
       "      <td>45.370857</td>\n",
       "      <td>5</td>\n",
       "      <td>1</td>\n",
       "      <td>1</td>\n",
       "      <td>0</td>\n",
       "      <td>1</td>\n",
       "      <td>1</td>\n",
       "      <td>0</td>\n",
       "      <td>0</td>\n",
       "    </tr>\n",
       "    <tr>\n",
       "      <th>25</th>\n",
       "      <td>0.0</td>\n",
       "      <td>NaN</td>\n",
       "      <td>168</td>\n",
       "      <td>offer received</td>\n",
       "      <td>1</td>\n",
       "      <td>0</td>\n",
       "      <td>230</td>\n",
       "      <td>9b98b8c7a33c4b65b9aebfe6a799e6d9</td>\n",
       "      <td>f8756fc0eea24e7ba3ccd846efc4d0d5</td>\n",
       "      <td>5.0</td>\n",
       "      <td>...</td>\n",
       "      <td>0</td>\n",
       "      <td>25.775907</td>\n",
       "      <td>5</td>\n",
       "      <td>1</td>\n",
       "      <td>1</td>\n",
       "      <td>0</td>\n",
       "      <td>1</td>\n",
       "      <td>1</td>\n",
       "      <td>0</td>\n",
       "      <td>0</td>\n",
       "    </tr>\n",
       "    <tr>\n",
       "      <th>26</th>\n",
       "      <td>0.0</td>\n",
       "      <td>NaN</td>\n",
       "      <td>168</td>\n",
       "      <td>offer received</td>\n",
       "      <td>1</td>\n",
       "      <td>0</td>\n",
       "      <td>242</td>\n",
       "      <td>9b98b8c7a33c4b65b9aebfe6a799e6d9</td>\n",
       "      <td>ca900921cfdd4b11a432df6f46a3e26d</td>\n",
       "      <td>0.0</td>\n",
       "      <td>...</td>\n",
       "      <td>0</td>\n",
       "      <td>5.424776</td>\n",
       "      <td>5</td>\n",
       "      <td>1</td>\n",
       "      <td>1</td>\n",
       "      <td>0</td>\n",
       "      <td>1</td>\n",
       "      <td>1</td>\n",
       "      <td>0</td>\n",
       "      <td>0</td>\n",
       "    </tr>\n",
       "    <tr>\n",
       "      <th>27</th>\n",
       "      <td>0.0</td>\n",
       "      <td>NaN</td>\n",
       "      <td>168</td>\n",
       "      <td>offer received</td>\n",
       "      <td>1</td>\n",
       "      <td>0</td>\n",
       "      <td>250</td>\n",
       "      <td>9b98b8c7a33c4b65b9aebfe6a799e6d9</td>\n",
       "      <td>c0f9e4bb1f3a4d30a34f5a835b2c97ea</td>\n",
       "      <td>5.0</td>\n",
       "      <td>...</td>\n",
       "      <td>0</td>\n",
       "      <td>34.652814</td>\n",
       "      <td>5</td>\n",
       "      <td>1</td>\n",
       "      <td>1</td>\n",
       "      <td>0</td>\n",
       "      <td>1</td>\n",
       "      <td>1</td>\n",
       "      <td>0</td>\n",
       "      <td>0</td>\n",
       "    </tr>\n",
       "    <tr>\n",
       "      <th>28</th>\n",
       "      <td>0.0</td>\n",
       "      <td>NaN</td>\n",
       "      <td>168</td>\n",
       "      <td>offer received</td>\n",
       "      <td>1</td>\n",
       "      <td>1</td>\n",
       "      <td>282</td>\n",
       "      <td>9b98b8c7a33c4b65b9aebfe6a799e6d9</td>\n",
       "      <td>c36c95e9e3e64a48be96977a82f8a753</td>\n",
       "      <td>0.0</td>\n",
       "      <td>...</td>\n",
       "      <td>0</td>\n",
       "      <td>9.896107</td>\n",
       "      <td>5</td>\n",
       "      <td>1</td>\n",
       "      <td>1</td>\n",
       "      <td>0</td>\n",
       "      <td>1</td>\n",
       "      <td>1</td>\n",
       "      <td>0</td>\n",
       "      <td>0</td>\n",
       "    </tr>\n",
       "    <tr>\n",
       "      <th>29</th>\n",
       "      <td>0.0</td>\n",
       "      <td>NaN</td>\n",
       "      <td>168</td>\n",
       "      <td>offer received</td>\n",
       "      <td>1</td>\n",
       "      <td>0</td>\n",
       "      <td>288</td>\n",
       "      <td>9b98b8c7a33c4b65b9aebfe6a799e6d9</td>\n",
       "      <td>611846bccd6b4c35ba48ed6b165b2c2d</td>\n",
       "      <td>5.0</td>\n",
       "      <td>...</td>\n",
       "      <td>0</td>\n",
       "      <td>25.381378</td>\n",
       "      <td>5</td>\n",
       "      <td>1</td>\n",
       "      <td>1</td>\n",
       "      <td>0</td>\n",
       "      <td>1</td>\n",
       "      <td>1</td>\n",
       "      <td>0</td>\n",
       "      <td>0</td>\n",
       "    </tr>\n",
       "    <tr>\n",
       "      <th>30</th>\n",
       "      <td>0.0</td>\n",
       "      <td>NaN</td>\n",
       "      <td>168</td>\n",
       "      <td>offer received</td>\n",
       "      <td>1</td>\n",
       "      <td>0</td>\n",
       "      <td>290</td>\n",
       "      <td>9b98b8c7a33c4b65b9aebfe6a799e6d9</td>\n",
       "      <td>e262142cfb3f4c87ab26ba7dd09562aa</td>\n",
       "      <td>0.0</td>\n",
       "      <td>...</td>\n",
       "      <td>0</td>\n",
       "      <td>9.698843</td>\n",
       "      <td>5</td>\n",
       "      <td>1</td>\n",
       "      <td>1</td>\n",
       "      <td>0</td>\n",
       "      <td>1</td>\n",
       "      <td>1</td>\n",
       "      <td>0</td>\n",
       "      <td>0</td>\n",
       "    </tr>\n",
       "    <tr>\n",
       "      <th>31</th>\n",
       "      <td>0.0</td>\n",
       "      <td>NaN</td>\n",
       "      <td>168</td>\n",
       "      <td>offer received</td>\n",
       "      <td>1</td>\n",
       "      <td>1</td>\n",
       "      <td>292</td>\n",
       "      <td>9b98b8c7a33c4b65b9aebfe6a799e6d9</td>\n",
       "      <td>fae5f722dce445c1ae311729464943cf</td>\n",
       "      <td>0.0</td>\n",
       "      <td>...</td>\n",
       "      <td>0</td>\n",
       "      <td>10.455024</td>\n",
       "      <td>5</td>\n",
       "      <td>1</td>\n",
       "      <td>1</td>\n",
       "      <td>0</td>\n",
       "      <td>1</td>\n",
       "      <td>1</td>\n",
       "      <td>0</td>\n",
       "      <td>0</td>\n",
       "    </tr>\n",
       "    <tr>\n",
       "      <th>...</th>\n",
       "      <td>...</td>\n",
       "      <td>...</td>\n",
       "      <td>...</td>\n",
       "      <td>...</td>\n",
       "      <td>...</td>\n",
       "      <td>...</td>\n",
       "      <td>...</td>\n",
       "      <td>...</td>\n",
       "      <td>...</td>\n",
       "      <td>...</td>\n",
       "      <td>...</td>\n",
       "      <td>...</td>\n",
       "      <td>...</td>\n",
       "      <td>...</td>\n",
       "      <td>...</td>\n",
       "      <td>...</td>\n",
       "      <td>...</td>\n",
       "      <td>...</td>\n",
       "      <td>...</td>\n",
       "      <td>...</td>\n",
       "      <td>...</td>\n",
       "    </tr>\n",
       "    <tr>\n",
       "      <th>76241</th>\n",
       "      <td>1.0</td>\n",
       "      <td>NaN</td>\n",
       "      <td>72</td>\n",
       "      <td>offer received</td>\n",
       "      <td>1</td>\n",
       "      <td>1</td>\n",
       "      <td>257539</td>\n",
       "      <td>5a8bc65990b245e5a138643cd4eb9837</td>\n",
       "      <td>4f1676b2b52549fb9ffd6c9980437df9</td>\n",
       "      <td>0.0</td>\n",
       "      <td>...</td>\n",
       "      <td>0</td>\n",
       "      <td>29.129406</td>\n",
       "      <td>0</td>\n",
       "      <td>1</td>\n",
       "      <td>1</td>\n",
       "      <td>1</td>\n",
       "      <td>0</td>\n",
       "      <td>0</td>\n",
       "      <td>0</td>\n",
       "      <td>1</td>\n",
       "    </tr>\n",
       "    <tr>\n",
       "      <th>76242</th>\n",
       "      <td>1.0</td>\n",
       "      <td>NaN</td>\n",
       "      <td>72</td>\n",
       "      <td>offer received</td>\n",
       "      <td>1</td>\n",
       "      <td>1</td>\n",
       "      <td>257541</td>\n",
       "      <td>5a8bc65990b245e5a138643cd4eb9837</td>\n",
       "      <td>8aadb3b013e84e0fa3c3aad6f8e372a2</td>\n",
       "      <td>0.0</td>\n",
       "      <td>...</td>\n",
       "      <td>0</td>\n",
       "      <td>0.591794</td>\n",
       "      <td>0</td>\n",
       "      <td>1</td>\n",
       "      <td>1</td>\n",
       "      <td>1</td>\n",
       "      <td>0</td>\n",
       "      <td>0</td>\n",
       "      <td>0</td>\n",
       "      <td>1</td>\n",
       "    </tr>\n",
       "    <tr>\n",
       "      <th>76243</th>\n",
       "      <td>1.0</td>\n",
       "      <td>NaN</td>\n",
       "      <td>72</td>\n",
       "      <td>offer received</td>\n",
       "      <td>1</td>\n",
       "      <td>1</td>\n",
       "      <td>257550</td>\n",
       "      <td>5a8bc65990b245e5a138643cd4eb9837</td>\n",
       "      <td>d178bcf02f2640d0abfd6a720d8619ca</td>\n",
       "      <td>0.0</td>\n",
       "      <td>...</td>\n",
       "      <td>0</td>\n",
       "      <td>2.400053</td>\n",
       "      <td>0</td>\n",
       "      <td>1</td>\n",
       "      <td>1</td>\n",
       "      <td>1</td>\n",
       "      <td>0</td>\n",
       "      <td>0</td>\n",
       "      <td>0</td>\n",
       "      <td>1</td>\n",
       "    </tr>\n",
       "    <tr>\n",
       "      <th>76245</th>\n",
       "      <td>1.0</td>\n",
       "      <td>NaN</td>\n",
       "      <td>72</td>\n",
       "      <td>offer received</td>\n",
       "      <td>1</td>\n",
       "      <td>1</td>\n",
       "      <td>257568</td>\n",
       "      <td>5a8bc65990b245e5a138643cd4eb9837</td>\n",
       "      <td>62f82083cfb64929bfb7e6d91bd178e3</td>\n",
       "      <td>0.0</td>\n",
       "      <td>...</td>\n",
       "      <td>0</td>\n",
       "      <td>59.278012</td>\n",
       "      <td>0</td>\n",
       "      <td>1</td>\n",
       "      <td>1</td>\n",
       "      <td>1</td>\n",
       "      <td>0</td>\n",
       "      <td>0</td>\n",
       "      <td>0</td>\n",
       "      <td>1</td>\n",
       "    </tr>\n",
       "    <tr>\n",
       "      <th>76246</th>\n",
       "      <td>1.0</td>\n",
       "      <td>NaN</td>\n",
       "      <td>72</td>\n",
       "      <td>offer received</td>\n",
       "      <td>1</td>\n",
       "      <td>1</td>\n",
       "      <td>257583</td>\n",
       "      <td>5a8bc65990b245e5a138643cd4eb9837</td>\n",
       "      <td>d4f6205a98b4420082aae16e5a93655a</td>\n",
       "      <td>0.0</td>\n",
       "      <td>...</td>\n",
       "      <td>0</td>\n",
       "      <td>9.107049</td>\n",
       "      <td>0</td>\n",
       "      <td>1</td>\n",
       "      <td>1</td>\n",
       "      <td>1</td>\n",
       "      <td>0</td>\n",
       "      <td>0</td>\n",
       "      <td>0</td>\n",
       "      <td>1</td>\n",
       "    </tr>\n",
       "    <tr>\n",
       "      <th>76247</th>\n",
       "      <td>1.0</td>\n",
       "      <td>NaN</td>\n",
       "      <td>72</td>\n",
       "      <td>offer received</td>\n",
       "      <td>1</td>\n",
       "      <td>1</td>\n",
       "      <td>257592</td>\n",
       "      <td>5a8bc65990b245e5a138643cd4eb9837</td>\n",
       "      <td>4e5a3992df3949ec8e5b2577496c2570</td>\n",
       "      <td>0.0</td>\n",
       "      <td>...</td>\n",
       "      <td>0</td>\n",
       "      <td>17.129143</td>\n",
       "      <td>0</td>\n",
       "      <td>1</td>\n",
       "      <td>1</td>\n",
       "      <td>1</td>\n",
       "      <td>0</td>\n",
       "      <td>0</td>\n",
       "      <td>0</td>\n",
       "      <td>1</td>\n",
       "    </tr>\n",
       "    <tr>\n",
       "      <th>76248</th>\n",
       "      <td>1.0</td>\n",
       "      <td>NaN</td>\n",
       "      <td>72</td>\n",
       "      <td>offer received</td>\n",
       "      <td>1</td>\n",
       "      <td>1</td>\n",
       "      <td>257595</td>\n",
       "      <td>5a8bc65990b245e5a138643cd4eb9837</td>\n",
       "      <td>c4420b743fd94715a262e01e151d875a</td>\n",
       "      <td>0.0</td>\n",
       "      <td>...</td>\n",
       "      <td>0</td>\n",
       "      <td>6.674119</td>\n",
       "      <td>0</td>\n",
       "      <td>1</td>\n",
       "      <td>1</td>\n",
       "      <td>1</td>\n",
       "      <td>0</td>\n",
       "      <td>0</td>\n",
       "      <td>0</td>\n",
       "      <td>1</td>\n",
       "    </tr>\n",
       "    <tr>\n",
       "      <th>76249</th>\n",
       "      <td>1.0</td>\n",
       "      <td>NaN</td>\n",
       "      <td>72</td>\n",
       "      <td>offer received</td>\n",
       "      <td>1</td>\n",
       "      <td>1</td>\n",
       "      <td>257602</td>\n",
       "      <td>5a8bc65990b245e5a138643cd4eb9837</td>\n",
       "      <td>6bbd651cf5cb4fb0b4f523bec77c83f9</td>\n",
       "      <td>0.0</td>\n",
       "      <td>...</td>\n",
       "      <td>0</td>\n",
       "      <td>31.693845</td>\n",
       "      <td>0</td>\n",
       "      <td>1</td>\n",
       "      <td>1</td>\n",
       "      <td>1</td>\n",
       "      <td>0</td>\n",
       "      <td>0</td>\n",
       "      <td>0</td>\n",
       "      <td>1</td>\n",
       "    </tr>\n",
       "    <tr>\n",
       "      <th>76250</th>\n",
       "      <td>1.0</td>\n",
       "      <td>NaN</td>\n",
       "      <td>72</td>\n",
       "      <td>offer received</td>\n",
       "      <td>1</td>\n",
       "      <td>1</td>\n",
       "      <td>257604</td>\n",
       "      <td>5a8bc65990b245e5a138643cd4eb9837</td>\n",
       "      <td>ad4bd40eb770470a846b9569742c0b00</td>\n",
       "      <td>0.0</td>\n",
       "      <td>...</td>\n",
       "      <td>0</td>\n",
       "      <td>6.082325</td>\n",
       "      <td>0</td>\n",
       "      <td>1</td>\n",
       "      <td>1</td>\n",
       "      <td>1</td>\n",
       "      <td>0</td>\n",
       "      <td>0</td>\n",
       "      <td>0</td>\n",
       "      <td>1</td>\n",
       "    </tr>\n",
       "    <tr>\n",
       "      <th>76251</th>\n",
       "      <td>1.0</td>\n",
       "      <td>NaN</td>\n",
       "      <td>72</td>\n",
       "      <td>offer received</td>\n",
       "      <td>1</td>\n",
       "      <td>1</td>\n",
       "      <td>257605</td>\n",
       "      <td>5a8bc65990b245e5a138643cd4eb9837</td>\n",
       "      <td>05298f5390c7417c8dbbcbef9f081800</td>\n",
       "      <td>0.0</td>\n",
       "      <td>...</td>\n",
       "      <td>0</td>\n",
       "      <td>14.860600</td>\n",
       "      <td>0</td>\n",
       "      <td>1</td>\n",
       "      <td>1</td>\n",
       "      <td>1</td>\n",
       "      <td>0</td>\n",
       "      <td>0</td>\n",
       "      <td>0</td>\n",
       "      <td>1</td>\n",
       "    </tr>\n",
       "    <tr>\n",
       "      <th>76252</th>\n",
       "      <td>1.0</td>\n",
       "      <td>NaN</td>\n",
       "      <td>72</td>\n",
       "      <td>offer received</td>\n",
       "      <td>1</td>\n",
       "      <td>1</td>\n",
       "      <td>257610</td>\n",
       "      <td>5a8bc65990b245e5a138643cd4eb9837</td>\n",
       "      <td>2f76a037321141649bffd73c5f661b88</td>\n",
       "      <td>0.0</td>\n",
       "      <td>...</td>\n",
       "      <td>0</td>\n",
       "      <td>27.156760</td>\n",
       "      <td>0</td>\n",
       "      <td>1</td>\n",
       "      <td>1</td>\n",
       "      <td>1</td>\n",
       "      <td>0</td>\n",
       "      <td>0</td>\n",
       "      <td>0</td>\n",
       "      <td>1</td>\n",
       "    </tr>\n",
       "    <tr>\n",
       "      <th>76253</th>\n",
       "      <td>1.0</td>\n",
       "      <td>NaN</td>\n",
       "      <td>72</td>\n",
       "      <td>offer received</td>\n",
       "      <td>1</td>\n",
       "      <td>1</td>\n",
       "      <td>257614</td>\n",
       "      <td>5a8bc65990b245e5a138643cd4eb9837</td>\n",
       "      <td>2548f467373b4f4cb328308a90974718</td>\n",
       "      <td>0.0</td>\n",
       "      <td>...</td>\n",
       "      <td>0</td>\n",
       "      <td>11.967386</td>\n",
       "      <td>0</td>\n",
       "      <td>1</td>\n",
       "      <td>1</td>\n",
       "      <td>1</td>\n",
       "      <td>0</td>\n",
       "      <td>0</td>\n",
       "      <td>0</td>\n",
       "      <td>1</td>\n",
       "    </tr>\n",
       "    <tr>\n",
       "      <th>76254</th>\n",
       "      <td>1.0</td>\n",
       "      <td>NaN</td>\n",
       "      <td>72</td>\n",
       "      <td>offer received</td>\n",
       "      <td>1</td>\n",
       "      <td>0</td>\n",
       "      <td>257622</td>\n",
       "      <td>5a8bc65990b245e5a138643cd4eb9837</td>\n",
       "      <td>bd3714abf1654f58939f379f88378882</td>\n",
       "      <td>0.0</td>\n",
       "      <td>...</td>\n",
       "      <td>0</td>\n",
       "      <td>2.728827</td>\n",
       "      <td>0</td>\n",
       "      <td>1</td>\n",
       "      <td>1</td>\n",
       "      <td>1</td>\n",
       "      <td>0</td>\n",
       "      <td>0</td>\n",
       "      <td>0</td>\n",
       "      <td>1</td>\n",
       "    </tr>\n",
       "    <tr>\n",
       "      <th>76256</th>\n",
       "      <td>1.0</td>\n",
       "      <td>NaN</td>\n",
       "      <td>72</td>\n",
       "      <td>offer received</td>\n",
       "      <td>1</td>\n",
       "      <td>1</td>\n",
       "      <td>257635</td>\n",
       "      <td>5a8bc65990b245e5a138643cd4eb9837</td>\n",
       "      <td>488847b396ed4cbbbfbc31d93bfcf33c</td>\n",
       "      <td>0.0</td>\n",
       "      <td>...</td>\n",
       "      <td>0</td>\n",
       "      <td>30.806155</td>\n",
       "      <td>0</td>\n",
       "      <td>1</td>\n",
       "      <td>1</td>\n",
       "      <td>1</td>\n",
       "      <td>0</td>\n",
       "      <td>0</td>\n",
       "      <td>0</td>\n",
       "      <td>1</td>\n",
       "    </tr>\n",
       "    <tr>\n",
       "      <th>76257</th>\n",
       "      <td>1.0</td>\n",
       "      <td>NaN</td>\n",
       "      <td>72</td>\n",
       "      <td>offer received</td>\n",
       "      <td>1</td>\n",
       "      <td>1</td>\n",
       "      <td>257637</td>\n",
       "      <td>5a8bc65990b245e5a138643cd4eb9837</td>\n",
       "      <td>f6e6b0f97b004170b65794fdf80294db</td>\n",
       "      <td>0.0</td>\n",
       "      <td>...</td>\n",
       "      <td>0</td>\n",
       "      <td>31.660968</td>\n",
       "      <td>0</td>\n",
       "      <td>1</td>\n",
       "      <td>1</td>\n",
       "      <td>1</td>\n",
       "      <td>0</td>\n",
       "      <td>0</td>\n",
       "      <td>0</td>\n",
       "      <td>1</td>\n",
       "    </tr>\n",
       "    <tr>\n",
       "      <th>76258</th>\n",
       "      <td>1.0</td>\n",
       "      <td>NaN</td>\n",
       "      <td>72</td>\n",
       "      <td>offer received</td>\n",
       "      <td>1</td>\n",
       "      <td>1</td>\n",
       "      <td>257657</td>\n",
       "      <td>5a8bc65990b245e5a138643cd4eb9837</td>\n",
       "      <td>ff138957836849ccadfb5b232a3dc1b4</td>\n",
       "      <td>0.0</td>\n",
       "      <td>...</td>\n",
       "      <td>0</td>\n",
       "      <td>24.395055</td>\n",
       "      <td>0</td>\n",
       "      <td>1</td>\n",
       "      <td>1</td>\n",
       "      <td>1</td>\n",
       "      <td>0</td>\n",
       "      <td>0</td>\n",
       "      <td>0</td>\n",
       "      <td>1</td>\n",
       "    </tr>\n",
       "    <tr>\n",
       "      <th>76260</th>\n",
       "      <td>1.0</td>\n",
       "      <td>NaN</td>\n",
       "      <td>72</td>\n",
       "      <td>offer received</td>\n",
       "      <td>1</td>\n",
       "      <td>1</td>\n",
       "      <td>257689</td>\n",
       "      <td>5a8bc65990b245e5a138643cd4eb9837</td>\n",
       "      <td>0a3a378dedac4d5f80aa616e5c8007b3</td>\n",
       "      <td>0.0</td>\n",
       "      <td>...</td>\n",
       "      <td>0</td>\n",
       "      <td>11.112572</td>\n",
       "      <td>0</td>\n",
       "      <td>1</td>\n",
       "      <td>1</td>\n",
       "      <td>1</td>\n",
       "      <td>0</td>\n",
       "      <td>0</td>\n",
       "      <td>0</td>\n",
       "      <td>1</td>\n",
       "    </tr>\n",
       "    <tr>\n",
       "      <th>76261</th>\n",
       "      <td>1.0</td>\n",
       "      <td>NaN</td>\n",
       "      <td>72</td>\n",
       "      <td>offer received</td>\n",
       "      <td>1</td>\n",
       "      <td>1</td>\n",
       "      <td>257693</td>\n",
       "      <td>5a8bc65990b245e5a138643cd4eb9837</td>\n",
       "      <td>ef91d76655d349d68dd6f64d966ee5ed</td>\n",
       "      <td>0.0</td>\n",
       "      <td>...</td>\n",
       "      <td>0</td>\n",
       "      <td>3.748027</td>\n",
       "      <td>0</td>\n",
       "      <td>1</td>\n",
       "      <td>1</td>\n",
       "      <td>1</td>\n",
       "      <td>0</td>\n",
       "      <td>0</td>\n",
       "      <td>0</td>\n",
       "      <td>1</td>\n",
       "    </tr>\n",
       "    <tr>\n",
       "      <th>76262</th>\n",
       "      <td>1.0</td>\n",
       "      <td>NaN</td>\n",
       "      <td>72</td>\n",
       "      <td>offer received</td>\n",
       "      <td>1</td>\n",
       "      <td>1</td>\n",
       "      <td>257705</td>\n",
       "      <td>5a8bc65990b245e5a138643cd4eb9837</td>\n",
       "      <td>4ef68b2af4dd4e088bacf5b790bffd6f</td>\n",
       "      <td>0.0</td>\n",
       "      <td>...</td>\n",
       "      <td>0</td>\n",
       "      <td>7.364545</td>\n",
       "      <td>0</td>\n",
       "      <td>1</td>\n",
       "      <td>1</td>\n",
       "      <td>1</td>\n",
       "      <td>0</td>\n",
       "      <td>0</td>\n",
       "      <td>0</td>\n",
       "      <td>1</td>\n",
       "    </tr>\n",
       "    <tr>\n",
       "      <th>76263</th>\n",
       "      <td>1.0</td>\n",
       "      <td>NaN</td>\n",
       "      <td>72</td>\n",
       "      <td>offer received</td>\n",
       "      <td>1</td>\n",
       "      <td>1</td>\n",
       "      <td>257730</td>\n",
       "      <td>5a8bc65990b245e5a138643cd4eb9837</td>\n",
       "      <td>36e719e6fc9f4d01a2d96f27f7ae0b8a</td>\n",
       "      <td>0.0</td>\n",
       "      <td>...</td>\n",
       "      <td>0</td>\n",
       "      <td>21.403209</td>\n",
       "      <td>0</td>\n",
       "      <td>1</td>\n",
       "      <td>1</td>\n",
       "      <td>1</td>\n",
       "      <td>0</td>\n",
       "      <td>0</td>\n",
       "      <td>0</td>\n",
       "      <td>1</td>\n",
       "    </tr>\n",
       "    <tr>\n",
       "      <th>76265</th>\n",
       "      <td>1.0</td>\n",
       "      <td>NaN</td>\n",
       "      <td>72</td>\n",
       "      <td>offer received</td>\n",
       "      <td>1</td>\n",
       "      <td>1</td>\n",
       "      <td>257752</td>\n",
       "      <td>5a8bc65990b245e5a138643cd4eb9837</td>\n",
       "      <td>7fc83dab9a6844ca82aca3f72e2e9c43</td>\n",
       "      <td>0.0</td>\n",
       "      <td>...</td>\n",
       "      <td>0</td>\n",
       "      <td>4.602841</td>\n",
       "      <td>0</td>\n",
       "      <td>1</td>\n",
       "      <td>1</td>\n",
       "      <td>1</td>\n",
       "      <td>0</td>\n",
       "      <td>0</td>\n",
       "      <td>0</td>\n",
       "      <td>1</td>\n",
       "    </tr>\n",
       "    <tr>\n",
       "      <th>76266</th>\n",
       "      <td>1.0</td>\n",
       "      <td>NaN</td>\n",
       "      <td>72</td>\n",
       "      <td>offer received</td>\n",
       "      <td>1</td>\n",
       "      <td>0</td>\n",
       "      <td>257754</td>\n",
       "      <td>5a8bc65990b245e5a138643cd4eb9837</td>\n",
       "      <td>19ca1205d83f46e0bd2a44d5e3813e02</td>\n",
       "      <td>0.0</td>\n",
       "      <td>...</td>\n",
       "      <td>0</td>\n",
       "      <td>31.595213</td>\n",
       "      <td>0</td>\n",
       "      <td>1</td>\n",
       "      <td>1</td>\n",
       "      <td>1</td>\n",
       "      <td>0</td>\n",
       "      <td>0</td>\n",
       "      <td>0</td>\n",
       "      <td>1</td>\n",
       "    </tr>\n",
       "    <tr>\n",
       "      <th>76268</th>\n",
       "      <td>1.0</td>\n",
       "      <td>NaN</td>\n",
       "      <td>72</td>\n",
       "      <td>offer received</td>\n",
       "      <td>1</td>\n",
       "      <td>0</td>\n",
       "      <td>257765</td>\n",
       "      <td>5a8bc65990b245e5a138643cd4eb9837</td>\n",
       "      <td>174fee0b94e54cc3b1904965d2fb1209</td>\n",
       "      <td>0.0</td>\n",
       "      <td>...</td>\n",
       "      <td>0</td>\n",
       "      <td>7.397422</td>\n",
       "      <td>0</td>\n",
       "      <td>1</td>\n",
       "      <td>1</td>\n",
       "      <td>1</td>\n",
       "      <td>0</td>\n",
       "      <td>0</td>\n",
       "      <td>0</td>\n",
       "      <td>1</td>\n",
       "    </tr>\n",
       "    <tr>\n",
       "      <th>76269</th>\n",
       "      <td>1.0</td>\n",
       "      <td>NaN</td>\n",
       "      <td>72</td>\n",
       "      <td>offer received</td>\n",
       "      <td>1</td>\n",
       "      <td>1</td>\n",
       "      <td>257799</td>\n",
       "      <td>5a8bc65990b245e5a138643cd4eb9837</td>\n",
       "      <td>b78ca0a03dc34894be476f581c610e84</td>\n",
       "      <td>0.0</td>\n",
       "      <td>...</td>\n",
       "      <td>0</td>\n",
       "      <td>29.260915</td>\n",
       "      <td>0</td>\n",
       "      <td>1</td>\n",
       "      <td>1</td>\n",
       "      <td>1</td>\n",
       "      <td>0</td>\n",
       "      <td>0</td>\n",
       "      <td>0</td>\n",
       "      <td>1</td>\n",
       "    </tr>\n",
       "    <tr>\n",
       "      <th>76270</th>\n",
       "      <td>1.0</td>\n",
       "      <td>NaN</td>\n",
       "      <td>72</td>\n",
       "      <td>offer received</td>\n",
       "      <td>1</td>\n",
       "      <td>0</td>\n",
       "      <td>257811</td>\n",
       "      <td>5a8bc65990b245e5a138643cd4eb9837</td>\n",
       "      <td>c382ccba648a45b0bb55f3465df838aa</td>\n",
       "      <td>0.0</td>\n",
       "      <td>...</td>\n",
       "      <td>0</td>\n",
       "      <td>9.994740</td>\n",
       "      <td>0</td>\n",
       "      <td>1</td>\n",
       "      <td>1</td>\n",
       "      <td>1</td>\n",
       "      <td>0</td>\n",
       "      <td>0</td>\n",
       "      <td>0</td>\n",
       "      <td>1</td>\n",
       "    </tr>\n",
       "    <tr>\n",
       "      <th>76271</th>\n",
       "      <td>1.0</td>\n",
       "      <td>NaN</td>\n",
       "      <td>72</td>\n",
       "      <td>offer received</td>\n",
       "      <td>1</td>\n",
       "      <td>1</td>\n",
       "      <td>257835</td>\n",
       "      <td>5a8bc65990b245e5a138643cd4eb9837</td>\n",
       "      <td>91a5f86f02964fa5b6a41b531547815d</td>\n",
       "      <td>0.0</td>\n",
       "      <td>...</td>\n",
       "      <td>0</td>\n",
       "      <td>28.438979</td>\n",
       "      <td>0</td>\n",
       "      <td>1</td>\n",
       "      <td>1</td>\n",
       "      <td>1</td>\n",
       "      <td>0</td>\n",
       "      <td>0</td>\n",
       "      <td>0</td>\n",
       "      <td>1</td>\n",
       "    </tr>\n",
       "    <tr>\n",
       "      <th>76272</th>\n",
       "      <td>1.0</td>\n",
       "      <td>NaN</td>\n",
       "      <td>72</td>\n",
       "      <td>offer received</td>\n",
       "      <td>1</td>\n",
       "      <td>0</td>\n",
       "      <td>257845</td>\n",
       "      <td>5a8bc65990b245e5a138643cd4eb9837</td>\n",
       "      <td>daad151d84664dd6a4809ab8f05af690</td>\n",
       "      <td>0.0</td>\n",
       "      <td>...</td>\n",
       "      <td>0</td>\n",
       "      <td>23.967649</td>\n",
       "      <td>0</td>\n",
       "      <td>1</td>\n",
       "      <td>1</td>\n",
       "      <td>1</td>\n",
       "      <td>0</td>\n",
       "      <td>0</td>\n",
       "      <td>0</td>\n",
       "      <td>1</td>\n",
       "    </tr>\n",
       "    <tr>\n",
       "      <th>76273</th>\n",
       "      <td>1.0</td>\n",
       "      <td>NaN</td>\n",
       "      <td>72</td>\n",
       "      <td>offer received</td>\n",
       "      <td>1</td>\n",
       "      <td>1</td>\n",
       "      <td>257849</td>\n",
       "      <td>5a8bc65990b245e5a138643cd4eb9837</td>\n",
       "      <td>1c35792f115f4d06b138a63edf84ee4d</td>\n",
       "      <td>0.0</td>\n",
       "      <td>...</td>\n",
       "      <td>0</td>\n",
       "      <td>15.024987</td>\n",
       "      <td>0</td>\n",
       "      <td>1</td>\n",
       "      <td>1</td>\n",
       "      <td>1</td>\n",
       "      <td>0</td>\n",
       "      <td>0</td>\n",
       "      <td>0</td>\n",
       "      <td>1</td>\n",
       "    </tr>\n",
       "    <tr>\n",
       "      <th>76275</th>\n",
       "      <td>1.0</td>\n",
       "      <td>NaN</td>\n",
       "      <td>72</td>\n",
       "      <td>offer received</td>\n",
       "      <td>1</td>\n",
       "      <td>1</td>\n",
       "      <td>257880</td>\n",
       "      <td>5a8bc65990b245e5a138643cd4eb9837</td>\n",
       "      <td>f924927e7f844ecebf87eef93f4d2688</td>\n",
       "      <td>0.0</td>\n",
       "      <td>...</td>\n",
       "      <td>0</td>\n",
       "      <td>25.907417</td>\n",
       "      <td>0</td>\n",
       "      <td>1</td>\n",
       "      <td>1</td>\n",
       "      <td>1</td>\n",
       "      <td>0</td>\n",
       "      <td>0</td>\n",
       "      <td>0</td>\n",
       "      <td>1</td>\n",
       "    </tr>\n",
       "    <tr>\n",
       "      <th>76276</th>\n",
       "      <td>1.0</td>\n",
       "      <td>NaN</td>\n",
       "      <td>72</td>\n",
       "      <td>offer received</td>\n",
       "      <td>1</td>\n",
       "      <td>1</td>\n",
       "      <td>257881</td>\n",
       "      <td>5a8bc65990b245e5a138643cd4eb9837</td>\n",
       "      <td>a57890c3bbb7463e9018abb7fecadb15</td>\n",
       "      <td>0.0</td>\n",
       "      <td>...</td>\n",
       "      <td>0</td>\n",
       "      <td>6.476854</td>\n",
       "      <td>0</td>\n",
       "      <td>1</td>\n",
       "      <td>1</td>\n",
       "      <td>1</td>\n",
       "      <td>0</td>\n",
       "      <td>0</td>\n",
       "      <td>0</td>\n",
       "      <td>1</td>\n",
       "    </tr>\n",
       "  </tbody>\n",
       "</table>\n",
       "<p>66501 rows × 26 columns</p>\n",
       "</div>"
      ],
      "text/plain": [
       "       t_std  amount  duration           event  event_offer_received  \\\n",
       "0        0.0     NaN       168  offer received                     1   \n",
       "1        0.0     NaN       168  offer received                     1   \n",
       "2        0.0     NaN       168  offer received                     1   \n",
       "3        0.0     NaN       168  offer received                     1   \n",
       "4        0.0     NaN       168  offer received                     1   \n",
       "5        0.0     NaN       168  offer received                     1   \n",
       "6        0.0     NaN       168  offer received                     1   \n",
       "7        0.0     NaN       168  offer received                     1   \n",
       "8        0.0     NaN       168  offer received                     1   \n",
       "10       0.0     NaN       168  offer received                     1   \n",
       "11       0.0     NaN       168  offer received                     1   \n",
       "12       0.0     NaN       168  offer received                     1   \n",
       "13       0.0     NaN       168  offer received                     1   \n",
       "14       0.0     NaN       168  offer received                     1   \n",
       "15       0.0     NaN       168  offer received                     1   \n",
       "16       0.0     NaN       168  offer received                     1   \n",
       "17       0.0     NaN       168  offer received                     1   \n",
       "18       0.0     NaN       168  offer received                     1   \n",
       "20       0.0     NaN       168  offer received                     1   \n",
       "21       0.0     NaN       168  offer received                     1   \n",
       "22       0.0     NaN       168  offer received                     1   \n",
       "23       0.0     NaN       168  offer received                     1   \n",
       "24       0.0     NaN       168  offer received                     1   \n",
       "25       0.0     NaN       168  offer received                     1   \n",
       "26       0.0     NaN       168  offer received                     1   \n",
       "27       0.0     NaN       168  offer received                     1   \n",
       "28       0.0     NaN       168  offer received                     1   \n",
       "29       0.0     NaN       168  offer received                     1   \n",
       "30       0.0     NaN       168  offer received                     1   \n",
       "31       0.0     NaN       168  offer received                     1   \n",
       "...      ...     ...       ...             ...                   ...   \n",
       "76241    1.0     NaN        72  offer received                     1   \n",
       "76242    1.0     NaN        72  offer received                     1   \n",
       "76243    1.0     NaN        72  offer received                     1   \n",
       "76245    1.0     NaN        72  offer received                     1   \n",
       "76246    1.0     NaN        72  offer received                     1   \n",
       "76247    1.0     NaN        72  offer received                     1   \n",
       "76248    1.0     NaN        72  offer received                     1   \n",
       "76249    1.0     NaN        72  offer received                     1   \n",
       "76250    1.0     NaN        72  offer received                     1   \n",
       "76251    1.0     NaN        72  offer received                     1   \n",
       "76252    1.0     NaN        72  offer received                     1   \n",
       "76253    1.0     NaN        72  offer received                     1   \n",
       "76254    1.0     NaN        72  offer received                     1   \n",
       "76256    1.0     NaN        72  offer received                     1   \n",
       "76257    1.0     NaN        72  offer received                     1   \n",
       "76258    1.0     NaN        72  offer received                     1   \n",
       "76260    1.0     NaN        72  offer received                     1   \n",
       "76261    1.0     NaN        72  offer received                     1   \n",
       "76262    1.0     NaN        72  offer received                     1   \n",
       "76263    1.0     NaN        72  offer received                     1   \n",
       "76265    1.0     NaN        72  offer received                     1   \n",
       "76266    1.0     NaN        72  offer received                     1   \n",
       "76268    1.0     NaN        72  offer received                     1   \n",
       "76269    1.0     NaN        72  offer received                     1   \n",
       "76270    1.0     NaN        72  offer received                     1   \n",
       "76271    1.0     NaN        72  offer received                     1   \n",
       "76272    1.0     NaN        72  offer received                     1   \n",
       "76273    1.0     NaN        72  offer received                     1   \n",
       "76275    1.0     NaN        72  offer received                     1   \n",
       "76276    1.0     NaN        72  offer received                     1   \n",
       "\n",
       "       event_offer_viewed   index                          offer_id  \\\n",
       "0                       1       0  9b98b8c7a33c4b65b9aebfe6a799e6d9   \n",
       "1                       0      18  9b98b8c7a33c4b65b9aebfe6a799e6d9   \n",
       "2                       1      21  9b98b8c7a33c4b65b9aebfe6a799e6d9   \n",
       "3                       1      28  9b98b8c7a33c4b65b9aebfe6a799e6d9   \n",
       "4                       0      30  9b98b8c7a33c4b65b9aebfe6a799e6d9   \n",
       "5                       1      32  9b98b8c7a33c4b65b9aebfe6a799e6d9   \n",
       "6                       1      38  9b98b8c7a33c4b65b9aebfe6a799e6d9   \n",
       "7                       0      81  9b98b8c7a33c4b65b9aebfe6a799e6d9   \n",
       "8                       0      85  9b98b8c7a33c4b65b9aebfe6a799e6d9   \n",
       "10                      0     110  9b98b8c7a33c4b65b9aebfe6a799e6d9   \n",
       "11                      1     111  9b98b8c7a33c4b65b9aebfe6a799e6d9   \n",
       "12                      1     117  9b98b8c7a33c4b65b9aebfe6a799e6d9   \n",
       "13                      1     125  9b98b8c7a33c4b65b9aebfe6a799e6d9   \n",
       "14                      1     140  9b98b8c7a33c4b65b9aebfe6a799e6d9   \n",
       "15                      1     142  9b98b8c7a33c4b65b9aebfe6a799e6d9   \n",
       "16                      0     152  9b98b8c7a33c4b65b9aebfe6a799e6d9   \n",
       "17                      0     153  9b98b8c7a33c4b65b9aebfe6a799e6d9   \n",
       "18                      1     175  9b98b8c7a33c4b65b9aebfe6a799e6d9   \n",
       "20                      1     192  9b98b8c7a33c4b65b9aebfe6a799e6d9   \n",
       "21                      1     195  9b98b8c7a33c4b65b9aebfe6a799e6d9   \n",
       "22                      1     197  9b98b8c7a33c4b65b9aebfe6a799e6d9   \n",
       "23                      0     200  9b98b8c7a33c4b65b9aebfe6a799e6d9   \n",
       "24                      0     206  9b98b8c7a33c4b65b9aebfe6a799e6d9   \n",
       "25                      0     230  9b98b8c7a33c4b65b9aebfe6a799e6d9   \n",
       "26                      0     242  9b98b8c7a33c4b65b9aebfe6a799e6d9   \n",
       "27                      0     250  9b98b8c7a33c4b65b9aebfe6a799e6d9   \n",
       "28                      1     282  9b98b8c7a33c4b65b9aebfe6a799e6d9   \n",
       "29                      0     288  9b98b8c7a33c4b65b9aebfe6a799e6d9   \n",
       "30                      0     290  9b98b8c7a33c4b65b9aebfe6a799e6d9   \n",
       "31                      1     292  9b98b8c7a33c4b65b9aebfe6a799e6d9   \n",
       "...                   ...     ...                               ...   \n",
       "76241                   1  257539  5a8bc65990b245e5a138643cd4eb9837   \n",
       "76242                   1  257541  5a8bc65990b245e5a138643cd4eb9837   \n",
       "76243                   1  257550  5a8bc65990b245e5a138643cd4eb9837   \n",
       "76245                   1  257568  5a8bc65990b245e5a138643cd4eb9837   \n",
       "76246                   1  257583  5a8bc65990b245e5a138643cd4eb9837   \n",
       "76247                   1  257592  5a8bc65990b245e5a138643cd4eb9837   \n",
       "76248                   1  257595  5a8bc65990b245e5a138643cd4eb9837   \n",
       "76249                   1  257602  5a8bc65990b245e5a138643cd4eb9837   \n",
       "76250                   1  257604  5a8bc65990b245e5a138643cd4eb9837   \n",
       "76251                   1  257605  5a8bc65990b245e5a138643cd4eb9837   \n",
       "76252                   1  257610  5a8bc65990b245e5a138643cd4eb9837   \n",
       "76253                   1  257614  5a8bc65990b245e5a138643cd4eb9837   \n",
       "76254                   0  257622  5a8bc65990b245e5a138643cd4eb9837   \n",
       "76256                   1  257635  5a8bc65990b245e5a138643cd4eb9837   \n",
       "76257                   1  257637  5a8bc65990b245e5a138643cd4eb9837   \n",
       "76258                   1  257657  5a8bc65990b245e5a138643cd4eb9837   \n",
       "76260                   1  257689  5a8bc65990b245e5a138643cd4eb9837   \n",
       "76261                   1  257693  5a8bc65990b245e5a138643cd4eb9837   \n",
       "76262                   1  257705  5a8bc65990b245e5a138643cd4eb9837   \n",
       "76263                   1  257730  5a8bc65990b245e5a138643cd4eb9837   \n",
       "76265                   1  257752  5a8bc65990b245e5a138643cd4eb9837   \n",
       "76266                   0  257754  5a8bc65990b245e5a138643cd4eb9837   \n",
       "76268                   0  257765  5a8bc65990b245e5a138643cd4eb9837   \n",
       "76269                   1  257799  5a8bc65990b245e5a138643cd4eb9837   \n",
       "76270                   0  257811  5a8bc65990b245e5a138643cd4eb9837   \n",
       "76271                   1  257835  5a8bc65990b245e5a138643cd4eb9837   \n",
       "76272                   0  257845  5a8bc65990b245e5a138643cd4eb9837   \n",
       "76273                   1  257849  5a8bc65990b245e5a138643cd4eb9837   \n",
       "76275                   1  257880  5a8bc65990b245e5a138643cd4eb9837   \n",
       "76276                   1  257881  5a8bc65990b245e5a138643cd4eb9837   \n",
       "\n",
       "                                 person  reward  ...  gender_O  memb_leng  \\\n",
       "0      78afa995795e4d85b5d9ceeca43f5fef     5.0  ...         0  14.564703   \n",
       "1      ebe7ef46ea6f4963a7dd49f501b26779     0.0  ...         0  42.148869   \n",
       "2      f082d80f0aac47a99173ba8ef8fc1909     5.0  ...         0  24.559442   \n",
       "3      c0d210398dee4a0895b24444a5fcd1d2     5.0  ...         0   0.624671   \n",
       "4      57dd18ec5ddc46828afb81ec5977bef2     0.0  ...         0  17.556549   \n",
       "5      a3b9b4bf115e4564933ea2e4bc936843     0.0  ...         0  39.387165   \n",
       "6      32fbf97e89274e8a935903f2ad095e1f     5.0  ...         0   7.430300   \n",
       "7      52f0bd64403f4958ab8fe9a6947c13c3     0.0  ...         0  29.984219   \n",
       "8      d41fa9b8c2e24a1d94caa890c53bbcf6     0.0  ...         0   1.545239   \n",
       "10     1827da57bb924833a6f73c79b5f2bbc5     0.0  ...         0   1.808259   \n",
       "11     721eb06ac285463aa6e1184e0ea9b7f0     0.0  ...         0  14.071541   \n",
       "12     4293153650e04742b310ac06cd3810e9     5.0  ...         0   0.591794   \n",
       "13     629fc02d56414d91bca360decdfa9288     5.0  ...         0   1.676749   \n",
       "14     4e4c47b460b1414c8ddd459b61f84b9e     5.0  ...         0   7.430300   \n",
       "15     d1a6fe4c241e4dbf8a4da6fd6c714ac5     5.0  ...         0  27.682799   \n",
       "16     bf2c086d4c4049289df1e0c8ea08f55c     5.0  ...         0   2.564440   \n",
       "17     5b9c1a35c0144b6ab584e666dec7c531     0.0  ...         0   3.287743   \n",
       "18     ad4fd34e9f7e4fd9ae627edd73ca2081     5.0  ...         0  30.904787   \n",
       "20     da6c95e567f94dfdb54c16073807fcfe     5.0  ...         0  10.520779   \n",
       "21     d0be9ff460964c3398a33ad9b2829f3a     5.0  ...         1   5.260389   \n",
       "22     c05652fa9d2c4fac9a010ea5a9310c86     5.0  ...         0   5.917938   \n",
       "23     b6905df3630b4137b077b6e1b4b21d75     0.0  ...         0  16.899001   \n",
       "24     393e6938e7eb46cb86bcb04f231efc0f     0.0  ...         0  45.370857   \n",
       "25     f8756fc0eea24e7ba3ccd846efc4d0d5     5.0  ...         0  25.775907   \n",
       "26     ca900921cfdd4b11a432df6f46a3e26d     0.0  ...         0   5.424776   \n",
       "27     c0f9e4bb1f3a4d30a34f5a835b2c97ea     5.0  ...         0  34.652814   \n",
       "28     c36c95e9e3e64a48be96977a82f8a753     0.0  ...         0   9.896107   \n",
       "29     611846bccd6b4c35ba48ed6b165b2c2d     5.0  ...         0  25.381378   \n",
       "30     e262142cfb3f4c87ab26ba7dd09562aa     0.0  ...         0   9.698843   \n",
       "31     fae5f722dce445c1ae311729464943cf     0.0  ...         0  10.455024   \n",
       "...                                 ...     ...  ...       ...        ...   \n",
       "76241  4f1676b2b52549fb9ffd6c9980437df9     0.0  ...         0  29.129406   \n",
       "76242  8aadb3b013e84e0fa3c3aad6f8e372a2     0.0  ...         0   0.591794   \n",
       "76243  d178bcf02f2640d0abfd6a720d8619ca     0.0  ...         0   2.400053   \n",
       "76245  62f82083cfb64929bfb7e6d91bd178e3     0.0  ...         0  59.278012   \n",
       "76246  d4f6205a98b4420082aae16e5a93655a     0.0  ...         0   9.107049   \n",
       "76247  4e5a3992df3949ec8e5b2577496c2570     0.0  ...         0  17.129143   \n",
       "76248  c4420b743fd94715a262e01e151d875a     0.0  ...         0   6.674119   \n",
       "76249  6bbd651cf5cb4fb0b4f523bec77c83f9     0.0  ...         0  31.693845   \n",
       "76250  ad4bd40eb770470a846b9569742c0b00     0.0  ...         0   6.082325   \n",
       "76251  05298f5390c7417c8dbbcbef9f081800     0.0  ...         0  14.860600   \n",
       "76252  2f76a037321141649bffd73c5f661b88     0.0  ...         0  27.156760   \n",
       "76253  2548f467373b4f4cb328308a90974718     0.0  ...         0  11.967386   \n",
       "76254  bd3714abf1654f58939f379f88378882     0.0  ...         0   2.728827   \n",
       "76256  488847b396ed4cbbbfbc31d93bfcf33c     0.0  ...         0  30.806155   \n",
       "76257  f6e6b0f97b004170b65794fdf80294db     0.0  ...         0  31.660968   \n",
       "76258  ff138957836849ccadfb5b232a3dc1b4     0.0  ...         0  24.395055   \n",
       "76260  0a3a378dedac4d5f80aa616e5c8007b3     0.0  ...         0  11.112572   \n",
       "76261  ef91d76655d349d68dd6f64d966ee5ed     0.0  ...         0   3.748027   \n",
       "76262  4ef68b2af4dd4e088bacf5b790bffd6f     0.0  ...         0   7.364545   \n",
       "76263  36e719e6fc9f4d01a2d96f27f7ae0b8a     0.0  ...         0  21.403209   \n",
       "76265  7fc83dab9a6844ca82aca3f72e2e9c43     0.0  ...         0   4.602841   \n",
       "76266  19ca1205d83f46e0bd2a44d5e3813e02     0.0  ...         0  31.595213   \n",
       "76268  174fee0b94e54cc3b1904965d2fb1209     0.0  ...         0   7.397422   \n",
       "76269  b78ca0a03dc34894be476f581c610e84     0.0  ...         0  29.260915   \n",
       "76270  c382ccba648a45b0bb55f3465df838aa     0.0  ...         0   9.994740   \n",
       "76271  91a5f86f02964fa5b6a41b531547815d     0.0  ...         0  28.438979   \n",
       "76272  daad151d84664dd6a4809ab8f05af690     0.0  ...         0  23.967649   \n",
       "76273  1c35792f115f4d06b138a63edf84ee4d     0.0  ...         0  15.024987   \n",
       "76275  f924927e7f844ecebf87eef93f4d2688     0.0  ...         0  25.907417   \n",
       "76276  a57890c3bbb7463e9018abb7fecadb15     0.0  ...         0   6.476854   \n",
       "\n",
       "       difficulty  email  mobile  social  web  offer_bogo  offer_discount  \\\n",
       "0               5      1       1       0    1           1               0   \n",
       "1               5      1       1       0    1           1               0   \n",
       "2               5      1       1       0    1           1               0   \n",
       "3               5      1       1       0    1           1               0   \n",
       "4               5      1       1       0    1           1               0   \n",
       "5               5      1       1       0    1           1               0   \n",
       "6               5      1       1       0    1           1               0   \n",
       "7               5      1       1       0    1           1               0   \n",
       "8               5      1       1       0    1           1               0   \n",
       "10              5      1       1       0    1           1               0   \n",
       "11              5      1       1       0    1           1               0   \n",
       "12              5      1       1       0    1           1               0   \n",
       "13              5      1       1       0    1           1               0   \n",
       "14              5      1       1       0    1           1               0   \n",
       "15              5      1       1       0    1           1               0   \n",
       "16              5      1       1       0    1           1               0   \n",
       "17              5      1       1       0    1           1               0   \n",
       "18              5      1       1       0    1           1               0   \n",
       "20              5      1       1       0    1           1               0   \n",
       "21              5      1       1       0    1           1               0   \n",
       "22              5      1       1       0    1           1               0   \n",
       "23              5      1       1       0    1           1               0   \n",
       "24              5      1       1       0    1           1               0   \n",
       "25              5      1       1       0    1           1               0   \n",
       "26              5      1       1       0    1           1               0   \n",
       "27              5      1       1       0    1           1               0   \n",
       "28              5      1       1       0    1           1               0   \n",
       "29              5      1       1       0    1           1               0   \n",
       "30              5      1       1       0    1           1               0   \n",
       "31              5      1       1       0    1           1               0   \n",
       "...           ...    ...     ...     ...  ...         ...             ...   \n",
       "76241           0      1       1       1    0           0               0   \n",
       "76242           0      1       1       1    0           0               0   \n",
       "76243           0      1       1       1    0           0               0   \n",
       "76245           0      1       1       1    0           0               0   \n",
       "76246           0      1       1       1    0           0               0   \n",
       "76247           0      1       1       1    0           0               0   \n",
       "76248           0      1       1       1    0           0               0   \n",
       "76249           0      1       1       1    0           0               0   \n",
       "76250           0      1       1       1    0           0               0   \n",
       "76251           0      1       1       1    0           0               0   \n",
       "76252           0      1       1       1    0           0               0   \n",
       "76253           0      1       1       1    0           0               0   \n",
       "76254           0      1       1       1    0           0               0   \n",
       "76256           0      1       1       1    0           0               0   \n",
       "76257           0      1       1       1    0           0               0   \n",
       "76258           0      1       1       1    0           0               0   \n",
       "76260           0      1       1       1    0           0               0   \n",
       "76261           0      1       1       1    0           0               0   \n",
       "76262           0      1       1       1    0           0               0   \n",
       "76263           0      1       1       1    0           0               0   \n",
       "76265           0      1       1       1    0           0               0   \n",
       "76266           0      1       1       1    0           0               0   \n",
       "76268           0      1       1       1    0           0               0   \n",
       "76269           0      1       1       1    0           0               0   \n",
       "76270           0      1       1       1    0           0               0   \n",
       "76271           0      1       1       1    0           0               0   \n",
       "76272           0      1       1       1    0           0               0   \n",
       "76273           0      1       1       1    0           0               0   \n",
       "76275           0      1       1       1    0           0               0   \n",
       "76276           0      1       1       1    0           0               0   \n",
       "\n",
       "       offer_informational  \n",
       "0                        0  \n",
       "1                        0  \n",
       "2                        0  \n",
       "3                        0  \n",
       "4                        0  \n",
       "5                        0  \n",
       "6                        0  \n",
       "7                        0  \n",
       "8                        0  \n",
       "10                       0  \n",
       "11                       0  \n",
       "12                       0  \n",
       "13                       0  \n",
       "14                       0  \n",
       "15                       0  \n",
       "16                       0  \n",
       "17                       0  \n",
       "18                       0  \n",
       "20                       0  \n",
       "21                       0  \n",
       "22                       0  \n",
       "23                       0  \n",
       "24                       0  \n",
       "25                       0  \n",
       "26                       0  \n",
       "27                       0  \n",
       "28                       0  \n",
       "29                       0  \n",
       "30                       0  \n",
       "31                       0  \n",
       "...                    ...  \n",
       "76241                    1  \n",
       "76242                    1  \n",
       "76243                    1  \n",
       "76245                    1  \n",
       "76246                    1  \n",
       "76247                    1  \n",
       "76248                    1  \n",
       "76249                    1  \n",
       "76250                    1  \n",
       "76251                    1  \n",
       "76252                    1  \n",
       "76253                    1  \n",
       "76254                    1  \n",
       "76256                    1  \n",
       "76257                    1  \n",
       "76258                    1  \n",
       "76260                    1  \n",
       "76261                    1  \n",
       "76262                    1  \n",
       "76263                    1  \n",
       "76265                    1  \n",
       "76266                    1  \n",
       "76268                    1  \n",
       "76269                    1  \n",
       "76270                    1  \n",
       "76271                    1  \n",
       "76272                    1  \n",
       "76273                    1  \n",
       "76275                    1  \n",
       "76276                    1  \n",
       "\n",
       "[66501 rows x 26 columns]"
      ]
     },
     "execution_count": 189,
     "metadata": {},
     "output_type": "execute_result"
    }
   ],
   "source": [
    "events_merged_viewed"
   ]
  },
  {
   "cell_type": "code",
   "execution_count": null,
   "metadata": {},
   "outputs": [],
   "source": []
  },
  {
   "cell_type": "code",
   "execution_count": null,
   "metadata": {},
   "outputs": [],
   "source": []
  },
  {
   "cell_type": "code",
   "execution_count": null,
   "metadata": {},
   "outputs": [],
   "source": []
  },
  {
   "cell_type": "code",
   "execution_count": null,
   "metadata": {},
   "outputs": [],
   "source": []
  },
  {
   "cell_type": "code",
   "execution_count": 63,
   "metadata": {
    "Collapsed": "false"
   },
   "outputs": [],
   "source": [
    "# I will clean this up on future full run throughs\n",
    "\n",
    "events_merged.drop(columns=['amount'],inplace=True)\n",
    "\n",
    "events_merged.dropna(subset=['income','gender'],inplace=True)\n",
    "\n",
    "events_merged.reward.fillna(value=0,inplace=True)"
   ]
  },
  {
   "cell_type": "markdown",
   "metadata": {
    "Collapsed": "false"
   },
   "source": [
    "I am realizing that my standardization ignored the np.nan somehow, so i need to manage that"
   ]
  },
  {
   "cell_type": "code",
   "execution_count": null,
   "metadata": {
    "Collapsed": "false"
   },
   "outputs": [],
   "source": []
  }
 ],
 "metadata": {
  "kernelspec": {
   "display_name": "Python 3",
   "language": "python",
   "name": "python3"
  },
  "language_info": {
   "codemirror_mode": {
    "name": "ipython",
    "version": 3
   },
   "file_extension": ".py",
   "mimetype": "text/x-python",
   "name": "python",
   "nbconvert_exporter": "python",
   "pygments_lexer": "ipython3",
   "version": "3.6.8"
  }
 },
 "nbformat": 4,
 "nbformat_minor": 4
}
