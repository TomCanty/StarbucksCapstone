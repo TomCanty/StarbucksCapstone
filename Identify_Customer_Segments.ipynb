{
 "cells": [
  {
   "cell_type": "markdown",
   "metadata": {},
   "source": [
    "# Project: Identify Customer Segments\n",
    "\n",
    "In this project, you will apply unsupervised learning techniques to identify segments of the population that form the core customer base for a mail-order sales company in Germany. These segments can then be used to direct marketing campaigns towards audiences that will have the highest expected rate of returns. The data that you will use has been provided by our partners at Bertelsmann Arvato Analytics, and represents a real-life data science task.\n",
    "\n",
    "This notebook will help you complete this task by providing a framework within which you will perform your analysis steps. In each step of the project, you will see some text describing the subtask that you will perform, followed by one or more code cells for you to complete your work. **Feel free to add additional code and markdown cells as you go along so that you can explore everything in precise chunks.** The code cells provided in the base template will outline only the major tasks, and will usually not be enough to cover all of the minor tasks that comprise it.\n",
    "\n",
    "It should be noted that while there will be precise guidelines on how you should handle certain tasks in the project, there will also be places where an exact specification is not provided. **There will be times in the project where you will need to make and justify your own decisions on how to treat the data.** These are places where there may not be only one way to handle the data. In real-life tasks, there may be many valid ways to approach an analysis task. One of the most important things you can do is clearly document your approach so that other scientists can understand the decisions you've made.\n",
    "\n",
    "At the end of most sections, there will be a Markdown cell labeled **Discussion**. In these cells, you will report your findings for the completed section, as well as document the decisions that you made in your approach to each subtask. **Your project will be evaluated not just on the code used to complete the tasks outlined, but also your communication about your observations and conclusions at each stage.**"
   ]
  },
  {
   "cell_type": "code",
   "execution_count": 2,
   "metadata": {},
   "outputs": [],
   "source": [
    "# import libraries here; add more as necessary\n",
    "import numpy as np\n",
    "import pandas as pd\n",
    "import matplotlib.pyplot as plt\n",
    "import seaborn as sns\n",
    "import ast\n",
    "\n",
    "# magic word for producing visualizations in notebook\n",
    "%matplotlib inline"
   ]
  },
  {
   "cell_type": "markdown",
   "metadata": {},
   "source": [
    "### Step 0: Load the Data\n",
    "\n",
    "There are four files associated with this project (not including this one):\n",
    "\n",
    "- `Udacity_AZDIAS_Subset.csv`: Demographics data for the general population of Germany; 891211 persons (rows) x 85 features (columns).\n",
    "- `Udacity_CUSTOMERS_Subset.csv`: Demographics data for customers of a mail-order company; 191652 persons (rows) x 85 features (columns).\n",
    "- `Data_Dictionary.md`: Detailed information file about the features in the provided datasets.\n",
    "- `AZDIAS_Feature_Summary.csv`: Summary of feature attributes for demographics data; 85 features (rows) x 4 columns\n",
    "\n",
    "Each row of the demographics files represents a single person, but also includes information outside of individuals, including information about their household, building, and neighborhood. You will use this information to cluster the general population into groups with similar demographic properties. Then, you will see how the people in the customers dataset fit into those created clusters. The hope here is that certain clusters are over-represented in the customers data, as compared to the general population; those over-represented clusters will be assumed to be part of the core userbase. This information can then be used for further applications, such as targeting for a marketing campaign.\n",
    "\n",
    "To start off with, load in the demographics data for the general population into a pandas DataFrame, and do the same for the feature attributes summary. Note for all of the `.csv` data files in this project: they're semicolon (`;`) delimited, so you'll need an additional argument in your [`read_csv()`](https://pandas.pydata.org/pandas-docs/stable/generated/pandas.read_csv.html) call to read in the data properly. Also, considering the size of the main dataset, it may take some time for it to load completely.\n",
    "\n",
    "Once the dataset is loaded, it's recommended that you take a little bit of time just browsing the general structure of the dataset and feature summary file. You'll be getting deep into the innards of the cleaning in the first major step of the project, so gaining some general familiarity can help you get your bearings."
   ]
  },
  {
   "cell_type": "code",
   "execution_count": 2,
   "metadata": {},
   "outputs": [
    {
     "data": {
      "text/plain": [
       "(891221, 85)"
      ]
     },
     "execution_count": 2,
     "metadata": {},
     "output_type": "execute_result"
    }
   ],
   "source": [
    "# Load in the general demographics data.\n",
    "azdias_wkg = pd.DataFrame.from_csv('Udacity_AZDIAS_Subset.csv',sep=';',index_col=None)\n",
    "cust_wkg = pd.DataFrame.from_csv('Udacity_CUSTOMERS_Subset.csv',sep=';',index_col=None)\n",
    "azdias_wkg.shape"
   ]
  },
  {
   "cell_type": "code",
   "execution_count": 3,
   "metadata": {},
   "outputs": [],
   "source": [
    "# Check the structure of the data after it's loaded (e.g. print the number of\n",
    "# rows and columns, print the first few rows)."
   ]
  },
  {
   "cell_type": "code",
   "execution_count": 5,
   "metadata": {},
   "outputs": [
    {
     "data": {
      "text/html": [
       "<div>\n",
       "<style>\n",
       "    .dataframe thead tr:only-child th {\n",
       "        text-align: right;\n",
       "    }\n",
       "\n",
       "    .dataframe thead th {\n",
       "        text-align: left;\n",
       "    }\n",
       "\n",
       "    .dataframe tbody tr th {\n",
       "        vertical-align: top;\n",
       "    }\n",
       "</style>\n",
       "<table border=\"1\" class=\"dataframe\">\n",
       "  <thead>\n",
       "    <tr style=\"text-align: right;\">\n",
       "      <th></th>\n",
       "      <th>AGER_TYP</th>\n",
       "      <th>ALTERSKATEGORIE_GROB</th>\n",
       "      <th>ANREDE_KZ</th>\n",
       "      <th>CJT_GESAMTTYP</th>\n",
       "      <th>FINANZ_MINIMALIST</th>\n",
       "      <th>FINANZ_SPARER</th>\n",
       "      <th>FINANZ_VORSORGER</th>\n",
       "      <th>FINANZ_ANLEGER</th>\n",
       "      <th>FINANZ_UNAUFFAELLIGER</th>\n",
       "      <th>FINANZ_HAUSBAUER</th>\n",
       "      <th>...</th>\n",
       "      <th>PLZ8_ANTG1</th>\n",
       "      <th>PLZ8_ANTG2</th>\n",
       "      <th>PLZ8_ANTG3</th>\n",
       "      <th>PLZ8_ANTG4</th>\n",
       "      <th>PLZ8_BAUMAX</th>\n",
       "      <th>PLZ8_HHZ</th>\n",
       "      <th>PLZ8_GBZ</th>\n",
       "      <th>ARBEIT</th>\n",
       "      <th>ORTSGR_KLS9</th>\n",
       "      <th>RELAT_AB</th>\n",
       "    </tr>\n",
       "  </thead>\n",
       "  <tbody>\n",
       "    <tr>\n",
       "      <th>10</th>\n",
       "      <td>0</td>\n",
       "      <td>3</td>\n",
       "      <td>2</td>\n",
       "      <td>1.0</td>\n",
       "      <td>2</td>\n",
       "      <td>2</td>\n",
       "      <td>5</td>\n",
       "      <td>3</td>\n",
       "      <td>1</td>\n",
       "      <td>5</td>\n",
       "      <td>...</td>\n",
       "      <td>2.0</td>\n",
       "      <td>4.0</td>\n",
       "      <td>2.0</td>\n",
       "      <td>0.0</td>\n",
       "      <td>2.0</td>\n",
       "      <td>3.0</td>\n",
       "      <td>3.0</td>\n",
       "      <td>4.0</td>\n",
       "      <td>6.0</td>\n",
       "      <td>5.0</td>\n",
       "    </tr>\n",
       "    <tr>\n",
       "      <th>278</th>\n",
       "      <td>0</td>\n",
       "      <td>3</td>\n",
       "      <td>2</td>\n",
       "      <td>5.0</td>\n",
       "      <td>5</td>\n",
       "      <td>1</td>\n",
       "      <td>5</td>\n",
       "      <td>1</td>\n",
       "      <td>2</td>\n",
       "      <td>2</td>\n",
       "      <td>...</td>\n",
       "      <td>3.0</td>\n",
       "      <td>2.0</td>\n",
       "      <td>1.0</td>\n",
       "      <td>0.0</td>\n",
       "      <td>1.0</td>\n",
       "      <td>3.0</td>\n",
       "      <td>3.0</td>\n",
       "      <td>1.0</td>\n",
       "      <td>3.0</td>\n",
       "      <td>1.0</td>\n",
       "    </tr>\n",
       "    <tr>\n",
       "      <th>417</th>\n",
       "      <td>0</td>\n",
       "      <td>4</td>\n",
       "      <td>1</td>\n",
       "      <td>2.0</td>\n",
       "      <td>5</td>\n",
       "      <td>1</td>\n",
       "      <td>5</td>\n",
       "      <td>1</td>\n",
       "      <td>2</td>\n",
       "      <td>3</td>\n",
       "      <td>...</td>\n",
       "      <td>2.0</td>\n",
       "      <td>3.0</td>\n",
       "      <td>2.0</td>\n",
       "      <td>1.0</td>\n",
       "      <td>1.0</td>\n",
       "      <td>5.0</td>\n",
       "      <td>5.0</td>\n",
       "      <td>4.0</td>\n",
       "      <td>6.0</td>\n",
       "      <td>3.0</td>\n",
       "    </tr>\n",
       "    <tr>\n",
       "      <th>445</th>\n",
       "      <td>0</td>\n",
       "      <td>4</td>\n",
       "      <td>1</td>\n",
       "      <td>3.0</td>\n",
       "      <td>5</td>\n",
       "      <td>1</td>\n",
       "      <td>5</td>\n",
       "      <td>1</td>\n",
       "      <td>2</td>\n",
       "      <td>2</td>\n",
       "      <td>...</td>\n",
       "      <td>2.0</td>\n",
       "      <td>3.0</td>\n",
       "      <td>2.0</td>\n",
       "      <td>1.0</td>\n",
       "      <td>1.0</td>\n",
       "      <td>3.0</td>\n",
       "      <td>3.0</td>\n",
       "      <td>3.0</td>\n",
       "      <td>7.0</td>\n",
       "      <td>3.0</td>\n",
       "    </tr>\n",
       "  </tbody>\n",
       "</table>\n",
       "<p>4 rows × 85 columns</p>\n",
       "</div>"
      ],
      "text/plain": [
       "     AGER_TYP  ALTERSKATEGORIE_GROB  ANREDE_KZ  CJT_GESAMTTYP  \\\n",
       "10          0                     3          2            1.0   \n",
       "278         0                     3          2            5.0   \n",
       "417         0                     4          1            2.0   \n",
       "445         0                     4          1            3.0   \n",
       "\n",
       "     FINANZ_MINIMALIST  FINANZ_SPARER  FINANZ_VORSORGER  FINANZ_ANLEGER  \\\n",
       "10                   2              2                 5               3   \n",
       "278                  5              1                 5               1   \n",
       "417                  5              1                 5               1   \n",
       "445                  5              1                 5               1   \n",
       "\n",
       "     FINANZ_UNAUFFAELLIGER  FINANZ_HAUSBAUER    ...     PLZ8_ANTG1  \\\n",
       "10                       1                 5    ...            2.0   \n",
       "278                      2                 2    ...            3.0   \n",
       "417                      2                 3    ...            2.0   \n",
       "445                      2                 2    ...            2.0   \n",
       "\n",
       "     PLZ8_ANTG2  PLZ8_ANTG3  PLZ8_ANTG4  PLZ8_BAUMAX  PLZ8_HHZ  PLZ8_GBZ  \\\n",
       "10          4.0         2.0         0.0          2.0       3.0       3.0   \n",
       "278         2.0         1.0         0.0          1.0       3.0       3.0   \n",
       "417         3.0         2.0         1.0          1.0       5.0       5.0   \n",
       "445         3.0         2.0         1.0          1.0       3.0       3.0   \n",
       "\n",
       "     ARBEIT  ORTSGR_KLS9  RELAT_AB  \n",
       "10      4.0          6.0       5.0  \n",
       "278     1.0          3.0       1.0  \n",
       "417     4.0          6.0       3.0  \n",
       "445     3.0          7.0       3.0  \n",
       "\n",
       "[4 rows x 85 columns]"
      ]
     },
     "execution_count": 5,
     "metadata": {},
     "output_type": "execute_result"
    }
   ],
   "source": [
    "azdias_wkg[azdias_wkg['AGER_TYP']==int(0)].head(4)"
   ]
  },
  {
   "cell_type": "code",
   "execution_count": 8,
   "metadata": {
    "collapsed": true,
    "jupyter": {
     "outputs_hidden": true
    }
   },
   "outputs": [
    {
     "data": {
      "text/html": [
       "<div>\n",
       "<style>\n",
       "    .dataframe thead tr:only-child th {\n",
       "        text-align: right;\n",
       "    }\n",
       "\n",
       "    .dataframe thead th {\n",
       "        text-align: left;\n",
       "    }\n",
       "\n",
       "    .dataframe tbody tr th {\n",
       "        vertical-align: top;\n",
       "    }\n",
       "</style>\n",
       "<table border=\"1\" class=\"dataframe\">\n",
       "  <thead>\n",
       "    <tr style=\"text-align: right;\">\n",
       "      <th></th>\n",
       "      <th>information_level</th>\n",
       "      <th>type</th>\n",
       "      <th>missing_or_unknown</th>\n",
       "    </tr>\n",
       "    <tr>\n",
       "      <th>attribute</th>\n",
       "      <th></th>\n",
       "      <th></th>\n",
       "      <th></th>\n",
       "    </tr>\n",
       "  </thead>\n",
       "  <tbody>\n",
       "    <tr>\n",
       "      <th>AGER_TYP</th>\n",
       "      <td>person</td>\n",
       "      <td>categorical</td>\n",
       "      <td>[-1,0]</td>\n",
       "    </tr>\n",
       "    <tr>\n",
       "      <th>ALTERSKATEGORIE_GROB</th>\n",
       "      <td>person</td>\n",
       "      <td>ordinal</td>\n",
       "      <td>[-1,0,9]</td>\n",
       "    </tr>\n",
       "    <tr>\n",
       "      <th>ANREDE_KZ</th>\n",
       "      <td>person</td>\n",
       "      <td>categorical</td>\n",
       "      <td>[-1,0]</td>\n",
       "    </tr>\n",
       "    <tr>\n",
       "      <th>CJT_GESAMTTYP</th>\n",
       "      <td>person</td>\n",
       "      <td>categorical</td>\n",
       "      <td>[0]</td>\n",
       "    </tr>\n",
       "    <tr>\n",
       "      <th>FINANZ_MINIMALIST</th>\n",
       "      <td>person</td>\n",
       "      <td>ordinal</td>\n",
       "      <td>[-1]</td>\n",
       "    </tr>\n",
       "    <tr>\n",
       "      <th>FINANZ_SPARER</th>\n",
       "      <td>person</td>\n",
       "      <td>ordinal</td>\n",
       "      <td>[-1]</td>\n",
       "    </tr>\n",
       "    <tr>\n",
       "      <th>FINANZ_VORSORGER</th>\n",
       "      <td>person</td>\n",
       "      <td>ordinal</td>\n",
       "      <td>[-1]</td>\n",
       "    </tr>\n",
       "    <tr>\n",
       "      <th>FINANZ_ANLEGER</th>\n",
       "      <td>person</td>\n",
       "      <td>ordinal</td>\n",
       "      <td>[-1]</td>\n",
       "    </tr>\n",
       "  </tbody>\n",
       "</table>\n",
       "</div>"
      ],
      "text/plain": [
       "                     information_level         type missing_or_unknown\n",
       "attribute                                                             \n",
       "AGER_TYP                        person  categorical             [-1,0]\n",
       "ALTERSKATEGORIE_GROB            person      ordinal           [-1,0,9]\n",
       "ANREDE_KZ                       person  categorical             [-1,0]\n",
       "CJT_GESAMTTYP                   person  categorical                [0]\n",
       "FINANZ_MINIMALIST               person      ordinal               [-1]\n",
       "FINANZ_SPARER                   person      ordinal               [-1]\n",
       "FINANZ_VORSORGER                person      ordinal               [-1]\n",
       "FINANZ_ANLEGER                  person      ordinal               [-1]"
      ]
     },
     "execution_count": 8,
     "metadata": {},
     "output_type": "execute_result"
    }
   ],
   "source": [
    "# Load in the feature summary file.\n",
    "feat_info = pd.DataFrame.from_csv('AZDIAS_Feature_Summary.csv',sep=';')\n",
    "feat_info.head(8)"
   ]
  },
  {
   "cell_type": "code",
   "execution_count": 9,
   "metadata": {},
   "outputs": [],
   "source": [
    "feat_info['new']=azdias_wkg.dtypes"
   ]
  },
  {
   "cell_type": "code",
   "execution_count": 10,
   "metadata": {},
   "outputs": [
    {
     "data": {
      "text/html": [
       "<div>\n",
       "<style>\n",
       "    .dataframe thead tr:only-child th {\n",
       "        text-align: right;\n",
       "    }\n",
       "\n",
       "    .dataframe thead th {\n",
       "        text-align: left;\n",
       "    }\n",
       "\n",
       "    .dataframe tbody tr th {\n",
       "        vertical-align: top;\n",
       "    }\n",
       "</style>\n",
       "<table border=\"1\" class=\"dataframe\">\n",
       "  <thead>\n",
       "    <tr style=\"text-align: right;\">\n",
       "      <th></th>\n",
       "      <th>information_level</th>\n",
       "      <th>type</th>\n",
       "      <th>missing_or_unknown</th>\n",
       "      <th>new</th>\n",
       "    </tr>\n",
       "    <tr>\n",
       "      <th>attribute</th>\n",
       "      <th></th>\n",
       "      <th></th>\n",
       "      <th></th>\n",
       "      <th></th>\n",
       "    </tr>\n",
       "  </thead>\n",
       "  <tbody>\n",
       "    <tr>\n",
       "      <th>AGER_TYP</th>\n",
       "      <td>person</td>\n",
       "      <td>categorical</td>\n",
       "      <td>[-1,0]</td>\n",
       "      <td>int64</td>\n",
       "    </tr>\n",
       "    <tr>\n",
       "      <th>ALTERSKATEGORIE_GROB</th>\n",
       "      <td>person</td>\n",
       "      <td>ordinal</td>\n",
       "      <td>[-1,0,9]</td>\n",
       "      <td>int64</td>\n",
       "    </tr>\n",
       "    <tr>\n",
       "      <th>ANREDE_KZ</th>\n",
       "      <td>person</td>\n",
       "      <td>categorical</td>\n",
       "      <td>[-1,0]</td>\n",
       "      <td>int64</td>\n",
       "    </tr>\n",
       "    <tr>\n",
       "      <th>CJT_GESAMTTYP</th>\n",
       "      <td>person</td>\n",
       "      <td>categorical</td>\n",
       "      <td>[0]</td>\n",
       "      <td>float64</td>\n",
       "    </tr>\n",
       "    <tr>\n",
       "      <th>FINANZ_MINIMALIST</th>\n",
       "      <td>person</td>\n",
       "      <td>ordinal</td>\n",
       "      <td>[-1]</td>\n",
       "      <td>int64</td>\n",
       "    </tr>\n",
       "  </tbody>\n",
       "</table>\n",
       "</div>"
      ],
      "text/plain": [
       "                     information_level         type missing_or_unknown  \\\n",
       "attribute                                                                \n",
       "AGER_TYP                        person  categorical             [-1,0]   \n",
       "ALTERSKATEGORIE_GROB            person      ordinal           [-1,0,9]   \n",
       "ANREDE_KZ                       person  categorical             [-1,0]   \n",
       "CJT_GESAMTTYP                   person  categorical                [0]   \n",
       "FINANZ_MINIMALIST               person      ordinal               [-1]   \n",
       "\n",
       "                          new  \n",
       "attribute                      \n",
       "AGER_TYP                int64  \n",
       "ALTERSKATEGORIE_GROB    int64  \n",
       "ANREDE_KZ               int64  \n",
       "CJT_GESAMTTYP         float64  \n",
       "FINANZ_MINIMALIST       int64  "
      ]
     },
     "execution_count": 10,
     "metadata": {},
     "output_type": "execute_result"
    }
   ],
   "source": [
    "feat_info.head(5)"
   ]
  },
  {
   "cell_type": "markdown",
   "metadata": {},
   "source": [
    "> **Tip**: Add additional cells to keep everything in reasonably-sized chunks! Keyboard shortcut `esc --> a` (press escape to enter command mode, then press the 'A' key) adds a new cell before the active cell, and `esc --> b` adds a new cell after the active cell. If you need to convert an active cell to a markdown cell, use `esc --> m` and to convert to a code cell, use `esc --> y`. \n",
    "\n",
    "## Step 1: Preprocessing\n",
    "\n",
    "### Step 1.1: Assess Missing Data\n",
    "\n",
    "The feature summary file contains a summary of properties for each demographics data column. You will use this file to help you make cleaning decisions during this stage of the project. First of all, you should assess the demographics data in terms of missing data. Pay attention to the following points as you perform your analysis, and take notes on what you observe. Make sure that you fill in the **Discussion** cell with your findings and decisions at the end of each step that has one!\n",
    "\n",
    "#### Step 1.1.1: Convert Missing Value Codes to NaNs\n",
    "The fourth column of the feature attributes summary (loaded in above as `feat_info`) documents the codes from the data dictionary that indicate missing or unknown data. While the file encodes this as a list (e.g. `[-1,0]`), this will get read in as a string object. You'll need to do a little bit of parsing to make use of it to identify and clean the data. Convert data that matches a 'missing' or 'unknown' value code into a numpy NaN value. You might want to see how much data takes on a 'missing' or 'unknown' code, and how much data is naturally missing, as a point of interest.\n",
    "\n",
    "**As one more reminder, you are encouraged to add additional cells to break up your analysis into manageable chunks.**"
   ]
  },
  {
   "cell_type": "code",
   "execution_count": 11,
   "metadata": {},
   "outputs": [],
   "source": [
    "# Identify missing or unknown data values and convert them to NaNs.  # azdias only"
   ]
  },
  {
   "cell_type": "code",
   "execution_count": 12,
   "metadata": {},
   "outputs": [],
   "source": [
    "for x in feat_info.index:\n",
    "    y = feat_info.missing_or_unknown[x]\n",
    "    y = y.strip('][').split(',')\n",
    "    for z in y:\n",
    "        zz = 0\n",
    "        try:\n",
    "            zz = ast.literal_eval(z)\n",
    "            azdias_wkg[x]=azdias_wkg.replace(zz,np.nan)[x]  #Replace 'NaN' with np.nan\n",
    "            cust_wkg[x]=cust_wkg.replace(zz,np.nan)[x] \n",
    "        except:\n",
    "            azdias_wkg[x]=azdias_wkg.replace(z,np.nan)[x]#Replace 'NaN' with np.nan\n",
    "            cust_wkg[x]=cust_wkg.replace(z,np.nan)[x] "
   ]
  },
  {
   "cell_type": "markdown",
   "metadata": {},
   "source": [
    "### https://dzone.com/articles/pandas-find-rows-where-columnfield-is-null"
   ]
  },
  {
   "cell_type": "code",
   "execution_count": 13,
   "metadata": {
    "collapsed": true,
    "jupyter": {
     "outputs_hidden": true
    }
   },
   "outputs": [
    {
     "name": "stdout",
     "output_type": "stream",
     "text": [
      "AGER_TYP                 685843\n",
      "ALTERSKATEGORIE_GROB       2881\n",
      "CJT_GESAMTTYP              4854\n",
      "GEBURTSJAHR              392318\n",
      "GFK_URLAUBERTYP            4854\n",
      "HEALTH_TYP               111196\n",
      "LP_LEBENSPHASE_FEIN       97632\n",
      "LP_LEBENSPHASE_GROB       94572\n",
      "LP_FAMILIE_FEIN           77792\n",
      "LP_FAMILIE_GROB           77792\n",
      "LP_STATUS_FEIN             4854\n",
      "LP_STATUS_GROB             4854\n",
      "NATIONALITAET_KZ         108315\n",
      "PRAEGENDE_JUGENDJAHRE    108164\n",
      "RETOURTYP_BK_S             4854\n",
      "SHOPPER_TYP              111196\n",
      "SOHO_KZ                   73499\n",
      "TITEL_KZ                 889061\n",
      "VERS_TYP                 111196\n",
      "ALTER_HH                 310267\n",
      "ANZ_PERSONEN              73499\n",
      "ANZ_TITEL                 73499\n",
      "HH_EINKOMMEN_SCORE        18348\n",
      "KK_KUNDENTYP             584612\n",
      "W_KEIT_KIND_HH           147988\n",
      "WOHNDAUER_2008            73499\n",
      "ANZ_HAUSHALTE_AKTIV       99611\n",
      "ANZ_HH_TITEL              97008\n",
      "GEBAEUDETYP               93148\n",
      "KONSUMNAEHE               73969\n",
      "                          ...  \n",
      "OST_WEST_KZ               93148\n",
      "WOHNLAGE                  93148\n",
      "CAMEO_DEUG_2015           99352\n",
      "CAMEO_DEU_2015            99352\n",
      "CAMEO_INTL_2015           99352\n",
      "KBA05_ANTG1              133324\n",
      "KBA05_ANTG2              133324\n",
      "KBA05_ANTG3              133324\n",
      "KBA05_ANTG4              133324\n",
      "KBA05_BAUMAX             476524\n",
      "KBA05_GBZ                133324\n",
      "BALLRAUM                  93740\n",
      "EWDICHTE                  93740\n",
      "INNENSTADT                93740\n",
      "GEBAEUDETYP_RASTER        93155\n",
      "KKK                      158064\n",
      "MOBI_REGIO               133324\n",
      "ONLINE_AFFINITAET          4854\n",
      "REGIOTYP                 158064\n",
      "KBA13_ANZAHL_PKW         105800\n",
      "PLZ8_ANTG1               116515\n",
      "PLZ8_ANTG2               116515\n",
      "PLZ8_ANTG3               116515\n",
      "PLZ8_ANTG4               116515\n",
      "PLZ8_BAUMAX              116515\n",
      "PLZ8_HHZ                 116515\n",
      "PLZ8_GBZ                 116515\n",
      "ARBEIT                    97375\n",
      "ORTSGR_KLS9               97274\n",
      "RELAT_AB                  97375\n",
      "Length: 61, dtype: int64 AGER_TYP                 0.769554\n",
      "ALTERSKATEGORIE_GROB     0.003233\n",
      "CJT_GESAMTTYP            0.005446\n",
      "GEBURTSJAHR              0.440203\n",
      "GFK_URLAUBERTYP          0.005446\n",
      "HEALTH_TYP               0.124768\n",
      "LP_LEBENSPHASE_FEIN      0.109549\n",
      "LP_LEBENSPHASE_GROB      0.106115\n",
      "LP_FAMILIE_FEIN          0.087287\n",
      "LP_FAMILIE_GROB          0.087287\n",
      "LP_STATUS_FEIN           0.005446\n",
      "LP_STATUS_GROB           0.005446\n",
      "NATIONALITAET_KZ         0.121536\n",
      "PRAEGENDE_JUGENDJAHRE    0.121366\n",
      "RETOURTYP_BK_S           0.005446\n",
      "SHOPPER_TYP              0.124768\n",
      "SOHO_KZ                  0.082470\n",
      "TITEL_KZ                 0.997576\n",
      "VERS_TYP                 0.124768\n",
      "ALTER_HH                 0.348137\n",
      "ANZ_PERSONEN             0.082470\n",
      "ANZ_TITEL                0.082470\n",
      "HH_EINKOMMEN_SCORE       0.020587\n",
      "KK_KUNDENTYP             0.655967\n",
      "W_KEIT_KIND_HH           0.166051\n",
      "WOHNDAUER_2008           0.082470\n",
      "ANZ_HAUSHALTE_AKTIV      0.111769\n",
      "ANZ_HH_TITEL             0.108848\n",
      "GEBAEUDETYP              0.104517\n",
      "KONSUMNAEHE              0.082997\n",
      "                           ...   \n",
      "OST_WEST_KZ              0.104517\n",
      "WOHNLAGE                 0.104517\n",
      "CAMEO_DEUG_2015          0.111479\n",
      "CAMEO_DEU_2015           0.111479\n",
      "CAMEO_INTL_2015          0.111479\n",
      "KBA05_ANTG1              0.149597\n",
      "KBA05_ANTG2              0.149597\n",
      "KBA05_ANTG3              0.149597\n",
      "KBA05_ANTG4              0.149597\n",
      "KBA05_BAUMAX             0.534687\n",
      "KBA05_GBZ                0.149597\n",
      "BALLRAUM                 0.105182\n",
      "EWDICHTE                 0.105182\n",
      "INNENSTADT               0.105182\n",
      "GEBAEUDETYP_RASTER       0.104525\n",
      "KKK                      0.177357\n",
      "MOBI_REGIO               0.149597\n",
      "ONLINE_AFFINITAET        0.005446\n",
      "REGIOTYP                 0.177357\n",
      "KBA13_ANZAHL_PKW         0.118714\n",
      "PLZ8_ANTG1               0.130736\n",
      "PLZ8_ANTG2               0.130736\n",
      "PLZ8_ANTG3               0.130736\n",
      "PLZ8_ANTG4               0.130736\n",
      "PLZ8_BAUMAX              0.130736\n",
      "PLZ8_HHZ                 0.130736\n",
      "PLZ8_GBZ                 0.130736\n",
      "ARBEIT                   0.109260\n",
      "ORTSGR_KLS9              0.109147\n",
      "RELAT_AB                 0.109260\n",
      "Length: 61, dtype: float64\n"
     ]
    }
   ],
   "source": [
    "null_columns=azdias_wkg.columns[azdias_wkg.isnull().any()]\n",
    "print(azdias_wkg[null_columns].isnull().sum(),azdias_wkg[null_columns].isnull().sum()/azdias_wkg.shape[0])"
   ]
  },
  {
   "cell_type": "markdown",
   "metadata": {},
   "source": [
    "### https://matplotlib.org/gallery/statistics/histogram_multihist.html"
   ]
  },
  {
   "cell_type": "code",
   "execution_count": 14,
   "metadata": {},
   "outputs": [],
   "source": [
    "azdias_wkg.to_pickle('az_wkg_1.pickle')\n",
    "cust_wkg.to_pickle('cs_wkg_1')\n",
    "feat_info.to_pickle('feat_wkg_1.pickle')"
   ]
  },
  {
   "cell_type": "markdown",
   "metadata": {},
   "source": [
    "## CHECKPOINT 1"
   ]
  },
  {
   "cell_type": "code",
   "execution_count": 1,
   "metadata": {},
   "outputs": [],
   "source": [
    "# import libraries here; add more as necessary\n",
    "import numpy as np\n",
    "import pandas as pd\n",
    "import matplotlib.pyplot as plt\n",
    "import seaborn as sns\n",
    "import ast\n",
    "\n",
    "# magic word for producing visualizations in notebook\n",
    "%matplotlib inline"
   ]
  },
  {
   "cell_type": "code",
   "execution_count": 2,
   "metadata": {},
   "outputs": [],
   "source": [
    "azdias_wkg = pd.read_pickle('az_wkg_1.pickle')\n",
    "cust_wkg = pd.read_pickle('cs_wkg_1')\n",
    "feat_wkg = pd.read_pickle('feat_wkg_1.pickle')"
   ]
  },
  {
   "cell_type": "markdown",
   "metadata": {},
   "source": [
    "#### Step 1.1.2: Assess Missing Data in Each Column\n",
    "\n",
    "How much missing data is present in each column? There are a few columns that are outliers in terms of the proportion of values that are missing. You will want to use matplotlib's [`hist()`](https://matplotlib.org/api/_as_gen/matplotlib.pyplot.hist.html) function to visualize the distribution of missing value counts to find these columns. Identify and document these columns. While some of these columns might have justifications for keeping or re-encoding the data, for this project you should just remove them from the dataframe. (Feel free to make remarks about these outlier columns in the discussion, however!)\n",
    "\n",
    "For the remaining features, are there any patterns in which columns have, or share, missing data?"
   ]
  },
  {
   "cell_type": "code",
   "execution_count": 3,
   "metadata": {},
   "outputs": [
    {
     "data": {
      "image/png": "[encoded data removed]",
      "text/plain": [
       "<matplotlib.figure.Figure at 0x7fd8621d8518>"
      ]
     },
     "metadata": {
      "needs_background": "light"
     },
     "output_type": "display_data"
    }
   ],
   "source": [
    "plt.hist([azdias_wkg.isnull().sum()],bins=10,cumulative=True,stacked=False, fill=False,histtype='step');"
   ]
  },
  {
   "cell_type": "code",
   "execution_count": 4,
   "metadata": {},
   "outputs": [
    {
     "data": {
      "text/html": [
       "<div>\n",
       "<style>\n",
       "    .dataframe thead tr:only-child th {\n",
       "        text-align: right;\n",
       "    }\n",
       "\n",
       "    .dataframe thead th {\n",
       "        text-align: left;\n",
       "    }\n",
       "\n",
       "    .dataframe tbody tr th {\n",
       "        vertical-align: top;\n",
       "    }\n",
       "</style>\n",
       "<table border=\"1\" class=\"dataframe\">\n",
       "  <thead>\n",
       "    <tr style=\"text-align: right;\">\n",
       "      <th></th>\n",
       "      <th>az pct</th>\n",
       "    </tr>\n",
       "  </thead>\n",
       "  <tbody>\n",
       "    <tr>\n",
       "      <th>TITEL_KZ</th>\n",
       "      <td>0.997576</td>\n",
       "    </tr>\n",
       "    <tr>\n",
       "      <th>AGER_TYP</th>\n",
       "      <td>0.769554</td>\n",
       "    </tr>\n",
       "    <tr>\n",
       "      <th>KK_KUNDENTYP</th>\n",
       "      <td>0.655967</td>\n",
       "    </tr>\n",
       "    <tr>\n",
       "      <th>KBA05_BAUMAX</th>\n",
       "      <td>0.534687</td>\n",
       "    </tr>\n",
       "    <tr>\n",
       "      <th>GEBURTSJAHR</th>\n",
       "      <td>0.440203</td>\n",
       "    </tr>\n",
       "    <tr>\n",
       "      <th>ALTER_HH</th>\n",
       "      <td>0.348137</td>\n",
       "    </tr>\n",
       "    <tr>\n",
       "      <th>KKK</th>\n",
       "      <td>0.177357</td>\n",
       "    </tr>\n",
       "    <tr>\n",
       "      <th>REGIOTYP</th>\n",
       "      <td>0.177357</td>\n",
       "    </tr>\n",
       "    <tr>\n",
       "      <th>W_KEIT_KIND_HH</th>\n",
       "      <td>0.166051</td>\n",
       "    </tr>\n",
       "    <tr>\n",
       "      <th>KBA05_ANTG1</th>\n",
       "      <td>0.149597</td>\n",
       "    </tr>\n",
       "    <tr>\n",
       "      <th>KBA05_ANTG2</th>\n",
       "      <td>0.149597</td>\n",
       "    </tr>\n",
       "    <tr>\n",
       "      <th>KBA05_ANTG3</th>\n",
       "      <td>0.149597</td>\n",
       "    </tr>\n",
       "    <tr>\n",
       "      <th>KBA05_ANTG4</th>\n",
       "      <td>0.149597</td>\n",
       "    </tr>\n",
       "    <tr>\n",
       "      <th>KBA05_GBZ</th>\n",
       "      <td>0.149597</td>\n",
       "    </tr>\n",
       "    <tr>\n",
       "      <th>MOBI_REGIO</th>\n",
       "      <td>0.149597</td>\n",
       "    </tr>\n",
       "    <tr>\n",
       "      <th>PLZ8_ANTG3</th>\n",
       "      <td>0.130736</td>\n",
       "    </tr>\n",
       "    <tr>\n",
       "      <th>PLZ8_ANTG2</th>\n",
       "      <td>0.130736</td>\n",
       "    </tr>\n",
       "    <tr>\n",
       "      <th>PLZ8_GBZ</th>\n",
       "      <td>0.130736</td>\n",
       "    </tr>\n",
       "    <tr>\n",
       "      <th>PLZ8_HHZ</th>\n",
       "      <td>0.130736</td>\n",
       "    </tr>\n",
       "    <tr>\n",
       "      <th>PLZ8_ANTG1</th>\n",
       "      <td>0.130736</td>\n",
       "    </tr>\n",
       "  </tbody>\n",
       "</table>\n",
       "</div>"
      ],
      "text/plain": [
       "                  az pct\n",
       "TITEL_KZ        0.997576\n",
       "AGER_TYP        0.769554\n",
       "KK_KUNDENTYP    0.655967\n",
       "KBA05_BAUMAX    0.534687\n",
       "GEBURTSJAHR     0.440203\n",
       "ALTER_HH        0.348137\n",
       "KKK             0.177357\n",
       "REGIOTYP        0.177357\n",
       "W_KEIT_KIND_HH  0.166051\n",
       "KBA05_ANTG1     0.149597\n",
       "KBA05_ANTG2     0.149597\n",
       "KBA05_ANTG3     0.149597\n",
       "KBA05_ANTG4     0.149597\n",
       "KBA05_GBZ       0.149597\n",
       "MOBI_REGIO      0.149597\n",
       "PLZ8_ANTG3      0.130736\n",
       "PLZ8_ANTG2      0.130736\n",
       "PLZ8_GBZ        0.130736\n",
       "PLZ8_HHZ        0.130736\n",
       "PLZ8_ANTG1      0.130736"
      ]
     },
     "execution_count": 4,
     "metadata": {},
     "output_type": "execute_result"
    }
   ],
   "source": [
    "Na_pct =pd.DataFrame(azdias_wkg.isnull().sum()/azdias_wkg.shape[0],columns=['az pct'])\n",
    "Cust_pct = pd.DataFrame(azdias_wkg.isnull().sum()/azdias_wkg.shape[0],columns=['az pct'])\n",
    "Na_pct.sort_values('az pct',ascending=False).head(20)\n"
   ]
  },
  {
   "cell_type": "code",
   "execution_count": 5,
   "metadata": {},
   "outputs": [],
   "source": [
    "dropcol = ['TITEL_KZ','AGER_TYP','KK_KUNDENTYP','KBA05_BAUMAX','GEBURTSJAHR','ALTER_HH']\n",
    "\n",
    "azdias_wkg.drop(dropcol,axis=1,inplace=True)\n",
    "cust_wkg.drop(dropcol,axis=1,inplace=True)\n",
    "feat_wkg.drop(dropcol,axis=0,inplace=True)"
   ]
  },
  {
   "cell_type": "code",
   "execution_count": 6,
   "metadata": {},
   "outputs": [
    {
     "data": {
      "text/html": [
       "<div>\n",
       "<style>\n",
       "    .dataframe thead tr:only-child th {\n",
       "        text-align: right;\n",
       "    }\n",
       "\n",
       "    .dataframe thead th {\n",
       "        text-align: left;\n",
       "    }\n",
       "\n",
       "    .dataframe tbody tr th {\n",
       "        vertical-align: top;\n",
       "    }\n",
       "</style>\n",
       "<table border=\"1\" class=\"dataframe\">\n",
       "  <thead>\n",
       "    <tr style=\"text-align: right;\">\n",
       "      <th></th>\n",
       "      <th>ALTERSKATEGORIE_GROB</th>\n",
       "      <th>ANREDE_KZ</th>\n",
       "      <th>CJT_GESAMTTYP</th>\n",
       "      <th>FINANZ_MINIMALIST</th>\n",
       "      <th>FINANZ_SPARER</th>\n",
       "      <th>FINANZ_VORSORGER</th>\n",
       "      <th>FINANZ_ANLEGER</th>\n",
       "      <th>FINANZ_UNAUFFAELLIGER</th>\n",
       "      <th>FINANZ_HAUSBAUER</th>\n",
       "      <th>FINANZTYP</th>\n",
       "      <th>...</th>\n",
       "      <th>PLZ8_ANTG1</th>\n",
       "      <th>PLZ8_ANTG2</th>\n",
       "      <th>PLZ8_ANTG3</th>\n",
       "      <th>PLZ8_ANTG4</th>\n",
       "      <th>PLZ8_BAUMAX</th>\n",
       "      <th>PLZ8_HHZ</th>\n",
       "      <th>PLZ8_GBZ</th>\n",
       "      <th>ARBEIT</th>\n",
       "      <th>ORTSGR_KLS9</th>\n",
       "      <th>RELAT_AB</th>\n",
       "    </tr>\n",
       "  </thead>\n",
       "  <tbody>\n",
       "    <tr>\n",
       "      <th>0</th>\n",
       "      <td>2.0</td>\n",
       "      <td>1</td>\n",
       "      <td>2.0</td>\n",
       "      <td>3</td>\n",
       "      <td>4</td>\n",
       "      <td>3</td>\n",
       "      <td>5</td>\n",
       "      <td>5</td>\n",
       "      <td>3</td>\n",
       "      <td>4</td>\n",
       "      <td>...</td>\n",
       "      <td>NaN</td>\n",
       "      <td>NaN</td>\n",
       "      <td>NaN</td>\n",
       "      <td>NaN</td>\n",
       "      <td>NaN</td>\n",
       "      <td>NaN</td>\n",
       "      <td>NaN</td>\n",
       "      <td>NaN</td>\n",
       "      <td>NaN</td>\n",
       "      <td>NaN</td>\n",
       "    </tr>\n",
       "    <tr>\n",
       "      <th>1</th>\n",
       "      <td>1.0</td>\n",
       "      <td>2</td>\n",
       "      <td>5.0</td>\n",
       "      <td>1</td>\n",
       "      <td>5</td>\n",
       "      <td>2</td>\n",
       "      <td>5</td>\n",
       "      <td>4</td>\n",
       "      <td>5</td>\n",
       "      <td>1</td>\n",
       "      <td>...</td>\n",
       "      <td>2.0</td>\n",
       "      <td>3.0</td>\n",
       "      <td>2.0</td>\n",
       "      <td>1.0</td>\n",
       "      <td>1.0</td>\n",
       "      <td>5.0</td>\n",
       "      <td>4.0</td>\n",
       "      <td>3.0</td>\n",
       "      <td>5.0</td>\n",
       "      <td>4.0</td>\n",
       "    </tr>\n",
       "    <tr>\n",
       "      <th>2</th>\n",
       "      <td>3.0</td>\n",
       "      <td>2</td>\n",
       "      <td>3.0</td>\n",
       "      <td>1</td>\n",
       "      <td>4</td>\n",
       "      <td>1</td>\n",
       "      <td>2</td>\n",
       "      <td>3</td>\n",
       "      <td>5</td>\n",
       "      <td>1</td>\n",
       "      <td>...</td>\n",
       "      <td>3.0</td>\n",
       "      <td>3.0</td>\n",
       "      <td>1.0</td>\n",
       "      <td>0.0</td>\n",
       "      <td>1.0</td>\n",
       "      <td>4.0</td>\n",
       "      <td>4.0</td>\n",
       "      <td>3.0</td>\n",
       "      <td>5.0</td>\n",
       "      <td>2.0</td>\n",
       "    </tr>\n",
       "    <tr>\n",
       "      <th>3</th>\n",
       "      <td>4.0</td>\n",
       "      <td>2</td>\n",
       "      <td>2.0</td>\n",
       "      <td>4</td>\n",
       "      <td>2</td>\n",
       "      <td>5</td>\n",
       "      <td>2</td>\n",
       "      <td>1</td>\n",
       "      <td>2</td>\n",
       "      <td>6</td>\n",
       "      <td>...</td>\n",
       "      <td>2.0</td>\n",
       "      <td>2.0</td>\n",
       "      <td>2.0</td>\n",
       "      <td>0.0</td>\n",
       "      <td>1.0</td>\n",
       "      <td>3.0</td>\n",
       "      <td>4.0</td>\n",
       "      <td>2.0</td>\n",
       "      <td>3.0</td>\n",
       "      <td>3.0</td>\n",
       "    </tr>\n",
       "  </tbody>\n",
       "</table>\n",
       "<p>4 rows × 79 columns</p>\n",
       "</div>"
      ],
      "text/plain": [
       "   ALTERSKATEGORIE_GROB  ANREDE_KZ  CJT_GESAMTTYP  FINANZ_MINIMALIST  \\\n",
       "0                   2.0          1            2.0                  3   \n",
       "1                   1.0          2            5.0                  1   \n",
       "2                   3.0          2            3.0                  1   \n",
       "3                   4.0          2            2.0                  4   \n",
       "\n",
       "   FINANZ_SPARER  FINANZ_VORSORGER  FINANZ_ANLEGER  FINANZ_UNAUFFAELLIGER  \\\n",
       "0              4                 3               5                      5   \n",
       "1              5                 2               5                      4   \n",
       "2              4                 1               2                      3   \n",
       "3              2                 5               2                      1   \n",
       "\n",
       "   FINANZ_HAUSBAUER  FINANZTYP    ...     PLZ8_ANTG1  PLZ8_ANTG2  PLZ8_ANTG3  \\\n",
       "0                 3          4    ...            NaN         NaN         NaN   \n",
       "1                 5          1    ...            2.0         3.0         2.0   \n",
       "2                 5          1    ...            3.0         3.0         1.0   \n",
       "3                 2          6    ...            2.0         2.0         2.0   \n",
       "\n",
       "   PLZ8_ANTG4  PLZ8_BAUMAX  PLZ8_HHZ  PLZ8_GBZ  ARBEIT  ORTSGR_KLS9  RELAT_AB  \n",
       "0         NaN          NaN       NaN       NaN     NaN          NaN       NaN  \n",
       "1         1.0          1.0       5.0       4.0     3.0          5.0       4.0  \n",
       "2         0.0          1.0       4.0       4.0     3.0          5.0       2.0  \n",
       "3         0.0          1.0       3.0       4.0     2.0          3.0       3.0  \n",
       "\n",
       "[4 rows x 79 columns]"
      ]
     },
     "execution_count": 6,
     "metadata": {},
     "output_type": "execute_result"
    }
   ],
   "source": [
    "azdias_wkg.head(4)"
   ]
  },
  {
   "cell_type": "code",
   "execution_count": 7,
   "metadata": {},
   "outputs": [
    {
     "data": {
      "text/html": [
       "<div>\n",
       "<style>\n",
       "    .dataframe thead tr:only-child th {\n",
       "        text-align: right;\n",
       "    }\n",
       "\n",
       "    .dataframe thead th {\n",
       "        text-align: left;\n",
       "    }\n",
       "\n",
       "    .dataframe tbody tr th {\n",
       "        vertical-align: top;\n",
       "    }\n",
       "</style>\n",
       "<table border=\"1\" class=\"dataframe\">\n",
       "  <thead>\n",
       "    <tr style=\"text-align: right;\">\n",
       "      <th></th>\n",
       "      <th>information_level</th>\n",
       "      <th>type</th>\n",
       "      <th>missing_or_unknown</th>\n",
       "      <th>new</th>\n",
       "    </tr>\n",
       "    <tr>\n",
       "      <th>attribute</th>\n",
       "      <th></th>\n",
       "      <th></th>\n",
       "      <th></th>\n",
       "      <th></th>\n",
       "    </tr>\n",
       "  </thead>\n",
       "  <tbody>\n",
       "    <tr>\n",
       "      <th>ALTERSKATEGORIE_GROB</th>\n",
       "      <td>person</td>\n",
       "      <td>ordinal</td>\n",
       "      <td>[-1,0,9]</td>\n",
       "      <td>int64</td>\n",
       "    </tr>\n",
       "    <tr>\n",
       "      <th>ANREDE_KZ</th>\n",
       "      <td>person</td>\n",
       "      <td>categorical</td>\n",
       "      <td>[-1,0]</td>\n",
       "      <td>int64</td>\n",
       "    </tr>\n",
       "    <tr>\n",
       "      <th>ANZ_HAUSHALTE_AKTIV</th>\n",
       "      <td>building</td>\n",
       "      <td>numeric</td>\n",
       "      <td>[0]</td>\n",
       "      <td>float64</td>\n",
       "    </tr>\n",
       "    <tr>\n",
       "      <th>ANZ_HH_TITEL</th>\n",
       "      <td>building</td>\n",
       "      <td>numeric</td>\n",
       "      <td>[]</td>\n",
       "      <td>float64</td>\n",
       "    </tr>\n",
       "    <tr>\n",
       "      <th>ANZ_PERSONEN</th>\n",
       "      <td>household</td>\n",
       "      <td>numeric</td>\n",
       "      <td>[]</td>\n",
       "      <td>float64</td>\n",
       "    </tr>\n",
       "  </tbody>\n",
       "</table>\n",
       "</div>"
      ],
      "text/plain": [
       "                     information_level         type missing_or_unknown  \\\n",
       "attribute                                                                \n",
       "ALTERSKATEGORIE_GROB            person      ordinal           [-1,0,9]   \n",
       "ANREDE_KZ                       person  categorical             [-1,0]   \n",
       "ANZ_HAUSHALTE_AKTIV           building      numeric                [0]   \n",
       "ANZ_HH_TITEL                  building      numeric                 []   \n",
       "ANZ_PERSONEN                 household      numeric                 []   \n",
       "\n",
       "                          new  \n",
       "attribute                      \n",
       "ALTERSKATEGORIE_GROB    int64  \n",
       "ANREDE_KZ               int64  \n",
       "ANZ_HAUSHALTE_AKTIV   float64  \n",
       "ANZ_HH_TITEL          float64  \n",
       "ANZ_PERSONEN          float64  "
      ]
     },
     "execution_count": 7,
     "metadata": {},
     "output_type": "execute_result"
    }
   ],
   "source": [
    "feat_wkg.sort_index().head(5)"
   ]
  },
  {
   "cell_type": "markdown",
   "metadata": {},
   "source": [
    "Investigate patterns in the amount of missing data in each column.\n",
    "Notes:\n",
    "\n"
   ]
  },
  {
   "cell_type": "markdown",
   "metadata": {},
   "source": [
    "#### Discussion 1.1.2: Assess Missing Data in Each Column\n",
    "\n",
    "1) Top 6 columns are missing a significant amount of data so I have dropped these.\n",
    "    \n",
    "    TITEL_KZ\t    >50% for both sets of data    - CAT.-\n",
    "    AGER_TYP\t    >50% for both sets of data   -  CAT - age typology (elderly) (other age categories avail.)\n",
    "    KK_KUNDENTTYP   >50% for both sets of data   -  CAT - Cosumer pattern\n",
    "    KBA05_BAUMAX    >50% for both sets of data   - \n",
    "    GEBURTSJAHR\t    >25% for both sets of data    - Birth Year  (other age categories avail.)\n",
    "    ALTER_HH        >25% for both sets of data    _ birth era of head of household\n",
    "\n",
    " \n",
    "2) Groups of variables have between 10-25% missing data, these seems to be related, (i.e. there are whole sections missed by assumably the same people.  Waiting to see what we do with the row review to see if this gets cleaned up\n",
    "    \n",
    "    2a) Group 1\n",
    "        HEALTH_TYP\t111196\t0.124768\t48990\t0.255620\n",
    "        VERS_TYP\t111196\t0.124768\t48990\t0.255620\n",
    "        SHOPPER_TYP\t111196\t0.124768\t48990\t0.255620\n",
    "\n",
    "    2b)Group 2\n",
    "            NATIONALITAET_KZ\t108315\t0.121536\t48750\t0.254367\n",
    "        PRAEGENDE_JUGENDJAHRE\t108164\t0.121366\t48487\t0.252995\n",
    "\n",
    "    2c) Group 3 (probably only need FEIN and GROB but not both)\n",
    "        LP_LEBENSPHASE_FEIN\t92778\t0.104102\t47840\t0.249619\n",
    "        LP_LEBENSPHASE_GROB\t89718\t0.100669\t47728\t0.249035\n",
    "            LP_FAMILIE_GROB\t72938\t0.081841\t47369\t0.247162\n",
    "            LP_FAMILIE_FEIN\t72938\t0.081841\t47369\t0.247162\n",
    "\n"
   ]
  },
  {
   "cell_type": "markdown",
   "metadata": {},
   "source": [
    "Remove the outlier columns from the dataset. (You'll perform other data\n",
    "engineering tasks such as re-encoding and imputation later.)\n",
    "\n",
    "* NOTE: Removed columns listed in bullet 1) in above code"
   ]
  },
  {
   "cell_type": "markdown",
   "metadata": {},
   "source": [
    "#### Step 1.1.3: Assess Missing Data in Each Row\n",
    "\n",
    "Now, you'll perform a similar assessment for the rows of the dataset. How much data is missing in each row? As with the columns, you should see some groups of points that have a very different numbers of missing values. Divide the data into two subsets: one for data points that are above some threshold for missing values, and a second subset for points below that threshold.\n",
    "\n",
    "In order to know what to do with the outlier rows, we should see if the distribution of data values on columns that are not missing data (or are missing very little data) are similar or different between the two groups. Select at least five of these columns and compare the distribution of values.\n",
    "- You can use seaborn's [`countplot()`](https://seaborn.pydata.org/generated/seaborn.countplot.html) function to create a bar chart of code frequencies and matplotlib's [`subplot()`](https://matplotlib.org/api/_as_gen/matplotlib.pyplot.subplot.html) function to put bar charts for the two subplots side by side.\n",
    "- To reduce repeated code, you might want to write a function that can perform this comparison, taking as one of its arguments a column to be compared.\n",
    "\n",
    "Depending on what you observe in your comparison, this will have implications on how you approach your conclusions later in the analysis. If the distributions of non-missing features look similar between the data with many missing values and the data with few or no missing values, then we could argue that simply dropping those points from the analysis won't present a major issue. On the other hand, if the data with many missing values looks very different from the data with few or no missing values, then we should make a note on those data as special. We'll revisit these data later on. **Either way, you should continue your analysis for now using just the subset of the data with few or no missing values.**"
   ]
  },
  {
   "cell_type": "code",
   "execution_count": 8,
   "metadata": {},
   "outputs": [
    {
     "data": {
      "text/plain": [
       "(891221, 79)"
      ]
     },
     "execution_count": 8,
     "metadata": {},
     "output_type": "execute_result"
    }
   ],
   "source": [
    "azdias_wkg.shape"
   ]
  },
  {
   "cell_type": "markdown",
   "metadata": {},
   "source": [
    "#### Will create subset whereas all rows with >10% missing values will be removed"
   ]
  },
  {
   "cell_type": "code",
   "execution_count": 9,
   "metadata": {},
   "outputs": [],
   "source": [
    "# How much data is missing in each row of the dataset?"
   ]
  },
  {
   "cell_type": "code",
   "execution_count": 10,
   "metadata": {},
   "outputs": [
    {
     "data": {
      "image/png": "[encoded data removed]",
      "text/plain": [
       "<matplotlib.figure.Figure at 0x7fd8612da6a0>"
      ]
     },
     "metadata": {
      "needs_background": "light"
     },
     "output_type": "display_data"
    }
   ],
   "source": [
    "plt.hist(azdias_wkg.isnull().sum(axis=1)/azdias_wkg.shape[1]);\n"
   ]
  },
  {
   "cell_type": "code",
   "execution_count": 11,
   "metadata": {},
   "outputs": [],
   "source": [
    "# Write code to divide the data into two subsets based on the number of missing\n",
    "# values in each row  Split at 10% missing data (i.e. keep all rows with <= 10% of entries missing)\n",
    "azdias_above10 = azdias_wkg[azdias_wkg.isnull().sum(axis=1)/azdias_wkg.shape[1]>0.1]\n",
    "azdias_beloweq10 = azdias_wkg[azdias_wkg.isnull().sum(axis=1)/azdias_wkg.shape[1]<=0.1]"
   ]
  },
  {
   "cell_type": "code",
   "execution_count": 12,
   "metadata": {},
   "outputs": [
    {
     "data": {
      "image/png": "[encoded data removed]",
      "text/plain": [
       "<matplotlib.figure.Figure at 0x7fd8613a2c50>"
      ]
     },
     "metadata": {
      "needs_background": "light"
     },
     "output_type": "display_data"
    }
   ],
   "source": [
    "plt.hist(azdias_beloweq10.isnull().sum(axis=1)/azdias_beloweq10.shape[1],cumulative=True);"
   ]
  },
  {
   "cell_type": "code",
   "execution_count": 13,
   "metadata": {},
   "outputs": [
    {
     "data": {
      "text/plain": [
       "ZABEOTYP                   0\n",
       "SEMIO_REL                  0\n",
       "SEMIO_MAT                  0\n",
       "SEMIO_VERT                 0\n",
       "SEMIO_LUST                 0\n",
       "SEMIO_ERL                  0\n",
       "SEMIO_KULT                 0\n",
       "SEMIO_RAT                  0\n",
       "SEMIO_KRIT                 0\n",
       "SEMIO_DOM                  0\n",
       "SEMIO_KAEM                 0\n",
       "GREEN_AVANTGARDE           0\n",
       "SEMIO_PFLICHT              0\n",
       "FINANZTYP                  0\n",
       "FINANZ_HAUSBAUER           0\n",
       "FINANZ_UNAUFFAELLIGER      0\n",
       "FINANZ_ANLEGER             0\n",
       "FINANZ_VORSORGER           0\n",
       "FINANZ_SPARER              0\n",
       "FINANZ_MINIMALIST          0\n",
       "SEMIO_TRADV                0\n",
       "ANREDE_KZ                  0\n",
       "SEMIO_SOZ                  0\n",
       "SEMIO_FAM                  0\n",
       "ALTERSKATEGORIE_GROB     412\n",
       "dtype: int64"
      ]
     },
     "execution_count": 13,
     "metadata": {},
     "output_type": "execute_result"
    }
   ],
   "source": [
    "# Compare the distribution of values for at least five columns where there are\n",
    "# no or few missing values, between the two subsets.\n",
    "azdias_above10.isnull().sum().sort_values(ascending=True).head(25)"
   ]
  },
  {
   "cell_type": "code",
   "execution_count": 14,
   "metadata": {},
   "outputs": [
    {
     "data": {
      "text/plain": [
       "ZABEOTYP              0\n",
       "SEMIO_REL             0\n",
       "SEMIO_MAT             0\n",
       "SEMIO_VERT            0\n",
       "SEMIO_LUST            0\n",
       "SEMIO_ERL             0\n",
       "SEMIO_KULT            0\n",
       "SEMIO_RAT             0\n",
       "SEMIO_KRIT            0\n",
       "SEMIO_FAM             0\n",
       "SEMIO_DOM             0\n",
       "SEMIO_PFLICHT         0\n",
       "SEMIO_TRADV           0\n",
       "OST_WEST_KZ           0\n",
       "SOHO_KZ               0\n",
       "MIN_GEBAEUDEJAHR      0\n",
       "ANZ_PERSONEN          0\n",
       "ANZ_TITEL             0\n",
       "HH_EINKOMMEN_SCORE    0\n",
       "SEMIO_KAEM            0\n",
       "GEBAEUDETYP           0\n",
       "SEMIO_SOZ             0\n",
       "WOHNLAGE              0\n",
       "ANREDE_KZ             0\n",
       "CJT_GESAMTTYP         0\n",
       "dtype: int64"
      ]
     },
     "execution_count": 14,
     "metadata": {},
     "output_type": "execute_result"
    }
   ],
   "source": [
    "azdias_beloweq10.isnull().sum().sort_values(ascending=True).head(25)"
   ]
  },
  {
   "cell_type": "code",
   "execution_count": 15,
   "metadata": {},
   "outputs": [],
   "source": [
    "concat = pd.concat([azdias_beloweq10.assign(dataset='less or eq 10%'), azdias_above10.assign(dataset='more than 10%')])"
   ]
  },
  {
   "cell_type": "code",
   "execution_count": 16,
   "metadata": {},
   "outputs": [
    {
     "data": {
      "image/png": "[encoded data removed]",
      "text/plain": [
       "<matplotlib.figure.Figure at 0x7fd85b692be0>"
      ]
     },
     "metadata": {
      "needs_background": "light"
     },
     "output_type": "display_data"
    }
   ],
   "source": [
    "fig,ax = plt.subplots(ncols=2,nrows=3,figsize=(20,10));\n",
    "vars = ['SEMIO_KAEM','ZABEOTYP','HH_EINKOMMEN_SCORE','SOHO_KZ','ANREDE_KZ','ANZ_TITEL']\n",
    "for idx,axx in enumerate(ax.ravel()):\n",
    "    sns.countplot(x=vars[idx],data=concat,hue='dataset',ax=axx)\n"
   ]
  },
  {
   "cell_type": "code",
   "execution_count": 17,
   "metadata": {},
   "outputs": [],
   "source": [
    "\n",
    "azdias_wkg = azdias_beloweq10"
   ]
  },
  {
   "cell_type": "markdown",
   "metadata": {},
   "source": []
  },
  {
   "cell_type": "code",
   "execution_count": 18,
   "metadata": {},
   "outputs": [],
   "source": [
    "azdias_wkg.to_pickle('az_wkg_2.pickle')\n",
    "feat_wkg.to_pickle('feat_wkg_2.pickle')"
   ]
  },
  {
   "cell_type": "markdown",
   "metadata": {},
   "source": [
    "## CHECKPOINT 2"
   ]
  },
  {
   "cell_type": "code",
   "execution_count": 3,
   "metadata": {},
   "outputs": [],
   "source": [
    "azdias_wkg = pd.read_pickle('az_wkg_2.pickle')\n",
    "feat_wkg = pd.read_pickle('feat_wkg_2.pickle')"
   ]
  },
  {
   "cell_type": "markdown",
   "metadata": {},
   "source": [
    "#### Discussion 1.1.3: Assess Missing Data in Each Row\n",
    "\n",
    "(Double-click this cell and replace this text with your own text, reporting your observations regarding missing data in rows. Are the data with lots of missing values are qualitatively different from data with few or no missing values?)\n",
    "\n",
    "{need more content}\n",
    "\n",
    "Looks like ther eis some ditribution differences in teh data\n",
    "Its difficult to discern because of the scaling.   \n",
    "    SEMIO_KAEM certainly has a different distribution\n",
    "    The rest look *similar* but its difficult to completely discern"
   ]
  },
  {
   "cell_type": "markdown",
   "metadata": {},
   "source": [
    "### Step 1.2: Select and Re-Encode Features\n",
    "\n",
    "Checking for missing data isn't the only way in which you can prepare a dataset for analysis. Since the unsupervised learning techniques to be used will only work on data that is encoded numerically, you need to make a few encoding changes or additional assumptions to be able to make progress. In addition, while almost all of the values in the dataset are encoded using numbers, not all of them represent numeric values. Check the third column of the feature summary (`feat_info`) for a summary of types of measurement.\n",
    "- For numeric and interval data, these features can be kept without changes.\n",
    "- Most of the variables in the dataset are ordinal in nature. While ordinal values may technically be non-linear in spacing, make the simplifying assumption that the ordinal variables can be treated as being interval in nature (that is, kept without any changes).\n",
    "- Special handling may be necessary for the remaining two variable types: categorical, and 'mixed'.\n",
    "\n",
    "In the first two parts of this sub-step, you will perform an investigation of the categorical and mixed-type features and make a decision on each of them, whether you will keep, drop, or re-encode each. Then, in the last part, you will create a new data frame with only the selected and engineered columns.\n",
    "\n",
    "Data wrangling is often the trickiest part of the data analysis process, and there's a lot of it to be done here. But stick with it: once you're done with this step, you'll be ready to get to the machine learning parts of the project!"
   ]
  },
  {
   "cell_type": "code",
   "execution_count": 4,
   "metadata": {},
   "outputs": [],
   "source": [
    "# How many features are there of each data type?\n",
    "# Load in the feature summary file.\n"
   ]
  },
  {
   "cell_type": "code",
   "execution_count": 5,
   "metadata": {},
   "outputs": [
    {
     "name": "stdout",
     "output_type": "stream",
     "text": [
      "             information_level  missing_or_unknown  new\n",
      "type                                                   \n",
      "categorical                 18                  18   18\n",
      "mixed                        6                   6    6\n",
      "numeric                      6                   6    6\n",
      "ordinal                     49                  49   49\n"
     ]
    }
   ],
   "source": [
    "# Assess categorical variables: which are binary, which are multi-level, and\n",
    "# which one needs to be re-encoded?\n",
    "print(feat_wkg.groupby('type').count())\n",
    "ordinal = feat_wkg[feat_wkg['type']=='ordinal']\n",
    "interval = feat_wkg[feat_wkg['type']=='interval']\n",
    "categorical = feat_wkg[feat_wkg['type']=='categorical']\n",
    "numerical = feat_wkg[feat_wkg['type']=='numeric']\n",
    "mixed = feat_wkg[feat_wkg['type']=='mixed']\n"
   ]
  },
  {
   "cell_type": "markdown",
   "metadata": {},
   "source": [
    " assess ordinal (categorical or numerical)  and sort into appropraite groups"
   ]
  },
  {
   "cell_type": "code",
   "execution_count": 6,
   "metadata": {
    "collapsed": true,
    "jupyter": {
     "outputs_hidden": true
    }
   },
   "outputs": [
    {
     "data": {
      "text/plain": [
       "Index(['ALTERSKATEGORIE_GROB', 'FINANZ_MINIMALIST', 'FINANZ_SPARER',\n",
       "       'FINANZ_VORSORGER', 'FINANZ_ANLEGER', 'FINANZ_UNAUFFAELLIGER',\n",
       "       'FINANZ_HAUSBAUER', 'HEALTH_TYP', 'RETOURTYP_BK_S', 'SEMIO_SOZ',\n",
       "       'SEMIO_FAM', 'SEMIO_REL', 'SEMIO_MAT', 'SEMIO_VERT', 'SEMIO_LUST',\n",
       "       'SEMIO_ERL', 'SEMIO_KULT', 'SEMIO_RAT', 'SEMIO_KRIT', 'SEMIO_DOM',\n",
       "       'SEMIO_KAEM', 'SEMIO_PFLICHT', 'SEMIO_TRADV', 'HH_EINKOMMEN_SCORE',\n",
       "       'W_KEIT_KIND_HH', 'WOHNDAUER_2008', 'KONSUMNAEHE', 'KBA05_ANTG1',\n",
       "       'KBA05_ANTG2', 'KBA05_ANTG3', 'KBA05_ANTG4', 'KBA05_GBZ', 'BALLRAUM',\n",
       "       'EWDICHTE', 'INNENSTADT', 'GEBAEUDETYP_RASTER', 'KKK', 'MOBI_REGIO',\n",
       "       'ONLINE_AFFINITAET', 'REGIOTYP', 'PLZ8_ANTG1', 'PLZ8_ANTG2',\n",
       "       'PLZ8_ANTG3', 'PLZ8_ANTG4', 'PLZ8_HHZ', 'PLZ8_GBZ', 'ARBEIT',\n",
       "       'ORTSGR_KLS9', 'RELAT_AB'],\n",
       "      dtype='object', name='attribute')"
      ]
     },
     "execution_count": 6,
     "metadata": {},
     "output_type": "execute_result"
    }
   ],
   "source": [
    "ordinal.index"
   ]
  },
  {
   "cell_type": "code",
   "execution_count": 7,
   "metadata": {
    "collapsed": true,
    "jupyter": {
     "outputs_hidden": true
    }
   },
   "outputs": [
    {
     "data": {
      "text/plain": [
       "Index(['ANREDE_KZ', 'CJT_GESAMTTYP', 'FINANZTYP', 'GFK_URLAUBERTYP',\n",
       "       'GREEN_AVANTGARDE', 'LP_FAMILIE_FEIN', 'LP_FAMILIE_GROB',\n",
       "       'LP_STATUS_FEIN', 'LP_STATUS_GROB', 'NATIONALITAET_KZ', 'SHOPPER_TYP',\n",
       "       'SOHO_KZ', 'VERS_TYP', 'ZABEOTYP', 'GEBAEUDETYP', 'OST_WEST_KZ',\n",
       "       'CAMEO_DEUG_2015', 'CAMEO_DEU_2015'],\n",
       "      dtype='object', name='attribute')"
      ]
     },
     "execution_count": 7,
     "metadata": {},
     "output_type": "execute_result"
    }
   ],
   "source": [
    "categorical.index"
   ]
  },
  {
   "cell_type": "code",
   "execution_count": 8,
   "metadata": {
    "collapsed": true,
    "jupyter": {
     "outputs_hidden": true
    }
   },
   "outputs": [
    {
     "data": {
      "text/plain": [
       "Index(['ANZ_PERSONEN', 'ANZ_TITEL', 'ANZ_HAUSHALTE_AKTIV', 'ANZ_HH_TITEL',\n",
       "       'MIN_GEBAEUDEJAHR', 'KBA13_ANZAHL_PKW'],\n",
       "      dtype='object', name='attribute')"
      ]
     },
     "execution_count": 8,
     "metadata": {},
     "output_type": "execute_result"
    }
   ],
   "source": [
    "numerical.index"
   ]
  },
  {
   "cell_type": "code",
   "execution_count": 9,
   "metadata": {
    "collapsed": true,
    "jupyter": {
     "outputs_hidden": true
    }
   },
   "outputs": [
    {
     "data": {
      "text/plain": [
       "Index(['LP_LEBENSPHASE_FEIN', 'LP_LEBENSPHASE_GROB', 'PRAEGENDE_JUGENDJAHRE',\n",
       "       'WOHNLAGE', 'CAMEO_INTL_2015', 'PLZ8_BAUMAX'],\n",
       "      dtype='object', name='attribute')"
      ]
     },
     "execution_count": 9,
     "metadata": {},
     "output_type": "execute_result"
    }
   ],
   "source": [
    "mixed.index"
   ]
  },
  {
   "cell_type": "code",
   "execution_count": 10,
   "metadata": {},
   "outputs": [],
   "source": [
    "# Separate clearly ordinal from ambiguously ordinal\n",
    "\n",
    "ordinal_interval_1 = pd.Index(['KONSUMNAEHE',\n",
    "                             'ORTSGR_KLS9',\n",
    "                             'WOHNDAUER_2008',\n",
    "                             'PLZ8_GBZ',\n",
    "                             'PLZ8_HHZ',\n",
    "                             'KBA05_GBZ',\n",
    "                             'ALTERSKATEGORIE_GROB',\n",
    "                             'INNENSTADT',\n",
    "                             'BALLRAUM',\n",
    "                             'EWDICHTE'],dtype=object,name='attribute')\n",
    "\n",
    "ordinal_amb = ['FINANZ_MINIMALIST','FINANZ_SPARER','FINANZ_VORSORGER','FINANZ_ANLEGER',\n",
    "               'FINANZ_UNAUFFAELLIGER','FINANZ_UNAUFFAELLIGER','FINANZ_HAUSBAUER','SEMIO_SOZ',\n",
    "               'SEMIO_FAM', 'SEMIO_REL', 'SEMIO_MAT', 'SEMIO_VERT', 'SEMIO_LUST','SEMIO_ERL',\n",
    "               'SEMIO_KULT', 'SEMIO_RAT', 'SEMIO_KRIT', 'SEMIO_DOM','SEMIO_KAEM', 'SEMIO_PFLICHT',\n",
    "               'SEMIO_TRADV','HH_EINKOMMEN_SCORE','W_KEIT_KIND_HH','KBA05_ANTG1','KBA05_ANTG2',\n",
    "               'KBA05_ANTG3', 'KBA05_ANTG4','KKK','MOBI_REGIO','ONLINE_AFFINITAET','PLZ8_ANTG1', \n",
    "               'PLZ8_ANTG2','PLZ8_ANTG3', 'PLZ8_ANTG4','ARBEIT','RELAT_AB']"
   ]
  },
  {
   "cell_type": "code",
   "execution_count": 11,
   "metadata": {
    "collapsed": true,
    "jupyter": {
     "outputs_hidden": true
    }
   },
   "outputs": [
    {
     "data": {
      "text/plain": [
       "['KONSUMNAEHE',\n",
       " 'ORTSGR_KLS9',\n",
       " 'WOHNDAUER_2008',\n",
       " 'PLZ8_GBZ',\n",
       " 'PLZ8_HHZ',\n",
       " 'KBA05_GBZ',\n",
       " 'ALTERSKATEGORIE_GROB',\n",
       " 'INNENSTADT',\n",
       " 'BALLRAUM',\n",
       " 'EWDICHTE']"
      ]
     },
     "execution_count": 11,
     "metadata": {},
     "output_type": "execute_result"
    }
   ],
   "source": [
    "ordinal_interval_1.tolist()"
   ]
  },
  {
   "cell_type": "code",
   "execution_count": 12,
   "metadata": {},
   "outputs": [],
   "source": [
    "interval= interval.append(ordinal.loc[(ordinal_interval_1),:])\n",
    "ordinal = ordinal.drop(ordinal_interval_1,axis=0)"
   ]
  },
  {
   "cell_type": "code",
   "execution_count": 13,
   "metadata": {},
   "outputs": [],
   "source": [
    "categorical = categorical.append(ordinal)"
   ]
  },
  {
   "cell_type": "code",
   "execution_count": 14,
   "metadata": {},
   "outputs": [],
   "source": [
    "feat_wkg.loc[categorical.index,'type']='categorical'"
   ]
  },
  {
   "cell_type": "code",
   "execution_count": 15,
   "metadata": {},
   "outputs": [],
   "source": [
    "feat_wkg.loc[ordinal_interval_1.tolist(),'type']='numeric'"
   ]
  },
  {
   "cell_type": "code",
   "execution_count": 16,
   "metadata": {
    "collapsed": true,
    "jupyter": {
     "outputs_hidden": true
    }
   },
   "outputs": [
    {
     "data": {
      "text/html": [
       "<div>\n",
       "<style>\n",
       "    .dataframe thead tr:only-child th {\n",
       "        text-align: right;\n",
       "    }\n",
       "\n",
       "    .dataframe thead th {\n",
       "        text-align: left;\n",
       "    }\n",
       "\n",
       "    .dataframe tbody tr th {\n",
       "        vertical-align: top;\n",
       "    }\n",
       "</style>\n",
       "<table border=\"1\" class=\"dataframe\">\n",
       "  <thead>\n",
       "    <tr style=\"text-align: right;\">\n",
       "      <th></th>\n",
       "      <th>information_level</th>\n",
       "      <th>missing_or_unknown</th>\n",
       "      <th>new</th>\n",
       "    </tr>\n",
       "    <tr>\n",
       "      <th>type</th>\n",
       "      <th></th>\n",
       "      <th></th>\n",
       "      <th></th>\n",
       "    </tr>\n",
       "  </thead>\n",
       "  <tbody>\n",
       "    <tr>\n",
       "      <th>categorical</th>\n",
       "      <td>57</td>\n",
       "      <td>57</td>\n",
       "      <td>57</td>\n",
       "    </tr>\n",
       "    <tr>\n",
       "      <th>mixed</th>\n",
       "      <td>6</td>\n",
       "      <td>6</td>\n",
       "      <td>6</td>\n",
       "    </tr>\n",
       "    <tr>\n",
       "      <th>numeric</th>\n",
       "      <td>16</td>\n",
       "      <td>16</td>\n",
       "      <td>16</td>\n",
       "    </tr>\n",
       "  </tbody>\n",
       "</table>\n",
       "</div>"
      ],
      "text/plain": [
       "             information_level  missing_or_unknown  new\n",
       "type                                                   \n",
       "categorical                 57                  57   57\n",
       "mixed                        6                   6    6\n",
       "numeric                     16                  16   16"
      ]
     },
     "execution_count": 16,
     "metadata": {},
     "output_type": "execute_result"
    }
   ],
   "source": [
    "feat_wkg.groupby('type').count()"
   ]
  },
  {
   "cell_type": "markdown",
   "metadata": {},
   "source": [
    "#### Step 1.2.1: Re-Encode Categorical Features\n",
    "\n",
    "For categorical data, you would ordinarily need to encode the levels as dummy variables. Depending on the number of categories, perform one of the following:\n",
    "- For binary (two-level) categoricals that take numeric values, you can keep them without needing to do anything.\n",
    "- There is one binary variable that takes on non-numeric values. For this one, you need to re-encode the values as numbers or create a dummy variable.\n",
    "- For multi-level categoricals (three or more values), you can choose to encode the values using multiple dummy variables (e.g. via [OneHotEncoder](http://scikit-learn.org/stable/modules/generated/sklearn.preprocessing.OneHotEncoder.html)), or (to keep things straightforward) just drop them from the analysis. As always, document your choices in the Discussion section."
   ]
  },
  {
   "cell_type": "code",
   "execution_count": null,
   "metadata": {},
   "outputs": [],
   "source": []
  },
  {
   "cell_type": "code",
   "execution_count": 17,
   "metadata": {
    "collapsed": true,
    "jupyter": {
     "outputs_hidden": true
    }
   },
   "outputs": [
    {
     "data": {
      "text/plain": [
       "Index(['ANREDE_KZ', 'CJT_GESAMTTYP', 'FINANZTYP', 'GFK_URLAUBERTYP',\n",
       "       'GREEN_AVANTGARDE', 'LP_FAMILIE_FEIN', 'LP_FAMILIE_GROB',\n",
       "       'LP_STATUS_FEIN', 'LP_STATUS_GROB', 'NATIONALITAET_KZ', 'SHOPPER_TYP',\n",
       "       'SOHO_KZ', 'VERS_TYP', 'ZABEOTYP', 'GEBAEUDETYP', 'OST_WEST_KZ',\n",
       "       'CAMEO_DEUG_2015', 'CAMEO_DEU_2015', 'FINANZ_MINIMALIST',\n",
       "       'FINANZ_SPARER', 'FINANZ_VORSORGER', 'FINANZ_ANLEGER',\n",
       "       'FINANZ_UNAUFFAELLIGER', 'FINANZ_HAUSBAUER', 'HEALTH_TYP',\n",
       "       'RETOURTYP_BK_S', 'SEMIO_SOZ', 'SEMIO_FAM', 'SEMIO_REL', 'SEMIO_MAT',\n",
       "       'SEMIO_VERT', 'SEMIO_LUST', 'SEMIO_ERL', 'SEMIO_KULT', 'SEMIO_RAT',\n",
       "       'SEMIO_KRIT', 'SEMIO_DOM', 'SEMIO_KAEM', 'SEMIO_PFLICHT', 'SEMIO_TRADV',\n",
       "       'HH_EINKOMMEN_SCORE', 'W_KEIT_KIND_HH', 'KBA05_ANTG1', 'KBA05_ANTG2',\n",
       "       'KBA05_ANTG3', 'KBA05_ANTG4', 'GEBAEUDETYP_RASTER', 'KKK', 'MOBI_REGIO',\n",
       "       'ONLINE_AFFINITAET', 'REGIOTYP', 'PLZ8_ANTG1', 'PLZ8_ANTG2',\n",
       "       'PLZ8_ANTG3', 'PLZ8_ANTG4', 'ARBEIT', 'RELAT_AB'],\n",
       "      dtype='object', name='attribute')"
      ]
     },
     "execution_count": 17,
     "metadata": {},
     "output_type": "execute_result"
    }
   ],
   "source": [
    "# 1) Idenitify two level categoricals  ]\n",
    "categorical.index"
   ]
  },
  {
   "cell_type": "code",
   "execution_count": 18,
   "metadata": {},
   "outputs": [],
   "source": [
    "CAT_DROP = ['CAMEO_DEUG_2015','LP_FAMILIE_FEIN','LP_STATUS_FEIN']\n",
    "MIX_DROP = ['LP_LEBENSPHASE_FEIN']\n",
    "# Dropping 1.11, 1.13, and 1.15 because there are similar gross scales.  \n",
    "# Dropping 4.1 because there are three Cameos all the same. 4.1 is a gross scale similar ot 1.12 but the fine scale 4.2 contained additional descriptors that are not found other places in the data dictionar that can be useful to marketing\n",
    "# 4.3 also contains similar gross scale"
   ]
  },
  {
   "cell_type": "code",
   "execution_count": 19,
   "metadata": {
    "collapsed": true,
    "jupyter": {
     "outputs_hidden": true
    }
   },
   "outputs": [
    {
     "data": {
      "text/html": [
       "<div>\n",
       "<style>\n",
       "    .dataframe thead tr:only-child th {\n",
       "        text-align: right;\n",
       "    }\n",
       "\n",
       "    .dataframe thead th {\n",
       "        text-align: left;\n",
       "    }\n",
       "\n",
       "    .dataframe tbody tr th {\n",
       "        vertical-align: top;\n",
       "    }\n",
       "</style>\n",
       "<table border=\"1\" class=\"dataframe\">\n",
       "  <thead>\n",
       "    <tr style=\"text-align: right;\">\n",
       "      <th></th>\n",
       "      <th>ALTERSKATEGORIE_GROB</th>\n",
       "      <th>ANREDE_KZ</th>\n",
       "      <th>CJT_GESAMTTYP</th>\n",
       "      <th>FINANZ_MINIMALIST</th>\n",
       "      <th>FINANZ_SPARER</th>\n",
       "      <th>FINANZ_VORSORGER</th>\n",
       "      <th>FINANZ_ANLEGER</th>\n",
       "      <th>FINANZ_UNAUFFAELLIGER</th>\n",
       "      <th>FINANZ_HAUSBAUER</th>\n",
       "      <th>FINANZTYP</th>\n",
       "      <th>...</th>\n",
       "      <th>PLZ8_ANTG1</th>\n",
       "      <th>PLZ8_ANTG2</th>\n",
       "      <th>PLZ8_ANTG3</th>\n",
       "      <th>PLZ8_ANTG4</th>\n",
       "      <th>PLZ8_BAUMAX</th>\n",
       "      <th>PLZ8_HHZ</th>\n",
       "      <th>PLZ8_GBZ</th>\n",
       "      <th>ARBEIT</th>\n",
       "      <th>ORTSGR_KLS9</th>\n",
       "      <th>RELAT_AB</th>\n",
       "    </tr>\n",
       "  </thead>\n",
       "  <tbody>\n",
       "    <tr>\n",
       "      <th>1</th>\n",
       "      <td>1.0</td>\n",
       "      <td>2</td>\n",
       "      <td>5.0</td>\n",
       "      <td>1</td>\n",
       "      <td>5</td>\n",
       "      <td>2</td>\n",
       "      <td>5</td>\n",
       "      <td>4</td>\n",
       "      <td>5</td>\n",
       "      <td>1</td>\n",
       "      <td>...</td>\n",
       "      <td>2.0</td>\n",
       "      <td>3.0</td>\n",
       "      <td>2.0</td>\n",
       "      <td>1.0</td>\n",
       "      <td>1.0</td>\n",
       "      <td>5.0</td>\n",
       "      <td>4.0</td>\n",
       "      <td>3.0</td>\n",
       "      <td>5.0</td>\n",
       "      <td>4.0</td>\n",
       "    </tr>\n",
       "    <tr>\n",
       "      <th>2</th>\n",
       "      <td>3.0</td>\n",
       "      <td>2</td>\n",
       "      <td>3.0</td>\n",
       "      <td>1</td>\n",
       "      <td>4</td>\n",
       "      <td>1</td>\n",
       "      <td>2</td>\n",
       "      <td>3</td>\n",
       "      <td>5</td>\n",
       "      <td>1</td>\n",
       "      <td>...</td>\n",
       "      <td>3.0</td>\n",
       "      <td>3.0</td>\n",
       "      <td>1.0</td>\n",
       "      <td>0.0</td>\n",
       "      <td>1.0</td>\n",
       "      <td>4.0</td>\n",
       "      <td>4.0</td>\n",
       "      <td>3.0</td>\n",
       "      <td>5.0</td>\n",
       "      <td>2.0</td>\n",
       "    </tr>\n",
       "    <tr>\n",
       "      <th>3</th>\n",
       "      <td>4.0</td>\n",
       "      <td>2</td>\n",
       "      <td>2.0</td>\n",
       "      <td>4</td>\n",
       "      <td>2</td>\n",
       "      <td>5</td>\n",
       "      <td>2</td>\n",
       "      <td>1</td>\n",
       "      <td>2</td>\n",
       "      <td>6</td>\n",
       "      <td>...</td>\n",
       "      <td>2.0</td>\n",
       "      <td>2.0</td>\n",
       "      <td>2.0</td>\n",
       "      <td>0.0</td>\n",
       "      <td>1.0</td>\n",
       "      <td>3.0</td>\n",
       "      <td>4.0</td>\n",
       "      <td>2.0</td>\n",
       "      <td>3.0</td>\n",
       "      <td>3.0</td>\n",
       "    </tr>\n",
       "    <tr>\n",
       "      <th>4</th>\n",
       "      <td>3.0</td>\n",
       "      <td>1</td>\n",
       "      <td>5.0</td>\n",
       "      <td>4</td>\n",
       "      <td>3</td>\n",
       "      <td>4</td>\n",
       "      <td>1</td>\n",
       "      <td>3</td>\n",
       "      <td>2</td>\n",
       "      <td>5</td>\n",
       "      <td>...</td>\n",
       "      <td>2.0</td>\n",
       "      <td>4.0</td>\n",
       "      <td>2.0</td>\n",
       "      <td>1.0</td>\n",
       "      <td>2.0</td>\n",
       "      <td>3.0</td>\n",
       "      <td>3.0</td>\n",
       "      <td>4.0</td>\n",
       "      <td>6.0</td>\n",
       "      <td>5.0</td>\n",
       "    </tr>\n",
       "    <tr>\n",
       "      <th>5</th>\n",
       "      <td>1.0</td>\n",
       "      <td>2</td>\n",
       "      <td>2.0</td>\n",
       "      <td>3</td>\n",
       "      <td>1</td>\n",
       "      <td>5</td>\n",
       "      <td>2</td>\n",
       "      <td>2</td>\n",
       "      <td>5</td>\n",
       "      <td>2</td>\n",
       "      <td>...</td>\n",
       "      <td>2.0</td>\n",
       "      <td>3.0</td>\n",
       "      <td>1.0</td>\n",
       "      <td>1.0</td>\n",
       "      <td>1.0</td>\n",
       "      <td>5.0</td>\n",
       "      <td>5.0</td>\n",
       "      <td>2.0</td>\n",
       "      <td>3.0</td>\n",
       "      <td>3.0</td>\n",
       "    </tr>\n",
       "    <tr>\n",
       "      <th>6</th>\n",
       "      <td>2.0</td>\n",
       "      <td>2</td>\n",
       "      <td>5.0</td>\n",
       "      <td>1</td>\n",
       "      <td>5</td>\n",
       "      <td>1</td>\n",
       "      <td>5</td>\n",
       "      <td>4</td>\n",
       "      <td>3</td>\n",
       "      <td>4</td>\n",
       "      <td>...</td>\n",
       "      <td>3.0</td>\n",
       "      <td>3.0</td>\n",
       "      <td>1.0</td>\n",
       "      <td>0.0</td>\n",
       "      <td>1.0</td>\n",
       "      <td>5.0</td>\n",
       "      <td>5.0</td>\n",
       "      <td>4.0</td>\n",
       "      <td>6.0</td>\n",
       "      <td>3.0</td>\n",
       "    </tr>\n",
       "    <tr>\n",
       "      <th>7</th>\n",
       "      <td>1.0</td>\n",
       "      <td>1</td>\n",
       "      <td>3.0</td>\n",
       "      <td>3</td>\n",
       "      <td>3</td>\n",
       "      <td>4</td>\n",
       "      <td>1</td>\n",
       "      <td>3</td>\n",
       "      <td>2</td>\n",
       "      <td>5</td>\n",
       "      <td>...</td>\n",
       "      <td>3.0</td>\n",
       "      <td>3.0</td>\n",
       "      <td>1.0</td>\n",
       "      <td>0.0</td>\n",
       "      <td>1.0</td>\n",
       "      <td>4.0</td>\n",
       "      <td>4.0</td>\n",
       "      <td>2.0</td>\n",
       "      <td>5.0</td>\n",
       "      <td>2.0</td>\n",
       "    </tr>\n",
       "    <tr>\n",
       "      <th>8</th>\n",
       "      <td>3.0</td>\n",
       "      <td>1</td>\n",
       "      <td>3.0</td>\n",
       "      <td>4</td>\n",
       "      <td>4</td>\n",
       "      <td>2</td>\n",
       "      <td>4</td>\n",
       "      <td>2</td>\n",
       "      <td>2</td>\n",
       "      <td>6</td>\n",
       "      <td>...</td>\n",
       "      <td>2.0</td>\n",
       "      <td>3.0</td>\n",
       "      <td>2.0</td>\n",
       "      <td>1.0</td>\n",
       "      <td>1.0</td>\n",
       "      <td>3.0</td>\n",
       "      <td>3.0</td>\n",
       "      <td>2.0</td>\n",
       "      <td>4.0</td>\n",
       "      <td>3.0</td>\n",
       "    </tr>\n",
       "    <tr>\n",
       "      <th>9</th>\n",
       "      <td>3.0</td>\n",
       "      <td>2</td>\n",
       "      <td>4.0</td>\n",
       "      <td>2</td>\n",
       "      <td>4</td>\n",
       "      <td>2</td>\n",
       "      <td>3</td>\n",
       "      <td>5</td>\n",
       "      <td>4</td>\n",
       "      <td>1</td>\n",
       "      <td>...</td>\n",
       "      <td>2.0</td>\n",
       "      <td>3.0</td>\n",
       "      <td>2.0</td>\n",
       "      <td>1.0</td>\n",
       "      <td>1.0</td>\n",
       "      <td>3.0</td>\n",
       "      <td>3.0</td>\n",
       "      <td>2.0</td>\n",
       "      <td>3.0</td>\n",
       "      <td>1.0</td>\n",
       "    </tr>\n",
       "    <tr>\n",
       "      <th>10</th>\n",
       "      <td>3.0</td>\n",
       "      <td>2</td>\n",
       "      <td>1.0</td>\n",
       "      <td>2</td>\n",
       "      <td>2</td>\n",
       "      <td>5</td>\n",
       "      <td>3</td>\n",
       "      <td>1</td>\n",
       "      <td>5</td>\n",
       "      <td>6</td>\n",
       "      <td>...</td>\n",
       "      <td>2.0</td>\n",
       "      <td>4.0</td>\n",
       "      <td>2.0</td>\n",
       "      <td>0.0</td>\n",
       "      <td>2.0</td>\n",
       "      <td>3.0</td>\n",
       "      <td>3.0</td>\n",
       "      <td>4.0</td>\n",
       "      <td>6.0</td>\n",
       "      <td>5.0</td>\n",
       "    </tr>\n",
       "    <tr>\n",
       "      <th>12</th>\n",
       "      <td>3.0</td>\n",
       "      <td>1</td>\n",
       "      <td>6.0</td>\n",
       "      <td>5</td>\n",
       "      <td>3</td>\n",
       "      <td>4</td>\n",
       "      <td>2</td>\n",
       "      <td>4</td>\n",
       "      <td>1</td>\n",
       "      <td>3</td>\n",
       "      <td>...</td>\n",
       "      <td>3.0</td>\n",
       "      <td>3.0</td>\n",
       "      <td>1.0</td>\n",
       "      <td>0.0</td>\n",
       "      <td>1.0</td>\n",
       "      <td>5.0</td>\n",
       "      <td>5.0</td>\n",
       "      <td>3.0</td>\n",
       "      <td>6.0</td>\n",
       "      <td>4.0</td>\n",
       "    </tr>\n",
       "    <tr>\n",
       "      <th>16</th>\n",
       "      <td>1.0</td>\n",
       "      <td>2</td>\n",
       "      <td>1.0</td>\n",
       "      <td>4</td>\n",
       "      <td>3</td>\n",
       "      <td>1</td>\n",
       "      <td>4</td>\n",
       "      <td>5</td>\n",
       "      <td>1</td>\n",
       "      <td>3</td>\n",
       "      <td>...</td>\n",
       "      <td>3.0</td>\n",
       "      <td>3.0</td>\n",
       "      <td>1.0</td>\n",
       "      <td>0.0</td>\n",
       "      <td>1.0</td>\n",
       "      <td>3.0</td>\n",
       "      <td>4.0</td>\n",
       "      <td>1.0</td>\n",
       "      <td>2.0</td>\n",
       "      <td>1.0</td>\n",
       "    </tr>\n",
       "    <tr>\n",
       "      <th>18</th>\n",
       "      <td>2.0</td>\n",
       "      <td>2</td>\n",
       "      <td>6.0</td>\n",
       "      <td>2</td>\n",
       "      <td>4</td>\n",
       "      <td>1</td>\n",
       "      <td>5</td>\n",
       "      <td>4</td>\n",
       "      <td>1</td>\n",
       "      <td>1</td>\n",
       "      <td>...</td>\n",
       "      <td>2.0</td>\n",
       "      <td>3.0</td>\n",
       "      <td>2.0</td>\n",
       "      <td>1.0</td>\n",
       "      <td>1.0</td>\n",
       "      <td>3.0</td>\n",
       "      <td>3.0</td>\n",
       "      <td>3.0</td>\n",
       "      <td>4.0</td>\n",
       "      <td>3.0</td>\n",
       "    </tr>\n",
       "    <tr>\n",
       "      <th>19</th>\n",
       "      <td>3.0</td>\n",
       "      <td>1</td>\n",
       "      <td>3.0</td>\n",
       "      <td>5</td>\n",
       "      <td>2</td>\n",
       "      <td>3</td>\n",
       "      <td>1</td>\n",
       "      <td>3</td>\n",
       "      <td>1</td>\n",
       "      <td>5</td>\n",
       "      <td>...</td>\n",
       "      <td>2.0</td>\n",
       "      <td>4.0</td>\n",
       "      <td>2.0</td>\n",
       "      <td>1.0</td>\n",
       "      <td>2.0</td>\n",
       "      <td>5.0</td>\n",
       "      <td>4.0</td>\n",
       "      <td>4.0</td>\n",
       "      <td>6.0</td>\n",
       "      <td>3.0</td>\n",
       "    </tr>\n",
       "    <tr>\n",
       "      <th>21</th>\n",
       "      <td>2.0</td>\n",
       "      <td>1</td>\n",
       "      <td>3.0</td>\n",
       "      <td>3</td>\n",
       "      <td>4</td>\n",
       "      <td>1</td>\n",
       "      <td>2</td>\n",
       "      <td>5</td>\n",
       "      <td>1</td>\n",
       "      <td>3</td>\n",
       "      <td>...</td>\n",
       "      <td>1.0</td>\n",
       "      <td>4.0</td>\n",
       "      <td>3.0</td>\n",
       "      <td>2.0</td>\n",
       "      <td>4.0</td>\n",
       "      <td>4.0</td>\n",
       "      <td>3.0</td>\n",
       "      <td>5.0</td>\n",
       "      <td>7.0</td>\n",
       "      <td>5.0</td>\n",
       "    </tr>\n",
       "    <tr>\n",
       "      <th>22</th>\n",
       "      <td>1.0</td>\n",
       "      <td>1</td>\n",
       "      <td>4.0</td>\n",
       "      <td>1</td>\n",
       "      <td>5</td>\n",
       "      <td>3</td>\n",
       "      <td>5</td>\n",
       "      <td>5</td>\n",
       "      <td>5</td>\n",
       "      <td>1</td>\n",
       "      <td>...</td>\n",
       "      <td>2.0</td>\n",
       "      <td>4.0</td>\n",
       "      <td>2.0</td>\n",
       "      <td>1.0</td>\n",
       "      <td>2.0</td>\n",
       "      <td>4.0</td>\n",
       "      <td>3.0</td>\n",
       "      <td>4.0</td>\n",
       "      <td>5.0</td>\n",
       "      <td>5.0</td>\n",
       "    </tr>\n",
       "    <tr>\n",
       "      <th>25</th>\n",
       "      <td>1.0</td>\n",
       "      <td>1</td>\n",
       "      <td>3.0</td>\n",
       "      <td>3</td>\n",
       "      <td>5</td>\n",
       "      <td>3</td>\n",
       "      <td>5</td>\n",
       "      <td>4</td>\n",
       "      <td>3</td>\n",
       "      <td>4</td>\n",
       "      <td>...</td>\n",
       "      <td>2.0</td>\n",
       "      <td>2.0</td>\n",
       "      <td>0.0</td>\n",
       "      <td>0.0</td>\n",
       "      <td>1.0</td>\n",
       "      <td>4.0</td>\n",
       "      <td>5.0</td>\n",
       "      <td>3.0</td>\n",
       "      <td>2.0</td>\n",
       "      <td>5.0</td>\n",
       "    </tr>\n",
       "    <tr>\n",
       "      <th>27</th>\n",
       "      <td>3.0</td>\n",
       "      <td>1</td>\n",
       "      <td>4.0</td>\n",
       "      <td>3</td>\n",
       "      <td>3</td>\n",
       "      <td>4</td>\n",
       "      <td>1</td>\n",
       "      <td>2</td>\n",
       "      <td>2</td>\n",
       "      <td>5</td>\n",
       "      <td>...</td>\n",
       "      <td>2.0</td>\n",
       "      <td>3.0</td>\n",
       "      <td>3.0</td>\n",
       "      <td>2.0</td>\n",
       "      <td>4.0</td>\n",
       "      <td>5.0</td>\n",
       "      <td>3.0</td>\n",
       "      <td>4.0</td>\n",
       "      <td>7.0</td>\n",
       "      <td>5.0</td>\n",
       "    </tr>\n",
       "    <tr>\n",
       "      <th>28</th>\n",
       "      <td>3.0</td>\n",
       "      <td>1</td>\n",
       "      <td>2.0</td>\n",
       "      <td>3</td>\n",
       "      <td>2</td>\n",
       "      <td>4</td>\n",
       "      <td>3</td>\n",
       "      <td>3</td>\n",
       "      <td>2</td>\n",
       "      <td>3</td>\n",
       "      <td>...</td>\n",
       "      <td>3.0</td>\n",
       "      <td>3.0</td>\n",
       "      <td>1.0</td>\n",
       "      <td>0.0</td>\n",
       "      <td>1.0</td>\n",
       "      <td>5.0</td>\n",
       "      <td>5.0</td>\n",
       "      <td>3.0</td>\n",
       "      <td>4.0</td>\n",
       "      <td>1.0</td>\n",
       "    </tr>\n",
       "    <tr>\n",
       "      <th>29</th>\n",
       "      <td>4.0</td>\n",
       "      <td>2</td>\n",
       "      <td>1.0</td>\n",
       "      <td>5</td>\n",
       "      <td>1</td>\n",
       "      <td>5</td>\n",
       "      <td>2</td>\n",
       "      <td>1</td>\n",
       "      <td>3</td>\n",
       "      <td>6</td>\n",
       "      <td>...</td>\n",
       "      <td>3.0</td>\n",
       "      <td>2.0</td>\n",
       "      <td>2.0</td>\n",
       "      <td>0.0</td>\n",
       "      <td>1.0</td>\n",
       "      <td>3.0</td>\n",
       "      <td>4.0</td>\n",
       "      <td>2.0</td>\n",
       "      <td>4.0</td>\n",
       "      <td>3.0</td>\n",
       "    </tr>\n",
       "    <tr>\n",
       "      <th>31</th>\n",
       "      <td>2.0</td>\n",
       "      <td>2</td>\n",
       "      <td>6.0</td>\n",
       "      <td>1</td>\n",
       "      <td>5</td>\n",
       "      <td>2</td>\n",
       "      <td>3</td>\n",
       "      <td>5</td>\n",
       "      <td>4</td>\n",
       "      <td>1</td>\n",
       "      <td>...</td>\n",
       "      <td>1.0</td>\n",
       "      <td>3.0</td>\n",
       "      <td>3.0</td>\n",
       "      <td>2.0</td>\n",
       "      <td>5.0</td>\n",
       "      <td>4.0</td>\n",
       "      <td>2.0</td>\n",
       "      <td>4.0</td>\n",
       "      <td>8.0</td>\n",
       "      <td>5.0</td>\n",
       "    </tr>\n",
       "    <tr>\n",
       "      <th>32</th>\n",
       "      <td>1.0</td>\n",
       "      <td>1</td>\n",
       "      <td>4.0</td>\n",
       "      <td>5</td>\n",
       "      <td>4</td>\n",
       "      <td>2</td>\n",
       "      <td>3</td>\n",
       "      <td>4</td>\n",
       "      <td>1</td>\n",
       "      <td>3</td>\n",
       "      <td>...</td>\n",
       "      <td>2.0</td>\n",
       "      <td>3.0</td>\n",
       "      <td>1.0</td>\n",
       "      <td>0.0</td>\n",
       "      <td>1.0</td>\n",
       "      <td>3.0</td>\n",
       "      <td>4.0</td>\n",
       "      <td>4.0</td>\n",
       "      <td>3.0</td>\n",
       "      <td>5.0</td>\n",
       "    </tr>\n",
       "    <tr>\n",
       "      <th>33</th>\n",
       "      <td>2.0</td>\n",
       "      <td>2</td>\n",
       "      <td>4.0</td>\n",
       "      <td>2</td>\n",
       "      <td>2</td>\n",
       "      <td>4</td>\n",
       "      <td>1</td>\n",
       "      <td>3</td>\n",
       "      <td>4</td>\n",
       "      <td>5</td>\n",
       "      <td>...</td>\n",
       "      <td>1.0</td>\n",
       "      <td>3.0</td>\n",
       "      <td>2.0</td>\n",
       "      <td>1.0</td>\n",
       "      <td>5.0</td>\n",
       "      <td>5.0</td>\n",
       "      <td>3.0</td>\n",
       "      <td>3.0</td>\n",
       "      <td>8.0</td>\n",
       "      <td>5.0</td>\n",
       "    </tr>\n",
       "    <tr>\n",
       "      <th>34</th>\n",
       "      <td>1.0</td>\n",
       "      <td>2</td>\n",
       "      <td>2.0</td>\n",
       "      <td>4</td>\n",
       "      <td>1</td>\n",
       "      <td>5</td>\n",
       "      <td>1</td>\n",
       "      <td>2</td>\n",
       "      <td>3</td>\n",
       "      <td>2</td>\n",
       "      <td>...</td>\n",
       "      <td>2.0</td>\n",
       "      <td>3.0</td>\n",
       "      <td>2.0</td>\n",
       "      <td>1.0</td>\n",
       "      <td>1.0</td>\n",
       "      <td>3.0</td>\n",
       "      <td>3.0</td>\n",
       "      <td>4.0</td>\n",
       "      <td>7.0</td>\n",
       "      <td>5.0</td>\n",
       "    </tr>\n",
       "    <tr>\n",
       "      <th>36</th>\n",
       "      <td>3.0</td>\n",
       "      <td>2</td>\n",
       "      <td>2.0</td>\n",
       "      <td>2</td>\n",
       "      <td>3</td>\n",
       "      <td>4</td>\n",
       "      <td>3</td>\n",
       "      <td>2</td>\n",
       "      <td>3</td>\n",
       "      <td>6</td>\n",
       "      <td>...</td>\n",
       "      <td>2.0</td>\n",
       "      <td>3.0</td>\n",
       "      <td>2.0</td>\n",
       "      <td>1.0</td>\n",
       "      <td>1.0</td>\n",
       "      <td>3.0</td>\n",
       "      <td>3.0</td>\n",
       "      <td>4.0</td>\n",
       "      <td>9.0</td>\n",
       "      <td>4.0</td>\n",
       "    </tr>\n",
       "    <tr>\n",
       "      <th>37</th>\n",
       "      <td>4.0</td>\n",
       "      <td>1</td>\n",
       "      <td>2.0</td>\n",
       "      <td>5</td>\n",
       "      <td>1</td>\n",
       "      <td>5</td>\n",
       "      <td>1</td>\n",
       "      <td>1</td>\n",
       "      <td>3</td>\n",
       "      <td>6</td>\n",
       "      <td>...</td>\n",
       "      <td>4.0</td>\n",
       "      <td>2.0</td>\n",
       "      <td>1.0</td>\n",
       "      <td>0.0</td>\n",
       "      <td>1.0</td>\n",
       "      <td>3.0</td>\n",
       "      <td>4.0</td>\n",
       "      <td>3.0</td>\n",
       "      <td>5.0</td>\n",
       "      <td>2.0</td>\n",
       "    </tr>\n",
       "    <tr>\n",
       "      <th>38</th>\n",
       "      <td>2.0</td>\n",
       "      <td>2</td>\n",
       "      <td>6.0</td>\n",
       "      <td>3</td>\n",
       "      <td>3</td>\n",
       "      <td>1</td>\n",
       "      <td>4</td>\n",
       "      <td>4</td>\n",
       "      <td>2</td>\n",
       "      <td>4</td>\n",
       "      <td>...</td>\n",
       "      <td>4.0</td>\n",
       "      <td>2.0</td>\n",
       "      <td>0.0</td>\n",
       "      <td>0.0</td>\n",
       "      <td>1.0</td>\n",
       "      <td>3.0</td>\n",
       "      <td>4.0</td>\n",
       "      <td>3.0</td>\n",
       "      <td>5.0</td>\n",
       "      <td>2.0</td>\n",
       "    </tr>\n",
       "    <tr>\n",
       "      <th>39</th>\n",
       "      <td>4.0</td>\n",
       "      <td>1</td>\n",
       "      <td>4.0</td>\n",
       "      <td>5</td>\n",
       "      <td>3</td>\n",
       "      <td>4</td>\n",
       "      <td>3</td>\n",
       "      <td>1</td>\n",
       "      <td>1</td>\n",
       "      <td>6</td>\n",
       "      <td>...</td>\n",
       "      <td>2.0</td>\n",
       "      <td>3.0</td>\n",
       "      <td>2.0</td>\n",
       "      <td>1.0</td>\n",
       "      <td>1.0</td>\n",
       "      <td>4.0</td>\n",
       "      <td>4.0</td>\n",
       "      <td>3.0</td>\n",
       "      <td>5.0</td>\n",
       "      <td>3.0</td>\n",
       "    </tr>\n",
       "    <tr>\n",
       "      <th>40</th>\n",
       "      <td>4.0</td>\n",
       "      <td>2</td>\n",
       "      <td>1.0</td>\n",
       "      <td>3</td>\n",
       "      <td>2</td>\n",
       "      <td>5</td>\n",
       "      <td>2</td>\n",
       "      <td>1</td>\n",
       "      <td>5</td>\n",
       "      <td>6</td>\n",
       "      <td>...</td>\n",
       "      <td>3.0</td>\n",
       "      <td>2.0</td>\n",
       "      <td>1.0</td>\n",
       "      <td>0.0</td>\n",
       "      <td>1.0</td>\n",
       "      <td>2.0</td>\n",
       "      <td>3.0</td>\n",
       "      <td>3.0</td>\n",
       "      <td>5.0</td>\n",
       "      <td>3.0</td>\n",
       "    </tr>\n",
       "    <tr>\n",
       "      <th>41</th>\n",
       "      <td>1.0</td>\n",
       "      <td>2</td>\n",
       "      <td>3.0</td>\n",
       "      <td>2</td>\n",
       "      <td>5</td>\n",
       "      <td>3</td>\n",
       "      <td>5</td>\n",
       "      <td>5</td>\n",
       "      <td>2</td>\n",
       "      <td>1</td>\n",
       "      <td>...</td>\n",
       "      <td>3.0</td>\n",
       "      <td>2.0</td>\n",
       "      <td>1.0</td>\n",
       "      <td>0.0</td>\n",
       "      <td>1.0</td>\n",
       "      <td>4.0</td>\n",
       "      <td>5.0</td>\n",
       "      <td>3.0</td>\n",
       "      <td>5.0</td>\n",
       "      <td>2.0</td>\n",
       "    </tr>\n",
       "    <tr>\n",
       "      <th>...</th>\n",
       "      <td>...</td>\n",
       "      <td>...</td>\n",
       "      <td>...</td>\n",
       "      <td>...</td>\n",
       "      <td>...</td>\n",
       "      <td>...</td>\n",
       "      <td>...</td>\n",
       "      <td>...</td>\n",
       "      <td>...</td>\n",
       "      <td>...</td>\n",
       "      <td>...</td>\n",
       "      <td>...</td>\n",
       "      <td>...</td>\n",
       "      <td>...</td>\n",
       "      <td>...</td>\n",
       "      <td>...</td>\n",
       "      <td>...</td>\n",
       "      <td>...</td>\n",
       "      <td>...</td>\n",
       "      <td>...</td>\n",
       "      <td>...</td>\n",
       "    </tr>\n",
       "    <tr>\n",
       "      <th>891190</th>\n",
       "      <td>3.0</td>\n",
       "      <td>1</td>\n",
       "      <td>1.0</td>\n",
       "      <td>5</td>\n",
       "      <td>1</td>\n",
       "      <td>5</td>\n",
       "      <td>1</td>\n",
       "      <td>2</td>\n",
       "      <td>2</td>\n",
       "      <td>2</td>\n",
       "      <td>...</td>\n",
       "      <td>3.0</td>\n",
       "      <td>2.0</td>\n",
       "      <td>2.0</td>\n",
       "      <td>1.0</td>\n",
       "      <td>1.0</td>\n",
       "      <td>4.0</td>\n",
       "      <td>4.0</td>\n",
       "      <td>2.0</td>\n",
       "      <td>5.0</td>\n",
       "      <td>3.0</td>\n",
       "    </tr>\n",
       "    <tr>\n",
       "      <th>891191</th>\n",
       "      <td>4.0</td>\n",
       "      <td>2</td>\n",
       "      <td>1.0</td>\n",
       "      <td>4</td>\n",
       "      <td>1</td>\n",
       "      <td>5</td>\n",
       "      <td>1</td>\n",
       "      <td>1</td>\n",
       "      <td>4</td>\n",
       "      <td>2</td>\n",
       "      <td>...</td>\n",
       "      <td>3.0</td>\n",
       "      <td>3.0</td>\n",
       "      <td>1.0</td>\n",
       "      <td>0.0</td>\n",
       "      <td>1.0</td>\n",
       "      <td>4.0</td>\n",
       "      <td>5.0</td>\n",
       "      <td>1.0</td>\n",
       "      <td>3.0</td>\n",
       "      <td>1.0</td>\n",
       "    </tr>\n",
       "    <tr>\n",
       "      <th>891192</th>\n",
       "      <td>1.0</td>\n",
       "      <td>2</td>\n",
       "      <td>3.0</td>\n",
       "      <td>1</td>\n",
       "      <td>5</td>\n",
       "      <td>2</td>\n",
       "      <td>5</td>\n",
       "      <td>3</td>\n",
       "      <td>5</td>\n",
       "      <td>1</td>\n",
       "      <td>...</td>\n",
       "      <td>4.0</td>\n",
       "      <td>2.0</td>\n",
       "      <td>1.0</td>\n",
       "      <td>0.0</td>\n",
       "      <td>1.0</td>\n",
       "      <td>3.0</td>\n",
       "      <td>3.0</td>\n",
       "      <td>3.0</td>\n",
       "      <td>5.0</td>\n",
       "      <td>1.0</td>\n",
       "    </tr>\n",
       "    <tr>\n",
       "      <th>891193</th>\n",
       "      <td>4.0</td>\n",
       "      <td>1</td>\n",
       "      <td>3.0</td>\n",
       "      <td>4</td>\n",
       "      <td>1</td>\n",
       "      <td>5</td>\n",
       "      <td>1</td>\n",
       "      <td>2</td>\n",
       "      <td>5</td>\n",
       "      <td>5</td>\n",
       "      <td>...</td>\n",
       "      <td>2.0</td>\n",
       "      <td>4.0</td>\n",
       "      <td>1.0</td>\n",
       "      <td>0.0</td>\n",
       "      <td>2.0</td>\n",
       "      <td>2.0</td>\n",
       "      <td>2.0</td>\n",
       "      <td>4.0</td>\n",
       "      <td>6.0</td>\n",
       "      <td>4.0</td>\n",
       "    </tr>\n",
       "    <tr>\n",
       "      <th>891194</th>\n",
       "      <td>3.0</td>\n",
       "      <td>1</td>\n",
       "      <td>4.0</td>\n",
       "      <td>4</td>\n",
       "      <td>3</td>\n",
       "      <td>4</td>\n",
       "      <td>2</td>\n",
       "      <td>3</td>\n",
       "      <td>1</td>\n",
       "      <td>3</td>\n",
       "      <td>...</td>\n",
       "      <td>3.0</td>\n",
       "      <td>2.0</td>\n",
       "      <td>2.0</td>\n",
       "      <td>0.0</td>\n",
       "      <td>1.0</td>\n",
       "      <td>4.0</td>\n",
       "      <td>4.0</td>\n",
       "      <td>4.0</td>\n",
       "      <td>8.0</td>\n",
       "      <td>5.0</td>\n",
       "    </tr>\n",
       "    <tr>\n",
       "      <th>891195</th>\n",
       "      <td>4.0</td>\n",
       "      <td>2</td>\n",
       "      <td>6.0</td>\n",
       "      <td>3</td>\n",
       "      <td>1</td>\n",
       "      <td>5</td>\n",
       "      <td>1</td>\n",
       "      <td>1</td>\n",
       "      <td>5</td>\n",
       "      <td>2</td>\n",
       "      <td>...</td>\n",
       "      <td>2.0</td>\n",
       "      <td>3.0</td>\n",
       "      <td>2.0</td>\n",
       "      <td>1.0</td>\n",
       "      <td>1.0</td>\n",
       "      <td>4.0</td>\n",
       "      <td>3.0</td>\n",
       "      <td>4.0</td>\n",
       "      <td>7.0</td>\n",
       "      <td>5.0</td>\n",
       "    </tr>\n",
       "    <tr>\n",
       "      <th>891196</th>\n",
       "      <td>2.0</td>\n",
       "      <td>2</td>\n",
       "      <td>6.0</td>\n",
       "      <td>1</td>\n",
       "      <td>5</td>\n",
       "      <td>2</td>\n",
       "      <td>5</td>\n",
       "      <td>4</td>\n",
       "      <td>3</td>\n",
       "      <td>1</td>\n",
       "      <td>...</td>\n",
       "      <td>2.0</td>\n",
       "      <td>3.0</td>\n",
       "      <td>2.0</td>\n",
       "      <td>1.0</td>\n",
       "      <td>1.0</td>\n",
       "      <td>3.0</td>\n",
       "      <td>3.0</td>\n",
       "      <td>3.0</td>\n",
       "      <td>4.0</td>\n",
       "      <td>5.0</td>\n",
       "    </tr>\n",
       "    <tr>\n",
       "      <th>891197</th>\n",
       "      <td>3.0</td>\n",
       "      <td>2</td>\n",
       "      <td>1.0</td>\n",
       "      <td>3</td>\n",
       "      <td>2</td>\n",
       "      <td>4</td>\n",
       "      <td>1</td>\n",
       "      <td>3</td>\n",
       "      <td>3</td>\n",
       "      <td>5</td>\n",
       "      <td>...</td>\n",
       "      <td>2.0</td>\n",
       "      <td>3.0</td>\n",
       "      <td>2.0</td>\n",
       "      <td>1.0</td>\n",
       "      <td>1.0</td>\n",
       "      <td>4.0</td>\n",
       "      <td>4.0</td>\n",
       "      <td>3.0</td>\n",
       "      <td>9.0</td>\n",
       "      <td>5.0</td>\n",
       "    </tr>\n",
       "    <tr>\n",
       "      <th>891198</th>\n",
       "      <td>3.0</td>\n",
       "      <td>1</td>\n",
       "      <td>5.0</td>\n",
       "      <td>2</td>\n",
       "      <td>5</td>\n",
       "      <td>3</td>\n",
       "      <td>4</td>\n",
       "      <td>5</td>\n",
       "      <td>3</td>\n",
       "      <td>1</td>\n",
       "      <td>...</td>\n",
       "      <td>4.0</td>\n",
       "      <td>2.0</td>\n",
       "      <td>1.0</td>\n",
       "      <td>0.0</td>\n",
       "      <td>1.0</td>\n",
       "      <td>4.0</td>\n",
       "      <td>5.0</td>\n",
       "      <td>3.0</td>\n",
       "      <td>9.0</td>\n",
       "      <td>5.0</td>\n",
       "    </tr>\n",
       "    <tr>\n",
       "      <th>891199</th>\n",
       "      <td>2.0</td>\n",
       "      <td>1</td>\n",
       "      <td>3.0</td>\n",
       "      <td>2</td>\n",
       "      <td>5</td>\n",
       "      <td>2</td>\n",
       "      <td>3</td>\n",
       "      <td>3</td>\n",
       "      <td>4</td>\n",
       "      <td>1</td>\n",
       "      <td>...</td>\n",
       "      <td>1.0</td>\n",
       "      <td>4.0</td>\n",
       "      <td>3.0</td>\n",
       "      <td>2.0</td>\n",
       "      <td>5.0</td>\n",
       "      <td>5.0</td>\n",
       "      <td>3.0</td>\n",
       "      <td>3.0</td>\n",
       "      <td>7.0</td>\n",
       "      <td>3.0</td>\n",
       "    </tr>\n",
       "    <tr>\n",
       "      <th>891200</th>\n",
       "      <td>1.0</td>\n",
       "      <td>2</td>\n",
       "      <td>3.0</td>\n",
       "      <td>1</td>\n",
       "      <td>5</td>\n",
       "      <td>3</td>\n",
       "      <td>5</td>\n",
       "      <td>5</td>\n",
       "      <td>5</td>\n",
       "      <td>1</td>\n",
       "      <td>...</td>\n",
       "      <td>1.0</td>\n",
       "      <td>4.0</td>\n",
       "      <td>2.0</td>\n",
       "      <td>1.0</td>\n",
       "      <td>2.0</td>\n",
       "      <td>3.0</td>\n",
       "      <td>3.0</td>\n",
       "      <td>4.0</td>\n",
       "      <td>6.0</td>\n",
       "      <td>5.0</td>\n",
       "    </tr>\n",
       "    <tr>\n",
       "      <th>891201</th>\n",
       "      <td>3.0</td>\n",
       "      <td>1</td>\n",
       "      <td>3.0</td>\n",
       "      <td>4</td>\n",
       "      <td>2</td>\n",
       "      <td>3</td>\n",
       "      <td>2</td>\n",
       "      <td>2</td>\n",
       "      <td>3</td>\n",
       "      <td>6</td>\n",
       "      <td>...</td>\n",
       "      <td>1.0</td>\n",
       "      <td>4.0</td>\n",
       "      <td>3.0</td>\n",
       "      <td>1.0</td>\n",
       "      <td>3.0</td>\n",
       "      <td>4.0</td>\n",
       "      <td>3.0</td>\n",
       "      <td>3.0</td>\n",
       "      <td>7.0</td>\n",
       "      <td>5.0</td>\n",
       "    </tr>\n",
       "    <tr>\n",
       "      <th>891202</th>\n",
       "      <td>2.0</td>\n",
       "      <td>2</td>\n",
       "      <td>5.0</td>\n",
       "      <td>1</td>\n",
       "      <td>4</td>\n",
       "      <td>1</td>\n",
       "      <td>2</td>\n",
       "      <td>5</td>\n",
       "      <td>4</td>\n",
       "      <td>1</td>\n",
       "      <td>...</td>\n",
       "      <td>1.0</td>\n",
       "      <td>4.0</td>\n",
       "      <td>3.0</td>\n",
       "      <td>2.0</td>\n",
       "      <td>5.0</td>\n",
       "      <td>4.0</td>\n",
       "      <td>2.0</td>\n",
       "      <td>4.0</td>\n",
       "      <td>8.0</td>\n",
       "      <td>5.0</td>\n",
       "    </tr>\n",
       "    <tr>\n",
       "      <th>891204</th>\n",
       "      <td>3.0</td>\n",
       "      <td>1</td>\n",
       "      <td>5.0</td>\n",
       "      <td>4</td>\n",
       "      <td>3</td>\n",
       "      <td>4</td>\n",
       "      <td>4</td>\n",
       "      <td>2</td>\n",
       "      <td>1</td>\n",
       "      <td>6</td>\n",
       "      <td>...</td>\n",
       "      <td>2.0</td>\n",
       "      <td>3.0</td>\n",
       "      <td>1.0</td>\n",
       "      <td>0.0</td>\n",
       "      <td>1.0</td>\n",
       "      <td>3.0</td>\n",
       "      <td>4.0</td>\n",
       "      <td>4.0</td>\n",
       "      <td>7.0</td>\n",
       "      <td>3.0</td>\n",
       "    </tr>\n",
       "    <tr>\n",
       "      <th>891205</th>\n",
       "      <td>4.0</td>\n",
       "      <td>1</td>\n",
       "      <td>2.0</td>\n",
       "      <td>4</td>\n",
       "      <td>2</td>\n",
       "      <td>4</td>\n",
       "      <td>3</td>\n",
       "      <td>3</td>\n",
       "      <td>4</td>\n",
       "      <td>2</td>\n",
       "      <td>...</td>\n",
       "      <td>1.0</td>\n",
       "      <td>4.0</td>\n",
       "      <td>3.0</td>\n",
       "      <td>1.0</td>\n",
       "      <td>3.0</td>\n",
       "      <td>3.0</td>\n",
       "      <td>2.0</td>\n",
       "      <td>3.0</td>\n",
       "      <td>7.0</td>\n",
       "      <td>5.0</td>\n",
       "    </tr>\n",
       "    <tr>\n",
       "      <th>891206</th>\n",
       "      <td>1.0</td>\n",
       "      <td>2</td>\n",
       "      <td>4.0</td>\n",
       "      <td>3</td>\n",
       "      <td>4</td>\n",
       "      <td>2</td>\n",
       "      <td>4</td>\n",
       "      <td>4</td>\n",
       "      <td>2</td>\n",
       "      <td>4</td>\n",
       "      <td>...</td>\n",
       "      <td>3.0</td>\n",
       "      <td>2.0</td>\n",
       "      <td>1.0</td>\n",
       "      <td>0.0</td>\n",
       "      <td>1.0</td>\n",
       "      <td>4.0</td>\n",
       "      <td>5.0</td>\n",
       "      <td>3.0</td>\n",
       "      <td>4.0</td>\n",
       "      <td>3.0</td>\n",
       "    </tr>\n",
       "    <tr>\n",
       "      <th>891207</th>\n",
       "      <td>3.0</td>\n",
       "      <td>2</td>\n",
       "      <td>1.0</td>\n",
       "      <td>5</td>\n",
       "      <td>1</td>\n",
       "      <td>5</td>\n",
       "      <td>1</td>\n",
       "      <td>2</td>\n",
       "      <td>4</td>\n",
       "      <td>2</td>\n",
       "      <td>...</td>\n",
       "      <td>2.0</td>\n",
       "      <td>3.0</td>\n",
       "      <td>2.0</td>\n",
       "      <td>2.0</td>\n",
       "      <td>4.0</td>\n",
       "      <td>4.0</td>\n",
       "      <td>2.0</td>\n",
       "      <td>1.0</td>\n",
       "      <td>5.0</td>\n",
       "      <td>1.0</td>\n",
       "    </tr>\n",
       "    <tr>\n",
       "      <th>891208</th>\n",
       "      <td>4.0</td>\n",
       "      <td>1</td>\n",
       "      <td>2.0</td>\n",
       "      <td>5</td>\n",
       "      <td>2</td>\n",
       "      <td>4</td>\n",
       "      <td>2</td>\n",
       "      <td>3</td>\n",
       "      <td>1</td>\n",
       "      <td>6</td>\n",
       "      <td>...</td>\n",
       "      <td>3.0</td>\n",
       "      <td>2.0</td>\n",
       "      <td>0.0</td>\n",
       "      <td>0.0</td>\n",
       "      <td>1.0</td>\n",
       "      <td>3.0</td>\n",
       "      <td>3.0</td>\n",
       "      <td>4.0</td>\n",
       "      <td>2.0</td>\n",
       "      <td>5.0</td>\n",
       "    </tr>\n",
       "    <tr>\n",
       "      <th>891209</th>\n",
       "      <td>1.0</td>\n",
       "      <td>2</td>\n",
       "      <td>5.0</td>\n",
       "      <td>1</td>\n",
       "      <td>4</td>\n",
       "      <td>2</td>\n",
       "      <td>3</td>\n",
       "      <td>4</td>\n",
       "      <td>4</td>\n",
       "      <td>1</td>\n",
       "      <td>...</td>\n",
       "      <td>1.0</td>\n",
       "      <td>4.0</td>\n",
       "      <td>2.0</td>\n",
       "      <td>1.0</td>\n",
       "      <td>5.0</td>\n",
       "      <td>5.0</td>\n",
       "      <td>4.0</td>\n",
       "      <td>4.0</td>\n",
       "      <td>5.0</td>\n",
       "      <td>5.0</td>\n",
       "    </tr>\n",
       "    <tr>\n",
       "      <th>891210</th>\n",
       "      <td>3.0</td>\n",
       "      <td>1</td>\n",
       "      <td>5.0</td>\n",
       "      <td>3</td>\n",
       "      <td>3</td>\n",
       "      <td>4</td>\n",
       "      <td>2</td>\n",
       "      <td>2</td>\n",
       "      <td>2</td>\n",
       "      <td>6</td>\n",
       "      <td>...</td>\n",
       "      <td>2.0</td>\n",
       "      <td>3.0</td>\n",
       "      <td>2.0</td>\n",
       "      <td>1.0</td>\n",
       "      <td>1.0</td>\n",
       "      <td>3.0</td>\n",
       "      <td>3.0</td>\n",
       "      <td>3.0</td>\n",
       "      <td>9.0</td>\n",
       "      <td>5.0</td>\n",
       "    </tr>\n",
       "    <tr>\n",
       "      <th>891211</th>\n",
       "      <td>3.0</td>\n",
       "      <td>1</td>\n",
       "      <td>2.0</td>\n",
       "      <td>3</td>\n",
       "      <td>2</td>\n",
       "      <td>4</td>\n",
       "      <td>3</td>\n",
       "      <td>3</td>\n",
       "      <td>2</td>\n",
       "      <td>2</td>\n",
       "      <td>...</td>\n",
       "      <td>1.0</td>\n",
       "      <td>4.0</td>\n",
       "      <td>2.0</td>\n",
       "      <td>0.0</td>\n",
       "      <td>2.0</td>\n",
       "      <td>3.0</td>\n",
       "      <td>2.0</td>\n",
       "      <td>3.0</td>\n",
       "      <td>5.0</td>\n",
       "      <td>5.0</td>\n",
       "    </tr>\n",
       "    <tr>\n",
       "      <th>891212</th>\n",
       "      <td>4.0</td>\n",
       "      <td>1</td>\n",
       "      <td>1.0</td>\n",
       "      <td>3</td>\n",
       "      <td>1</td>\n",
       "      <td>5</td>\n",
       "      <td>1</td>\n",
       "      <td>1</td>\n",
       "      <td>5</td>\n",
       "      <td>5</td>\n",
       "      <td>...</td>\n",
       "      <td>1.0</td>\n",
       "      <td>3.0</td>\n",
       "      <td>3.0</td>\n",
       "      <td>2.0</td>\n",
       "      <td>5.0</td>\n",
       "      <td>4.0</td>\n",
       "      <td>1.0</td>\n",
       "      <td>3.0</td>\n",
       "      <td>9.0</td>\n",
       "      <td>5.0</td>\n",
       "    </tr>\n",
       "    <tr>\n",
       "      <th>891213</th>\n",
       "      <td>4.0</td>\n",
       "      <td>2</td>\n",
       "      <td>5.0</td>\n",
       "      <td>3</td>\n",
       "      <td>3</td>\n",
       "      <td>3</td>\n",
       "      <td>5</td>\n",
       "      <td>3</td>\n",
       "      <td>2</td>\n",
       "      <td>6</td>\n",
       "      <td>...</td>\n",
       "      <td>2.0</td>\n",
       "      <td>4.0</td>\n",
       "      <td>2.0</td>\n",
       "      <td>1.0</td>\n",
       "      <td>2.0</td>\n",
       "      <td>5.0</td>\n",
       "      <td>5.0</td>\n",
       "      <td>3.0</td>\n",
       "      <td>4.0</td>\n",
       "      <td>4.0</td>\n",
       "    </tr>\n",
       "    <tr>\n",
       "      <th>891214</th>\n",
       "      <td>1.0</td>\n",
       "      <td>2</td>\n",
       "      <td>4.0</td>\n",
       "      <td>1</td>\n",
       "      <td>5</td>\n",
       "      <td>2</td>\n",
       "      <td>3</td>\n",
       "      <td>3</td>\n",
       "      <td>4</td>\n",
       "      <td>1</td>\n",
       "      <td>...</td>\n",
       "      <td>1.0</td>\n",
       "      <td>4.0</td>\n",
       "      <td>3.0</td>\n",
       "      <td>2.0</td>\n",
       "      <td>5.0</td>\n",
       "      <td>5.0</td>\n",
       "      <td>2.0</td>\n",
       "      <td>3.0</td>\n",
       "      <td>7.0</td>\n",
       "      <td>3.0</td>\n",
       "    </tr>\n",
       "    <tr>\n",
       "      <th>891215</th>\n",
       "      <td>2.0</td>\n",
       "      <td>2</td>\n",
       "      <td>6.0</td>\n",
       "      <td>1</td>\n",
       "      <td>5</td>\n",
       "      <td>2</td>\n",
       "      <td>4</td>\n",
       "      <td>5</td>\n",
       "      <td>4</td>\n",
       "      <td>1</td>\n",
       "      <td>...</td>\n",
       "      <td>2.0</td>\n",
       "      <td>4.0</td>\n",
       "      <td>2.0</td>\n",
       "      <td>1.0</td>\n",
       "      <td>2.0</td>\n",
       "      <td>4.0</td>\n",
       "      <td>4.0</td>\n",
       "      <td>2.0</td>\n",
       "      <td>5.0</td>\n",
       "      <td>2.0</td>\n",
       "    </tr>\n",
       "    <tr>\n",
       "      <th>891216</th>\n",
       "      <td>3.0</td>\n",
       "      <td>2</td>\n",
       "      <td>5.0</td>\n",
       "      <td>1</td>\n",
       "      <td>4</td>\n",
       "      <td>2</td>\n",
       "      <td>5</td>\n",
       "      <td>4</td>\n",
       "      <td>4</td>\n",
       "      <td>1</td>\n",
       "      <td>...</td>\n",
       "      <td>3.0</td>\n",
       "      <td>2.0</td>\n",
       "      <td>0.0</td>\n",
       "      <td>0.0</td>\n",
       "      <td>1.0</td>\n",
       "      <td>2.0</td>\n",
       "      <td>3.0</td>\n",
       "      <td>NaN</td>\n",
       "      <td>NaN</td>\n",
       "      <td>NaN</td>\n",
       "    </tr>\n",
       "    <tr>\n",
       "      <th>891217</th>\n",
       "      <td>2.0</td>\n",
       "      <td>1</td>\n",
       "      <td>4.0</td>\n",
       "      <td>3</td>\n",
       "      <td>3</td>\n",
       "      <td>3</td>\n",
       "      <td>2</td>\n",
       "      <td>2</td>\n",
       "      <td>3</td>\n",
       "      <td>6</td>\n",
       "      <td>...</td>\n",
       "      <td>1.0</td>\n",
       "      <td>3.0</td>\n",
       "      <td>3.0</td>\n",
       "      <td>2.0</td>\n",
       "      <td>4.0</td>\n",
       "      <td>5.0</td>\n",
       "      <td>3.0</td>\n",
       "      <td>4.0</td>\n",
       "      <td>6.0</td>\n",
       "      <td>5.0</td>\n",
       "    </tr>\n",
       "    <tr>\n",
       "      <th>891218</th>\n",
       "      <td>2.0</td>\n",
       "      <td>2</td>\n",
       "      <td>4.0</td>\n",
       "      <td>2</td>\n",
       "      <td>4</td>\n",
       "      <td>2</td>\n",
       "      <td>5</td>\n",
       "      <td>4</td>\n",
       "      <td>3</td>\n",
       "      <td>1</td>\n",
       "      <td>...</td>\n",
       "      <td>4.0</td>\n",
       "      <td>2.0</td>\n",
       "      <td>0.0</td>\n",
       "      <td>0.0</td>\n",
       "      <td>1.0</td>\n",
       "      <td>3.0</td>\n",
       "      <td>4.0</td>\n",
       "      <td>2.0</td>\n",
       "      <td>2.0</td>\n",
       "      <td>3.0</td>\n",
       "    </tr>\n",
       "    <tr>\n",
       "      <th>891219</th>\n",
       "      <td>1.0</td>\n",
       "      <td>1</td>\n",
       "      <td>3.0</td>\n",
       "      <td>1</td>\n",
       "      <td>5</td>\n",
       "      <td>3</td>\n",
       "      <td>5</td>\n",
       "      <td>5</td>\n",
       "      <td>5</td>\n",
       "      <td>1</td>\n",
       "      <td>...</td>\n",
       "      <td>1.0</td>\n",
       "      <td>4.0</td>\n",
       "      <td>3.0</td>\n",
       "      <td>1.0</td>\n",
       "      <td>5.0</td>\n",
       "      <td>1.0</td>\n",
       "      <td>1.0</td>\n",
       "      <td>4.0</td>\n",
       "      <td>7.0</td>\n",
       "      <td>5.0</td>\n",
       "    </tr>\n",
       "    <tr>\n",
       "      <th>891220</th>\n",
       "      <td>4.0</td>\n",
       "      <td>1</td>\n",
       "      <td>1.0</td>\n",
       "      <td>4</td>\n",
       "      <td>2</td>\n",
       "      <td>5</td>\n",
       "      <td>2</td>\n",
       "      <td>1</td>\n",
       "      <td>5</td>\n",
       "      <td>6</td>\n",
       "      <td>...</td>\n",
       "      <td>3.0</td>\n",
       "      <td>3.0</td>\n",
       "      <td>1.0</td>\n",
       "      <td>0.0</td>\n",
       "      <td>1.0</td>\n",
       "      <td>4.0</td>\n",
       "      <td>4.0</td>\n",
       "      <td>3.0</td>\n",
       "      <td>4.0</td>\n",
       "      <td>5.0</td>\n",
       "    </tr>\n",
       "  </tbody>\n",
       "</table>\n",
       "<p>747109 rows × 78 columns</p>\n",
       "</div>"
      ],
      "text/plain": [
       "        ALTERSKATEGORIE_GROB  ANREDE_KZ  CJT_GESAMTTYP  FINANZ_MINIMALIST  \\\n",
       "1                        1.0          2            5.0                  1   \n",
       "2                        3.0          2            3.0                  1   \n",
       "3                        4.0          2            2.0                  4   \n",
       "4                        3.0          1            5.0                  4   \n",
       "5                        1.0          2            2.0                  3   \n",
       "6                        2.0          2            5.0                  1   \n",
       "7                        1.0          1            3.0                  3   \n",
       "8                        3.0          1            3.0                  4   \n",
       "9                        3.0          2            4.0                  2   \n",
       "10                       3.0          2            1.0                  2   \n",
       "12                       3.0          1            6.0                  5   \n",
       "16                       1.0          2            1.0                  4   \n",
       "18                       2.0          2            6.0                  2   \n",
       "19                       3.0          1            3.0                  5   \n",
       "21                       2.0          1            3.0                  3   \n",
       "22                       1.0          1            4.0                  1   \n",
       "25                       1.0          1            3.0                  3   \n",
       "27                       3.0          1            4.0                  3   \n",
       "28                       3.0          1            2.0                  3   \n",
       "29                       4.0          2            1.0                  5   \n",
       "31                       2.0          2            6.0                  1   \n",
       "32                       1.0          1            4.0                  5   \n",
       "33                       2.0          2            4.0                  2   \n",
       "34                       1.0          2            2.0                  4   \n",
       "36                       3.0          2            2.0                  2   \n",
       "37                       4.0          1            2.0                  5   \n",
       "38                       2.0          2            6.0                  3   \n",
       "39                       4.0          1            4.0                  5   \n",
       "40                       4.0          2            1.0                  3   \n",
       "41                       1.0          2            3.0                  2   \n",
       "...                      ...        ...            ...                ...   \n",
       "891190                   3.0          1            1.0                  5   \n",
       "891191                   4.0          2            1.0                  4   \n",
       "891192                   1.0          2            3.0                  1   \n",
       "891193                   4.0          1            3.0                  4   \n",
       "891194                   3.0          1            4.0                  4   \n",
       "891195                   4.0          2            6.0                  3   \n",
       "891196                   2.0          2            6.0                  1   \n",
       "891197                   3.0          2            1.0                  3   \n",
       "891198                   3.0          1            5.0                  2   \n",
       "891199                   2.0          1            3.0                  2   \n",
       "891200                   1.0          2            3.0                  1   \n",
       "891201                   3.0          1            3.0                  4   \n",
       "891202                   2.0          2            5.0                  1   \n",
       "891204                   3.0          1            5.0                  4   \n",
       "891205                   4.0          1            2.0                  4   \n",
       "891206                   1.0          2            4.0                  3   \n",
       "891207                   3.0          2            1.0                  5   \n",
       "891208                   4.0          1            2.0                  5   \n",
       "891209                   1.0          2            5.0                  1   \n",
       "891210                   3.0          1            5.0                  3   \n",
       "891211                   3.0          1            2.0                  3   \n",
       "891212                   4.0          1            1.0                  3   \n",
       "891213                   4.0          2            5.0                  3   \n",
       "891214                   1.0          2            4.0                  1   \n",
       "891215                   2.0          2            6.0                  1   \n",
       "891216                   3.0          2            5.0                  1   \n",
       "891217                   2.0          1            4.0                  3   \n",
       "891218                   2.0          2            4.0                  2   \n",
       "891219                   1.0          1            3.0                  1   \n",
       "891220                   4.0          1            1.0                  4   \n",
       "\n",
       "        FINANZ_SPARER  FINANZ_VORSORGER  FINANZ_ANLEGER  \\\n",
       "1                   5                 2               5   \n",
       "2                   4                 1               2   \n",
       "3                   2                 5               2   \n",
       "4                   3                 4               1   \n",
       "5                   1                 5               2   \n",
       "6                   5                 1               5   \n",
       "7                   3                 4               1   \n",
       "8                   4                 2               4   \n",
       "9                   4                 2               3   \n",
       "10                  2                 5               3   \n",
       "12                  3                 4               2   \n",
       "16                  3                 1               4   \n",
       "18                  4                 1               5   \n",
       "19                  2                 3               1   \n",
       "21                  4                 1               2   \n",
       "22                  5                 3               5   \n",
       "25                  5                 3               5   \n",
       "27                  3                 4               1   \n",
       "28                  2                 4               3   \n",
       "29                  1                 5               2   \n",
       "31                  5                 2               3   \n",
       "32                  4                 2               3   \n",
       "33                  2                 4               1   \n",
       "34                  1                 5               1   \n",
       "36                  3                 4               3   \n",
       "37                  1                 5               1   \n",
       "38                  3                 1               4   \n",
       "39                  3                 4               3   \n",
       "40                  2                 5               2   \n",
       "41                  5                 3               5   \n",
       "...               ...               ...             ...   \n",
       "891190              1                 5               1   \n",
       "891191              1                 5               1   \n",
       "891192              5                 2               5   \n",
       "891193              1                 5               1   \n",
       "891194              3                 4               2   \n",
       "891195              1                 5               1   \n",
       "891196              5                 2               5   \n",
       "891197              2                 4               1   \n",
       "891198              5                 3               4   \n",
       "891199              5                 2               3   \n",
       "891200              5                 3               5   \n",
       "891201              2                 3               2   \n",
       "891202              4                 1               2   \n",
       "891204              3                 4               4   \n",
       "891205              2                 4               3   \n",
       "891206              4                 2               4   \n",
       "891207              1                 5               1   \n",
       "891208              2                 4               2   \n",
       "891209              4                 2               3   \n",
       "891210              3                 4               2   \n",
       "891211              2                 4               3   \n",
       "891212              1                 5               1   \n",
       "891213              3                 3               5   \n",
       "891214              5                 2               3   \n",
       "891215              5                 2               4   \n",
       "891216              4                 2               5   \n",
       "891217              3                 3               2   \n",
       "891218              4                 2               5   \n",
       "891219              5                 3               5   \n",
       "891220              2                 5               2   \n",
       "\n",
       "        FINANZ_UNAUFFAELLIGER  FINANZ_HAUSBAUER  FINANZTYP    ...     \\\n",
       "1                           4                 5          1    ...      \n",
       "2                           3                 5          1    ...      \n",
       "3                           1                 2          6    ...      \n",
       "4                           3                 2          5    ...      \n",
       "5                           2                 5          2    ...      \n",
       "6                           4                 3          4    ...      \n",
       "7                           3                 2          5    ...      \n",
       "8                           2                 2          6    ...      \n",
       "9                           5                 4          1    ...      \n",
       "10                          1                 5          6    ...      \n",
       "12                          4                 1          3    ...      \n",
       "16                          5                 1          3    ...      \n",
       "18                          4                 1          1    ...      \n",
       "19                          3                 1          5    ...      \n",
       "21                          5                 1          3    ...      \n",
       "22                          5                 5          1    ...      \n",
       "25                          4                 3          4    ...      \n",
       "27                          2                 2          5    ...      \n",
       "28                          3                 2          3    ...      \n",
       "29                          1                 3          6    ...      \n",
       "31                          5                 4          1    ...      \n",
       "32                          4                 1          3    ...      \n",
       "33                          3                 4          5    ...      \n",
       "34                          2                 3          2    ...      \n",
       "36                          2                 3          6    ...      \n",
       "37                          1                 3          6    ...      \n",
       "38                          4                 2          4    ...      \n",
       "39                          1                 1          6    ...      \n",
       "40                          1                 5          6    ...      \n",
       "41                          5                 2          1    ...      \n",
       "...                       ...               ...        ...    ...      \n",
       "891190                      2                 2          2    ...      \n",
       "891191                      1                 4          2    ...      \n",
       "891192                      3                 5          1    ...      \n",
       "891193                      2                 5          5    ...      \n",
       "891194                      3                 1          3    ...      \n",
       "891195                      1                 5          2    ...      \n",
       "891196                      4                 3          1    ...      \n",
       "891197                      3                 3          5    ...      \n",
       "891198                      5                 3          1    ...      \n",
       "891199                      3                 4          1    ...      \n",
       "891200                      5                 5          1    ...      \n",
       "891201                      2                 3          6    ...      \n",
       "891202                      5                 4          1    ...      \n",
       "891204                      2                 1          6    ...      \n",
       "891205                      3                 4          2    ...      \n",
       "891206                      4                 2          4    ...      \n",
       "891207                      2                 4          2    ...      \n",
       "891208                      3                 1          6    ...      \n",
       "891209                      4                 4          1    ...      \n",
       "891210                      2                 2          6    ...      \n",
       "891211                      3                 2          2    ...      \n",
       "891212                      1                 5          5    ...      \n",
       "891213                      3                 2          6    ...      \n",
       "891214                      3                 4          1    ...      \n",
       "891215                      5                 4          1    ...      \n",
       "891216                      4                 4          1    ...      \n",
       "891217                      2                 3          6    ...      \n",
       "891218                      4                 3          1    ...      \n",
       "891219                      5                 5          1    ...      \n",
       "891220                      1                 5          6    ...      \n",
       "\n",
       "        PLZ8_ANTG1  PLZ8_ANTG2  PLZ8_ANTG3  PLZ8_ANTG4  PLZ8_BAUMAX  PLZ8_HHZ  \\\n",
       "1              2.0         3.0         2.0         1.0          1.0       5.0   \n",
       "2              3.0         3.0         1.0         0.0          1.0       4.0   \n",
       "3              2.0         2.0         2.0         0.0          1.0       3.0   \n",
       "4              2.0         4.0         2.0         1.0          2.0       3.0   \n",
       "5              2.0         3.0         1.0         1.0          1.0       5.0   \n",
       "6              3.0         3.0         1.0         0.0          1.0       5.0   \n",
       "7              3.0         3.0         1.0         0.0          1.0       4.0   \n",
       "8              2.0         3.0         2.0         1.0          1.0       3.0   \n",
       "9              2.0         3.0         2.0         1.0          1.0       3.0   \n",
       "10             2.0         4.0         2.0         0.0          2.0       3.0   \n",
       "12             3.0         3.0         1.0         0.0          1.0       5.0   \n",
       "16             3.0         3.0         1.0         0.0          1.0       3.0   \n",
       "18             2.0         3.0         2.0         1.0          1.0       3.0   \n",
       "19             2.0         4.0         2.0         1.0          2.0       5.0   \n",
       "21             1.0         4.0         3.0         2.0          4.0       4.0   \n",
       "22             2.0         4.0         2.0         1.0          2.0       4.0   \n",
       "25             2.0         2.0         0.0         0.0          1.0       4.0   \n",
       "27             2.0         3.0         3.0         2.0          4.0       5.0   \n",
       "28             3.0         3.0         1.0         0.0          1.0       5.0   \n",
       "29             3.0         2.0         2.0         0.0          1.0       3.0   \n",
       "31             1.0         3.0         3.0         2.0          5.0       4.0   \n",
       "32             2.0         3.0         1.0         0.0          1.0       3.0   \n",
       "33             1.0         3.0         2.0         1.0          5.0       5.0   \n",
       "34             2.0         3.0         2.0         1.0          1.0       3.0   \n",
       "36             2.0         3.0         2.0         1.0          1.0       3.0   \n",
       "37             4.0         2.0         1.0         0.0          1.0       3.0   \n",
       "38             4.0         2.0         0.0         0.0          1.0       3.0   \n",
       "39             2.0         3.0         2.0         1.0          1.0       4.0   \n",
       "40             3.0         2.0         1.0         0.0          1.0       2.0   \n",
       "41             3.0         2.0         1.0         0.0          1.0       4.0   \n",
       "...            ...         ...         ...         ...          ...       ...   \n",
       "891190         3.0         2.0         2.0         1.0          1.0       4.0   \n",
       "891191         3.0         3.0         1.0         0.0          1.0       4.0   \n",
       "891192         4.0         2.0         1.0         0.0          1.0       3.0   \n",
       "891193         2.0         4.0         1.0         0.0          2.0       2.0   \n",
       "891194         3.0         2.0         2.0         0.0          1.0       4.0   \n",
       "891195         2.0         3.0         2.0         1.0          1.0       4.0   \n",
       "891196         2.0         3.0         2.0         1.0          1.0       3.0   \n",
       "891197         2.0         3.0         2.0         1.0          1.0       4.0   \n",
       "891198         4.0         2.0         1.0         0.0          1.0       4.0   \n",
       "891199         1.0         4.0         3.0         2.0          5.0       5.0   \n",
       "891200         1.0         4.0         2.0         1.0          2.0       3.0   \n",
       "891201         1.0         4.0         3.0         1.0          3.0       4.0   \n",
       "891202         1.0         4.0         3.0         2.0          5.0       4.0   \n",
       "891204         2.0         3.0         1.0         0.0          1.0       3.0   \n",
       "891205         1.0         4.0         3.0         1.0          3.0       3.0   \n",
       "891206         3.0         2.0         1.0         0.0          1.0       4.0   \n",
       "891207         2.0         3.0         2.0         2.0          4.0       4.0   \n",
       "891208         3.0         2.0         0.0         0.0          1.0       3.0   \n",
       "891209         1.0         4.0         2.0         1.0          5.0       5.0   \n",
       "891210         2.0         3.0         2.0         1.0          1.0       3.0   \n",
       "891211         1.0         4.0         2.0         0.0          2.0       3.0   \n",
       "891212         1.0         3.0         3.0         2.0          5.0       4.0   \n",
       "891213         2.0         4.0         2.0         1.0          2.0       5.0   \n",
       "891214         1.0         4.0         3.0         2.0          5.0       5.0   \n",
       "891215         2.0         4.0         2.0         1.0          2.0       4.0   \n",
       "891216         3.0         2.0         0.0         0.0          1.0       2.0   \n",
       "891217         1.0         3.0         3.0         2.0          4.0       5.0   \n",
       "891218         4.0         2.0         0.0         0.0          1.0       3.0   \n",
       "891219         1.0         4.0         3.0         1.0          5.0       1.0   \n",
       "891220         3.0         3.0         1.0         0.0          1.0       4.0   \n",
       "\n",
       "        PLZ8_GBZ  ARBEIT  ORTSGR_KLS9  RELAT_AB  \n",
       "1            4.0     3.0          5.0       4.0  \n",
       "2            4.0     3.0          5.0       2.0  \n",
       "3            4.0     2.0          3.0       3.0  \n",
       "4            3.0     4.0          6.0       5.0  \n",
       "5            5.0     2.0          3.0       3.0  \n",
       "6            5.0     4.0          6.0       3.0  \n",
       "7            4.0     2.0          5.0       2.0  \n",
       "8            3.0     2.0          4.0       3.0  \n",
       "9            3.0     2.0          3.0       1.0  \n",
       "10           3.0     4.0          6.0       5.0  \n",
       "12           5.0     3.0          6.0       4.0  \n",
       "16           4.0     1.0          2.0       1.0  \n",
       "18           3.0     3.0          4.0       3.0  \n",
       "19           4.0     4.0          6.0       3.0  \n",
       "21           3.0     5.0          7.0       5.0  \n",
       "22           3.0     4.0          5.0       5.0  \n",
       "25           5.0     3.0          2.0       5.0  \n",
       "27           3.0     4.0          7.0       5.0  \n",
       "28           5.0     3.0          4.0       1.0  \n",
       "29           4.0     2.0          4.0       3.0  \n",
       "31           2.0     4.0          8.0       5.0  \n",
       "32           4.0     4.0          3.0       5.0  \n",
       "33           3.0     3.0          8.0       5.0  \n",
       "34           3.0     4.0          7.0       5.0  \n",
       "36           3.0     4.0          9.0       4.0  \n",
       "37           4.0     3.0          5.0       2.0  \n",
       "38           4.0     3.0          5.0       2.0  \n",
       "39           4.0     3.0          5.0       3.0  \n",
       "40           3.0     3.0          5.0       3.0  \n",
       "41           5.0     3.0          5.0       2.0  \n",
       "...          ...     ...          ...       ...  \n",
       "891190       4.0     2.0          5.0       3.0  \n",
       "891191       5.0     1.0          3.0       1.0  \n",
       "891192       3.0     3.0          5.0       1.0  \n",
       "891193       2.0     4.0          6.0       4.0  \n",
       "891194       4.0     4.0          8.0       5.0  \n",
       "891195       3.0     4.0          7.0       5.0  \n",
       "891196       3.0     3.0          4.0       5.0  \n",
       "891197       4.0     3.0          9.0       5.0  \n",
       "891198       5.0     3.0          9.0       5.0  \n",
       "891199       3.0     3.0          7.0       3.0  \n",
       "891200       3.0     4.0          6.0       5.0  \n",
       "891201       3.0     3.0          7.0       5.0  \n",
       "891202       2.0     4.0          8.0       5.0  \n",
       "891204       4.0     4.0          7.0       3.0  \n",
       "891205       2.0     3.0          7.0       5.0  \n",
       "891206       5.0     3.0          4.0       3.0  \n",
       "891207       2.0     1.0          5.0       1.0  \n",
       "891208       3.0     4.0          2.0       5.0  \n",
       "891209       4.0     4.0          5.0       5.0  \n",
       "891210       3.0     3.0          9.0       5.0  \n",
       "891211       2.0     3.0          5.0       5.0  \n",
       "891212       1.0     3.0          9.0       5.0  \n",
       "891213       5.0     3.0          4.0       4.0  \n",
       "891214       2.0     3.0          7.0       3.0  \n",
       "891215       4.0     2.0          5.0       2.0  \n",
       "891216       3.0     NaN          NaN       NaN  \n",
       "891217       3.0     4.0          6.0       5.0  \n",
       "891218       4.0     2.0          2.0       3.0  \n",
       "891219       1.0     4.0          7.0       5.0  \n",
       "891220       4.0     3.0          4.0       5.0  \n",
       "\n",
       "[747109 rows x 78 columns]"
      ]
     },
     "execution_count": 19,
     "metadata": {},
     "output_type": "execute_result"
    }
   ],
   "source": [
    "CAT_DROP = ['CAMEO_DEUG_2015','LP_FAMILIE_FEIN','LP_STATUS_FEIN']\n",
    "MIX_DROP = ['LP_LEBENSPHASE_FEIN']\n",
    "categorical.drop(CAT_DROP,axis=0)\n",
    "mixed.drop(MIX_DROP,axis=0)\n",
    "feat_wkg.drop(CAT_DROP,axis=0)\n",
    "feat_wkg.drop(MIX_DROP,axis=0)\n",
    "azdias_wkg.drop(CAT_DROP,axis=1)\n",
    "azdias_wkg.drop(MIX_DROP,axis=1)"
   ]
  },
  {
   "cell_type": "code",
   "execution_count": 20,
   "metadata": {
    "collapsed": true,
    "jupyter": {
     "outputs_hidden": true
    }
   },
   "outputs": [
    {
     "name": "stderr",
     "output_type": "stream",
     "text": [
      "/opt/conda/lib/python3.6/site-packages/pandas/core/indexes/base.py:1700: VisibleDeprecationWarning: boolean index did not match indexed array along dimension 0; dimension is 79 but corresponding boolean dimension is 57\n",
      "  result = getitem(key)\n"
     ]
    },
    {
     "data": {
      "text/plain": [
       "Index(['ALTERSKATEGORIE_GROB', 'FINANZ_SPARER', 'GREEN_AVANTGARDE',\n",
       "       'HEALTH_TYP', 'LP_FAMILIE_FEIN'],\n",
       "      dtype='object')"
      ]
     },
     "execution_count": 20,
     "metadata": {},
     "output_type": "execute_result"
    }
   ],
   "source": [
    "azdias_wkg.columns[azdias_wkg[categorical.index].nunique()==2]\n"
   ]
  },
  {
   "cell_type": "code",
   "execution_count": 21,
   "metadata": {
    "collapsed": true,
    "jupyter": {
     "outputs_hidden": true
    }
   },
   "outputs": [
    {
     "name": "stdout",
     "output_type": "stream",
     "text": [
      "<class 'pandas.core.frame.DataFrame'>\n",
      "Int64Index: 747109 entries, 1 to 891220\n",
      "Data columns (total 5 columns):\n",
      "ANREDE_KZ           747109 non-null int64\n",
      "GREEN_AVANTGARDE    747109 non-null int64\n",
      "SOHO_KZ             747109 non-null float64\n",
      "VERS_TYP            722753 non-null float64\n",
      "OST_WEST_KZ         747109 non-null object\n",
      "dtypes: float64(2), int64(2), object(1)\n",
      "memory usage: 34.2+ MB\n"
     ]
    }
   ],
   "source": [
    "cat_to_bin = list(azdias_wkg[categorical.index].nunique().index[azdias_wkg[categorical.index].nunique()==2])\n",
    "\n",
    "azdias_wkg[cat_to_bin].info();"
   ]
  },
  {
   "cell_type": "code",
   "execution_count": 22,
   "metadata": {},
   "outputs": [],
   "source": [
    "#2) One binary level variable is non numeric, find it and oen hot or encode it (O , W)"
   ]
  },
  {
   "cell_type": "code",
   "execution_count": 23,
   "metadata": {},
   "outputs": [
    {
     "name": "stdout",
     "output_type": "stream",
     "text": [
      "587514\n",
      "159595\n",
      "159595\n",
      "587514\n"
     ]
    }
   ],
   "source": [
    "print(azdias_wkg[azdias_wkg['OST_WEST_KZ']=='W']['OST_WEST_KZ'].count())\n",
    "print(azdias_wkg[azdias_wkg['OST_WEST_KZ']=='O']['OST_WEST_KZ'].count())\n",
    "\n",
    "azdias_wkg['OST_WEST_KZ'].replace(['O','W'],[int(1),int(2)],inplace=True)\n",
    "\n",
    "print(azdias_wkg[azdias_wkg['OST_WEST_KZ']==1]['OST_WEST_KZ'].count())\n",
    "print(azdias_wkg[azdias_wkg['OST_WEST_KZ']==2]['OST_WEST_KZ'].count())\n",
    "\n",
    "categorical_sans_bin = categorical.drop(cat_to_bin)\n",
    "cat_onehotlist = list(categorical_sans_bin.index)"
   ]
  },
  {
   "cell_type": "code",
   "execution_count": 24,
   "metadata": {},
   "outputs": [],
   "source": [
    "# Re-encode categorical variable(s) to be kept in the analysis\n",
    "azdias_wkg = pd.get_dummies(azdias_wkg,columns=cat_onehotlist)"
   ]
  },
  {
   "cell_type": "code",
   "execution_count": 25,
   "metadata": {},
   "outputs": [],
   "source": [
    "azdias_wkg.to_pickle('az_wkg_3.pickle')"
   ]
  },
  {
   "cell_type": "code",
   "execution_count": 26,
   "metadata": {},
   "outputs": [],
   "source": [
    "feat_wkg.to_pickle('feat_wkg_3.pickle')"
   ]
  },
  {
   "cell_type": "markdown",
   "metadata": {},
   "source": [
    "## CHECKPOINT 3"
   ]
  },
  {
   "cell_type": "code",
   "execution_count": 1,
   "metadata": {},
   "outputs": [],
   "source": [
    "# import libraries here; add more as necessary\n",
    "import numpy as np\n",
    "import pandas as pd\n",
    "import matplotlib.pyplot as plt\n",
    "import seaborn as sns\n",
    "import ast\n",
    "\n",
    "# magic word for producing visualizations in notebook\n",
    "%matplotlib inline"
   ]
  },
  {
   "cell_type": "code",
   "execution_count": 2,
   "metadata": {},
   "outputs": [],
   "source": [
    "azdias_wkg = pd.read_pickle('az_wkg_3.pickle')\n",
    "feat_wkg = pd.read_pickle('feat_wkg_3.pickle')\n"
   ]
  },
  {
   "cell_type": "code",
   "execution_count": 3,
   "metadata": {
    "collapsed": true,
    "jupyter": {
     "outputs_hidden": true
    }
   },
   "outputs": [
    {
     "name": "stdout",
     "output_type": "stream",
     "text": [
      "             information_level  missing_or_unknown  new\n",
      "type                                                   \n",
      "categorical                 57                  57   57\n",
      "mixed                        6                   6    6\n",
      "numeric                     16                  16   16\n"
     ]
    }
   ],
   "source": [
    "#### make this work with above\n",
    "print(feat_wkg.groupby('type').count())\n",
    "ordinal = feat_wkg[feat_wkg['type']=='ordinal']\n",
    "categorical = feat_wkg[feat_wkg['type']=='categorical']\n",
    "numerical = feat_wkg[feat_wkg['type']=='numeric']\n",
    "mixed = feat_wkg[feat_wkg['type']=='mixed']\n"
   ]
  },
  {
   "cell_type": "code",
   "execution_count": null,
   "metadata": {},
   "outputs": [],
   "source": []
  },
  {
   "cell_type": "markdown",
   "metadata": {},
   "source": [
    "#### Discussion 1.2.1: Re-Encode Categorical Features\n",
    "\n",
    "1) Binary categories were identified (cat_to_bin).  OST_WEST_KZ was identified as having a non_numerical category  Was recoded with O= 1 and W =2.  \n",
    "\n",
    "2) remainder of categorical data was one hot encoded.  "
   ]
  },
  {
   "cell_type": "markdown",
   "metadata": {},
   "source": [
    "#### Step 1.2.2: Engineer Mixed-Type Features\n",
    "\n",
    "There are a handful of features that are marked as \"mixed\" in the feature summary that require special treatment in order to be included in the analysis. There are two in particular that deserve attention; the handling of the rest are up to your own choices:\n",
    "- \"PRAEGENDE_JUGENDJAHRE\" combines information on three dimensions: generation by decade, movement (mainstream vs. avantgarde), and nation (east vs. west). While there aren't enough levels to disentangle east from west, you should create two new variables to capture the other two dimensions: an interval-type variable for decade, and a binary variable for movement.\n",
    "- \"CAMEO_INTL_2015\" combines information on two axes: wealth and life stage. Break up the two-digit codes by their 'tens'-place and 'ones'-place digits into two new ordinal variables (which, for the purposes of this project, is equivalent to just treating them as their raw numeric values).\n",
    "- If you decide to keep or engineer new features around the other mixed-type features, make sure you note your steps in the Discussion section.\n",
    "\n",
    "Be sure to check `Data_Dictionary.md` for the details needed to finish these tasks."
   ]
  },
  {
   "cell_type": "code",
   "execution_count": 4,
   "metadata": {
    "collapsed": true,
    "jupyter": {
     "outputs_hidden": true
    }
   },
   "outputs": [
    {
     "data": {
      "text/html": [
       "<div>\n",
       "<style>\n",
       "    .dataframe thead tr:only-child th {\n",
       "        text-align: right;\n",
       "    }\n",
       "\n",
       "    .dataframe thead th {\n",
       "        text-align: left;\n",
       "    }\n",
       "\n",
       "    .dataframe tbody tr th {\n",
       "        vertical-align: top;\n",
       "    }\n",
       "</style>\n",
       "<table border=\"1\" class=\"dataframe\">\n",
       "  <thead>\n",
       "    <tr style=\"text-align: right;\">\n",
       "      <th></th>\n",
       "      <th>information_level</th>\n",
       "      <th>type</th>\n",
       "      <th>missing_or_unknown</th>\n",
       "      <th>new</th>\n",
       "    </tr>\n",
       "    <tr>\n",
       "      <th>attribute</th>\n",
       "      <th></th>\n",
       "      <th></th>\n",
       "      <th></th>\n",
       "      <th></th>\n",
       "    </tr>\n",
       "  </thead>\n",
       "  <tbody>\n",
       "    <tr>\n",
       "      <th>LP_LEBENSPHASE_FEIN</th>\n",
       "      <td>person</td>\n",
       "      <td>mixed</td>\n",
       "      <td>[0]</td>\n",
       "      <td>float64</td>\n",
       "    </tr>\n",
       "    <tr>\n",
       "      <th>LP_LEBENSPHASE_GROB</th>\n",
       "      <td>person</td>\n",
       "      <td>mixed</td>\n",
       "      <td>[0]</td>\n",
       "      <td>float64</td>\n",
       "    </tr>\n",
       "    <tr>\n",
       "      <th>PRAEGENDE_JUGENDJAHRE</th>\n",
       "      <td>person</td>\n",
       "      <td>mixed</td>\n",
       "      <td>[-1,0]</td>\n",
       "      <td>int64</td>\n",
       "    </tr>\n",
       "    <tr>\n",
       "      <th>WOHNLAGE</th>\n",
       "      <td>building</td>\n",
       "      <td>mixed</td>\n",
       "      <td>[-1]</td>\n",
       "      <td>float64</td>\n",
       "    </tr>\n",
       "    <tr>\n",
       "      <th>CAMEO_INTL_2015</th>\n",
       "      <td>microcell_rr4</td>\n",
       "      <td>mixed</td>\n",
       "      <td>[-1,XX]</td>\n",
       "      <td>object</td>\n",
       "    </tr>\n",
       "    <tr>\n",
       "      <th>PLZ8_BAUMAX</th>\n",
       "      <td>macrocell_plz8</td>\n",
       "      <td>mixed</td>\n",
       "      <td>[-1,0]</td>\n",
       "      <td>float64</td>\n",
       "    </tr>\n",
       "  </tbody>\n",
       "</table>\n",
       "</div>"
      ],
      "text/plain": [
       "                      information_level   type missing_or_unknown      new\n",
       "attribute                                                                 \n",
       "LP_LEBENSPHASE_FEIN              person  mixed                [0]  float64\n",
       "LP_LEBENSPHASE_GROB              person  mixed                [0]  float64\n",
       "PRAEGENDE_JUGENDJAHRE            person  mixed             [-1,0]    int64\n",
       "WOHNLAGE                       building  mixed               [-1]  float64\n",
       "CAMEO_INTL_2015           microcell_rr4  mixed            [-1,XX]   object\n",
       "PLZ8_BAUMAX              macrocell_plz8  mixed             [-1,0]  float64"
      ]
     },
     "execution_count": 4,
     "metadata": {},
     "output_type": "execute_result"
    }
   ],
   "source": [
    "mixed"
   ]
  },
  {
   "cell_type": "code",
   "execution_count": 5,
   "metadata": {},
   "outputs": [
    {
     "name": "stderr",
     "output_type": "stream",
     "text": [
      "/opt/conda/lib/python3.6/site-packages/ipykernel_launcher.py:1: SettingWithCopyWarning: \n",
      "A value is trying to be set on a copy of a slice from a DataFrame\n",
      "\n",
      "See the caveats in the documentation: http://pandas.pydata.org/pandas-docs/stable/indexing.html#indexing-view-versus-copy\n",
      "  \"\"\"Entry point for launching an IPython kernel.\n"
     ]
    }
   ],
   "source": [
    "mixed.loc['test',:] = ['building','mixed','missing_or_unknown','float64']"
   ]
  },
  {
   "cell_type": "code",
   "execution_count": 6,
   "metadata": {
    "collapsed": true,
    "jupyter": {
     "outputs_hidden": true
    }
   },
   "outputs": [
    {
     "data": {
      "text/plain": [
       "array(['building', 'mixed', 'missing_or_unknown', 'float64'], dtype=object)"
      ]
     },
     "execution_count": 6,
     "metadata": {},
     "output_type": "execute_result"
    }
   ],
   "source": [
    "mixed.loc['test',:].values"
   ]
  },
  {
   "cell_type": "markdown",
   "metadata": {},
   "source": [
    "Investigate \"PRAEGENDE_JUGENDJAHRE\" and engineer two new variables.\n",
    "Keep orginal column, and add two more movement (mainstreem, avantgarge) and locale (E,W,Both)\n",
    "\n",
    "### 1.18. PRAEGENDE_JUGENDJAHRE\n",
    "Dominating movement of person's youth (avantgarde vs. mainstream; east vs. west)\n",
    "- -1: unknown\n",
    "-  0: unknown\n",
    "-  1: 40s - war years (Mainstream, E+W)\n",
    "-  2: 40s - reconstruction years (Avantgarde, E+W)\n",
    "-  3: 50s - economic miracle (Mainstream, E+W)\n",
    "-  4: 50s - milk bar / Individualisation (Avantgarde, E+W)\n",
    "-  5: 60s - economic miracle (Mainstream, E+W)\n",
    "-  6: 60s - generation 68 / student protestors (Avantgarde, W)\n",
    "-  7: 60s - opponents to the building of the Wall (Avantgarde, E)\n",
    "-  8: 70s - family orientation (Mainstream, E+W)\n",
    "-  9: 70s - peace movement (Avantgarde, E+W)\n",
    "- 10: 80s - Generation Golf (Mainstream, W)\n",
    "- 11: 80s - ecological awareness (Avantgarde, W)\n",
    "- 12: 80s - FDJ / communist party youth organisation (Mainstream, E)\n",
    "- 13: 80s - Swords into ploughshares (Avantgarde, E)\n",
    "- 14: 90s - digital media kids (Mainstream, E+W)\n",
    "- 15: 90s - ecological awareness (Avantgarde, E+W)\n",
    "\n",
    "#### 1.18.1. PRAEGENDE_JUGENDJAHRE_MVMT\n",
    "- 0: unknown\n",
    "- 1: Mainstream\n",
    "- 2: Avantgarde\n",
    "\n",
    "#### 1.18.2. PRAEGENDE_JUGENDJAHRE_LOC\n",
    "- 0: unknown\n",
    "- 1: east\n",
    "- 2: west\n",
    "- 3: both\n",
    "\n",
    "#### 1.18.3 PRAEGENDE_JUGENDJAHRE_DEC\n",
    "- 0: unknown\n",
    "- 1: 40s\n",
    "- 2: 50s\n",
    "- 3: 60s\n",
    "- 4: 70s\n",
    "- 5: 80s\n",
    "- 6: 90s\n"
   ]
  },
  {
   "cell_type": "markdown",
   "metadata": {},
   "source": [
    "Investigate \"CAMEO_INTL_2015\" and engineer two new variables.\n",
    "split into two, remove orginal column.\n",
    "this can be done by splitting the string of the category into two separate digits.  \n",
    "\n",
    "### 4.3. CAMEO_INTL_2015\n",
    "German CAMEO: Wealth / Life Stage Typology, mapped to international code\n",
    "- -1: unknown\n",
    "- 11: Wealthy Households - Pre-Family Couples & Singles\n",
    "- 12: Wealthy Households - Young Couples With Children\n",
    "- 13: Wealthy Households - Families With School Age Children\n",
    "- 14: Wealthy Households - Older Families &  Mature Couples\n",
    "- 15: Wealthy Households - Elders In Retirement\n",
    "- 21: Prosperous Households - Pre-Family Couples & Singles\n",
    "- 22: Prosperous Households - Young Couples With Children\n",
    "- 23: Prosperous Households - Families With School Age Children\n",
    "- 24: Prosperous Households - Older Families & Mature Couples\n",
    "- 25: Prosperous Households - Elders In Retirement\n",
    "- 31: Comfortable Households - Pre-Family Couples & Singles\n",
    "- 32: Comfortable Households - Young Couples With Children\n",
    "- 33: Comfortable Households - Families With School Age Children\n",
    "- 34: Comfortable Households - Older Families & Mature Couples\n",
    "- 35: Comfortable Households - Elders In Retirement\n",
    "- 41: Less Affluent Households - Pre-Family Couples & Singles\n",
    "- 42: Less Affluent Households - Young Couples With Children\n",
    "- 43: Less Affluent Households - Families With School Age Children\n",
    "- 44: Less Affluent Households - Older Families & Mature Couples\n",
    "- 45: Less Affluent Households - Elders In Retirement\n",
    "- 51: Poorer Households - Pre-Family Couples & Singles\n",
    "- 52: Poorer Households - Young Couples With Children\n",
    "- 53: Poorer Households - Families With School Age Children\n",
    "- 54: Poorer Households - Older Families & Mature Couples\n",
    "- 55: Poorer Households - Elders In Retirement\n",
    "- XX: unknown\n",
    "\n",
    "#### 4.3.1 CAMEO_INTL_2015_WEALTH\n",
    "- 0: unknown\n",
    "- 1: Wealthy Households\n",
    "- 2: Prosperous Households\n",
    "- 3: Comfortable Households\n",
    "- 4: Less Affluent Households\n",
    "- 5: Poorer Households\n",
    "\n",
    "#### 4.3.2 CAMEO_INTL_2015_TYPE\n",
    "- 0: unknown\n",
    "- 1: Pre-Family Couples & Singles\n",
    "- 2: Young Couples With Children\n",
    "- 3: Families With School Age Children\n",
    "- 4: Older Families &  Mature Couples\n",
    "- 5: Elders In Retirement"
   ]
  },
  {
   "cell_type": "code",
   "execution_count": 7,
   "metadata": {},
   "outputs": [],
   "source": [
    "CAM_col = 'CAMEO_INTL_2015'\n",
    "CAM_col_a = CAM_col + '_WEALTH'\n",
    "CAM_col_b = CAM_col + '_FAM_TYPE'"
   ]
  },
  {
   "cell_type": "code",
   "execution_count": null,
   "metadata": {},
   "outputs": [],
   "source": []
  },
  {
   "cell_type": "code",
   "execution_count": 8,
   "metadata": {},
   "outputs": [],
   "source": [
    "PJ_new = {1: [1,3,1],2: [2,3,1],3: [1,3,2],4: [2,3,2],5: [1,3,3],6: [2,2,3],7: [2,1,3],8: [1,3,4],\n",
    "          9: [2,3,4],10: [1,2,5],11: [2,2,5],12: [1,1,5],13: [2,1,5],14: [1,3,6],15: [2,3,6]}"
   ]
  },
  {
   "cell_type": "code",
   "execution_count": 9,
   "metadata": {},
   "outputs": [],
   "source": [
    "PJcol = 'PRAEGENDE_JUGENDJAHRE'\n",
    "PJcol_a = PJcol+'_MVMT'\n",
    "PJcol_b = PJcol+'_LOC'\n",
    "PJcol_c = PJcol+'_DEC'"
   ]
  },
  {
   "cell_type": "code",
   "execution_count": 10,
   "metadata": {},
   "outputs": [],
   "source": [
    "def return_single_char(row,column,digit):\n",
    "    if (isinstance(row[column],str)) and (len(row[column]) == 2):\n",
    "        return row[column][digit]\n",
    "    else:\n",
    "        return np.nan\n",
    "\n",
    "def return_lib_list(row,column,lib,index=0):\n",
    "    if (not np.isnan(row[column])):\n",
    "        return lib[int(row[column])][index]\n",
    "    else:\n",
    "        return np.nan"
   ]
  },
  {
   "cell_type": "code",
   "execution_count": null,
   "metadata": {},
   "outputs": [],
   "source": []
  },
  {
   "cell_type": "code",
   "execution_count": 11,
   "metadata": {},
   "outputs": [],
   "source": [
    "azdias_wkg[PJcol_a] = azdias_wkg.apply(lambda row: return_lib_list(row,PJcol,PJ_new,0),axis=1)"
   ]
  },
  {
   "cell_type": "code",
   "execution_count": 12,
   "metadata": {},
   "outputs": [],
   "source": [
    "azdias_wkg[PJcol_b] = azdias_wkg.apply(lambda row: return_lib_list(row,PJcol,PJ_new,1),axis=1)\n",
    "azdias_wkg[PJcol_c] = azdias_wkg.apply(lambda row: return_lib_list(row,PJcol,PJ_new,2),axis=1)"
   ]
  },
  {
   "cell_type": "code",
   "execution_count": 13,
   "metadata": {},
   "outputs": [],
   "source": [
    "azdias_wkg[CAM_col_a] = azdias_wkg.apply(lambda row: return_single_char(row,CAM_col,0),axis=1)\n",
    "azdias_wkg[CAM_col_b] = azdias_wkg.apply(lambda row: return_single_char(row,CAM_col,1),axis=1)"
   ]
  },
  {
   "cell_type": "code",
   "execution_count": 14,
   "metadata": {},
   "outputs": [],
   "source": [
    "azdias_wkg = azdias_wkg.drop([CAM_col,PJcol],axis=1)"
   ]
  },
  {
   "cell_type": "code",
   "execution_count": 15,
   "metadata": {},
   "outputs": [],
   "source": [
    "PJfeat = feat_wkg.loc[PJcol,:].values\n",
    "CAMfeat = feat_wkg.loc[CAM_col,:].values"
   ]
  },
  {
   "cell_type": "code",
   "execution_count": 16,
   "metadata": {},
   "outputs": [],
   "source": [
    "feat_wkg.loc[PJcol_a,:] = PJfeat\n",
    "feat_wkg.loc[PJcol_b,:] = PJfeat\n",
    "feat_wkg.loc[PJcol_c,:] = PJfeat\n",
    "feat_wkg.loc[CAM_col_a,:] = CAMfeat\n",
    "feat_wkg.loc[CAM_col_b,:] = CAMfeat"
   ]
  },
  {
   "cell_type": "code",
   "execution_count": 17,
   "metadata": {},
   "outputs": [],
   "source": [
    "feat_wkg = feat_wkg.drop([CAM_col,PJcol],axis=0)"
   ]
  },
  {
   "cell_type": "code",
   "execution_count": 18,
   "metadata": {},
   "outputs": [
    {
     "data": {
      "text/html": [
       "<div>\n",
       "<style>\n",
       "    .dataframe thead tr:only-child th {\n",
       "        text-align: right;\n",
       "    }\n",
       "\n",
       "    .dataframe thead th {\n",
       "        text-align: left;\n",
       "    }\n",
       "\n",
       "    .dataframe tbody tr th {\n",
       "        vertical-align: top;\n",
       "    }\n",
       "</style>\n",
       "<table border=\"1\" class=\"dataframe\">\n",
       "  <thead>\n",
       "    <tr style=\"text-align: right;\">\n",
       "      <th></th>\n",
       "      <th>information_level</th>\n",
       "      <th>type</th>\n",
       "      <th>missing_or_unknown</th>\n",
       "      <th>new</th>\n",
       "    </tr>\n",
       "    <tr>\n",
       "      <th>attribute</th>\n",
       "      <th></th>\n",
       "      <th></th>\n",
       "      <th></th>\n",
       "      <th></th>\n",
       "    </tr>\n",
       "  </thead>\n",
       "  <tbody>\n",
       "    <tr>\n",
       "      <th>LP_LEBENSPHASE_FEIN</th>\n",
       "      <td>person</td>\n",
       "      <td>mixed</td>\n",
       "      <td>[0]</td>\n",
       "      <td>float64</td>\n",
       "    </tr>\n",
       "    <tr>\n",
       "      <th>LP_LEBENSPHASE_GROB</th>\n",
       "      <td>person</td>\n",
       "      <td>mixed</td>\n",
       "      <td>[0]</td>\n",
       "      <td>float64</td>\n",
       "    </tr>\n",
       "    <tr>\n",
       "      <th>WOHNLAGE</th>\n",
       "      <td>building</td>\n",
       "      <td>mixed</td>\n",
       "      <td>[-1]</td>\n",
       "      <td>float64</td>\n",
       "    </tr>\n",
       "    <tr>\n",
       "      <th>PLZ8_BAUMAX</th>\n",
       "      <td>macrocell_plz8</td>\n",
       "      <td>mixed</td>\n",
       "      <td>[-1,0]</td>\n",
       "      <td>float64</td>\n",
       "    </tr>\n",
       "    <tr>\n",
       "      <th>PRAEGENDE_JUGENDJAHRE_MVMT</th>\n",
       "      <td>person</td>\n",
       "      <td>mixed</td>\n",
       "      <td>[-1,0]</td>\n",
       "      <td>int64</td>\n",
       "    </tr>\n",
       "    <tr>\n",
       "      <th>PRAEGENDE_JUGENDJAHRE_LOC</th>\n",
       "      <td>person</td>\n",
       "      <td>mixed</td>\n",
       "      <td>[-1,0]</td>\n",
       "      <td>int64</td>\n",
       "    </tr>\n",
       "    <tr>\n",
       "      <th>PRAEGENDE_JUGENDJAHRE_DEC</th>\n",
       "      <td>person</td>\n",
       "      <td>mixed</td>\n",
       "      <td>[-1,0]</td>\n",
       "      <td>int64</td>\n",
       "    </tr>\n",
       "    <tr>\n",
       "      <th>CAMEO_INTL_2015_WEALTH</th>\n",
       "      <td>microcell_rr4</td>\n",
       "      <td>mixed</td>\n",
       "      <td>[-1,XX]</td>\n",
       "      <td>object</td>\n",
       "    </tr>\n",
       "    <tr>\n",
       "      <th>CAMEO_INTL_2015_FAM_TYPE</th>\n",
       "      <td>microcell_rr4</td>\n",
       "      <td>mixed</td>\n",
       "      <td>[-1,XX]</td>\n",
       "      <td>object</td>\n",
       "    </tr>\n",
       "  </tbody>\n",
       "</table>\n",
       "</div>"
      ],
      "text/plain": [
       "                           information_level   type missing_or_unknown  \\\n",
       "attribute                                                                \n",
       "LP_LEBENSPHASE_FEIN                   person  mixed                [0]   \n",
       "LP_LEBENSPHASE_GROB                   person  mixed                [0]   \n",
       "WOHNLAGE                            building  mixed               [-1]   \n",
       "PLZ8_BAUMAX                   macrocell_plz8  mixed             [-1,0]   \n",
       "PRAEGENDE_JUGENDJAHRE_MVMT            person  mixed             [-1,0]   \n",
       "PRAEGENDE_JUGENDJAHRE_LOC             person  mixed             [-1,0]   \n",
       "PRAEGENDE_JUGENDJAHRE_DEC             person  mixed             [-1,0]   \n",
       "CAMEO_INTL_2015_WEALTH         microcell_rr4  mixed            [-1,XX]   \n",
       "CAMEO_INTL_2015_FAM_TYPE       microcell_rr4  mixed            [-1,XX]   \n",
       "\n",
       "                                new  \n",
       "attribute                            \n",
       "LP_LEBENSPHASE_FEIN         float64  \n",
       "LP_LEBENSPHASE_GROB         float64  \n",
       "WOHNLAGE                    float64  \n",
       "PLZ8_BAUMAX                 float64  \n",
       "PRAEGENDE_JUGENDJAHRE_MVMT    int64  \n",
       "PRAEGENDE_JUGENDJAHRE_LOC     int64  \n",
       "PRAEGENDE_JUGENDJAHRE_DEC     int64  \n",
       "CAMEO_INTL_2015_WEALTH       object  \n",
       "CAMEO_INTL_2015_FAM_TYPE     object  "
      ]
     },
     "execution_count": 18,
     "metadata": {},
     "output_type": "execute_result"
    }
   ],
   "source": [
    "feat_wkg[feat_wkg['type']=='mixed']"
   ]
  },
  {
   "cell_type": "code",
   "execution_count": 19,
   "metadata": {
    "collapsed": true,
    "jupyter": {
     "outputs_hidden": true
    }
   },
   "outputs": [
    {
     "data": {
      "text/plain": [
       "['LP_LEBENSPHASE_FEIN',\n",
       " 'LP_LEBENSPHASE_GROB',\n",
       " 'WOHNLAGE',\n",
       " 'PLZ8_BAUMAX',\n",
       " 'PRAEGENDE_JUGENDJAHRE_MVMT',\n",
       " 'PRAEGENDE_JUGENDJAHRE_LOC',\n",
       " 'PRAEGENDE_JUGENDJAHRE_DEC',\n",
       " 'CAMEO_INTL_2015_WEALTH',\n",
       " 'CAMEO_INTL_2015_FAM_TYPE']"
      ]
     },
     "execution_count": 19,
     "metadata": {},
     "output_type": "execute_result"
    }
   ],
   "source": [
    "mix_onehotlist = list(feat_wkg[feat_wkg['type']=='mixed'].index)\n",
    "mix_onehotlist"
   ]
  },
  {
   "cell_type": "code",
   "execution_count": 20,
   "metadata": {},
   "outputs": [],
   "source": [
    "azdias_wkg = pd.get_dummies(azdias_wkg,columns=mix_onehotlist)"
   ]
  },
  {
   "cell_type": "code",
   "execution_count": 21,
   "metadata": {},
   "outputs": [
    {
     "data": {
      "text/plain": [
       "(747109, 455)"
      ]
     },
     "execution_count": 21,
     "metadata": {},
     "output_type": "execute_result"
    }
   ],
   "source": [
    "azdias_wkg.shape"
   ]
  },
  {
   "cell_type": "code",
   "execution_count": 22,
   "metadata": {},
   "outputs": [],
   "source": [
    "azdias_wkg.to_pickle('az_wkg_4.pickle')\n",
    "feat_wkg.to_pickle('feat_wkg_4.pickle')"
   ]
  },
  {
   "cell_type": "code",
   "execution_count": null,
   "metadata": {},
   "outputs": [],
   "source": []
  },
  {
   "cell_type": "markdown",
   "metadata": {},
   "source": [
    "#### Discussion 1.2.2: Engineer Mixed-Type Features\n",
    "PRAEGENDE_JUGENDJAHRE\n",
    "- I created threesubclasses, which I called movement(MVMT) for avantgarde vs mainstreem and locale (LOC) for east, west or both, and DEC for decade. Dropped the original column\n",
    "\n",
    "CAMEO_INTL_2015 \n",
    "- I split into two separate categoies and dropped the original, since this category was purely all combinations of an intercsectio of two categories.  So i split this category into wealth and family type, and dropped the original.\n",
    "\n",
    "REMAINDER\n",
    "- The 5 resultant categories above will be one hot encoded with the other categorical variables.\n",
    "\n",
    "- LP_LEBENSPHASE_FEIN - Iformation is mostly in CAMEO_INTL_2015, - so i didnt see a need to parse this into separate categories and left as is.  -> Categorical so we will one hot encode this.\n",
    "\n",
    "- #LP_...._GROB - second dimention is reference to fine scale.  No evidence that scale is linear or otherwise so will leave as is for now.  I guess an argument can be made that this is ordinal.  The fine scale is not linear with the category numbers, but I will leave as is but move to ordinal.\n",
    "\n",
    "- WOHNLAGE - little value splitting into two dimentions - would only benifit one of the several options. Leave as categorical and one hot encode. \n",
    "\n",
    "- Same as WOHNLAGE - may be able to convert to numerical but will leave as categorical for now. one hot encode.\n"
   ]
  },
  {
   "cell_type": "markdown",
   "metadata": {},
   "source": [
    "## Checkpoint 4"
   ]
  },
  {
   "cell_type": "code",
   "execution_count": 23,
   "metadata": {},
   "outputs": [],
   "source": [
    "# import libraries here; add more as necessary\n",
    "import numpy as np\n",
    "import pandas as pd\n",
    "import matplotlib.pyplot as plt\n",
    "import seaborn as sns\n",
    "import ast\n",
    "\n",
    "# magic word for producing visualizations in notebook\n",
    "%matplotlib inline\n"
   ]
  },
  {
   "cell_type": "code",
   "execution_count": 24,
   "metadata": {},
   "outputs": [],
   "source": [
    "azdias_wkg = pd.read_pickle('az_wkg_4.pickle')\n",
    "feat_wkg = pd.read_pickle('feat_wkg_4.pickle')\n"
   ]
  },
  {
   "cell_type": "code",
   "execution_count": null,
   "metadata": {},
   "outputs": [],
   "source": []
  },
  {
   "cell_type": "markdown",
   "metadata": {},
   "source": [
    "#### Step 1.2.3: Complete Feature Selection\n",
    "\n",
    "In order to finish this step up, you need to make sure that your data frame now only has the columns that you want to keep. To summarize, the dataframe should consist of the following:\n",
    "- All numeric, interval, and ordinal type columns from the original dataset.\n",
    "- Binary categorical features (all numerically-encoded).\n",
    "- Engineered features from other multi-level categorical features and mixed features.\n",
    "\n",
    "Make sure that for any new columns that you have engineered, that you've excluded the original columns from the final dataset. Otherwise, their values will interfere with the analysis later on the project. For example, you should not keep \"PRAEGENDE_JUGENDJAHRE\", since its values won't be useful for the algorithm: only the values derived from it in the engineered features you created should be retained. As a reminder, your data should only be from **the subset with few or no missing values**.  \n",
    "\n"
   ]
  },
  {
   "cell_type": "code",
   "execution_count": 25,
   "metadata": {},
   "outputs": [],
   "source": [
    "# If there are other re-engineering tasks you need to perform, make sure you\n",
    "# take care of them here. (Dealing with missing data will come in step 2.1.)\n",
    "\n",
    "\n",
    "# Note, I converted the ordinal to numerical or categorical above.\n",
    "\n"
   ]
  },
  {
   "cell_type": "markdown",
   "metadata": {},
   "source": [
    "*SAvE FOR LATER\n",
    "\n",
    "Using normality test per https://gist.github.com/syahdeini/0fc3b1b88444f04ea4b3.js\n",
    "\n",
    "from scipy import stats\n",
    "\n",
    "azdias_wkg.loc[:,(ordinal_amb[1])].isnull().sum()\n",
    "\n",
    "k,p=stats.mstats.normaltest(azdias_wkg.loc[:,(ordinal_amb[1])])\n",
    "\n",
    "for xx in ordinal.index:\n",
    "    print(xx)\n",
    "    k,p=stats.mstats.normaltest(azdias_wkg.loc[:,(xx)])\n",
    "    if p < 0.5:\n",
    "        ordinal.loc[(xx),('normal')]=True\n",
    "    elif p <= 0.5:\n",
    "        ordinal.loc[(xx),('normal')]=False\n",
    "    else:\n",
    "        print('Error detecting normality in: ', xx)\n"
   ]
  },
  {
   "cell_type": "code",
   "execution_count": 26,
   "metadata": {},
   "outputs": [
    {
     "data": {
      "text/html": [
       "<div>\n",
       "<style>\n",
       "    .dataframe thead tr:only-child th {\n",
       "        text-align: right;\n",
       "    }\n",
       "\n",
       "    .dataframe thead th {\n",
       "        text-align: left;\n",
       "    }\n",
       "\n",
       "    .dataframe tbody tr th {\n",
       "        vertical-align: top;\n",
       "    }\n",
       "</style>\n",
       "<table border=\"1\" class=\"dataframe\">\n",
       "  <thead>\n",
       "    <tr style=\"text-align: right;\">\n",
       "      <th></th>\n",
       "      <th>information_level</th>\n",
       "      <th>type</th>\n",
       "      <th>missing_or_unknown</th>\n",
       "      <th>new</th>\n",
       "    </tr>\n",
       "    <tr>\n",
       "      <th>attribute</th>\n",
       "      <th></th>\n",
       "      <th></th>\n",
       "      <th></th>\n",
       "      <th></th>\n",
       "    </tr>\n",
       "  </thead>\n",
       "  <tbody>\n",
       "    <tr>\n",
       "      <th>ALTERSKATEGORIE_GROB</th>\n",
       "      <td>person</td>\n",
       "      <td>numeric</td>\n",
       "      <td>[-1,0,9]</td>\n",
       "      <td>int64</td>\n",
       "    </tr>\n",
       "    <tr>\n",
       "      <th>ANREDE_KZ</th>\n",
       "      <td>person</td>\n",
       "      <td>categorical</td>\n",
       "      <td>[-1,0]</td>\n",
       "      <td>int64</td>\n",
       "    </tr>\n",
       "    <tr>\n",
       "      <th>CJT_GESAMTTYP</th>\n",
       "      <td>person</td>\n",
       "      <td>categorical</td>\n",
       "      <td>[0]</td>\n",
       "      <td>float64</td>\n",
       "    </tr>\n",
       "    <tr>\n",
       "      <th>FINANZ_MINIMALIST</th>\n",
       "      <td>person</td>\n",
       "      <td>categorical</td>\n",
       "      <td>[-1]</td>\n",
       "      <td>int64</td>\n",
       "    </tr>\n",
       "    <tr>\n",
       "      <th>FINANZ_SPARER</th>\n",
       "      <td>person</td>\n",
       "      <td>categorical</td>\n",
       "      <td>[-1]</td>\n",
       "      <td>int64</td>\n",
       "    </tr>\n",
       "    <tr>\n",
       "      <th>FINANZ_VORSORGER</th>\n",
       "      <td>person</td>\n",
       "      <td>categorical</td>\n",
       "      <td>[-1]</td>\n",
       "      <td>int64</td>\n",
       "    </tr>\n",
       "    <tr>\n",
       "      <th>FINANZ_ANLEGER</th>\n",
       "      <td>person</td>\n",
       "      <td>categorical</td>\n",
       "      <td>[-1]</td>\n",
       "      <td>int64</td>\n",
       "    </tr>\n",
       "    <tr>\n",
       "      <th>FINANZ_UNAUFFAELLIGER</th>\n",
       "      <td>person</td>\n",
       "      <td>categorical</td>\n",
       "      <td>[-1]</td>\n",
       "      <td>int64</td>\n",
       "    </tr>\n",
       "    <tr>\n",
       "      <th>FINANZ_HAUSBAUER</th>\n",
       "      <td>person</td>\n",
       "      <td>categorical</td>\n",
       "      <td>[-1]</td>\n",
       "      <td>int64</td>\n",
       "    </tr>\n",
       "    <tr>\n",
       "      <th>FINANZTYP</th>\n",
       "      <td>person</td>\n",
       "      <td>categorical</td>\n",
       "      <td>[-1]</td>\n",
       "      <td>int64</td>\n",
       "    </tr>\n",
       "    <tr>\n",
       "      <th>GFK_URLAUBERTYP</th>\n",
       "      <td>person</td>\n",
       "      <td>categorical</td>\n",
       "      <td>[]</td>\n",
       "      <td>float64</td>\n",
       "    </tr>\n",
       "    <tr>\n",
       "      <th>GREEN_AVANTGARDE</th>\n",
       "      <td>person</td>\n",
       "      <td>categorical</td>\n",
       "      <td>[]</td>\n",
       "      <td>int64</td>\n",
       "    </tr>\n",
       "    <tr>\n",
       "      <th>HEALTH_TYP</th>\n",
       "      <td>person</td>\n",
       "      <td>categorical</td>\n",
       "      <td>[-1,0]</td>\n",
       "      <td>int64</td>\n",
       "    </tr>\n",
       "    <tr>\n",
       "      <th>LP_LEBENSPHASE_FEIN</th>\n",
       "      <td>person</td>\n",
       "      <td>mixed</td>\n",
       "      <td>[0]</td>\n",
       "      <td>float64</td>\n",
       "    </tr>\n",
       "    <tr>\n",
       "      <th>LP_LEBENSPHASE_GROB</th>\n",
       "      <td>person</td>\n",
       "      <td>mixed</td>\n",
       "      <td>[0]</td>\n",
       "      <td>float64</td>\n",
       "    </tr>\n",
       "    <tr>\n",
       "      <th>LP_FAMILIE_FEIN</th>\n",
       "      <td>person</td>\n",
       "      <td>categorical</td>\n",
       "      <td>[0]</td>\n",
       "      <td>float64</td>\n",
       "    </tr>\n",
       "    <tr>\n",
       "      <th>LP_FAMILIE_GROB</th>\n",
       "      <td>person</td>\n",
       "      <td>categorical</td>\n",
       "      <td>[0]</td>\n",
       "      <td>float64</td>\n",
       "    </tr>\n",
       "    <tr>\n",
       "      <th>LP_STATUS_FEIN</th>\n",
       "      <td>person</td>\n",
       "      <td>categorical</td>\n",
       "      <td>[0]</td>\n",
       "      <td>float64</td>\n",
       "    </tr>\n",
       "    <tr>\n",
       "      <th>LP_STATUS_GROB</th>\n",
       "      <td>person</td>\n",
       "      <td>categorical</td>\n",
       "      <td>[0]</td>\n",
       "      <td>float64</td>\n",
       "    </tr>\n",
       "    <tr>\n",
       "      <th>NATIONALITAET_KZ</th>\n",
       "      <td>person</td>\n",
       "      <td>categorical</td>\n",
       "      <td>[-1,0]</td>\n",
       "      <td>int64</td>\n",
       "    </tr>\n",
       "    <tr>\n",
       "      <th>RETOURTYP_BK_S</th>\n",
       "      <td>person</td>\n",
       "      <td>categorical</td>\n",
       "      <td>[0]</td>\n",
       "      <td>float64</td>\n",
       "    </tr>\n",
       "    <tr>\n",
       "      <th>SEMIO_SOZ</th>\n",
       "      <td>person</td>\n",
       "      <td>categorical</td>\n",
       "      <td>[-1,9]</td>\n",
       "      <td>int64</td>\n",
       "    </tr>\n",
       "    <tr>\n",
       "      <th>SEMIO_FAM</th>\n",
       "      <td>person</td>\n",
       "      <td>categorical</td>\n",
       "      <td>[-1,9]</td>\n",
       "      <td>int64</td>\n",
       "    </tr>\n",
       "    <tr>\n",
       "      <th>SEMIO_REL</th>\n",
       "      <td>person</td>\n",
       "      <td>categorical</td>\n",
       "      <td>[-1,9]</td>\n",
       "      <td>int64</td>\n",
       "    </tr>\n",
       "    <tr>\n",
       "      <th>SEMIO_MAT</th>\n",
       "      <td>person</td>\n",
       "      <td>categorical</td>\n",
       "      <td>[-1,9]</td>\n",
       "      <td>int64</td>\n",
       "    </tr>\n",
       "    <tr>\n",
       "      <th>SEMIO_VERT</th>\n",
       "      <td>person</td>\n",
       "      <td>categorical</td>\n",
       "      <td>[-1,9]</td>\n",
       "      <td>int64</td>\n",
       "    </tr>\n",
       "    <tr>\n",
       "      <th>SEMIO_LUST</th>\n",
       "      <td>person</td>\n",
       "      <td>categorical</td>\n",
       "      <td>[-1,9]</td>\n",
       "      <td>int64</td>\n",
       "    </tr>\n",
       "    <tr>\n",
       "      <th>SEMIO_ERL</th>\n",
       "      <td>person</td>\n",
       "      <td>categorical</td>\n",
       "      <td>[-1,9]</td>\n",
       "      <td>int64</td>\n",
       "    </tr>\n",
       "    <tr>\n",
       "      <th>SEMIO_KULT</th>\n",
       "      <td>person</td>\n",
       "      <td>categorical</td>\n",
       "      <td>[-1,9]</td>\n",
       "      <td>int64</td>\n",
       "    </tr>\n",
       "    <tr>\n",
       "      <th>SEMIO_RAT</th>\n",
       "      <td>person</td>\n",
       "      <td>categorical</td>\n",
       "      <td>[-1,9]</td>\n",
       "      <td>int64</td>\n",
       "    </tr>\n",
       "    <tr>\n",
       "      <th>...</th>\n",
       "      <td>...</td>\n",
       "      <td>...</td>\n",
       "      <td>...</td>\n",
       "      <td>...</td>\n",
       "    </tr>\n",
       "    <tr>\n",
       "      <th>CAMEO_DEU_2015</th>\n",
       "      <td>microcell_rr4</td>\n",
       "      <td>categorical</td>\n",
       "      <td>[XX]</td>\n",
       "      <td>object</td>\n",
       "    </tr>\n",
       "    <tr>\n",
       "      <th>KBA05_ANTG1</th>\n",
       "      <td>microcell_rr3</td>\n",
       "      <td>categorical</td>\n",
       "      <td>[-1]</td>\n",
       "      <td>float64</td>\n",
       "    </tr>\n",
       "    <tr>\n",
       "      <th>KBA05_ANTG2</th>\n",
       "      <td>microcell_rr3</td>\n",
       "      <td>categorical</td>\n",
       "      <td>[-1]</td>\n",
       "      <td>float64</td>\n",
       "    </tr>\n",
       "    <tr>\n",
       "      <th>KBA05_ANTG3</th>\n",
       "      <td>microcell_rr3</td>\n",
       "      <td>categorical</td>\n",
       "      <td>[-1]</td>\n",
       "      <td>float64</td>\n",
       "    </tr>\n",
       "    <tr>\n",
       "      <th>KBA05_ANTG4</th>\n",
       "      <td>microcell_rr3</td>\n",
       "      <td>categorical</td>\n",
       "      <td>[-1]</td>\n",
       "      <td>float64</td>\n",
       "    </tr>\n",
       "    <tr>\n",
       "      <th>KBA05_GBZ</th>\n",
       "      <td>microcell_rr3</td>\n",
       "      <td>numeric</td>\n",
       "      <td>[-1,0]</td>\n",
       "      <td>float64</td>\n",
       "    </tr>\n",
       "    <tr>\n",
       "      <th>BALLRAUM</th>\n",
       "      <td>postcode</td>\n",
       "      <td>numeric</td>\n",
       "      <td>[-1]</td>\n",
       "      <td>float64</td>\n",
       "    </tr>\n",
       "    <tr>\n",
       "      <th>EWDICHTE</th>\n",
       "      <td>postcode</td>\n",
       "      <td>numeric</td>\n",
       "      <td>[-1]</td>\n",
       "      <td>float64</td>\n",
       "    </tr>\n",
       "    <tr>\n",
       "      <th>INNENSTADT</th>\n",
       "      <td>postcode</td>\n",
       "      <td>numeric</td>\n",
       "      <td>[-1]</td>\n",
       "      <td>float64</td>\n",
       "    </tr>\n",
       "    <tr>\n",
       "      <th>GEBAEUDETYP_RASTER</th>\n",
       "      <td>region_rr1</td>\n",
       "      <td>categorical</td>\n",
       "      <td>[]</td>\n",
       "      <td>float64</td>\n",
       "    </tr>\n",
       "    <tr>\n",
       "      <th>KKK</th>\n",
       "      <td>region_rr1</td>\n",
       "      <td>categorical</td>\n",
       "      <td>[-1,0]</td>\n",
       "      <td>float64</td>\n",
       "    </tr>\n",
       "    <tr>\n",
       "      <th>MOBI_REGIO</th>\n",
       "      <td>region_rr1</td>\n",
       "      <td>categorical</td>\n",
       "      <td>[]</td>\n",
       "      <td>float64</td>\n",
       "    </tr>\n",
       "    <tr>\n",
       "      <th>ONLINE_AFFINITAET</th>\n",
       "      <td>region_rr1</td>\n",
       "      <td>categorical</td>\n",
       "      <td>[]</td>\n",
       "      <td>float64</td>\n",
       "    </tr>\n",
       "    <tr>\n",
       "      <th>REGIOTYP</th>\n",
       "      <td>region_rr1</td>\n",
       "      <td>categorical</td>\n",
       "      <td>[-1,0]</td>\n",
       "      <td>float64</td>\n",
       "    </tr>\n",
       "    <tr>\n",
       "      <th>KBA13_ANZAHL_PKW</th>\n",
       "      <td>macrocell_plz8</td>\n",
       "      <td>numeric</td>\n",
       "      <td>[]</td>\n",
       "      <td>float64</td>\n",
       "    </tr>\n",
       "    <tr>\n",
       "      <th>PLZ8_ANTG1</th>\n",
       "      <td>macrocell_plz8</td>\n",
       "      <td>categorical</td>\n",
       "      <td>[-1]</td>\n",
       "      <td>float64</td>\n",
       "    </tr>\n",
       "    <tr>\n",
       "      <th>PLZ8_ANTG2</th>\n",
       "      <td>macrocell_plz8</td>\n",
       "      <td>categorical</td>\n",
       "      <td>[-1]</td>\n",
       "      <td>float64</td>\n",
       "    </tr>\n",
       "    <tr>\n",
       "      <th>PLZ8_ANTG3</th>\n",
       "      <td>macrocell_plz8</td>\n",
       "      <td>categorical</td>\n",
       "      <td>[-1]</td>\n",
       "      <td>float64</td>\n",
       "    </tr>\n",
       "    <tr>\n",
       "      <th>PLZ8_ANTG4</th>\n",
       "      <td>macrocell_plz8</td>\n",
       "      <td>categorical</td>\n",
       "      <td>[-1]</td>\n",
       "      <td>float64</td>\n",
       "    </tr>\n",
       "    <tr>\n",
       "      <th>PLZ8_BAUMAX</th>\n",
       "      <td>macrocell_plz8</td>\n",
       "      <td>mixed</td>\n",
       "      <td>[-1,0]</td>\n",
       "      <td>float64</td>\n",
       "    </tr>\n",
       "    <tr>\n",
       "      <th>PLZ8_HHZ</th>\n",
       "      <td>macrocell_plz8</td>\n",
       "      <td>numeric</td>\n",
       "      <td>[-1]</td>\n",
       "      <td>float64</td>\n",
       "    </tr>\n",
       "    <tr>\n",
       "      <th>PLZ8_GBZ</th>\n",
       "      <td>macrocell_plz8</td>\n",
       "      <td>numeric</td>\n",
       "      <td>[-1]</td>\n",
       "      <td>float64</td>\n",
       "    </tr>\n",
       "    <tr>\n",
       "      <th>ARBEIT</th>\n",
       "      <td>community</td>\n",
       "      <td>categorical</td>\n",
       "      <td>[-1,9]</td>\n",
       "      <td>float64</td>\n",
       "    </tr>\n",
       "    <tr>\n",
       "      <th>ORTSGR_KLS9</th>\n",
       "      <td>community</td>\n",
       "      <td>numeric</td>\n",
       "      <td>[-1,0]</td>\n",
       "      <td>float64</td>\n",
       "    </tr>\n",
       "    <tr>\n",
       "      <th>RELAT_AB</th>\n",
       "      <td>community</td>\n",
       "      <td>categorical</td>\n",
       "      <td>[-1,9]</td>\n",
       "      <td>float64</td>\n",
       "    </tr>\n",
       "    <tr>\n",
       "      <th>PRAEGENDE_JUGENDJAHRE_MVMT</th>\n",
       "      <td>person</td>\n",
       "      <td>mixed</td>\n",
       "      <td>[-1,0]</td>\n",
       "      <td>int64</td>\n",
       "    </tr>\n",
       "    <tr>\n",
       "      <th>PRAEGENDE_JUGENDJAHRE_LOC</th>\n",
       "      <td>person</td>\n",
       "      <td>mixed</td>\n",
       "      <td>[-1,0]</td>\n",
       "      <td>int64</td>\n",
       "    </tr>\n",
       "    <tr>\n",
       "      <th>PRAEGENDE_JUGENDJAHRE_DEC</th>\n",
       "      <td>person</td>\n",
       "      <td>mixed</td>\n",
       "      <td>[-1,0]</td>\n",
       "      <td>int64</td>\n",
       "    </tr>\n",
       "    <tr>\n",
       "      <th>CAMEO_INTL_2015_WEALTH</th>\n",
       "      <td>microcell_rr4</td>\n",
       "      <td>mixed</td>\n",
       "      <td>[-1,XX]</td>\n",
       "      <td>object</td>\n",
       "    </tr>\n",
       "    <tr>\n",
       "      <th>CAMEO_INTL_2015_FAM_TYPE</th>\n",
       "      <td>microcell_rr4</td>\n",
       "      <td>mixed</td>\n",
       "      <td>[-1,XX]</td>\n",
       "      <td>object</td>\n",
       "    </tr>\n",
       "  </tbody>\n",
       "</table>\n",
       "<p>82 rows × 4 columns</p>\n",
       "</div>"
      ],
      "text/plain": [
       "                           information_level         type missing_or_unknown  \\\n",
       "attribute                                                                      \n",
       "ALTERSKATEGORIE_GROB                  person      numeric           [-1,0,9]   \n",
       "ANREDE_KZ                             person  categorical             [-1,0]   \n",
       "CJT_GESAMTTYP                         person  categorical                [0]   \n",
       "FINANZ_MINIMALIST                     person  categorical               [-1]   \n",
       "FINANZ_SPARER                         person  categorical               [-1]   \n",
       "FINANZ_VORSORGER                      person  categorical               [-1]   \n",
       "FINANZ_ANLEGER                        person  categorical               [-1]   \n",
       "FINANZ_UNAUFFAELLIGER                 person  categorical               [-1]   \n",
       "FINANZ_HAUSBAUER                      person  categorical               [-1]   \n",
       "FINANZTYP                             person  categorical               [-1]   \n",
       "GFK_URLAUBERTYP                       person  categorical                 []   \n",
       "GREEN_AVANTGARDE                      person  categorical                 []   \n",
       "HEALTH_TYP                            person  categorical             [-1,0]   \n",
       "LP_LEBENSPHASE_FEIN                   person        mixed                [0]   \n",
       "LP_LEBENSPHASE_GROB                   person        mixed                [0]   \n",
       "LP_FAMILIE_FEIN                       person  categorical                [0]   \n",
       "LP_FAMILIE_GROB                       person  categorical                [0]   \n",
       "LP_STATUS_FEIN                        person  categorical                [0]   \n",
       "LP_STATUS_GROB                        person  categorical                [0]   \n",
       "NATIONALITAET_KZ                      person  categorical             [-1,0]   \n",
       "RETOURTYP_BK_S                        person  categorical                [0]   \n",
       "SEMIO_SOZ                             person  categorical             [-1,9]   \n",
       "SEMIO_FAM                             person  categorical             [-1,9]   \n",
       "SEMIO_REL                             person  categorical             [-1,9]   \n",
       "SEMIO_MAT                             person  categorical             [-1,9]   \n",
       "SEMIO_VERT                            person  categorical             [-1,9]   \n",
       "SEMIO_LUST                            person  categorical             [-1,9]   \n",
       "SEMIO_ERL                             person  categorical             [-1,9]   \n",
       "SEMIO_KULT                            person  categorical             [-1,9]   \n",
       "SEMIO_RAT                             person  categorical             [-1,9]   \n",
       "...                                      ...          ...                ...   \n",
       "CAMEO_DEU_2015                 microcell_rr4  categorical               [XX]   \n",
       "KBA05_ANTG1                    microcell_rr3  categorical               [-1]   \n",
       "KBA05_ANTG2                    microcell_rr3  categorical               [-1]   \n",
       "KBA05_ANTG3                    microcell_rr3  categorical               [-1]   \n",
       "KBA05_ANTG4                    microcell_rr3  categorical               [-1]   \n",
       "KBA05_GBZ                      microcell_rr3      numeric             [-1,0]   \n",
       "BALLRAUM                            postcode      numeric               [-1]   \n",
       "EWDICHTE                            postcode      numeric               [-1]   \n",
       "INNENSTADT                          postcode      numeric               [-1]   \n",
       "GEBAEUDETYP_RASTER                region_rr1  categorical                 []   \n",
       "KKK                               region_rr1  categorical             [-1,0]   \n",
       "MOBI_REGIO                        region_rr1  categorical                 []   \n",
       "ONLINE_AFFINITAET                 region_rr1  categorical                 []   \n",
       "REGIOTYP                          region_rr1  categorical             [-1,0]   \n",
       "KBA13_ANZAHL_PKW              macrocell_plz8      numeric                 []   \n",
       "PLZ8_ANTG1                    macrocell_plz8  categorical               [-1]   \n",
       "PLZ8_ANTG2                    macrocell_plz8  categorical               [-1]   \n",
       "PLZ8_ANTG3                    macrocell_plz8  categorical               [-1]   \n",
       "PLZ8_ANTG4                    macrocell_plz8  categorical               [-1]   \n",
       "PLZ8_BAUMAX                   macrocell_plz8        mixed             [-1,0]   \n",
       "PLZ8_HHZ                      macrocell_plz8      numeric               [-1]   \n",
       "PLZ8_GBZ                      macrocell_plz8      numeric               [-1]   \n",
       "ARBEIT                             community  categorical             [-1,9]   \n",
       "ORTSGR_KLS9                        community      numeric             [-1,0]   \n",
       "RELAT_AB                           community  categorical             [-1,9]   \n",
       "PRAEGENDE_JUGENDJAHRE_MVMT            person        mixed             [-1,0]   \n",
       "PRAEGENDE_JUGENDJAHRE_LOC             person        mixed             [-1,0]   \n",
       "PRAEGENDE_JUGENDJAHRE_DEC             person        mixed             [-1,0]   \n",
       "CAMEO_INTL_2015_WEALTH         microcell_rr4        mixed            [-1,XX]   \n",
       "CAMEO_INTL_2015_FAM_TYPE       microcell_rr4        mixed            [-1,XX]   \n",
       "\n",
       "                                new  \n",
       "attribute                            \n",
       "ALTERSKATEGORIE_GROB          int64  \n",
       "ANREDE_KZ                     int64  \n",
       "CJT_GESAMTTYP               float64  \n",
       "FINANZ_MINIMALIST             int64  \n",
       "FINANZ_SPARER                 int64  \n",
       "FINANZ_VORSORGER              int64  \n",
       "FINANZ_ANLEGER                int64  \n",
       "FINANZ_UNAUFFAELLIGER         int64  \n",
       "FINANZ_HAUSBAUER              int64  \n",
       "FINANZTYP                     int64  \n",
       "GFK_URLAUBERTYP             float64  \n",
       "GREEN_AVANTGARDE              int64  \n",
       "HEALTH_TYP                    int64  \n",
       "LP_LEBENSPHASE_FEIN         float64  \n",
       "LP_LEBENSPHASE_GROB         float64  \n",
       "LP_FAMILIE_FEIN             float64  \n",
       "LP_FAMILIE_GROB             float64  \n",
       "LP_STATUS_FEIN              float64  \n",
       "LP_STATUS_GROB              float64  \n",
       "NATIONALITAET_KZ              int64  \n",
       "RETOURTYP_BK_S              float64  \n",
       "SEMIO_SOZ                     int64  \n",
       "SEMIO_FAM                     int64  \n",
       "SEMIO_REL                     int64  \n",
       "SEMIO_MAT                     int64  \n",
       "SEMIO_VERT                    int64  \n",
       "SEMIO_LUST                    int64  \n",
       "SEMIO_ERL                     int64  \n",
       "SEMIO_KULT                    int64  \n",
       "SEMIO_RAT                     int64  \n",
       "...                             ...  \n",
       "CAMEO_DEU_2015               object  \n",
       "KBA05_ANTG1                 float64  \n",
       "KBA05_ANTG2                 float64  \n",
       "KBA05_ANTG3                 float64  \n",
       "KBA05_ANTG4                 float64  \n",
       "KBA05_GBZ                   float64  \n",
       "BALLRAUM                    float64  \n",
       "EWDICHTE                    float64  \n",
       "INNENSTADT                  float64  \n",
       "GEBAEUDETYP_RASTER          float64  \n",
       "KKK                         float64  \n",
       "MOBI_REGIO                  float64  \n",
       "ONLINE_AFFINITAET           float64  \n",
       "REGIOTYP                    float64  \n",
       "KBA13_ANZAHL_PKW            float64  \n",
       "PLZ8_ANTG1                  float64  \n",
       "PLZ8_ANTG2                  float64  \n",
       "PLZ8_ANTG3                  float64  \n",
       "PLZ8_ANTG4                  float64  \n",
       "PLZ8_BAUMAX                 float64  \n",
       "PLZ8_HHZ                    float64  \n",
       "PLZ8_GBZ                    float64  \n",
       "ARBEIT                      float64  \n",
       "ORTSGR_KLS9                 float64  \n",
       "RELAT_AB                    float64  \n",
       "PRAEGENDE_JUGENDJAHRE_MVMT    int64  \n",
       "PRAEGENDE_JUGENDJAHRE_LOC     int64  \n",
       "PRAEGENDE_JUGENDJAHRE_DEC     int64  \n",
       "CAMEO_INTL_2015_WEALTH       object  \n",
       "CAMEO_INTL_2015_FAM_TYPE     object  \n",
       "\n",
       "[82 rows x 4 columns]"
      ]
     },
     "execution_count": 26,
     "metadata": {},
     "output_type": "execute_result"
    }
   ],
   "source": [
    "# Do whatever you need to in order to ensure that the dataframe only contains\n",
    "# the columns that should be passed to the algorithm functions.\n",
    "\n",
    "feat_wkg"
   ]
  },
  {
   "cell_type": "code",
   "execution_count": 27,
   "metadata": {},
   "outputs": [
    {
     "name": "stdout",
     "output_type": "stream",
     "text": [
      "Variable             Type         Data/Info\n",
      "-------------------------------------------\n",
      "CAM_col              str          CAMEO_INTL_2015\n",
      "CAM_col_a            str          CAMEO_INTL_2015_WEALTH\n",
      "CAM_col_b            str          CAMEO_INTL_2015_FAM_TYPE\n",
      "CAMfeat              ndarray      4: 4 elems, type `object`, 32 bytes\n",
      "PJ_new               dict         n=15\n",
      "PJcol                str          PRAEGENDE_JUGENDJAHRE\n",
      "PJcol_a              str          PRAEGENDE_JUGENDJAHRE_MVMT\n",
      "PJcol_b              str          PRAEGENDE_JUGENDJAHRE_LOC\n",
      "PJcol_c              str          PRAEGENDE_JUGENDJAHRE_DEC\n",
      "PJfeat               ndarray      4: 4 elems, type `object`, 32 bytes\n",
      "ast                  module       <module 'ast' from '/opt/<...>da/lib/python3.6/ast.py'>\n",
      "azdias_wkg           DataFrame            ALTERSKATEGORIE_G<...>47109 rows x 455 columns]\n",
      "categorical          DataFrame                          inf<...>B               float64  \n",
      "feat_wkg             DataFrame                             <...>\\n\\n[82 rows x 4 columns]\n",
      "mix_onehotlist       list         n=9\n",
      "mixed                DataFrame                          inf<...>ssing_or_unknown  float64\n",
      "np                   module       <module 'numpy' from '/op<...>kages/numpy/__init__.py'>\n",
      "numerical            DataFrame                         info<...>          [-1,0]  float64\n",
      "ordinal              DataFrame    Empty DataFrame\\nColumns:<...>_unknown, new]\\nIndex: []\n",
      "pd                   module       <module 'pandas' from '/o<...>ages/pandas/__init__.py'>\n",
      "plt                  module       <module 'matplotlib.pyplo<...>es/matplotlib/pyplot.py'>\n",
      "return_lib_list      function     <function return_lib_list at 0x7f7ffbedbbf8>\n",
      "return_single_char   function     <function return_single_char at 0x7f7fd39439d8>\n",
      "sns                  module       <module 'seaborn' from '/<...>ges/seaborn/__init__.py'>\n"
     ]
    }
   ],
   "source": [
    "whos"
   ]
  },
  {
   "cell_type": "code",
   "execution_count": null,
   "metadata": {},
   "outputs": [],
   "source": []
  },
  {
   "cell_type": "markdown",
   "metadata": {},
   "source": [
    "## LOAD CHECKPOINT 5"
   ]
  },
  {
   "cell_type": "code",
   "execution_count": 1,
   "metadata": {},
   "outputs": [],
   "source": [
    "# import libraries here; add more as necessary\n",
    "import numpy as np\n",
    "import pandas as pd\n",
    "import matplotlib.pyplot as plt\n",
    "import seaborn as sns\n",
    "import ast\n",
    "from sklearn.preprocessing import StandardScaler\n",
    "\n",
    "# magic word for producing visualizations in notebook\n",
    "%matplotlib inline\n",
    "\n",
    "azdias_wkg = pd.read_pickle('az_wkg_4.pickle')\n",
    "feat_wkg = pd.read_pickle('feat_wkg_4.pickle')\n",
    "\n",
    "ordinal = feat_wkg[feat_wkg['type']=='ordinal']\n",
    "categorical = feat_wkg[feat_wkg['type']=='categorical']\n",
    "numerical = feat_wkg[feat_wkg['type']=='numeric']\n",
    "mixed = feat_wkg[feat_wkg['type']=='mixed']"
   ]
  },
  {
   "cell_type": "markdown",
   "metadata": {},
   "source": [
    "### Step 1.3: Create a Cleaning Function\n",
    "\n",
    "Even though you've finished cleaning up the general population demographics data, it's important to look ahead to the future and realize that you'll need to perform the same cleaning steps on the customer demographics data. In this substep, complete the function below to execute the main feature selection, encoding, and re-engineering steps you performed above. Then, when it comes to looking at the customer data in Step 3, you can just run this function on that DataFrame to get the trimmed dataset in a single step."
   ]
  },
  {
   "cell_type": "code",
   "execution_count": 2,
   "metadata": {},
   "outputs": [],
   "source": [
    "def clean_data(df,df_feat):\n",
    "    \"\"\"\n",
    "    Perform feature trimming, re-encoding, and engineering for demographics\n",
    "    data\n",
    "    \n",
    "    INPUT: Demographics DataFrame\n",
    "    OUTPUT: Trimmed and cleaned demographics DataFrame\n",
    "    \"\"\"\n",
    "    \n",
    "    # Put in code here to execute all main cleaning steps:\n",
    "    # 1. convert missing value codes into NaNs, ...\n",
    "    \n",
    "    for x in df_feat.index:\n",
    "        y = df_feat.missing_or_unknown[x]\n",
    "        y = y.strip('][').split(',')\n",
    "        for z in y:\n",
    "            zz = 0\n",
    "            try:\n",
    "                zz = ast.literal_eval(z)\n",
    "                df[x]=df.replace(zz,np.nan)[x]      #Replace 'NaN' with np.nan\n",
    "            except:\n",
    "                df[x]=df.replace(z,np.nan)[x]       #Replace 'NaN' with np.nan\n",
    "    \n",
    "    # 2. remove selected columns (dropcol) from df_feat and df\n",
    "\n",
    "    dropcol = ['TITEL_KZ','AGER_TYP','KK_KUNDENTYP','KBA05_BAUMAX','GEBURTSJAHR','ALTER_HH']\n",
    "    df = df.drop(dropcol,axis=1)\n",
    "    df_feat = df_feat.drop(dropcol,axis=0)\n",
    "\n",
    "    # 3. keep only rows with #N/As <= 10% of columns\n",
    "    df = df[df.isnull().sum(axis=1)/df.shape[1]<=0.1]\n",
    "       \n",
    "    # 4. select, re-encode, and engineer column values.\n",
    "    ordinal = df_feat[df_feat['type']=='ordinal']\n",
    "    categorical = df_feat[df_feat['type']=='categorical']\n",
    "    interval = df_feat[df_feat['type']=='interval']\n",
    "    numerical = df_feat[df_feat['type']=='numeric']\n",
    "    mixed = df_feat[df_feat['type']=='mixed']\n",
    "\n",
    "    # 4.1  Sort ordinal features into interval and categorical.\n",
    "    #    assign interval to numerical and the rest to categorical\n",
    "    ord_int = pd.Index(['KONSUMNAEHE',\n",
    "                             'ORTSGR_KLS9',\n",
    "                             'WOHNDAUER_2008',\n",
    "                             'PLZ8_GBZ',\n",
    "                             'PLZ8_HHZ',\n",
    "                             'KBA05_GBZ',\n",
    "                             'ALTERSKATEGORIE_GROB',\n",
    "                             'INNENSTADT',\n",
    "                             'BALLRAUM',\n",
    "                             'EWDICHTE'],dtype=object,name='attribute')\n",
    "    \n",
    "    interval = interval.append(ordinal.loc[(ord_int),:])\n",
    "    ordinal = ordinal.drop(ord_int,axis=-0)\n",
    "    categorical = categorical.append(ordinal)\n",
    "    df_feat.loc[categorical.index,'type']='categorical'\n",
    "    df_feat.loc[ord_int.tolist(),'type']='numeric'\n",
    "    \n",
    "    # Removed undesired cat features\n",
    "    \n",
    "       #\n",
    "    CAT_DROP = ['CAMEO_DEUG_2015','LP_FAMILIE_FEIN','LP_STATUS_FEIN']\n",
    "    MIX_DROP = ['LP_LEBENSPHASE_FEIN']\n",
    "    categorical.drop(CAT_DROP,axis=0)\n",
    "    mixed.drop(MIX_DROP,axis=0)\n",
    "    df_feat.drop(CAT_DROP,axis=0)\n",
    "    df_feat.drop(MIX_DROP,axis=0)\n",
    "    df.drop(CAT_DROP,axis=1)\n",
    "    df.drop(MIX_DROP,axis=1)\n",
    "    \n",
    "    # 4.2 - Identify binary categorical and convert string values to int\n",
    "    cat_to_bin = ['ANREDE_KZ','OST_WEST_KZ','VERS_TYP','SOHO_KZ','GREEN_AVANTGARDE']\n",
    "    df['OST_WEST_KZ'].replace(['O','W'],[int(1),int(2)],inplace=True)\n",
    "    \n",
    " \n",
    "    \n",
    "    # One Hot encode all non-binary categoricals\n",
    "    categorical_sans_bin = categorical.drop(cat_to_bin)\n",
    "    cat_onehotlist = list(categorical_sans_bin.index)\n",
    "    df = pd.get_dummies(df,columns=cat_onehotlist)\n",
    "    \n",
    "    #Reengineer Mixed type [PRAEGENDE_JUGENDJAHRE] and [CAMEO_INTL_2015]\n",
    "    \n",
    "    #functions required for the mixed reengineering below\n",
    "    \n",
    "    def return_single_char(row,column,digit):\n",
    "        if (isinstance(row[column],str)) and (len(row[column]) == 2):\n",
    "            return row[column][digit]\n",
    "        else:\n",
    "            return np.nan\n",
    "\n",
    "    def return_lib_list(row,column,lib,index=0):\n",
    "        if (not np.isnan(row[column])):\n",
    "            return lib[int(row[column])][index]\n",
    "        else:\n",
    "            return np.nan\n",
    "    \n",
    "    #reengineer [PRAEGENDE_JUGENDJAHRE] into 3 columns that are defined by the dictionary PJnew\n",
    "    PJ_new = {1: [1,3,1],2: [2,3,1],3: [1,3,2],4: [2,3,2],5: [1,3,3],6: [2,2,3],7: [2,1,3],8: [1,3,4],\n",
    "          9: [2,3,4],10: [1,2,5],11: [2,2,5],12: [1,1,5],13: [2,1,5],14: [1,3,6],15: [2,3,6]}\n",
    "    PJcol = 'PRAEGENDE_JUGENDJAHRE'\n",
    "    PJcol_a = PJcol+'_MVMT'\n",
    "    PJcol_b = PJcol+'_LOC'\n",
    "    PJcol_c = PJcol+'_DEC'\n",
    "\n",
    "    df[PJcol_a] = df.apply(lambda row: return_lib_list(row,PJcol,PJ_new,0),axis=1)\n",
    "    df[PJcol_b] = df.apply(lambda row: return_lib_list(row,PJcol,PJ_new,1),axis=1)\n",
    "    df[PJcol_c] = df.apply(lambda row: return_lib_list(row,PJcol,PJ_new,2),axis=1)\n",
    "    \n",
    "\n",
    "    #rengineer CAMERO_INTL_2015 based on wealth and family typ ewhich can be identified by splitting the I.D. character in two\n",
    "    CAM_column = 'CAMEO_INTL_2015'\n",
    "    CAM_column_a = CAM_column + '_WEALTH'\n",
    "    CAM_column_b = CAM_column + '_FAM_TYPE'\n",
    "\n",
    "    df[CAM_column_a] = df.apply(lambda row: return_single_char(row,CAM_column,0),axis=1)\n",
    "    df[CAM_column_b] = df.apply(lambda row: return_single_char(row,CAM_column,1),axis=1)    \n",
    "    \n",
    "    df = df.drop([CAM_column,PJcol],axis=1)\n",
    "    \n",
    "    PJfeat = df_feat.loc[PJcol,:].values\n",
    "    CAMfeat = df_feat.loc[CAM_column,:].values\n",
    "\n",
    "    df_feat.loc[PJcol_a,:] = PJfeat\n",
    "    df_feat.loc[PJcol_b,:] = PJfeat\n",
    "    df_feat.loc[PJcol_c,:] = PJfeat\n",
    "    df_feat.loc[CAM_column_a,:] = CAMfeat\n",
    "    df_feat.loc[CAM_column_b,:] = CAMfeat\n",
    "\n",
    "    df_feat = df_feat.drop([CAM_column,PJcol],axis=0)\n",
    "    mix_onehotlist = list(df_feat[df_feat['type']=='mixed'].index)\n",
    "\n",
    "    #One hot encode remaining mixed(categorical) variable\n",
    "    df = pd.get_dummies(df,columns=mix_onehotlist)\n",
    "    # Return the cleaned dataframe.\n",
    "    \n",
    "    return df"
   ]
  },
  {
   "cell_type": "code",
   "execution_count": 3,
   "metadata": {},
   "outputs": [],
   "source": [
    "customers = pd.DataFrame.from_csv('Udacity_CUSTOMERS_Subset.csv',sep=';',index_col=None)\n",
    "feat_info = pd.DataFrame.from_csv('AZDIAS_Feature_Summary.csv',sep=';')"
   ]
  },
  {
   "cell_type": "code",
   "execution_count": 4,
   "metadata": {},
   "outputs": [],
   "source": [
    "cust2 = clean_data(customers,feat_info)"
   ]
  },
  {
   "cell_type": "code",
   "execution_count": 5,
   "metadata": {},
   "outputs": [
    {
     "data": {
      "text/plain": [
       "{'GEBAEUDETYP_5.0'}"
      ]
     },
     "execution_count": 5,
     "metadata": {},
     "output_type": "execute_result"
    }
   ],
   "source": [
    "set(azdias_wkg.columns)-set(cust2.columns)  # check to see if columns name match"
   ]
  },
  {
   "cell_type": "code",
   "execution_count": 6,
   "metadata": {},
   "outputs": [],
   "source": [
    "cust2['GEBAEUDETYP_5.0']=0"
   ]
  },
  {
   "cell_type": "code",
   "execution_count": 7,
   "metadata": {},
   "outputs": [
    {
     "data": {
      "text/plain": [
       "set()"
      ]
     },
     "execution_count": 7,
     "metadata": {},
     "output_type": "execute_result"
    }
   ],
   "source": [
    "set(azdias_wkg.columns)-set(cust2.columns)"
   ]
  },
  {
   "cell_type": "code",
   "execution_count": 8,
   "metadata": {},
   "outputs": [],
   "source": [
    "cust2.to_pickle('cust_wkg.pickle')"
   ]
  },
  {
   "cell_type": "code",
   "execution_count": 9,
   "metadata": {},
   "outputs": [
    {
     "data": {
      "text/plain": [
       "(747109, 455)"
      ]
     },
     "execution_count": 9,
     "metadata": {},
     "output_type": "execute_result"
    }
   ],
   "source": [
    "azdias_wkg.shape"
   ]
  },
  {
   "cell_type": "markdown",
   "metadata": {},
   "source": [
    "## LOAD CHECKPOINT 6"
   ]
  },
  {
   "cell_type": "code",
   "execution_count": 1,
   "metadata": {},
   "outputs": [],
   "source": [
    "import numpy as np\n",
    "import pandas as pd\n",
    "import matplotlib.pyplot as plt\n",
    "import seaborn as sns\n",
    "import ast\n",
    "from sklearn.preprocessing import StandardScaler\n",
    "from sklearn.decomposition import PCA\n",
    "from sklearn.preprocessing import Imputer \n",
    "# magic word for producing visualizations in notebook\n",
    "%matplotlib inline\n",
    "\n",
    "azdias_wkg = pd.read_pickle('az_wkg_4.pickle')\n",
    "feat_wkg = pd.read_pickle('feat_wkg_4.pickle')\n",
    "cust_wkg = pd.read_pickle('cust_wkg.pickle')\n",
    "\n",
    "ordinal = feat_wkg[feat_wkg['type']=='ordinal']\n",
    "categorical = feat_wkg[feat_wkg['type']=='categorical']\n",
    "numerical = feat_wkg[feat_wkg['type']=='numeric']\n",
    "mixed = feat_wkg[feat_wkg['type']=='mixed']"
   ]
  },
  {
   "cell_type": "markdown",
   "metadata": {},
   "source": [
    "## Step 2: Feature Transformation\n",
    "\n",
    "### Step 2.1: Apply Feature Scaling\n",
    "\n",
    "Before we apply dimensionality reduction techniques to the data, we need to perform feature scaling so that the principal component vectors are not influenced by the natural differences in scale for features. Starting from this part of the project, you'll want to keep an eye on the [API reference page for sklearn](http://scikit-learn.org/stable/modules/classes.html) to help you navigate to all of the classes and functions that you'll need. In this substep, you'll need to check the following:\n",
    "\n",
    "- sklearn requires that data not have missing values in order for its estimators to work properly. So, before applying the scaler to your data, make sure that you've cleaned the DataFrame of the remaining missing values. This can be as simple as just removing all data points with missing data, or applying an [Imputer](http://scikit-learn.org/stable/modules/generated/sklearn.preprocessing.Imputer.html) to replace all missing values. You might also try a more complicated procedure where you temporarily remove missing values in order to compute the scaling parameters before re-introducing those missing values and applying imputation. Think about how much missing data you have and what possible effects each approach might have on your analysis, and justify your decision in the discussion section below.\n",
    "- For the actual scaling function, a [StandardScaler](http://scikit-learn.org/stable/modules/generated/sklearn.preprocessing.StandardScaler.html) instance is suggested, scaling each feature to mean 0 and standard deviation 1.\n",
    "- For these classes, you can make use of the `.fit_transform()` method to both fit a procedure to the data as well as apply the transformation to the data at the same time. Don't forget to keep the fit sklearn objects handy, since you'll be applying them to the customer demographics data towards the end of the project."
   ]
  },
  {
   "cell_type": "code",
   "execution_count": 2,
   "metadata": {},
   "outputs": [],
   "source": [
    "# If you've not yet cleaned the dataset of all NaN values, then investigate and\n",
    "# do that now.\n",
    "## My plan\n",
    "#Step 1 - get a mask of all numerical and ordinal 'NAN'\n",
    "#Step 2 - replace all nan with mean of column\n",
    "#Step 3 - Standardize column\n",
    "#Step 4 - Use mask to reinstall nan"
   ]
  },
  {
   "cell_type": "code",
   "execution_count": 3,
   "metadata": {},
   "outputs": [],
   "source": [
    "#scaler = StandardScaler()"
   ]
  },
  {
   "cell_type": "markdown",
   "metadata": {},
   "source": [
    "https://stackoverflow.com/questions/38420847/apply-standardscaler-on-a-partial-part-of-a-data-set"
   ]
  },
  {
   "cell_type": "code",
   "execution_count": 4,
   "metadata": {},
   "outputs": [],
   "source": [
    "#feat_wkg.groupby('type').count()"
   ]
  },
  {
   "cell_type": "code",
   "execution_count": 5,
   "metadata": {},
   "outputs": [],
   "source": [
    "def impute_data(df,df_feat,imp_most_freq=None,imp_mean=None):\n",
    "    numerical = feat_wkg[feat_wkg['type']=='numeric']\n",
    "\n",
    "    num_col = list(numerical.index)\n",
    "    cat_col = list(set(azdias_wkg.columns)-set(numerical.index))\n",
    "    \n",
    "    #initialize and fit imputer \n",
    "    if imp_most_freq==None: \n",
    "        imp_most_freq = Imputer(missing_values=\"NaN\",strategy='most_frequent',axis=0,copy=False)\n",
    "        imp_most_freq = imp_most_freq.fit(df[cat_col])\n",
    "        \n",
    "    if imp_mean==None:\n",
    "        imp_mean = Imputer(missing_values=\"NaN\",strategy='mean',axis=0,copy=False)\n",
    "        imp_mean = imp_mean.fit(df[numerical.index])\n",
    "\n",
    "    # replace numerical missing values with mean of feature - assuming if using pre-fitted model will use mean of original fit \n",
    "    i_mean = imp_mean.transform(df[numerical.index])\n",
    "    df_num = pd.DataFrame(i_mean,columns=numerical.index)\n",
    "\n",
    "    #replace catergorical missing values with most frequent - assuming if using pre-fitted models, this will use original model most freq.\n",
    "    i_cat = imp_most_freq.transform(df[cat_col])\n",
    "    df_cat = pd.DataFrame(i_cat.astype('uint8'),columns=cat_col)  #Change from float to int (float ATE MEMORY)\n",
    "\n",
    "    #reform dataframe\n",
    "    df_new = pd.merge(df_num,df_cat,left_index=True,right_index=True)\n",
    "    \n",
    "    return df_new,imp_most_freq,imp_mean"
   ]
  },
  {
   "cell_type": "code",
   "execution_count": 6,
   "metadata": {},
   "outputs": [],
   "source": [
    "azdias_wkg_cln,i_mf,i_mean = impute_data(azdias_wkg,feat_wkg)"
   ]
  },
  {
   "cell_type": "code",
   "execution_count": 7,
   "metadata": {},
   "outputs": [
    {
     "name": "stdout",
     "output_type": "stream",
     "text": [
      "<class 'pandas.core.frame.DataFrame'>\n",
      "RangeIndex: 747109 entries, 0 to 747108\n",
      "Columns: 455 entries, ALTERSKATEGORIE_GROB to GFK_URLAUBERTYP_8.0\n",
      "dtypes: float64(16), uint8(439)\n",
      "memory usage: 404.0 MB\n"
     ]
    }
   ],
   "source": [
    "azdias_wkg_cln.info()"
   ]
  },
  {
   "cell_type": "code",
   "execution_count": 8,
   "metadata": {},
   "outputs": [],
   "source": [
    "scaler = StandardScaler().fit(azdias_wkg_cln)\n",
    "azdias_wkg_cln = scaler.transform(azdias_wkg_cln)"
   ]
  },
  {
   "cell_type": "code",
   "execution_count": 9,
   "metadata": {},
   "outputs": [],
   "source": [
    "df_azdias_wkg_cln = pd.DataFrame(azdias_wkg_cln,columns=azdias_wkg.columns)"
   ]
  },
  {
   "cell_type": "code",
   "execution_count": null,
   "metadata": {},
   "outputs": [],
   "source": []
  },
  {
   "cell_type": "code",
   "execution_count": 10,
   "metadata": {},
   "outputs": [],
   "source": [
    "from joblib import dump, load\n",
    " "
   ]
  },
  {
   "cell_type": "code",
   "execution_count": 11,
   "metadata": {},
   "outputs": [
    {
     "data": {
      "text/plain": [
       "['scaler.model']"
      ]
     },
     "execution_count": 11,
     "metadata": {},
     "output_type": "execute_result"
    }
   ],
   "source": [
    "\n",
    "dump(i_mean,'i_mean.model')\n",
    "dump(i_mf,'i_mf.model')\n",
    "dump(scaler,'scaler.model')"
   ]
  },
  {
   "cell_type": "code",
   "execution_count": 12,
   "metadata": {},
   "outputs": [],
   "source": [
    "#TO RESTORE NAN with MASKs\n",
    "\n",
    "#azdias_wkg[numerical.index] = azdias_wkg.loc[:,numerical.index].mask(num_mask==True,other=np.nan,inplace=False)\n",
    "#print(azdias_wkg[numerical.index].std(),azdias_wkg[numerical.index].mean())\n",
    "#azdias_wkg.loc[:,(numerical.index)].isnull().sum()"
   ]
  },
  {
   "cell_type": "code",
   "execution_count": 13,
   "metadata": {},
   "outputs": [],
   "source": [
    "import numpy as np\n",
    "import pandas as pd\n",
    "import matplotlib.pyplot as plt\n",
    "import seaborn as sns\n",
    "import ast\n",
    "from sklearn.preprocessing import StandardScaler\n",
    "from sklearn.decomposition import PCA\n",
    "from sklearn.preprocessing import Imputer \n",
    "from sklearn.cluster import KMeans\n",
    "# magic word for producing visualizations in notebook\n",
    "%matplotlib inline\n",
    "\n",
    "#azdias_scaled2 = pd.read_pickle('az_scale.pickle')"
   ]
  },
  {
   "cell_type": "markdown",
   "metadata": {},
   "source": [
    "### Discussion 2.1: Apply Feature Scaling\n",
    "Since PCA requires that there are no NA in the dataset, the NAs the categorical and numerical(and ordinal) were replaced.\n",
    "1) A copy of the dataset for scaling was made\n",
    "2) A mask was created of all the nan locations, so they can be added back in at later date if needed as np.nan.\n",
    "3) numerical - I replaced all the NAN as teh mean so they do not move the mean of the rescaled data\n",
    "4) categorical - since all of these are one hot encoded I am replacing nan with the most frequent, to prevent creating a third category.\n",
    "\n"
   ]
  },
  {
   "cell_type": "markdown",
   "metadata": {},
   "source": [
    "### Step 2.2: Perform Dimensionality Reduction\n",
    "\n",
    "On your scaled data, you are now ready to apply dimensionality reduction techniques.\n",
    "\n",
    "- Use sklearn's [PCA](http://scikit-learn.org/stable/modules/generated/sklearn.decomposition.PCA.html) class to apply principal component analysis on the data, thus finding the vectors of maximal variance in the data. To start, you should not set any parameters (so all components are computed) or set a number of components that is at least half the number of features (so there's enough features to see the general trend in variability).\n",
    "- Check out the ratio of variance explained by each principal component as well as the cumulative variance explained. Try plotting the cumulative or sequential values using matplotlib's [`plot()`](https://matplotlib.org/api/_as_gen/matplotlib.pyplot.plot.html) function. Based on what you find, select a value for the number of transformed features you'll retain for the clustering part of the project.\n",
    "- Once you've made a choice for the number of components to keep, make sure you re-fit a PCA instance to perform the decided-on transformation."
   ]
  },
  {
   "cell_type": "code",
   "execution_count": 12,
   "metadata": {},
   "outputs": [],
   "source": [
    "#reused helper_functions.py in MiniPCA with annotations\n",
    "def scree_plot(pca):\n",
    "    '''\n",
    "    Creates a scree plot associated with the principal components \n",
    "    \n",
    "    INPUT: pca - the result of instantian of PCA in scikit learn\n",
    "            \n",
    "    OUTPUT:\n",
    "            None\n",
    "    '''\n",
    "    num_components=len(pca.explained_variance_ratio_)   # number of components to graph\n",
    "    ind = np.arange(num_components)           \n",
    "    vals = pca.explained_variance_ratio_\n",
    " \n",
    "    plt.figure(figsize=(10, 6))\n",
    "    ax = plt.subplot(111)\n",
    "    cumvals = np.cumsum(vals)\n",
    "    ax.bar(ind, vals)\n",
    "    ax.plot(ind, cumvals)\n",
    "    for i in range(num_components):\n",
    "        ax.annotate(r\"%s%%\" % ((str(vals[i]*100)[:4])), (ind[i]+0.2, vals[i]), va=\"bottom\", ha=\"center\", fontsize=12)\n",
    " \n",
    "    ax.xaxis.set_tick_params(width=0)\n",
    "    ax.yaxis.set_tick_params(width=2, length=12)\n",
    " \n",
    "    ax.set_xlabel(\"Principal Component\")\n",
    "    ax.set_ylabel(\"Variance Explained (%)\")\n",
    "    plt.title('Explained Variance Per Principal Component')"
   ]
  },
  {
   "cell_type": "code",
   "execution_count": 13,
   "metadata": {},
   "outputs": [],
   "source": [
    "#from helper_functions.py in MiniPCA \n",
    "def pca_results(full_dataset, pca):\n",
    "    '''\n",
    "    Create a DataFrame of the PCA results\n",
    "    Includes dimension feature weights and explained variance\n",
    "    Visualizes the PCA results'''\n",
    "\n",
    "    # Dimension indexing\n",
    "    dimensions = ['Dimension {}'.format(i) for i in range(1, len(pca.components_)+1)]\n",
    "    \n",
    "\n",
    "    # PCA components\n",
    "    components = pd.DataFrame(np.round(pca.components_, 4), columns = full_dataset.keys())\n",
    "    components.index = dimensions\n",
    "\n",
    "    # PCA explained variance\n",
    "    ratios = pca.explained_variance_ratio_.reshape(len(pca.components_), 1)\n",
    "    variance_ratios = pd.DataFrame(np.round(ratios, 4), columns = ['Explained Variance'])\n",
    "    variance_ratios.index = dimensions\n",
    "\n",
    "    # Create a bar plot visualization\n",
    "    fig, ax = plt.subplots(figsize = (14,8))\n",
    "\n",
    "    # Plot the feature weights as a function of the components\n",
    "    components.plot(ax = ax, kind = 'bar');\n",
    "    ax.set_ylabel(\"Feature Weights\")\n",
    "    ax.set_xticklabels(dimensions, rotation=0)\n",
    "\n",
    "\n",
    "    # Display the explained variance ratios\n",
    "    for i, ev in enumerate(pca.explained_variance_ratio_):\n",
    "        ax.text(i-0.40, ax.get_ylim()[1] + 0.05, \"Explained Variance\\n          %.4f\"%(ev))\n",
    "\n",
    "    # Return a concatenated DataFrame\n",
    "    return pd.concat([variance_ratios, components], axis = 1)"
   ]
  },
  {
   "cell_type": "code",
   "execution_count": 16,
   "metadata": {},
   "outputs": [
    {
     "data": {
      "text/plain": [
       "\" Old code ra to 80 and got in the 60 or 70s\\npca_summary = []\\nfor x in range(1,azdias_wkg_cln.shape[1]):\\n    if x%40 == 0:\\n        print(x, 'begin')\\n        pca=PCA(x)\\n        X_pca = pca.fit_transform(azdias_scaled2)\\n        pca_summary.append(pca.explained_variance_ratio_.sum())\\n        print(x, pca.explained_variance_ratio_.sum())\\n        if pca.explained_variance_ratio_.sum() >= 0.90:\\n            print('0.90 Threshold exceeded at :', x)\\n            break\\n\""
      ]
     },
     "execution_count": 16,
     "metadata": {},
     "output_type": "execute_result"
    }
   ],
   "source": [
    "# RUN PCA for all dimentionality, find >=85%   \n",
    "#NOTE TO SELF: next time take larger steps  maybe 10% - 20% of data set and then refine if necessary\n",
    "''' Old code ra to 80 and got in the 60 or 70s\n",
    "pca_summary = []\n",
    "for x in range(1,azdias_wkg_cln.shape[1]):\n",
    "    if x%40 == 0:\n",
    "        print(x, 'begin')\n",
    "        pca=PCA(x)\n",
    "        X_pca = pca.fit_transform(azdias_scaled2)\n",
    "        pca_summary.append(pca.explained_variance_ratio_.sum())\n",
    "        print(x, pca.explained_variance_ratio_.sum())\n",
    "        if pca.explained_variance_ratio_.sum() >= 0.90:\n",
    "            print('0.90 Threshold exceeded at :', x)\n",
    "            break\n",
    "'''"
   ]
  },
  {
   "cell_type": "code",
   "execution_count": 4,
   "metadata": {},
   "outputs": [
    {
     "name": "stdout",
     "output_type": "stream",
     "text": [
      "140 0.868223836632\n"
     ]
    }
   ],
   "source": [
    "pca140=PCA(140)\n",
    "X_pca140 = pca140.fit_transform(azdias_scaled2)\n",
    "print(140, pca140.explained_variance_ratio_.sum())"
   ]
  },
  {
   "cell_type": "code",
   "execution_count": 5,
   "metadata": {},
   "outputs": [
    {
     "name": "stdout",
     "output_type": "stream",
     "text": [
      "150 0.88422036312\n"
     ]
    }
   ],
   "source": [
    "pca150=PCA(150)\n",
    "X_pca150 = pca150.fit_transform(azdias_scaled2)\n",
    "print(150, pca150.explained_variance_ratio_.sum())"
   ]
  },
  {
   "cell_type": "code",
   "execution_count": 6,
   "metadata": {},
   "outputs": [
    {
     "name": "stdout",
     "output_type": "stream",
     "text": [
      "160 0.898488231852\n"
     ]
    }
   ],
   "source": [
    "pca160=PCA(160)\n",
    "X_pca160 = pca160.fit_transform(azdias_scaled2)\n",
    "print(160, pca160.explained_variance_ratio_.sum())"
   ]
  },
  {
   "cell_type": "code",
   "execution_count": null,
   "metadata": {},
   "outputs": [],
   "source": [
    "# we will use 140 since that meets the 85% \n",
    "# Addendum:  Due to having to rerun this a few times, and it taking forever I am backing off to 100 components (60% exp var.).\n",
    "# Especially since the elbow is close tot he first 10-20 components\n",
    "# If I feel that this is inadequate at the end of the project I will rerun with 160.  "
   ]
  },
  {
   "cell_type": "code",
   "execution_count": null,
   "metadata": {},
   "outputs": [],
   "source": [
    "# Re-apply PCA to the data while selecting for number of components to retain.\n",
    "\n"
   ]
  },
  {
   "cell_type": "code",
   "execution_count": 112,
   "metadata": {},
   "outputs": [],
   "source": [
    "pca=PCA(100)\n",
    "pca = pca.fit(azdias_wkg_cln)\n",
    "X_pca = pca.transform(azdias_wkg_cln)"
   ]
  },
  {
   "cell_type": "code",
   "execution_count": 113,
   "metadata": {},
   "outputs": [
    {
     "data": {
      "text/plain": [
       "0.61221159846921935"
      ]
     },
     "execution_count": 113,
     "metadata": {},
     "output_type": "execute_result"
    },
    {
     "data": {
      "image/png": "[encoded data removed]",
      "text/plain": [
       "<matplotlib.figure.Figure at 0x7fbba2ba1be0>"
      ]
     },
     "metadata": {
      "needs_background": "light"
     },
     "output_type": "display_data"
    }
   ],
   "source": [
    "scree_plot(pca)\n",
    "pca.explained_variance_ratio_.sum()"
   ]
  },
  {
   "cell_type": "code",
   "execution_count": 114,
   "metadata": {},
   "outputs": [
    {
     "data": {
      "text/plain": [
       "numpy.ndarray"
      ]
     },
     "execution_count": 114,
     "metadata": {},
     "output_type": "execute_result"
    }
   ],
   "source": [
    "type(X_pca)"
   ]
  },
  {
   "cell_type": "code",
   "execution_count": 115,
   "metadata": {},
   "outputs": [
    {
     "data": {
      "text/plain": [
       "['pca.model']"
      ]
     },
     "execution_count": 115,
     "metadata": {},
     "output_type": "execute_result"
    }
   ],
   "source": [
    "dump(pca,'pca.model')"
   ]
  },
  {
   "cell_type": "code",
   "execution_count": 116,
   "metadata": {},
   "outputs": [
    {
     "data": {
      "text/plain": [
       "['xpca.numpy']"
      ]
     },
     "execution_count": 116,
     "metadata": {},
     "output_type": "execute_result"
    }
   ],
   "source": [
    "dump(X_pca,'xpca.numpy')"
   ]
  },
  {
   "cell_type": "code",
   "execution_count": 117,
   "metadata": {},
   "outputs": [],
   "source": [
    "import numpy as np\n",
    "import pandas as pd\n",
    "import matplotlib.pyplot as plt\n",
    "import seaborn as sns\n",
    "import ast\n",
    "from sklearn.preprocessing import StandardScaler\n",
    "from sklearn.decomposition import PCA\n",
    "from sklearn.preprocessing import Imputer \n",
    "from sklearn.cluster import KMeans\n",
    "# magic word for producing visualizations in notebook\n",
    "%matplotlib inline\n",
    "import pickle\n"
   ]
  },
  {
   "cell_type": "code",
   "execution_count": null,
   "metadata": {},
   "outputs": [],
   "source": []
  },
  {
   "cell_type": "code",
   "execution_count": null,
   "metadata": {},
   "outputs": [],
   "source": []
  },
  {
   "cell_type": "markdown",
   "metadata": {},
   "source": [
    "### Discussion 2.2: Perform Dimensionality Reduction\n",
    "\n",
    "I tried this both with all of the ordinal components included and then again removing the non-interval ordinal components.  Both ways i landed on reducing to 10 components.   10 compoents was about 80% of vairability  when using all 55 features, and about 88-90% using 17 features.  \n",
    "\n",
    "I decided to remove the ordinal components that were not clearly interval, because it is unclear how the scoring was established.   "
   ]
  },
  {
   "cell_type": "markdown",
   "metadata": {},
   "source": [
    "### Step 2.3: Interpret Principal Components\n",
    "\n",
    "Now that we have our transformed principal components, it's a nice idea to check out the weight of each variable on the first few components to see if they can be interpreted in some fashion.\n",
    "\n",
    "As a reminder, each principal component is a unit vector that points in the direction of highest variance (after accounting for the variance captured by earlier principal components). The further a weight is from zero, the more the principal component is in the direction of the corresponding feature. If two features have large weights of the same sign (both positive or both negative), then increases in one tend expect to be associated with increases in the other. To contrast, features with different signs can be expected to show a negative correlation: increases in one variable should result in a decrease in the other.\n",
    "\n",
    "- To investigate the features, you should map each weight to their corresponding feature name, then sort the features according to weight. The most interesting features for each principal component, then, will be those at the beginning and end of the sorted list. Use the data dictionary document to help you understand these most prominent features, their relationships, and what a positive or negative value on the principal component might indicate.\n",
    "- You should investigate and interpret feature associations from the first three principal components in this substep. To help facilitate this, you should write a function that you can call at any time to print the sorted list of feature weights, for the *i*-th principal component. This might come in handy in the next step of the project, when you interpret the tendencies of the discovered clusters."
   ]
  },
  {
   "cell_type": "code",
   "execution_count": 4,
   "metadata": {},
   "outputs": [],
   "source": [
    "# Map weights for the first principal component to corresponding feature names\n",
    "# and then print the linked values, sorted by weight.\n",
    "# HINT: Try defining a function here or in a new cell that you can reuse in the\n",
    "# other cells.\n",
    "\n"
   ]
  },
  {
   "cell_type": "code",
   "execution_count": 118,
   "metadata": {},
   "outputs": [],
   "source": [
    "#Modifeid version of function from helper_functions.py in MiniPCA \n",
    "def pca_results_rng(full_dataset, pca,dim_rng,pltpca=False):\n",
    "    '''\n",
    "    Create a DataFrame of the PCA results\n",
    "    Includes dimension feature weights and explained variance\n",
    "    Visualizes the PCA results\n",
    "    \n",
    "    input: \n",
    "    full_dataset = is the full dataset that was transformed\n",
    "    pca = is the fit_transformed pca\n",
    "    dim_rng: list of size to of the first and last dimention to be displayed\n",
    "    \n",
    "    '''\n",
    "    dim_rng[0] = dim_rng[0] - 1  #because first dimention is at index 0\n",
    "    \n",
    "    # Dimension indexing\n",
    "    dimensions = ['Dimension {}'.format(i) for i in range(1, len(pca.components_)+1)]\n",
    "    dim = dimensions[dim_rng[0]:dim_rng[1]]\n",
    "    \n",
    "    # PCA components\n",
    "    components = pd.DataFrame(np.round(pca.components_, 4), columns = full_dataset.keys())\n",
    "    components.index = dimensions\n",
    "    comp = components.iloc[dim_rng[0]:dim_rng[1]]\n",
    "\n",
    "    # PCA explained variance\n",
    "    ratios = pca.explained_variance_ratio_.reshape(len(pca.components_), 1)\n",
    "    variance_ratios = pd.DataFrame(np.round(ratios, 4), columns = ['Explained Variance'])\n",
    "    variance_ratios.index = dimensions\n",
    "    vr = variance_ratios.iloc[dim_rng[0]:dim_rng[1]]\n",
    "\n",
    "    if pltpca == True:\n",
    "        fig, ax = plt.subplots(figsize = (20,8))\n",
    "\n",
    "        # Plot the feature weights as a function of the components\n",
    "        comp.plot(ax = ax, kind = 'bar');\n",
    "        ax.set_ylabel(\"Feature Weights\")\n",
    "        ax.set_xticklabels(dim, rotation=0)\n",
    "\n",
    "        # Display the explained variance ratios\n",
    "        for i, ev in enumerate(pca.explained_variance_ratio_):\n",
    "            if int(i) >= dim_rng[0] and int(i) < dim_rng[1]:\n",
    "                ax.text(i-dim_rng[0], ax.get_ylim()[1], \"Explained Variance\\n%.4f\"%(ev))\n",
    "\n",
    "    # Return a concatenated DataFrame\n",
    "    return pd.concat([vr, comp], axis = 1)"
   ]
  },
  {
   "cell_type": "code",
   "execution_count": 119,
   "metadata": {},
   "outputs": [],
   "source": [
    "res = pca_results_rng(df_azdias_wkg_cln,pca,[1,4])"
   ]
  },
  {
   "cell_type": "code",
   "execution_count": 120,
   "metadata": {},
   "outputs": [],
   "source": [
    "res1 = res.drop(['Explained Variance'],axis=1)"
   ]
  },
  {
   "cell_type": "code",
   "execution_count": 222,
   "metadata": {
    "scrolled": true
   },
   "outputs": [
    {
     "data": {
      "text/plain": [
       "HEALTH_TYP_1.0              0.1590\n",
       "SEMIO_VERT_4                0.1386\n",
       "LP_LEBENSPHASE_FEIN_20.0    0.1316\n",
       "FINANZ_UNAUFFAELLIGER_4     0.1261\n",
       "EWDICHTE                    0.1225\n",
       "Name: Dimension 1, dtype: float64"
      ]
     },
     "execution_count": 222,
     "metadata": {},
     "output_type": "execute_result"
    }
   ],
   "source": [
    "res1.loc['Dimension 1',:].sort_values(ascending=False)[:5]"
   ]
  },
  {
   "cell_type": "code",
   "execution_count": 235,
   "metadata": {},
   "outputs": [
    {
     "data": {
      "text/plain": [
       "ANZ_HAUSHALTE_AKTIV     -0.1464\n",
       "ONLINE_AFFINITAET_2.0   -0.1415\n",
       "PLZ8_BAUMAX_4.0         -0.1261\n",
       "FINANZ_SPARER_3         -0.1243\n",
       "BALLRAUM                -0.1083\n",
       "Name: Dimension 1, dtype: float64"
      ]
     },
     "execution_count": 235,
     "metadata": {},
     "output_type": "execute_result"
    }
   ],
   "source": [
    "res1.loc['Dimension 1',:].sort_values(ascending=True)[:5]"
   ]
  },
  {
   "cell_type": "markdown",
   "metadata": {},
   "source": [
    "    HEALTH_TYP_1.0              0.1590 - Health Type - Critically Reserved \n",
    "    SEMIO_VERT_4                0.1386 - Personality Dreamer = Average\n",
    "    LP_LEBENSPHASE_FEIN_20.0    0.1316 - Life Stage = top earner couples of higher age\n",
    "    FINANZ_UNAUFFAELLIGER_4     0.1261 - Finance type - inconspicuouy low\n",
    "    EWDICHTE                    0.1225 - Households per km^2\n",
    "\n",
    "    ANZ_HAUSHALTE_AKTIV     -0.1464 - Number of households per building\n",
    "    ONLINE_AFFINITAET_2.0   -0.1415 - Online affinity middle\n",
    "    PLZ8_BAUMAX_4.0         -0.1261 - 10+ family holes within region\n",
    "    FINANZ_SPARER_3         -0.1243 - Finance type - Saver - average\n",
    "    BALLRAUM                -0.1083 - Distance to nearest urban center\n",
    "\n",
    "Positive end - Wealthy older couples, non inconspucous spending, in dense area\n",
    "Negative end - high number of households per building (apt building), far from urban center"
   ]
  },
  {
   "cell_type": "code",
   "execution_count": 122,
   "metadata": {},
   "outputs": [],
   "source": [
    "# Map weights for the second principal component to corresponding feature names\n",
    "# and then print the linked values, sorted by weight.\n",
    "\n"
   ]
  },
  {
   "cell_type": "code",
   "execution_count": 226,
   "metadata": {},
   "outputs": [
    {
     "data": {
      "text/plain": [
       "ALTERSKATEGORIE_GROB    0.1836\n",
       "LP_STATUS_FEIN_3.0      0.1479\n",
       "W_KEIT_KIND_HH_2.0      0.1468\n",
       "CAMEO_DEU_2015_3A       0.1458\n",
       "FINANZ_MINIMALIST_3     0.1335\n",
       "Name: Dimension 2, dtype: float64"
      ]
     },
     "execution_count": 226,
     "metadata": {},
     "output_type": "execute_result"
    }
   ],
   "source": [
    "res1.loc['Dimension 2',:].sort_values(ascending=False)[:5]"
   ]
  },
  {
   "cell_type": "code",
   "execution_count": 234,
   "metadata": {},
   "outputs": [
    {
     "data": {
      "text/plain": [
       "WOHNLAGE_8.0               -0.1524\n",
       "LP_LEBENSPHASE_FEIN_12.0   -0.1195\n",
       "FINANZTYP_5                -0.1195\n",
       "PLZ8_BAUMAX_2.0            -0.1195\n",
       "SEMIO_DOM_4                -0.1193\n",
       "Name: Dimension 2, dtype: float64"
      ]
     },
     "execution_count": 234,
     "metadata": {},
     "output_type": "execute_result"
    }
   ],
   "source": [
    "res1.loc['Dimension 2',:].sort_values(ascending=True)[:5]"
   ]
  },
  {
   "cell_type": "markdown",
   "metadata": {},
   "source": [
    "    ALTERSKATEGORIE_GROB    0.1836 - Age based on name \n",
    "    LP_STATUS_FEIN_3.0      0.1479 - Social Status - aspiring low-income earners\n",
    "    W_KEIT_KIND_HH_2.0      0.1468 - Likleyhood of children in household\n",
    "    CAMEO_DEU_2015_3A       0.1458 - Wealth/Life State - Career and Family\n",
    "    FINANZ_MINIMALIST_3     0.1335 - Finance Minimialist - average\n",
    "\n",
    "    WOHNLAGE_8.0               -0.1524 - Neightboorhood quality - new bulding rural\n",
    "    LP_LEBENSPHASE_FEIN_12.0   -0.1195 - Life Stage -  single homeowners at retirement age\n",
    "    FINANZTYP_5                -0.1195 - Finance type - investor\n",
    "    PLZ8_BAUMAX_2.0            -0.1195 - 3-5 family holmes within the PLZ8 region\n",
    "    SEMIO_DOM_4                -0.1193 - Personality - Dominant minded average\n",
    "\n",
    "\n",
    "Positive End: Older low income earners with childre.\n",
    "NEgative end: Rural, older, single, moderate wealth (homeownserhsip and investor)"
   ]
  },
  {
   "cell_type": "code",
   "execution_count": 124,
   "metadata": {},
   "outputs": [],
   "source": [
    "# Map weights for the third principal component to corresponding feature names\n",
    "# and then print the linked values, sorted by weight.\n",
    "\n"
   ]
  },
  {
   "cell_type": "code",
   "execution_count": 229,
   "metadata": {
    "scrolled": true
   },
   "outputs": [
    {
     "data": {
      "text/plain": [
       "CAMEO_INTL_2015_WEALTH_5    0.1668\n",
       "SEMIO_SOZ_5                 0.1479\n",
       "SEMIO_KRIT_7                0.1469\n",
       "LP_STATUS_GROB_3.0          0.1453\n",
       "SEMIO_MAT_1                 0.1312\n",
       "Name: Dimension 3, dtype: float64"
      ]
     },
     "execution_count": 229,
     "metadata": {},
     "output_type": "execute_result"
    }
   ],
   "source": [
    "res1.loc['Dimension 3',:].sort_values(ascending=False)[:5]"
   ]
  },
  {
   "cell_type": "code",
   "execution_count": 236,
   "metadata": {},
   "outputs": [
    {
     "data": {
      "text/plain": [
       "SEMIO_VERT_2          -0.2808\n",
       "CAMEO_DEU_2015_1C     -0.1670\n",
       "FINANZ_SPARER_2       -0.1527\n",
       "LP_FAMILIE_GROB_2.0   -0.1468\n",
       "CAMEO_DEU_2015_2B     -0.1458\n",
       "Name: Dimension 3, dtype: float64"
      ]
     },
     "execution_count": 236,
     "metadata": {},
     "output_type": "execute_result"
    }
   ],
   "source": [
    "res1.loc['Dimension 3',:].sort_values(ascending=True)[:5]"
   ]
  },
  {
   "cell_type": "markdown",
   "metadata": {},
   "source": [
    "    CAMEO_INTL_2015_WEALTH_5    0.1668 - Poorer households\n",
    "    SEMIO_SOZ_5                 0.1479 - Personality - Social minded low\n",
    "    SEMIO_KRIT_7                0.1469 - Personality - Critical minded lowest\n",
    "    LP_STATUS_GROB_3.0          0.1453 - Social status - independents (middle earners)\n",
    "    SEMIO_MAT_1                 0.1312 - Personality - Materialistic Highest\n",
    "\n",
    "    SEMIO_VERT_2          -0.2808 - Personality - Dreamful very high\n",
    "    CAMEO_DEU_2015_1C     -0.1670 - Wealth/Life - Successful Songwriter\n",
    "    FINANZ_SPARER_2       -0.1527 - Finance Saver = high\n",
    "    LP_FAMILIE_GROB_2.0   -0.1468 - Family size - Couple\n",
    "    CAMEO_DEU_2015_2B     -0.1458 - Wealth/Life - Noble Jogger\n",
    "\n",
    "Pos end:  Lower to middle income, materialistic\n",
    "Neg end: Aspirational, saving couples"
   ]
  },
  {
   "cell_type": "code",
   "execution_count": 231,
   "metadata": {},
   "outputs": [
    {
     "data": {
      "text/plain": [
       "GEBAEUDETYP_6.0            0.1867\n",
       "SEMIO_SOZ_5                0.1777\n",
       "SEMIO_RAT_1                0.1773\n",
       "LP_STATUS_GROB_5.0         0.1616\n",
       "LP_LEBENSPHASE_GROB_6.0    0.1481\n",
       "Name: Dimension 4, dtype: float64"
      ]
     },
     "execution_count": 231,
     "metadata": {},
     "output_type": "execute_result"
    }
   ],
   "source": [
    "res1.loc['Dimension 4',:].sort_values(ascending=False)[:5]"
   ]
  },
  {
   "cell_type": "code",
   "execution_count": 237,
   "metadata": {},
   "outputs": [
    {
     "data": {
      "text/plain": [
       "GEBAEUDETYP_RASTER_3.0   -0.1457\n",
       "W_KEIT_KIND_HH_2.0       -0.1356\n",
       "PLZ8_ANTG1_0.0           -0.1353\n",
       "CAMEO_DEU_2015_3A        -0.1295\n",
       "FINANZ_MINIMALIST_4      -0.1283\n",
       "Name: Dimension 4, dtype: float64"
      ]
     },
     "execution_count": 237,
     "metadata": {},
     "output_type": "execute_result"
    }
   ],
   "source": [
    "res1.loc['Dimension 4',:].sort_values(ascending=True)[:5]"
   ]
  },
  {
   "cell_type": "markdown",
   "metadata": {},
   "source": [
    "    GEBAEUDETYP_6.0            0.1867 - Type of building - mixed building without actually known household\n",
    "    SEMIO_SOZ_5                0.1777 - Personality - Socially minded low \n",
    "    SEMIO_RAT_1                0.1773 - Personality - Rational highest\n",
    "    LP_STATUS_GROB_5.0         0.1616 - Social Status - top earners\n",
    "    LP_LEBENSPHASE_GROB_6.0    0.1481 - Life Stage - Single parents\n",
    "\n",
    "    GEBAEUDETYP_RASTER_3.0   -0.1457 - ratio of res to commercial - mixed with middle business share\n",
    "    W_KEIT_KIND_HH_2.0       -0.1356 - Likelyhood of children - very likely\n",
    "    PLZ8_ANTG1_0.0           -0.1353 - no 1-2 family homes\n",
    "    CAMEO_DEU_2015_3A        -0.1295 - Wealth/Life - Career & Family\n",
    "    FINANZ_MINIMALIST_4      -0.1283 - Fiance - low interest - low\n",
    "\n",
    "Pos End: High earners, singlee parents, apartment building\n",
    "NEg End: Families living in mixed residential/commerical areas"
   ]
  },
  {
   "cell_type": "markdown",
   "metadata": {},
   "source": [
    "### Discussion 2.3: Interpret Principal Components\n",
    "\n",
    "The first eigenvector represents on:\n",
    "    \n",
    "    Positive End: Older low income earners with childre.\n",
    "    NEgative end: Rural, older, single, moderate wealth (homeownserhsip and investor)\n",
    "\n",
    "The second eigenvector represents:\n",
    "    \n",
    "    Positive End: Older low income earners with childre.\n",
    "    NEgative end: Rural, older, single, moderate wealth (homeownserhsip and investor)\n",
    "    \n",
    "The third eigennvector represents on:\n",
    "    \n",
    "    Pos end:  Lower to middle income, materialistic\n",
    "    Neg end: Aspirational, saving couples\n",
    "\n",
    "\n",
    "The forth eigenvector represents on:\n",
    "\n",
    "    Pos End: High earners, singlee parents, apartment building\n",
    "    NEg End: Families living in mixed residential/commerical areas"
   ]
  },
  {
   "cell_type": "markdown",
   "metadata": {},
   "source": [
    "## Step 3: Clustering\n",
    "\n",
    "### Step 3.1: Apply Clustering to General Population\n",
    "\n",
    "You've assessed and cleaned the demographics data, then scaled and transformed them. Now, it's time to see how the data clusters in the principal components space. In this substep, you will apply k-means clustering to the dataset and use the average within-cluster distances from each point to their assigned cluster's centroid to decide on a number of clusters to keep.\n",
    "\n",
    "- Use sklearn's [KMeans](http://scikit-learn.org/stable/modules/generated/sklearn.cluster.KMeans.html#sklearn.cluster.KMeans) class to perform k-means clustering on the PCA-transformed data.\n",
    "- Then, compute the average difference from each point to its assigned cluster's center. **Hint**: The KMeans object's `.score()` method might be useful here, but note that in sklearn, scores tend to be defined so that larger is better. Try applying it to a small, toy dataset, or use an internet search to help your understanding.\n",
    "- Perform the above two steps for a number of different cluster counts. You can then see how the average distance decreases with an increasing number of clusters. However, each additional cluster provides a smaller net benefit. Use this fact to select a final number of clusters in which to group the data. **Warning**: because of the large size of the dataset, it can take a long time for the algorithm to resolve. The more clusters to fit, the longer the algorithm will take. You should test for cluster counts through at least 10 clusters to get the full picture, but you shouldn't need to test for a number of clusters above about 30.\n",
    "- Once you've selected a final number of clusters to use, re-fit a KMeans instance to perform the clustering operation. Make sure that you also obtain the cluster assignments for the general demographics data, since you'll be using them in the final Step 3.3."
   ]
  },
  {
   "cell_type": "code",
   "execution_count": 127,
   "metadata": {},
   "outputs": [],
   "source": [
    "from sklearn.cluster import KMeans\n",
    "import time"
   ]
  },
  {
   "cell_type": "code",
   "execution_count": 128,
   "metadata": {},
   "outputs": [],
   "source": [
    "#Earlier runs of this notebook, I accidently forgot to use the toy_dataset.  Left the output intact for future referene"
   ]
  },
  {
   "cell_type": "code",
   "execution_count": null,
   "metadata": {},
   "outputs": [],
   "source": []
  },
  {
   "cell_type": "code",
   "execution_count": 129,
   "metadata": {},
   "outputs": [],
   "source": [
    "DF_XPCA = pd.DataFrame(X_pca)\n",
    "toy_dataset = DF_XPCA.sample(n=int(X_pca.shape[0]*0.05))"
   ]
  },
  {
   "cell_type": "code",
   "execution_count": 33,
   "metadata": {},
   "outputs": [],
   "source": [
    "# A place for your work - create a scree plot - you will need to\n",
    "# Fit a kmeans model with changing k from 1-10\n",
    "# Obtain the score for each model (take the absolute value)\n",
    "# Plot the score against k\n",
    "centers = []\n",
    "scores = []"
   ]
  },
  {
   "cell_type": "code",
   "execution_count": null,
   "metadata": {},
   "outputs": [
    {
     "name": "stdout",
     "output_type": "stream",
     "text": [
      "Fitting  29  kmean centers \n"
     ]
    }
   ],
   "source": [
    "## Used this to help manage the interupts.  , udacity kept crappig out on me after 2-3 cycles.  Taking several days to run this\n",
    "## Note: Duh this is because I ran this cell using full dataset, well atleast I have the data now\n",
    "for ii in range(1,31):\n",
    "    \n",
    "    k_pick = open('kdict.pickle',\"rb\")\n",
    "    k_dict = pickle.load(k_pick)\n",
    "    scores = k_dict['scores']\n",
    "    centers = k_dict['centers']\n",
    "    \n",
    "    if ii>=centers[len(centers)-1]:\n",
    "        time1 = time.time()\n",
    "        print('Fitting ',ii,' kmean centers ')\n",
    "        kmeans = KMeans(ii)\n",
    "        model = kmeans.fit(DF_XPCA.values)\n",
    "        labels = model.predict(DF_XPCA.values)\n",
    "        centers.append(ii)\n",
    "        scores.append(abs(model.score(DF_XPCA.values)))\n",
    "        time2 = (time.time() - time1)/60\n",
    "        print('Loop ',ii,' took ', time2, ' minutes to complete')\n",
    "        \n",
    "        k_dict = {'scores': scores,\n",
    "                 'centers': centers}\n",
    "\n",
    "        k_pick = open('kdict.pickle',\"wb\")\n",
    "        pickle.dump(k_dict,k_pick)\n",
    "        "
   ]
  },
  {
   "cell_type": "code",
   "execution_count": 35,
   "metadata": {},
   "outputs": [],
   "source": [
    "#Open the original ouput"
   ]
  },
  {
   "cell_type": "code",
   "execution_count": 130,
   "metadata": {},
   "outputs": [],
   "source": [
    "import pickle"
   ]
  },
  {
   "cell_type": "code",
   "execution_count": 131,
   "metadata": {},
   "outputs": [],
   "source": [
    "k_pick = open('kdict.pickle',\"rb\")\n",
    "k_dict2 = pickle.load(k_pick)\n",
    "\n",
    "scores = k_dict2['scores']\n",
    "centers = k_dict2['centers']"
   ]
  },
  {
   "cell_type": "code",
   "execution_count": 132,
   "metadata": {},
   "outputs": [],
   "source": [
    "#removing the repeats created by restarts (i.e. i wrote the loop logic incorrectly)\n",
    "kmeans_scores = pd.DataFrame({'centers': centers,'scores': scores})\n",
    "kmeans_scores = kmeans_scores.drop_duplicates('centers')"
   ]
  },
  {
   "cell_type": "code",
   "execution_count": null,
   "metadata": {},
   "outputs": [],
   "source": []
  },
  {
   "cell_type": "code",
   "execution_count": 133,
   "metadata": {},
   "outputs": [
    {
     "name": "stdout",
     "output_type": "stream",
     "text": [
      "Fitting  1  kmean centers \n",
      "Loop  1  took  0.01567661762237549  minutes to complete\n",
      "Fitting  2  kmean centers \n",
      "Loop  2  took  0.04520062208175659  minutes to complete\n",
      "Fitting  3  kmean centers \n",
      "Loop  3  took  0.06564472913742066  minutes to complete\n",
      "Fitting  4  kmean centers \n",
      "Loop  4  took  0.08098551829655966  minutes to complete\n",
      "Fitting  5  kmean centers \n",
      "Loop  5  took  0.10209359327952067  minutes to complete\n",
      "Fitting  6  kmean centers \n",
      "Loop  6  took  0.1452326734860738  minutes to complete\n",
      "Fitting  7  kmean centers \n",
      "Loop  7  took  0.14804726839065552  minutes to complete\n",
      "Fitting  8  kmean centers \n",
      "Loop  8  took  0.13391281763712565  minutes to complete\n",
      "Fitting  9  kmean centers \n",
      "Loop  9  took  0.18372735977172852  minutes to complete\n",
      "Fitting  10  kmean centers \n",
      "Loop  10  took  0.15173831780751545  minutes to complete\n",
      "Fitting  11  kmean centers \n",
      "Loop  11  took  0.1608871301015218  minutes to complete\n",
      "Fitting  12  kmean centers \n",
      "Loop  12  took  0.1632006883621216  minutes to complete\n",
      "Fitting  13  kmean centers \n",
      "Loop  13  took  0.2077340801556905  minutes to complete\n",
      "Fitting  14  kmean centers \n",
      "Loop  14  took  0.1718461275100708  minutes to complete\n",
      "Fitting  15  kmean centers \n",
      "Loop  15  took  0.19368359645207722  minutes to complete\n",
      "Fitting  16  kmean centers \n",
      "Loop  16  took  0.18161656856536865  minutes to complete\n",
      "Fitting  17  kmean centers \n",
      "Loop  17  took  0.20005127986272175  minutes to complete\n",
      "Fitting  18  kmean centers \n",
      "Loop  18  took  0.25028036038080853  minutes to complete\n",
      "Fitting  19  kmean centers \n",
      "Loop  19  took  0.2228564461072286  minutes to complete\n",
      "Fitting  20  kmean centers \n",
      "Loop  20  took  0.24306291739145916  minutes to complete\n",
      "Fitting  21  kmean centers \n",
      "Loop  21  took  0.23947887818018596  minutes to complete\n",
      "Fitting  22  kmean centers \n",
      "Loop  22  took  0.24398050705591837  minutes to complete\n",
      "Fitting  23  kmean centers \n",
      "Loop  23  took  0.2729194641113281  minutes to complete\n",
      "Fitting  24  kmean centers \n",
      "Loop  24  took  0.2845906337102254  minutes to complete\n",
      "Fitting  25  kmean centers \n",
      "Loop  25  took  0.26039394934972127  minutes to complete\n",
      "Fitting  26  kmean centers \n",
      "Loop  26  took  0.2997567097345988  minutes to complete\n",
      "Fitting  27  kmean centers \n",
      "Loop  27  took  0.26865909894307455  minutes to complete\n",
      "Fitting  28  kmean centers \n",
      "Loop  28  took  0.3125001629193624  minutes to complete\n",
      "Fitting  29  kmean centers \n",
      "Loop  29  took  0.3127366622289022  minutes to complete\n",
      "Fitting  30  kmean centers \n",
      "Loop  30  took  0.311242139339447  minutes to complete\n"
     ]
    }
   ],
   "source": [
    "## realizing i forgot to use a toy dataset, trying this again\n",
    "centers_t = []\n",
    "scores_t = []\n",
    "\n",
    "for ii in range(1,31):\n",
    "    \n",
    "    if ii>1:\n",
    "        k_pick_t = open('kdict_t.pickle',\"rb\")\n",
    "        k_dict_t = pickle.load(k_pick_t)\n",
    "        scores_t = k_dict_t['scores']\n",
    "        centers_t = k_dict_t['centers']\n",
    "    \n",
    "    #if ii>=centers_t[len(centers_t)-1]:\n",
    "    time1 = time.time()\n",
    "    print('Fitting ',ii,' kmean centers ')\n",
    "    kmeans_t = KMeans(ii)\n",
    "    model_t = kmeans_t.fit(toy_dataset.values)\n",
    "    labels_t = model_t.predict(toy_dataset.values)\n",
    "    centers_t.append(ii)\n",
    "    scores_t.append(abs(model_t.score(toy_dataset)))\n",
    "    time2 = (time.time() - time1)/60\n",
    "    print('Loop ',ii,' took ', time2, ' minutes to complete')\n",
    "\n",
    "    k_dict_t = {'scores': scores_t,\n",
    "             'centers': centers_t}\n",
    "\n",
    "    k_pick_t = open('kdict_t.pickle',\"wb\")\n",
    "    pickle.dump(k_dict_t,k_pick_t)"
   ]
  },
  {
   "cell_type": "code",
   "execution_count": 134,
   "metadata": {},
   "outputs": [],
   "source": [
    "k_means_t = pd.DataFrame({'centers':centers_t,'scores':scores_t})"
   ]
  },
  {
   "cell_type": "code",
   "execution_count": 135,
   "metadata": {},
   "outputs": [],
   "source": [
    "# Investigate the change in within-cluster distance across number of clusters.\n",
    "# HINT: Use matplotlib's plot function to visualize this relationship.\n",
    "\n",
    "## Compared full dataset v toy dataset(5%) as well\n"
   ]
  },
  {
   "cell_type": "code",
   "execution_count": 136,
   "metadata": {},
   "outputs": [
    {
     "data": {
      "image/png": "[encoded data removed]",
      "text/plain": [
       "<matplotlib.figure.Figure at 0x7fbba299bc18>"
      ]
     },
     "metadata": {
      "needs_background": "light"
     },
     "output_type": "display_data"
    }
   ],
   "source": [
    "#5% sample\n",
    "plt.plot(k_means_t['centers'],k_means_t['scores'], linestyle='--', marker='o', color='b');\n",
    "plt.xlabel('K-(K_-1)');\n",
    "plt.ylabel('Delta_SSE');\n",
    "plt.xticks(np.arange(1,30,step=2));\n",
    "plt.grid()\n",
    "plt.title('Delta_SSE vs. K-(K_-1)');"
   ]
  },
  {
   "cell_type": "code",
   "execution_count": 137,
   "metadata": {},
   "outputs": [
    {
     "data": {
      "image/png": "[encoded data removed]",
      "text/plain": [
       "<matplotlib.figure.Figure at 0x7fbba2c06c88>"
      ]
     },
     "metadata": {
      "needs_background": "light"
     },
     "output_type": "display_data"
    }
   ],
   "source": [
    "#Full Dataset\n",
    "plt.plot(kmeans_scores['centers'],kmeans_scores['scores'], linestyle='--', marker='o', color='b');\n",
    "plt.xlabel('K-(K_-1)');\n",
    "plt.ylabel('Delta_SSE');\n",
    "plt.xticks(np.arange(1,30,step=2));\n",
    "plt.grid()\n",
    "plt.title('Delta_SSE vs. K-(K_-1)');"
   ]
  },
  {
   "cell_type": "code",
   "execution_count": 138,
   "metadata": {},
   "outputs": [
    {
     "data": {
      "image/png": "[encoded data removed]",
      "text/plain": [
       "<matplotlib.figure.Figure at 0x7fbba2acc080>"
      ]
     },
     "metadata": {
      "needs_background": "light"
     },
     "output_type": "display_data"
    }
   ],
   "source": [
    "#5% Dataset - Scaled to 0\n",
    "plt.plot(k_means_t['centers'],k_means_t['scores'], linestyle='--', marker='o', color='b');\n",
    "plt.xlabel('K');\n",
    "plt.ylabel('SSE');\n",
    "plt.xticks(np.arange(1,30,step=2));\n",
    "plt.yticks(np.arange(0,8e6,0.5e6))\n",
    "plt.grid()\n",
    "plt.title('SSE vs. K');"
   ]
  },
  {
   "cell_type": "code",
   "execution_count": 139,
   "metadata": {},
   "outputs": [
    {
     "data": {
      "image/png": "[encoded data removed]",
      "text/plain": [
       "<matplotlib.figure.Figure at 0x7fbba2d90940>"
      ]
     },
     "metadata": {
      "needs_background": "light"
     },
     "output_type": "display_data"
    }
   ],
   "source": [
    "#Full Dataset - Scaled to 0\n",
    "plt.plot(kmeans_scores['centers'],kmeans_scores['scores'], linestyle='--', marker='o', color='b');\n",
    "plt.xlabel('K');\n",
    "plt.ylabel('SSE');\n",
    "plt.xticks(np.arange(1,30,step=2));\n",
    "plt.yticks(np.arange(0,5e7,step=0.5e7))\n",
    "plt.grid()\n",
    "plt.title('SSE vs. K');"
   ]
  },
  {
   "cell_type": "code",
   "execution_count": 140,
   "metadata": {},
   "outputs": [
    {
     "data": {
      "image/png": "[encoded data removed]",
      "text/plain": [
       "<matplotlib.figure.Figure at 0x7fbba02ef8d0>"
      ]
     },
     "metadata": {
      "needs_background": "light"
     },
     "output_type": "display_data"
    }
   ],
   "source": [
    "#5% Dataset - Differences Plotted\n",
    "plt.plot(k_means_t['centers'],k_means_t.diff()['scores'], linestyle='--', marker='o', color='b');\n",
    "plt.xlabel('K');\n",
    "plt.ylabel('SSE');\n",
    "plt.xticks(np.arange(1,30,step=2));\n",
    "plt.grid()\n",
    "plt.title('SSE vs. K');"
   ]
  },
  {
   "cell_type": "code",
   "execution_count": 141,
   "metadata": {
    "scrolled": true
   },
   "outputs": [
    {
     "data": {
      "image/png": "[encoded data removed]",
      "text/plain": [
       "<matplotlib.figure.Figure at 0x7fbba2f37c18>"
      ]
     },
     "metadata": {
      "needs_background": "light"
     },
     "output_type": "display_data"
    }
   ],
   "source": [
    "#Full Dataset - Differences Plotted\n",
    "plt.plot(kmeans_scores['centers'],kmeans_scores['scores'].diff(), linestyle='--', marker='o', color='b');\n",
    "plt.xlabel('K');\n",
    "plt.ylabel('SSE');\n",
    "plt.xticks(np.arange(1,30,step=2));\n",
    "plt.grid()\n",
    "plt.title('SSE vs. K');"
   ]
  },
  {
   "cell_type": "markdown",
   "metadata": {},
   "source": []
  },
  {
   "cell_type": "code",
   "execution_count": 142,
   "metadata": {},
   "outputs": [],
   "source": [
    "# Re-fit the k-means model with the selected number of clusters and obtain\n",
    "# cluster predictions for the general population demographics data.\n",
    "# Select 6 centers per the differences plots\n",
    "kmeans_6 = KMeans(6)\n",
    "k_model = kmeans_6.fit(DF_XPCA.values)\n",
    "labels = k_model.predict(DF_XPCA.values)"
   ]
  },
  {
   "cell_type": "code",
   "execution_count": 143,
   "metadata": {},
   "outputs": [
    {
     "data": {
      "text/plain": [
       "['k_model.model']"
      ]
     },
     "execution_count": 143,
     "metadata": {},
     "output_type": "execute_result"
    }
   ],
   "source": [
    "dump(k_model,'k_model.model')"
   ]
  },
  {
   "cell_type": "markdown",
   "metadata": {},
   "source": [
    "### Discussion 3.1: Apply Clustering to General Population\n",
    "I didnt mean to, but i forgot to use my toy dataset as the quick samples.  Took many attempts and several days to run the 30 k-means, but the scan was using the entire dataset.\n",
    "\n",
    "It is diffecult to determine to elbow from the standard graph so I used the difference between the errors of clusters to find a point where the changes between thepoints begins to slow down.   I chose 6 clusters as the elbow point.\n"
   ]
  },
  {
   "cell_type": "markdown",
   "metadata": {},
   "source": [
    "### Step 3.2: Apply All Steps to the Customer Data\n",
    "\n",
    "Now that you have clusters and cluster centers for the general population, it's time to see how the customer data maps on to those clusters. Take care to not confuse this for re-fitting all of the models to the customer data. Instead, you're going to use the fits from the general population to clean, transform, and cluster the customer data. In the last step of the project, you will interpret how the general population fits apply to the customer data.\n",
    "\n",
    "- Don't forget when loading in the customers data, that it is semicolon (`;`) delimited.\n",
    "- Apply the same feature wrangling, selection, and engineering steps to the customer demographics using the `clean_data()` function you created earlier. (You can assume that the customer demographics data has similar meaning behind missing data patterns as the general demographics data.)\n",
    "- Use the sklearn objects from the general demographics data, and apply their transformations to the customers data. That is, you should not be using a `.fit()` or `.fit_transform()` method to re-fit the old objects, nor should you be creating new sklearn objects! Carry the data through the feature scaling, PCA, and clustering steps, obtaining cluster assignments for all of the data in the customer demographics data."
   ]
  },
  {
   "cell_type": "code",
   "execution_count": 144,
   "metadata": {},
   "outputs": [],
   "source": [
    "import numpy as np\n",
    "import pandas as pd\n",
    "import matplotlib.pyplot as plt\n",
    "import seaborn as sns\n",
    "import ast\n",
    "from sklearn.preprocessing import StandardScaler\n",
    "from sklearn.decomposition import PCA\n",
    "from sklearn.preprocessing import Imputer \n",
    "from sklearn.cluster import KMeans\n",
    "# magic word for producing visualizations in notebook\n",
    "%matplotlib inline\n",
    "import pickle\n"
   ]
  },
  {
   "cell_type": "code",
   "execution_count": 145,
   "metadata": {},
   "outputs": [],
   "source": [
    "# Load in the customer demographics data.\n",
    "customers = pd.read_pickle('cust_wkg.pickle')  #from earlier pre-processes data"
   ]
  },
  {
   "cell_type": "code",
   "execution_count": 146,
   "metadata": {},
   "outputs": [
    {
     "data": {
      "text/plain": [
       "set()"
      ]
     },
     "execution_count": 146,
     "metadata": {},
     "output_type": "execute_result"
    }
   ],
   "source": [
    "set(df_azdias_wkg_cln.columns)-set(customers.columns)"
   ]
  },
  {
   "cell_type": "code",
   "execution_count": null,
   "metadata": {},
   "outputs": [],
   "source": []
  },
  {
   "cell_type": "code",
   "execution_count": null,
   "metadata": {},
   "outputs": [],
   "source": []
  },
  {
   "cell_type": "code",
   "execution_count": 147,
   "metadata": {},
   "outputs": [],
   "source": [
    "# Apply preprocessing, feature transformation, and clustering from the general\n",
    "# demographics onto the customer data, obtaining cluster predictions for the\n",
    "# customer demographics data.\n",
    "\n",
    "from joblib import dump, load\n",
    " \n",
    "#load models\n",
    "## imputer \n",
    "i_mean= load('i_mean.model')\n",
    "i_mf = load('i_mf.model')\n",
    "## scaler\n",
    "scaler = load('scaler.model')\n",
    "## pca\n",
    "pca = load('pca.model')\n",
    "## kmeans \n",
    "k_model = load('k_model.model')"
   ]
  },
  {
   "cell_type": "code",
   "execution_count": 148,
   "metadata": {},
   "outputs": [],
   "source": [
    "#impute  \n",
    "\n",
    "\n",
    "cust_wkg,imf,im = impute_data(customers,feat_wkg,imp_most_freq=i_mf,imp_mean=i_mean)\n",
    "#note - added the az_wkg after reloading notebook to avoid rerunning evertyhing from ckpt 6\n",
    "#az_wkg,imf_a,im_a = impute_data(azdias_wkg,feat_wkg,imp_most_freq=i_mf,imp_mean=i_mean)"
   ]
  },
  {
   "cell_type": "code",
   "execution_count": 149,
   "metadata": {},
   "outputs": [],
   "source": [
    "#Scale imputed data\n",
    "\n",
    "cust_scaled = scaler.transform(cust_wkg)\n",
    "#az_scaled = scaler.transform(az_wkg)\n"
   ]
  },
  {
   "cell_type": "code",
   "execution_count": 150,
   "metadata": {},
   "outputs": [],
   "source": [
    "###############\n",
    "#  Dimentionality Reduction using PCA\n",
    "##############\n",
    "\n",
    "cust_pca = pca.transform(cust_scaled)\n",
    "#az_pca = pca.transform(az_scaled)"
   ]
  },
  {
   "cell_type": "code",
   "execution_count": 151,
   "metadata": {},
   "outputs": [],
   "source": [
    "##############\n",
    "#  Cluster\n",
    "##############\n",
    "\n",
    "c_labels = k_model.predict(cust_pca)\n",
    "#a_labels = k_model.predict(az_pca)"
   ]
  },
  {
   "cell_type": "markdown",
   "metadata": {},
   "source": [
    "### Step 3.3: Compare Customer Data to Demographics Data\n",
    "\n",
    "At this point, you have clustered data based on demographics of the general population of Germany, and seen how the customer data for a mail-order sales company maps onto those demographic clusters. In this final substep, you will compare the two cluster distributions to see where the strongest customer base for the company is.\n",
    "\n",
    "Consider the proportion of persons in each cluster for the general population, and the proportions for the customers. If we think the company's customer base to be universal, then the cluster assignment proportions should be fairly similar between the two. If there are only particular segments of the population that are interested in the company's products, then we should see a mismatch from one to the other. If there is a higher proportion of persons in a cluster for the customer data compared to the general population (e.g. 5% of persons are assigned to a cluster for the general population, but 15% of the customer data is closest to that cluster's centroid) then that suggests the people in that cluster to be a target audience for the company. On the other hand, the proportion of the data in a cluster being larger in the general population than the customer data (e.g. only 2% of customers closest to a population centroid that captures 6% of the data) suggests that group of persons to be outside of the target demographics.\n",
    "\n",
    "Take a look at the following points in this step:\n",
    "\n",
    "- Compute the proportion of data points in each cluster for the general population and the customer data. Visualizations will be useful here: both for the individual dataset proportions, but also to visualize the ratios in cluster representation between groups. Seaborn's [`countplot()`](https://seaborn.pydata.org/generated/seaborn.countplot.html) or [`barplot()`](https://seaborn.pydata.org/generated/seaborn.barplot.html) function could be handy.\n",
    "  - Recall the analysis you performed in step 1.1.3 of the project, where you separated out certain data points from the dataset if they had more than a specified threshold of missing values. If you found that this group was qualitatively different from the main bulk of the data, you should treat this as an additional data cluster in this analysis. Make sure that you account for the number of data points in this subset, for both the general population and customer datasets, when making your computations!\n",
    "- Which cluster or clusters are overrepresented in the customer dataset compared to the general population? Select at least one such cluster and infer what kind of people might be represented by that cluster. Use the principal component interpretations from step 2.3 or look at additional components to help you make this inference. Alternatively, you can use the `.inverse_transform()` method of the PCA and StandardScaler objects to transform centroids back to the original data space and interpret the retrieved values directly.\n",
    "- Perform a similar investigation for the underrepresented clusters. Which cluster or clusters are underrepresented in the customer dataset compared to the general population, and what kinds of people are typified by these clusters?"
   ]
  },
  {
   "cell_type": "code",
   "execution_count": 152,
   "metadata": {},
   "outputs": [],
   "source": [
    "import seaborn as sns"
   ]
  },
  {
   "cell_type": "code",
   "execution_count": 153,
   "metadata": {},
   "outputs": [],
   "source": [
    "# Compare the proportion of data in each cluster for the customer data to the\n",
    "# proportion of data in each cluster for the general population.\n",
    "c_count = np.unique(c_labels,return_counts=True)\n",
    "c_prop = c_count[1]/c_count[1].sum()\n",
    "\n",
    "az_l_count = np.unique(labels,return_counts=True)\n",
    "az_l_prop = az_l_count[1]/az_l_count[1].sum()"
   ]
  },
  {
   "cell_type": "code",
   "execution_count": 154,
   "metadata": {},
   "outputs": [],
   "source": [
    "props = pd.DataFrame(c_prop,columns=['customer'])\n"
   ]
  },
  {
   "cell_type": "code",
   "execution_count": 155,
   "metadata": {},
   "outputs": [],
   "source": [
    "props['gen pop'] = az_l_prop\n"
   ]
  },
  {
   "cell_type": "code",
   "execution_count": 156,
   "metadata": {},
   "outputs": [
    {
     "data": {
      "text/plain": [
       "(133427, 455)"
      ]
     },
     "execution_count": 156,
     "metadata": {},
     "output_type": "execute_result"
    }
   ],
   "source": [
    "cust_scaled.shape"
   ]
  },
  {
   "cell_type": "code",
   "execution_count": 157,
   "metadata": {},
   "outputs": [
    {
     "data": {
      "text/plain": [
       "<matplotlib.axes._subplots.AxesSubplot at 0x7fbba7613048>"
      ]
     },
     "execution_count": 157,
     "metadata": {},
     "output_type": "execute_result"
    },
    {
     "data": {
      "image/png": "[encoded data removed]",
      "text/plain": [
       "<matplotlib.figure.Figure at 0x7fbba2e4bc18>"
      ]
     },
     "metadata": {
      "needs_background": "light"
     },
     "output_type": "display_data"
    }
   ],
   "source": [
    "props.plot(kind='bar')"
   ]
  },
  {
   "cell_type": "code",
   "execution_count": null,
   "metadata": {},
   "outputs": [],
   "source": [
    "s"
   ]
  },
  {
   "cell_type": "code",
   "execution_count": null,
   "metadata": {},
   "outputs": [],
   "source": []
  },
  {
   "cell_type": "code",
   "execution_count": 214,
   "metadata": {},
   "outputs": [
    {
     "data": {
      "image/png": "[encoded data removed]",
      "text/plain": [
       "<matplotlib.figure.Figure at 0x7fbba028dd68>"
      ]
     },
     "metadata": {
      "needs_background": "light"
     },
     "output_type": "display_data"
    }
   ],
   "source": [
    "# What kinds of people are part of a cluster that is overrepresented in the\n",
    "# customer data compared to the general population?\n",
    "\n",
    "#There was a single cluster that significantly was overrepresented in the customer dateset\n",
    "# Cluster 1\n",
    "clust1 = np.where(c_labels==1)\n",
    "cpca_clust1 = pd.DataFrame(cust_pca[clust1])\n",
    "\n",
    "ax = sns.boxplot(data=cpca_clust1[list(range(0,4,1))])\n",
    "ax.grid(axis='y')"
   ]
  },
  {
   "cell_type": "code",
   "execution_count": 215,
   "metadata": {},
   "outputs": [],
   "source": [
    "clust1_mean = cpca_clust1[list(range(0,4,1))].mean()"
   ]
  },
  {
   "cell_type": "code",
   "execution_count": 216,
   "metadata": {},
   "outputs": [
    {
     "data": {
      "text/plain": [
       "0   -6.123310\n",
       "1    2.499311\n",
       "2    1.480240\n",
       "3   -3.494444\n",
       "dtype: float64"
      ]
     },
     "execution_count": 216,
     "metadata": {},
     "output_type": "execute_result"
    }
   ],
   "source": [
    "clust2_mean"
   ]
  },
  {
   "cell_type": "code",
   "execution_count": 159,
   "metadata": {},
   "outputs": [],
   "source": [
    "## NOTE this graph is index 0 but pca components are index 1\n",
    "##  Cluster 1 has a low score on pca component 1(0) and 4(3) and high on 2(1) and 3(2)"
   ]
  },
  {
   "cell_type": "code",
   "execution_count": 160,
   "metadata": {},
   "outputs": [],
   "source": [
    "# What kinds of people are part of a cluster that is underrepresented in the\n",
    "# customer data compared to the general population?\n",
    "# Cluster  0,5,4 "
   ]
  },
  {
   "cell_type": "code",
   "execution_count": 217,
   "metadata": {},
   "outputs": [
    {
     "data": {
      "image/png": "[encoded data removed]",
      "text/plain": [
       "<matplotlib.figure.Figure at 0x7fbba0496a20>"
      ]
     },
     "metadata": {
      "needs_background": "light"
     },
     "output_type": "display_data"
    }
   ],
   "source": [
    "# Cluster 0\n",
    "clust0 = np.where(c_labels==0)\n",
    "cpca_clust0 = pd.DataFrame(cust_pca[clust0])\n",
    "\n",
    "ax0 = sns.boxplot(data=cpca_clust0[list(range(0,4,1))])\n",
    "ax0.grid(axis='y')"
   ]
  },
  {
   "cell_type": "code",
   "execution_count": 218,
   "metadata": {
    "scrolled": true
   },
   "outputs": [
    {
     "data": {
      "image/png": "[encoded data removed]",
      "text/plain": [
       "<matplotlib.figure.Figure at 0x7fbba294dcf8>"
      ]
     },
     "metadata": {
      "needs_background": "light"
     },
     "output_type": "display_data"
    }
   ],
   "source": [
    "# Cluster 5\n",
    "clust5 = np.where(c_labels==5)\n",
    "cpca_clust5 = pd.DataFrame(cust_pca[clust5])\n",
    "\n",
    "ax2 = sns.boxplot(data=cpca_clust5[list(range(0,4,1))])\n",
    "ax2.grid(axis='y')"
   ]
  },
  {
   "cell_type": "code",
   "execution_count": 220,
   "metadata": {},
   "outputs": [
    {
     "data": {
      "image/png": "[encoded data removed]",
      "text/plain": [
       "<matplotlib.figure.Figure at 0x7fbba2eef5c0>"
      ]
     },
     "metadata": {
      "needs_background": "light"
     },
     "output_type": "display_data"
    }
   ],
   "source": [
    "# Cluster 2\n",
    "clust4 = np.where(c_labels==4)\n",
    "cpca_clust4 = pd.DataFrame(cust_pca[clust4])\n",
    "\n",
    "ax3 = sns.boxplot(data=cpca_clust2[list(range(0,4,1))])\n",
    "ax3.grid(axis='y')"
   ]
  },
  {
   "cell_type": "code",
   "execution_count": 221,
   "metadata": {},
   "outputs": [],
   "source": [
    "clust5_mean = cpca_clust5[list(range(0,4,1))].mean()\n",
    "clust4_mean = cpca_clust4[list(range(0,4,1))].mean()\n",
    "clust0_mean = cpca_clust0[list(range(0,4,1))].mean()"
   ]
  },
  {
   "cell_type": "code",
   "execution_count": null,
   "metadata": {},
   "outputs": [],
   "source": [
    "#To find the features that most represent the cluster, i will take the scores "
   ]
  },
  {
   "cell_type": "code",
   "execution_count": 178,
   "metadata": {},
   "outputs": [],
   "source": [
    "first4 = res1.iloc[:4,:]"
   ]
  },
  {
   "cell_type": "code",
   "execution_count": 244,
   "metadata": {},
   "outputs": [
    {
     "data": {
      "text/plain": [
       "Dimension 1   -1.0475\n",
       "Dimension 2   -0.8732\n",
       "Dimension 3   -0.1611\n",
       "Dimension 4   -0.3296\n",
       "dtype: float64"
      ]
     },
     "execution_count": 244,
     "metadata": {},
     "output_type": "execute_result"
    }
   ],
   "source": [
    "first4.sum(axis=1)"
   ]
  },
  {
   "cell_type": "code",
   "execution_count": 199,
   "metadata": {},
   "outputs": [
    {
     "name": "stderr",
     "output_type": "stream",
     "text": [
      "/opt/conda/lib/python3.6/site-packages/numpy/core/fromnumeric.py:57: FutureWarning: reshape is deprecated and will raise in a subsequent release. Please use .values.reshape(...) instead\n",
      "  return getattr(obj, method)(*args, **kwds)\n"
     ]
    },
    {
     "data": {
      "text/plain": [
       "(4, 1)"
      ]
     },
     "execution_count": 199,
     "metadata": {},
     "output_type": "execute_result"
    }
   ],
   "source": [
    "cl1 = np.reshape(clust1_mean,[4,1])\n",
    "cl1.shape"
   ]
  },
  {
   "cell_type": "code",
   "execution_count": 207,
   "metadata": {},
   "outputs": [
    {
     "data": {
      "text/plain": [
       "W_KEIT_KIND_HH_2.0        1.254642\n",
       "CAMEO_DEU_2015_3A         1.189235\n",
       "ALTERSKATEGORIE_GROB      1.016395\n",
       "SEMIO_KRIT_6              1.006986\n",
       "KBA05_ANTG3_0.0           1.006461\n",
       "PLZ8_ANTG1_0.0            0.981841\n",
       "REGIOTYP_3.0              0.971453\n",
       "GEBAEUDETYP_RASTER_1.0    0.965136\n",
       "FINANZ_SPARER_3           0.960482\n",
       "FINANZTYP_2               0.849150\n",
       "dtype: float64"
      ]
     },
     "execution_count": 207,
     "metadata": {},
     "output_type": "execute_result"
    }
   ],
   "source": [
    "(cl1*first4).sum().sort_values(ascending=False)[:10]"
   ]
  },
  {
   "cell_type": "code",
   "execution_count": 238,
   "metadata": {},
   "outputs": [
    {
     "data": {
      "text/plain": [
       "array([[-6.12330994],\n",
       "       [ 2.49931096],\n",
       "       [ 1.4802405 ],\n",
       "       [-3.49444374]])"
      ]
     },
     "execution_count": 238,
     "metadata": {},
     "output_type": "execute_result"
    }
   ],
   "source": [
    "cl1"
   ]
  },
  {
   "cell_type": "code",
   "execution_count": 240,
   "metadata": {},
   "outputs": [
    {
     "name": "stderr",
     "output_type": "stream",
     "text": [
      "/opt/conda/lib/python3.6/site-packages/numpy/core/fromnumeric.py:57: FutureWarning: reshape is deprecated and will raise in a subsequent release. Please use .values.reshape(...) instead\n",
      "  return getattr(obj, method)(*args, **kwds)\n"
     ]
    },
    {
     "data": {
      "text/plain": [
       "SEMIO_VERT_2              0.760475\n",
       "HH_EINKOMMEN_SCORE_4.0    0.736872\n",
       "FINANZ_HAUSBAUER_1        0.728693\n",
       "SEMIO_KULT_3              0.640752\n",
       "HEALTH_TYP_1.0            0.628616\n",
       "LP_FAMILIE_GROB_2.0       0.617479\n",
       "CAMEO_DEU_2015_1C         0.602393\n",
       "WOHNLAGE_8.0              0.587878\n",
       "HH_EINKOMMEN_SCORE_2.0    0.581348\n",
       "FINANZ_HAUSBAUER_2        0.556400\n",
       "dtype: float64"
      ]
     },
     "execution_count": 240,
     "metadata": {},
     "output_type": "execute_result"
    }
   ],
   "source": [
    "cl0 = np.reshape(clust0_mean,[4,1])\n",
    "(cl0*first4).sum().sort_values(ascending=False)[:10]"
   ]
  },
  {
   "cell_type": "code",
   "execution_count": 239,
   "metadata": {},
   "outputs": [
    {
     "name": "stderr",
     "output_type": "stream",
     "text": [
      "/opt/conda/lib/python3.6/site-packages/numpy/core/fromnumeric.py:57: FutureWarning: reshape is deprecated and will raise in a subsequent release. Please use .values.reshape(...) instead\n",
      "  return getattr(obj, method)(*args, **kwds)\n"
     ]
    },
    {
     "data": {
      "text/plain": [
       "SEMIO_DOM_4                 1.254600\n",
       "FINANZTYP_5                 1.252629\n",
       "LP_LEBENSPHASE_FEIN_12.0    1.252629\n",
       "PLZ8_BAUMAX_2.0             1.252629\n",
       "GEBAEUDETYP_RASTER_3.0      0.905341\n",
       "SEMIO_ERL_3                 0.867392\n",
       "WOHNLAGE_8.0                0.778737\n",
       "KBA05_ANTG2_0.0             0.755270\n",
       "W_KEIT_KIND_HH_6.0          0.728262\n",
       "LP_LEBENSPHASE_FEIN_14.0    0.718079\n",
       "dtype: float64"
      ]
     },
     "execution_count": 239,
     "metadata": {},
     "output_type": "execute_result"
    }
   ],
   "source": [
    "cl5 = np.reshape(clust5_mean,[4,1])\n",
    "(cl5*first4).sum().sort_values(ascending=False)[:10]"
   ]
  },
  {
   "cell_type": "code",
   "execution_count": 241,
   "metadata": {},
   "outputs": [
    {
     "name": "stderr",
     "output_type": "stream",
     "text": [
      "/opt/conda/lib/python3.6/site-packages/numpy/core/fromnumeric.py:57: FutureWarning: reshape is deprecated and will raise in a subsequent release. Please use .values.reshape(...) instead\n",
      "  return getattr(obj, method)(*args, **kwds)\n"
     ]
    },
    {
     "data": {
      "text/plain": [
       "SEMIO_VERT_2              0.908126\n",
       "GEBAEUDETYP_RASTER_5.0    0.766774\n",
       "ONLINE_AFFINITAET_2.0     0.744087\n",
       "FINANZ_SPARER_2           0.733196\n",
       "ANZ_HAUSHALTE_AKTIV       0.717716\n",
       "PLZ8_BAUMAX_4.0           0.661865\n",
       "GEBAEUDETYP_1.0           0.626751\n",
       "CAMEO_DEU_2015_2B         0.597125\n",
       "BALLRAUM                  0.568796\n",
       "ANZ_TITEL                 0.567021\n",
       "dtype: float64"
      ]
     },
     "execution_count": 241,
     "metadata": {},
     "output_type": "execute_result"
    }
   ],
   "source": [
    "cl4 = np.reshape(clust4_mean,[4,1])\n",
    "(cl4*first4).sum().sort_values(ascending=False)[:10]"
   ]
  },
  {
   "cell_type": "code",
   "execution_count": null,
   "metadata": {},
   "outputs": [],
   "source": [
    "first4.sort_values(ascending=False)"
   ]
  },
  {
   "cell_type": "markdown",
   "metadata": {},
   "source": [
    "### Discussion 3.3: Compare Customer Data to Demographics Data\n",
    "\n",
    "Per the previous section, I chose 6 clusters for the K-means model.   I evaluated the customer data versus the gen pop data and identified one cluseter (cluster 1) where the customers were overrepresentged in comparison to the gen pop data.  Alternatvly there were 3 clusters that the custers were underrepresented in comparisont to the general population (Clusters 0,5 and 4).\n",
    "\n",
    "I created box plots of each pca scores of each cluster.  I compared the means against the interpretations from section 2.2\n",
    "\n",
    "Also as an alternative method (not sure if this is right) I took the means from each eigenvector within the evaluated cluster and multiplied across that eigenvector.   Then i added the each of the products of each of the four features together. (i.e. used the means as scalar magnitues multipliing across the respective eigenvectors)  I was hoping this would give me a better view on how the different means within each cluster pushed adn pulled with each other.\n",
    "\n",
    "\n",
    "Cluster #1: Had significantly  higher proportion of customers in comparison to the general population. The average of the first 4 components within the clusters were as followed [-6, 2.5, 1.5, -3.5].  \n",
    "\n",
    "It appears that the overrepresented demographic is Middle class families, potentially upper middle class in an urban area or apt building.\n",
    "\n",
    "Clusters #s 0 5 and 4 had significantly lower proportion of customer in comparison to the gen pop\n",
    "\n",
    "Note: interesting that all three clusters, although had different means, had a very tight distribution on component 3.\n",
    "\n",
    "Cluster 0: means approx [5,-1,-2.5,0]\n",
    "Couples without children, middle to upper middle class, not homeownsers.  Potnentially highly cultural midened/dreamer\n",
    "\n",
    "Cluster 5: means approx [-0.5,-4.5,4,-2.5]\n",
    "Single or Couple without children, savers or investors\n",
    "\n",
    "Clsuter 2: means appox [-5, 0.5,4,2.5]\n",
    "Livning in a residential area far from urban center,lower to middle income, savers.\n",
    "\n",
    "The first eigenvector represents on:\n",
    "    \n",
    "    Positive end - Wealthy older couples, non inconspucous spending, in dense area\n",
    "    Negative end - high number of households per building (apt building), far from urban center\n",
    "\n",
    "The second eigenvector represents:\n",
    "    \n",
    "    Positive End: Older low income earners with childre.\n",
    "    NEgative end: Rural, older, single, moderate wealth (homeownserhsip and investor)\n",
    "    \n",
    "The third eigennvector represents on:\n",
    "    \n",
    "    Pos end:  Lower to middle income, materialistic\n",
    "    Neg end: Aspirational, saving couples\n",
    "\n",
    "\n",
    "The forth eigenvector represents on:\n",
    "\n",
    "    Pos End: High earners, singlee parents, apartment building\n",
    "    NEg End: Families living in mixed residential/commerical areas\n",
    "    \n",
    "    \n",
    "I have trouble with this last part, i am only semi in that I performed the analysis correctly.  I found looking at the top and bottom of the eigenvectors a bit cryptic.  Which is why i used the second method.  \n",
    "    "
   ]
  },
  {
   "cell_type": "markdown",
   "metadata": {},
   "source": [
    "> Congratulations on making it this far in the project! Before you finish, make sure to check through the entire notebook from top to bottom to make sure that your analysis follows a logical flow and all of your findings are documented in **Discussion** cells. Once you've checked over all of your work, you should export the notebook as an HTML document to submit for evaluation. You can do this from the menu, navigating to **File -> Download as -> HTML (.html)**. You will submit both that document and this notebook for your project submission."
   ]
  },
  {
   "cell_type": "code",
   "execution_count": null,
   "metadata": {},
   "outputs": [],
   "source": []
  }
 ],
 "metadata": {
  "kernelspec": {
   "display_name": "Python 3",
   "language": "python",
   "name": "python3"
  },
  "language_info": {
   "codemirror_mode": {
    "name": "ipython",
    "version": 3
   },
   "file_extension": ".py",
   "mimetype": "text/x-python",
   "name": "python",
   "nbconvert_exporter": "python",
   "pygments_lexer": "ipython3",
   "version": "3.6.8"
  }
 },
 "nbformat": 4,
 "nbformat_minor": 4
}
