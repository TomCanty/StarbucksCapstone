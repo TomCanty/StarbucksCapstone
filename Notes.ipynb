{
 "cells": [
  {
   "cell_type": "markdown",
   "metadata": {},
   "source": [
    "# Starbucks Capstone Project"
   ]
  },
  {
   "cell_type": "markdown",
   "metadata": {},
   "source": [
    "# 0.0 Project Introduction"
   ]
  },
  {
   "cell_type": "markdown",
   "metadata": {},
   "source": [
    "\n",
    "This data set contains simulated data that mimics customer behavior on the Starbucks rewards mobile app. Once every few days, Starbucks sends out an offer to users of the mobile app. An offer can be merely an advertisement for a drink or an actual offer such as a discount or BOGO (buy one get one free). Some users might not receive any offer during certain weeks. \n",
    "\n",
    "Not all users receive the same offer, and that is the challenge to solve with this data set.\n",
    "\n",
    "Your task is to combine transaction, demographic and offer data to determine which demographic groups respond best to which offer type. This data set is a simplified version of the real Starbucks app because the underlying simulator only has one product whereas Starbucks actually sells dozens of products.\n",
    "\n",
    "Every offer has a validity period before the offer expires. As an example, a BOGO offer might be valid for only 5 days. You'll see in the data set that informational offers have a validity period even though these ads are merely providing information about a product; for example, if an informational offer has 7 days of validity, you can assume the customer is feeling the influence of the offer for 7 days after receiving the advertisement.\n",
    "\n",
    "You'll be given transactional data showing user purchases made on the app including the timestamp of purchase and the amount of money spent on a purchase. This transactional data also has a record for each offer that a user receives as well as a record for when a user actually views the offer. There are also records for when a user completes an offer. \n",
    "\n",
    "Keep in mind as well that someone using the app might make a purchase through the app without having received an offer or seen an offer.\n",
    "\n",
    "### Example\n",
    "\n",
    "To give an example, a user could receive a discount offer buy 10 dollars get 2 off on Monday. The offer is valid for 10 days from receipt. If the customer accumulates at least 10 dollars in purchases during the validity period, the customer completes the offer.\n",
    "\n",
    "However, there are a few things to watch out for in this data set. Customers do not opt into the offers that they receive; in other words, a user can receive an offer, never actually view the offer, and still complete the offer. For example, a user might receive the \"buy 10 dollars get 2 dollars off offer\", but the user never opens the offer during the 10 day validity period. The customer spends 15 dollars during those ten days. There will be an offer completion record in the data set; however, the customer was not influenced by the offer because the customer never viewed the offer.\n",
    "\n",
    "### Cleaning\n",
    "\n",
    "This makes data cleaning especially important and tricky.\n",
    "\n",
    "You'll also want to take into account that some demographic groups will make purchases even if they don't receive an offer. From a business perspective, if a customer is going to make a 10 dollar purchase without an offer anyway, you wouldn't want to send a buy 10 dollars get 2 dollars off offer. You'll want to try to assess what a certain demographic group will buy when not receiving any offers.\n",
    "\n",
    "### Final Advice\n",
    "\n",
    "Because this is a capstone project, you are free to analyze the data any way you see fit. For example, you could build a machine learning model that predicts how much someone will spend based on demographics and offer type. Or you could build a model that predicts whether or not someone will respond to an offer. Or, you don't need to build a machine learning model at all. You could develop a set of heuristics that determine what offer you should send to each customer (i.e., 75 percent of women customers who were 35 years old responded to offer A vs 40 percent from the same demographic to offer B, so send offer A)."
   ]
  },
  {
   "cell_type": "markdown",
   "metadata": {},
   "source": [
    "## 1.0 CRISP-DM"
   ]
  },
  {
   "cell_type": "markdown",
   "metadata": {},
   "source": [
    "###      1.1 Business Understanding\n",
    "\n",
    "Starbucks has an mobile app where registered users can use it to order coffe for pickup while mobile, pay in store using a pre-paid function, and collect rewards points.   This app also offers promotions for bonus points to these users.   Starbucks would like to know which of thier promotions are most efficent in inspiring purchases.\n",
    "\n",
    "The primary task is to combine transaction, demographic and offer data to determine which demographic groups respond best to which offer type. "
   ]
  },
  {
   "cell_type": "code",
   "execution_count": null,
   "metadata": {},
   "outputs": [],
   "source": []
  },
  {
   "cell_type": "markdown",
   "metadata": {},
   "source": [
    "### 1.2 Data Understanding"
   ]
  },
  {
   "cell_type": "markdown",
   "metadata": {},
   "source": [
    "The data is contained in three files:\n",
    "\n",
    "* portfolio.json - containing offer ids and meta data about each offer (duration, type, etc.)\n",
    "* profile.json - demographic data for each customer\n",
    "* transcript.json - records for transactions, offers received, offers viewed, and offers completed\n",
    "\n",
    "Here is the schema and explanation of each variable in the files:\n",
    "\n",
    "**portfolio.json**\n",
    "* id (string) - offer id\n",
    "* offer_type (string) - type of offer ie BOGO, discount, informational\n",
    "* difficulty (int) - minimum required spend to complete an offer\n",
    "* reward (int) - reward given for completing an offer\n",
    "* duration (int) - time for offer to be open, in days\n",
    "* channels (list of strings)\n",
    "\n",
    "**profile.json**\n",
    "* age (int) - age of the customer \n",
    "* became_member_on (int) - date when customer created an app account\n",
    "* gender (str) - gender of the customer (note some entries contain 'O' for other rather than M or F)\n",
    "* id (str) - customer id\n",
    "* income (float) - customer's income\n",
    "\n",
    "**transcript.json**\n",
    "* event (str) - record description (ie transaction, offer received, offer viewed, etc.)\n",
    "* person (str) - customer id\n",
    "* time (int) - time in hours since start of test. The data begins at time t=0\n",
    "* value - (dict of strings) - either an offer id or transaction amount depending on the record\n"
   ]
  },
  {
   "cell_type": "markdown",
   "metadata": {},
   "source": [
    "   ### 1.3 Prepare Data\n"
   ]
  },
  {
   "cell_type": "markdown",
   "metadata": {},
   "source": [
    "   #### 1.3.1 Cleaning"
   ]
  },
  {
   "cell_type": "markdown",
   "metadata": {},
   "source": [
    "##### *Cleaning Portfolio*\n",
    "1. rename \"offer id\" to \"offer_id\" to match transcript\n",
    "2. one-hot encode \"channels\" and \"offer_type\"\n",
    "    - channels = []\n",
    "    - offer types = []\n",
    "3.  ~~set index to the offer id for easy reference~~ **use original index, reset transaction user for easy reading**\n",
    "\n",
    "##### *Cleaning Profile*\n",
    "1. became member on -> to_datetime\n",
    "2. Drop nas - 13% of data is dropped becuase of missing data\n",
    "3.  one-hot encoded gender\n",
    "4.  set index as id (user_id) for easier reference\n",
    "\n",
    "##### *Cleaning Transcript*\n",
    "1. convert value dict into columns based on key.  Differnt value per offer\n",
    "\n",
    "| event | value |\n",
    "|-------|-------|\n",
    "| offer rcvd | 'offer id'       |\n",
    "| offer viewed  | 'offer id'       |\n",
    "| trans |       | 'amount'\n",
    "| compl | 'offer_id' , 'reward'     |\n",
    "\n",
    "2. merge offer_id column \n",
    "3. drop columns not needed\n",
    "4. reorder columns\n",
    "5. only include persons left on profile\n",
    "6. split into 4 additional dfs by event type\n",
    "\n"
   ]
  },
  {
   "cell_type": "markdown",
   "metadata": {},
   "source": [
    "#### 1.3.2 Observations"
   ]
  },
  {
   "cell_type": "markdown",
   "metadata": {},
   "source": [
    "##### *Portfolio Observation*\n",
    "* 10 - Offers\n",
    "\n",
    "##### *Profile Observations*\n",
    "* 14825/17000 profiles (87% with no na)\n",
    "\n",
    "##### *Transcript Observations*\n",
    "* time is by hour.  Time window is about 30 days (714 hrs or 29.75 days)\n",
    "* 4 types of transactions - [offer,view,transaction,complete]\n",
    "    * transactions are not specifically tied to offers.\n",
    "* offers are not opt-in - they need to be *viewed* to be completed\n",
    "* transactions that coorespond to reward have the same timestamp as the reward\n",
    "* offers can be made more than once to the same person\n",
    "* offers do not always result in a reward "
   ]
  },
  {
   "cell_type": "markdown",
   "metadata": {},
   "source": [
    "\n"
   ]
  },
  {
   "cell_type": "code",
   "execution_count": null,
   "metadata": {},
   "outputs": [],
   "source": []
  },
  {
   "cell_type": "markdown",
   "metadata": {},
   "source": [
    "#### 1.3.3 Thoughts\n",
    "\n",
    "\n",
    "##### *Profile Thoughts*\n",
    "- Need to perform some demographic baseline\n",
    "\n",
    "##### *Transaction Thoughts*\n",
    "* I need to take two tacts on this.\n",
    "    - [ ] Clean as one block\n",
    "    - [X] Split data into 4 distict df based on transaction types for matching.\n",
    "        - [X] find a way to match events from each list with each other\n",
    "\n",
    "\n",
    "#### 1.3.3 To-Do\n",
    "\n",
    "##### *Profile To-Do*\n",
    "- [ ] Revisit *drop_nas* (13% of \n",
    "    * [ ]  Compare spend, significant difference?\n",
    "- [X] Histograms\n",
    "    - [X] income - overall\n",
    "    - [X] \" by gender\n",
    "    - [X] \" by age\n",
    "    - [X] \" length of membership\n",
    "    - [X] Make prettier Histograms\n",
    "    - [X] KDE income by age\n",
    "    - [X] KDA income by length of membership\n",
    "    - [ ] Color KDE by groupings\n",
    "\n",
    "##### *Transcript To-Do*\n",
    "- [ ] While cleaning, replace user_id with index id from user matrix for easier viewing\n",
    "- [X] Create user_offer matrix from t_offer. Do individuals get same offer more than once (YES)\n",
    "- [ ] Explore breakdown of completed by type\n",
    "    - [ ] Search for coorelations between offer type, extent of response, and known demographic.\n",
    "    "
   ]
  },
  {
   "cell_type": "markdown",
   "metadata": {},
   "source": [
    "### 1.3.4 Demographic Analysis\n",
    "\n",
    "- There are 4 avaible demographic metrics\n",
    "    - Age  ( continuous)\n",
    "    - Gender ( Discrete)\n",
    "    - Income (continuous) \n",
    "    - Length of time as a member (continuous)\n",
    "    \n",
    "- Of the three continuous variables, it appears none are normally distributeed but rather there are muliple peaks suggesting groupings.\n",
    "- None of the aforementioned groupings seemed to be related to either of the three other varibable"
   ]
  },
  {
   "cell_type": "code",
   "execution_count": null,
   "metadata": {},
   "outputs": [],
   "source": []
  },
  {
   "cell_type": "markdown",
   "metadata": {},
   "source": [
    "### 1.4 Data Modeling\n",
    "\n",
    "#### 1.4.1 *To-Do*\n",
    "\n",
    "- [ ] "
   ]
  },
  {
   "cell_type": "markdown",
   "metadata": {},
   "source": [
    "   ### 1.5 Evaluate Results"
   ]
  },
  {
   "cell_type": "markdown",
   "metadata": {},
   "source": [
    "   ### 1.6 Deploy"
   ]
  },
  {
   "cell_type": "markdown",
   "metadata": {},
   "source": []
  },
  {
   "cell_type": "code",
   "execution_count": null,
   "metadata": {},
   "outputs": [],
   "source": []
  }
 ],
 "metadata": {
  "kernelspec": {
   "display_name": "Python 3",
   "language": "python",
   "name": "python3"
  },
  "language_info": {
   "codemirror_mode": {
    "name": "ipython",
    "version": 3
   },
   "file_extension": ".py",
   "mimetype": "text/x-python",
   "name": "python",
   "nbconvert_exporter": "python",
   "pygments_lexer": "ipython3",
   "version": "3.7.0"
  }
 },
 "nbformat": 4,
 "nbformat_minor": 4
}
