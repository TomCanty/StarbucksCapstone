{
 "cells": [
  {
   "cell_type": "markdown",
   "metadata": {
    "Collapsed": "false"
   },
   "source": [
    "# Starbucks Capstone Challenge"
   ]
  },
  {
   "cell_type": "markdown",
   "metadata": {
    "Collapsed": "false"
   },
   "source": [
    "- <a id='TOC'>Table of Contents</a>\n",
    "    - <a href='#Intro'>Introduction </a>\n",
    "        - <a href='#Dataset'>Datasets definition </a>\n",
    "        - <a href='#authornote'>Author Notes</a> \n",
    "    - <a href='#sec_0_0'>Section 0: Import Librarys and Data </a>\n",
    "    - <a href='#sec_1_0'>Section 1: Clean and Organizae Data </a>\n",
    "        - <a href='#sec_1_1'>Section 1.1: Match Transcript </a>\n",
    "    - <a href='#sec_2_0'>Section 2: Explore Data </a>\n",
    "        - <a href='#sec_2_1'>Section 2.1: Genreal Exploration </a>\n",
    "        - <a href='#sec_2_2'>Section 2.2: Demographic Histographical Analysis </a>\n",
    "        - <a href='#sec_2_3'>Section 2.3: Exploration of Offer Factors Variables </a>\n",
    "        - <a href='#sec_2_4'>Section 2.3: Exploration of Response Variables </a>\n",
    "    - <a href='#sec_4_0'>Section 4: Analysis </a>\n",
    "        - <a href='#sec_4_1'>Section 4.1: PCA</a>\n",
    "        - <a href='#sec_4_2'>Section 4.2: K-Means</a>\n",
    "        - <a href='#sec_4_3'>Section 4.3: Compare population segments</a>\n",
    "\n",
    "\n",
    "\n",
    "- Graphs\n",
    "    - Section 2.2: \n",
    "        - <a href='#fig2_2a'>Fig 2.2a: Distribution of Income</br></a>\n",
    "        - <a href='#fig2_2b'>Fig 2.2b: Distribution of Income by Gender</a>\n",
    "        - <a href='#fig2_2c'>Fig 2.2c: Age Distribution by Gender</a>\n",
    "        - <a href='#fig2_2d'>Fig 2.2d: Membership Length by Gender</a>\n",
    "        - <a href='#fig2_2e'>Fig 2.2e: Jointplot: age by income</a>\n",
    "        - <a href='#fig2_2f'>Fig 2.2f: Jointplot: Membership Length by Income</a>\n",
    "        - <a href='#fig2_2g'>Fig 2.2g: Jointplot: age by Membership Length</a>\n",
    "    - Section 2.3: \n",
    "        - <a href='#fig2_3a'>Fig 2.3a: Proportion of offers rcvd by individuals</a>\n",
    "        - <a href='#fig2_3b'>Fig 2.3b: Offer Difficulty Distribution</a>\n",
    "    - Section 2.4\n",
    "        - <a href='#fig2_4a'>Fig 2.4a: Coorelation Heatmap</a>\n",
    "        - <a href='#fig2_4b'>Fig 2.4b: Distibution of Actions Completed by Age</a>\n",
    "        - <a href='#fig2_4c'>Fig 2.4c: Distibution of Actions Completed by Income</a>\n",
    "        - <a href='#fig2_4d'>Fig 2.4d: Actions Completed by Gender </a>\n",
    "        - <a href='#fig2_4e'>Fig 2.4e: Distribution of number of offers per person</a>\n",
    "        - <a href='#fig2_4f'>Fig 2.4f: Distribution of Time of Response to Offers </a>\n",
    "        - <a href='#fig2_4g'>Fig 2.4g: Distribution of Time of Response to Offers (by gender)</a>\n",
    "    - Section 4.3\n",
    "        - <a href='#fig4_3a'>Fig 4.3a</a>\n",
    "        - <a href='#fig4_3b'>Fig 4.3b</a>\n",
    "        - <a href='#fig4_3c'>Fig 4.3c</a>\n",
    "    \n",
    "    "
   ]
  },
  {
   "cell_type": "markdown",
   "metadata": {
    "Collapsed": "false"
   },
   "source": [
    "<a id='Intro'></a>\n",
    "## Introduction  \n",
    "<a href='#TOC'>Jump to top </a>\n",
    "\n",
    "This data set contains simulated data that mimics customer behavior on the Starbucks rewards mobile app. Once every few days, Starbucks sends out an offer to users of the mobile app. An offer can be merely an advertisement for a drink or an actual offer such as a discount or BOGO (buy one get one free). Some users might not receive any offer during certain weeks. \n",
    "\n",
    "Not all users receive the same offer, and that is the challenge to solve with this data set.\n",
    "\n",
    "**Your task is to combine transaction, demographic and offer data to determine which demographic groups respond best to which offer type** This data set is a simplified version of the real Starbucks app because the underlying simulator only has one product whereas Starbucks actually sells dozens of products.\n",
    "\n",
    "Every offer has a validity period before the offer expires. As an example, a BOGO offer might be valid for only 5 days. You'll see in the data set that informational offers have a validity period even though these ads are merely providing information about a product; for example, if an informational offer has 7 days of validity, you can assume the customer is feeling the influence of the offer for 7 days after receiving the advertisement.\n",
    "\n",
    "You'll be given transactional data showing user purchases made on the app including the timestamp of purchase and the amount of money spent on a purchase. This transactional data also has a record for each offer that a user receives as well as a record for when a user actually views the offer. There are also records for when a user completes an offer. \n",
    "\n",
    "Keep in mind as well that someone using the app might make a purchase through the app without having received an offer or seen an offer.\n",
    "\n",
    "### Example\n",
    "\n",
    "To give an example, a user could receive a discount offer buy 10 dollars get 2 off on Monday. The offer is valid for 10 days from receipt. If the customer accumulates at least 10 dollars in purchases during the validity period, the customer completes the offer.\n",
    "\n",
    "However, there are a few things to watch out for in this data set. Customers do not opt into the offers that they receive; in other words, a user can receive an offer, never actually view the offer, and still complete the offer. For example, a user might receive the \"buy 10 dollars get 2 dollars off offer\", but the user never opens the offer during the 10 day validity period. The customer spends 15 dollars during those ten days. There will be an offer completion record in the data set; however, the customer was not influenced by the offer because the customer never viewed the offer.\n",
    "\n",
    "### Cleaning\n",
    "\n",
    "This makes data cleaning especially important and tricky.\n",
    "\n",
    "You'll also want to take into account that some demographic groups will make purchases even if they don't receive an offer. From a business perspective, if a customer is going to make a 10 dollar purchase without an offer anyway, you wouldn't want to send a buy 10 dollars get 2 dollars off offer. You'll want to try to assess what a certain demographic group will buy when not receiving any offers.\n",
    "\n",
    "### Final Advice\n",
    "\n",
    "Because this is a capstone project, you are free to analyze the data any way you see fit. For example, you could build a machine learning model that predicts how much someone will spend based on demographics and offer type. Or you could build a model that predicts whether or not someone will respond to an offer. Or, you don't need to build a machine learning model at all. You could develop a set of heuristics that determine what offer you should send to each customer (i.e., 75 percent of women customers who were 35 years old responded to offer A vs 40 percent from the same demographic to offer B, so send offer A)."
   ]
  },
  {
   "cell_type": "markdown",
   "metadata": {
    "Collapsed": "false"
   },
   "source": [
    "<a id='Dataset'></a>\n",
    "\n",
    "### Data Sets\n",
    "<a href='#TOC'>Jump to top </a>\n",
    "\n",
    "The data is contained in three files:\n",
    "\n",
    "* portfolio.json - containing offer ids and meta data about each offer (duration, type, etc.)\n",
    "* profile.json - demographic data for each customer\n",
    "* transcript.json - records for transactions, offers received, offers viewed, and offers completed\n",
    "\n",
    "Here is the schema and explanation of each variable in the files:\n",
    "\n",
    "**portfolio.json**\n",
    "* id (string) - offer id\n",
    "* offer_type (string) - type of offer ie BOGO, discount, informational\n",
    "* difficulty (int) - minimum required spend to complete an offer\n",
    "* reward (int) - reward given for completing an offer\n",
    "* duration (int) - time for offer to be open, in days\n",
    "* channels (list of strings)\n",
    "\n",
    "**profile.json**\n",
    "* age (int) - age of the customer \n",
    "* became_member_on (int) - date when customer created an app account\n",
    "* gender (str) - gender of the customer (note some entries contain 'O' for other rather than M or F)\n",
    "* id (str) - customer id\n",
    "* income (float) - customer's income\n",
    "\n",
    "**transcript.json**\n",
    "* event (str) - record description (ie transaction, offer received, offer viewed, etc.)\n",
    "* person (str) - customer id\n",
    "* time (int) - time in hours since start of test. The data begins at time t=0\n",
    "* value - (dict of strings) - either an offer id or transaction amount depending on the record\n"
   ]
  },
  {
   "cell_type": "markdown",
   "metadata": {
    "Collapsed": "false"
   },
   "source": [
    "<a id='authornote'></a>\n",
    "### Author Notes"
   ]
  },
  {
   "cell_type": "markdown",
   "metadata": {
    "Collapsed": "false"
   },
   "source": [
    "Expanded notes on thought process are contained in <a href='Notes.ipynb'>Notes.ipynb Jupyter notebook</a> which is stored in the same directory"
   ]
  },
  {
   "cell_type": "markdown",
   "metadata": {
    "Collapsed": "false"
   },
   "source": [
    "<a id='sec_0_0'></a>\n",
    "## 0. Import Librarys and Data\n",
    "<a href='#TOC'>Jump to top </a>"
   ]
  },
  {
   "cell_type": "code",
   "execution_count": 1,
   "metadata": {},
   "outputs": [],
   "source": [
    "import pandas as pd\n",
    "import numpy as np\n",
    "import math\n",
    "from tqdm import tqdm\n",
    "tqdm.pandas()\n",
    "import json\n",
    "import graphviz\n",
    "import importlib\n",
    "from sklearn.preprocessing import MultiLabelBinarizer\n",
    "from sklearn.preprocessing import MinMaxScaler\n",
    "from sklearn.preprocessing import StandardScaler\n",
    "from sklearn.utils import shuffle\n",
    "from sklearn.naive_bayes import GaussianNB\n",
    "from sklearn.ensemble import RandomForestClassifier\n",
    "from sklearn.linear_model import LogisticRegression\n",
    "from sklearn.cluster import KMeans\n",
    "from sklearn.metrics import silhouette_score\n",
    "\n",
    "from sklearn.svm import LinearSVC\n",
    "from sklearn.metrics.classification import confusion_matrix\n",
    "from sklearn.decomposition import PCA\n",
    "from sklearn.metrics import fbeta_score,accuracy_score,precision_score\n",
    "import sklearn.metrics as met\n",
    "from sklearn.model_selection import train_test_split\n",
    "from sklearn.model_selection import GridSearchCV\n",
    "from scipy import stats\n",
    "import matplotlib.pyplot as plt\n",
    "import seaborn as sns\n",
    "from statsmodels.stats.proportion import proportions_ztest\n",
    "import time\n",
    "import pickle\n",
    "from joblib import dump, load\n",
    "from sklearn.tree import export_graphviz\n",
    "from subprocess import call\n",
    "from graphviz import render\n",
    "from sklearn import tree\n",
    "import os\n",
    "import graphviz\n",
    "import visuals_new as vs  # Not written by author: Provied as part of CharityML project\n",
    "from sklearn.decomposition import PCA\n",
    "%matplotlib inline\n"
   ]
  },
  {
   "cell_type": "markdown",
   "metadata": {},
   "source": []
  },
  {
   "cell_type": "code",
   "execution_count": 2,
   "metadata": {
    "Collapsed": "false"
   },
   "outputs": [],
   "source": [
    "# read in the json files\n",
    "portfolio = pd.read_json('data/portfolio.json', orient='records', lines=True)\n",
    "profile = pd.read_json('data/profile.json', orient='records', lines=True)\n",
    "transcript = pd.read_json('data/transcript.json', orient='records', lines=True)"
   ]
  },
  {
   "cell_type": "markdown",
   "metadata": {
    "Collapsed": "false"
   },
   "source": [
    "<a id='sec_1_0'></a>\n",
    "## 1. Clean and Organize Data\n",
    "\n",
    "<a href='#TOC'>Jump to top </a>"
   ]
  },
  {
   "cell_type": "code",
   "execution_count": 3,
   "metadata": {
    "Collapsed": "false"
   },
   "outputs": [
    {
     "data": {
      "text/plain": [
       "True"
      ]
     },
     "execution_count": 3,
     "metadata": {},
     "output_type": "execute_result"
    }
   ],
   "source": [
    "## Are all the missing gender and income on matching rows?\n",
    "(17000-14825)==profile[(profile.gender.isna())&(profile.income.isna())].shape[0]"
   ]
  },
  {
   "cell_type": "code",
   "execution_count": null,
   "metadata": {
    "Collapsed": "false"
   },
   "outputs": [],
   "source": [
    "def organize_raw_data(portfolio=portfolio,profile=profile,transcript=transcript):\n",
    "    ''' This function organizes the raw data via setting datatype, setting indexes, and onehotencoding\n",
    "    input: Startbuck challenge raw dataframes: portfolio,profile, and transcrips\n",
    "    \n",
    "    output: (7 dataframes, 3 revised originals and 4 which are filtered versions of transcript)\n",
    "    portfolio_new: portfolio (one hot encoded channels, some column renames)\n",
    "    profile_new: cleaned profile (member start date to datetime, one hot encoded gender)\n",
    "    transcript_new: cleaned transcript \n",
    "        (value dict-> one hot encoded event type, \n",
    "        amount(spend), reward(completion), offer_id(offers,view/complte))\n",
    "    t_offer: transcript_new filtered:offers only\n",
    "    t_viewed: transcript_new filtered:viewed only\n",
    "    t_trans: transcript_new filtered:transactions only\n",
    "    t_compl: transcript_new filtered:complteted offers only\n",
    "    \n",
    "    '''\n",
    "    \n",
    "    \n",
    "    ############### Portfolio\n",
    "    portfolio.rename(columns={'id':'offer_id'},inplace=True) # match other table\n",
    "    \n",
    "    # one hot encode channels\n",
    "    mlb = MultiLabelBinarizer() \n",
    "    portfolio = portfolio.join(pd.DataFrame(mlb.fit_transform(portfolio.pop('channels')),\n",
    "                          columns=mlb.classes_,\n",
    "                          index=portfolio.index))\n",
    "    portfolio = portfolio.merge(pd.get_dummies(portfolio['offer_type'],prefix='offer',prefix_sep='_'),left_index=True,right_index=True)\n",
    "    #portfolio.drop(columns='offer_type',inplace=True)\n",
    "    # Since offer_id is unique, we can use that as an index\n",
    "    portfolio.set_index('offer_id')\n",
    "    \n",
    "    ############### Profile\n",
    "    #Split/Drop N/A  - approx 13% of profile data was missing gender and income, the rows missing gender also are missing income.\n",
    "    #  Will look to see if there are any differences later on\n",
    "    profile_na = profile[profile.gender.isna()]\n",
    "    #profile = profile.dropna(axis = 0)  - Will be doing this later so the profile N/A lines will be processed\n",
    "    \n",
    "    #Convert to datetime\n",
    "    profile.loc[:,'became_member_on']=pd.to_datetime(profile['became_member_on'],format='%Y%m%d')\n",
    "    \n",
    "    #one hot encode gender\n",
    "    profile = profile.merge(pd.get_dummies(profile['gender'],prefix='gender',prefix_sep='_'),left_index=True,right_index=True)\n",
    "    \n",
    "    #provides a relative length of membership based on the latest membership join.\n",
    "    profile['memb_leng'] = (profile.became_member_on.max()-profile.became_member_on).dt.days.astype(float)/(365.25/12)\n",
    "    \n",
    "    # Since id is unique, we can use that as an index\n",
    "    profile.set_index('id',inplace=True)\n",
    "    \n",
    "    ################# Transcript\n",
    "    \n",
    "    # expand dict in 'value' to its own columns per dict key\n",
    "    transcript = transcript.merge(transcript.value.apply(pd.Series),left_index=True,right_index=True)\n",
    "    \n",
    "    # cleaning up 'offer_id' and 'offer id', so as there is a single column\n",
    "    transcript.loc[transcript['offer_id'].isna(),'offer_id'] = transcript[transcript['offer_id'].isna()]['offer id']\n",
    "    \n",
    "    #one hot encode event (transaction type)\n",
    "    transcript = transcript.merge(pd.get_dummies(transcript['event'],prefix='event',prefix_sep='_'),left_index=True, right_index=True)\n",
    "    transcript.drop(columns = ['offer id','value'],inplace=True)\n",
    "    \n",
    "    transcript = transcript[transcript['person'].isin(profile.index)].reset_index()\n",
    "    \n",
    "    #break apart into sub-df based on transaction tyle\n",
    "    t_offer = transcript[transcript['event']=='offer received']\n",
    "    t_viewed = transcript[transcript['event']=='offer viewed']\n",
    "    t_trans = transcript[transcript['event']=='transaction']\n",
    "    t_compl = transcript[transcript['event']=='offer completed']\n",
    "    \n",
    "    return portfolio,profile,profile_na,transcript,t_offer,t_viewed,t_trans,t_compl"
   ]
  },
  {
   "cell_type": "code",
   "execution_count": null,
   "metadata": {
    "Collapsed": "false"
   },
   "outputs": [],
   "source": [
    "portfolio_new,profile_new,profile_na,transcript_new,t_offer,t_viewed,t_trans,t_compl = organize_raw_data()"
   ]
  },
  {
   "cell_type": "markdown",
   "metadata": {
    "Collapsed": "false"
   },
   "source": [
    "<a href='#pick_load'>Jump to the latest pickle load checkpoint</a>"
   ]
  },
  {
   "cell_type": "code",
   "execution_count": 230,
   "metadata": {
    "Collapsed": "false"
   },
   "outputs": [
    {
     "data": {
      "text/html": [
       "<div>\n",
       "<style scoped>\n",
       "    .dataframe tbody tr th:only-of-type {\n",
       "        vertical-align: middle;\n",
       "    }\n",
       "\n",
       "    .dataframe tbody tr th {\n",
       "        vertical-align: top;\n",
       "    }\n",
       "\n",
       "    .dataframe thead th {\n",
       "        text-align: right;\n",
       "    }\n",
       "</style>\n",
       "<table border=\"1\" class=\"dataframe\">\n",
       "  <thead>\n",
       "    <tr style=\"text-align: right;\">\n",
       "      <th></th>\n",
       "      <th>index</th>\n",
       "      <th>event</th>\n",
       "      <th>person</th>\n",
       "      <th>time</th>\n",
       "      <th>amount</th>\n",
       "      <th>offer_id</th>\n",
       "      <th>reward</th>\n",
       "      <th>event_offer completed</th>\n",
       "      <th>event_offer received</th>\n",
       "      <th>event_offer viewed</th>\n",
       "      <th>event_transaction</th>\n",
       "    </tr>\n",
       "  </thead>\n",
       "  <tbody>\n",
       "    <tr>\n",
       "      <th>12654</th>\n",
       "      <td>12654</td>\n",
       "      <td>transaction</td>\n",
       "      <td>02c083884c7d45b39cc68e1314fec56c</td>\n",
       "      <td>0</td>\n",
       "      <td>0.83</td>\n",
       "      <td>NaN</td>\n",
       "      <td>NaN</td>\n",
       "      <td>0</td>\n",
       "      <td>0</td>\n",
       "      <td>0</td>\n",
       "      <td>1</td>\n",
       "    </tr>\n",
       "    <tr>\n",
       "      <th>12657</th>\n",
       "      <td>12657</td>\n",
       "      <td>transaction</td>\n",
       "      <td>9fa9ae8f57894cc9a3b8a9bbe0fc1b2f</td>\n",
       "      <td>0</td>\n",
       "      <td>34.56</td>\n",
       "      <td>NaN</td>\n",
       "      <td>NaN</td>\n",
       "      <td>0</td>\n",
       "      <td>0</td>\n",
       "      <td>0</td>\n",
       "      <td>1</td>\n",
       "    </tr>\n",
       "    <tr>\n",
       "      <th>12659</th>\n",
       "      <td>12659</td>\n",
       "      <td>transaction</td>\n",
       "      <td>54890f68699049c2a04d415abc25e717</td>\n",
       "      <td>0</td>\n",
       "      <td>13.23</td>\n",
       "      <td>NaN</td>\n",
       "      <td>NaN</td>\n",
       "      <td>0</td>\n",
       "      <td>0</td>\n",
       "      <td>0</td>\n",
       "      <td>1</td>\n",
       "    </tr>\n",
       "    <tr>\n",
       "      <th>12670</th>\n",
       "      <td>12670</td>\n",
       "      <td>transaction</td>\n",
       "      <td>b2f1cd155b864803ad8334cdf13c4bd2</td>\n",
       "      <td>0</td>\n",
       "      <td>19.51</td>\n",
       "      <td>NaN</td>\n",
       "      <td>NaN</td>\n",
       "      <td>0</td>\n",
       "      <td>0</td>\n",
       "      <td>0</td>\n",
       "      <td>1</td>\n",
       "    </tr>\n",
       "    <tr>\n",
       "      <th>12671</th>\n",
       "      <td>12671</td>\n",
       "      <td>transaction</td>\n",
       "      <td>fe97aa22dd3e48c8b143116a8403dd52</td>\n",
       "      <td>0</td>\n",
       "      <td>18.97</td>\n",
       "      <td>NaN</td>\n",
       "      <td>NaN</td>\n",
       "      <td>0</td>\n",
       "      <td>0</td>\n",
       "      <td>0</td>\n",
       "      <td>1</td>\n",
       "    </tr>\n",
       "  </tbody>\n",
       "</table>\n",
       "</div>"
      ],
      "text/plain": [
       "       index        event                            person  time  amount  \\\n",
       "12654  12654  transaction  02c083884c7d45b39cc68e1314fec56c     0    0.83   \n",
       "12657  12657  transaction  9fa9ae8f57894cc9a3b8a9bbe0fc1b2f     0   34.56   \n",
       "12659  12659  transaction  54890f68699049c2a04d415abc25e717     0   13.23   \n",
       "12670  12670  transaction  b2f1cd155b864803ad8334cdf13c4bd2     0   19.51   \n",
       "12671  12671  transaction  fe97aa22dd3e48c8b143116a8403dd52     0   18.97   \n",
       "\n",
       "      offer_id  reward  event_offer completed  event_offer received  \\\n",
       "12654      NaN     NaN                      0                     0   \n",
       "12657      NaN     NaN                      0                     0   \n",
       "12659      NaN     NaN                      0                     0   \n",
       "12670      NaN     NaN                      0                     0   \n",
       "12671      NaN     NaN                      0                     0   \n",
       "\n",
       "       event_offer viewed  event_transaction  \n",
       "12654                   0                  1  \n",
       "12657                   0                  1  \n",
       "12659                   0                  1  \n",
       "12670                   0                  1  \n",
       "12671                   0                  1  "
      ]
     },
     "execution_count": 230,
     "metadata": {},
     "output_type": "execute_result"
    }
   ],
   "source": [
    "transcript_new[transcript_new['event']=='transaction'].head()"
   ]
  },
  {
   "cell_type": "code",
   "execution_count": 231,
   "metadata": {
    "Collapsed": "false"
   },
   "outputs": [
    {
     "name": "stdout",
     "output_type": "stream",
     "text": [
      "portfolio: (10, 5)\n",
      "portfolio_new (10, 12)\n",
      "profile (17000, 5)\n",
      "profile_new (17000, 8)\n",
      "transcript (306534, 4)\n",
      "transcript_new (306534, 11)\n",
      "t_offer (76277, 11)\n",
      "t_viewed (57725, 11)\n",
      "t_compl (33579, 11)\n",
      "t_trans (138953, 11)\n"
     ]
    }
   ],
   "source": [
    "print('portfolio:', portfolio.shape)\n",
    "print('portfolio_new',portfolio_new.shape)\n",
    "print('profile',profile.shape)\n",
    "print('profile_new', profile_new.shape)\n",
    "print('transcript',transcript.shape)\n",
    "print('transcript_new',transcript_new.shape)\n",
    "print('t_offer',t_offer.shape)\n",
    "print('t_viewed',t_viewed.shape)\n",
    "print('t_compl',t_compl.shape)\n",
    "print('t_trans',t_trans.shape)\n"
   ]
  },
  {
   "cell_type": "code",
   "execution_count": 273,
   "metadata": {},
   "outputs": [
    {
     "name": "stdout",
     "output_type": "stream",
     "text": [
      "65404.9915682968 61194.60160301744 71306.41213901126 63287.735849056604\n"
     ]
    }
   ],
   "source": [
    "print(profile.income.mean(),\n",
    "profile[profile.gender=='M'].income.mean(),\n",
    "profile[profile.gender=='F'].income.mean(),\n",
    "profile[profile.gender=='O'].income.mean())"
   ]
  },
  {
   "cell_type": "markdown",
   "metadata": {
    "Collapsed": "false"
   },
   "source": [
    "<a id='sec_1_1'></a>\n",
    "### 1.1 Matching Events\n",
    "<a href='#TOC'>Jump to top </a>\n",
    "\n",
    "The purpose of this section is to match pertinent events to thier respective offer.  So you have one row representing a series of events.\n",
    "- All counted views are performed within the time window: time (of offer) + duration of offer\n",
    "- All counted transactions are performed within the time window and after they view the offer.\n",
    "- All rewards occur within time wintow"
   ]
  },
  {
   "cell_type": "code",
   "execution_count": null,
   "metadata": {
    "Collapsed": "false"
   },
   "outputs": [],
   "source": [
    "###Lookup the duration of each offer and convert to hours to match offer time data.\n",
    "###and create a time end\n",
    "\n",
    "t_matched = pd.merge(t_offer,portfolio[['offer_id','duration']],on=['offer_id'],how='left')\n",
    "t_matched['duration'] =t_matched['duration'].progress_apply(lambda x: x*24)\n",
    "t_matched['time_end'] = t_matched['time'] + t_matched['duration']\n",
    "\n",
    "\n",
    "###\n",
    "### Merge view transcripts!\n",
    "###\n",
    "\n",
    "def id_viewed(row):\n",
    "    ''' matches up offers and views by same person and offer within time limit.   \n",
    "    Marks offer/person/time as viewed and notes the time of the view.\n",
    "    \n",
    "    input: df row per pd.apply()\n",
    "    output: updated df row \n",
    "    '''\n",
    "    for idx,trn in t_viewed[(t_viewed.person == row.person)&(t_viewed.offer_id == row.offer_id)].sort_values(by='time').iterrows():\n",
    "        if (trn.time >= row.time) & (trn.time < row.time_end ):\n",
    "            row['event_offer viewed'] = 1\n",
    "            row['time_viewed'] = trn['time']\n",
    "            return row\n",
    "    return row\n",
    "\n",
    "t_matched = t_matched.progress_apply(id_viewed,axis=1)\n",
    "\n",
    "###\n",
    "### merge transaction transcript!\n",
    "###\n",
    "\n",
    "t_matched['trans_time'] = np.nan\n",
    "#t_matched['trans_index'] = np.nan  # Vestigal\n",
    "t_matched['trans_spend'] = np.nan\n",
    "\n",
    "\n",
    "def scrub_trans(row):\n",
    "    '''\n",
    "    Matches transactions to offer based on the following conditions\n",
    "    - person matches\n",
    "    - transaction was made after offer was made\n",
    "    - transaction was viewed\n",
    "    - transaction was made after the offer was viewed\n",
    "    - transaction was made before offer expired.\n",
    "    '''\n",
    "    #print(row['person'])\n",
    "    for idx,trn in t_trans[t_trans.person == row.person].sort_values(by='time').iterrows():\n",
    "        if (trn.time >= row.time) & (row['event_offer viewed']==1) &(trn.time < row.time_end ) & (trn.time >= row.time_viewed):\n",
    "            row['event_transaction'] = 1\n",
    "            row['trans_time'] = trn['time']\n",
    "            row['trans_spend'] = trn['amount']\n",
    "            return row\n",
    "    return row\n",
    " \n",
    "\n",
    "t_matched = t_matched.progress_apply(scrub_trans,axis=1)\n",
    "\n",
    "\n",
    "\n",
    "###\n",
    "### Merge completed transactions\n",
    "###\n",
    "\n",
    "t_matched['reward'] = np.nan\n",
    "\n",
    "def scrub_compl(row):\n",
    "    '''   \n",
    "    Runs through the t_offer dataframe and marks offer as complete under the following contionds\n",
    "    \n",
    "\n",
    "    marks the offer complete if\n",
    "    - person and offer match\n",
    "    - \n",
    "    \n",
    "    input: df row per pd.apply() function\n",
    "    '''\n",
    "    for idx,trn in t_compl[(t_compl.person == row.person)&(t_compl.offer_id == row.offer_id)].sort_values(by='time').iterrows():\n",
    "        if (trn.time >= row.time) & (trn.time < row.time_end ):\n",
    "            row['event_offer completed'] = 1\n",
    "            row['reward'] = trn.reward\n",
    "            \n",
    "            return row\n",
    "    return row\n",
    " \n",
    "\n",
    "t_matched = t_matched.progress_apply(scrub_compl,axis=1)"
   ]
  },
  {
   "cell_type": "code",
   "execution_count": null,
   "metadata": {
    "Collapsed": "false"
   },
   "outputs": [],
   "source": [
    "\n",
    "\n",
    "###\n",
    "### Save df to pickle\n",
    "###\n",
    "\n",
    "t_matched.to_pickle('combined_trans.pkl')"
   ]
  },
  {
   "cell_type": "code",
   "execution_count": null,
   "metadata": {
    "Collapsed": "false"
   },
   "outputs": [],
   "source": [
    "events = pd.read_pickle('combined_trans.pkl')"
   ]
  },
  {
   "cell_type": "markdown",
   "metadata": {
    "Collapsed": "false"
   },
   "source": [
    "**Combine profile and portfolio information to each line**"
   ]
  },
  {
   "cell_type": "code",
   "execution_count": null,
   "metadata": {
    "Collapsed": "false"
   },
   "outputs": [],
   "source": [
    "# Merge pertinant fields from profile\n",
    "prof_merge_col = ['age','income','gender','gender_F',\n",
    "       'gender_M', 'gender_O', 'memb_leng']\n",
    "\n",
    "events = events.merge(profile_new[prof_merge_col],how='left',left_on='person',right_on=profile_new.index)\n",
    "\n",
    "# Merge pertinant fields from portfolio\n",
    "\n",
    "port_merge_col = ['difficulty', 'offer_id', 'email', 'mobile',\n",
    "       'social', 'web', 'offer_bogo', 'offer_discount',\n",
    "       'offer_informational','reward']\n",
    "\n",
    "events = events.merge(portfolio_new[port_merge_col],on='offer_id')\n",
    "events.rename(columns={'reward_x':'reward_rcvd','reward_y':'reward_offd'},inplace=True)\n",
    "\n",
    "#Other\n",
    "events.drop(columns='amount',inplace=True)\n",
    "events.rename(columns={'event_offer completed':'event_offer_completed','event_offer received':'event_offer_received','event_offer viewed':'event_offer_viewed'},inplace=True)"
   ]
  },
  {
   "cell_type": "code",
   "execution_count": null,
   "metadata": {},
   "outputs": [],
   "source": [
    "events.info()"
   ]
  },
  {
   "cell_type": "markdown",
   "metadata": {
    "Collapsed": "false"
   },
   "source": [
    "**N/A Strategy**\n",
    "\n",
    "There are five columns with N/A in the data\n",
    "    - time_viewed\n",
    "    - trans_time\n",
    "    - trans_spend\n",
    "    - reward\n",
    "    - income\n",
    "    - gender\n",
    "    \n",
    "    1) time_viewed and trans_time are response variables (y) for those who completed those tasks.  I will remove these from the dataset for any predictive modeling\n",
    "    2) Income and gender are omitted on appox 13% of records.  Important  to note that the income and gender are all missing from the same lines. Will remove these later when pertinant\n",
    "    3) trans_spend and reward should be zero,because if there was no transaction there was no spend nor reward"
   ]
  },
  {
   "cell_type": "code",
   "execution_count": null,
   "metadata": {
    "Collapsed": "false"
   },
   "outputs": [],
   "source": [
    "##mod\n",
    "events.trans_spend.fillna(value=0,inplace=True)\n",
    "events.reward_rcvd.fillna(value=0,inplace=True)"
   ]
  },
  {
   "cell_type": "code",
   "execution_count": null,
   "metadata": {},
   "outputs": [],
   "source": []
  },
  {
   "cell_type": "code",
   "execution_count": null,
   "metadata": {
    "Collapsed": "false"
   },
   "outputs": [],
   "source": [
    "events.to_pickle('events_merged.pkl')"
   ]
  },
  {
   "cell_type": "markdown",
   "metadata": {
    "Collapsed": "false"
   },
   "source": [
    "<a id='pick_load'> Pickle Load</a>\n"
   ]
  },
  {
   "cell_type": "code",
   "execution_count": null,
   "metadata": {
    "Collapsed": "false"
   },
   "outputs": [],
   "source": [
    "events_merged = pd.read_pickle('events_merged.pkl')"
   ]
  },
  {
   "cell_type": "markdown",
   "metadata": {
    "Collapsed": "false"
   },
   "source": [
    "#identify how long member \n",
    "##mod\n",
    "\n",
    "profile_new['memb_leng'] = (profile_new.became_member_on.max()-profile_new.became_member_on).dt.days.astype(float)/(365.25/12)"
   ]
  },
  {
   "cell_type": "markdown",
   "metadata": {},
   "source": [
    "Preparing the Data per CharityML\n",
    "\n",
    "Transform Skewed features\n",
    "Normalizing Numerical Features\n",
    "shuffle and split data\n",
    "\n",
    "import 3 supervised learning models\n",
    "\n"
   ]
  },
  {
   "cell_type": "code",
   "execution_count": null,
   "metadata": {},
   "outputs": [],
   "source": [
    "def norm_and_std(df):\n",
    "    from sklearn.preprocessing import MinMaxScaler\n",
    "    from sklearn.preprocessing import StandardScaler\n",
    "    '''This will create a copy of the df with standardized and normalzied columns'''\n",
    "   \n",
    "    ## non-boolean columns\n",
    "    ''''', 'event', 'index', 'offer_id',\n",
    "       'person', 'reward', 'time', 'time_end', 'time_viewed', 'trans_time',\n",
    "       'trans_spend', 'age', 'income', 'gender', 'gender_F', 'gender_M',\n",
    "       'gender_O', 'memb_leng', 'difficulty', 'email', 'mobile', 'social',\n",
    "       'web', 'offer_bogo', 'offer_discount', 'offer_informational', 't_std',\n",
    "       'time_viewed', 'trans_time'\n",
    "    '''\n",
    "    '''\n",
    "    '''\n",
    "    ## Normalize ##########################\n",
    "    '''duration,reward,'time', 'time_end', 'time_viewed', 'trans_time',\n",
    "       'trans_spend',difficulty\n",
    "    '''\n",
    "    \n",
    "    ## Standardize\n",
    "    ''''age', 'income','memb_leng'\n",
    "    '''\n",
    "    ## Drop\n",
    "    '''event,index,offer_id,person,'gender' '''\n",
    "    ## Bool\n",
    "    '''\n",
    "    'gender_F', 'gender_M',\n",
    "       'gender_O,'email', 'mobile', 'social',\n",
    "       'web', 'offer_bogo', 'offer_discount', 'offer_informational', 't_std'\n",
    "       '''\n",
    "    \n",
    "    df2 = df.copy()\n",
    "    \n",
    "    ## Drop\n",
    "    drop_na_cols = ['age','income','gender']\n",
    "    df2.dropna(subset=drop_na_cols,inplace=True)\n",
    "    \n",
    "    drop_cols = ['event','index','offer_id','person','gender']\n",
    "    df2.drop(drop_cols,inplace=True,axis=1)\n",
    "    \n",
    "    #Normalize time series data\n",
    "    #I am normalizing this to the timescale of the individual offer.\n",
    "    \n",
    "    df2.loc[:,'time_viewed'] = (df2.time_viewed - df2.time) / (df2.time_end - df2.time )\n",
    "    df2.loc[:,'trans_time'] = (df2.trans_time - df2.time) / (df2.time_end - df2.time )\n",
    "    df2.loc[:,'time'] = (df2.time)/df2.time.max()\n",
    "    \n",
    "    #Normalizing since relative magnitude is important for these.\n",
    "    mm_scaler = MinMaxScaler()\n",
    "    df2[['difficulty','reward_rcvd','reward_offd','duration']] = mm_scaler.fit_transform(df2[['difficulty','reward_rcvd','reward_offd','duration']])\n",
    "    \n",
    "    ## Standardize\n",
    "    s_scaler = StandardScaler()\n",
    "    std_cols = ['age', 'income','memb_leng']\n",
    "    df2[std_cols] = s_scaler.fit_transform(df2[std_cols])\n",
    "    \n",
    "  \n",
    "    \n",
    "    ## Standardize\n",
    "    # Columns: \n",
    "    # New Colun\n",
    "    return df2"
   ]
  },
  {
   "cell_type": "code",
   "execution_count": null,
   "metadata": {},
   "outputs": [],
   "source": [
    "events_merged_std = norm_and_std(events_merged)"
   ]
  },
  {
   "cell_type": "code",
   "execution_count": null,
   "metadata": {},
   "outputs": [],
   "source": [
    "events_merged_nona = events_merged.dropna(subset=['age','gender','income'])"
   ]
  },
  {
   "cell_type": "code",
   "execution_count": null,
   "metadata": {},
   "outputs": [],
   "source": [
    "events_merged_nona.to_pickle('events_merged_nona.pkl')"
   ]
  },
  {
   "cell_type": "code",
   "execution_count": null,
   "metadata": {},
   "outputs": [],
   "source": [
    "events_merged_nona = pd.read_pickle('events_merged_nona.pkl')"
   ]
  },
  {
   "cell_type": "markdown",
   "metadata": {
    "Collapsed": "false"
   },
   "source": [
    "<a id='pickleload'></a>"
   ]
  },
  {
   "cell_type": "markdown",
   "metadata": {
    "Collapsed": "false"
   },
   "source": [
    "<a id='sec_2_0'></a>\n",
    "## Section 2.0: Explore Data\n",
    "<a href='#TOC'>Jump to top</a>"
   ]
  },
  {
   "cell_type": "markdown",
   "metadata": {
    "Collapsed": "false"
   },
   "source": [
    "<a id='sec_2_1'></a>\n",
    "### Section 2.1: General Exploration\n",
    "<a href='#TOC'>Jump to top</a>"
   ]
  },
  {
   "cell_type": "code",
   "execution_count": null,
   "metadata": {
    "Collapsed": "false"
   },
   "outputs": [],
   "source": [
    "print(events_merged[['event_offer_received','event_offer_viewed','event_transaction','event_offer_completed']].sum())\n",
    "\n",
    "tot_offers = events_merged.event_offer_received.sum()\n",
    "tot_off_viewed = events_merged.event_offer_viewed.sum()\n",
    "tot_off_purchased = events_merged.event_transaction.sum()\n",
    "tot_off_rewarded = events_merged.event_offer_completed.sum()\n",
    "\n",
    "\n",
    "\n",
    "tot_sum_purch = events_merged.trans_spend.sum()\n",
    "#tot_sum_reward = events_merged.reward.sum()\n",
    "\n",
    "\n",
    "print('Percentage viewed : {0:.2f}%'.format(100* tot_off_viewed/tot_offers))\n",
    "print('Percentage offers purchased : {0:.2f}%'.format(100*tot_off_purchased/tot_offers))\n",
    "print('Percentage offers completed : {0:.2f}%'.format(100*tot_off_rewarded/tot_offers))\n",
    "print('Percentage offers viewed puchased : {0:.2f}%'.format(100*tot_off_purchased/tot_off_viewed))\n",
    "print('Percentage offers viewed rewarded : {0:.2f}%'.format(100*tot_off_rewarded/tot_off_viewed))\n",
    "print('Percentage of offers that were rewarded  : {0:.2f}%'.format(100*tot_off_rewarded/tot_off_purchased))\n",
    "print('Percentage of purchases that were rewarded  : {0:.2f}%'.format(100*tot_off_rewarded/tot_off_purchased))"
   ]
  },
  {
   "cell_type": "code",
   "execution_count": null,
   "metadata": {
    "Collapsed": "false"
   },
   "outputs": [],
   "source": []
  },
  {
   "cell_type": "code",
   "execution_count": null,
   "metadata": {
    "Collapsed": "false"
   },
   "outputs": [],
   "source": []
  },
  {
   "cell_type": "markdown",
   "metadata": {
    "Collapsed": "false"
   },
   "source": [
    "<a id='sec_2_2'></a>\n",
    "### Section 2.2: Demographic Histographical Analysis\n",
    "<a href='#TOC'>Jump to top</a>"
   ]
  },
  {
   "cell_type": "code",
   "execution_count": null,
   "metadata": {
    "Collapsed": "false"
   },
   "outputs": [],
   "source": [
    "# removing the N/A for demographic analysis"
   ]
  },
  {
   "cell_type": "code",
   "execution_count": null,
   "metadata": {},
   "outputs": [],
   "source": []
  },
  {
   "cell_type": "markdown",
   "metadata": {},
   "source": [
    "<a id='fig2_2a'>Fig2.2a</a>"
   ]
  },
  {
   "cell_type": "code",
   "execution_count": null,
   "metadata": {},
   "outputs": [],
   "source": [
    "ax2_2a1 = sns.distplot(events_merged.dropna(subset=['income']).income,bins=25)\n",
    "ax2_2a1.set_title('Fig 2.2a1: Distribution of Income')"
   ]
  },
  {
   "cell_type": "code",
   "execution_count": null,
   "metadata": {
    "Collapsed": "false"
   },
   "outputs": [],
   "source": [
    "ax2_2a1 = sns.distplot(events_merged_std.income,bins=25)\n",
    "ax2_2a1.set_title('Fig 2.2a2: Distribution of Income')"
   ]
  },
  {
   "cell_type": "code",
   "execution_count": null,
   "metadata": {
    "Collapsed": "false"
   },
   "outputs": [],
   "source": [
    "#it appears that there are some groupings in this distribution"
   ]
  },
  {
   "cell_type": "markdown",
   "metadata": {},
   "source": [
    "<a id='fig2_2b'>Fig2.2b</a>"
   ]
  },
  {
   "cell_type": "code",
   "execution_count": null,
   "metadata": {
    "Collapsed": "false"
   },
   "outputs": [],
   "source": [
    "fig_2_2b, (ax22b_0, ax22b_1, ax22b_2, ax22b_3) = plt.subplots(nrows=4, sharex=True,sharey=True, figsize=(8,12));\n",
    "plt.ylim([0,0.000035])\n",
    "fig_2_2b.subplots_adjust(hspace = 0)\n",
    "sns.distplot(events_merged_nona.income,bins=25,ax=ax22b_0)\n",
    "sns.distplot(events_merged_nona[events_merged_nona.gender_M == 1].income,bins=25,ax=ax22b_1)\n",
    "sns.distplot(events_merged_nona[events_merged_nona.gender_F == 1].income,bins=25,ax=ax22b_2)\n",
    "sns.distplot(events_merged_nona[events_merged_nona.gender_O == 1].income,bins=25,ax=ax22b_3)\n",
    "ax22b_0.set_title(\"Fig 2.2b_0: Income Distribution (All)\",y=.8)\n",
    "ax22b_1.set_title(\"Fig 2.2b_1: Income Distribution (Male)\",y=.8)\n",
    "ax22b_2.set_title(\"Fig 2.2b_2: Income Distribution (Female)\",y=.8)\n",
    "ax22b_3.set_title(\"Fig 2.2b_3: Income Distribution (Other)\",y=.8);\n"
   ]
  },
  {
   "cell_type": "markdown",
   "metadata": {
    "Collapsed": "false"
   },
   "source": [
    "There appears to be groupings within the income, that are not related to gender.  It apppears to be 3-5 subgroups.  There are possibly something implit here."
   ]
  },
  {
   "cell_type": "markdown",
   "metadata": {},
   "source": [
    "<a id='fig2_2c'>Age Distribution by Gender</a>"
   ]
  },
  {
   "cell_type": "code",
   "execution_count": null,
   "metadata": {
    "Collapsed": "false"
   },
   "outputs": [],
   "source": [
    "fig_2_2c, (ax22c_0, ax22c_1, ax22c_2, ax22c_3) = plt.subplots(nrows=4, sharey= True, sharex=True,figsize=(8,12))\n",
    "plt.ylim([0,0.045])\n",
    "fig_2_2c.subplots_adjust(hspace = 0)\n",
    "#sns.distplot(events_merged.age.dropna(),bins=25,ax=ax2_0)\n",
    "sns.distplot(events_merged_nona.age,bins=25,ax=ax22c_0)\n",
    "sns.distplot(events_merged_nona[events_merged_nona.gender_M == 1].age,bins=25,ax=ax22c_1)\n",
    "sns.distplot(events_merged_nona[events_merged_nona.gender_F == 1].age,bins=25,ax=ax22c_2)\n",
    "sns.distplot(events_merged_nona[events_merged_nona.gender_O == 1].age,bins=25,ax=ax22c_3)\n",
    "ax22c_0.set_title(\"Fig 2.2c_0: Age Distribution (All)\",y=.8)\n",
    "ax22c_1.set_title(\"Fig 2.2c_1: Age Distribution (Male)\",y=.8)\n",
    "ax22c_2.set_title(\"Fig 2.2c_2: Age Distribution (Female)\",y=.8)\n",
    "ax22c_3.set_title(\"Fig 2.2c_3: Age Distribution (Other)\",y=.8);"
   ]
  },
  {
   "cell_type": "markdown",
   "metadata": {
    "Collapsed": "false"
   },
   "source": [
    "There does appear to be two groupings here within the data"
   ]
  },
  {
   "cell_type": "markdown",
   "metadata": {},
   "source": [
    "<a id='fig2_2d'>Membership Length by Gender</a>"
   ]
  },
  {
   "cell_type": "code",
   "execution_count": null,
   "metadata": {
    "Collapsed": "false"
   },
   "outputs": [],
   "source": [
    "fig_2_2d, (ax22d_0,ax22d_1, ax22d_2, ax22d_3) = plt.subplots(nrows=4, sharex=True,sharey=True, figsize=(8,12))\n",
    "fig_2_2d.subplots_adjust(hspace = 0)\n",
    "sns.distplot(events_merged_nona.memb_leng,bins=25,ax=ax22d_0)\n",
    "sns.distplot(events_merged_nona[events_merged_nona.gender_M == 1].memb_leng,bins=25,ax=ax22d_1)\n",
    "sns.distplot(events_merged_nona[events_merged_nona.gender_F == 1].memb_leng,bins=25,ax=ax22d_2)\n",
    "sns.distplot(events_merged_nona[events_merged_nona.gender_O == 1].memb_leng,bins=25,ax=ax22d_3)\n",
    "ax22d_0.set_title(\"Fig 2.2 d_0: Membership Length Distribution (All)\",y=.8)\n",
    "ax22d_1.set_title(\"Fig 2.2 d_1: Membership Length Distribution (Male)\",y=.8)\n",
    "ax22d_2.set_title(\"Fig 2.2 d_2: Membership Length Distribution (Female)\",y=.8)\n",
    "ax22d_3.set_title(\"Fig 2.2 d_3: Membership Length Distribution (Other)\",y=.8)"
   ]
  },
  {
   "cell_type": "markdown",
   "metadata": {
    "Collapsed": "false"
   },
   "source": [
    "There appears to be 3 distinct groups of members based on membership length\n",
    "* members joining between ~38-58months\n",
    "* members joining between ~12-38 months\n",
    "* members joining in last 12 months \n",
    "\n"
   ]
  },
  {
   "cell_type": "markdown",
   "metadata": {},
   "source": [
    "<a id='fig2_2e'>Fig 2.2e: Jointplot: age by income</a>"
   ]
  },
  {
   "cell_type": "code",
   "execution_count": null,
   "metadata": {
    "Collapsed": "false"
   },
   "outputs": [],
   "source": [
    "fig_2_2e = sns.jointplot(x='income',y='age',data=profile_new.dropna(subset=['income','age']),kind=\"kde\")"
   ]
  },
  {
   "cell_type": "code",
   "execution_count": null,
   "metadata": {},
   "outputs": [],
   "source": []
  },
  {
   "cell_type": "markdown",
   "metadata": {
    "Collapsed": "false"
   },
   "source": [
    "Interesting here, the income distributions of younger folks is is limited to the lower end of the range and expandands as age increases.  Also age skews lower."
   ]
  },
  {
   "cell_type": "markdown",
   "metadata": {},
   "source": [
    "<a id='fig2_2f'>Fig 2.2f: Jointplot: Membership Length by Income</a>"
   ]
  },
  {
   "cell_type": "code",
   "execution_count": null,
   "metadata": {
    "Collapsed": "false"
   },
   "outputs": [],
   "source": [
    "fig_2_2f = sns.jointplot(x=profile_new.dropna(subset=['income','age']).income,y=profile_new.dropna(subset=['income','age']).memb_leng,kind=\"kde\")"
   ]
  },
  {
   "cell_type": "markdown",
   "metadata": {
    "Collapsed": "false"
   },
   "source": [
    "It appears that the early and mid adopters tend to be distributed roughly the same as the general population.  "
   ]
  },
  {
   "cell_type": "markdown",
   "metadata": {},
   "source": [
    "<a id='fig2_2g'>Fig 2.2g: Jointplot: age by Membership Length</a>"
   ]
  },
  {
   "cell_type": "code",
   "execution_count": null,
   "metadata": {
    "Collapsed": "false"
   },
   "outputs": [],
   "source": [
    "fig_2_2g = sns.jointplot(x='memb_leng',y='age',data=profile_new.dropna(subset=['income','age']),kind=\"kde\")"
   ]
  },
  {
   "cell_type": "markdown",
   "metadata": {
    "Collapsed": "false"
   },
   "source": [
    "<a id='sec_2_3'></a>\n",
    "## Section 2.3: Explore Offer Factors\n",
    "<a href='#TOC'>Jump to top</a>"
   ]
  },
  {
   "cell_type": "markdown",
   "metadata": {},
   "source": [
    "What do we want to know about the study factors?\n",
    "- Person\n",
    "    - [X] What is the distribution of offers\n",
    "- Offer_Id (there are 10 offer ids)\n",
    "    - [X] How many offers were made of each ID?\n",
    "    - [X] How many offers were made to each person, on average?\n",
    "- Difficulty\n",
    "    - [X] What was the representative range of difficulty?  avg offer vs avg person?\n",
    "- Distribution Method\n",
    "    - [X]  \n",
    "- Offer Type\n",
    "    - [ ] \n",
    "- Reward\n",
    "    "
   ]
  },
  {
   "cell_type": "code",
   "execution_count": null,
   "metadata": {},
   "outputs": [],
   "source": [
    "events_merged.pivot_table(values = 'event_offer_received', index='person',columns='offer_id',aggfunc='count',fill_value=0).sum(axis=0)"
   ]
  },
  {
   "cell_type": "code",
   "execution_count": null,
   "metadata": {},
   "outputs": [],
   "source": [
    "profile.shape[0]"
   ]
  },
  {
   "cell_type": "code",
   "execution_count": null,
   "metadata": {},
   "outputs": [],
   "source": [
    "events_merged.pivot_table(values = 'event_offer_received', index='person',columns='offer_id',aggfunc='count',fill_value=0).sum(axis=1).mean()"
   ]
  },
  {
   "cell_type": "markdown",
   "metadata": {},
   "source": [
    "<a id='fig2_3a'>Fig2.3a: Proportion of offers rcvd by individuals</a>"
   ]
  },
  {
   "cell_type": "code",
   "execution_count": null,
   "metadata": {},
   "outputs": [],
   "source": [
    "fig_2_3a = sns.distplot(events_merged.pivot_table(values = 'event_offer_received', index='person',columns='offer_id',aggfunc='count',fill_value=0).mean(axis=1))\n",
    "fig_2_3a.set_title(\"Fig 2.3a: Distribution of the proportion of offers an individual recieved\")"
   ]
  },
  {
   "cell_type": "code",
   "execution_count": null,
   "metadata": {},
   "outputs": [],
   "source": [
    "events_merged.pivot_table(values = 'event_offer_received', index='person',columns='offer_id',aggfunc='count',fill_value=0).mean(axis=1).mode()"
   ]
  },
  {
   "cell_type": "markdown",
   "metadata": {},
   "source": [
    "<a id='fig2_3b'>Fig2.3b: Offer Difficulty Distribution</a>"
   ]
  },
  {
   "cell_type": "code",
   "execution_count": null,
   "metadata": {},
   "outputs": [],
   "source": [
    "print(\"Average Offer Difficulty: \",portfolio_new.difficulty.mean())\n",
    "\n",
    "fig_2_3b = sns.distplot(events_merged.pivot_table(values = 'difficulty', index='person',columns='offer_id',aggfunc='mean').mean(axis=1))\n",
    "fig_2_3b.set_title(\"Fig 2.3b: Distribution of average (by person) offer difficulty\")"
   ]
  },
  {
   "cell_type": "code",
   "execution_count": null,
   "metadata": {},
   "outputs": [],
   "source": [
    "portfolio_new"
   ]
  },
  {
   "cell_type": "markdown",
   "metadata": {
    "Collapsed": "false"
   },
   "source": [
    "<a id='sec_2_4'></a>\n",
    "## Section 2.4: Explore Response Variable\n",
    "<a href='#TOC'>Jump to top</a>"
   ]
  },
  {
   "cell_type": "code",
   "execution_count": null,
   "metadata": {
    "Collapsed": "false"
   },
   "outputs": [],
   "source": [
    "print(events_merged[['event_offer_received','event_offer_viewed','event_transaction','event_offer_completed']].sum())\n",
    "\n",
    "tot_offers = events_merged.event_offer_received.sum()\n",
    "tot_off_viewed = events_merged.event_offer_viewed.sum()\n",
    "tot_off_purchased = events_merged.event_transaction.sum()\n",
    "tot_off_rewarded = events_merged.event_offer_completed.sum()\n",
    "\n",
    "\n",
    "\n",
    "tot_sum_purch = events_merged.trans_spend.sum()\n",
    "#tot_sum_reward = events_merged.reward.sum()\n",
    "\n",
    "\n",
    "print('Percentage viewed : {0:.2f}%'.format(100* tot_off_viewed/tot_offers))\n",
    "print('Percentage offers purchased : {0:.2f}%'.format(100*tot_off_purchased/tot_offers))\n",
    "print('Percentage offers viewed puchased : {0:.2f}%'.format(100*tot_off_purchased/tot_off_viewed))\n",
    "print('Percentage of offers that were rewarded  : {0:.2f}%'.format(100*tot_off_rewarded/tot_off_purchased))\n",
    "print('Percentage of purchases that were rewarded  : {0:.2f}%'.format(100*tot_off_rewarded/tot_off_purchased))"
   ]
  },
  {
   "cell_type": "markdown",
   "metadata": {
    "Collapsed": "false"
   },
   "source": []
  },
  {
   "cell_type": "markdown",
   "metadata": {
    "Collapsed": "false"
   },
   "source": [
    "First lets explore the main question in the simplist way possible?  Is there an overarching coorelation in purchasing to any demographic?"
   ]
  },
  {
   "cell_type": "code",
   "execution_count": null,
   "metadata": {
    "Collapsed": "false"
   },
   "outputs": [],
   "source": []
  },
  {
   "cell_type": "markdown",
   "metadata": {
    "Collapsed": "false"
   },
   "source": [
    "<a id='fig2_4a'>Fig2.4a: Feature Coorelation Heatmap</a>"
   ]
  },
  {
   "cell_type": "code",
   "execution_count": null,
   "metadata": {
    "Collapsed": "false"
   },
   "outputs": [],
   "source": [
    "fig_2_4a, ax_2_4a = plt.subplots(figsize=(12,12))\n",
    "sns.heatmap(events_merged_std[['age', 'income', 'gender_F', 'gender_M', 'gender_O','memb_leng', 'difficulty','reward_offd', 'mobile', 'social', 'web',\n",
    "       'offer_bogo', 'offer_discount', 'offer_informational',\n",
    "       'event_offer_viewed', 'event_transaction', 'event_offer_completed','time_viewed',\n",
    "       'trans_time']].corr(),annot=True,ax=ax_2_4a,cmap='Spectral',vmin=-0.4, vmax=0.4,fmt='.2f')\n",
    "ax_2_4a.set_title('Fig 2.4a: Coorelation Heatmap')"
   ]
  },
  {
   "cell_type": "markdown",
   "metadata": {
    "Collapsed": "false"
   },
   "source": [
    "There is a lot of information in this cooreation matrix.  I am focusing on which factors coorelate the most with event offer viewed, trans, and completion.\n",
    "\n",
    "    - Viewed\n",
    "        - Top Positive Coorelation\n",
    "            - Offer on social media (0.5)\n",
    "            - Offered on mobile platform (0.3)\n",
    "        - Top Negative Coorelations\n",
    "            - informational offer\n",
    "            - difficulty\n",
    "    - Transaction\n",
    "        - Top Positive Coorelation\n",
    "            - Offer on social media (0.37)\n",
    "            - Offered on mobile platform (0.2)\n",
    "        - Top Negative Coorelation\n",
    "            - Informational Offer (-0.20)\n",
    "    - Completion\n",
    "        - Top Positive Coorelations\n",
    "            - Difficulty (0.28)\n",
    "            - Offer discount (0.26)\n",
    "            - income (0.18)\n",
    "        - Top Negative Coorelations\n",
    "            - Offer_informational (-0.48) - This makes sense since informational offers didnt include rewards\n",
    "            - gender_M (-0.13)\n",
    "\n",
    "    "
   ]
  },
  {
   "cell_type": "markdown",
   "metadata": {
    "Collapsed": "false"
   },
   "source": [
    "<a id='fig2_4b'>Fig 2.4b: Actions Completed by Age </a>"
   ]
  },
  {
   "cell_type": "code",
   "execution_count": null,
   "metadata": {
    "Collapsed": "false"
   },
   "outputs": [],
   "source": [
    "\n",
    "fig_2_4b, ax_2_4b = plt.subplots(nrows=1, ncols=2,figsize=(8,4))\n",
    "sns.distplot(events_merged_nona[events_merged_nona.event_transaction==1].age,bins=25,ax=ax_2_4b[0])\n",
    "sns.distplot(events_merged_nona[events_merged_nona.event_transaction==0].age,bins=25,ax=ax_2_4b[0])\n",
    "sns.distplot(events_merged_nona[events_merged_nona.event_offer_completed==1].age,bins=25,ax=ax_2_4b[1])\n",
    "sns.distplot(events_merged_nona[events_merged_nona.event_offer_completed==0].age,bins=25,ax=ax_2_4b[1])\n",
    "ax_2_4b[0].set_title('Event Transaction')\n",
    "ax_2_4b[1].set_title('Event Completed')\n",
    "fig_2_4b.legend(labels=['Complete','Incomplete'])\n",
    "fig_2_4b.suptitle('Fig 2.4b: Actions Completed by age ')"
   ]
  },
  {
   "cell_type": "markdown",
   "metadata": {
    "Collapsed": "false"
   },
   "source": [
    "The curves are almost identical, there does not seem to be an effect on age in making a transaciton"
   ]
  },
  {
   "cell_type": "markdown",
   "metadata": {},
   "source": [
    "<a id='fig2_4c'>Fig 2.4c: Actions Completed by Income </a>"
   ]
  },
  {
   "cell_type": "code",
   "execution_count": null,
   "metadata": {
    "Collapsed": "false"
   },
   "outputs": [],
   "source": [
    "fig_2_4c , ax_2_24c = plt.subplots(nrows=1, ncols=2,figsize=(8,4))\n",
    "fig_2_4c.subplots_adjust(hspace = .2,wspace = .5)\n",
    "sns.distplot(events_merged[events_merged.event_transaction==1].income.dropna(),bins=25,ax=ax_2_24c[0])\n",
    "sns.distplot(events_merged[events_merged.event_transaction==0].income.dropna(),bins=25,ax=ax_2_24c[0])\n",
    "sns.distplot(events_merged[events_merged.event_offer_completed==1].income.dropna(),bins=25,ax=ax_2_24c[1])\n",
    "sns.distplot(events_merged[events_merged.event_offer_completed==0].income.dropna(),bins=25,ax=ax_2_24c[1])\n",
    "ax_2_24c[0].set_title('Event Transaction')\n",
    "ax_2_24c[1].set_title('Event Completed')\n",
    "fig_2_4c.legend(labels=['Complete','Incomplete'])\n",
    "fig_2_4c.suptitle('Fig 2.4c: Actions Completed by Income')"
   ]
  },
  {
   "cell_type": "markdown",
   "metadata": {
    "Collapsed": "false"
   },
   "source": [
    "**Note** The two populatons are virtually overlapped in the event transaction.  But in the event completed (read: complete = received reward incomplete=info only) there is a little offset in the income of those who completed, the difference is likley not significant, it might suggest that people with higher incomes are more likley to responsd to promotions with rewards in compared to this with lower incomes.   \n",
    "\n",
    "* I think I need some stats help on this one, I belive I would use a  Kolmogorov-Smirnov test, but I am not sure."
   ]
  },
  {
   "cell_type": "markdown",
   "metadata": {},
   "source": [
    "<a id='fig2_4d'>Fig 2.4d: Actions Completed by Gender </a>"
   ]
  },
  {
   "cell_type": "code",
   "execution_count": null,
   "metadata": {},
   "outputs": [],
   "source": [
    "fig_2_4d, ax_2_4d = plt.subplots(nrows=1,ncols=2,figsize=(8,4),sharey=True)\n",
    "sns.barplot(x=events_merged.gender,y=events_merged.event_transaction,ax=ax_2_4d[0])\n",
    "sns.barplot(x=events_merged.gender,y=events_merged.event_offer_completed,ax=ax_2_4d[1])\n",
    "ax_2_4d[0].set_title('Event Transaction')\n",
    "ax_2_4d[1].set_title('Event Completed')\n",
    "fig_2_4d.suptitle('Fig 2.4d: Actions Completed by Gender')"
   ]
  },
  {
   "cell_type": "markdown",
   "metadata": {
    "Collapsed": "false"
   },
   "source": [
    "Men and Women appear to transact after viewing and offer at the same rate, but men disproportionally do not respond to the reward offers.  What is the baseline purchase frequency?"
   ]
  },
  {
   "cell_type": "markdown",
   "metadata": {},
   "source": [
    "<a id='fig2_4e'>Fig 2.4e: Distribution of number of offers per person</a>"
   ]
  },
  {
   "cell_type": "code",
   "execution_count": null,
   "metadata": {
    "Collapsed": "false"
   },
   "outputs": [],
   "source": [
    "fig2_4e = sns.distplot(events_merged.groupby(by='person').count()['index'],bins=10)\n",
    "fig2_4e.set_title(\"Fig 2.4e: Frequency of the number of offers individuals recieve \")"
   ]
  },
  {
   "cell_type": "code",
   "execution_count": null,
   "metadata": {
    "Collapsed": "false"
   },
   "outputs": [],
   "source": []
  },
  {
   "cell_type": "markdown",
   "metadata": {
    "Collapsed": "false"
   },
   "source": [
    "What do we want to know about the study factors?\n",
    "- Person\n",
    "   - What is the distribution of offers\n",
    "- Offer_Id (there are 10 offer ids)\n",
    "  - How many offers were made of each ID?\n",
    "  - How many offers were made to each person, on average?\n",
    "- Difficulty\n",
    "  - What was the representative range of difficulty?\n",
    "- Distribution Method\n",
    "  - \n",
    "- Offer Type\n",
    "- Reward"
   ]
  },
  {
   "cell_type": "code",
   "execution_count": null,
   "metadata": {
    "Collapsed": "false"
   },
   "outputs": [],
   "source": [
    "events_merged.groupby(by='offer_id').count()['index']"
   ]
  },
  {
   "cell_type": "code",
   "execution_count": null,
   "metadata": {
    "Collapsed": "false"
   },
   "outputs": [],
   "source": [
    "events_merged.pivot_table(values='index',aggfunc='count',index='offer_id',columns=['person']).mean(axis=1)"
   ]
  },
  {
   "cell_type": "markdown",
   "metadata": {},
   "source": []
  },
  {
   "cell_type": "code",
   "execution_count": null,
   "metadata": {
    "Collapsed": "false"
   },
   "outputs": [],
   "source": [
    "fig2_4f, ax_2_4f = plt.subplots(nrows=2, ncols=2, sharex=False, sharey=False, figsize=(16,8))\n",
    "fig2_4f.subplots_adjust(hspace = .2,wspace = .2)\n",
    "\n",
    "sns.distplot(events_merged_std.time_viewed.dropna(),bins=25,ax=ax_2_4f[0,0],norm_hist=True)\n",
    "sns.distplot(events_merged_std.time_viewed.dropna(),hist_kws=dict(density=True,cumulative=True), kde_kws=dict(cumulative=True),bins=25,ax=ax_2_4f[1,0])\n",
    "sns.distplot(events_merged_std.trans_time.dropna(),bins=25,ax=ax_2_4f[0,1],norm_hist=True)\n",
    "sns.distplot(events_merged_std.trans_time.dropna(), hist_kws=dict(density=True,cumulative=True), kde_kws=dict(cumulative=True),ax=ax_2_4f[1,1],bins=25)\n",
    "\n",
    "for i,j in np.ndenumerate(ax_2_4f):\n",
    "    ax_2_4f[i].grid(b=True)\n",
    "    ax_2_4f[i].set(xlabel='time elapsed (normalized)')\n",
    "\n",
    "ax_2_4f[0,0].annotate(s='TIME VIEWED (std)',xy = (0.6,7.0) )\n",
    "ax_2_4f[1,0].annotate(s='TIME VIEWED (std) cumulative',xy = (0,.975) )\n",
    "ax_2_4f[0,1].annotate(s='TIME PURCHASED (std)',xy = (0.6, 1.75) )\n",
    "ax_2_4f[1,1].annotate(s='TIME PURCHASED (std) cumulative',xy = (0,.955) )\n",
    "fig2_4f.suptitle(\"Fig 2.4: Frequency of the Time of Offer Response\")\n"
   ]
  },
  {
   "cell_type": "markdown",
   "metadata": {
    "Collapsed": "false"
   },
   "source": [
    "Analysis:  The average view time is seemly early.  With 80% of people who will view it will view it witin the forst 30% of the time period.\n",
    "The purchasing cumlative curve is flatter than the viewed cumulative curve and doesnt reach its inflection pount until about 70% of total respondeants reposnded at the 50% time point."
   ]
  },
  {
   "cell_type": "code",
   "execution_count": null,
   "metadata": {},
   "outputs": [],
   "source": []
  },
  {
   "cell_type": "code",
   "execution_count": null,
   "metadata": {
    "Collapsed": "false"
   },
   "outputs": [],
   "source": [
    "fig2_4g, ax_2_4g = plt.subplots(nrows=2, ncols=2, sharex=False, sharey=False, figsize=(16,8))\n",
    "fig2_4g.subplots_adjust(hspace = .2,wspace = .2)\n",
    "\n",
    "sns.distplot(events_merged_std[events_merged_std.gender_M==1].time_viewed.dropna(),bins=25,ax=ax_2_4g[0,0],norm_hist=True)\n",
    "sns.distplot(events_merged_std[events_merged_std.gender_M==1].time_viewed.dropna(),hist_kws=dict(density=True,cumulative=True), kde_kws=dict(cumulative=True),bins=25,ax=ax_2_4g[1,0])\n",
    "sns.distplot(events_merged_std[events_merged_std.gender_M==1].trans_time.dropna(),bins=25,ax=ax_2_4g[0,1],norm_hist=True)\n",
    "sns.distplot(events_merged_std[events_merged_std.gender_M==1].trans_time.dropna(), hist_kws=dict(density=True,cumulative=True), kde_kws=dict(cumulative=True),ax=ax_2_4g[1,1],bins=25)\n",
    "sns.distplot(events_merged_std[events_merged_std.gender_F==1].time_viewed.dropna(),bins=25,ax=ax_2_4g[0,0],norm_hist=True)\n",
    "sns.distplot(events_merged_std[events_merged_std.gender_F==1].time_viewed.dropna(),hist_kws=dict(density=True,cumulative=True), kde_kws=dict(cumulative=True),bins=25,ax=ax_2_4g[1,0])\n",
    "sns.distplot(events_merged_std[events_merged_std.gender_F==1].trans_time.dropna(),bins=25,ax=ax_2_4g[0,1],norm_hist=True)\n",
    "sns.distplot(events_merged_std[events_merged_std.gender_F==1].trans_time.dropna(), hist_kws=dict(density=True,cumulative=True), kde_kws=dict(cumulative=True),ax=ax_2_4g[1,1],bins=25)\n",
    "sns.distplot(events_merged_std[events_merged_std.gender_O==1].time_viewed.dropna(),bins=25,ax=ax_2_4g[0,0],norm_hist=True)\n",
    "sns.distplot(events_merged_std[events_merged_std.gender_O==1].time_viewed.dropna(),hist_kws=dict(density=True,cumulative=True), kde_kws=dict(cumulative=True),bins=25,ax=ax_2_4g[1,0])\n",
    "sns.distplot(events_merged_std[events_merged_std.gender_O==1].trans_time.dropna(),bins=25,ax=ax_2_4g[0,1],norm_hist=True)\n",
    "sns.distplot(events_merged_std[events_merged_std.gender_O==1].trans_time.dropna(), hist_kws=dict(density=True,cumulative=True), kde_kws=dict(cumulative=True),ax=ax_2_4g[1,1],bins=25)\n",
    "\n",
    "for i,j in np.ndenumerate(ax_2_4g):\n",
    "    ax_2_4g[i].grid(b=True)\n",
    "    ax_2_4g[i].set(xlabel='time elapsed (normalized)')\n",
    "\n",
    "ax_2_4g[0,0].annotate(s='TIME VIEWED (std)',xy = (0.6,7.5) )\n",
    "ax_2_4g[1,0].annotate(s='TIME VIEWED (std) cumulative',xy = (0,.975) )\n",
    "ax_2_4g[0,1].annotate(s='TIME PURCHASED (std)',xy = (0.6, 1.7) )\n",
    "ax_2_4g[1,1].annotate(s='TIME PURCHASED (std) cumulative',xy = (0,.955) )\n",
    "fig2_4g.legend(labels=['Male','Female','Other'])\n",
    "fig2_4g.suptitle(\"Fig 2.4g: Frequency of the Time of Offer Response (by gender)\")\n"
   ]
  },
  {
   "cell_type": "markdown",
   "metadata": {
    "Collapsed": "false"
   },
   "source": [
    "<a id='fig2_4g'> Figure 2.4g </a>\n",
    "**Note** Virtually all three groups overalapped, no apparent difference between genders"
   ]
  },
  {
   "cell_type": "code",
   "execution_count": null,
   "metadata": {
    "Collapsed": "false"
   },
   "outputs": [],
   "source": [
    "events_merged_std.trans_time.mean()"
   ]
  },
  {
   "cell_type": "code",
   "execution_count": null,
   "metadata": {
    "Collapsed": "false"
   },
   "outputs": [],
   "source": []
  },
  {
   "cell_type": "code",
   "execution_count": null,
   "metadata": {},
   "outputs": [],
   "source": []
  },
  {
   "cell_type": "markdown",
   "metadata": {
    "Collapsed": "false"
   },
   "source": [
    "## Section 3.0:  Modeling [SKIP SECTION]\n",
    "<a id='sec_3_0'></a>\n",
    "<a href='#sec_4_0'>Jump to PCA modeling <br /></a>\n",
    "<a href='#TOC'>Jump to top </a>\n"
   ]
  },
  {
   "cell_type": "code",
   "execution_count": null,
   "metadata": {},
   "outputs": [],
   "source": []
  },
  {
   "cell_type": "markdown",
   "metadata": {
    "Collapsed": "false"
   },
   "source": [
    "Ultimatly we would like to know, who is going to take the bait of "
   ]
  },
  {
   "cell_type": "code",
   "execution_count": 62,
   "metadata": {},
   "outputs": [],
   "source": [
    "def results_bool(y,y_hat,beta = 1.0, print_results=True,ret_results=True):\n",
    "    ''' This function compares the results of a predicted to an actual 1d array\n",
    "    \n",
    "    This function will provide Accuracy, Precision, Recall and F_beta score \n",
    "    of a 1d bo0lean prediction array vs actual.\n",
    "    \n",
    "    Can print results and/or return a list [Accuracy, Precision, Recall, Fscore, beta]\n",
    "    \n",
    "    Input:\n",
    "    y: (int) actual results\n",
    "    y_hat: (int) predicted results\n",
    "    beta: (float) beta of F-score values between 0 to 2 (default 1)\n",
    "    print_results (default True)\n",
    "    return_results (default True)\n",
    "    \n",
    "    Return (optional): (list) [Accuracy, Precision, Recall, Fscore, beta]\n",
    "    '''\n",
    "    # check if input arrays are binary \n",
    "    if ((y==1) | (y==0)).all()==False:\n",
    "        raise Exception(\"Error: y is not binary\")\n",
    "    if ((y_hat==1) | (y_hat==0)).all()==False:\n",
    "        raise Exception(\"Error: y_hat is not binary\")\n",
    "    \n",
    "    # check beta\n",
    "    if beta > 2 or beta < 0:\n",
    "        print('beta {} exceeded 0 to 2 limit, setting beta = 1'.format(beta))\n",
    "        beta = 1.0\n",
    "        \n",
    "    \n",
    "    accuracy = np.sum(y==y_hat)/len(y)\n",
    "    tp = len(np.intersect1d(np.where(y_hat==1),np.where(y==1)))\n",
    "    precision = tp/((y_hat==1).sum())\n",
    "    recall = tp/(y.sum())\n",
    "    f_score = (1+beta**2)*(precision * recall )/(beta**2 * (precision + recall))\n",
    "    \n",
    "    if print_results==True:\n",
    "        print('Results:\\n--------------------------------------')\n",
    "        print('{0:<12s} {1:0.2%}'.format('Accuracy: ',accuracy))\n",
    "        print('{0:<12s} {1:0.2%}'.format('Precision: ',precision))\n",
    "        print('{0:<12s} {1:0.2%}'.format('Recall: ',recall))\n",
    "        print('{0:<12s} {1:0.4f}'.format('F_'+str(beta)+': ',f_score))\n",
    "    \n",
    "    if ret_results == True:\n",
    "        return [accuracy, precision, recall, f_score, beta]\n",
    "    else:\n",
    "        return\n",
    "\n",
    "    "
   ]
  },
  {
   "cell_type": "code",
   "execution_count": null,
   "metadata": {},
   "outputs": [],
   "source": []
  },
  {
   "cell_type": "code",
   "execution_count": 63,
   "metadata": {
    "Collapsed": "false"
   },
   "outputs": [
    {
     "data": {
      "text/plain": [
       "Index(['duration', 'event_offer_completed', 'event_offer_received',\n",
       "       'event_offer_viewed', 'event_transaction', 'reward_rcvd', 'time',\n",
       "       'time_end', 'time_viewed', 'trans_time', 'trans_spend', 'age', 'income',\n",
       "       'gender_F', 'gender_M', 'gender_O', 'memb_leng', 'difficulty', 'email',\n",
       "       'mobile', 'social', 'web', 'offer_bogo', 'offer_discount',\n",
       "       'offer_informational', 'reward_offd'],\n",
       "      dtype='object')"
      ]
     },
     "execution_count": 63,
     "metadata": {},
     "output_type": "execute_result"
    }
   ],
   "source": [
    "events_merged_std.columns"
   ]
  },
  {
   "cell_type": "code",
   "execution_count": 64,
   "metadata": {
    "Collapsed": "false"
   },
   "outputs": [],
   "source": [
    "X_col = ['duration','time','age', 'income',\n",
    "       'gender_F', 'gender_M', 'gender_O', 'memb_leng', 'difficulty', 'email',\n",
    "       'mobile', 'social', 'web', 'offer_bogo', 'offer_discount',\n",
    "       'offer_informational', 'reward_offd']\n",
    "\n",
    "KM_col = ['age', 'income',\n",
    "       'gender_F', 'gender_M', 'gender_O', 'memb_leng']\n",
    "\n",
    "X_sup = ['time_viewed']\n",
    "\n",
    "X_sup2 =['reward_rcvd', 'trans_time', 'trans_spend']\n",
    "\n",
    "Y_col = ['event_offer_completed', 'event_offer_received',\n",
    "       'event_offer_viewed', 'event_transaction']\n",
    "\n",
    "\n",
    "\n",
    "PL_col = ['time_end']\n"
   ]
  },
  {
   "cell_type": "code",
   "execution_count": 65,
   "metadata": {},
   "outputs": [],
   "source": []
  },
  {
   "cell_type": "code",
   "execution_count": 66,
   "metadata": {},
   "outputs": [],
   "source": [
    "data = events_merged_std[KM_col]"
   ]
  },
  {
   "cell_type": "code",
   "execution_count": null,
   "metadata": {},
   "outputs": [],
   "source": [
    "centers = []\n",
    "scores = []\n",
    "s_score = []\n",
    "\n",
    "for ii in range(2,35):\n",
    "    kmeans = KMeans(ii)\n",
    "    model = kmeans.fit(events_merged_std[KM_col])\n",
    "    labels = model.predict(events_merged_std[KM_col])\n",
    "    centers.append(ii)\n",
    "    scores.append(abs(model.score(events_merged_std[KM_col])))"
   ]
  },
  {
   "cell_type": "code",
   "execution_count": null,
   "metadata": {},
   "outputs": [],
   "source": [
    "def get_kmeans_score(data, center):\n",
    "    '''\n",
    "    returns the kmeans score regarding SSE for points to centers\n",
    "    INPUT:\n",
    "        data - the dataset you want to fit kmeans to\n",
    "        center - the number of centers you want (the k value)\n",
    "    OUTPUT:\n",
    "        score - the SSE score for the kmeans model fit to the data\n",
    "    '''\n",
    "    #instantiate kmeans\n",
    "    kmeans = KMeans(n_clusters=center)\n",
    "\n",
    "    # Then fit the model to your data using the fit method\n",
    "    model = kmeans.fit(data)\n",
    "\n",
    "    # Obtain a score related to the model fit\n",
    "    score = np.abs(model.score(data))\n",
    "\n",
    "    return score"
   ]
  },
  {
   "cell_type": "code",
   "execution_count": null,
   "metadata": {},
   "outputs": [],
   "source": [
    "def fit_mods():\n",
    "    scores = []\n",
    "    centers = list(range(1,35))\n",
    "\n",
    "    for center in centers:\n",
    "        scores.append(get_kmeans_score(data, center))\n",
    "\n",
    "    return centers, scores"
   ]
  },
  {
   "cell_type": "code",
   "execution_count": null,
   "metadata": {},
   "outputs": [],
   "source": [
    "centers, scores = fit_mods()\n",
    "\n",
    "#Your plot should look similar to the below\n",
    "plt.plot(centers, scores, linestyle='--', marker='o', color='b');\n",
    "plt.xlabel('K');\n",
    "plt.ylabel('SSE');\n",
    "plt.title('SSE vs. K');"
   ]
  },
  {
   "cell_type": "code",
   "execution_count": null,
   "metadata": {},
   "outputs": [],
   "source": [
    "k_8 = KMeans(8)"
   ]
  },
  {
   "cell_type": "code",
   "execution_count": null,
   "metadata": {},
   "outputs": [],
   "source": [
    "model_8 = k_8.fit(events_merged_std[KM_col])\n",
    "labels_8 = model_8.transform(events_merged_std[KM_col])"
   ]
  },
  {
   "cell_type": "code",
   "execution_count": null,
   "metadata": {},
   "outputs": [],
   "source": [
    "pred_8 = model_8.predict(events_merged_std[KM_col])"
   ]
  },
  {
   "cell_type": "code",
   "execution_count": null,
   "metadata": {},
   "outputs": [],
   "source": [
    "pred_8.shape"
   ]
  },
  {
   "cell_type": "code",
   "execution_count": null,
   "metadata": {},
   "outputs": [],
   "source": [
    "events_kpred = events_merged_std.reset_index()"
   ]
  },
  {
   "cell_type": "code",
   "execution_count": null,
   "metadata": {},
   "outputs": [],
   "source": [
    "events_kpred.shape"
   ]
  },
  {
   "cell_type": "code",
   "execution_count": null,
   "metadata": {},
   "outputs": [],
   "source": [
    "events_kpred = events_kpred.merge(pd.DataFrame(pred_8,columns=['pred']),left_index=True,right_index=True)"
   ]
  },
  {
   "cell_type": "code",
   "execution_count": null,
   "metadata": {},
   "outputs": [],
   "source": [
    "preds = pd.get_dummies(events_kpred['pred'])"
   ]
  },
  {
   "cell_type": "code",
   "execution_count": null,
   "metadata": {},
   "outputs": [],
   "source": [
    "events_kpred = events_kpred.merge(preds,left_index=True,right_index=True)"
   ]
  },
  {
   "cell_type": "code",
   "execution_count": null,
   "metadata": {},
   "outputs": [],
   "source": [
    "events_kpred.head()"
   ]
  },
  {
   "cell_type": "code",
   "execution_count": null,
   "metadata": {},
   "outputs": [],
   "source": [
    "events_kpred.columns"
   ]
  },
  {
   "cell_type": "code",
   "execution_count": null,
   "metadata": {},
   "outputs": [],
   "source": []
  },
  {
   "cell_type": "code",
   "execution_count": null,
   "metadata": {},
   "outputs": [],
   "source": []
  },
  {
   "cell_type": "code",
   "execution_count": null,
   "metadata": {},
   "outputs": [],
   "source": [
    "fig_2_5a, ax_2_5a = plt.subplots(figsize=(12,12))\n",
    "sns.heatmap(events_kpred[['duration','event_offer_completed','event_offer_received','event_offer_viewed','event_transaction','reward_rcvd','time',\n",
    "                    'time_end','time_viewed','difficulty','email','mobile','social','web','offer_bogo','offer_discount','offer_informational',\n",
    "                 'reward_offd',0,1,2,3,4,5,6,7]].corr(),annot=True,ax=ax_2_5a,cmap='Spectral',fmt='.2f')\n",
    "ax_2_5a.set_title('Fig 2.5a: Coorelation Heatmap')"
   ]
  },
  {
   "cell_type": "code",
   "execution_count": null,
   "metadata": {},
   "outputs": [],
   "source": []
  },
  {
   "cell_type": "code",
   "execution_count": null,
   "metadata": {},
   "outputs": [],
   "source": [
    "events_merged_std.shape"
   ]
  },
  {
   "cell_type": "code",
   "execution_count": null,
   "metadata": {},
   "outputs": [],
   "source": [
    "model_8.predict"
   ]
  },
  {
   "cell_type": "code",
   "execution_count": null,
   "metadata": {
    "Collapsed": "false"
   },
   "outputs": [],
   "source": [
    "X_train, X_test, Y_train, Y_test,X_train_sup, X_test_sup = train_test_split(events_merged_std[X_col],events_merged_std[Y_col],events_merged_std[X_sup],train_size=0.7,random_state=72)\n",
    "Y_train_view = Y_train['event_offer_viewed']\n",
    "Y_test_view = Y_test['event_offer_viewed']"
   ]
  },
  {
   "cell_type": "code",
   "execution_count": null,
   "metadata": {},
   "outputs": [],
   "source": []
  },
  {
   "cell_type": "code",
   "execution_count": null,
   "metadata": {},
   "outputs": [],
   "source": [
    "clf_0 = GaussianNB()\n",
    "clf_a = RandomForestClassifier()\n",
    "clf_b = LogisticRegression()\n",
    "clf_c = LinearSVC()"
   ]
  },
  {
   "cell_type": "code",
   "execution_count": null,
   "metadata": {},
   "outputs": [],
   "source": []
  },
  {
   "cell_type": "code",
   "execution_count": null,
   "metadata": {},
   "outputs": [],
   "source": [
    "X_train.columns"
   ]
  },
  {
   "cell_type": "code",
   "execution_count": null,
   "metadata": {},
   "outputs": [],
   "source": []
  },
  {
   "cell_type": "code",
   "execution_count": null,
   "metadata": {},
   "outputs": [],
   "source": [
    "clf_0.fit(X_train,Y_train['event_offer_viewed'])\n",
    "clf_a.fit(X_train,Y_train['event_offer_viewed'])\n",
    "clf_b.fit(X_train,Y_train['event_offer_viewed'])\n",
    "clf_c.fit(X_train,Y_train['event_offer_viewed'])"
   ]
  },
  {
   "cell_type": "code",
   "execution_count": null,
   "metadata": {},
   "outputs": [],
   "source": [
    "y1_pred_0 = clf_0.predict(X_test)\n",
    "y1_pred_a = clf_a.predict(X_test)\n",
    "y1_pred_b = clf_b.predict(X_test)\n",
    "y1_pred_c = clf_c.predict(X_test)"
   ]
  },
  {
   "cell_type": "code",
   "execution_count": null,
   "metadata": {},
   "outputs": [],
   "source": [
    "\n",
    "import visuals_new as vs  # Not written by author: Provied as part of CharityML project"
   ]
  },
  {
   "cell_type": "code",
   "execution_count": null,
   "metadata": {},
   "outputs": [],
   "source": []
  },
  {
   "cell_type": "code",
   "execution_count": null,
   "metadata": {},
   "outputs": [],
   "source": [
    "def train_predict(learner, sample_size, X_train, y_train, X_test, y_test): \n",
    "    from time import time\n",
    "    '''\n",
    "    inputs:\n",
    "       - learner: the learning algorithm to be trained and predicted on\n",
    "       - sample_size: the size of samples (number) to be drawn from training set\n",
    "       - X_train: features training set\n",
    "       - y_train: income training set\n",
    "       - X_test: features testing set\n",
    "       - y_test: income testing set\n",
    "    '''\n",
    "    beta = 0.5   \n",
    "    results = {}\n",
    "    p_col = 'event_offer_viewed' #  column of y_data we are trying to learn\n",
    "    \n",
    "    # TODO: Fit the learner to the training data using slicing with 'sample_size' using .fit(training_features[:], training_labels[:])\n",
    "    start = time() # Get start time\n",
    "    learner.fit(X_train[:sample_size],y_train[p_col][:sample_size])  #since I left y_train with two columns (one for each) I required p_col to select column as well\n",
    "    end = time() # Get end time\n",
    "    \n",
    "    # TODO: Calculate the training time - DONE\n",
    "    results['train_time'] = end - start\n",
    "        \n",
    "    # TODO: Get the predictions on the test set(X_test),\n",
    "    #       then get predictions on the first 300 training samples(X_train) using .predict()\n",
    "    start = time() # Get start time\n",
    "    predictions_test = learner.predict(X_test)\n",
    "    predictions_train = learner.predict(X_train[:300])\n",
    "    end = time() # Get end time\n",
    "    \n",
    "    # TODO: Calculate the total prediction time\n",
    "    results['pred_time'] = end - start\n",
    "            \n",
    "    # TODO: Compute accuracy on the first 300 training samples which is y_train[:300]\n",
    "    # note: TP + TN (i.e. sum of boolean of matching results) / # total sample\n",
    "    #  np.sum(pred==acutal)/len(actual)\n",
    "    results['acc_train'] = np.sum(predictions_train==y_train[p_col][:300])/len(y_train[p_col][:300])\n",
    "        \n",
    "    # TODO: Compute accuracy on test set using accuracy_score()\n",
    "    results['acc_test'] =  np.sum(y_test[p_col] == predictions_test)/len(y_test[p_col])\n",
    "    \n",
    "    # TODO: Compute F-score on the the first 300 training samples using fbeta_score()\n",
    "    results['f_train'] = fbeta_score(y_train[p_col][:300],predictions_train,beta)\n",
    "        \n",
    "    # TODO: Compute F-score on the test set which is y_test\n",
    "    results['f_test'] = fbeta_score(y_test[p_col],predictions_test,beta)\n",
    "       \n",
    "    # Success\n",
    "    print(\"{} trained on {} samples.\".format(learner.__class__.__name__, sample_size))\n",
    "        \n",
    "    # Return the results\n",
    "    return results"
   ]
  },
  {
   "cell_type": "code",
   "execution_count": null,
   "metadata": {},
   "outputs": [],
   "source": [
    "samples_100 = len(Y_train_view)\n",
    "samples_10 = int(len(Y_train_view)/10)\n",
    "samples_1 = int(len(Y_train_view)/100)\n",
    "\n",
    "# Collect results on the learners\n",
    "results = {}\n",
    "for clf in [clf_0,clf_b, clf_c, clf_a]:\n",
    "    clf_name = clf.__class__.__name__\n",
    "    results[clf_name] = {}\n",
    "    for i, samples in enumerate([samples_1, samples_10, samples_100]):\n",
    "        results[clf_name][i] = \\\n",
    "        train_predict(clf, samples, X_train, Y_train, X_test, Y_test)\n",
    "\n",
    "        "
   ]
  },
  {
   "cell_type": "code",
   "execution_count": null,
   "metadata": {},
   "outputs": [],
   "source": []
  },
  {
   "cell_type": "code",
   "execution_count": null,
   "metadata": {},
   "outputs": [],
   "source": [
    "importlib.reload(vs) \n",
    "vs.evaluate(results)"
   ]
  },
  {
   "cell_type": "markdown",
   "metadata": {},
   "source": [
    "This shows that both RandomForrest works as well as slighty beter than some of the models.  I will use this.  Furthermore, it shows that a it can train well on a small sample size.\n",
    "I will use this property to split my data up into 3 sets (train1, test1/train2, and test2)"
   ]
  },
  {
   "cell_type": "code",
   "execution_count": null,
   "metadata": {},
   "outputs": [],
   "source": []
  },
  {
   "cell_type": "code",
   "execution_count": null,
   "metadata": {},
   "outputs": [],
   "source": [
    "events_merged_std_shuffled = shuffle(events_merged_std,random_state=72)"
   ]
  },
  {
   "cell_type": "code",
   "execution_count": null,
   "metadata": {},
   "outputs": [],
   "source": [
    "events_merged_std_shuffled.shape[0]/3"
   ]
  },
  {
   "cell_type": "code",
   "execution_count": null,
   "metadata": {},
   "outputs": [],
   "source": [
    "e1 = events_merged_std_shuffled.iloc[:int(events_merged_std_shuffled.shape[0]/3),:]"
   ]
  },
  {
   "cell_type": "code",
   "execution_count": null,
   "metadata": {},
   "outputs": [],
   "source": [
    "e2 = events_merged_std_shuffled.iloc[int(events_merged_std_shuffled.shape[0]/3)+1:int(events_merged_std_shuffled.shape[0]*2/3),:]"
   ]
  },
  {
   "cell_type": "code",
   "execution_count": null,
   "metadata": {},
   "outputs": [],
   "source": [
    "e3 = events_merged_std_shuffled.iloc[int(events_merged_std_shuffled.shape[0]*2/3)+1:,:]"
   ]
  },
  {
   "cell_type": "code",
   "execution_count": null,
   "metadata": {},
   "outputs": [],
   "source": []
  },
  {
   "cell_type": "code",
   "execution_count": null,
   "metadata": {},
   "outputs": [],
   "source": []
  },
  {
   "cell_type": "code",
   "execution_count": null,
   "metadata": {},
   "outputs": [],
   "source": []
  },
  {
   "cell_type": "code",
   "execution_count": null,
   "metadata": {},
   "outputs": [],
   "source": []
  },
  {
   "cell_type": "markdown",
   "metadata": {
    "Collapsed": "false"
   },
   "source": [
    "### Section 3.1: Predicting Views\n",
    "<a id='sec_3_1'></a>\n",
    "<a href='#TOC'>Jump to top</a>"
   ]
  },
  {
   "cell_type": "code",
   "execution_count": null,
   "metadata": {},
   "outputs": [],
   "source": [
    "e1_X = e1[X_col]\n",
    "e2_X = e2[X_col]\n",
    "e3_X = e3[X_col]"
   ]
  },
  {
   "cell_type": "code",
   "execution_count": null,
   "metadata": {},
   "outputs": [],
   "source": []
  },
  {
   "cell_type": "code",
   "execution_count": null,
   "metadata": {},
   "outputs": [],
   "source": [
    "e1_y = e1[['event_offer_viewed']]\n",
    "e2_y = e2[['event_offer_viewed','event_transaction']]\n",
    "e3_y = e3[['event_transaction']]"
   ]
  },
  {
   "cell_type": "code",
   "execution_count": null,
   "metadata": {},
   "outputs": [],
   "source": []
  },
  {
   "cell_type": "code",
   "execution_count": null,
   "metadata": {},
   "outputs": [],
   "source": []
  },
  {
   "cell_type": "code",
   "execution_count": null,
   "metadata": {},
   "outputs": [],
   "source": [
    "clf_a = RandomForestClassifier(n_estimators=100,max_depth=5)"
   ]
  },
  {
   "cell_type": "code",
   "execution_count": null,
   "metadata": {},
   "outputs": [],
   "source": [
    "clf_a.fit(e1_X, e1_y)"
   ]
  },
  {
   "cell_type": "code",
   "execution_count": null,
   "metadata": {},
   "outputs": [],
   "source": [
    "y_hat_1 = clf_a.predict(e2[X_col])"
   ]
  },
  {
   "cell_type": "code",
   "execution_count": null,
   "metadata": {},
   "outputs": [],
   "source": [
    "y_hat_1"
   ]
  },
  {
   "cell_type": "code",
   "execution_count": null,
   "metadata": {},
   "outputs": [],
   "source": [
    "r1 = results_bool(e2['event_offer_viewed'],y_hat_1,0.5)"
   ]
  },
  {
   "cell_type": "code",
   "execution_count": null,
   "metadata": {},
   "outputs": [],
   "source": []
  },
  {
   "cell_type": "code",
   "execution_count": null,
   "metadata": {},
   "outputs": [],
   "source": [
    "clf_a2_1 = RandomForestClassifier()\n",
    "clf_a2_2 = RandomForestClassifier()"
   ]
  },
  {
   "cell_type": "code",
   "execution_count": null,
   "metadata": {},
   "outputs": [],
   "source": [
    "e2_X.loc[:,'event_viewed'] = y_hat_1"
   ]
  },
  {
   "cell_type": "code",
   "execution_count": null,
   "metadata": {},
   "outputs": [],
   "source": [
    "clf_a2_1.fit(e2_X,e2_y['event_transaction'])"
   ]
  },
  {
   "cell_type": "code",
   "execution_count": null,
   "metadata": {},
   "outputs": [],
   "source": [
    "clf_a2_1.predict"
   ]
  },
  {
   "cell_type": "code",
   "execution_count": null,
   "metadata": {},
   "outputs": [],
   "source": [
    "e2_X.shape"
   ]
  },
  {
   "cell_type": "code",
   "execution_count": null,
   "metadata": {},
   "outputs": [],
   "source": [
    "clf_a1 = RandomForestClassifier()"
   ]
  },
  {
   "cell_type": "code",
   "execution_count": null,
   "metadata": {},
   "outputs": [],
   "source": [
    "clf_a1.fit(X_train,Y_train['event_transaction'])"
   ]
  },
  {
   "cell_type": "code",
   "execution_count": null,
   "metadata": {},
   "outputs": [],
   "source": [
    "y_hat_a1 = clf_a1.predict(X_test)"
   ]
  },
  {
   "cell_type": "code",
   "execution_count": null,
   "metadata": {},
   "outputs": [],
   "source": [
    "X_train['view_predict'] = pd.DataFrame(y_hat_a1)"
   ]
  },
  {
   "cell_type": "code",
   "execution_count": null,
   "metadata": {},
   "outputs": [],
   "source": [
    "X_train_2 = X_train.merge(X_train_sup,left_index=True,right_index=True)"
   ]
  },
  {
   "cell_type": "code",
   "execution_count": null,
   "metadata": {},
   "outputs": [],
   "source": [
    "pd.DataFrame(y_hat_a1).shape"
   ]
  },
  {
   "cell_type": "code",
   "execution_count": null,
   "metadata": {},
   "outputs": [],
   "source": [
    "X_train.shape"
   ]
  },
  {
   "cell_type": "code",
   "execution_count": null,
   "metadata": {},
   "outputs": [],
   "source": [
    "drop2 = X_train_2[X_train_2['view_predict'].isna()].index"
   ]
  },
  {
   "cell_type": "code",
   "execution_count": null,
   "metadata": {},
   "outputs": [],
   "source": [
    "X_train_2.drop(index=drop2, inplace=True)"
   ]
  },
  {
   "cell_type": "code",
   "execution_count": null,
   "metadata": {},
   "outputs": [],
   "source": [
    "Y_train_2 = Y_train['event_transaction'].drop(index=drop2)"
   ]
  },
  {
   "cell_type": "code",
   "execution_count": null,
   "metadata": {},
   "outputs": [],
   "source": [
    "X_train_2.info()"
   ]
  },
  {
   "cell_type": "code",
   "execution_count": null,
   "metadata": {},
   "outputs": [],
   "source": [
    "Y_train_2.shape"
   ]
  },
  {
   "cell_type": "code",
   "execution_count": null,
   "metadata": {},
   "outputs": [],
   "source": []
  },
  {
   "cell_type": "code",
   "execution_count": null,
   "metadata": {},
   "outputs": [],
   "source": []
  },
  {
   "cell_type": "code",
   "execution_count": null,
   "metadata": {},
   "outputs": [],
   "source": []
  },
  {
   "cell_type": "code",
   "execution_count": null,
   "metadata": {},
   "outputs": [],
   "source": []
  },
  {
   "cell_type": "code",
   "execution_count": null,
   "metadata": {},
   "outputs": [],
   "source": []
  },
  {
   "cell_type": "code",
   "execution_count": null,
   "metadata": {},
   "outputs": [],
   "source": []
  },
  {
   "cell_type": "code",
   "execution_count": null,
   "metadata": {},
   "outputs": [],
   "source": [
    "X_train.info()"
   ]
  },
  {
   "cell_type": "code",
   "execution_count": null,
   "metadata": {},
   "outputs": [],
   "source": []
  },
  {
   "cell_type": "code",
   "execution_count": null,
   "metadata": {},
   "outputs": [],
   "source": []
  },
  {
   "cell_type": "code",
   "execution_count": null,
   "metadata": {},
   "outputs": [],
   "source": [
    "X_train.columns"
   ]
  },
  {
   "cell_type": "code",
   "execution_count": null,
   "metadata": {},
   "outputs": [],
   "source": [
    "clf_a = RandomForestClassifier(n_estimators=100,max_depth=10,max_features=)"
   ]
  },
  {
   "cell_type": "code",
   "execution_count": null,
   "metadata": {},
   "outputs": [],
   "source": [
    "clf_a.fit(X_train.drop(columns=('view_predict')),Y_train['event_offer_viewed'])"
   ]
  },
  {
   "cell_type": "code",
   "execution_count": null,
   "metadata": {},
   "outputs": [],
   "source": [
    "est_trees = clf_a.estimators_"
   ]
  },
  {
   "cell_type": "code",
   "execution_count": null,
   "metadata": {},
   "outputs": [],
   "source": [
    "from sklearn.tree import export_graphviz# Export as dot file"
   ]
  },
  {
   "cell_type": "code",
   "execution_count": null,
   "metadata": {},
   "outputs": [],
   "source": [
    "export_graphviz(est_trees[0], \n",
    "                out_file='tree.dot', \n",
    "                feature_names = X_train.drop(columns='view_predict').columns,\n",
    "                rounded = True, proportion = False, \n",
    "                precision = 2, filled = True)"
   ]
  },
  {
   "cell_type": "code",
   "execution_count": null,
   "metadata": {},
   "outputs": [],
   "source": [
    "from subprocess import call\n",
    "from sklearn import tree"
   ]
  },
  {
   "cell_type": "code",
   "execution_count": null,
   "metadata": {},
   "outputs": [],
   "source": [
    "est_trees[0]"
   ]
  },
  {
   "cell_type": "code",
   "execution_count": null,
   "metadata": {},
   "outputs": [],
   "source": [
    "#tree.export_graphviz(clf_a)\n"
   ]
  },
  {
   "cell_type": "code",
   "execution_count": null,
   "metadata": {},
   "outputs": [],
   "source": [
    "from graphviz import render"
   ]
  },
  {
   "cell_type": "code",
   "execution_count": null,
   "metadata": {},
   "outputs": [],
   "source": [
    "from subprocess import call"
   ]
  },
  {
   "cell_type": "code",
   "execution_count": null,
   "metadata": {},
   "outputs": [],
   "source": [
    "def rename(directory):\n",
    "    os.chdir(directory) # Changing to the directory you specified.\n",
    "    for name in os.listdir(directory):\n",
    "        print(name)\n",
    "        os.rename(name,\"0\"+name)"
   ]
  },
  {
   "cell_type": "code",
   "execution_count": null,
   "metadata": {},
   "outputs": [],
   "source": [
    "import graphviz"
   ]
  },
  {
   "cell_type": "code",
   "execution_count": null,
   "metadata": {},
   "outputs": [],
   "source": [
    "import os\n",
    "os.environ[\"PATH\"] += os.pathsep + 'C:/Program Files (x86)/Graphviz2.38/bin/'"
   ]
  },
  {
   "cell_type": "code",
   "execution_count": null,
   "metadata": {},
   "outputs": [],
   "source": [
    "render('dot','png','tree.dot')"
   ]
  },
  {
   "cell_type": "code",
   "execution_count": null,
   "metadata": {},
   "outputs": [],
   "source": [
    "clf_a"
   ]
  },
  {
   "cell_type": "code",
   "execution_count": null,
   "metadata": {},
   "outputs": [],
   "source": []
  },
  {
   "cell_type": "code",
   "execution_count": null,
   "metadata": {},
   "outputs": [],
   "source": []
  },
  {
   "cell_type": "code",
   "execution_count": null,
   "metadata": {},
   "outputs": [],
   "source": []
  },
  {
   "cell_type": "code",
   "execution_count": null,
   "metadata": {},
   "outputs": [],
   "source": [
    "export_graphviz(estimator_limited, \n",
    "                out_file='tree.dot', \n",
    "                feature_names = iris.feature_names,\n",
    "                class_names = iris.target_names,\n",
    "                rounded = True, proportion = False, \n",
    "                precision = 2, filled = True)"
   ]
  },
  {
   "cell_type": "code",
   "execution_count": null,
   "metadata": {},
   "outputs": [],
   "source": [
    "clf_a._get_param_names()"
   ]
  },
  {
   "cell_type": "code",
   "execution_count": null,
   "metadata": {},
   "outputs": [],
   "source": [
    "parameters = {\n",
    " 'max_depth': [None, ],\n",
    " 'max_features': [],\n",
    " 'max_leaf_nodes': [] ,\n",
    " 'min_samples_leaf': [],\n",
    " 'min_samples_split':[] ,\n",
    " 'random_state' : ,\n",
    "}"
   ]
  },
  {
   "cell_type": "code",
   "execution_count": null,
   "metadata": {},
   "outputs": [],
   "source": []
  },
  {
   "cell_type": "code",
   "execution_count": null,
   "metadata": {},
   "outputs": [],
   "source": []
  },
  {
   "cell_type": "code",
   "execution_count": null,
   "metadata": {},
   "outputs": [],
   "source": []
  },
  {
   "cell_type": "code",
   "execution_count": null,
   "metadata": {},
   "outputs": [],
   "source": []
  },
  {
   "cell_type": "code",
   "execution_count": null,
   "metadata": {},
   "outputs": [],
   "source": []
  },
  {
   "cell_type": "code",
   "execution_count": null,
   "metadata": {},
   "outputs": [],
   "source": [
    "X_train.head()"
   ]
  },
  {
   "cell_type": "code",
   "execution_count": null,
   "metadata": {},
   "outputs": [],
   "source": [
    "Y_train.head()"
   ]
  },
  {
   "cell_type": "code",
   "execution_count": null,
   "metadata": {},
   "outputs": [],
   "source": []
  },
  {
   "cell_type": "code",
   "execution_count": null,
   "metadata": {},
   "outputs": [],
   "source": [
    "X_col"
   ]
  },
  {
   "cell_type": "code",
   "execution_count": null,
   "metadata": {},
   "outputs": [],
   "source": []
  },
  {
   "cell_type": "code",
   "execution_count": null,
   "metadata": {},
   "outputs": [],
   "source": []
  },
  {
   "cell_type": "code",
   "execution_count": null,
   "metadata": {},
   "outputs": [],
   "source": []
  },
  {
   "cell_type": "code",
   "execution_count": null,
   "metadata": {},
   "outputs": [],
   "source": [
    "NB_views = GaussianNB()"
   ]
  },
  {
   "cell_type": "code",
   "execution_count": null,
   "metadata": {},
   "outputs": [],
   "source": [
    "NB_views.fit(X_view_train,y_view_train)"
   ]
  },
  {
   "cell_type": "code",
   "execution_count": null,
   "metadata": {},
   "outputs": [],
   "source": [
    "y_view_pred = NB_views.predict(X_view_test)"
   ]
  },
  {
   "cell_type": "code",
   "execution_count": null,
   "metadata": {},
   "outputs": [],
   "source": [
    "NB_view_results = results_bool(y_,y_hat,beta=0.5)"
   ]
  },
  {
   "cell_type": "code",
   "execution_count": null,
   "metadata": {},
   "outputs": [],
   "source": [
    "print(met.classification_report(y,y_hat,digits=4))"
   ]
  },
  {
   "cell_type": "markdown",
   "metadata": {},
   "source": [
    "### Section 3.2: Predicting Purchases\n",
    "<a id='sec_3_2'></a>\n",
    "<a href='#TOC'>Jump to top</a>"
   ]
  },
  {
   "cell_type": "code",
   "execution_count": null,
   "metadata": {},
   "outputs": [],
   "source": [
    "y_hat = y_mmmmmmmmmmmmmm m jjjmj"
   ]
  },
  {
   "cell_type": "code",
   "execution_count": null,
   "metadata": {},
   "outputs": [],
   "source": [
    "events_merged_viewed"
   ]
  },
  {
   "cell_type": "code",
   "execution_count": null,
   "metadata": {},
   "outputs": [],
   "source": []
  },
  {
   "cell_type": "code",
   "execution_count": null,
   "metadata": {},
   "outputs": [],
   "source": []
  },
  {
   "cell_type": "code",
   "execution_count": null,
   "metadata": {},
   "outputs": [],
   "source": []
  },
  {
   "cell_type": "code",
   "execution_count": null,
   "metadata": {},
   "outputs": [],
   "source": []
  },
  {
   "cell_type": "code",
   "execution_count": null,
   "metadata": {
    "Collapsed": "false"
   },
   "outputs": [],
   "source": [
    "# I will clean this up on future full run throughs\n",
    "\n",
    "events_merged.drop(columns=['amount'],inplace=True)\n",
    "\n",
    "events_merged.dropna(subset=['income','gender'],inplace=True)\n",
    "\n",
    "events_merged.reward.fillna(value=0,inplace=True)"
   ]
  },
  {
   "cell_type": "markdown",
   "metadata": {
    "Collapsed": "false"
   },
   "source": [
    "I am realizing that my standardization ignored the np.nan somehow, so i need to manage that"
   ]
  },
  {
   "cell_type": "code",
   "execution_count": null,
   "metadata": {
    "Collapsed": "false"
   },
   "outputs": [],
   "source": []
  },
  {
   "cell_type": "markdown",
   "metadata": {},
   "source": [
    "### Section 3.2: Predicting Trans (independent)\n",
    "<a id='sec_3_2'></a>\n",
    "<a href='#TOC'>Jump to top</a>"
   ]
  },
  {
   "cell_type": "markdown",
   "metadata": {},
   "source": []
  },
  {
   "cell_type": "markdown",
   "metadata": {},
   "source": [
    "### Section 3.3: Predicting Transaction (compounded)\n",
    "<a id='sec_3_3'></a>\n",
    "<a href='#TOC'>Jump to top</a>\n",
    "\n",
    "\n"
   ]
  },
  {
   "cell_type": "code",
   "execution_count": null,
   "metadata": {},
   "outputs": [],
   "source": [
    "def train_model(model,parameters,X,Y):\n",
    "    "
   ]
  },
  {
   "cell_type": "markdown",
   "metadata": {},
   "source": [
    "### Section 3.4: Prediction Pipeline\n",
    "<a id='sec_3_4'></a>\n",
    "<a href='#TOC'>Jump to top</a>"
   ]
  },
  {
   "cell_type": "code",
   "execution_count": null,
   "metadata": {},
   "outputs": [],
   "source": [
    "\n",
    "    "
   ]
  },
  {
   "cell_type": "code",
   "execution_count": null,
   "metadata": {},
   "outputs": [],
   "source": []
  },
  {
   "cell_type": "markdown",
   "metadata": {},
   "source": [
    "### Section 4.0: Analysis\n",
    "<a id='sec_4_0'></a>\n",
    "<a href='#TOC'>Jump to top</a>\n",
    "\n",
    "#### Section 4.1: Principle Component Analysis\n",
    "<a id='sec_4_1'></a>\n",
    "<a href='#TOC'>Jump to top</a>"
   ]
  },
  {
   "cell_type": "code",
   "execution_count": 39,
   "metadata": {},
   "outputs": [],
   "source": [
    "from sklearn.decomposition import PCA"
   ]
  },
  {
   "cell_type": "code",
   "execution_count": 40,
   "metadata": {
    "Collapsed": "false"
   },
   "outputs": [],
   "source": [
    "X_col = ['duration','time','age', 'income',\n",
    "       'gender_F', 'gender_M', 'gender_O', 'memb_leng', 'difficulty', 'email',\n",
    "       'mobile', 'social', 'web', 'offer_bogo', 'offer_discount',\n",
    "       'offer_informational', 'reward_offd']\n",
    "\n",
    "KM_col = ['age', 'income',\n",
    "       'gender_F', 'gender_M', 'gender_O', 'memb_leng']\n",
    "\n",
    "X_sup = ['time_viewed']\n",
    "\n",
    "X_sup2 =['reward_rcvd', 'trans_time', 'trans_spend']\n",
    "\n",
    "Y_col = ['event_offer_completed', 'event_offer_received',\n",
    "       'event_offer_viewed', 'event_transaction']\n",
    "\n",
    "\n",
    "\n",
    "PL_col = ['time_end']\n"
   ]
  },
  {
   "cell_type": "code",
   "execution_count": 129,
   "metadata": {},
   "outputs": [],
   "source": [
    "#reused helper_functions.py in MiniPCA with annotations\n",
    "def scree_plot(pca, fig_name=''):\n",
    "    '''\n",
    "    Creates a scree plot associated with the principal components \n",
    "    \n",
    "    INPUT: pca - the result of instantian of PCA in scikit learn\n",
    "            \n",
    "    OUTPUT:\n",
    "            None\n",
    "    '''\n",
    "    num_components=len(pca.explained_variance_ratio_)   # number of components to graph\n",
    "    ind = np.arange(num_components)           \n",
    "    vals = pca.explained_variance_ratio_\n",
    " \n",
    "    plt.figure(figsize=(10, 6))\n",
    "    ax = plt.subplot(111)\n",
    "    cumvals = np.cumsum(vals)\n",
    "    ax.bar(ind, vals)\n",
    "    ax.plot(ind, cumvals)\n",
    "    for i in range(num_components):\n",
    "        ax.annotate(r\"%s%%\" % ((str(vals[i]*100)[:4])), (ind[i]+0.2, vals[i]), va=\"bottom\", ha=\"center\", fontsize=12)\n",
    " \n",
    "    ax.xaxis.set_tick_params(width=0)\n",
    "    ax.yaxis.set_tick_params(width=2, length=12)\n",
    " \n",
    "    ax.set_xlabel(\"Principal Component\")\n",
    "    ax.set_ylabel(\"Variance Explained (%)\")\n",
    "    plt.title(fig_name + 'Explained Variance Per Principal Component')"
   ]
  },
  {
   "cell_type": "code",
   "execution_count": 130,
   "metadata": {},
   "outputs": [],
   "source": [
    "#from helper_functions.py in MiniPCA \n",
    "def pca_results(full_dataset, pca):\n",
    "    '''\n",
    "    Create a DataFrame of the PCA results\n",
    "    Includes dimension feature weights and explained variance\n",
    "    Visualizes the PCA results'''\n",
    "\n",
    "    # Dimension indexing\n",
    "    dimensions = ['Dimension {}'.format(i) for i in range(1, len(pca.components_)+1)]\n",
    "    \n",
    "\n",
    "    # PCA components\n",
    "    components = pd.DataFrame(np.round(pca.components_, 4), columns = full_dataset.keys())\n",
    "    components.index = dimensions\n",
    "\n",
    "    # PCA explained variance\n",
    "    ratios = pca.explained_variance_ratio_.reshape(len(pca.components_), 1)\n",
    "    variance_ratios = pd.DataFrame(np.round(ratios, 4), columns = ['Explained Variance'])\n",
    "    variance_ratios.index = dimensions\n",
    "\n",
    "    # Create a bar plot visualization\n",
    "    fig, ax = plt.subplots(figsize = (14,8))\n",
    "\n",
    "    # Plot the feature weights as a function of the components\n",
    "    components.plot(ax = ax, kind = 'bar');\n",
    "    ax.set_ylabel(\"Feature Weights\")\n",
    "    ax.set_xticklabels(dimensions, rotation=0)\n",
    "\n",
    "\n",
    "    # Display the explained variance ratios\n",
    "    for i, ev in enumerate(pca.explained_variance_ratio_):\n",
    "        ax.text(i-0.40, ax.get_ylim()[1] + 0.05, \"Explained Variance\\n          %.4f\"%(ev))\n",
    "\n",
    "    # Return a concatenated DataFrame\n",
    "    return pd.concat([variance_ratios, components], axis = 1)"
   ]
  },
  {
   "cell_type": "code",
   "execution_count": 152,
   "metadata": {},
   "outputs": [
    {
     "data": {
      "text/plain": [
       "17"
      ]
     },
     "execution_count": 152,
     "metadata": {},
     "output_type": "execute_result"
    }
   ],
   "source": [
    "len(X_col)"
   ]
  },
  {
   "cell_type": "code",
   "execution_count": 106,
   "metadata": {},
   "outputs": [
    {
     "name": "stdout",
     "output_type": "stream",
     "text": [
      "1 0.2670528115633474\n",
      "2 0.46541511438481187\n",
      "3 0.6042701834853892\n",
      "4 0.7168655615012945\n",
      "5 0.8031426674986903\n",
      "6 0.8839387338577629\n",
      "7 0.9311225654632872\n",
      "8 0.9568819699005632\n",
      "9 0.9799736306582754\n",
      "10 0.9896778961231533\n",
      "11 0.9937185192041474\n",
      "12 0.9975125234626429\n",
      "13 0.9997142913981382\n",
      "14 1.0\n",
      "15 1.0\n",
      "16 1.0\n"
     ]
    }
   ],
   "source": [
    "# RUN PCA for all dimentionality, find >=85%   \n",
    "\n",
    "pca_summary = []\n",
    "for x in range(1,events_merged_std[X_col].shape[1]):\n",
    "    if x%1 == 0:\n",
    "        pca=PCA(x)\n",
    "        X_pca = pca.fit_transform(events_merged_std[X_col])\n",
    "        pca_summary.append(pca.explained_variance_ratio_.sum())\n",
    "        print(x, pca.explained_variance_ratio_.sum())\n"
   ]
  },
  {
   "cell_type": "code",
   "execution_count": 134,
   "metadata": {},
   "outputs": [
    {
     "data": {
      "text/plain": [
       "0.9997142913981378"
      ]
     },
     "execution_count": 134,
     "metadata": {},
     "output_type": "execute_result"
    },
    {
     "data": {
      "image/png": "[encoded data removed]",
      "text/plain": [
       "<Figure size 720x432 with 1 Axes>"
      ]
     },
     "metadata": {},
     "output_type": "display_data"
    }
   ],
   "source": [
    "pca13=PCA(13)\n",
    "X_pca13 = pca13.fit_transform(events_merged_std[X_col])\n",
    "fig_4_1a = scree_plot(pca13,'Fig 4.1a: ')\n",
    "pca13.explained_variance_ratio_.sum()"
   ]
  },
  {
   "cell_type": "code",
   "execution_count": 135,
   "metadata": {},
   "outputs": [
    {
     "data": {
      "text/plain": [
       "0.9311225654632881"
      ]
     },
     "execution_count": 135,
     "metadata": {},
     "output_type": "execute_result"
    },
    {
     "data": {
      "image/png": "[encoded data removed]",
      "text/plain": [
       "<Figure size 720x432 with 1 Axes>"
      ]
     },
     "metadata": {},
     "output_type": "display_data"
    }
   ],
   "source": [
    "pca7=PCA(7)\n",
    "X_pca7 = pca7.fit_transform(events_merged_std[X_col])\n",
    "fig_4_1b = scree_plot(pca7,'Fig 4.1b: ')\n",
    "pca7.explained_variance_ratio_.sum()"
   ]
  },
  {
   "cell_type": "code",
   "execution_count": 112,
   "metadata": {},
   "outputs": [],
   "source": [
    "dump(pca7,'pca7.model')\n",
    "\n",
    "dump(X_pca7,'X_pca7.numpy')"
   ]
  },
  {
   "cell_type": "code",
   "execution_count": null,
   "metadata": {},
   "outputs": [],
   "source": []
  },
  {
   "cell_type": "code",
   "execution_count": null,
   "metadata": {},
   "outputs": [],
   "source": []
  },
  {
   "cell_type": "code",
   "execution_count": 115,
   "metadata": {},
   "outputs": [],
   "source": [
    "#Modifeid version of function from helper_functions.py in MiniPCA \n",
    "def pca_results_rng(full_dataset, pca,dim_rng,pltpca=False):\n",
    "    '''\n",
    "    Create a DataFrame of the PCA results\n",
    "    Includes dimension feature weights and explained variance\n",
    "    Visualizes the PCA results\n",
    "    \n",
    "    input: \n",
    "    full_dataset = is the full dataset that was transformed\n",
    "    pca = is the fit_transformed pca\n",
    "    dim_rng: list of size to of the first and last dimention to be displayed\n",
    "    \n",
    "    '''\n",
    "    dim_rng[0] = dim_rng[0] - 1  #because first dimention is at index 0\n",
    "    \n",
    "    # Dimension indexing\n",
    "    dimensions = ['Dimension {}'.format(i) for i in range(1, len(pca.components_)+1)]\n",
    "    dim = dimensions[dim_rng[0]:dim_rng[1]]\n",
    "    \n",
    "    # PCA components\n",
    "    components = pd.DataFrame(np.round(pca.components_, 4), columns = full_dataset.keys())\n",
    "    components.index = dimensions\n",
    "    comp = components.iloc[dim_rng[0]:dim_rng[1]]\n",
    "\n",
    "    # PCA explained variance\n",
    "    ratios = pca.explained_variance_ratio_.reshape(len(pca.components_), 1)\n",
    "    variance_ratios = pd.DataFrame(np.round(ratios, 4), columns = ['Explained Variance'])\n",
    "    variance_ratios.index = dimensions\n",
    "    vr = variance_ratios.iloc[dim_rng[0]:dim_rng[1]]\n",
    "\n",
    "    if pltpca == True:\n",
    "        fig, ax = plt.subplots(figsize = (20,8))\n",
    "\n",
    "        # Plot the feature weights as a function of the components\n",
    "        comp.plot(ax = ax, kind = 'bar');\n",
    "        ax.set_ylabel(\"Feature Weights\")\n",
    "        ax.set_xticklabels(dim, rotation=0)\n",
    "\n",
    "        # Display the explained variance ratios\n",
    "        for i, ev in enumerate(pca.explained_variance_ratio_):\n",
    "            if int(i) >= dim_rng[0] and int(i) < dim_rng[1]:\n",
    "                ax.text(i-dim_rng[0], ax.get_ylim()[1], \"Explained Variance\\n%.4f\"%(ev))\n",
    "\n",
    "    # Return a concatenated DataFrame\n",
    "    return pd.concat([vr, comp], axis = 1)"
   ]
  },
  {
   "cell_type": "code",
   "execution_count": 195,
   "metadata": {},
   "outputs": [],
   "source": [
    "res = pca_results_rng(events_merged_std[X_col],pca7,[1,6])\n",
    "\n",
    "\n",
    "\n",
    "res.drop(columns=['Explained Variance'],inplace=True)\n",
    "res.reset_index(inplace=True)\n",
    "res.rename(columns={'index':'Dim'},inplace=True)"
   ]
  },
  {
   "cell_type": "code",
   "execution_count": 198,
   "metadata": {},
   "outputs": [],
   "source": [
    "res_melt = res.melt(id_vars=['Dim'])"
   ]
  },
  {
   "cell_type": "code",
   "execution_count": 207,
   "metadata": {},
   "outputs": [
    {
     "data": {
      "text/plain": [
       "Index(['Dim', 'duration', 'time', 'age', 'income', 'gender_F', 'gender_M',\n",
       "       'gender_O', 'memb_leng', 'difficulty', 'email', 'mobile', 'social',\n",
       "       'web', 'offer_bogo', 'offer_discount', 'offer_informational',\n",
       "       'reward_offd'],\n",
       "      dtype='object')"
      ]
     },
     "execution_count": 207,
     "metadata": {},
     "output_type": "execute_result"
    }
   ],
   "source": [
    "res.columns"
   ]
  },
  {
   "cell_type": "code",
   "execution_count": 215,
   "metadata": {},
   "outputs": [],
   "source": [
    "demo_feat = ['age', 'income', 'gender_F', 'gender_M','gender_O', 'memb_leng']\n",
    "offer_feat = ['duration','difficulty','offer_bogo', 'offer_discount', 'offer_informational','reward_offd']\n",
    "communication_feat = ['email', 'mobile', 'social','web']"
   ]
  },
  {
   "cell_type": "code",
   "execution_count": null,
   "metadata": {},
   "outputs": [],
   "source": []
  },
  {
   "cell_type": "code",
   "execution_count": 228,
   "metadata": {},
   "outputs": [
    {
     "data": {
      "image/png": "[encoded data removed]",
      "text/plain": [
       "<Figure size 1152x1296 with 3 Axes>"
      ]
     },
     "metadata": {},
     "output_type": "display_data"
    }
   ],
   "source": [
    "fig_4_1c, ax_4_1c = plt.subplots(nrows = 3, ncols=1, sharex=True,sharey=True ,figsize=(16, 18))\n",
    "sns.barplot(data=res_melt[res_melt['variable'].isin(demo_feat)],x='Dim',y='value',hue='variable',ax=ax_4_1c[0]);\n",
    "sns.barplot(data=res_melt[res_melt['variable'].isin(offer_feat)],x='Dim',y='value',hue='variable',ax=ax_4_1c[1]);\n",
    "sns.barplot(data=res_melt[res_melt['variable'].isin(communication_feat)],x='Dim',y='value',hue='variable',ax=ax_4_1c[2]);\n",
    "fig_4_1c.subplots_adjust(hspace = 0)"
   ]
  },
  {
   "cell_type": "code",
   "execution_count": null,
   "metadata": {},
   "outputs": [],
   "source": []
  },
  {
   "cell_type": "code",
   "execution_count": null,
   "metadata": {},
   "outputs": [],
   "source": [
    "sns.barplot(data=res_melt[res_melt['variable'].isin(['offer_bogo','offer_discount','offer_informational'])],x='Dim',y='value',hue='variable');"
   ]
  },
  {
   "cell_type": "code",
   "execution_count": null,
   "metadata": {},
   "outputs": [],
   "source": [
    "sns.barplot(data=res_melt[res_melt['variable'].isin(['offer_bogo','offer_discount','offer_informational'])],x='Dim',y='value',hue='variable');"
   ]
  },
  {
   "cell_type": "code",
   "execution_count": 169,
   "metadata": {},
   "outputs": [
    {
     "data": {
      "text/plain": [
       "income            0.6995\n",
       "age               0.6813\n",
       "gender_F          0.1476\n",
       "memb_leng         0.0558\n",
       "duration         -0.0017\n",
       "web              -0.0018\n",
       "offer_discount   -0.0025\n",
       "gender_M         -0.1472\n",
       "Name: Dimension 1, dtype: float64"
      ]
     },
     "execution_count": 169,
     "metadata": {},
     "output_type": "execute_result"
    }
   ],
   "source": [
    "dim1_feat = res.loc['Dimension 1',:].sort_values(ascending=False)[:4].append(res.loc['Dimension 1',:].sort_values(ascending=False)[-4:])"
   ]
  },
  {
   "cell_type": "code",
   "execution_count": null,
   "metadata": {},
   "outputs": [],
   "source": []
  },
  {
   "cell_type": "code",
   "execution_count": null,
   "metadata": {},
   "outputs": [],
   "source": []
  },
  {
   "cell_type": "markdown",
   "metadata": {},
   "source": [
    "#### 4.2 Find K-Means\n",
    "<a id='sec_4_2'></a>\n",
    "<a href='#TOC'>Jump to top</a>"
   ]
  },
  {
   "cell_type": "code",
   "execution_count": 54,
   "metadata": {},
   "outputs": [],
   "source": [
    "df_Xpca7 = pd.DataFrame(X_pca7)\n",
    "toy_dataset = df_Xpca7.sample(n=int(df_Xpca7.shape[0]*0.3))"
   ]
  },
  {
   "cell_type": "code",
   "execution_count": 55,
   "metadata": {},
   "outputs": [
    {
     "name": "stdout",
     "output_type": "stream",
     "text": [
      "Fitting  1  kmean centers \n",
      "Loop  1  took  0.0038028955459594727  minutes to complete\n",
      "Fitting  2  kmean centers \n",
      "Loop  2  took  0.015733110904693603  minutes to complete\n",
      "Fitting  3  kmean centers \n",
      "Loop  3  took  0.015150908629099529  minutes to complete\n",
      "Fitting  4  kmean centers \n",
      "Loop  4  took  0.022139549255371094  minutes to complete\n",
      "Fitting  5  kmean centers \n",
      "Loop  5  took  0.025290540854136147  minutes to complete\n",
      "Fitting  6  kmean centers \n",
      "Loop  6  took  0.03191139300664266  minutes to complete\n",
      "Fitting  7  kmean centers \n",
      "Loop  7  took  0.04608199199040731  minutes to complete\n",
      "Fitting  8  kmean centers \n",
      "Loop  8  took  0.0535159707069397  minutes to complete\n",
      "Fitting  9  kmean centers \n",
      "Loop  9  took  0.059661428133646645  minutes to complete\n",
      "Fitting  10  kmean centers \n",
      "Loop  10  took  0.07664281924565633  minutes to complete\n",
      "Fitting  11  kmean centers \n",
      "Loop  11  took  0.08222150405248006  minutes to complete\n",
      "Fitting  12  kmean centers \n",
      "Loop  12  took  0.08832186460494995  minutes to complete\n",
      "Fitting  13  kmean centers \n",
      "Loop  13  took  0.11794242461522421  minutes to complete\n",
      "Fitting  14  kmean centers \n",
      "Loop  14  took  0.11782692273457845  minutes to complete\n",
      "Fitting  15  kmean centers \n",
      "Loop  15  took  0.10851488113403321  minutes to complete\n",
      "Fitting  16  kmean centers \n",
      "Loop  16  took  0.1301315704981486  minutes to complete\n",
      "Fitting  17  kmean centers \n",
      "Loop  17  took  0.16697028080622356  minutes to complete\n",
      "Fitting  18  kmean centers \n",
      "Loop  18  took  0.17644946177800497  minutes to complete\n",
      "Fitting  19  kmean centers \n",
      "Loop  19  took  0.14949234326680502  minutes to complete\n",
      "Fitting  20  kmean centers \n",
      "Loop  20  took  0.18574376900990805  minutes to complete\n",
      "Fitting  21  kmean centers \n",
      "Loop  21  took  0.19289005994796754  minutes to complete\n",
      "Fitting  22  kmean centers \n",
      "Loop  22  took  0.22498262723286946  minutes to complete\n",
      "Fitting  23  kmean centers \n",
      "Loop  23  took  0.2608788887659709  minutes to complete\n",
      "Fitting  24  kmean centers \n",
      "Loop  24  took  0.26154917081197104  minutes to complete\n",
      "Fitting  25  kmean centers \n",
      "Loop  25  took  0.27499233881632484  minutes to complete\n",
      "Fitting  26  kmean centers \n",
      "Loop  26  took  0.22614439725875854  minutes to complete\n",
      "Fitting  27  kmean centers \n",
      "Loop  27  took  0.29000165859858196  minutes to complete\n",
      "Fitting  28  kmean centers \n",
      "Loop  28  took  0.2531821330388387  minutes to complete\n",
      "Fitting  29  kmean centers \n",
      "Loop  29  took  0.3001675526301066  minutes to complete\n",
      "Fitting  30  kmean centers \n",
      "Loop  30  took  0.3342599391937256  minutes to complete\n"
     ]
    }
   ],
   "source": [
    "centers_t = []\n",
    "scores_t = []\n",
    "\n",
    "for ii in range(1,31):\n",
    "    \n",
    "    if ii>1:\n",
    "        k_pick_t = open('kdict_t.pickle',\"rb\")\n",
    "        k_dict_t = pickle.load(k_pick_t)\n",
    "        scores_t = k_dict_t['scores']\n",
    "        centers_t = k_dict_t['centers']\n",
    "    \n",
    "    #if ii>=centers_t[len(centers_t)-1]:\n",
    "    time1 = time.time()\n",
    "    print('Fitting ',ii,' kmean centers ')\n",
    "    kmeans_t = KMeans(ii)\n",
    "    model_t = kmeans_t.fit(toy_dataset.values)\n",
    "    labels_t = model_t.predict(toy_dataset.values)\n",
    "    centers_t.append(ii)\n",
    "    scores_t.append(abs(model_t.score(toy_dataset)))\n",
    "    time2 = (time.time() - time1)/60\n",
    "    print('Loop ',ii,' took ', time2, ' minutes to complete')\n",
    "\n",
    "    k_dict_t = {'scores': scores_t,\n",
    "             'centers': centers_t}\n",
    "\n",
    "    k_pick_t = open('kdict_t.pickle',\"wb\")\n",
    "    pickle.dump(k_dict_t,k_pick_t)"
   ]
  },
  {
   "cell_type": "code",
   "execution_count": 56,
   "metadata": {},
   "outputs": [
    {
     "data": {
      "text/plain": [
       "[1,\n",
       " 2,\n",
       " 3,\n",
       " 4,\n",
       " 5,\n",
       " 6,\n",
       " 7,\n",
       " 8,\n",
       " 9,\n",
       " 10,\n",
       " 11,\n",
       " 12,\n",
       " 13,\n",
       " 14,\n",
       " 15,\n",
       " 16,\n",
       " 17,\n",
       " 18,\n",
       " 19,\n",
       " 20,\n",
       " 21,\n",
       " 22,\n",
       " 23,\n",
       " 24,\n",
       " 25,\n",
       " 26,\n",
       " 27,\n",
       " 28,\n",
       " 29,\n",
       " 30]"
      ]
     },
     "execution_count": 56,
     "metadata": {},
     "output_type": "execute_result"
    }
   ],
   "source": [
    "k_dict_t['centers']"
   ]
  },
  {
   "cell_type": "code",
   "execution_count": 57,
   "metadata": {},
   "outputs": [],
   "source": [
    "\n",
    "\n",
    "kmeans_scores = pd.DataFrame({'centers': k_dict_t['centers'],'scores': k_dict_t['scores']})\n",
    "kmeans_scores = kmeans_scores.drop_duplicates('centers')"
   ]
  },
  {
   "cell_type": "code",
   "execution_count": 58,
   "metadata": {},
   "outputs": [
    {
     "data": {
      "image/png": "[encoded data removed]",
      "text/plain": [
       "<Figure size 432x288 with 1 Axes>"
      ]
     },
     "metadata": {
      "needs_background": "light"
     },
     "output_type": "display_data"
    }
   ],
   "source": [
    "#5% sample\n",
    "plt.plot(kmeans_scores['centers'],kmeans_scores['scores'], linestyle='--', marker='o', color='b');\n",
    "plt.xlabel('K-(K_-1)');\n",
    "plt.ylabel('Delta_SSE');\n",
    "plt.xticks(np.arange(1,30,step=2));\n",
    "plt.grid()\n",
    "plt.title('Delta_SSE vs. K-(K_-1)');"
   ]
  },
  {
   "cell_type": "code",
   "execution_count": 59,
   "metadata": {},
   "outputs": [
    {
     "data": {
      "image/png": "[encoded data removed]",
      "text/plain": [
       "<Figure size 432x288 with 1 Axes>"
      ]
     },
     "metadata": {
      "needs_background": "light"
     },
     "output_type": "display_data"
    }
   ],
   "source": [
    "#5% sample\n",
    "plt.plot(kmeans_scores['centers'],kmeans_scores['scores'].diff(), linestyle='--', marker='o', color='b');\n",
    "plt.xlabel('K-(K_-1)');\n",
    "plt.ylabel('Delta_SSE');\n",
    "plt.xticks(np.arange(1,30,step=2));\n",
    "plt.grid()\n",
    "plt.title('Delta_SSE vs. K-(K_-1)');"
   ]
  },
  {
   "cell_type": "code",
   "execution_count": 60,
   "metadata": {},
   "outputs": [],
   "source": [
    "K5 = KMeans(5)"
   ]
  },
  {
   "cell_type": "code",
   "execution_count": 61,
   "metadata": {},
   "outputs": [
    {
     "data": {
      "text/plain": [
       "KMeans(algorithm='auto', copy_x=True, init='k-means++', max_iter=300,\n",
       "    n_clusters=5, n_init=10, n_jobs=1, precompute_distances='auto',\n",
       "    random_state=None, tol=0.0001, verbose=0)"
      ]
     },
     "execution_count": 61,
     "metadata": {},
     "output_type": "execute_result"
    }
   ],
   "source": [
    "K5.fit(X_pca7)"
   ]
  },
  {
   "cell_type": "code",
   "execution_count": 62,
   "metadata": {},
   "outputs": [
    {
     "data": {
      "text/plain": [
       "['K5.model']"
      ]
     },
     "execution_count": 62,
     "metadata": {},
     "output_type": "execute_result"
    }
   ],
   "source": [
    "dump(K5,'K5.model')"
   ]
  },
  {
   "cell_type": "code",
   "execution_count": null,
   "metadata": {},
   "outputs": [],
   "source": []
  },
  {
   "cell_type": "markdown",
   "metadata": {},
   "source": [
    "### 4.1 - Segment and Apply Models to Population Segments"
   ]
  },
  {
   "cell_type": "code",
   "execution_count": 63,
   "metadata": {},
   "outputs": [],
   "source": [
    "pca_model = load('pca7.model')\n",
    "kmeans_model = load('K5.model')"
   ]
  },
  {
   "cell_type": "code",
   "execution_count": 64,
   "metadata": {},
   "outputs": [],
   "source": [
    "ems_viewed_false = events_merged_std[events_merged_std['event_offer_viewed']==0]\n",
    "ems_viewed_true = events_merged_std[events_merged_std['event_offer_viewed']==1]\n",
    "ems_purch_false = ems_viewed_true[ems_viewed_true['event_offer_completed']==0]\n",
    "ems_purch_true = ems_viewed_true[ems_viewed_true['event_offer_completed']==1]"
   ]
  },
  {
   "cell_type": "code",
   "execution_count": 65,
   "metadata": {},
   "outputs": [],
   "source": [
    "Xpca_ems_all = pca_model.transform(events_merged_std[X_col])\n",
    "Xpca_emsv_false = pca_model.transform(ems_viewed_false[X_col])\n",
    "Xpca_emsv_true = pca_model.transform(ems_viewed_true[X_col])\n",
    "Xpca_emsp_false = pca_model.transform(ems_purch_false[X_col])\n",
    "Xpca_emsp_true = pca_model.transform(ems_purch_true[X_col])"
   ]
  },
  {
   "cell_type": "code",
   "execution_count": 66,
   "metadata": {},
   "outputs": [],
   "source": [
    "k_ems_all = kmeans_model.predict(Xpca_ems_all)\n",
    "k_emsv_false = kmeans_model.predict(Xpca_emsv_false)\n",
    "k_emsv_true = kmeans_model.predict(Xpca_emsv_true)\n",
    "k_emsp_false = kmeans_model.predict(Xpca_emsp_false)\n",
    "k_emsp_true = kmeans_model.predict(Xpca_emsp_true)"
   ]
  },
  {
   "cell_type": "code",
   "execution_count": null,
   "metadata": {},
   "outputs": [],
   "source": []
  },
  {
   "cell_type": "code",
   "execution_count": 67,
   "metadata": {},
   "outputs": [],
   "source": [
    "label_all= np.unique(k_ems_all,return_counts=True)\n",
    "label_v_false = np.unique(k_emsv_false,return_counts=True)\n",
    "label_v_true = np.unique(k_emsv_true,return_counts=True)\n",
    "label_p_false = np.unique(k_emsp_false,return_counts=True)\n",
    "label_p_true = np.unique(k_emsp_true,return_counts=True)"
   ]
  },
  {
   "cell_type": "code",
   "execution_count": null,
   "metadata": {},
   "outputs": [],
   "source": []
  },
  {
   "cell_type": "code",
   "execution_count": null,
   "metadata": {},
   "outputs": [],
   "source": []
  },
  {
   "cell_type": "code",
   "execution_count": 68,
   "metadata": {},
   "outputs": [],
   "source": [
    "def props(label): return label[1]/label[1].sum()"
   ]
  },
  {
   "cell_type": "code",
   "execution_count": 69,
   "metadata": {},
   "outputs": [],
   "source": [
    "lprops_all = props(label_all)\n",
    "lprops_v_false = props(label_v_false)\n",
    "lprops_v_true = props(label_v_true)\n",
    "lprops_p_false = props(label_p_false)\n",
    "lprops_p_true = props(label_p_true)"
   ]
  },
  {
   "cell_type": "code",
   "execution_count": 70,
   "metadata": {},
   "outputs": [],
   "source": [
    "props = pd.DataFrame(lprops_all,columns=['all'])\n",
    "props['uviewed'] = lprops_v_false\n",
    "props['viewed'] = lprops_v_true\n",
    "props['viewed_and_nopurch'] = lprops_p_false\n",
    "props['viewed_and_purch'] = lprops_p_true"
   ]
  },
  {
   "cell_type": "code",
   "execution_count": 71,
   "metadata": {},
   "outputs": [],
   "source": [
    "props['id'] = props.index"
   ]
  },
  {
   "cell_type": "code",
   "execution_count": 72,
   "metadata": {},
   "outputs": [
    {
     "data": {
      "text/html": [
       "<div>\n",
       "<style scoped>\n",
       "    .dataframe tbody tr th:only-of-type {\n",
       "        vertical-align: middle;\n",
       "    }\n",
       "\n",
       "    .dataframe tbody tr th {\n",
       "        vertical-align: top;\n",
       "    }\n",
       "\n",
       "    .dataframe thead th {\n",
       "        text-align: right;\n",
       "    }\n",
       "</style>\n",
       "<table border=\"1\" class=\"dataframe\">\n",
       "  <thead>\n",
       "    <tr style=\"text-align: right;\">\n",
       "      <th></th>\n",
       "      <th>all</th>\n",
       "      <th>uviewed</th>\n",
       "      <th>viewed</th>\n",
       "      <th>viewed_and_nopurch</th>\n",
       "      <th>viewed_and_purch</th>\n",
       "      <th>id</th>\n",
       "    </tr>\n",
       "  </thead>\n",
       "  <tbody>\n",
       "    <tr>\n",
       "      <th>0</th>\n",
       "      <td>0.164554</td>\n",
       "      <td>0.153921</td>\n",
       "      <td>0.168377</td>\n",
       "      <td>0.151630</td>\n",
       "      <td>0.182475</td>\n",
       "      <td>0</td>\n",
       "    </tr>\n",
       "    <tr>\n",
       "      <th>1</th>\n",
       "      <td>0.215125</td>\n",
       "      <td>0.211349</td>\n",
       "      <td>0.216482</td>\n",
       "      <td>0.275931</td>\n",
       "      <td>0.166434</td>\n",
       "      <td>1</td>\n",
       "    </tr>\n",
       "    <tr>\n",
       "      <th>2</th>\n",
       "      <td>0.207997</td>\n",
       "      <td>0.192017</td>\n",
       "      <td>0.213742</td>\n",
       "      <td>0.212417</td>\n",
       "      <td>0.214859</td>\n",
       "      <td>2</td>\n",
       "    </tr>\n",
       "    <tr>\n",
       "      <th>3</th>\n",
       "      <td>0.248462</td>\n",
       "      <td>0.273554</td>\n",
       "      <td>0.239441</td>\n",
       "      <td>0.290245</td>\n",
       "      <td>0.196671</td>\n",
       "      <td>3</td>\n",
       "    </tr>\n",
       "    <tr>\n",
       "      <th>4</th>\n",
       "      <td>0.163862</td>\n",
       "      <td>0.169159</td>\n",
       "      <td>0.161958</td>\n",
       "      <td>0.069777</td>\n",
       "      <td>0.239560</td>\n",
       "      <td>4</td>\n",
       "    </tr>\n",
       "  </tbody>\n",
       "</table>\n",
       "</div>"
      ],
      "text/plain": [
       "        all   uviewed    viewed  viewed_and_nopurch  viewed_and_purch  id\n",
       "0  0.164554  0.153921  0.168377            0.151630          0.182475   0\n",
       "1  0.215125  0.211349  0.216482            0.275931          0.166434   1\n",
       "2  0.207997  0.192017  0.213742            0.212417          0.214859   2\n",
       "3  0.248462  0.273554  0.239441            0.290245          0.196671   3\n",
       "4  0.163862  0.169159  0.161958            0.069777          0.239560   4"
      ]
     },
     "execution_count": 72,
     "metadata": {},
     "output_type": "execute_result"
    }
   ],
   "source": [
    "props"
   ]
  },
  {
   "cell_type": "code",
   "execution_count": 73,
   "metadata": {},
   "outputs": [],
   "source": [
    "props_view = props[['uviewed','viewed','id']].melt(id_vars=['id'],value_vars=['uviewed','viewed'])\n",
    "props_purch = props[['viewed_and_nopurch','viewed_and_purch','id']].melt(id_vars=['id'],value_vars=['viewed_and_nopurch','viewed_and_purch'])"
   ]
  },
  {
   "cell_type": "code",
   "execution_count": 74,
   "metadata": {},
   "outputs": [],
   "source": [
    "###  Z-Test \n",
    "\n",
    "#H_0: p_0 = p_1\n",
    "#H_1: p_0 < or > p_1\n",
    "\n",
    "\n",
    "n_obs_view = np.array([k_emsv_true.shape[0],k_emsv_false.shape[0]])\n",
    "\n",
    "stat_v = []\n",
    "p_val_v = []\n",
    "\n",
    "for obs in zip(label_v_true[1],label_v_false[1]):\n",
    "    stat,pval = proportions_ztest(np.array([obs[0],obs[1]]),n_obs_view,alternative='two-sided')\n",
    "    stat_v.append(stat)\n",
    "    p_val_v.append(pval)\n",
    "\n",
    "n_obs_purch = np.array([k_emsp_true.shape[0],k_emsp_false.shape[0]])\n",
    "\n",
    "stat_p = []\n",
    "p_val_p = []\n",
    "\n",
    "for obs in zip(label_p_true[1],label_p_false[1]):\n",
    "    stat,pval = proportions_ztest(np.array([obs[0],obs[1]]),n_obs_purch,alternative='two-sided')\n",
    "    stat_p.append(stat)\n",
    "    p_val_p.append(pval)\n",
    "    "
   ]
  },
  {
   "cell_type": "code",
   "execution_count": 97,
   "metadata": {},
   "outputs": [
    {
     "name": "stderr",
     "output_type": "stream",
     "text": [
      "C:\\Users\\thoma\\Anaconda3\\lib\\site-packages\\matplotlib\\figure.py:459: UserWarning: matplotlib is currently using a non-GUI backend, so cannot show the figure\n",
      "  \"matplotlib is currently using a non-GUI backend, \"\n"
     ]
    },
    {
     "data": {
      "image/png": "[encoded data removed]",
      "text/plain": [
       "<Figure size 864x288 with 2 Axes>"
      ]
     },
     "metadata": {},
     "output_type": "display_data"
    }
   ],
   "source": [
    "fig_4_1a, ax_4_1 = plt.subplots(nrows=1, ncols=2,sharey=True,figsize=(12,4))\n",
    "fig_4_1a.suptitle('A paired comparison of population proportion by k-mean cluster')\n",
    "fig_4_1a.subplots_adjust(wspace = 0)\n",
    "sns.barplot(data=props_view,x='id',y='value',hue='variable',ax=ax_4_1[0])\n",
    "\n",
    "col1 = 'red'\n",
    "col2 = 'blue'\n",
    "\n",
    "t1_yoffsets = []\n",
    "for x in ax_4_1[0].get_xticks():\n",
    "    t1_yoffsets.append(props_view[props_view['id']==x]['value'].max())\n",
    "    if p_val_v[x] < 0.01:\n",
    "        ax_4_1[0].text(x, t1_yoffsets[x]+0.005 , \"**\", fontsize=16,ha='center', va='bottom', color=col1)\n",
    "        continue\n",
    "    elif p_val_v[x] < 0.05:\n",
    "        ax_4_1[0].text(x, t1_yoffsets[x]+0.005 , \"*\", fontsize=16,ha='center', va='bottom', color=col2)\n",
    "        continue\n",
    "\n",
    "ax_4_1[0].set_ybound(0,props_view['value'].max()+0.1)\n",
    "\n",
    "\n",
    "sns.barplot(data=props_purch,x='id',y='value',hue='variable',ax=ax_4_1[1])\n",
    "\n",
    "t2_yoffsets = []\n",
    "for x in ax_4_1[1].get_xticks():\n",
    "    t2_yoffsets.append(props_purch[props_purch['id']==x]['value'].max())\n",
    "    if p_val_p[x] < 0.01:\n",
    "        ax_4_1[1].text(x, t2_yoffsets[x] , \"**\", fontsize=16,ha='center', va='bottom', color=col1)\n",
    "        continue\n",
    "    elif p_val_p[x] < 0.05:\n",
    "        ax_4_1[1].text(x, t2_yoffsets[x] , \"*\", fontsize=16,ha='center', va='bottom', color=col2)\n",
    "        continue\n",
    "\n",
    "ax_4_1[1].set_xlabel('K_mean cluster')\n",
    "ax_4_1[0].set_xlabel('K_mean cluster')\n",
    "ax_4_1[0].set_ylabel('proportion of population')\n",
    "ax_4_1[1].set_ylabel('')\n",
    "ax_4_1[1].set_ybound(0,props_purch['value'].max()+0.15)\n",
    "ax_4_1[0].annotate(s='* :  p < 0.05',xy=(0,0.4), fontsize=11)\n",
    "ax_4_1[0].annotate(s='** : p < 0.01',xy=(0,0.36), fontsize=11)\n",
    "fig_4_1a.show()"
   ]
  },
  {
   "cell_type": "code",
   "execution_count": null,
   "metadata": {},
   "outputs": [],
   "source": []
  },
  {
   "cell_type": "code",
   "execution_count": 178,
   "metadata": {},
   "outputs": [],
   "source": [
    "pd.DataFrame(res_by_dim['Dimension 1']).to_csv('Dim_1v.csv')"
   ]
  },
  {
   "cell_type": "markdown",
   "metadata": {},
   "source": [
    "#### Viewed v Unviewed\n",
    "High Significant difference (p < 0.01) in clusters 0,1, and 4\n",
    "Significant difference (P < 0.05) in cluster 3\n",
    "\n",
    "#### Viewed and Purchased v Not-Purchased\n",
    "High Significant difference (p < 0.01) in clusters 0,1,2,3"
   ]
  },
  {
   "cell_type": "code",
   "execution_count": null,
   "metadata": {},
   "outputs": [],
   "source": []
  },
  {
   "cell_type": "code",
   "execution_count": null,
   "metadata": {},
   "outputs": [],
   "source": []
  },
  {
   "cell_type": "code",
   "execution_count": null,
   "metadata": {},
   "outputs": [],
   "source": []
  },
  {
   "cell_type": "markdown",
   "metadata": {},
   "source": [
    "### 4.3 - Analize clusters for comprehension of differences\n",
    "<a id='sec_4_3'></a>\n",
    "<a href='#TOC'>Jump to Top</a>"
   ]
  },
  {
   "cell_type": "code",
   "execution_count": null,
   "metadata": {},
   "outputs": [],
   "source": []
  },
  {
   "cell_type": "code",
   "execution_count": 76,
   "metadata": {},
   "outputs": [],
   "source": [
    "df_Xpca_ems_all = pd.DataFrame(Xpca_ems_all)\n",
    "df_Xpca_emsv_true = pd.DataFrame(Xpca_emsv_true)\n",
    "df_Xpca_emsv_false = pd.DataFrame(Xpca_emsv_false)\n",
    "df_Xpca_emsp_true = pd.DataFrame(Xpca_emsp_true)\n",
    "df_Xpca_emsp_false = pd.DataFrame(Xpca_emsp_false)\n",
    "df_Xpca_ems_all['cluster'] = k_ems_all\n",
    "df_Xpca_emsv_true['cluster'] = k_emsv_true\n",
    "df_Xpca_emsv_false['cluster'] = k_emsv_false\n",
    "df_Xpca_emsp_true['cluster'] = k_emsp_true\n",
    "df_Xpca_emsp_false['cluster'] = k_emsp_false\n"
   ]
  },
  {
   "cell_type": "code",
   "execution_count": 77,
   "metadata": {},
   "outputs": [],
   "source": [
    "\n",
    "df_Xpca_emsv_true['purchase'] = True\n",
    "df_Xpca_emsv_false['purchase'] = False\n",
    "df_Xpca_emsp_true['purchase'] = True\n",
    "df_Xpca_emsp_false['purchase'] = False\n"
   ]
  },
  {
   "cell_type": "code",
   "execution_count": 78,
   "metadata": {},
   "outputs": [],
   "source": [
    "df_Xpca_emsv = df_Xpca_emsv_true.append(df_Xpca_emsv_false)\n",
    "df_Xpca_emsp = df_Xpca_emsp_true.append(df_Xpca_emsp_false)"
   ]
  },
  {
   "cell_type": "code",
   "execution_count": 79,
   "metadata": {},
   "outputs": [
    {
     "data": {
      "text/html": [
       "<div>\n",
       "<style scoped>\n",
       "    .dataframe tbody tr th:only-of-type {\n",
       "        vertical-align: middle;\n",
       "    }\n",
       "\n",
       "    .dataframe tbody tr th {\n",
       "        vertical-align: top;\n",
       "    }\n",
       "\n",
       "    .dataframe thead th {\n",
       "        text-align: right;\n",
       "    }\n",
       "</style>\n",
       "<table border=\"1\" class=\"dataframe\">\n",
       "  <thead>\n",
       "    <tr style=\"text-align: right;\">\n",
       "      <th></th>\n",
       "      <th>0</th>\n",
       "      <th>1</th>\n",
       "      <th>2</th>\n",
       "      <th>3</th>\n",
       "      <th>4</th>\n",
       "      <th>5</th>\n",
       "      <th>6</th>\n",
       "      <th>cluster</th>\n",
       "    </tr>\n",
       "  </thead>\n",
       "  <tbody>\n",
       "    <tr>\n",
       "      <th>0</th>\n",
       "      <td>2.088505</td>\n",
       "      <td>-0.305110</td>\n",
       "      <td>-0.329801</td>\n",
       "      <td>-0.276201</td>\n",
       "      <td>0.331069</td>\n",
       "      <td>-0.322562</td>\n",
       "      <td>0.847709</td>\n",
       "      <td>2</td>\n",
       "    </tr>\n",
       "    <tr>\n",
       "      <th>1</th>\n",
       "      <td>-0.629864</td>\n",
       "      <td>1.839888</td>\n",
       "      <td>1.070290</td>\n",
       "      <td>-0.294122</td>\n",
       "      <td>-0.256098</td>\n",
       "      <td>-0.299642</td>\n",
       "      <td>0.839300</td>\n",
       "      <td>0</td>\n",
       "    </tr>\n",
       "    <tr>\n",
       "      <th>2</th>\n",
       "      <td>-1.703955</td>\n",
       "      <td>0.630960</td>\n",
       "      <td>0.492680</td>\n",
       "      <td>-0.295469</td>\n",
       "      <td>-0.157481</td>\n",
       "      <td>-0.299264</td>\n",
       "      <td>0.843596</td>\n",
       "      <td>3</td>\n",
       "    </tr>\n",
       "    <tr>\n",
       "      <th>3</th>\n",
       "      <td>-1.604972</td>\n",
       "      <td>-1.116853</td>\n",
       "      <td>0.661193</td>\n",
       "      <td>-0.301182</td>\n",
       "      <td>-0.229532</td>\n",
       "      <td>-0.301909</td>\n",
       "      <td>0.849083</td>\n",
       "      <td>3</td>\n",
       "    </tr>\n",
       "    <tr>\n",
       "      <th>4</th>\n",
       "      <td>0.631163</td>\n",
       "      <td>-0.009890</td>\n",
       "      <td>-0.583770</td>\n",
       "      <td>-0.279511</td>\n",
       "      <td>0.621686</td>\n",
       "      <td>-0.328086</td>\n",
       "      <td>0.844587</td>\n",
       "      <td>2</td>\n",
       "    </tr>\n",
       "  </tbody>\n",
       "</table>\n",
       "</div>"
      ],
      "text/plain": [
       "          0         1         2         3         4         5         6  \\\n",
       "0  2.088505 -0.305110 -0.329801 -0.276201  0.331069 -0.322562  0.847709   \n",
       "1 -0.629864  1.839888  1.070290 -0.294122 -0.256098 -0.299642  0.839300   \n",
       "2 -1.703955  0.630960  0.492680 -0.295469 -0.157481 -0.299264  0.843596   \n",
       "3 -1.604972 -1.116853  0.661193 -0.301182 -0.229532 -0.301909  0.849083   \n",
       "4  0.631163 -0.009890 -0.583770 -0.279511  0.621686 -0.328086  0.844587   \n",
       "\n",
       "   cluster  \n",
       "0        2  \n",
       "1        0  \n",
       "2        3  \n",
       "3        3  \n",
       "4        2  "
      ]
     },
     "execution_count": 79,
     "metadata": {},
     "output_type": "execute_result"
    }
   ],
   "source": [
    "df_Xpca_ems_all.head()"
   ]
  },
  {
   "cell_type": "code",
   "execution_count": 80,
   "metadata": {},
   "outputs": [],
   "source": [
    "df_Xpca_ems_all_melt = df_Xpca_ems_all.melt(id_vars=['cluster'],value_vars=[0, 1, 2, 3, 4, 5, 6],var_name='pca_dim')\n",
    "df_Xpca_emsv_melt = df_Xpca_emsv.melt(id_vars=['cluster','purchase'],value_vars=[0, 1, 2, 3, 4, 5, 6],var_name='pca_dim')\n",
    "df_Xpca_emsp_melt = df_Xpca_emsp.melt(id_vars=['cluster','purchase'],value_vars=[0, 1, 2, 3, 4, 5, 6],var_name='pca_dim')"
   ]
  },
  {
   "cell_type": "code",
   "execution_count": null,
   "metadata": {},
   "outputs": [],
   "source": []
  },
  {
   "cell_type": "code",
   "execution_count": 81,
   "metadata": {},
   "outputs": [],
   "source": [
    "v_clust_sig = [0,1,3,4]\n",
    "p_clust_sig = [0,1,2,3]\n",
    "all_clust_sig = [0,1,2,3,4]"
   ]
  },
  {
   "cell_type": "code",
   "execution_count": null,
   "metadata": {},
   "outputs": [],
   "source": []
  },
  {
   "cell_type": "code",
   "execution_count": 82,
   "metadata": {},
   "outputs": [],
   "source": [
    "p_table_view = pd.DataFrame(columns=['k_mean','pca_dim','p_value'])\n",
    "p_table_purch = pd.DataFrame(columns=['k_mean','pca_dim','p_value'])\n",
    "\n",
    "for k_m in df_Xpca_emsv_melt.cluster.unique():\n",
    "    for p_d in df_Xpca_emsv_melt.pca_dim.unique():\n",
    "        stat,p_val = stats.ttest_ind(df_Xpca_emsv_melt[(df_Xpca_emsv_melt.cluster == k_m) & (df_Xpca_emsv_melt.purchase == False) & (df_Xpca_emsv_melt.pca_dim == p_d)].value,\n",
    "                    df_Xpca_emsv_melt[(df_Xpca_emsv_melt.cluster == k_m) & (df_Xpca_emsv_melt.purchase == True) &  (df_Xpca_emsv_melt.pca_dim == p_d)].value,\n",
    "                    equal_var=False)\n",
    "        p_table_view = p_table_view.append({'k_mean': k_m, 'pca_dim': p_d, 'p_value': p_val},ignore_index=True)\n",
    "            \n",
    "for k_m in df_Xpca_emsp_melt.cluster.unique():\n",
    "    for p_d in df_Xpca_emsp_melt.pca_dim.unique():\n",
    "        stat,p_val = stats.ttest_ind(df_Xpca_emsp_melt[(df_Xpca_emsp_melt.cluster == k_m) & (df_Xpca_emsp_melt.purchase == False) & (df_Xpca_emsp_melt.pca_dim == p_d)].value,\n",
    "                    df_Xpca_emsp_melt[(df_Xpca_emsp_melt.cluster == k_m) & (df_Xpca_emsp_melt.purchase == True) &  (df_Xpca_emsp_melt.pca_dim == p_d)].value,\n",
    "                    equal_var=False)\n",
    "        p_table_purch = p_table_purch.append({'k_mean': k_m, 'pca_dim': p_d, 'p_value': p_val},ignore_index=True)"
   ]
  },
  {
   "cell_type": "code",
   "execution_count": 83,
   "metadata": {},
   "outputs": [],
   "source": [
    "##TODO: Just plot the PCA boxplots for the dimentions that are helpful, using the 'all' data"
   ]
  },
  {
   "cell_type": "code",
   "execution_count": 122,
   "metadata": {},
   "outputs": [
    {
     "data": {
      "text/plain": [
       "array([1, 2, 3, 4, 5, 6, 7], dtype=object)"
      ]
     },
     "execution_count": 122,
     "metadata": {},
     "output_type": "execute_result"
    }
   ],
   "source": [
    "df_Xpca_emsv_melt.pca_dim.unique()+1"
   ]
  },
  {
   "cell_type": "code",
   "execution_count": 150,
   "metadata": {},
   "outputs": [
    {
     "data": {
      "image/png": "[encoded data removed]",
      "text/plain": [
       "<Figure size 648x1080 with 4 Axes>"
      ]
     },
     "metadata": {},
     "output_type": "display_data"
    }
   ],
   "source": [
    "##\n",
    "\n",
    "fig_4_3a, ax_4_3a = plt.subplots(nrows = 4, ncols= 1, sharey=True, figsize=(9,15))\n",
    "for cl in range(len(v_clust_sig)):\n",
    "    sns.boxplot(data=df_Xpca_emsv_melt[df_Xpca_emsv_melt.cluster==v_clust_sig[cl]],x='pca_dim',y='value',ax=ax_4_3a[cl])\n",
    "fig_4_3a.subplots_adjust(hspace = 0)\n",
    "\n",
    "ax_4_3a[0].set_ybound(df_Xpca_emsv_melt.value.min()-0.5,df_Xpca_emsv_melt.value.max()+1)\n",
    "\n",
    "sns.set_style(\"whitegrid\")\n",
    "ax_4_3a[3].set(xticklabels=df_Xpca_emsv_melt.pca_dim.unique()+1);\n",
    "\n"
   ]
  },
  {
   "cell_type": "code",
   "execution_count": 128,
   "metadata": {},
   "outputs": [
    {
     "data": {
      "image/png": "[encoded data removed]",
      "text/plain": [
       "<Figure size 648x1080 with 4 Axes>"
      ]
     },
     "metadata": {},
     "output_type": "display_data"
    }
   ],
   "source": [
    "## Purch Graph\n",
    "\n",
    "fig_4_3b, ax_4_3b = plt.subplots(nrows = 4, ncols= 1,sharey=True, figsize=(9,15))\n",
    "for cl in range(len(p_clust_sig)):\n",
    "    sns.boxplot(data=df_Xpca_emsp_melt[df_Xpca_emsp_melt['cluster']==cl],x='pca_dim',y='value',hue='purchase',ax=ax_4_3b[cl])\n",
    "fig_4_3b.subplots_adjust(hspace = 0)\n",
    "\n",
    "col1 = 'red'\n",
    "col2 = 'blue'\n",
    "\n",
    "for ax in range(len(ax_4_3b)): # loop for every subplot\n",
    "    yoffsets = []  # list to store yoffsets for annotations\n",
    "    for x in ax_4_3b[ax].get_xticks(): # loop through every boxplot in subplot\n",
    "        yoffsets.append(df_Xpca_emsp_melt[(df_Xpca_emsp_melt.cluster==p_clust_sig[ax]) &\n",
    "                                         (df_Xpca_emsp_melt.pca_dim==x)].value.max()) # position above max value\n",
    "        if float(p_table_purch[(p_table_purch.k_mean == p_clust_sig[ax]) & (p_table_view.pca_dim == x)].p_value) < 0.01:\n",
    "            ax_4_3b[ax].text(x, yoffsets[x] , \"**\", fontsize=16,ha='center', va='bottom', color=col1)\n",
    "            continue\n",
    "        elif float(p_table_purch[(p_table_purch.k_mean == p_clust_sig[ax]) & (p_table_purch.pca_dim == x)].p_value) < 0.05:\n",
    "            ax_4_3b[ax].text(x, yoffsets[x] , \"*\", fontsize=16,ha='center', va='bottom', color=col2)\n",
    "            continue\n",
    "\n",
    "ax_4_3b[0].set_ybound(df_Xpca_emsp_melt.value.min()-0.5,df_Xpca_emsp_melt.value.max()+1)\n",
    "for blah in range(len(ax_4_3b)):\n",
    "    ax_4_3b[blah].annotate(s='k-mean :'+ str(p_clust_sig[blah]),xy=(5,-2),fontsize=12)\n",
    "ax_4_3b[3].set(xticklabels=df_Xpca_emsp_melt.pca_dim.unique()+1);"
   ]
  },
  {
   "cell_type": "code",
   "execution_count": 99,
   "metadata": {},
   "outputs": [],
   "source": [
    "results_4_3_b = df_Xpca_emsp.groupby(by=['cluster','purchase']).mean()\n",
    "results_4_3_b.to_csv('results_4_3_b.csv')"
   ]
  },
  {
   "cell_type": "code",
   "execution_count": null,
   "metadata": {},
   "outputs": [],
   "source": []
  },
  {
   "cell_type": "code",
   "execution_count": 87,
   "metadata": {},
   "outputs": [
    {
     "data": {
      "image/png": "[encoded data removed]",
      "text/plain": [
       "<Figure size 648x1080 with 4 Axes>"
      ]
     },
     "metadata": {},
     "output_type": "display_data"
    }
   ],
   "source": [
    "## View Graph\n",
    "fig_4_3c, ax_4_3c = plt.subplots(nrows = 4, ncols= 1,sharey=True, figsize=(9,15))\n",
    "for cl in range(len(v_clust_sig)):\n",
    "    sns.boxplot(data=df_Xpca_emsv_melt[df_Xpca_emsv_melt['cluster']==cl],x='pca_dim',y='value',hue='purchase',ax=ax_4_3c[cl])\n",
    "fig_4_3c.subplots_adjust(hspace = 0)\n",
    "\n",
    "col1 = 'red'\n",
    "col2 = 'blue'\n",
    "\n",
    "for ax in range(len(ax_4_3c)): # loop for every subplot\n",
    "    yoffsets = []  # list to store yoffsets for annotations\n",
    "    for x in ax_4_3c[ax].get_xticks(): # loop through every boxplot in subplot\n",
    "        yoffsets.append(df_Xpca_emsv_melt[(df_Xpca_emsv_melt.cluster==v_clust_sig[ax]) &\n",
    "                                         (df_Xpca_emsv_melt.pca_dim==x)].value.max()) # position above max value\n",
    "        if float(p_table_view[(p_table_view.k_mean == v_clust_sig[ax]) & (p_table_view.pca_dim == x)].p_value) < 0.01:\n",
    "            ax_4_3c[ax].text(x, yoffsets[x] , \"**\", fontsize=16,ha='center', va='bottom', color=col1)\n",
    "            continue\n",
    "        elif float(p_table_view[(p_table_view.k_mean == p_clust_sig[ax]) & (p_table_view.pca_dim == x)].p_value) < 0.05:\n",
    "            ax_4_3b[ax].text(x, yoffsets[x] , \"*\", fontsize=16,ha='center', va='bottom', color=col2)\n",
    "            continue\n",
    "\n",
    "ax_4_3b[0].set_ybound(df_Xpca_emsv_melt.value.min()-0.5,df_Xpca_emsv_melt.value.max()+1)\n",
    "for blah in range(len(ax_4_3b)):\n",
    "    ax_4_3b[blah].annotate(s='k-mean :'+ str(p_clust_sig[blah]),xy=(5,-2),fontsize=12)"
   ]
  },
  {
   "cell_type": "markdown",
   "metadata": {},
   "source": [
    "#### Huh...\n",
    "\n",
    "Well it looks like almost everything is significant....\n",
    "So I think the most best think to do here is to find where the biggest practical diffierences in median magniture\n",
    "\n",
    "For viewing, i see practical differences in "
   ]
  },
  {
   "cell_type": "code",
   "execution_count": 94,
   "metadata": {},
   "outputs": [
    {
     "data": {
      "text/html": [
       "<div>\n",
       "<style scoped>\n",
       "    .dataframe tbody tr th:only-of-type {\n",
       "        vertical-align: middle;\n",
       "    }\n",
       "\n",
       "    .dataframe tbody tr th {\n",
       "        vertical-align: top;\n",
       "    }\n",
       "\n",
       "    .dataframe thead th {\n",
       "        text-align: right;\n",
       "    }\n",
       "</style>\n",
       "<table border=\"1\" class=\"dataframe\">\n",
       "  <thead>\n",
       "    <tr style=\"text-align: right;\">\n",
       "      <th></th>\n",
       "      <th></th>\n",
       "      <th>0</th>\n",
       "      <th>1</th>\n",
       "      <th>2</th>\n",
       "      <th>3</th>\n",
       "      <th>4</th>\n",
       "      <th>5</th>\n",
       "      <th>6</th>\n",
       "    </tr>\n",
       "    <tr>\n",
       "      <th>cluster</th>\n",
       "      <th>purchase</th>\n",
       "      <th></th>\n",
       "      <th></th>\n",
       "      <th></th>\n",
       "      <th></th>\n",
       "      <th></th>\n",
       "      <th></th>\n",
       "      <th></th>\n",
       "    </tr>\n",
       "  </thead>\n",
       "  <tbody>\n",
       "    <tr>\n",
       "      <th rowspan=\"2\" valign=\"top\">0</th>\n",
       "      <th>False</th>\n",
       "      <td>-0.536648</td>\n",
       "      <td>1.759061</td>\n",
       "      <td>0.222855</td>\n",
       "      <td>0.327341</td>\n",
       "      <td>-0.012459</td>\n",
       "      <td>0.137344</td>\n",
       "      <td>0.322459</td>\n",
       "    </tr>\n",
       "    <tr>\n",
       "      <th>True</th>\n",
       "      <td>-0.329380</td>\n",
       "      <td>1.679042</td>\n",
       "      <td>0.157521</td>\n",
       "      <td>-0.146136</td>\n",
       "      <td>-0.041597</td>\n",
       "      <td>-0.030767</td>\n",
       "      <td>-0.093095</td>\n",
       "    </tr>\n",
       "    <tr>\n",
       "      <th rowspan=\"2\" valign=\"top\">1</th>\n",
       "      <th>False</th>\n",
       "      <td>-0.176333</td>\n",
       "      <td>-0.599674</td>\n",
       "      <td>1.047438</td>\n",
       "      <td>0.268745</td>\n",
       "      <td>-0.045764</td>\n",
       "      <td>0.195552</td>\n",
       "      <td>0.385471</td>\n",
       "    </tr>\n",
       "    <tr>\n",
       "      <th>True</th>\n",
       "      <td>-0.056682</td>\n",
       "      <td>-0.550031</td>\n",
       "      <td>0.938569</td>\n",
       "      <td>-0.215815</td>\n",
       "      <td>-0.036771</td>\n",
       "      <td>-0.031039</td>\n",
       "      <td>-0.120369</td>\n",
       "    </tr>\n",
       "    <tr>\n",
       "      <th rowspan=\"2\" valign=\"top\">2</th>\n",
       "      <th>False</th>\n",
       "      <td>1.295873</td>\n",
       "      <td>-0.115425</td>\n",
       "      <td>-0.448215</td>\n",
       "      <td>-0.424090</td>\n",
       "      <td>0.047111</td>\n",
       "      <td>0.395175</td>\n",
       "      <td>0.258958</td>\n",
       "    </tr>\n",
       "    <tr>\n",
       "      <th>True</th>\n",
       "      <td>1.095054</td>\n",
       "      <td>-0.145957</td>\n",
       "      <td>-0.404168</td>\n",
       "      <td>-0.617131</td>\n",
       "      <td>0.007841</td>\n",
       "      <td>-0.051902</td>\n",
       "      <td>0.078559</td>\n",
       "    </tr>\n",
       "    <tr>\n",
       "      <th rowspan=\"2\" valign=\"top\">3</th>\n",
       "      <th>False</th>\n",
       "      <td>-1.374599</td>\n",
       "      <td>-0.436864</td>\n",
       "      <td>-0.399068</td>\n",
       "      <td>0.401652</td>\n",
       "      <td>0.028916</td>\n",
       "      <td>0.148821</td>\n",
       "      <td>0.367686</td>\n",
       "    </tr>\n",
       "    <tr>\n",
       "      <th>True</th>\n",
       "      <td>-1.264522</td>\n",
       "      <td>-0.429305</td>\n",
       "      <td>-0.418281</td>\n",
       "      <td>-0.168100</td>\n",
       "      <td>0.040110</td>\n",
       "      <td>-0.051908</td>\n",
       "      <td>-0.152266</td>\n",
       "    </tr>\n",
       "    <tr>\n",
       "      <th rowspan=\"2\" valign=\"top\">4</th>\n",
       "      <th>False</th>\n",
       "      <td>1.084131</td>\n",
       "      <td>-0.127515</td>\n",
       "      <td>-0.278475</td>\n",
       "      <td>1.118871</td>\n",
       "      <td>0.027611</td>\n",
       "      <td>-0.200551</td>\n",
       "      <td>0.187469</td>\n",
       "    </tr>\n",
       "    <tr>\n",
       "      <th>True</th>\n",
       "      <td>0.983862</td>\n",
       "      <td>-0.140393</td>\n",
       "      <td>-0.296132</td>\n",
       "      <td>0.782108</td>\n",
       "      <td>0.000465</td>\n",
       "      <td>-0.103491</td>\n",
       "      <td>-0.316023</td>\n",
       "    </tr>\n",
       "  </tbody>\n",
       "</table>\n",
       "</div>"
      ],
      "text/plain": [
       "                         0         1         2         3         4         5  \\\n",
       "cluster purchase                                                               \n",
       "0       False    -0.536648  1.759061  0.222855  0.327341 -0.012459  0.137344   \n",
       "        True     -0.329380  1.679042  0.157521 -0.146136 -0.041597 -0.030767   \n",
       "1       False    -0.176333 -0.599674  1.047438  0.268745 -0.045764  0.195552   \n",
       "        True     -0.056682 -0.550031  0.938569 -0.215815 -0.036771 -0.031039   \n",
       "2       False     1.295873 -0.115425 -0.448215 -0.424090  0.047111  0.395175   \n",
       "        True      1.095054 -0.145957 -0.404168 -0.617131  0.007841 -0.051902   \n",
       "3       False    -1.374599 -0.436864 -0.399068  0.401652  0.028916  0.148821   \n",
       "        True     -1.264522 -0.429305 -0.418281 -0.168100  0.040110 -0.051908   \n",
       "4       False     1.084131 -0.127515 -0.278475  1.118871  0.027611 -0.200551   \n",
       "        True      0.983862 -0.140393 -0.296132  0.782108  0.000465 -0.103491   \n",
       "\n",
       "                         6  \n",
       "cluster purchase            \n",
       "0       False     0.322459  \n",
       "        True     -0.093095  \n",
       "1       False     0.385471  \n",
       "        True     -0.120369  \n",
       "2       False     0.258958  \n",
       "        True      0.078559  \n",
       "3       False     0.367686  \n",
       "        True     -0.152266  \n",
       "4       False     0.187469  \n",
       "        True     -0.316023  "
      ]
     },
     "execution_count": 94,
     "metadata": {},
     "output_type": "execute_result"
    }
   ],
   "source": [
    "df_Xpca_emsv.groupby(by=['cluster','purchase']).mean()"
   ]
  },
  {
   "cell_type": "code",
   "execution_count": null,
   "metadata": {},
   "outputs": [],
   "source": []
  }
 ],
 "metadata": {
  "kernelspec": {
   "display_name": "Python 3",
   "language": "python",
   "name": "python3"
  },
  "language_info": {
   "codemirror_mode": {
    "name": "ipython",
    "version": 3
   },
   "file_extension": ".py",
   "mimetype": "text/x-python",
   "name": "python",
   "nbconvert_exporter": "python",
   "pygments_lexer": "ipython3",
   "version": "3.6.8"
  }
 },
 "nbformat": 4,
 "nbformat_minor": 4
}
